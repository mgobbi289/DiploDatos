{
 "cells": [
  {
   "cell_type": "markdown",
   "metadata": {},
   "source": [
    "# Diplomatura de Datos: Kaggle Competition"
   ]
  },
  {
   "cell_type": "markdown",
   "metadata": {},
   "source": [
    "## Modelo - SVC\n",
    "\n",
    "Necesitamos superar el *baseline* impuesto en la competencia de **Kaggle**.\n",
    "\n",
    "En esta *notebook*, utilizaremos **svm.SVC**."
   ]
  },
  {
   "cell_type": "code",
   "execution_count": 1,
   "metadata": {},
   "outputs": [],
   "source": [
    "# Import the required packages\n",
    "import os\n",
    "\n",
    "import numpy as np\n",
    "import pandas as pd\n",
    "import matplotlib.pyplot as plt"
   ]
  },
  {
   "cell_type": "markdown",
   "metadata": {},
   "source": [
    "#### Lectura de Datos"
   ]
  },
  {
   "cell_type": "code",
   "execution_count": 2,
   "metadata": {},
   "outputs": [],
   "source": [
    "train_df = pd.read_csv('DataSet/travel_insurance_prediction_train.csv')\n",
    "test_df = pd.read_csv('DataSet/travel_insurance_prediction_test.csv')"
   ]
  },
  {
   "cell_type": "markdown",
   "metadata": {},
   "source": [
    "#### Preprocesamiento de Datos"
   ]
  },
  {
   "cell_type": "code",
   "execution_count": 3,
   "metadata": {},
   "outputs": [],
   "source": [
    "# Data Transformation\n",
    "from sklearn.compose import make_column_transformer\n",
    "from sklearn.preprocessing import KBinsDiscretizer, OneHotEncoder\n",
    "\n",
    "bin_cols = ['Age', 'AnnualIncome']\n",
    "hot_cols = ['Employment Type', 'GraduateOrNot', 'FamilyMembers', 'FrequentFlyer', 'EverTravelledAbroad']\n",
    "\n",
    "transformer = make_column_transformer(\n",
    "    # We organize the columns @bin_cols in intervals.\n",
    "    (KBinsDiscretizer(n_bins=5, encode='ordinal', strategy='quantile'), bin_cols),\n",
    "    # We convert the columns @hot_cols in numbers.\n",
    "    (OneHotEncoder(categories='auto', dtype='int', handle_unknown='ignore'), hot_cols),\n",
    "    # We keep the remaining columns.\n",
    "    remainder='passthrough')"
   ]
  },
  {
   "cell_type": "code",
   "execution_count": 4,
   "metadata": {},
   "outputs": [],
   "source": [
    "# Training Data\n",
    "X_train = transformer.fit_transform(train_df.drop(columns=['Customer', 'TravelInsurance']))\n",
    "y_train = train_df['TravelInsurance'].values\n",
    "\n",
    "# Testing Data\n",
    "X_test = transformer.transform(test_df.drop(columns=['Customer']))"
   ]
  },
  {
   "cell_type": "markdown",
   "metadata": {},
   "source": [
    "#### Definición del Modelo (por Defecto)"
   ]
  },
  {
   "cell_type": "code",
   "execution_count": 10,
   "metadata": {},
   "outputs": [
    {
     "data": {
      "text/plain": [
       "SVC(random_state=123)"
      ]
     },
     "execution_count": 10,
     "metadata": {},
     "output_type": "execute_result"
    }
   ],
   "source": [
    "# Default Model\n",
    "import sklearn.svm\n",
    "\n",
    "clf = sklearn.svm.SVC(random_state=123)\n",
    "clf.fit(X_train, y_train)"
   ]
  },
  {
   "cell_type": "code",
   "execution_count": 11,
   "metadata": {},
   "outputs": [
    {
     "name": "stdout",
     "output_type": "stream",
     "text": [
      "              precision    recall  f1-score   support\n",
      "\n",
      "           0       0.79      0.96      0.87       958\n",
      "           1       0.87      0.55      0.67       532\n",
      "\n",
      "    accuracy                           0.81      1490\n",
      "   macro avg       0.83      0.75      0.77      1490\n",
      "weighted avg       0.82      0.81      0.80      1490\n",
      "\n"
     ]
    }
   ],
   "source": [
    "# Verification\n",
    "from sklearn.metrics import classification_report\n",
    "\n",
    "predictions = clf.predict(X_train)\n",
    "print(classification_report(y_train, predictions))"
   ]
  },
  {
   "cell_type": "markdown",
   "metadata": {},
   "source": [
    "Se obtiene un `F1-Score` de **0.67** para la clase positiva."
   ]
  },
  {
   "cell_type": "markdown",
   "metadata": {},
   "source": [
    "#### Definición del Modelo (por Búsqueda de Parámetros)"
   ]
  },
  {
   "cell_type": "code",
   "execution_count": 12,
   "metadata": {},
   "outputs": [],
   "source": [
    "# Parameter Search\n",
    "from sklearn.model_selection import GridSearchCV\n",
    "\n",
    "search_params = {\n",
    "    'kernel': ['linear','poly', 'rbf', 'sigmoid'],\n",
    "    'gamma': ['scale', 'auto'],\n",
    "    'C': [0.05,0.1,0.5,1.]\n",
    "}\n",
    "\n",
    "svm = sklearn.svm.SVC()\n",
    "svm_clf = GridSearchCV(svm, search_params, cv=5, scoring='f1', n_jobs=-1)\n",
    "svm_clf.fit(X_train, y_train)\n",
    "\n",
    "best_svm_clf = svm_clf.best_estimator_"
   ]
  },
  {
   "cell_type": "code",
   "execution_count": 13,
   "metadata": {},
   "outputs": [
    {
     "name": "stdout",
     "output_type": "stream",
     "text": [
      "              precision    recall  f1-score   support\n",
      "\n",
      "           0       0.81      0.96      0.88       958\n",
      "           1       0.88      0.60      0.71       532\n",
      "\n",
      "    accuracy                           0.83      1490\n",
      "   macro avg       0.85      0.78      0.80      1490\n",
      "weighted avg       0.84      0.83      0.82      1490\n",
      "\n"
     ]
    }
   ],
   "source": [
    "# Verification\n",
    "predictions = best_svm_clf.predict(X_train)\n",
    "print(classification_report(y_train, predictions))"
   ]
  },
  {
   "cell_type": "markdown",
   "metadata": {},
   "source": [
    "Se obtiene un `F1-Score` de **0.83** para la clase positiva."
   ]
  },
  {
   "cell_type": "markdown",
   "metadata": {},
   "source": [
    "#### Generación de la Publicación"
   ]
  },
  {
   "cell_type": "code",
   "execution_count": 14,
   "metadata": {},
   "outputs": [],
   "source": [
    "test_id = test_df['Customer']\n",
    "test_pred = best_svm_clf.predict(X_test)\n",
    "\n",
    "submission = pd.DataFrame(list(zip(test_id, test_pred)), columns=['Customer', 'TravelInsurance'])\n",
    "submission.to_csv('DataSet/travel_insurance_submission_svm_GridSearch.csv', header=True, index=False)"
   ]
  }
 ],
 "metadata": {
  "kernelspec": {
   "display_name": "Python 3",
   "language": "python",
   "name": "python3"
  },
  "language_info": {
   "codemirror_mode": {
    "name": "ipython",
    "version": 3
   },
   "file_extension": ".py",
   "mimetype": "text/x-python",
   "name": "python",
   "nbconvert_exporter": "python",
   "pygments_lexer": "ipython3",
   "version": "3.9.1"
  }
 },
 "nbformat": 4,
 "nbformat_minor": 4
}
