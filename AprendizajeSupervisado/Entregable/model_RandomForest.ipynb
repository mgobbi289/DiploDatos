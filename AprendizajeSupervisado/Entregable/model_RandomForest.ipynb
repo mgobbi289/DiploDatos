{
 "cells": [
  {
   "cell_type": "markdown",
   "metadata": {},
   "source": [
    "# Diplomatura de Datos: Kaggle Competition"
   ]
  },
  {
   "cell_type": "markdown",
   "metadata": {},
   "source": [
    "## Modelo - Random Forest\n",
    "\n",
    "Necesitamos superar el *baseline* impuesto en la competencia de **Kaggle**.\n",
    "\n",
    "En esta *notebook*, utilizaremos **Random Forest**."
   ]
  },
  {
   "cell_type": "code",
   "execution_count": 1,
   "metadata": {},
   "outputs": [],
   "source": [
    "# Import the required packages\n",
    "import os\n",
    "\n",
    "import numpy as np\n",
    "import pandas as pd\n",
    "import matplotlib.pyplot as plt"
   ]
  },
  {
   "cell_type": "markdown",
   "metadata": {},
   "source": [
    "#### Lectura de Datos"
   ]
  },
  {
   "cell_type": "code",
   "execution_count": 2,
   "metadata": {},
   "outputs": [],
   "source": [
    "train_df = pd.read_csv('DataSet/travel_insurance_prediction_train.csv')\n",
    "test_df = pd.read_csv('DataSet/travel_insurance_prediction_test.csv')"
   ]
  },
  {
   "cell_type": "markdown",
   "metadata": {},
   "source": [
    "#### Preprocesamiento de Datos"
   ]
  },
  {
   "cell_type": "code",
   "execution_count": 3,
   "metadata": {},
   "outputs": [],
   "source": [
    "# Data Transformation\n",
    "from sklearn.compose import make_column_transformer\n",
    "from sklearn.preprocessing import KBinsDiscretizer, OneHotEncoder\n",
    "\n",
    "bin_cols = ['Age', 'AnnualIncome']\n",
    "hot_cols = ['Employment Type', 'GraduateOrNot', 'FamilyMembers', 'FrequentFlyer', 'EverTravelledAbroad']\n",
    "\n",
    "transformer = make_column_transformer(\n",
    "    # We organize the columns @bin_cols in intervals.\n",
    "    (KBinsDiscretizer(n_bins=5, encode='ordinal', strategy='quantile'), bin_cols),\n",
    "    # We convert the columns @hot_cols in numbers.\n",
    "    (OneHotEncoder(categories='auto', dtype='int', handle_unknown='ignore'), hot_cols),\n",
    "    # We keep the remaining columns.\n",
    "    remainder='passthrough')"
   ]
  },
  {
   "cell_type": "code",
   "execution_count": 4,
   "metadata": {},
   "outputs": [],
   "source": [
    "# Training Data\n",
    "X_train = transformer.fit_transform(train_df.drop(columns=['Customer', 'TravelInsurance']))\n",
    "y_train = train_df['TravelInsurance'].values\n",
    "\n",
    "# Testing Data\n",
    "X_test = transformer.transform(test_df.drop(columns=['Customer']))"
   ]
  },
  {
   "cell_type": "markdown",
   "metadata": {},
   "source": [
    "#### Definición del Modelo (por Defecto)"
   ]
  },
  {
   "cell_type": "code",
   "execution_count": 5,
   "metadata": {},
   "outputs": [],
   "source": [
    "# Default Model\n",
    "from sklearn.ensemble import RandomForestClassifier\n",
    "\n",
    "clf = RandomForestClassifier(random_state=123) \n",
    "clf.fit(X_train, y_train);"
   ]
  },
  {
   "cell_type": "code",
   "execution_count": 6,
   "metadata": {},
   "outputs": [
    {
     "name": "stdout",
     "output_type": "stream",
     "text": [
      "              precision    recall  f1-score   support\n",
      "\n",
      "           0       0.88      0.97      0.92       958\n",
      "           1       0.93      0.76      0.83       532\n",
      "\n",
      "    accuracy                           0.89      1490\n",
      "   macro avg       0.90      0.86      0.88      1490\n",
      "weighted avg       0.90      0.89      0.89      1490\n",
      "\n"
     ]
    }
   ],
   "source": [
    "# Verification\n",
    "from sklearn.metrics import classification_report\n",
    "\n",
    "predictions = clf.predict(X_train)\n",
    "print(classification_report(y_train, predictions))"
   ]
  },
  {
   "cell_type": "markdown",
   "metadata": {},
   "source": [
    "Se obtiene un `F1-Score` de **0.83** para la clase positiva."
   ]
  },
  {
   "cell_type": "markdown",
   "metadata": {},
   "source": [
    "#### Definición del Modelo (por Búsqueda de Parámetros)"
   ]
  },
  {
   "cell_type": "code",
   "execution_count": 7,
   "metadata": {},
   "outputs": [],
   "source": [
    "# Parameter Search\n",
    "from sklearn.model_selection import GridSearchCV\n",
    "\n",
    "search_params = {\n",
    "    'criterion': ['gini', 'entropy'],\n",
    "    'max_depth': [None, 5, 10],\n",
    "    'min_samples_leaf': [1, 2, 3],\n",
    "    'n_estimators': [100, 50, 25, 10, 5],\n",
    "}\n",
    "\n",
    "forest = RandomForestClassifier(random_state=123)\n",
    "forest_clf = GridSearchCV(forest, search_params, cv=5, scoring='f1', n_jobs=-1)\n",
    "forest_clf.fit(X_train, y_train)\n",
    "\n",
    "best_forest_clf = forest_clf.best_estimator_"
   ]
  },
  {
   "cell_type": "code",
   "execution_count": 8,
   "metadata": {},
   "outputs": [
    {
     "name": "stdout",
     "output_type": "stream",
     "text": [
      "              precision    recall  f1-score   support\n",
      "\n",
      "           0       0.84      0.96      0.89       958\n",
      "           1       0.89      0.67      0.76       532\n",
      "\n",
      "    accuracy                           0.85      1490\n",
      "   macro avg       0.87      0.81      0.83      1490\n",
      "weighted avg       0.86      0.85      0.85      1490\n",
      "\n"
     ]
    }
   ],
   "source": [
    "# Verification\n",
    "predictions = best_forest_clf.predict(X_train)\n",
    "print(classification_report(y_train, predictions))"
   ]
  },
  {
   "cell_type": "markdown",
   "metadata": {},
   "source": [
    "Se obtiene un `F1-Score` de **0.76** para la clase positiva."
   ]
  },
  {
   "cell_type": "markdown",
   "metadata": {},
   "source": [
    "#### Generación de la Publicación"
   ]
  },
  {
   "cell_type": "code",
   "execution_count": 9,
   "metadata": {},
   "outputs": [],
   "source": [
    "test_id = test_df['Customer']\n",
    "test_pred = clf.predict(X_test)\n",
    "\n",
    "submission = pd.DataFrame(list(zip(test_id, test_pred)), columns=['Customer', 'TravelInsurance'])\n",
    "submission.to_csv('DataSet/travel_insurance_submission_RandomForest.csv', header=True, index=False)"
   ]
  }
 ],
 "metadata": {
  "kernelspec": {
   "display_name": "Python 3",
   "language": "python",
   "name": "python3"
  },
  "language_info": {
   "codemirror_mode": {
    "name": "ipython",
    "version": 3
   },
   "file_extension": ".py",
   "mimetype": "text/x-python",
   "name": "python",
   "nbconvert_exporter": "python",
   "pygments_lexer": "ipython3",
   "version": "3.9.6"
  }
 },
 "nbformat": 4,
 "nbformat_minor": 4
}
