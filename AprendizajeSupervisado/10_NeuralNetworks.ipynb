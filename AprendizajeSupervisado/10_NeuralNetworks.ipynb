{
 "cells": [
  {
   "cell_type": "markdown",
   "metadata": {},
   "source": [
    "# Neural Networks\n",
    "\n",
    "(example from *sklearn* and https://github.com/amirziai/deep-learning-coursera)"
   ]
  },
  {
   "cell_type": "markdown",
   "metadata": {},
   "source": [
    "## Problem\n",
    "\n",
    "### Determine if an image has a cat or not, given labeled data"
   ]
  },
  {
   "cell_type": "markdown",
   "metadata": {},
   "source": [
    "<table>\n",
    "  <tr>\n",
    "    <th>Cat</th>\n",
    "    <td> <img src=\"images/cat_1.jpg\" width=\"150\"></td>\n",
    "    <td> <img src=\"images/cat_2.png\" width=\"150\"></td>\n",
    "   </tr> \n",
    "   <tr>\n",
    "      <th>Non Cat</th>\n",
    "      <td> <img src=\"images/noCat_1.jpeg\" width=\"150\"></td>\n",
    "      <td> <img src=\"images/noCat_2.jpg\" width=\"150\"></td>\n",
    "  </tr>\n",
    "</table>"
   ]
  },
  {
   "cell_type": "code",
   "execution_count": 1,
   "metadata": {},
   "outputs": [],
   "source": [
    "import numpy as np\n",
    "import matplotlib.pyplot as plt\n",
    "\n",
    "from sklearn import neural_network\n",
    "\n",
    "from utils import load_dataset"
   ]
  },
  {
   "cell_type": "code",
   "execution_count": 2,
   "metadata": {},
   "outputs": [],
   "source": [
    "X_train_orig, Y_train_orig, X_test_orig, Y_test_orig, classes = load_dataset()"
   ]
  },
  {
   "cell_type": "markdown",
   "metadata": {},
   "source": [
    "# Normalization"
   ]
  },
  {
   "cell_type": "code",
   "execution_count": 3,
   "metadata": {},
   "outputs": [],
   "source": [
    "X_train = X_train_orig.reshape(X_train_orig.shape[0], -1)\n",
    "X_test = X_test_orig.reshape(X_test_orig.shape[0], -1)\n",
    "\n",
    "X_train = X_train / 255.\n",
    "X_test = X_test / 255.\n",
    "\n",
    "Y_train = Y_train_orig.T\n",
    "Y_test = Y_test_orig.T"
   ]
  },
  {
   "cell_type": "code",
   "execution_count": 4,
   "metadata": {},
   "outputs": [
    {
     "name": "stdout",
     "output_type": "stream",
     "text": [
      "Dimensiones de X: (209, 12288)\n",
      "Dimensiones de Y: (209, 1)\n"
     ]
    }
   ],
   "source": [
    "print(f'Dimensiones de X: {X_train.shape}')\n",
    "print(f'Dimensiones de Y: {Y_train.shape}')"
   ]
  },
  {
   "cell_type": "markdown",
   "metadata": {},
   "source": [
    "Las imágenes son de **64 (alto) x 64 (largo) x 3 (ancho)**."
   ]
  },
  {
   "cell_type": "code",
   "execution_count": 5,
   "metadata": {},
   "outputs": [
    {
     "name": "stdout",
     "output_type": "stream",
     "text": [
      "y = [0], it is a non-cat picture.\n"
     ]
    },
    {
     "data": {
      "image/png": "[encoded data removed]",
      "text/plain": [
       "<Figure size 432x288 with 1 Axes>"
      ]
     },
     "metadata": {
      "needs_background": "light"
     },
     "output_type": "display_data"
    }
   ],
   "source": [
    "index = 123\n",
    "plt.imshow(X_train_orig[index])\n",
    "\n",
    "print(f'y = {Y_train[index]}, it is a {classes[np.squeeze(Y_train[index])].decode(\"utf-8\")} picture.')"
   ]
  },
  {
   "cell_type": "markdown",
   "metadata": {},
   "source": [
    "## sklearn implementation"
   ]
  },
  {
   "cell_type": "code",
   "execution_count": 6,
   "metadata": {},
   "outputs": [],
   "source": [
    "clf = neural_network.MLPClassifier(solver='lbfgs',\n",
    "                                   alpha=0.00001, \n",
    "                                   hidden_layer_sizes=(5, 2),\n",
    "                                   random_state=1,\n",
    "                                   max_iter=1000)\n",
    "\n",
    "clf.fit(X_train, Y_train.ravel());"
   ]
  },
  {
   "cell_type": "code",
   "execution_count": 7,
   "metadata": {},
   "outputs": [
    {
     "name": "stdout",
     "output_type": "stream",
     "text": [
      "Accuracy: 80.38277511961722\n"
     ]
    }
   ],
   "source": [
    "predictions = clf.predict(X_train)\n",
    "print(f'Accuracy: {np.sum(Y_train.ravel() == predictions) / float(Y_train.size) * 100}')"
   ]
  },
  {
   "cell_type": "code",
   "execution_count": 8,
   "metadata": {},
   "outputs": [
    {
     "name": "stdout",
     "output_type": "stream",
     "text": [
      "Accuracy: 80.0\n"
     ]
    }
   ],
   "source": [
    "predictions = clf.predict(X_test)\n",
    "print(f'Accuracy: {np.sum(Y_test.ravel() == predictions) / float(Y_test.size) * 100}')"
   ]
  },
  {
   "cell_type": "code",
   "execution_count": 9,
   "metadata": {},
   "outputs": [
    {
     "data": {
      "text/plain": [
       "(array([1, 1, 1, 1, 1, 0, 0, 1, 1, 1, 1, 1, 1, 1, 0, 1, 0, 1, 1, 0, 1, 0,\n",
       "        0, 1, 1, 1, 1, 0, 1, 1, 0, 1, 1, 1, 1, 0, 0, 1, 1, 0, 0, 1, 1, 0,\n",
       "        1, 0, 0, 1, 1, 0]),\n",
       " array([1, 1, 1, 1, 1, 0, 1, 1, 1, 1, 1, 1, 1, 0, 0, 1, 0, 1, 1, 1, 1, 0,\n",
       "        0, 1, 1, 1, 1, 0, 1, 0, 1, 1, 1, 1, 0, 0, 0, 1, 0, 0, 1, 1, 1, 0,\n",
       "        0, 0, 1, 1, 1, 0]))"
      ]
     },
     "execution_count": 9,
     "metadata": {},
     "output_type": "execute_result"
    }
   ],
   "source": [
    "predictions, Y_test.ravel()"
   ]
  },
  {
   "cell_type": "markdown",
   "metadata": {},
   "source": [
    "# What if we implement it?\n",
    "\n",
    "(This implementation is for a *logistic regression* classifier)"
   ]
  },
  {
   "cell_type": "code",
   "execution_count": 10,
   "metadata": {},
   "outputs": [],
   "source": [
    "def sigmoid(z):\n",
    "    return 1.0 / (1.0 + np.exp(-z))"
   ]
  },
  {
   "cell_type": "code",
   "execution_count": 11,
   "metadata": {},
   "outputs": [],
   "source": [
    "def initialize_with_zeros(dim):\n",
    "    w = np.zeros((dim, 1))\n",
    "    b = 0.0\n",
    "    return w, b"
   ]
  },
  {
   "cell_type": "code",
   "execution_count": 12,
   "metadata": {},
   "outputs": [],
   "source": [
    "def propagate(w, b, X, Y):\n",
    "    m = X.shape[1]\n",
    "\n",
    "    # FORWARD PROPAGATION\n",
    "    # compute activation\n",
    "    A = sigmoid(np.dot(w.T, X) + b)\n",
    "    # compute cost\n",
    "    cost = (-1.0 / m) * np.sum(Y * np.log(A) + (1.0 - Y) * np.log(1.0 - A))\n",
    "\n",
    "    # BACKWARD PROPAGATION\n",
    "    dw = (1.0 / m) * np.dot(X, (A - Y).T)\n",
    "    db = (1.0 / m) * np.sum(A - Y)\n",
    "\n",
    "    cost = np.squeeze(cost)\n",
    "    grads = {'dw': dw, 'db': db}\n",
    "\n",
    "    return grads, cost"
   ]
  },
  {
   "cell_type": "code",
   "execution_count": 13,
   "metadata": {},
   "outputs": [],
   "source": [
    "def optimize(w, b, X, Y, num_iterations, learning_rate, print_cost=False):    \n",
    "    costs = []\n",
    "\n",
    "    for i in range(num_iterations):\n",
    "        # Cost and gradient\n",
    "        grads, cost = propagate(w, b, X, Y)\n",
    "        if i % 100 == 0:\n",
    "            costs.append(cost)\n",
    "        dw = grads['dw']\n",
    "        db = grads['db']\n",
    "\n",
    "        w = w - learning_rate * dw\n",
    "        b = b - learning_rate * db\n",
    "\n",
    "        if print_cost and i % 100 == 0:\n",
    "            print(f'Cost after iteration {i}: {cost}')\n",
    "\n",
    "    params = {'w': w, 'b': b}\n",
    "\n",
    "    grads = {'dw': dw, 'db': db}\n",
    "\n",
    "    return params, grads, costs"
   ]
  },
  {
   "cell_type": "code",
   "execution_count": 14,
   "metadata": {},
   "outputs": [],
   "source": [
    "def predict(w, b, X):\n",
    "    m = X.shape[1]\n",
    "    Y_prediction = np.zeros((1, m))\n",
    "    w = w.reshape(X.shape[0], 1)\n",
    "    A = sigmoid(np.dot(w.T, X) + b)\n",
    "    Y_prediction[A >= 0.5] = 1\n",
    "    Y_prediction[A <= 0.5] = 0\n",
    "    return Y_prediction"
   ]
  },
  {
   "cell_type": "code",
   "execution_count": 15,
   "metadata": {},
   "outputs": [],
   "source": [
    "def model(X_train, Y_train, X_test, Y_test, num_iterations=2000, learning_rate=0.5, print_cost=False):\n",
    "\n",
    "    w, b = initialize_with_zeros(X_train.shape[0])\n",
    "    parameters, grads, costs = optimize(w, b, X_train, Y_train, num_iterations, learning_rate, print_cost)\n",
    "    w = parameters['w']\n",
    "    b = parameters['b']\n",
    "\n",
    "    Y_prediction_test = predict(w, b, X_test)\n",
    "    Y_prediction_train = predict(w, b, X_train)\n",
    "\n",
    "    print(f'train accuracy: {100 - np.mean(np.abs(Y_prediction_train - Y_train)) * 100}')\n",
    "    print(f'test accuracy: {100 - np.mean(np.abs(Y_prediction_test - Y_test)) * 100}')\n",
    "\n",
    "    d = {'costs': costs,\n",
    "         'Y_prediction_test': Y_prediction_test,\n",
    "         'Y_prediction_train': Y_prediction_train,\n",
    "         'w': w,\n",
    "         'b': b,\n",
    "         'learning_rate': learning_rate,\n",
    "         'num_iterations': num_iterations}\n",
    "\n",
    "    return d"
   ]
  },
  {
   "cell_type": "code",
   "execution_count": 16,
   "metadata": {},
   "outputs": [
    {
     "name": "stdout",
     "output_type": "stream",
     "text": [
      "Cost after iteration 0: 0.6931471805599453\n",
      "Cost after iteration 100: 0.591289426000354\n",
      "Cost after iteration 200: 0.5557961107127088\n",
      "Cost after iteration 300: 0.5289765131562365\n",
      "Cost after iteration 400: 0.5068812917435518\n",
      "Cost after iteration 500: 0.4878798632171657\n",
      "Cost after iteration 600: 0.47110827803124367\n",
      "Cost after iteration 700: 0.4560458096982851\n",
      "Cost after iteration 800: 0.4423502279336529\n",
      "Cost after iteration 900: 0.42978171535077836\n",
      "Cost after iteration 1000: 0.4181638209364329\n",
      "Cost after iteration 1100: 0.40736174995821905\n",
      "Cost after iteration 1200: 0.3972694687269798\n",
      "Cost after iteration 1300: 0.38780160722954093\n",
      "Cost after iteration 1400: 0.3788881303593958\n",
      "Cost after iteration 1500: 0.3704706898360003\n",
      "Cost after iteration 1600: 0.36250004228346355\n",
      "Cost after iteration 1700: 0.35493416988240545\n",
      "Cost after iteration 1800: 0.3477368794667972\n",
      "Cost after iteration 1900: 0.34087673680743863\n",
      "Cost after iteration 2000: 0.3343262415502277\n",
      "Cost after iteration 2100: 0.3280611786620026\n",
      "Cost after iteration 2200: 0.3220601017726571\n",
      "Cost after iteration 2300: 0.3163039167093167\n",
      "Cost after iteration 2400: 0.3107755422544872\n",
      "Cost after iteration 2500: 0.3054596312019218\n",
      "Cost after iteration 2600: 0.30034233904381064\n",
      "Cost after iteration 2700: 0.2954111306790214\n",
      "Cost after iteration 2800: 0.29065461775939877\n",
      "Cost after iteration 2900: 0.286062420937727\n",
      "Cost after iteration 3000: 0.28162505251428016\n",
      "Cost after iteration 3100: 0.2773338159136979\n",
      "Cost after iteration 3200: 0.27318071914032843\n",
      "Cost after iteration 3300: 0.26915839991469176\n",
      "Cost after iteration 3400: 0.2652600606269392\n",
      "Cost after iteration 3500: 0.2614794115845271\n",
      "Cost after iteration 3600: 0.2578106213023778\n",
      "Cost after iteration 3700: 0.2542482728006435\n",
      "Cost after iteration 3800: 0.25078732504979767\n",
      "Cost after iteration 3900: 0.24742307884430276\n",
      "Cost after iteration 4000: 0.24415114650144543\n",
      "Cost after iteration 4100: 0.24096742487649253\n",
      "Cost after iteration 4200: 0.2378680712632095\n",
      "Cost after iteration 4300: 0.23484948181327267\n",
      "Cost after iteration 4400: 0.23190827216175147\n",
      "Cost after iteration 4500: 0.2290412599906219\n",
      "Cost after iteration 4600: 0.2262454492998644\n",
      "Cost after iteration 4700: 0.22351801618733239\n",
      "Cost after iteration 4800: 0.22085629596532624\n",
      "Cost after iteration 4900: 0.21825777146449285\n",
      "train accuracy: 96.65071770334929\n",
      "test accuracy: 74.0\n"
     ]
    }
   ],
   "source": [
    "d = model(X_train.T,\n",
    "          Y_train.ravel(),\n",
    "          X_test.T,\n",
    "          Y_test.ravel(),\n",
    "          num_iterations=5000,\n",
    "          learning_rate=0.001,\n",
    "          print_cost=True)"
   ]
  },
  {
   "cell_type": "code",
   "execution_count": 17,
   "metadata": {},
   "outputs": [
    {
     "name": "stdout",
     "output_type": "stream",
     "text": [
      "y = [1], you predicted that it is a non-cat picture.\n"
     ]
    },
    {
     "data": {
      "image/png": "[encoded data removed]",
      "text/plain": [
       "<Figure size 432x288 with 1 Axes>"
      ]
     },
     "metadata": {
      "needs_background": "light"
     },
     "output_type": "display_data"
    }
   ],
   "source": [
    "index = 30\n",
    "\n",
    "num_px = X_train_orig[index].shape[0]\n",
    "plt.imshow(X_test[index, :].reshape((num_px, num_px, 3)))\n",
    "\n",
    "print(f'y = {Y_test[index]}, you predicted that it is a {classes[int(d[\"Y_prediction_test\"][0, index])].decode(\"utf-8\")} picture.')"
   ]
  },
  {
   "cell_type": "markdown",
   "metadata": {},
   "source": [
    "# Keras"
   ]
  },
  {
   "cell_type": "code",
   "execution_count": 18,
   "metadata": {},
   "outputs": [],
   "source": [
    "from keras.models import Sequential\n",
    "from keras.layers import Dense, Dropout"
   ]
  },
  {
   "cell_type": "code",
   "execution_count": 19,
   "metadata": {},
   "outputs": [],
   "source": [
    "model = Sequential(\n",
    "    [\n",
    "        Dense(10, input_shape=(X_train.shape[1],), activation='relu'),\n",
    "        Dropout(0.25),\n",
    "        Dense(1, activation='sigmoid')\n",
    "    ]\n",
    ")"
   ]
  },
  {
   "cell_type": "code",
   "execution_count": 20,
   "metadata": {},
   "outputs": [
    {
     "name": "stdout",
     "output_type": "stream",
     "text": [
      "Model: \"sequential\"\n",
      "_________________________________________________________________\n",
      "Layer (type)                 Output Shape              Param #   \n",
      "=================================================================\n",
      "dense (Dense)                (None, 10)                122890    \n",
      "_________________________________________________________________\n",
      "dropout (Dropout)            (None, 10)                0         \n",
      "_________________________________________________________________\n",
      "dense_1 (Dense)              (None, 1)                 11        \n",
      "=================================================================\n",
      "Total params: 122,901\n",
      "Trainable params: 122,901\n",
      "Non-trainable params: 0\n",
      "_________________________________________________________________\n"
     ]
    }
   ],
   "source": [
    "model.compile(\n",
    "    optimizer='sgd',\n",
    "    loss='binary_crossentropy',\n",
    "    metrics='accuracy'\n",
    ")\n",
    "\n",
    "model.summary()"
   ]
  },
  {
   "cell_type": "code",
   "execution_count": 21,
   "metadata": {},
   "outputs": [
    {
     "name": "stdout",
     "output_type": "stream",
     "text": [
      "Epoch 1/100\n",
      "7/7 [==============================] - 1s 91ms/step - loss: 0.8024 - accuracy: 0.5589 - val_loss: 0.9957 - val_accuracy: 0.3400\n",
      "Epoch 2/100\n",
      "7/7 [==============================] - 0s 12ms/step - loss: 0.6926 - accuracy: 0.6474 - val_loss: 0.7167 - val_accuracy: 0.3200\n",
      "Epoch 3/100\n",
      "7/7 [==============================] - 0s 12ms/step - loss: 0.6784 - accuracy: 0.6386 - val_loss: 0.6642 - val_accuracy: 0.5800\n",
      "Epoch 4/100\n",
      "7/7 [==============================] - 0s 11ms/step - loss: 0.6810 - accuracy: 0.6385 - val_loss: 0.7521 - val_accuracy: 0.3400\n",
      "Epoch 5/100\n",
      "7/7 [==============================] - 0s 11ms/step - loss: 0.6560 - accuracy: 0.6628 - val_loss: 0.9449 - val_accuracy: 0.3400\n",
      "Epoch 6/100\n",
      "7/7 [==============================] - 0s 11ms/step - loss: 0.6536 - accuracy: 0.6916 - val_loss: 0.7695 - val_accuracy: 0.3400\n",
      "Epoch 7/100\n",
      "7/7 [==============================] - 0s 11ms/step - loss: 0.6639 - accuracy: 0.6401 - val_loss: 0.8485 - val_accuracy: 0.3400\n",
      "Epoch 8/100\n",
      "7/7 [==============================] - 0s 12ms/step - loss: 0.6408 - accuracy: 0.6317 - val_loss: 1.0337 - val_accuracy: 0.3400\n",
      "Epoch 9/100\n",
      "7/7 [==============================] - 0s 12ms/step - loss: 0.6634 - accuracy: 0.6518 - val_loss: 0.7822 - val_accuracy: 0.3400\n",
      "Epoch 10/100\n",
      "7/7 [==============================] - 0s 12ms/step - loss: 0.6417 - accuracy: 0.6493 - val_loss: 0.8255 - val_accuracy: 0.3400\n",
      "Epoch 11/100\n",
      "7/7 [==============================] - 0s 11ms/step - loss: 0.6585 - accuracy: 0.6268 - val_loss: 0.9654 - val_accuracy: 0.3400\n",
      "Epoch 12/100\n",
      "7/7 [==============================] - 0s 11ms/step - loss: 0.6462 - accuracy: 0.6466 - val_loss: 0.8503 - val_accuracy: 0.3400\n",
      "Epoch 13/100\n",
      "7/7 [==============================] - 0s 12ms/step - loss: 0.6353 - accuracy: 0.6275 - val_loss: 0.9594 - val_accuracy: 0.3400\n",
      "Epoch 14/100\n",
      "7/7 [==============================] - 0s 11ms/step - loss: 0.5661 - accuracy: 0.7098 - val_loss: 0.7128 - val_accuracy: 0.3600\n",
      "Epoch 15/100\n",
      "7/7 [==============================] - 0s 12ms/step - loss: 0.6294 - accuracy: 0.6548 - val_loss: 0.6969 - val_accuracy: 0.3600\n",
      "Epoch 16/100\n",
      "7/7 [==============================] - 0s 12ms/step - loss: 0.6396 - accuracy: 0.6333 - val_loss: 0.8386 - val_accuracy: 0.3400\n",
      "Epoch 17/100\n",
      "7/7 [==============================] - 0s 12ms/step - loss: 0.5954 - accuracy: 0.6679 - val_loss: 0.8008 - val_accuracy: 0.3400\n",
      "Epoch 18/100\n",
      "7/7 [==============================] - 0s 11ms/step - loss: 0.6205 - accuracy: 0.6581 - val_loss: 0.9915 - val_accuracy: 0.3400\n",
      "Epoch 19/100\n",
      "7/7 [==============================] - 0s 12ms/step - loss: 0.6088 - accuracy: 0.6658 - val_loss: 0.7815 - val_accuracy: 0.3400\n",
      "Epoch 20/100\n",
      "7/7 [==============================] - 0s 12ms/step - loss: 0.6094 - accuracy: 0.6682 - val_loss: 0.7789 - val_accuracy: 0.3400\n",
      "Epoch 21/100\n",
      "7/7 [==============================] - 0s 11ms/step - loss: 0.5512 - accuracy: 0.7237 - val_loss: 0.7757 - val_accuracy: 0.3600\n",
      "Epoch 22/100\n",
      "7/7 [==============================] - 0s 11ms/step - loss: 0.6015 - accuracy: 0.6723 - val_loss: 0.7376 - val_accuracy: 0.3400\n",
      "Epoch 23/100\n",
      "7/7 [==============================] - 0s 11ms/step - loss: 0.5895 - accuracy: 0.6538 - val_loss: 0.7650 - val_accuracy: 0.3600\n",
      "Epoch 24/100\n",
      "7/7 [==============================] - 0s 11ms/step - loss: 0.5991 - accuracy: 0.6598 - val_loss: 0.8388 - val_accuracy: 0.3600\n",
      "Epoch 25/100\n",
      "7/7 [==============================] - 0s 11ms/step - loss: 0.5973 - accuracy: 0.6602 - val_loss: 0.8232 - val_accuracy: 0.3400\n",
      "Epoch 26/100\n",
      "7/7 [==============================] - 0s 11ms/step - loss: 0.5961 - accuracy: 0.6475 - val_loss: 0.7371 - val_accuracy: 0.3600\n",
      "Epoch 27/100\n",
      "7/7 [==============================] - 0s 11ms/step - loss: 0.5748 - accuracy: 0.6875 - val_loss: 0.7020 - val_accuracy: 0.4000\n",
      "Epoch 28/100\n",
      "7/7 [==============================] - 0s 11ms/step - loss: 0.5796 - accuracy: 0.6737 - val_loss: 0.7282 - val_accuracy: 0.3600\n",
      "Epoch 29/100\n",
      "7/7 [==============================] - 0s 11ms/step - loss: 0.5625 - accuracy: 0.6825 - val_loss: 0.6837 - val_accuracy: 0.3600\n",
      "Epoch 30/100\n",
      "7/7 [==============================] - 0s 12ms/step - loss: 0.5949 - accuracy: 0.6582 - val_loss: 0.8162 - val_accuracy: 0.3600\n",
      "Epoch 31/100\n",
      "7/7 [==============================] - 0s 11ms/step - loss: 0.5650 - accuracy: 0.6333 - val_loss: 0.8532 - val_accuracy: 0.3600\n",
      "Epoch 32/100\n",
      "7/7 [==============================] - 0s 12ms/step - loss: 0.5840 - accuracy: 0.6502 - val_loss: 0.8302 - val_accuracy: 0.3600\n",
      "Epoch 33/100\n",
      "7/7 [==============================] - 0s 11ms/step - loss: 0.5336 - accuracy: 0.6587 - val_loss: 0.8307 - val_accuracy: 0.3600\n",
      "Epoch 34/100\n",
      "7/7 [==============================] - 0s 11ms/step - loss: 0.5550 - accuracy: 0.6560 - val_loss: 0.7201 - val_accuracy: 0.3800\n",
      "Epoch 35/100\n",
      "7/7 [==============================] - 0s 11ms/step - loss: 0.5448 - accuracy: 0.6845 - val_loss: 0.7753 - val_accuracy: 0.3600\n",
      "Epoch 36/100\n",
      "7/7 [==============================] - 0s 13ms/step - loss: 0.5636 - accuracy: 0.6549 - val_loss: 0.6889 - val_accuracy: 0.4400\n",
      "Epoch 37/100\n",
      "7/7 [==============================] - 0s 11ms/step - loss: 0.5515 - accuracy: 0.6422 - val_loss: 0.9294 - val_accuracy: 0.3400\n",
      "Epoch 38/100\n",
      "7/7 [==============================] - 0s 10ms/step - loss: 0.5280 - accuracy: 0.6874 - val_loss: 0.8229 - val_accuracy: 0.3400\n",
      "Epoch 39/100\n",
      "7/7 [==============================] - 0s 10ms/step - loss: 0.5642 - accuracy: 0.6418 - val_loss: 0.7447 - val_accuracy: 0.3800\n",
      "Epoch 40/100\n",
      "7/7 [==============================] - 0s 10ms/step - loss: 0.5490 - accuracy: 0.6645 - val_loss: 0.7674 - val_accuracy: 0.3600\n",
      "Epoch 41/100\n",
      "7/7 [==============================] - 0s 11ms/step - loss: 0.5117 - accuracy: 0.6798 - val_loss: 1.1611 - val_accuracy: 0.3400\n",
      "Epoch 42/100\n",
      "7/7 [==============================] - 0s 10ms/step - loss: 0.5589 - accuracy: 0.6880 - val_loss: 0.7771 - val_accuracy: 0.3800\n",
      "Epoch 43/100\n",
      "7/7 [==============================] - 0s 9ms/step - loss: 0.4942 - accuracy: 0.7120 - val_loss: 0.6737 - val_accuracy: 0.4400\n",
      "Epoch 44/100\n",
      "7/7 [==============================] - 0s 10ms/step - loss: 0.5497 - accuracy: 0.7160 - val_loss: 0.9789 - val_accuracy: 0.3400\n",
      "Epoch 45/100\n",
      "7/7 [==============================] - 0s 9ms/step - loss: 0.5098 - accuracy: 0.7006 - val_loss: 0.6686 - val_accuracy: 0.5600\n",
      "Epoch 46/100\n",
      "7/7 [==============================] - 0s 10ms/step - loss: 0.5113 - accuracy: 0.6629 - val_loss: 0.6689 - val_accuracy: 0.5400\n",
      "Epoch 47/100\n",
      "7/7 [==============================] - 0s 9ms/step - loss: 0.5108 - accuracy: 0.7706 - val_loss: 0.7237 - val_accuracy: 0.4400\n",
      "Epoch 48/100\n",
      "7/7 [==============================] - 0s 10ms/step - loss: 0.4749 - accuracy: 0.7086 - val_loss: 0.6752 - val_accuracy: 0.5800\n",
      "Epoch 49/100\n",
      "7/7 [==============================] - 0s 10ms/step - loss: 0.4993 - accuracy: 0.7197 - val_loss: 0.8461 - val_accuracy: 0.3800\n",
      "Epoch 50/100\n",
      "7/7 [==============================] - 0s 11ms/step - loss: 0.5010 - accuracy: 0.7139 - val_loss: 0.8216 - val_accuracy: 0.4400\n",
      "Epoch 51/100\n",
      "7/7 [==============================] - 0s 11ms/step - loss: 0.4935 - accuracy: 0.6882 - val_loss: 0.7327 - val_accuracy: 0.4800\n",
      "Epoch 52/100\n",
      "7/7 [==============================] - 0s 10ms/step - loss: 0.5010 - accuracy: 0.6760 - val_loss: 0.9177 - val_accuracy: 0.3400\n",
      "Epoch 53/100\n",
      "7/7 [==============================] - 0s 10ms/step - loss: 0.5120 - accuracy: 0.7005 - val_loss: 0.7531 - val_accuracy: 0.4200\n",
      "Epoch 54/100\n",
      "7/7 [==============================] - 0s 10ms/step - loss: 0.4817 - accuracy: 0.7661 - val_loss: 0.6660 - val_accuracy: 0.6200\n",
      "Epoch 55/100\n",
      "7/7 [==============================] - 0s 10ms/step - loss: 0.4697 - accuracy: 0.7928 - val_loss: 1.2095 - val_accuracy: 0.3400\n",
      "Epoch 56/100\n",
      "7/7 [==============================] - 0s 9ms/step - loss: 0.5161 - accuracy: 0.6913 - val_loss: 0.6954 - val_accuracy: 0.5600\n",
      "Epoch 57/100\n",
      "7/7 [==============================] - 0s 10ms/step - loss: 0.4740 - accuracy: 0.7198 - val_loss: 0.6072 - val_accuracy: 0.7200\n",
      "Epoch 58/100\n",
      "7/7 [==============================] - 0s 11ms/step - loss: 0.5108 - accuracy: 0.7851 - val_loss: 0.6755 - val_accuracy: 0.5200\n",
      "Epoch 59/100\n"
     ]
    },
    {
     "name": "stdout",
     "output_type": "stream",
     "text": [
      "7/7 [==============================] - 0s 10ms/step - loss: 0.4992 - accuracy: 0.6868 - val_loss: 0.6264 - val_accuracy: 0.7800\n",
      "Epoch 60/100\n",
      "7/7 [==============================] - 0s 10ms/step - loss: 0.5080 - accuracy: 0.6936 - val_loss: 1.3620 - val_accuracy: 0.3400\n",
      "Epoch 61/100\n",
      "7/7 [==============================] - 0s 10ms/step - loss: 0.4933 - accuracy: 0.7059 - val_loss: 0.6892 - val_accuracy: 0.6000\n",
      "Epoch 62/100\n",
      "7/7 [==============================] - 0s 10ms/step - loss: 0.4680 - accuracy: 0.7450 - val_loss: 0.6465 - val_accuracy: 0.6600\n",
      "Epoch 63/100\n",
      "7/7 [==============================] - 0s 11ms/step - loss: 0.4724 - accuracy: 0.7838 - val_loss: 0.8674 - val_accuracy: 0.4200\n",
      "Epoch 64/100\n",
      "7/7 [==============================] - 0s 10ms/step - loss: 0.4367 - accuracy: 0.7683 - val_loss: 0.6302 - val_accuracy: 0.6800\n",
      "Epoch 65/100\n",
      "7/7 [==============================] - ETA: 0s - loss: 0.4910 - accuracy: 0.75 - 0s 9ms/step - loss: 0.4854 - accuracy: 0.7282 - val_loss: 0.6900 - val_accuracy: 0.6000\n",
      "Epoch 66/100\n",
      "7/7 [==============================] - 0s 11ms/step - loss: 0.4294 - accuracy: 0.8228 - val_loss: 0.9663 - val_accuracy: 0.4000\n",
      "Epoch 67/100\n",
      "7/7 [==============================] - 0s 11ms/step - loss: 0.4715 - accuracy: 0.7686 - val_loss: 0.7822 - val_accuracy: 0.4800\n",
      "Epoch 68/100\n",
      "7/7 [==============================] - 0s 10ms/step - loss: 0.4467 - accuracy: 0.7263 - val_loss: 0.9281 - val_accuracy: 0.4200\n",
      "Epoch 69/100\n",
      "7/7 [==============================] - 0s 10ms/step - loss: 0.4583 - accuracy: 0.7786 - val_loss: 0.7315 - val_accuracy: 0.5600\n",
      "Epoch 70/100\n",
      "7/7 [==============================] - 0s 10ms/step - loss: 0.4036 - accuracy: 0.8467 - val_loss: 0.5813 - val_accuracy: 0.7800\n",
      "Epoch 71/100\n",
      "7/7 [==============================] - 0s 10ms/step - loss: 0.4486 - accuracy: 0.7501 - val_loss: 0.6317 - val_accuracy: 0.6600\n",
      "Epoch 72/100\n",
      "7/7 [==============================] - 0s 10ms/step - loss: 0.4193 - accuracy: 0.8071 - val_loss: 0.9498 - val_accuracy: 0.4000\n",
      "Epoch 73/100\n",
      "7/7 [==============================] - 0s 11ms/step - loss: 0.4970 - accuracy: 0.7561 - val_loss: 0.7315 - val_accuracy: 0.5800\n",
      "Epoch 74/100\n",
      "7/7 [==============================] - 0s 10ms/step - loss: 0.4158 - accuracy: 0.7704 - val_loss: 0.6588 - val_accuracy: 0.6200\n",
      "Epoch 75/100\n",
      "7/7 [==============================] - 0s 9ms/step - loss: 0.3952 - accuracy: 0.8373 - val_loss: 0.5893 - val_accuracy: 0.7400\n",
      "Epoch 76/100\n",
      "7/7 [==============================] - 0s 10ms/step - loss: 0.4785 - accuracy: 0.7351 - val_loss: 0.8293 - val_accuracy: 0.4400\n",
      "Epoch 77/100\n",
      "7/7 [==============================] - 0s 10ms/step - loss: 0.4351 - accuracy: 0.7387 - val_loss: 1.0530 - val_accuracy: 0.4000\n",
      "Epoch 78/100\n",
      "7/7 [==============================] - 0s 11ms/step - loss: 0.4179 - accuracy: 0.8026 - val_loss: 0.6766 - val_accuracy: 0.6200\n",
      "Epoch 79/100\n",
      "7/7 [==============================] - 0s 11ms/step - loss: 0.4141 - accuracy: 0.7626 - val_loss: 0.7218 - val_accuracy: 0.6000\n",
      "Epoch 80/100\n",
      "7/7 [==============================] - 0s 13ms/step - loss: 0.4010 - accuracy: 0.8155 - val_loss: 0.8238 - val_accuracy: 0.4000\n",
      "Epoch 81/100\n",
      "7/7 [==============================] - 0s 13ms/step - loss: 0.4649 - accuracy: 0.7278 - val_loss: 1.0501 - val_accuracy: 0.3800\n",
      "Epoch 82/100\n",
      "7/7 [==============================] - 0s 15ms/step - loss: 0.4809 - accuracy: 0.7165 - val_loss: 0.8021 - val_accuracy: 0.4600\n",
      "Epoch 83/100\n",
      "7/7 [==============================] - 0s 12ms/step - loss: 0.4508 - accuracy: 0.7482 - val_loss: 0.8927 - val_accuracy: 0.4400\n",
      "Epoch 84/100\n",
      "7/7 [==============================] - 0s 11ms/step - loss: 0.4293 - accuracy: 0.8075 - val_loss: 1.0398 - val_accuracy: 0.4000\n",
      "Epoch 85/100\n",
      "7/7 [==============================] - 0s 10ms/step - loss: 0.4332 - accuracy: 0.7599 - val_loss: 0.6496 - val_accuracy: 0.6600\n",
      "Epoch 86/100\n",
      "7/7 [==============================] - 0s 9ms/step - loss: 0.3694 - accuracy: 0.8264 - val_loss: 0.6646 - val_accuracy: 0.7000\n",
      "Epoch 87/100\n",
      "7/7 [==============================] - 0s 10ms/step - loss: 0.3823 - accuracy: 0.8299 - val_loss: 0.6641 - val_accuracy: 0.6200\n",
      "Epoch 88/100\n",
      "7/7 [==============================] - 0s 10ms/step - loss: 0.3987 - accuracy: 0.7862 - val_loss: 0.6228 - val_accuracy: 0.6400\n",
      "Epoch 89/100\n",
      "7/7 [==============================] - 0s 10ms/step - loss: 0.3799 - accuracy: 0.8610 - val_loss: 0.6381 - val_accuracy: 0.6400\n",
      "Epoch 90/100\n",
      "7/7 [==============================] - 0s 10ms/step - loss: 0.4168 - accuracy: 0.7733 - val_loss: 0.8731 - val_accuracy: 0.5200\n",
      "Epoch 91/100\n",
      "7/7 [==============================] - 0s 12ms/step - loss: 0.4828 - accuracy: 0.7446 - val_loss: 0.9869 - val_accuracy: 0.4000\n",
      "Epoch 92/100\n",
      "7/7 [==============================] - 0s 10ms/step - loss: 0.3806 - accuracy: 0.8221 - val_loss: 0.5677 - val_accuracy: 0.7800\n",
      "Epoch 93/100\n",
      "7/7 [==============================] - 0s 10ms/step - loss: 0.4521 - accuracy: 0.8047 - val_loss: 0.8484 - val_accuracy: 0.5600\n",
      "Epoch 94/100\n",
      "7/7 [==============================] - 0s 9ms/step - loss: 0.3650 - accuracy: 0.8114 - val_loss: 0.8102 - val_accuracy: 0.5600\n",
      "Epoch 95/100\n",
      "7/7 [==============================] - 0s 10ms/step - loss: 0.3506 - accuracy: 0.8503 - val_loss: 0.5646 - val_accuracy: 0.7400\n",
      "Epoch 96/100\n",
      "7/7 [==============================] - 0s 12ms/step - loss: 0.3810 - accuracy: 0.8432 - val_loss: 0.8510 - val_accuracy: 0.5800\n",
      "Epoch 97/100\n",
      "7/7 [==============================] - 0s 13ms/step - loss: 0.3423 - accuracy: 0.8565 - val_loss: 1.0501 - val_accuracy: 0.4000\n",
      "Epoch 98/100\n",
      "7/7 [==============================] - 0s 12ms/step - loss: 0.4254 - accuracy: 0.7772 - val_loss: 0.8613 - val_accuracy: 0.5600\n",
      "Epoch 99/100\n",
      "7/7 [==============================] - 0s 9ms/step - loss: 0.3774 - accuracy: 0.8180 - val_loss: 0.7134 - val_accuracy: 0.6200\n",
      "Epoch 100/100\n",
      "7/7 [==============================] - 0s 9ms/step - loss: 0.3576 - accuracy: 0.8459 - val_loss: 0.9910 - val_accuracy: 0.4400\n"
     ]
    }
   ],
   "source": [
    "model.fit(X_train, Y_train, batch_size=32, epochs=100, validation_data=(X_test, Y_test), verbose=1);"
   ]
  }
 ],
 "metadata": {
  "kernelspec": {
   "display_name": "Python 3",
   "language": "python",
   "name": "python3"
  },
  "language_info": {
   "codemirror_mode": {
    "name": "ipython",
    "version": 3
   },
   "file_extension": ".py",
   "mimetype": "text/x-python",
   "name": "python",
   "nbconvert_exporter": "python",
   "pygments_lexer": "ipython3",
   "version": "3.9.6"
  }
 },
 "nbformat": 4,
 "nbformat_minor": 4
}
