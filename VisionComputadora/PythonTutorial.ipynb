{
  "nbformat": 4,
  "nbformat_minor": 0,
  "metadata": {
    "colab": {
      "name": "PythonTutorial.ipynb",
      "provenance": [],
      "collapsed_sections": [],
      "toc_visible": true
    },
    "kernelspec": {
      "name": "python3",
      "display_name": "Python 3"
    }
  },
  "cells": [
    {
      "cell_type": "markdown",
      "metadata": {
        "id": "XSiVcnutjT-D"
      },
      "source": [
        "# Tutorial de Python\n",
        "\n",
        "![Python](https://upload.wikimedia.org/wikipedia/commons/thumb/c/c3/Python-logo-notext.svg/200px-Python-logo-notext.svg.png)\n",
        "\n",
        "[**Python**](https://es.wikipedia.org/wiki/Python) es un lenguaje de programación interpretado cuya filosofía hace hincapié en la legibilidad de su código.​ Se trata de un lenguaje de programación multiparadigma, ya que soporta orientación a objetos, programación imperativa y, en menor medida, programación funcional. Es un **lenguaje interpretado**, **dinámico** y **multiplataforma**.\n",
        "\n",
        "En este tutorial se asume que tenés experiencia en otros lenguajes de programación. A continuación te dejo una lista de recursos que podes  consultar si tenés más curiosidad sobre Python.\n",
        "\n",
        "- [Python](https://es.wikipedia.org/wiki/Python) en la Wikipedia.\n",
        "- [Python Tutorial With Google Colab](https://colab.research.google.com/github/cs231n/cs231n.github.io/blob/master/python-colab.ipynb#scrollTo=dzNng6vCL9eP) del curso *Convolutional Neural Networks for Visual Recognition* de *Stanford University*.\n",
        "- [Tutorial de Python](https://docs.python.org/es/3/tutorial/index.html) oficial (en español).\n",
        " \n",
        "---\n",
        "\n",
        "Por último antes de empezar, si notas que el notebook tiene algún error no dejes de avisarnos! Muchas gracias y que disfrutes el tutorial."
      ]
    },
    {
      "cell_type": "markdown",
      "metadata": {
        "id": "Wr4BGBCRmeb-"
      },
      "source": [
        "## Variables y operaciones\n",
        "\n",
        "Las variables son como contenedores (u objetos), esto quiere decir que además tienen sus propios métodos. Al ser de tipado dinámico, el tipo de datos de la variable se infiere durante la declaración de la misma:"
      ]
    },
    {
      "cell_type": "markdown",
      "metadata": {
        "id": "1l5UAQXiqYbt"
      },
      "source": [
        "### Números"
      ]
    },
    {
      "cell_type": "code",
      "metadata": {
        "id": "JCwNAaXzpNmR",
        "colab": {
          "base_uri": "https://localhost:8080/"
        },
        "outputId": "8f5a85de-f46a-4fae-cb5c-6c4bdfb821b4"
      },
      "source": [
        "num = 3\n",
        "print(type(num)) # type\n",
        "print(num)\n",
        "print(num + 1)\n",
        "print(num - 1)\n",
        "print(num * 2)\n",
        "print(num ** 2) # exp\n",
        "num += 1\n",
        "print(num)  # Prints '4'\n",
        "num *= 2\n",
        "print(num)  # Prints '8'\n",
        "numFloat = 2.5\n",
        "print(type(numFloat))\n",
        "print(numFloat, numFloat + 1, numFloat * 2, numFloat ** 2)"
      ],
      "execution_count": 1,
      "outputs": [
        {
          "output_type": "stream",
          "name": "stdout",
          "text": [
            "<class 'int'>\n",
            "3\n",
            "4\n",
            "2\n",
            "6\n",
            "9\n",
            "4\n",
            "8\n",
            "<class 'float'>\n",
            "2.5 3.5 5.0 6.25\n"
          ]
        }
      ]
    },
    {
      "cell_type": "markdown",
      "metadata": {
        "id": "wzc2zv1Erc42"
      },
      "source": [
        "### Texto"
      ]
    },
    {
      "cell_type": "code",
      "metadata": {
        "id": "eBpqVs_Bret-",
        "colab": {
          "base_uri": "https://localhost:8080/"
        },
        "outputId": "390f07c5-6bae-440a-ed74-4e8ef48012af"
      },
      "source": [
        "texto1 = 'hola'\n",
        "texto2 = \"mundo\"\n",
        "print(texto1)\n",
        "print(len(texto1)) # ammount of chars\n",
        "mensaje = texto1 + ' ' + texto2\n",
        "print(mensaje)\n",
        "mensaje = '%s %s %d' % (texto1, texto2, 123)\n",
        "print(mensaje)\n",
        "\n",
        "print(texto1.capitalize()) # Capitalize a string; prints 'Hola'\n",
        "print(texto1.upper()) # Convert a string to uppercase; prints 'HOLA'"
      ],
      "execution_count": 2,
      "outputs": [
        {
          "output_type": "stream",
          "name": "stdout",
          "text": [
            "hola\n",
            "4\n",
            "hola mundo\n",
            "hola mundo 123\n",
            "Hola\n",
            "HOLA\n"
          ]
        }
      ]
    },
    {
      "cell_type": "markdown",
      "metadata": {
        "id": "Ny2bqeke4Z5_"
      },
      "source": [
        "### Operaciones\n",
        "\n",
        "No pueden combinarse tipos de datos, salvo que sea posible una conversión por parte del intérprete. Por ejemplo, un entero puede convertirse a `float`."
      ]
    },
    {
      "cell_type": "code",
      "metadata": {
        "id": "ZbK--PD0rGyQ",
        "cellView": "code",
        "colab": {
          "base_uri": "https://localhost:8080/"
        },
        "outputId": "5d208ee6-9cef-4ca3-d8e4-2d27e69af19f"
      },
      "source": [
        "sum = num + numFloat\n",
        "print(sum)\n",
        "\n",
        "xString = '10'\n",
        "sumString = xString + xString\n",
        "print(sumString)\n",
        "\n",
        "# The following operation will throw an error (string + integer)\n",
        "\"\"\"\n",
        "sum = xString + num \n",
        "print(sum)\n",
        "\"\"\"\n",
        "# You can try to run it, if you want\n",
        "\n",
        "try:\n",
        "  sum = xString + num\n",
        "  print(sum)\n",
        "except:\n",
        "  print('Exception!')"
      ],
      "execution_count": 3,
      "outputs": [
        {
          "output_type": "stream",
          "name": "stdout",
          "text": [
            "10.5\n",
            "1010\n",
            "Exception!\n"
          ]
        }
      ]
    },
    {
      "cell_type": "markdown",
      "metadata": {
        "id": "LQg27WnFmfSo"
      },
      "source": [
        "Python es **case sensitive**, lo que quiere decir que diferencia variables según letras minúsculas y mayúsculas."
      ]
    },
    {
      "cell_type": "markdown",
      "metadata": {
        "id": "kA1UaiRVrpbj"
      },
      "source": [
        "###Booleanos\n",
        "\n",
        "Para las operaciones lógicas se utiliza `and`, `or`, y `not` junto con los operadores básicos de comparación `<`, `>`, `>=`, etc.\n"
      ]
    },
    {
      "cell_type": "code",
      "metadata": {
        "cellView": "code",
        "id": "4ZaWx6vG6--B",
        "colab": {
          "base_uri": "https://localhost:8080/"
        },
        "outputId": "1daf1f3a-fc24-4360-c3d3-edc9c05a10b5"
      },
      "source": [
        "booleanTrue = True # Note the uppercase\n",
        "booleanFalse = False\n",
        "\n",
        "print(booleanTrue)\n",
        "\n",
        "print(booleanTrue and booleanFalse)\n",
        "print(booleanTrue or booleanFalse)\n",
        "print(not booleanFalse)\n",
        "\n",
        "print('Now... conditionals!')\n",
        "print(9 < 11)\n",
        "print(4 != 4)\n",
        "print(\"string\" == 'string')\n",
        "print(3 < 4 and 4 < 3)"
      ],
      "execution_count": 4,
      "outputs": [
        {
          "output_type": "stream",
          "name": "stdout",
          "text": [
            "True\n",
            "False\n",
            "True\n",
            "True\n",
            "Now... conditionals!\n",
            "True\n",
            "False\n",
            "True\n",
            "False\n"
          ]
        }
      ]
    },
    {
      "cell_type": "markdown",
      "metadata": {
        "id": "Pntw6GDTsDG-"
      },
      "source": [
        "###Listas\n",
        "\n",
        "Las listas son un tipo predefinido del lenguaje. Se acceden mediante corchetes `[ ]` indicando el índice de la posición."
      ]
    },
    {
      "cell_type": "code",
      "metadata": {
        "id": "auEh80g_ze_E",
        "colab": {
          "base_uri": "https://localhost:8080/"
        },
        "outputId": "83eb5a90-be5e-410c-e3fa-400275cc8303"
      },
      "source": [
        "listaVacia = []\n",
        "print(listaVacia)\n",
        "\n",
        "lista = [1, 2, 3]\n",
        "print(lista)\n",
        "\n",
        "lista = ['string', 'hola', 'chau', 'casa']\n",
        "print(lista)\n",
        "\n",
        "print(lista[1]) # Indices start at zero\n",
        "print(lista[-1])\n",
        "print(lista[0:2])"
      ],
      "execution_count": 5,
      "outputs": [
        {
          "output_type": "stream",
          "name": "stdout",
          "text": [
            "[]\n",
            "[1, 2, 3]\n",
            "['string', 'hola', 'chau', 'casa']\n",
            "hola\n",
            "casa\n",
            "['string', 'hola']\n"
          ]
        }
      ]
    },
    {
      "cell_type": "markdown",
      "metadata": {
        "id": "pXbDOZocx3fm"
      },
      "source": [
        "##Estructuras de control\n",
        "\n",
        "En los lenguajes de programación, las estructuras de control permiten modificar el flujo de ejecución de las instrucciones de un programa. Las más conocidas son *IF-THEN-ELSE*, *FOR-NEXT*, y *DO-WHILE*. En Python cada una tiene su sintaxis específica que vamos a revisar a continuación.\n",
        "\n",
        "**IMPORTANTE**: En Python no se utilizan las llaves `{ }` para marcar bloques de código, sino que **se hace mediante indentaciones**. Para utilizar sentencias de control como por ejemplo el *if* es necesario indentar. Por defecto, son 4 espacios (un tab).\n"
      ]
    },
    {
      "cell_type": "markdown",
      "metadata": {
        "id": "b0oVCuN5zZNk"
      },
      "source": [
        "### IF-THEN-ELSE\n",
        "\n",
        "De acuerdo con una condición permite ejecutar un grupo u otro de sentencias. En Python su sintaxis es la siguiente:\n",
        "\n",
        "```\n",
        "if CONDICION:\n",
        "  codigo (indentado)  \n",
        "else:\n",
        "  codigo (indentado)\n",
        "```\n",
        "\n",
        "A continuación puede ejecutar una celda y modificar los valores de las variables y/o la condición para evaluar su funcionamiento."
      ]
    },
    {
      "cell_type": "code",
      "metadata": {
        "id": "A2phWcT4_tpd",
        "colab": {
          "base_uri": "https://localhost:8080/"
        },
        "outputId": "a9177c91-c959-4e31-f3b2-1118c0884278"
      },
      "source": [
        "totalPago = 300\n",
        "clientePorMayor = True\n",
        "comproProductoPrincipal = True\n",
        "\n",
        "if totalPago > 250 and clientePorMayor:\n",
        "  print('Ha ganado un descuento por compra mayor y cliente')\n",
        "elif comproProductoPrincipal:\n",
        "  print('Ha ganado descuento por comprar el producto principal')\n",
        "else:\n",
        "  print('Gracias por su compra')"
      ],
      "execution_count": 6,
      "outputs": [
        {
          "output_type": "stream",
          "name": "stdout",
          "text": [
            "Ha ganado un descuento por compra mayor y cliente\n"
          ]
        }
      ]
    },
    {
      "cell_type": "markdown",
      "metadata": {
        "id": "zwogKEBB0bLo"
      },
      "source": [
        "## Estructuras iterativas\n",
        "\n"
      ]
    },
    {
      "cell_type": "markdown",
      "metadata": {
        "id": "VG7s7XvwB7FQ"
      },
      "source": [
        "### FOR-NEXT\n",
        "\n",
        "Permite ejecutar un grupo de sentencias un número determinado de veces. En Python su sintaxis es la siguiente:\n",
        "\n",
        "```\n",
        "for VARIABLE in LISTA:\n",
        "  codigo (identando)\n",
        "```\n",
        "\n",
        "A continuación puede ejecutar la celda y modificar los valores de las variables para evaluar su funcionamiento."
      ]
    },
    {
      "cell_type": "code",
      "metadata": {
        "id": "M_VjETuSBMPo",
        "colab": {
          "base_uri": "https://localhost:8080/"
        },
        "outputId": "ae428751-b0fd-4a4f-d98a-0d19c07130b9"
      },
      "source": [
        "lista = [1, 2, 3, 4, 5]\n",
        "for elemento in lista:\n",
        "  print(elemento)\n",
        "\n",
        "for elemento in lista:\n",
        "  if elemento % 2 == 0:\n",
        "    print(f'Nro par encontrado, {elemento}')\n",
        "  else:\n",
        "    print(f'Nro impar encontrado, {elemento}')"
      ],
      "execution_count": 7,
      "outputs": [
        {
          "output_type": "stream",
          "name": "stdout",
          "text": [
            "1\n",
            "2\n",
            "3\n",
            "4\n",
            "5\n",
            "Nro impar encontrado, 1\n",
            "Nro par encontrado, 2\n",
            "Nro impar encontrado, 3\n",
            "Nro par encontrado, 4\n",
            "Nro impar encontrado, 5\n"
          ]
        }
      ]
    },
    {
      "cell_type": "markdown",
      "metadata": {
        "id": "B03PUSglB9KG"
      },
      "source": [
        "### DO-WHILE\n",
        "\n",
        "Ejecutar un grupo de sentencias solo mientras de forma iterativa se cumpla una condición. En Python su sintaxis es la siguiente:\n",
        "\n",
        "```\n",
        "while condicion:\n",
        "  codigo (identado)\n",
        "```\n",
        "\n",
        "A continuación puede ejecutar la celda y modificar los valores de las variables para evaluar su funcionamiento."
      ]
    },
    {
      "cell_type": "code",
      "metadata": {
        "id": "OVw5SGcvCCJz",
        "colab": {
          "base_uri": "https://localhost:8080/"
        },
        "outputId": "fb5c986b-8f04-46dc-ffbb-9ec1798a7876"
      },
      "source": [
        "numero = 1\n",
        "while numero > 0 and numero < 7:\n",
        "  print(numero)\n",
        "  numero += 1"
      ],
      "execution_count": 8,
      "outputs": [
        {
          "output_type": "stream",
          "name": "stdout",
          "text": [
            "1\n",
            "2\n",
            "3\n",
            "4\n",
            "5\n",
            "6\n"
          ]
        }
      ]
    },
    {
      "cell_type": "markdown",
      "metadata": {
        "id": "tHKcm3Tx10G7"
      },
      "source": [
        "## Funciones\n",
        "\n",
        "Se definen con la palabra reservada del lenguaje `def`.\n",
        "\n",
        "La sintaxis es:\n",
        "\n",
        "```\n",
        "def nombre_func(params)\n",
        "  codigo (identado)\n",
        "```\n",
        "\n",
        "Y para devolver un resultado utilizamos `return`.\n",
        "\n",
        "Algo interesante es que podemos devolver varios resultados de distinto tipo.\n",
        "\n"
      ]
    },
    {
      "cell_type": "code",
      "metadata": {
        "id": "ZQf57k77C8Qf",
        "colab": {
          "base_uri": "https://localhost:8080/"
        },
        "outputId": "5eb1e68a-c394-4846-c6bc-287a423aa151"
      },
      "source": [
        "def sumar(a, b):\n",
        "  resultado = a + b\n",
        "  if(resultado > 50):\n",
        "    return resultado, '> 50'\n",
        "  else:\n",
        "    return resultado, '<= 50'\n",
        "\n",
        "res, detalle = sumar(10, 19)\n",
        "print(f'Resultado {res} | Detalle {detalle}')"
      ],
      "execution_count": 9,
      "outputs": [
        {
          "output_type": "stream",
          "name": "stdout",
          "text": [
            "Resultado 29 | Detalle <= 50\n"
          ]
        }
      ]
    },
    {
      "cell_type": "markdown",
      "metadata": {
        "id": "TxVxYl7FEqIl"
      },
      "source": [
        "### Importaciones de módulos\n",
        "\n",
        "Para importar paquetes se usa la palabra reservada `import`.\n",
        "\n",
        "Por ejemplo, `numpy`. El cual es uno de los paquetes fundamentales utilizados para cálculo computacional en Python. Permite entre otras cosas:\n",
        "\n",
        "*   Crear matrices\n",
        "*   Integración con C/C++\n",
        "*   Operaciones de álgebra lineal, transformada de Fourier, etc.\n",
        "\n",
        "Si indicamos el `from`, especificamos el repositorio / origen del paquete.\n",
        "\n",
        "```\n",
        "from repository import method \n",
        "a = method()\n",
        "```\n",
        "\n",
        "```\n",
        "import repository.method\n",
        "a = repository.method()\n",
        "```\n",
        "\n",
        "En otras palabras, si sólo usamos `import`, se crea una referencia al módulo `X`, y para acceder a los métodos contenidos en `X` debemos hacer `X.metodo()`.\n",
        "\n",
        "En cambio, si usamos `from`, podemos acceder directamente a los métodos."
      ]
    },
    {
      "cell_type": "code",
      "metadata": {
        "id": "kPvTHn2lE4xb",
        "colab": {
          "base_uri": "https://localhost:8080/"
        },
        "outputId": "03aa7d66-a817-4031-ccbb-1cea5bd633a3"
      },
      "source": [
        "import numpy as np\n",
        "\n",
        "array = np.arange(9).reshape(3, 3)\n",
        "print(array)"
      ],
      "execution_count": 10,
      "outputs": [
        {
          "output_type": "stream",
          "name": "stdout",
          "text": [
            "[[0 1 2]\n",
            " [3 4 5]\n",
            " [6 7 8]]\n"
          ]
        }
      ]
    },
    {
      "cell_type": "markdown",
      "metadata": {
        "id": "c8rb6upFJlVm"
      },
      "source": [
        "## NumPy\n",
        "\n",
        "NumPy es una biblioteca para el lenguaje de programación Python que da soporte para crear vectores y matrices grandes multidimensionales, junto con una gran colección de funciones matemáticas de alto nivel para operar con ellas. La funcionalidad principal de NumPy es su estructura de datos `ndarray` para crear matrices de *n* dimensiones.\n",
        "\n",
        "Esta es una descripción general y muy rápida de las matrices en Numpy. Se recomienda leer el artículo [NumPy Quickstart](https://numpy.org/doc/stable/user/quickstart.html) disponible en la documentación oficial de la librería para profundizar en estos conceptos."
      ]
    },
    {
      "cell_type": "markdown",
      "metadata": {
        "id": "fOAYK4RUsqqR"
      },
      "source": [
        "### `ndarrays`\n",
        "\n",
        "A diferencia de la estructura de datos de lista incorporada de Python, estas matrices se escriben de forma homogénea: **todos los elementos de una única matriz deben ser del mismo tipo**.\n",
        "\n",
        "La función `shape` de un arreglo nos devuelve una tupla de enteros, representando el tamaño de cada dimensión del arreglo."
      ]
    },
    {
      "cell_type": "code",
      "metadata": {
        "id": "bgd1MWdYqRO9",
        "colab": {
          "base_uri": "https://localhost:8080/"
        },
        "outputId": "28503eae-9774-46ff-989c-93e178f849e4"
      },
      "source": [
        "# Ejemplo de Arreglo\n",
        "print('Arreglo (1D)')\n",
        "array = np.array([1, 2, 3]) # Creamos el arreglo\n",
        "print(type(array))\n",
        "print(array.shape)\n",
        "print(array[0], array[1], array[2])\n",
        "array[0] = 5\n",
        "print(array, '\\n')\n",
        "\n",
        "# Ejemplo de Matriz\n",
        "print('Matriz (2D)')\n",
        "array = np.array([[1, 2, 3], [4, 5, 6]]) # Creamos la matriz\n",
        "print(array.shape)\n",
        "print(array)\n",
        "print(array[0, 0], array[0, 1], array[1, 0], '\\n')\n",
        "\n",
        "# Ejemplo de 3 Dimensiones\n",
        "print('3D')\n",
        "array = np.array([\n",
        "                  [[1, 2, 3], [4, 5, 6]],\n",
        "                  [[7, 8, 9], [10, 11, 12]],\n",
        "                  [[13, 14, 15],[16, 17, 18]]\n",
        "                  ])\n",
        "print(array.shape)\n",
        "print(array)\n",
        "print(array[0, 0, 0], array[0, 1, 0], array[1, 0, 0], '\\n')\n",
        "\n",
        "print('Deben ser del mismo tipo...')\n",
        "array = np.array([['a', 'b', 'c', 10], [5, 6, 7, 8]])\n",
        "print(array)\n",
        "print(array[0, 2] + array[0, 3])"
      ],
      "execution_count": 11,
      "outputs": [
        {
          "output_type": "stream",
          "name": "stdout",
          "text": [
            "Arreglo (1D)\n",
            "<class 'numpy.ndarray'>\n",
            "(3,)\n",
            "1 2 3\n",
            "[5 2 3] \n",
            "\n",
            "Matriz (2D)\n",
            "(2, 3)\n",
            "[[1 2 3]\n",
            " [4 5 6]]\n",
            "1 2 4 \n",
            "\n",
            "3D\n",
            "(3, 2, 3)\n",
            "[[[ 1  2  3]\n",
            "  [ 4  5  6]]\n",
            "\n",
            " [[ 7  8  9]\n",
            "  [10 11 12]]\n",
            "\n",
            " [[13 14 15]\n",
            "  [16 17 18]]]\n",
            "1 4 7 \n",
            "\n",
            "Deben ser del mismo tipo...\n",
            "[['a' 'b' 'c' '10']\n",
            " ['5' '6' '7' '8']]\n",
            "c10\n"
          ]
        }
      ]
    },
    {
      "cell_type": "markdown",
      "metadata": {
        "id": "dRJcBYxLvW7j"
      },
      "source": [
        "### Indexando `ndarrays`\n",
        "\n",
        "Esta es una descripción general y muy rápida de las matrices en Numpy. Se recomienda leer el artículo [indexing](https://numpy.org/doc/stable/reference/arrays.indexing.html) disponible en la documentación oficial de la librería para profundizar en estos conceptos.\n",
        "\n",
        "Los ndarrays se pueden indexar usando la sintaxis estándar de Python, `x[obj]`, donde `x` es la matriz y `obj` la *selección*."
      ]
    },
    {
      "cell_type": "code",
      "metadata": {
        "id": "9AP97o2qvZAg",
        "colab": {
          "base_uri": "https://localhost:8080/"
        },
        "outputId": "9f536c53-d5cd-4cc0-ba5a-2aedcc7b4af7"
      },
      "source": [
        "print('Creando un array de 2 dimensiones a partir de una secuencia de números...')\n",
        "array = np.arange(25).reshape(5,5) # Creamos una matriz de tamaño 5x5 con números del 0 al 24\n",
        "print(array, '\\n')\n",
        "\n",
        "print('Extrayendo los elementos de filas y columnas del array 2D...') \n",
        "subArray = array[:2, :2] # de la 1er fila a la 2da fila, de la 1er columna a la 2da columna\n",
        "print(subArray, '\\n')\n",
        "\n",
        "subArray = array[1:4, 1:4] # de la 2da fila a la 4ta fila, de la 2da columna a la 4ta columna\n",
        "print(subArray, '\\n')\n",
        "\n",
        "print('Remplazando un bloque de elementos del array por otro bloque del mismo tamaño')\n",
        "newArray = np.zeros((3, 3)) # Creamos matriz de ceros\n",
        "print(newArray, '\\n')\n",
        "\n",
        "array[1:4, 1:4] = newArray \n",
        "print(array, '\\n')"
      ],
      "execution_count": 12,
      "outputs": [
        {
          "output_type": "stream",
          "name": "stdout",
          "text": [
            "Creando un array de 2 dimensiones a partir de una secuencia de números...\n",
            "[[ 0  1  2  3  4]\n",
            " [ 5  6  7  8  9]\n",
            " [10 11 12 13 14]\n",
            " [15 16 17 18 19]\n",
            " [20 21 22 23 24]] \n",
            "\n",
            "Extrayendo los elementos de filas y columnas del array 2D...\n",
            "[[0 1]\n",
            " [5 6]] \n",
            "\n",
            "[[ 6  7  8]\n",
            " [11 12 13]\n",
            " [16 17 18]] \n",
            "\n",
            "Remplazando un bloque de elementos del array por otro bloque del mismo tamaño\n",
            "[[0. 0. 0.]\n",
            " [0. 0. 0.]\n",
            " [0. 0. 0.]] \n",
            "\n",
            "[[ 0  1  2  3  4]\n",
            " [ 5  0  0  0  9]\n",
            " [10  0  0  0 14]\n",
            " [15  0  0  0 19]\n",
            " [20 21 22 23 24]] \n",
            "\n"
          ]
        }
      ]
    },
    {
      "cell_type": "markdown",
      "metadata": {
        "id": "BLpTkGHBa6Ly"
      },
      "source": [
        "--- \n",
        "\n",
        "# THE END\n",
        "\n",
        "Y llegamos al final de este tutorial! Cualquier comentario no dudes en escribirme.\n",
        "\n",
        "**Saludos y gracias por tu tiempo!!**"
      ]
    }
  ]
}