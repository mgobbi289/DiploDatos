{
  "nbformat": 4,
  "nbformat_minor": 0,
  "metadata": {
    "colab": {
      "name": "HyperOpt",
      "provenance": [],
      "collapsed_sections": []
    },
    "kernelspec": {
      "display_name": "Python 3",
      "name": "python3"
    }
  },
  "cells": [
    {
      "cell_type": "markdown",
      "metadata": {
        "id": "AT1WjbFzVFnB"
      },
      "source": [
        "# Breve aplicación de **HyperOpt**\n",
        "\n",
        "- [Documentación](https://hyperopt.github.io/hyperopt/) de la librería **HyperOpt**.\n",
        "\n",
        "- [Repositorio](https://github.com/hyperopt/hyperopt) de la librería **HyperOpt**."
      ]
    },
    {
      "cell_type": "markdown",
      "metadata": {
        "id": "o11LmKdEpjc7"
      },
      "source": [
        "Utilizaremos **Keras** para construir nuestros modelos ya que estamos familiarizados con la librería.\n",
        "De todas maneras, se podría realizar un trabajo similar con *PyTorch* o *Scikit-learn*."
      ]
    },
    {
      "cell_type": "code",
      "metadata": {
        "id": "7geQxPUHxS5G"
      },
      "source": [
        "import numpy as np\n",
        "import matplotlib.pyplot as plt\n",
        "\n",
        "from tensorflow.keras import datasets, layers, optimizers, Sequential"
      ],
      "execution_count": 1,
      "outputs": []
    },
    {
      "cell_type": "markdown",
      "metadata": {
        "id": "7eqmOuQuxTZn"
      },
      "source": [
        "**Selección del DataSet**\n",
        "\n",
        "Elegimos el conjunto de datos de **MNIST** ya que es lo suficientemente simple como para no necesitar dedicarle demasiado tiempo a su estudio, y nos permite concentrarnos propiamente en la aplicación de la librería **HyperOpt**."
      ]
    },
    {
      "cell_type": "code",
      "metadata": {
        "id": "_uJdRP_pxTZp"
      },
      "source": [
        "(x_train, y_train), (x_test, y_test) = datasets.mnist.load_data()"
      ],
      "execution_count": 2,
      "outputs": []
    },
    {
      "cell_type": "code",
      "metadata": {
        "colab": {
          "base_uri": "https://localhost:8080/"
        },
        "id": "0jzmK8k8xTZs",
        "outputId": "c4e19afb-32e6-49de-d3a1-7bca7397e4df"
      },
      "source": [
        "print(f'Dimensiones de Entrenamiento: {x_train.shape}')\n",
        "print(f'Longitud de Entrenamiento: {len(y_train)}')\n",
        "\n",
        "print('----------')\n",
        "\n",
        "print(f'Dimensiones de Evaluación: {x_test.shape}')\n",
        "print(f'Longitud de Evaluación: {len(y_test)}')"
      ],
      "execution_count": 3,
      "outputs": [
        {
          "output_type": "stream",
          "name": "stdout",
          "text": [
            "Dimensiones de Entrenamiento: (60000, 28, 28)\n",
            "Longitud de Entrenamiento: 60000\n",
            "----------\n",
            "Dimensiones de Evaluación: (10000, 28, 28)\n",
            "Longitud de Evaluación: 10000\n"
          ]
        }
      ]
    },
    {
      "cell_type": "markdown",
      "metadata": {
        "id": "t9FDsUlxCaWW"
      },
      "source": [
        "Al cargar el dataset, la función retorna cuatro arreglos en `NumPy`:\n",
        "\n",
        "* Los arreglos `x_train` y `y_train` son los datos del *training set* que se usan para aprender el modelo.\n",
        "* Los arreglos `x_test` y `y_test` son los datos del *test set* que se usan para probar el modelo.\n",
        "\n",
        "Las imágenes se cargan como arreglos `NumPy` de 28x28, con valores de píxel que varían de 0 a 255 (imagen en escala de grises). Los arreglos *y* son arreglos de enteros, que van del 0 al 9, con tantas filas como imágenes hay para entrenamiento y para testeo, respectivamente. \n",
        "\n",
        "Cada imagen es mapeada a un único dígito. Ya que los nombres de los números no están incluídos en los arreglos *y*, los almacenamos acá para usarlos luego cuando se visualicen las imágenes."
      ]
    },
    {
      "cell_type": "code",
      "metadata": {
        "id": "uTQzmWGbxTZu"
      },
      "source": [
        "digit_names = ['Cero',\n",
        "               'Uno',\n",
        "               'Dos',\n",
        "               'Tres',\n",
        "               'Cuatro',\n",
        "               'Cinco',\n",
        "               'Seis',\n",
        "               'Siete',\n",
        "               'Ocho',\n",
        "               'Nueve']"
      ],
      "execution_count": 4,
      "outputs": []
    },
    {
      "cell_type": "markdown",
      "metadata": {
        "id": "-FbMN_DF142_"
      },
      "source": [
        "**Preprocesamiento del DataSet**\n",
        "\n",
        "El set de datos debe ser pre-procesado antes de entrenar la red. Al visualizar la primer imagen en el set de entrenamiento, encontramos que los valores de los píxeles están entre 0 y 255:"
      ]
    },
    {
      "cell_type": "code",
      "metadata": {
        "colab": {
          "base_uri": "https://localhost:8080/",
          "height": 265
        },
        "id": "1AjZoGmR1rtx",
        "outputId": "43de1455-81c5-41c4-940e-7063555985bd"
      },
      "source": [
        "plt.figure()\n",
        "plt.imshow(x_train[0])\n",
        "plt.colorbar()\n",
        "plt.grid(False)\n",
        "plt.show()"
      ],
      "execution_count": 5,
      "outputs": [
        {
          "output_type": "display_data",
          "data": {
            "image/png": "[encoded data removed]",
            "text/plain": [
              "<Figure size 432x288 with 2 Axes>"
            ]
          },
          "metadata": {
            "needs_background": "light"
          }
        }
      ]
    },
    {
      "cell_type": "markdown",
      "metadata": {
        "id": "xwygSXck2K5s"
      },
      "source": [
        "Antes de entrenar la red neuronal debemos escalar estos valores en un rango de 0 a 1. Para hacerlo, dividimos los valores por 255. Es importante que el *training set* y el *testing set* se pre-procesen de la misma forma."
      ]
    },
    {
      "cell_type": "code",
      "metadata": {
        "id": "gEKnWcPmxTZw"
      },
      "source": [
        "# Normalizamos las imágenes\n",
        "x_train = x_train / 255.0\n",
        "x_test = x_test / 255.0"
      ],
      "execution_count": 6,
      "outputs": []
    },
    {
      "cell_type": "markdown",
      "metadata": {
        "id": "Ee638AlnCaWz"
      },
      "source": [
        "Para verificar que el set de datos está en el formato adecuado, y que están listos para entrenar la red, veamos las primeras 9 imágenes de el *training set* junto al nombre de clase debajo de cada imagen."
      ]
    },
    {
      "cell_type": "code",
      "metadata": {
        "colab": {
          "base_uri": "https://localhost:8080/",
          "height": 480
        },
        "id": "oZTImqg_CaW1",
        "outputId": "4b11363e-715c-45e2-e352-59c20f151a7e"
      },
      "source": [
        "plt.figure(figsize=(8, 8))\n",
        "for i in range(9):\n",
        "    plt.subplot(3, 3, i + 1)\n",
        "    plt.xticks([])\n",
        "    plt.yticks([])\n",
        "    plt.grid(False)\n",
        "    plt.imshow(x_train[i], cmap=plt.cm.binary)\n",
        "    plt.xlabel(digit_names[y_train[i]])\n",
        "plt.show()"
      ],
      "execution_count": 7,
      "outputs": [
        {
          "output_type": "display_data",
          "data": {
            "image/png": "[encoded data removed]",
            "text/plain": [
              "<Figure size 576x576 with 9 Axes>"
            ]
          },
          "metadata": {}
        }
      ]
    },
    {
      "cell_type": "markdown",
      "metadata": {
        "id": "gCkwqOlNxTZx"
      },
      "source": [
        "**Definición de la Red Neuronal**\n",
        "\n",
        "Definiremos una red neuronal extremadamente simple solo para tener un *baseline* de resultados.\n",
        "Claramente podríamos intentar mejorar las métricas obtenidas de forma manual, pero el objetivo del trabajo es mostrar la utilidad de **HyperOpt**; por lo tanto, la responsabilidad en la búsqueda de hiperparámetros óptimos es delegada a la librería."
      ]
    },
    {
      "cell_type": "code",
      "metadata": {
        "id": "sSuRmPtqxTZx"
      },
      "source": [
        "model = Sequential([\n",
        "    # Al trabajar solo con capas densas, necesitamos vectorizar las imágenes\n",
        "    layers.Flatten(input_shape=(28, 28)),\n",
        "    # Una capa densa simple, con alguna función de activación arbitraria\n",
        "    layers.Dense(32, activation='sigmoid'),\n",
        "    # Cada una de las salidas corresponde a una de las clases del conjunto\n",
        "    layers.Dense(10, activation='softmax')\n",
        "])"
      ],
      "execution_count": 8,
      "outputs": []
    },
    {
      "cell_type": "code",
      "metadata": {
        "id": "j9MYj3wJxTZy"
      },
      "source": [
        "model.compile(optimizer='adam',\n",
        "              loss='sparse_categorical_crossentropy',\n",
        "              metrics=['accuracy'])"
      ],
      "execution_count": 9,
      "outputs": []
    },
    {
      "cell_type": "code",
      "metadata": {
        "colab": {
          "base_uri": "https://localhost:8080/"
        },
        "id": "7IFugjiYxTZz",
        "outputId": "20824947-85ee-470c-d689-5fb8fdb107ea"
      },
      "source": [
        "model.fit(x_train, y_train, epochs=1);"
      ],
      "execution_count": 10,
      "outputs": [
        {
          "output_type": "stream",
          "name": "stdout",
          "text": [
            "1875/1875 [==============================] - 4s 2ms/step - loss: 0.5634 - accuracy: 0.8766\n"
          ]
        }
      ]
    },
    {
      "cell_type": "markdown",
      "metadata": {
        "id": "cbmSMmVnxTZ1"
      },
      "source": [
        "**Cálculo de Métricas**\n",
        "\n",
        "Es momento de evaluar el desempeño de nuestro modelo *baseline*."
      ]
    },
    {
      "cell_type": "code",
      "metadata": {
        "colab": {
          "base_uri": "https://localhost:8080/"
        },
        "id": "riaVt5xoxTZ2",
        "outputId": "920ed932-7426-4036-8863-ae82a297887e"
      },
      "source": [
        "test_loss, test_acc = model.evaluate(x_test, y_test)\n",
        "\n",
        "print(f'Test Loss: {test_loss}')\n",
        "print(f'Test Accuracy: {test_acc}')"
      ],
      "execution_count": 11,
      "outputs": [
        {
          "output_type": "stream",
          "name": "stdout",
          "text": [
            "313/313 [==============================] - 1s 1ms/step - loss: 0.2848 - accuracy: 0.9244\n",
            "Test Loss: 0.28482791781425476\n",
            "Test Accuracy: 0.9243999719619751\n"
          ]
        }
      ]
    },
    {
      "cell_type": "markdown",
      "metadata": {
        "id": "SQkztenGxTZ2"
      },
      "source": [
        "El *accuracy* en este conjunto de datos es bastante bueno.\n",
        "Resulta que clasificar dígitos manuscritos no presenta una tarea tan compleja para una red neuronal.\n",
        "Intentaremos superar estos resultados aplicando la librería **HyperOpt**."
      ]
    },
    {
      "cell_type": "markdown",
      "metadata": {
        "id": "Wus7tpWdxTZ2"
      },
      "source": [
        "**Predicciones**\n",
        "\n",
        "Por último vamos a crear una función que nos permita graficar la probabilidad de clase de cada una de las imágenes del dataset de pruebas."
      ]
    },
    {
      "cell_type": "code",
      "metadata": {
        "id": "DvYmmrpIy6Y1"
      },
      "source": [
        "def plot_image(i, predictions_array, true_label, img, class_names):\n",
        "  predictions_array, true_label, img = predictions_array, true_label[i], img[i]\n",
        "  plt.grid(False)\n",
        "  plt.xticks([])\n",
        "  plt.yticks([])\n",
        "\n",
        "  plt.imshow(img, cmap=plt.cm.binary)\n",
        "\n",
        "  predicted_label = np.argmax(predictions_array)\n",
        "  if predicted_label == true_label:\n",
        "    color = 'blue'\n",
        "  else:\n",
        "    color = 'red'\n",
        "\n",
        "  plt.xlabel('{} {:2.0f}% ({})'.format(class_names[predicted_label],\n",
        "                                       100 * np.max(predictions_array),\n",
        "                                       class_names[true_label]),\n",
        "             color=color)\n",
        "\n",
        "\n",
        "def plot_value_array(i, predictions_array, true_label, class_names):\n",
        "  predictions_array, true_label = predictions_array, true_label[i]\n",
        "  plt.grid(False)\n",
        "  plt.xticks(range(10), class_names, rotation=90)\n",
        "  plt.yticks([])\n",
        "  thisplot = plt.bar(range(10), predictions_array, color='#777777')\n",
        "  plt.ylim([0, 1])\n",
        "  predicted_label = np.argmax(predictions_array)\n",
        "\n",
        "  thisplot[predicted_label].set_color('red')\n",
        "  thisplot[true_label].set_color('blue')\n",
        "\n",
        "\n",
        "def plot_grid(num_rows, num_cols, predictions, test_labels, test_images, class_names):\n",
        "  \"\"\"\n",
        "  Plot the first num_rows * num_cols test images, their predicted labels, and the\n",
        "  true labels. Color correct predictions in blue and incorrect predictions in red.\n",
        "  \"\"\"\n",
        "  num_images = num_rows * num_cols\n",
        "  plt.figure(figsize=(2 * 2 * num_cols, 2 * num_rows))\n",
        "  for i in range(num_images):\n",
        "    plt.subplot(num_rows, 2 * num_cols, 2 * i + 1)\n",
        "    plot_image(i, predictions[i], test_labels, test_images, class_names)\n",
        "    plt.subplot(num_rows, 2 * num_cols, 2 * i + 2)\n",
        "    plot_value_array(i, predictions[i], test_labels, class_names)\n",
        "  plt.tight_layout()\n",
        "  plt.show()"
      ],
      "execution_count": 12,
      "outputs": []
    },
    {
      "cell_type": "code",
      "metadata": {
        "colab": {
          "base_uri": "https://localhost:8080/",
          "height": 441
        },
        "id": "21olQEJpxTZ3",
        "outputId": "473263d0-c46b-4e02-e176-a7e9279e9964"
      },
      "source": [
        "predictions = model.predict(x_test)\n",
        "\n",
        "plot_grid(3, 3, predictions, y_test, x_test, digit_names)"
      ],
      "execution_count": 13,
      "outputs": [
        {
          "output_type": "display_data",
          "data": {
            "image/png": "[encoded data removed]",
            "text/plain": [
              "<Figure size 864x432 with 18 Axes>"
            ]
          },
          "metadata": {
            "needs_background": "light"
          }
        }
      ]
    },
    {
      "cell_type": "markdown",
      "metadata": {
        "id": "muvJWcKcxTZ4"
      },
      "source": [
        "**Observaciones**\n",
        "\n",
        "El desempeño de nuestro modelo en esta pequeña muestra es prácticamente perfecto.\n",
        "Salvo por el ejemplo del `5`, donde se comete un error importante, la red neuronal acertó a la totalidad de sus predicciones realizadas."
      ]
    },
    {
      "cell_type": "markdown",
      "metadata": {
        "id": "HRzPE7kI4oy0"
      },
      "source": [
        "# Aplicando HyperOpt\n",
        "\n",
        "Es momento de intentar superar nuestro *baseline*.\n",
        "\n",
        "La librería **HyperOpt** nos provee un mecanismo de búsqueda automático de hiperparámetros óptimos.\n",
        "A grandes rasgos, el procedimiento de aplicación tiene la siguiente forma:\n",
        "- Se define la **función objetivo**. Nuestra tarea es intentar maximizar (o minimizar) alguna métrica específica sobre algún conjunto de validación.\n",
        "- Se define el **espacio de búsqueda**. La librería se encargará de probar distintas combinaciones de valores para los hiperparámetros de nuestro modelo, extrayendo los mismos de este conjunto de datos.\n",
        "- Se define la **cantidad de intentos**. De acuerdo a los recursos con los que se disponga, se determinan la cantidad de experimentos que realizará la librería para aproximar los hiperparámetros óptimos.\n",
        "- Se realiza la **búsqueda automática de hiperparámetros óptimos**. Una vez se hayan definido todos los elementos necesarios, la librería realizará la búsqueda y retornará la mejor combinación encontrada."
      ]
    },
    {
      "cell_type": "code",
      "metadata": {
        "id": "n9aDCpyT4exi"
      },
      "source": [
        "from sklearn.model_selection import train_test_split\n",
        "\n",
        "x_train, x_val, y_train, y_val = train_test_split(x_train, y_train, test_size=0.25, random_state=123)"
      ],
      "execution_count": 14,
      "outputs": []
    },
    {
      "cell_type": "markdown",
      "metadata": {
        "id": "fIvwpgup-lwq"
      },
      "source": [
        "Ahora definimos la **función objetivo**.\n",
        "\n",
        "La métrica a minimizar entonces, será la *loss* en el conjunto de validación."
      ]
    },
    {
      "cell_type": "code",
      "metadata": {
        "id": "TMelGdvv5h3Y"
      },
      "source": [
        "from hyperopt import STATUS_OK\n",
        "\n",
        "# Definición de función objetivo\n",
        "def objective_function(args):\n",
        "  # Obtenemos los hiperparámetros del modelo\n",
        "  hidden_layers = args['hidden_layers']\n",
        "  activation = args['activation']\n",
        "  dropout = args['dropout']\n",
        "  # Obtenemos los hiperparámetros del entrenamiento\n",
        "  epochs = args['epochs']\n",
        "  learning_rate = args['learning_rate']\n",
        "  optimizer = args['optimizer']\n",
        "\n",
        "  # Modelo\n",
        "  model = Sequential()\n",
        "  model.add(layers.Flatten(input_shape=(28, 28)))\n",
        "  for hidden_units in hidden_layers:\n",
        "    model.add(layers.Dense(hidden_units, activation=activation))\n",
        "    model.add(layers.Dropout(dropout))\n",
        "  model.add(layers.Dense(10, activation='softmax'))\n",
        "\n",
        "  # Optimizador\n",
        "  optimizer.learning_rate = learning_rate\n",
        "  model.compile(optimizer=optimizer,\n",
        "                loss='sparse_categorical_crossentropy',\n",
        "                metrics=['accuracy'])\n",
        "\n",
        "  # Entrenamiento\n",
        "  model.fit(x_train, y_train, epochs=epochs, verbose=0)\n",
        "\n",
        "  # Evaluación\n",
        "  val_loss, val_acc = model.evaluate(x_val, y_val, verbose=0)\n",
        "\n",
        "  return {'loss': val_loss, 'status': STATUS_OK, 'model': model}"
      ],
      "execution_count": 15,
      "outputs": []
    },
    {
      "cell_type": "markdown",
      "metadata": {
        "id": "wNgdFarn_NMt"
      },
      "source": [
        "Ahora definimos el **espacio de búsqueda**, y la **cantidad de intentos**.\n",
        "\n",
        "En total, hay 6 hiperparámetros que serán optimizados.\n",
        "- `hidden_layers` son las capas densas, junto con las neuronas que las componen.\n",
        "- `activation` es la función no lineal que se aplica luego de cada capa densa.\n",
        "- `dropout` es la probabilidad de apagar una neurona durante el entrenamiento.\n",
        "- `epochs` es la cantidad de veces que el modelo aprenderá sobre el entrenamiento.\n",
        "- `learning_rate` es la velocidad de aprendizaje del modelo.\n",
        "- `optimizer` es el algoritmo que realiza la optimización sobre el modelo."
      ]
    },
    {
      "cell_type": "code",
      "metadata": {
        "colab": {
          "base_uri": "https://localhost:8080/"
        },
        "id": "Aye_lMdw5rxK",
        "outputId": "d80aad7b-3448-4383-93ee-1c3c1ac966a3"
      },
      "source": [
        "from hyperopt import hp, fmin, tpe, Trials, space_eval\n",
        "\n",
        "hidden_layers_choices = [[32], [64], [128], [32, 32], [64, 64], [32, 64, 32]]\n",
        "activation_choices = ['relu', 'sigmoid', 'tanh']\n",
        "optimizer_choices = [optimizers.Adam(), optimizers.RMSprop()]\n",
        "\n",
        "# Definición del espacio de búsqueda\n",
        "space = {\n",
        "    # Sobre el modelo...\n",
        "    'hidden_layers': hp.choice('hidden_layers', hidden_layers_choices),\n",
        "    'activation': hp.choice('activation', activation_choices),\n",
        "    'dropout': hp.uniform('dropout', 0, 0.5),\n",
        "    # Sobre el entrenamiento...\n",
        "    'epochs':hp.randint('epochs', 10),\n",
        "    'learning_rate': hp.loguniform('learning_rate', np.log(0.0001), np.log(0.005)),\n",
        "    'optimizer': hp.choice('optimizer', optimizer_choices)\n",
        "    }\n",
        "\n",
        "# Para almacenar información de los experimentos, se define el objeto Trials\n",
        "trials = Trials()\n",
        "\n",
        "# Minimización de la función objetivo sobre el espacio de búsqueda (250 intentos)\n",
        "best = fmin(objective_function, space, algo=tpe.suggest, max_evals=250, trials=trials)"
      ],
      "execution_count": 16,
      "outputs": [
        {
          "output_type": "stream",
          "name": "stdout",
          "text": [
            "100%|██████████| 250/250 [1:23:57<00:00, 20.15s/it, best loss: 0.07602649182081223]\n"
          ]
        }
      ]
    },
    {
      "cell_type": "markdown",
      "metadata": {
        "id": "nLcP4FDXApBl"
      },
      "source": [
        "Una vez finalizada la búsqueda, veamos cuales fueron los mejores hiperparámetros encontrados..."
      ]
    },
    {
      "cell_type": "code",
      "metadata": {
        "colab": {
          "base_uri": "https://localhost:8080/"
        },
        "id": "iMF6kIcN5xk_",
        "outputId": "847bc556-f8f0-4419-e962-5607a59b4f53"
      },
      "source": [
        "print('Best hyperparameters...')\n",
        "print(best)"
      ],
      "execution_count": 17,
      "outputs": [
        {
          "output_type": "stream",
          "name": "stdout",
          "text": [
            "Best hyperparameters...\n",
            "{'activation': 0, 'dropout': 0.1998484440611241, 'epochs': 9, 'hidden_layers': 2, 'learning_rate': 0.000768369934269766, 'optimizer': 0}\n"
          ]
        }
      ]
    },
    {
      "cell_type": "markdown",
      "metadata": {
        "id": "VgA_ZBT7eu7I"
      },
      "source": [
        "**Observación**\n",
        "\n",
        "El diccionario con los mejores hiperparámetros encontrados no trae la selección de `hp.choice`, sino solo su índice en la lista de opciones."
      ]
    },
    {
      "cell_type": "code",
      "metadata": {
        "id": "Mb--v4kXfFnk",
        "colab": {
          "base_uri": "https://localhost:8080/"
        },
        "outputId": "aaed2ef1-9e09-4878-90fc-ecc02bf39af7"
      },
      "source": [
        "best_model = trials.best_trial['result']['model']\n",
        "\n",
        "best_model"
      ],
      "execution_count": 18,
      "outputs": [
        {
          "output_type": "execute_result",
          "data": {
            "text/plain": [
              "<keras.engine.sequential.Sequential at 0x7ff97c615310>"
            ]
          },
          "metadata": {},
          "execution_count": 18
        }
      ]
    },
    {
      "cell_type": "markdown",
      "metadata": {
        "id": "5nsBgAXD5Hkw"
      },
      "source": [
        "**Cálculo de Métricas**\n",
        "\n",
        "Es momento de evaluar el desempeño de nuestro mejor modelo encontrado."
      ]
    },
    {
      "cell_type": "code",
      "metadata": {
        "colab": {
          "base_uri": "https://localhost:8080/"
        },
        "id": "HhaH-hzb5Hky",
        "outputId": "891b46dd-44f4-4ab4-bf3b-f99c1ac73998"
      },
      "source": [
        "test_loss, test_acc = best_model.evaluate(x_test, y_test)\n",
        "\n",
        "print(f'Test Loss: {test_loss}')\n",
        "print(f'Test Accuracy: {test_acc}')"
      ],
      "execution_count": 19,
      "outputs": [
        {
          "output_type": "stream",
          "name": "stdout",
          "text": [
            "313/313 [==============================] - 1s 2ms/step - loss: 0.0750 - accuracy: 0.9766\n",
            "Test Loss: 0.07504604756832123\n",
            "Test Accuracy: 0.9765999913215637\n"
          ]
        }
      ]
    },
    {
      "cell_type": "code",
      "metadata": {
        "id": "pzaRteaUwxlq",
        "colab": {
          "base_uri": "https://localhost:8080/",
          "height": 441
        },
        "outputId": "459f951c-eea1-491f-ef84-3e9859311cdf"
      },
      "source": [
        "predictions = best_model.predict(x_test)\n",
        "\n",
        "plot_grid(3, 3, predictions, y_test, x_test, digit_names)"
      ],
      "execution_count": 20,
      "outputs": [
        {
          "output_type": "display_data",
          "data": {
            "image/png": "[encoded data removed]",
            "text/plain": [
              "<Figure size 864x432 with 18 Axes>"
            ]
          },
          "metadata": {
            "needs_background": "light"
          }
        }
      ]
    },
    {
      "cell_type": "markdown",
      "metadata": {
        "id": "2OVu2kmdA37R"
      },
      "source": [
        "**Conclusión**\n",
        "\n",
        "Es evidente que estamos trabajando con un conjunto de datos bastante simple.\n",
        "De todas formas, resulta claro que **HyperOpt** es una herramienta fundamental para buscar hiperparámetros competentes sin exigirle prácticamente ningún esfuerzo adicional al científico de datos.\n",
        "\n",
        "- Se declara un **espacio de búsqueda** amplio. En caso de contar con algún conocimiento sobre el dominio del problema, se podría refinar manualmente el espacio, lo cual agilizaría la búsqueda aún más.\n",
        "- Se configura una **cantidad de experimentos** arbitraria. En base a los recursos computacionales (y temporales) con los que cuenta el equipo, se puede ser más o menos persistente en la búsqueda.\n",
        "- Se define la **función objetivo** a maximizar o minimizar. Quizás esta sea la parte que requiere mayor participación por parte del científico. De todas maneras, su definición no se aparta demasiado de un *pipeline* de *machine learning* cualquiera.\n",
        "\n",
        "En conclusión, consideramos que la librería es bastante accesible para cualquier científico de datos, provee un mecanismo ágil y simple para automatizar una etapa tediosa en el desarrollo de la ciencia de datos, y demuestra resultados competentes en su aplicación.\n",
        "\n",
        "En caso de ser necesario, en el siguiente [link](https://github.com/mgobbi289/DiploDatos/blob/main/aprendizajeProfundo/experiment/README.md) se puede encontrar otra aplicación de la librería (realizada por el mismo grupo), a un problema ampliamente más complejo al presentado en esta notebook; el cual puede resultarle más interesante al lector curioso."
      ]
    }
  ]
}