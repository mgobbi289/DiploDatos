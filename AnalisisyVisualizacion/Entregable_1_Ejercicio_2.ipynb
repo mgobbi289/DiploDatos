{
 "cells": [
  {
   "cell_type": "markdown",
   "metadata": {
    "id": "LYvAOR2VzHmW"
   },
   "source": [
    "\n",
    "**Diplomatura en Ciencia de Datos, Aprendizaje Automático y sus Aplicaciones**\n",
    "\n",
    "**Edición 2021**\n",
    "\n",
    "---\n",
    "## Trabajo práctico entregable - Parte 1"
   ]
  },
  {
   "cell_type": "code",
   "execution_count": 1,
   "metadata": {
    "id": "Xwdfo7z20TUK"
   },
   "outputs": [],
   "source": [
    "import io\n",
    "import matplotlib\n",
    "import matplotlib.pyplot as plt\n",
    "import numpy\n",
    "import pandas as pd\n",
    "import seaborn\n",
    "\n",
    "seaborn.set_context('talk')\n",
    "seaborn.set_theme(style='ticks')"
   ]
  },
  {
   "cell_type": "markdown",
   "metadata": {
    "id": "XY2Hl-Ma07Nn"
   },
   "source": [
    "## Lectura del dataset\n",
    "\n",
    "En la notebook *00* se explican los detalles de la siguiente sección."
   ]
  },
  {
   "cell_type": "code",
   "execution_count": 2,
   "metadata": {
    "id": "Vviv_sqXdR5W"
   },
   "outputs": [],
   "source": [
    "url = 'https://cs.famaf.unc.edu.ar/~mteruel/datasets/diplodatos/sysarmy_survey_2020_processed.csv'\n",
    "df = pd.read_csv(url)"
   ]
  },
  {
   "cell_type": "code",
   "execution_count": 3,
   "metadata": {
    "colab": {
     "base_uri": "https://localhost:8080/",
     "height": 297
    },
    "id": "gckNHXXLktJ4",
    "outputId": "66c64637-de04-4239-a158-ce88d604511d"
   },
   "outputs": [
    {
     "data": {
      "text/html": [
       "<div>\n",
       "<style scoped>\n",
       "    .dataframe tbody tr th:only-of-type {\n",
       "        vertical-align: middle;\n",
       "    }\n",
       "\n",
       "    .dataframe tbody tr th {\n",
       "        vertical-align: top;\n",
       "    }\n",
       "\n",
       "    .dataframe thead th {\n",
       "        text-align: right;\n",
       "    }\n",
       "</style>\n",
       "<table border=\"1\" class=\"dataframe\">\n",
       "  <thead>\n",
       "    <tr style=\"text-align: right;\">\n",
       "      <th></th>\n",
       "      <th>profile_gender</th>\n",
       "      <th>profile_age</th>\n",
       "      <th>work_country</th>\n",
       "      <th>work_province</th>\n",
       "      <th>profile_years_experience</th>\n",
       "      <th>work_years_in_company</th>\n",
       "      <th>work_years_in_current_position</th>\n",
       "      <th>work_people_in_charge_of</th>\n",
       "      <th>profile_studies_level</th>\n",
       "      <th>profile_studies_level_state</th>\n",
       "      <th>...</th>\n",
       "      <th>work_has_violence_situations</th>\n",
       "      <th>profile_sexual_orientation</th>\n",
       "      <th>profile_has_disabilities</th>\n",
       "      <th>profile_has_disabilities_hiring_difficulties</th>\n",
       "      <th>company_employee_number</th>\n",
       "      <th>company_main_activity</th>\n",
       "      <th>company_recommended</th>\n",
       "      <th>company_diversity_policies</th>\n",
       "      <th>company_extra_benefits</th>\n",
       "      <th>company_best_companies_city</th>\n",
       "    </tr>\n",
       "  </thead>\n",
       "  <tbody>\n",
       "    <tr>\n",
       "      <th>0</th>\n",
       "      <td>Mujer</td>\n",
       "      <td>26</td>\n",
       "      <td>Argentina</td>\n",
       "      <td>Ciudad Autónoma de Buenos Aires</td>\n",
       "      <td>3.0</td>\n",
       "      <td>3.0</td>\n",
       "      <td>3.0</td>\n",
       "      <td>0</td>\n",
       "      <td>Universitario</td>\n",
       "      <td>En curso</td>\n",
       "      <td>...</td>\n",
       "      <td>En mi trabajo actual</td>\n",
       "      <td>Homosexual</td>\n",
       "      <td>NaN</td>\n",
       "      <td>NaN</td>\n",
       "      <td>501-1000</td>\n",
       "      <td>Servicios / Consultoría de Software / Digital</td>\n",
       "      <td>7</td>\n",
       "      <td>2</td>\n",
       "      <td>Capacitaciones y/o cursos, Comidas pagas / sub...</td>\n",
       "      <td>NaN</td>\n",
       "    </tr>\n",
       "    <tr>\n",
       "      <th>1</th>\n",
       "      <td>Hombre</td>\n",
       "      <td>29</td>\n",
       "      <td>Argentina</td>\n",
       "      <td>Corrientes</td>\n",
       "      <td>5.0</td>\n",
       "      <td>2.0</td>\n",
       "      <td>2.0</td>\n",
       "      <td>4</td>\n",
       "      <td>Universitario</td>\n",
       "      <td>En curso</td>\n",
       "      <td>...</td>\n",
       "      <td>Jamás</td>\n",
       "      <td>Heterosexual</td>\n",
       "      <td>Visual</td>\n",
       "      <td>No</td>\n",
       "      <td>201-500</td>\n",
       "      <td>Otras industrias</td>\n",
       "      <td>8</td>\n",
       "      <td>9</td>\n",
       "      <td>Horarios flexibles, Stock options / RSUs, Viát...</td>\n",
       "      <td>NaN</td>\n",
       "    </tr>\n",
       "    <tr>\n",
       "      <th>2</th>\n",
       "      <td>Mujer</td>\n",
       "      <td>22</td>\n",
       "      <td>Argentina</td>\n",
       "      <td>Ciudad Autónoma de Buenos Aires</td>\n",
       "      <td>2.0</td>\n",
       "      <td>0.0</td>\n",
       "      <td>0.0</td>\n",
       "      <td>0</td>\n",
       "      <td>Secundario</td>\n",
       "      <td>Completado</td>\n",
       "      <td>...</td>\n",
       "      <td>En un trabajo anterior</td>\n",
       "      <td>Bisexual o queer</td>\n",
       "      <td>NaN</td>\n",
       "      <td>No</td>\n",
       "      <td>2001-5000</td>\n",
       "      <td>Otras industrias</td>\n",
       "      <td>6</td>\n",
       "      <td>9</td>\n",
       "      <td>Clases de gimnasia online, Comidas pagas / sub...</td>\n",
       "      <td>NaN</td>\n",
       "    </tr>\n",
       "  </tbody>\n",
       "</table>\n",
       "<p>3 rows × 48 columns</p>\n",
       "</div>"
      ],
      "text/plain": [
       "  profile_gender  profile_age work_country                    work_province  \\\n",
       "0          Mujer           26    Argentina  Ciudad Autónoma de Buenos Aires   \n",
       "1         Hombre           29    Argentina                       Corrientes   \n",
       "2          Mujer           22    Argentina  Ciudad Autónoma de Buenos Aires   \n",
       "\n",
       "   profile_years_experience  work_years_in_company  \\\n",
       "0                       3.0                    3.0   \n",
       "1                       5.0                    2.0   \n",
       "2                       2.0                    0.0   \n",
       "\n",
       "   work_years_in_current_position  work_people_in_charge_of  \\\n",
       "0                             3.0                         0   \n",
       "1                             2.0                         4   \n",
       "2                             0.0                         0   \n",
       "\n",
       "  profile_studies_level profile_studies_level_state  ...  \\\n",
       "0         Universitario                    En curso  ...   \n",
       "1         Universitario                    En curso  ...   \n",
       "2            Secundario                  Completado  ...   \n",
       "\n",
       "  work_has_violence_situations profile_sexual_orientation  \\\n",
       "0         En mi trabajo actual                 Homosexual   \n",
       "1                        Jamás               Heterosexual   \n",
       "2       En un trabajo anterior           Bisexual o queer   \n",
       "\n",
       "  profile_has_disabilities profile_has_disabilities_hiring_difficulties  \\\n",
       "0                      NaN                                          NaN   \n",
       "1                   Visual                                           No   \n",
       "2                      NaN                                           No   \n",
       "\n",
       "  company_employee_number                          company_main_activity  \\\n",
       "0                501-1000  Servicios / Consultoría de Software / Digital   \n",
       "1                 201-500                               Otras industrias   \n",
       "2               2001-5000                               Otras industrias   \n",
       "\n",
       "  company_recommended company_diversity_policies  \\\n",
       "0                   7                          2   \n",
       "1                   8                          9   \n",
       "2                   6                          9   \n",
       "\n",
       "                              company_extra_benefits  \\\n",
       "0  Capacitaciones y/o cursos, Comidas pagas / sub...   \n",
       "1  Horarios flexibles, Stock options / RSUs, Viát...   \n",
       "2  Clases de gimnasia online, Comidas pagas / sub...   \n",
       "\n",
       "  company_best_companies_city  \n",
       "0                         NaN  \n",
       "1                         NaN  \n",
       "2                         NaN  \n",
       "\n",
       "[3 rows x 48 columns]"
      ]
     },
     "execution_count": 3,
     "metadata": {},
     "output_type": "execute_result"
    }
   ],
   "source": [
    "df[:3]"
   ]
  },
  {
   "cell_type": "markdown",
   "metadata": {
    "id": "-ZSQYANFHHgV"
   },
   "source": [
    "# Ejercicio 2 - Densidades y varias variables\n",
    "\n",
    "Responder a la pregunta general: **¿Qué herramientas (prácticas y/o teóricas) son útiles para explorar la base, y descubrir patrones o asociaciones?**\n",
    "\n",
    "Para ello considere (igual al ejercicio anterior):\n",
    "\n",
    "1. Seleccionar las columnas relevantes para analizar.\n",
    "\n",
    "**Respuesta**\n",
    "Dejando de lado los lenguajes de programación del ejercicio anterior, se procede a elegir las siguientes columnas\n",
    "- Variables Numéricas: `salary_monthly_NETO`, `salary_monthly_BRUTO`, y `profile_age`.\n",
    "- Variables Categóricas: `work_contract_type`, y `salary_in_usd`.\n",
    "- Variables Ordinales: `profile_studies_level`, y `profile_studies_level_state` (también podría ser categórica).\n",
    "\n",
    "2. Seleccionar las filas relevantes para analizar. Esto incluye la eliminación de valores extremos y erróneos, pero también puede enfocar el análisis en sub-poblaciones.\n",
    "\n",
    "**Respuesta**\n",
    "Observando los datos se pudo apreciar la existencia de valores *NaN* y erróneos, por lo que se procedió a eliminar los valores nulos y los menores a 10000 que existían en la columna `salary_monthly_NETO`.\n",
    "Para los valores extremos superiores, se procedió a eliminar los mayores al percentil 99, entendiendo que esto genera un sesgo en la media muestral.\n",
    "Un razonamiento idéntico se aplica para la columna `salary_monthly_BRUTO`.\n",
    "En el caso de las columnas adicionales se procedió de la siguiente manera\n",
    "- Se eliminan las filas con edades mayores a 100 años en `profile_age`, ya que carecen de sentido.\n",
    "- Se aplica una transformación a los valores de `salary_in_usd`, para poder trabajar con valores *booleanos* en lugar de *strings*."
   ]
  },
  {
   "cell_type": "markdown",
   "metadata": {},
   "source": [
    "### 1. Selección de Columnas Relevantes"
   ]
  },
  {
   "cell_type": "code",
   "execution_count": 4,
   "metadata": {
    "id": "6dqTEr7cZgvl"
   },
   "outputs": [
    {
     "data": {
      "text/plain": [
       "Index(['profile_gender', 'profile_age', 'work_country', 'work_province',\n",
       "       'profile_years_experience', 'work_years_in_company',\n",
       "       'work_years_in_current_position', 'work_people_in_charge_of',\n",
       "       'profile_studies_level', 'profile_studies_level_state',\n",
       "       'profile_career', 'profile_university',\n",
       "       'profile_specialization_courses', 'profile_open_source_contributions',\n",
       "       'profile_programming_as_hobby', 'work_role', 'tools_platform',\n",
       "       'tools_programming_languages', 'tools_frameworks', 'tools_data_bases',\n",
       "       'tools_qa_testing', 'tools_IDEs', 'tools_work_pc_os',\n",
       "       'tools_cellphone_os', 'work_on_call_duty', 'salary_on_call_duty_charge',\n",
       "       'work_on_call_duty_charge_type', 'work_contract_type',\n",
       "       'salary_monthly_BRUTO', 'salary_monthly_NETO', 'salary_in_usd',\n",
       "       'salary_satisfaction', 'salary_comparison_last_semester',\n",
       "       'salary_has_bonus', 'salary_bonus_tied_to',\n",
       "       'salary_inflation_adjustment_2020',\n",
       "       'salary_percentage_inflation_adjustment_2020',\n",
       "       'salary_month_last_inflation_adjustment',\n",
       "       'work_has_violence_situations', 'profile_sexual_orientation',\n",
       "       'profile_has_disabilities',\n",
       "       'profile_has_disabilities_hiring_difficulties',\n",
       "       'company_employee_number', 'company_main_activity',\n",
       "       'company_recommended', 'company_diversity_policies',\n",
       "       'company_extra_benefits', 'company_best_companies_city'],\n",
       "      dtype='object')"
      ]
     },
     "execution_count": 4,
     "metadata": {},
     "output_type": "execute_result"
    }
   ],
   "source": [
    "# Constantes Auxiliares.\n",
    "\n",
    "# Numéricas\n",
    "neto = 'salary_monthly_NETO'\n",
    "bruto = 'salary_monthly_BRUTO'\n",
    "edad = 'profile_age'\n",
    "# Categóricas\n",
    "contrato = 'work_contract_type'\n",
    "dolares = 'salary_in_usd'\n",
    "# Ordinales\n",
    "nivel = 'profile_studies_level'\n",
    "estado = 'profile_studies_level_state'\n",
    "\n",
    "# Selección de Columnas Relevantes.\n",
    "relevant_columns = [neto, bruto, edad, contrato, dolares, nivel, estado]\n",
    "\n",
    "df.columns"
   ]
  },
  {
   "cell_type": "markdown",
   "metadata": {},
   "source": [
    "### 2. Selección de Filas Relevantes"
   ]
  },
  {
   "cell_type": "code",
   "execution_count": 5,
   "metadata": {},
   "outputs": [],
   "source": [
    "def filtrar_salarios(df, salario):\n",
    "    \"\"\"\n",
    "    Dada una columna de salarios, aplica una serie de filtros al df.\n",
    "    \"\"\"\n",
    "\n",
    "    # ¿Cuántos NaN existen en la columna de salarios?\n",
    "    print(f'Cantidad de salarios nulos: {df[salario].isnull().sum()}')\n",
    "    # Limpieza de valores nulos.\n",
    "    df.dropna(subset=[salario], inplace=True)\n",
    "\n",
    "    # Salario Mínimo para la subpoblación de estudio.\n",
    "    min_salary = 10000\n",
    "    # ¿Cuántos salarios erróneos existen en la columna de salarios?\n",
    "    print(f'Cantidad de salarios <= 10K: {(df[salario] <= min_salary).sum()}')\n",
    "    # Considerando el salario mínimo.\n",
    "    df = df[df[salario] > min_salary]\n",
    "\n",
    "    # Salario Máximo para la subpoblación de estudio (Percentil 99).\n",
    "    max_salary = df[salario].quantile(0.99)\n",
    "    print(f'Percentil 99: {max_salary}')\n",
    "    # ¿Cuántos salarios son anómalos en la columna de salarios?\n",
    "    print(f'Cantidad de salarios anómalos: {(df[salario] >= max_salary).sum()}')\n",
    "    # Considerando el salario del percentil 99.\n",
    "    df = df[df[salario] < max_salary]\n",
    "\n",
    "    return df"
   ]
  },
  {
   "cell_type": "code",
   "execution_count": 6,
   "metadata": {},
   "outputs": [
    {
     "name": "stdout",
     "output_type": "stream",
     "text": [
      "Filtrado según salario BRUTO:\n",
      "Cantidad de salarios nulos: 0\n",
      "Cantidad de salarios <= 10K: 197\n",
      "Percentil 99: 641939.2999999978\n",
      "Cantidad de salarios anómalos: 59\n",
      "----------\n",
      "Filtrado según salario NETO:\n",
      "Cantidad de salarios nulos: 197\n",
      "Cantidad de salarios <= 10K: 61\n",
      "Percentil 99: 400000.0\n",
      "Cantidad de salarios anómalos: 59\n",
      "----------\n",
      "       salary_monthly_NETO  salary_monthly_BRUTO\n",
      "count          5522.000000           5522.000000\n",
      "mean          88651.609779         114537.589643\n",
      "std           53566.195077          74585.652842\n",
      "min           10700.000000          10602.410000\n",
      "25%           54000.000000          64925.000000\n",
      "50%           79000.000000          96009.000000\n",
      "75%          105000.000000         140000.000000\n",
      "max          396000.000000         609000.000000\n"
     ]
    }
   ],
   "source": [
    "print('Filtrado según salario BRUTO:')\n",
    "df = filtrar_salarios(df, bruto)\n",
    "print('----------')\n",
    "\n",
    "print('Filtrado según salario NETO:')\n",
    "df = filtrar_salarios(df, neto)\n",
    "print('----------')\n",
    "\n",
    "# Datos Muestrales (sobre el salario NETO y el salario BRUTO).\n",
    "print(df[[neto, bruto]].describe())"
   ]
  },
  {
   "cell_type": "code",
   "execution_count": 7,
   "metadata": {},
   "outputs": [
    {
     "name": "stdout",
     "output_type": "stream",
     "text": [
      "Cantidad de edades >= 100: 2\n",
      "----------\n",
      "count    5520.000000\n",
      "mean       32.542572\n",
      "std         7.257713\n",
      "min        18.000000\n",
      "25%        27.000000\n",
      "50%        31.000000\n",
      "75%        37.000000\n",
      "max        67.000000\n",
      "Name: profile_age, dtype: float64\n"
     ]
    }
   ],
   "source": [
    "# Edad Máxima para la subpoblación de estudio.\n",
    "max_age = 100\n",
    "# ¿Cuántas edades erróneas existen en la columna de edades?\n",
    "print(f'Cantidad de edades >= 100: {(df[edad] >= max_age).sum()}')\n",
    "# Considerando la edad máxima.\n",
    "df = df[df[edad] < max_age]\n",
    "print('----------')\n",
    "\n",
    "# Datos Muestrales (sobre la edad).\n",
    "print(df[edad].describe())"
   ]
  },
  {
   "cell_type": "code",
   "execution_count": 8,
   "metadata": {},
   "outputs": [
    {
     "name": "stdout",
     "output_type": "stream",
     "text": [
      "Posibles valores de VA: [nan 'Mi sueldo está dolarizado']\n",
      "Posibles valores de VA: [False  True]\n",
      "----------\n",
      "count      5520\n",
      "unique        2\n",
      "top       False\n",
      "freq       4992\n",
      "Name: salary_in_usd, dtype: object\n"
     ]
    }
   ],
   "source": [
    "print(f'Posibles valores de VA: {df[dolares].unique()}')\n",
    "# Por razones de comodidad, queremos trabajar con valores booleanos en esta columna.\n",
    "df[dolares] = df[dolares].notna()\n",
    "print(f'Posibles valores de VA: {df[dolares].unique()}')\n",
    "print('----------')\n",
    "\n",
    "# Datos Muestrales (sobre el salario en dólares).\n",
    "print(df[dolares].describe())"
   ]
  },
  {
   "cell_type": "code",
   "execution_count": 9,
   "metadata": {},
   "outputs": [
    {
     "name": "stdout",
     "output_type": "stream",
     "text": [
      "Dimensiones del DF: (5520, 7)\n"
     ]
    },
    {
     "data": {
      "text/html": [
       "<div>\n",
       "<style scoped>\n",
       "    .dataframe tbody tr th:only-of-type {\n",
       "        vertical-align: middle;\n",
       "    }\n",
       "\n",
       "    .dataframe tbody tr th {\n",
       "        vertical-align: top;\n",
       "    }\n",
       "\n",
       "    .dataframe thead th {\n",
       "        text-align: right;\n",
       "    }\n",
       "</style>\n",
       "<table border=\"1\" class=\"dataframe\">\n",
       "  <thead>\n",
       "    <tr style=\"text-align: right;\">\n",
       "      <th></th>\n",
       "      <th>salary_monthly_NETO</th>\n",
       "      <th>salary_monthly_BRUTO</th>\n",
       "      <th>profile_age</th>\n",
       "      <th>work_contract_type</th>\n",
       "      <th>salary_in_usd</th>\n",
       "      <th>profile_studies_level</th>\n",
       "      <th>profile_studies_level_state</th>\n",
       "    </tr>\n",
       "  </thead>\n",
       "  <tbody>\n",
       "    <tr>\n",
       "      <th>0</th>\n",
       "      <td>43000.0</td>\n",
       "      <td>53000.0</td>\n",
       "      <td>26</td>\n",
       "      <td>Full-Time</td>\n",
       "      <td>False</td>\n",
       "      <td>Universitario</td>\n",
       "      <td>En curso</td>\n",
       "    </tr>\n",
       "    <tr>\n",
       "      <th>1</th>\n",
       "      <td>63000.0</td>\n",
       "      <td>79000.0</td>\n",
       "      <td>29</td>\n",
       "      <td>Full-Time</td>\n",
       "      <td>False</td>\n",
       "      <td>Universitario</td>\n",
       "      <td>En curso</td>\n",
       "    </tr>\n",
       "    <tr>\n",
       "      <th>2</th>\n",
       "      <td>127000.0</td>\n",
       "      <td>160000.0</td>\n",
       "      <td>22</td>\n",
       "      <td>Full-Time</td>\n",
       "      <td>False</td>\n",
       "      <td>Secundario</td>\n",
       "      <td>Completado</td>\n",
       "    </tr>\n",
       "    <tr>\n",
       "      <th>3</th>\n",
       "      <td>102000.0</td>\n",
       "      <td>130000.0</td>\n",
       "      <td>39</td>\n",
       "      <td>Full-Time</td>\n",
       "      <td>False</td>\n",
       "      <td>Posgrado</td>\n",
       "      <td>Incompleto</td>\n",
       "    </tr>\n",
       "    <tr>\n",
       "      <th>4</th>\n",
       "      <td>106000.0</td>\n",
       "      <td>140000.0</td>\n",
       "      <td>32</td>\n",
       "      <td>Full-Time</td>\n",
       "      <td>False</td>\n",
       "      <td>Universitario</td>\n",
       "      <td>En curso</td>\n",
       "    </tr>\n",
       "  </tbody>\n",
       "</table>\n",
       "</div>"
      ],
      "text/plain": [
       "   salary_monthly_NETO  salary_monthly_BRUTO  profile_age work_contract_type  \\\n",
       "0              43000.0               53000.0           26          Full-Time   \n",
       "1              63000.0               79000.0           29          Full-Time   \n",
       "2             127000.0              160000.0           22          Full-Time   \n",
       "3             102000.0              130000.0           39          Full-Time   \n",
       "4             106000.0              140000.0           32          Full-Time   \n",
       "\n",
       "   salary_in_usd profile_studies_level profile_studies_level_state  \n",
       "0          False         Universitario                    En curso  \n",
       "1          False         Universitario                    En curso  \n",
       "2          False            Secundario                  Completado  \n",
       "3          False              Posgrado                  Incompleto  \n",
       "4          False         Universitario                    En curso  "
      ]
     },
     "execution_count": 9,
     "metadata": {},
     "output_type": "execute_result"
    }
   ],
   "source": [
    "# Nos quedamos con las columnas que analizaremos.\n",
    "df = df[relevant_columns]\n",
    "\n",
    "print(f'Dimensiones del DF: {df.shape}')\n",
    "df[:5]"
   ]
  },
  {
   "cell_type": "markdown",
   "metadata": {},
   "source": [
    "## a) Densidad conjunta\n",
    "\n",
    "¿Qué herramientas visuales y modelos puede utilizar para estudiar la distribución y comportamiento de sus datos? \n",
    "\n",
    "Elija tres variables **numéricas** y dos variables **categóricas**. Visualice la base según varias de las variables elegidas. ¿Puede describir de alguna forma el comportamiento de sus datos? ¿Qué herramientas utilizaría? Describa."
   ]
  },
  {
   "cell_type": "markdown",
   "metadata": {},
   "source": [
    "## b) Asociación\n",
    "\n",
    "Necesitamos decidir si sacar o no la columna de salario bruto, para hacer la encuesta más simple.\n",
    "¿Existe una correlación entre el salario bruto y el salario neto? ¿Qué abordaje y medidas utilizaría?"
   ]
  },
  {
   "cell_type": "markdown",
   "metadata": {},
   "source": [
    "## c) Densidad condicional \n",
    "\n",
    "Estudie la distribución del salario según el nivel de estudio.\n",
    "\n",
    "Separe la población según el nivel de estudio (elija **dos** subpoblaciones numerosas), y grafique de manera comparativa ambos histogramas de la variable `salary_monthly_NETO`.\n",
    "¿Considera que ambas variables son independientes?\n",
    "¿Qué analizaría al respecto?\n",
    "\n",
    "Calcule medidas de centralización y dispersión para cada subpoblación."
   ]
  },
  {
   "cell_type": "markdown",
   "metadata": {},
   "source": [
    "## d) Densidad conjunta condicional\n",
    "\n",
    "Elija dos variables **numéricas** y una variable **categórica**.\n",
    "Estudie la dispersión (*scatterplot*) de las dos variables numéricas, discriminando en color por la variable categórica (**hue** en *seaborn*)."
   ]
  }
 ],
 "metadata": {
  "colab": {
   "collapsed_sections": [],
   "include_colab_link": true,
   "name": "Entregable - Parte 1.ipynb",
   "provenance": [],
   "toc_visible": true
  },
  "kernelspec": {
   "display_name": "Python 3",
   "language": "python",
   "name": "python3"
  },
  "language_info": {
   "codemirror_mode": {
    "name": "ipython",
    "version": 3
   },
   "file_extension": ".py",
   "mimetype": "text/x-python",
   "name": "python",
   "nbconvert_exporter": "python",
   "pygments_lexer": "ipython3",
   "version": "3.9.4"
  }
 },
 "nbformat": 4,
 "nbformat_minor": 4
}
