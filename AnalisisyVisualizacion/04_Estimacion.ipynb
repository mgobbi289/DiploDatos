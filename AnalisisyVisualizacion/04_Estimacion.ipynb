{
 "cells": [
  {
   "cell_type": "code",
   "execution_count": 1,
   "metadata": {
    "id": "RMExMm55oNLa"
   },
   "outputs": [],
   "source": [
    "import numpy\n",
    "import scipy.stats\n",
    "import seaborn\n",
    "\n",
    "seaborn.set_context('talk')"
   ]
  },
  {
   "cell_type": "markdown",
   "metadata": {
    "id": "sJSeWq4-oQo_"
   },
   "source": [
    "# TCL, distribución de estadísticos, estimación puntual y por intervalos\n",
    "\n",
    "## Generación de datos\n",
    "\n",
    "1. Generamos **1** realización de una muestra aleatoria $X_1,  ... X_n$ (de tamaño *n*).\n",
    "\n",
    "$X_1,  ..., X_n$ (i.i.d.) con cada $X_i$ con distribución conocida (mejor, **no** normal).\n",
    "Por ejemplo, *Poisson*.\n",
    "Graficamos la distribución de la muestra.\n",
    "\n",
    "2. Luego, tenemos **1** realización del estadístico $\\overline{X} = \\frac{1}{n} \\sum_{i=1}^{n} X_i$."
   ]
  },
  {
   "cell_type": "code",
   "execution_count": 2,
   "metadata": {
    "colab": {
     "base_uri": "https://localhost:8080/",
     "height": 296
    },
    "id": "3UO2q_UUwsrl",
    "outputId": "6d8dec51-f699-446a-f130-173767260b1c"
   },
   "outputs": [
    {
     "name": "stdout",
     "output_type": "stream",
     "text": [
      "Promedio de la muestra = 4.932, una realización del estadístico media muestral\n"
     ]
    },
    {
     "data": {
      "image/png": "[encoded data removed]",
      "text/plain": [
       "<Figure size 432x288 with 1 Axes>"
      ]
     },
     "metadata": {
      "needs_background": "light"
     },
     "output_type": "display_data"
    }
   ],
   "source": [
    "# Generación de muestras de una distribución Poisson.\n",
    "n = 500\n",
    "poisson_lambda = 5\n",
    "\n",
    "# Realización de una muestra aleatoria X_1 ... X_n (de tamaño n).\n",
    "sample = scipy.stats.poisson.rvs(poisson_lambda, size=n)\n",
    "\n",
    "seaborn.histplot(sample, bins=12)\n",
    "\n",
    "print(f'Promedio de la muestra = {sample.mean()}, una realización del estadístico media muestral')"
   ]
  },
  {
   "cell_type": "markdown",
   "metadata": {
    "id": "1Shfeq87wEkA"
   },
   "source": [
    "1. Generamos **N** realizaciones de una muestra aleatoria $X_1, ..., X_n$ (de tamaño *n*).\n",
    "\n",
    "$X_1, ..., X_n$ (i.i.d.) con cada $X_i$ con distribución **no** normal.\n",
    "Por ejemplo, *Poisson*.\n",
    "Elegir una realización y graficar la distribución de la muestra.\n",
    "\n",
    "2. Luego, tendríamos **N** realizaciones del estadístico $\\overline{X} = \\frac{1}{n} \\sum_{i=1}^{n} X_i$.\n",
    "\n",
    "Graficar la distribución de estas realizaciones (de las medias muestrales).\n",
    "¿Se parece a una distribución normal?"
   ]
  },
  {
   "cell_type": "code",
   "execution_count": 3,
   "metadata": {
    "id": "ldyZ2ipIomKf"
   },
   "outputs": [],
   "source": [
    "# Generación de muestras de una distribución Poisson.\n",
    "\n",
    "# N filas\n",
    "N = 400\n",
    "# n columnas\n",
    "n = 1000\n",
    "\n",
    "poisson_lambda = 5\n",
    "\n",
    "# N realizaciones de una muestra aleatoria X_1 ... X_n (tamaño n).\n",
    "samples = scipy.stats.poisson.rvs(poisson_lambda, size=(N, n))"
   ]
  },
  {
   "cell_type": "code",
   "execution_count": 4,
   "metadata": {
    "id": "-LUccLEUosjq"
   },
   "outputs": [
    {
     "name": "stdout",
     "output_type": "stream",
     "text": [
      "[5 8 4 5] ... [6 8 7 5]\n",
      "Promedio de la muestra = 5.035\n"
     ]
    },
    {
     "data": {
      "image/png": "[encoded data removed]",
      "text/plain": [
       "<Figure size 432x288 with 1 Axes>"
      ]
     },
     "metadata": {
      "needs_background": "light"
     },
     "output_type": "display_data"
    }
   ],
   "source": [
    "# Primera realización de la muestra aleatoria.\n",
    "print(f'{samples[0][:4]} ... {samples[0][-5:-1]}')\n",
    "\n",
    "# Histograma de la i-ésima realización de la muestra aleatoria.\n",
    "i = 0\n",
    "seaborn.histplot(samples[i], bins=15)\n",
    "print(f'Promedio de la muestra = {samples[i].mean()}')"
   ]
  },
  {
   "cell_type": "code",
   "execution_count": 5,
   "metadata": {
    "colab": {
     "base_uri": "https://localhost:8080/"
    },
    "id": "vTMoYOYcggHG",
    "outputId": "06d63108-3074-4c77-b535-ac5210c7c38a"
   },
   "outputs": [
    {
     "data": {
      "text/plain": [
       "(400,)"
      ]
     },
     "execution_count": 5,
     "metadata": {},
     "output_type": "execute_result"
    }
   ],
   "source": [
    "# Calculamos la media para cada una de las muestras.\n",
    "sample_means = samples.mean(axis=1) # Media de cada fila, tendremos N medias.\n",
    "sample_means.shape"
   ]
  },
  {
   "cell_type": "markdown",
   "metadata": {
    "id": "pYke1s7RzDip"
   },
   "source": [
    "Veamos la distribución de las **N** realizaciones del estadístico $\\overline{X} = \\frac{1}{n} \\sum_{i=1}^{n} X_i$."
   ]
  },
  {
   "cell_type": "code",
   "execution_count": 6,
   "metadata": {
    "colab": {
     "base_uri": "https://localhost:8080/",
     "height": 313
    },
    "id": "hc9eGpQ9grtr",
    "outputId": "0869216c-9f42-436e-b538-c4b67e539f42"
   },
   "outputs": [
    {
     "name": "stdout",
     "output_type": "stream",
     "text": [
      "Esperanza de la media muestral = 4.997075\n",
      "Varianza de la media muestral = 0.0049822643750000025\n"
     ]
    },
    {
     "data": {
      "image/png": "[encoded data removed]",
      "text/plain": [
       "<Figure size 432x288 with 1 Axes>"
      ]
     },
     "metadata": {
      "needs_background": "light"
     },
     "output_type": "display_data"
    }
   ],
   "source": [
    "seaborn.histplot(sample_means, bins=30)\n",
    "\n",
    "print(f'Esperanza de la media muestral = {sample_means.mean()}')\n",
    "print(f'Varianza de la media muestral = {sample_means.var()}')"
   ]
  },
  {
   "cell_type": "markdown",
   "metadata": {},
   "source": [
    "Parámetros de una *Poisson*.\n",
    "\n",
    "$E(Poisson(\\lambda)) = \\lambda$\n",
    "\n",
    "$V(Poisson(\\lambda)) = \\lambda$\n",
    "\n",
    "Parámetros del estimador *Media Muestral*.\n",
    "\n",
    "$E(\\overline{X}) = \\lambda$\n",
    "\n",
    "$V(\\overline{X}) = \\frac{\\lambda}{n}$"
   ]
  },
  {
   "cell_type": "code",
   "execution_count": 7,
   "metadata": {
    "colab": {
     "base_uri": "https://localhost:8080/"
    },
    "id": "HKXWKs-m1A-p",
    "outputId": "69f1ff80-d708-4fb7-a6d1-190ba54f06c9"
   },
   "outputs": [
    {
     "name": "stdout",
     "output_type": "stream",
     "text": [
      "Esperanza = 4.997075\n",
      "Desvío = 0.07058515690285035\n",
      "Varianza = 0.004982264375000002\n"
     ]
    }
   ],
   "source": [
    "# Documentación de la función norm de scipy.\n",
    "# https://docs.scipy.org/doc/scipy/reference/generated/scipy.stats.norm.html\n",
    "# Estima la media y el desvío (los parámetros de una normal).\n",
    "mu, std = scipy.stats.norm.fit(sample_means)\n",
    "print(f'Esperanza = {mu}')\n",
    "print(f'Desvío = {std}')\n",
    "print(f'Varianza = {std**2}')"
   ]
  },
  {
   "cell_type": "markdown",
   "metadata": {
    "id": "BvmZXXqappna"
   },
   "source": [
    "## Ejercicio 1\n",
    "\n",
    "1. Analizar qué pasa cuando crece $n$, y ver la distribución de $\\overline{X}= \\frac{1}{n} \\sum_{i=1}^{n} X_i$ cuando $n\\rightarrow \\infty$ (el tamaño de la muestra). ¿Qué sucede con la varianza?\n",
    "\n",
    "2. Realizar el mismo análisis con otra distribución **no** normal, por ejemplo, *exponencial*."
   ]
  },
  {
   "cell_type": "markdown",
   "metadata": {},
   "source": [
    "**Respuesta**\n",
    "\n",
    "La varianza del estadístico **Media Muestral** disminuye en relación al tamaño de la muestra (es decir, de $n$)."
   ]
  },
  {
   "cell_type": "code",
   "execution_count": 8,
   "metadata": {},
   "outputs": [
    {
     "name": "stdout",
     "output_type": "stream",
     "text": [
      "Esperanza de la media muestral = 4.9851\n",
      "Varianza de la media muestral = 0.04927149\n",
      "Esperanza de la media muestral = 5.000249999999999\n",
      "Varianza de la media muestral = 0.0050006575\n",
      "Esperanza de la media muestral = 4.999307\n",
      "Varianza de la media muestral = 0.0004458849010000007\n"
     ]
    },
    {
     "data": {
      "image/png": "[encoded data removed]",
      "text/plain": [
       "<Figure size 432x288 with 1 Axes>"
      ]
     },
     "metadata": {
      "needs_background": "light"
     },
     "output_type": "display_data"
    }
   ],
   "source": [
    "# Generación de muestras de una distribución Poisson.\n",
    "\n",
    "# N filas\n",
    "N = 400\n",
    "# n columnas\n",
    "n_s = [ (100, 'red')\n",
    "      , (1000, 'green')\n",
    "      , (10000, 'blue')\n",
    "      ]\n",
    "\n",
    "poisson_lambda = 5\n",
    "\n",
    "for (n, c) in n_s:\n",
    "    # N realizaciones de una muestra aleatoria X_1 ... X_n (tamaño n).\n",
    "    samples = scipy.stats.poisson.rvs(poisson_lambda, size=(N, n))\n",
    "    # Calculamos la media para cada una de las muestras.\n",
    "    sample_means = samples.mean(axis=1) # Media de cada fila, tendremos N medias.\n",
    "    # Visualizamos la distribución del estadístico.\n",
    "    seaborn.histplot(sample_means, bins=25, color=c)\n",
    "    print(f'Esperanza de la media muestral = {sample_means.mean()}')\n",
    "    print(f'Varianza de la media muestral = {sample_means.var()}')"
   ]
  },
  {
   "cell_type": "markdown",
   "metadata": {},
   "source": [
    "Parámetros de una *Exponencial*.\n",
    "\n",
    "$E(Exponencial(\\lambda)) = \\frac{1}{\\lambda}$\n",
    "\n",
    "$V(Exponencial(\\lambda)) = \\frac{1}{\\lambda^{2}}$\n",
    "\n",
    "Parámetros del estimador *Media Muestral*.\n",
    "\n",
    "$E(\\overline{X}) = \\frac{1}{\\lambda}$\n",
    "\n",
    "$V(\\overline{X}) = \\frac{1}{n \\lambda^{2}}$"
   ]
  },
  {
   "cell_type": "code",
   "execution_count": 9,
   "metadata": {},
   "outputs": [
    {
     "name": "stdout",
     "output_type": "stream",
     "text": [
      "Esperanza de la media muestral = 0.19939350902663538\n",
      "Varianza de la media muestral = 0.0003639414162893429\n",
      "Esperanza de la media muestral = 0.19992980650338846\n",
      "Varianza de la media muestral = 3.882695655597892e-05\n",
      "Esperanza de la media muestral = 0.20005387053043083\n",
      "Varianza de la media muestral = 4.346351113458822e-06\n"
     ]
    },
    {
     "data": {
      "image/png": "[encoded data removed]",
      "text/plain": [
       "<Figure size 432x288 with 1 Axes>"
      ]
     },
     "metadata": {
      "needs_background": "light"
     },
     "output_type": "display_data"
    }
   ],
   "source": [
    "# Generación de muestras de una distribución Exponencial.\n",
    "\n",
    "# N filas\n",
    "N = 400\n",
    "# n columnas\n",
    "n_s = [ (100, 'red')\n",
    "      , (1000, 'green')\n",
    "      , (10000, 'blue')\n",
    "      ]\n",
    "\n",
    "exp_lambda = 5\n",
    "\n",
    "for (n, c) in n_s:\n",
    "    # N realizaciones de una muestra aleatoria X_1 ... X_n (tamaño n).\n",
    "    samples = scipy.stats.expon.rvs(scale=1/exp_lambda, size=(N, n))\n",
    "    # Calculamos la media para cada una de las muestras.\n",
    "    sample_means = samples.mean(axis=1) # Media de cada fila, tendremos N medias.\n",
    "    # Visualizamos la distribución del estadístico.\n",
    "    seaborn.histplot(sample_means, bins=25, color=c)\n",
    "    print(f'Esperanza de la media muestral = {sample_means.mean()}')\n",
    "    print(f'Varianza de la media muestral = {sample_means.var()}')"
   ]
  },
  {
   "cell_type": "markdown",
   "metadata": {
    "id": "BHgXE4R70mKw"
   },
   "source": [
    "## Ejercicio 2: Estimadores puntuales y por intervalos\n",
    "\n",
    "0. Fijar *n = 1000*.\n",
    "1. Dar un estimador puntual de la media de la distribución generada.\n",
    "2. Dar un intervalo de confianza (*IC*) para la media de nivel asintótico $0.95 = (1 - \\alpha)$. Calcular la longitud del intervalo.\n",
    "3. Dar *N = 1000* realizaciones del intervalo de confianza para la media de nivel *0.95*, y contar cuantos contienen a la media verdadera.\n",
    "4. Incrementar *n = 4000* (por cuatro) y repetir el paso dos. ¿Qué le pasó a la longitud del *IC*?"
   ]
  },
  {
   "cell_type": "code",
   "execution_count": 10,
   "metadata": {},
   "outputs": [
    {
     "name": "stdout",
     "output_type": "stream",
     "text": [
      "Estimador Puntual = 5.08\n"
     ]
    }
   ],
   "source": [
    "# Generación de muestras de una distribución Poisson.\n",
    "n = 1000\n",
    "poisson_lambda = 5\n",
    "\n",
    "# Realización de una muestra aleatoria X_1 ... X_n (tamaño n).\n",
    "sample = scipy.stats.poisson.rvs(poisson_lambda, size=n)\n",
    "\n",
    "# Estimador Puntual.\n",
    "puntual = sample.mean()\n",
    "print(f'Estimador Puntual = {puntual}')"
   ]
  },
  {
   "cell_type": "code",
   "execution_count": 11,
   "metadata": {},
   "outputs": [
    {
     "name": "stdout",
     "output_type": "stream",
     "text": [
      "Esperanza del Estimador = 5.08\n",
      "Desviación del Estimador = 0.0702111102319284\n",
      "----------\n",
      "Intervalo de Confianza (0.95) = (4.9423887526308485, 5.217611247369152)\n",
      "Longitud del IC = 0.27522249473830307\n"
     ]
    }
   ],
   "source": [
    "alpha = 0.05\n",
    "\n",
    "mu = sample.mean()\n",
    "sigma = sample.std() / numpy.sqrt(n)\n",
    "print(f'Esperanza del Estimador = {mu}')\n",
    "print(f'Desviación del Estimador = {sigma}')\n",
    "print('----------')\n",
    "\n",
    "intervalo = scipy.stats.norm.interval(1 - alpha, loc=mu, scale=sigma)\n",
    "print(f'Intervalo de Confianza ({1 - alpha}) = {intervalo}')\n",
    "\n",
    "i, s = intervalo\n",
    "print(f'Longitud del IC = {s - i}')"
   ]
  },
  {
   "cell_type": "code",
   "execution_count": 12,
   "metadata": {},
   "outputs": [
    {
     "name": "stdout",
     "output_type": "stream",
     "text": [
      "Probabilidad de contener al parámetro en el IC = 0.953\n"
     ]
    }
   ],
   "source": [
    "# Generación de muestras de una distribución Poisson.\n",
    "N = 1000\n",
    "n = 1000\n",
    "poisson_lambda = 5\n",
    "\n",
    "alpha = 0.05\n",
    "\n",
    "# Probabilidad de contener al parámetro en el IC.\n",
    "p = 0\n",
    "for _ in range(N):\n",
    "    # Realización de una muestra aleatoria X_1 ... X_n (tamaño n).\n",
    "    sample = scipy.stats.poisson.rvs(poisson_lambda, size=n)\n",
    "\n",
    "    mu = sample.mean()\n",
    "    sigma = sample.std() / numpy.sqrt(n)\n",
    "\n",
    "    i, s = scipy.stats.norm.interval(1 - alpha, loc=mu, scale=sigma)\n",
    "\n",
    "    if i <= poisson_lambda <= s:\n",
    "        p += 1\n",
    "\n",
    "p /= N\n",
    "print(f'Probabilidad de contener al parámetro en el IC = {p}')"
   ]
  },
  {
   "cell_type": "code",
   "execution_count": 13,
   "metadata": {},
   "outputs": [
    {
     "name": "stdout",
     "output_type": "stream",
     "text": [
      "Estimador Puntual = 5.07675\n"
     ]
    }
   ],
   "source": [
    "# Generación de muestras de una distribución Poisson.\n",
    "n = 4000\n",
    "poisson_lambda = 5\n",
    "\n",
    "# Realización de una muestra aleatoria X_1 ... X_n (tamaño n).\n",
    "sample = scipy.stats.poisson.rvs(poisson_lambda, size=n)\n",
    "\n",
    "# Estimador Puntual.\n",
    "puntual = sample.mean()\n",
    "print(f'Estimador Puntual = {puntual}')"
   ]
  },
  {
   "cell_type": "code",
   "execution_count": 14,
   "metadata": {},
   "outputs": [
    {
     "name": "stdout",
     "output_type": "stream",
     "text": [
      "Esperanza del Estimador = 5.07675\n",
      "Desviación del Estimador = 0.034933363127173996\n",
      "----------\n",
      "Intervalo de Confianza (0.95) = (5.008281866411879, 5.14521813358812)\n",
      "Longitud del IC = 0.13693626717624063\n"
     ]
    }
   ],
   "source": [
    "alpha = 0.05\n",
    "\n",
    "mu = sample.mean()\n",
    "sigma = sample.std() / numpy.sqrt(n)\n",
    "print(f'Esperanza del Estimador = {mu}')\n",
    "print(f'Desviación del Estimador = {sigma}')\n",
    "print('----------')\n",
    "\n",
    "intervalo = scipy.stats.norm.interval(1 - alpha, loc=mu, scale=sigma)\n",
    "print(f'Intervalo de Confianza ({1 - alpha}) = {intervalo}')\n",
    "\n",
    "i, s = intervalo\n",
    "print(f'Longitud del IC = {s - i}')"
   ]
  }
 ],
 "metadata": {
  "colab": {
   "include_colab_link": true,
   "name": "04 Estimacion.ipynb",
   "provenance": [],
   "toc_visible": true
  },
  "kernelspec": {
   "display_name": "Python 3",
   "language": "python",
   "name": "python3"
  },
  "language_info": {
   "codemirror_mode": {
    "name": "ipython",
    "version": 3
   },
   "file_extension": ".py",
   "mimetype": "text/x-python",
   "name": "python",
   "nbconvert_exporter": "python",
   "pygments_lexer": "ipython3",
   "version": "3.9.4"
  }
 },
 "nbformat": 4,
 "nbformat_minor": 4
}
