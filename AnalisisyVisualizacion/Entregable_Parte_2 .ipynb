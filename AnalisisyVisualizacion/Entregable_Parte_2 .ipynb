{
  "nbformat": 4,
  "nbformat_minor": 0,
  "metadata": {
    "colab": {
      "name": "Entregable - Parte 2.ipynb",
      "provenance": [],
      "collapsed_sections": [],
      "toc_visible": true
    },
    "kernelspec": {
      "name": "python3",
      "display_name": "Python 3"
    }
  },
  "cells": [
    {
      "cell_type": "markdown",
      "metadata": {
        "id": "LYvAOR2VzHmW"
      },
      "source": [
        "\n",
        "**Diplomatura en Ciencia de Datos, Aprendizaje Automático y sus Aplicaciones**\n",
        "\n",
        "**Edición 2021**\n",
        "\n",
        "---\n",
        "\n",
        "# Trabajo práctico entregable - Parte 2"
      ]
    },
    {
      "cell_type": "code",
      "metadata": {
        "id": "Xwdfo7z20TUK"
      },
      "source": [
        "import io\n",
        "import matplotlib\n",
        "import matplotlib.pyplot as plt\n",
        "import numpy\n",
        "import pandas as pd\n",
        "import seaborn\n",
        "import scipy.stats\n",
        "\n",
        "seaborn.set_context('talk')"
      ],
      "execution_count": 28,
      "outputs": []
    },
    {
      "cell_type": "markdown",
      "metadata": {
        "id": "XY2Hl-Ma07Nn"
      },
      "source": [
        "## Lectura del dataset\n",
        "\n",
        "En la notebook 00 se explican los detalles de la siguiente sección."
      ]
    },
    {
      "cell_type": "code",
      "metadata": {
        "id": "Vviv_sqXdR5W"
      },
      "source": [
        "url = 'https://cs.famaf.unc.edu.ar/~mteruel/datasets/diplodatos/sysarmy_survey_2020_processed.csv'\n",
        "df = pd.read_csv(url)"
      ],
      "execution_count": 29,
      "outputs": []
    },
    {
      "cell_type": "code",
      "metadata": {
        "id": "gckNHXXLktJ4",
        "colab": {
          "base_uri": "https://localhost:8080/",
          "height": 296
        },
        "outputId": "b2fa2ee9-98a4-4f47-f0a7-c92ed64bed15"
      },
      "source": [
        "df[:3]"
      ],
      "execution_count": 30,
      "outputs": [
        {
          "output_type": "execute_result",
          "data": {
            "text/html": [
              "<div>\n",
              "<style scoped>\n",
              "    .dataframe tbody tr th:only-of-type {\n",
              "        vertical-align: middle;\n",
              "    }\n",
              "\n",
              "    .dataframe tbody tr th {\n",
              "        vertical-align: top;\n",
              "    }\n",
              "\n",
              "    .dataframe thead th {\n",
              "        text-align: right;\n",
              "    }\n",
              "</style>\n",
              "<table border=\"1\" class=\"dataframe\">\n",
              "  <thead>\n",
              "    <tr style=\"text-align: right;\">\n",
              "      <th></th>\n",
              "      <th>profile_gender</th>\n",
              "      <th>profile_age</th>\n",
              "      <th>work_country</th>\n",
              "      <th>work_province</th>\n",
              "      <th>profile_years_experience</th>\n",
              "      <th>work_years_in_company</th>\n",
              "      <th>work_years_in_current_position</th>\n",
              "      <th>work_people_in_charge_of</th>\n",
              "      <th>profile_studies_level</th>\n",
              "      <th>profile_studies_level_state</th>\n",
              "      <th>profile_career</th>\n",
              "      <th>profile_university</th>\n",
              "      <th>profile_specialization_courses</th>\n",
              "      <th>profile_open_source_contributions</th>\n",
              "      <th>profile_programming_as_hobby</th>\n",
              "      <th>work_role</th>\n",
              "      <th>tools_platform</th>\n",
              "      <th>tools_programming_languages</th>\n",
              "      <th>tools_frameworks</th>\n",
              "      <th>tools_data_bases</th>\n",
              "      <th>tools_qa_testing</th>\n",
              "      <th>tools_IDEs</th>\n",
              "      <th>tools_work_pc_os</th>\n",
              "      <th>tools_cellphone_os</th>\n",
              "      <th>work_on_call_duty</th>\n",
              "      <th>salary_on_call_duty_charge</th>\n",
              "      <th>work_on_call_duty_charge_type</th>\n",
              "      <th>work_contract_type</th>\n",
              "      <th>salary_monthly_BRUTO</th>\n",
              "      <th>salary_monthly_NETO</th>\n",
              "      <th>salary_in_usd</th>\n",
              "      <th>salary_satisfaction</th>\n",
              "      <th>salary_comparison_last_semester</th>\n",
              "      <th>salary_has_bonus</th>\n",
              "      <th>salary_bonus_tied_to</th>\n",
              "      <th>salary_inflation_adjustment_2020</th>\n",
              "      <th>salary_percentage_inflation_adjustment_2020</th>\n",
              "      <th>salary_month_last_inflation_adjustment</th>\n",
              "      <th>work_has_violence_situations</th>\n",
              "      <th>profile_sexual_orientation</th>\n",
              "      <th>profile_has_disabilities</th>\n",
              "      <th>profile_has_disabilities_hiring_difficulties</th>\n",
              "      <th>company_employee_number</th>\n",
              "      <th>company_main_activity</th>\n",
              "      <th>company_recommended</th>\n",
              "      <th>company_diversity_policies</th>\n",
              "      <th>company_extra_benefits</th>\n",
              "      <th>company_best_companies_city</th>\n",
              "    </tr>\n",
              "  </thead>\n",
              "  <tbody>\n",
              "    <tr>\n",
              "      <th>0</th>\n",
              "      <td>Mujer</td>\n",
              "      <td>26</td>\n",
              "      <td>Argentina</td>\n",
              "      <td>Ciudad Autónoma de Buenos Aires</td>\n",
              "      <td>3.0</td>\n",
              "      <td>3.0</td>\n",
              "      <td>3.0</td>\n",
              "      <td>0</td>\n",
              "      <td>Universitario</td>\n",
              "      <td>En curso</td>\n",
              "      <td>Ingeniería en Sistemas de Información</td>\n",
              "      <td>UTN - Universidad Tecnológica Nacional</td>\n",
              "      <td>Sí, los pagó un empleador</td>\n",
              "      <td>No</td>\n",
              "      <td>Sí</td>\n",
              "      <td>Consultant</td>\n",
              "      <td>Ninguna</td>\n",
              "      <td>Ninguno</td>\n",
              "      <td>Ninguno</td>\n",
              "      <td>Ninguna</td>\n",
              "      <td>Ninguna</td>\n",
              "      <td>Ninguno</td>\n",
              "      <td>GNU/Linux</td>\n",
              "      <td>Android</td>\n",
              "      <td>No</td>\n",
              "      <td>0.0</td>\n",
              "      <td>Bruto</td>\n",
              "      <td>Full-Time</td>\n",
              "      <td>53000.0</td>\n",
              "      <td>43000.0</td>\n",
              "      <td>NaN</td>\n",
              "      <td>1</td>\n",
              "      <td>1</td>\n",
              "      <td>No</td>\n",
              "      <td>No recibo bono</td>\n",
              "      <td>No</td>\n",
              "      <td>0.0</td>\n",
              "      <td>0</td>\n",
              "      <td>En mi trabajo actual</td>\n",
              "      <td>Homosexual</td>\n",
              "      <td>NaN</td>\n",
              "      <td>NaN</td>\n",
              "      <td>501-1000</td>\n",
              "      <td>Servicios / Consultoría de Software / Digital</td>\n",
              "      <td>7</td>\n",
              "      <td>2</td>\n",
              "      <td>Capacitaciones y/o cursos, Comidas pagas / sub...</td>\n",
              "      <td>NaN</td>\n",
              "    </tr>\n",
              "    <tr>\n",
              "      <th>1</th>\n",
              "      <td>Hombre</td>\n",
              "      <td>29</td>\n",
              "      <td>Argentina</td>\n",
              "      <td>Corrientes</td>\n",
              "      <td>5.0</td>\n",
              "      <td>2.0</td>\n",
              "      <td>2.0</td>\n",
              "      <td>4</td>\n",
              "      <td>Universitario</td>\n",
              "      <td>En curso</td>\n",
              "      <td>Ingeniería en Sistemas de Información</td>\n",
              "      <td>UTN - Universidad Tecnológica Nacional</td>\n",
              "      <td>Sí, de forma particular, Sí, los pagó un emple...</td>\n",
              "      <td>No</td>\n",
              "      <td>Sí</td>\n",
              "      <td>Developer</td>\n",
              "      <td>Docker, Google Cloud Platform/App Engine</td>\n",
              "      <td>HTML, Javascript, Python</td>\n",
              "      <td>Django, jQuery</td>\n",
              "      <td>Informix, MySQL, PostgreSQL</td>\n",
              "      <td>Ninguna</td>\n",
              "      <td>IPython / Jupyter, Sublime Text, Visual Studio...</td>\n",
              "      <td>GNU/Linux</td>\n",
              "      <td>Android</td>\n",
              "      <td>No</td>\n",
              "      <td>0.0</td>\n",
              "      <td>Bruto</td>\n",
              "      <td>Full-Time</td>\n",
              "      <td>79000.0</td>\n",
              "      <td>63000.0</td>\n",
              "      <td>NaN</td>\n",
              "      <td>2</td>\n",
              "      <td>2</td>\n",
              "      <td>Menos de un sueldo</td>\n",
              "      <td>Performance de la compañía</td>\n",
              "      <td>Uno</td>\n",
              "      <td>10.0</td>\n",
              "      <td>1</td>\n",
              "      <td>Jamás</td>\n",
              "      <td>Heterosexual</td>\n",
              "      <td>Visual</td>\n",
              "      <td>No</td>\n",
              "      <td>201-500</td>\n",
              "      <td>Otras industrias</td>\n",
              "      <td>8</td>\n",
              "      <td>9</td>\n",
              "      <td>Horarios flexibles, Stock options / RSUs, Viát...</td>\n",
              "      <td>NaN</td>\n",
              "    </tr>\n",
              "    <tr>\n",
              "      <th>2</th>\n",
              "      <td>Mujer</td>\n",
              "      <td>22</td>\n",
              "      <td>Argentina</td>\n",
              "      <td>Ciudad Autónoma de Buenos Aires</td>\n",
              "      <td>2.0</td>\n",
              "      <td>0.0</td>\n",
              "      <td>0.0</td>\n",
              "      <td>0</td>\n",
              "      <td>Secundario</td>\n",
              "      <td>Completado</td>\n",
              "      <td>NaN</td>\n",
              "      <td>NaN</td>\n",
              "      <td>Sí, de forma particular, Sí, los pagó un emple...</td>\n",
              "      <td>No</td>\n",
              "      <td>Sí</td>\n",
              "      <td>Infosec</td>\n",
              "      <td>Linux, VMWare</td>\n",
              "      <td>Ninguno</td>\n",
              "      <td>Ninguno</td>\n",
              "      <td>Ninguna</td>\n",
              "      <td>Ninguna</td>\n",
              "      <td>Ninguno</td>\n",
              "      <td>Windows</td>\n",
              "      <td>iOS</td>\n",
              "      <td>No</td>\n",
              "      <td>0.0</td>\n",
              "      <td>Porcentaje de mi sueldo</td>\n",
              "      <td>Full-Time</td>\n",
              "      <td>160000.0</td>\n",
              "      <td>127000.0</td>\n",
              "      <td>NaN</td>\n",
              "      <td>3</td>\n",
              "      <td>3</td>\n",
              "      <td>Un sueldo</td>\n",
              "      <td>Performance individual</td>\n",
              "      <td>No</td>\n",
              "      <td>0.0</td>\n",
              "      <td>0</td>\n",
              "      <td>En un trabajo anterior</td>\n",
              "      <td>Bisexual o queer</td>\n",
              "      <td>NaN</td>\n",
              "      <td>No</td>\n",
              "      <td>2001-5000</td>\n",
              "      <td>Otras industrias</td>\n",
              "      <td>6</td>\n",
              "      <td>9</td>\n",
              "      <td>Clases de gimnasia online, Comidas pagas / sub...</td>\n",
              "      <td>NaN</td>\n",
              "    </tr>\n",
              "  </tbody>\n",
              "</table>\n",
              "</div>"
            ],
            "text/plain": [
              "  profile_gender  ...  company_best_companies_city\n",
              "0          Mujer  ...                          NaN\n",
              "1         Hombre  ...                          NaN\n",
              "2          Mujer  ...                          NaN\n",
              "\n",
              "[3 rows x 48 columns]"
            ]
          },
          "metadata": {
            "tags": []
          },
          "execution_count": 30
        }
      ]
    },
    {
      "cell_type": "code",
      "metadata": {
        "id": "2lzmzK1NuPNT",
        "colab": {
          "base_uri": "https://localhost:8080/",
          "height": 198
        },
        "outputId": "e083aee2-4be0-40f2-b602-c83a72739978"
      },
      "source": [
        "df[['profile_gender', 'salary_monthly_NETO']].groupby('profile_gender').describe()"
      ],
      "execution_count": 31,
      "outputs": [
        {
          "output_type": "execute_result",
          "data": {
            "text/html": [
              "<div>\n",
              "<style scoped>\n",
              "    .dataframe tbody tr th:only-of-type {\n",
              "        vertical-align: middle;\n",
              "    }\n",
              "\n",
              "    .dataframe tbody tr th {\n",
              "        vertical-align: top;\n",
              "    }\n",
              "\n",
              "    .dataframe thead tr th {\n",
              "        text-align: left;\n",
              "    }\n",
              "\n",
              "    .dataframe thead tr:last-of-type th {\n",
              "        text-align: right;\n",
              "    }\n",
              "</style>\n",
              "<table border=\"1\" class=\"dataframe\">\n",
              "  <thead>\n",
              "    <tr>\n",
              "      <th></th>\n",
              "      <th colspan=\"8\" halign=\"left\">salary_monthly_NETO</th>\n",
              "    </tr>\n",
              "    <tr>\n",
              "      <th></th>\n",
              "      <th>count</th>\n",
              "      <th>mean</th>\n",
              "      <th>std</th>\n",
              "      <th>min</th>\n",
              "      <th>25%</th>\n",
              "      <th>50%</th>\n",
              "      <th>75%</th>\n",
              "      <th>max</th>\n",
              "    </tr>\n",
              "    <tr>\n",
              "      <th>profile_gender</th>\n",
              "      <th></th>\n",
              "      <th></th>\n",
              "      <th></th>\n",
              "      <th></th>\n",
              "      <th></th>\n",
              "      <th></th>\n",
              "      <th></th>\n",
              "      <th></th>\n",
              "    </tr>\n",
              "  </thead>\n",
              "  <tbody>\n",
              "    <tr>\n",
              "      <th>Hombre</th>\n",
              "      <td>4944.0</td>\n",
              "      <td>98836.063558</td>\n",
              "      <td>102159.664237</td>\n",
              "      <td>1.0</td>\n",
              "      <td>53285.0</td>\n",
              "      <td>80000.0</td>\n",
              "      <td>110000.0</td>\n",
              "      <td>2080000.0</td>\n",
              "    </tr>\n",
              "    <tr>\n",
              "      <th>Mujer</th>\n",
              "      <td>908.0</td>\n",
              "      <td>73501.414465</td>\n",
              "      <td>56256.880181</td>\n",
              "      <td>2.0</td>\n",
              "      <td>43818.0</td>\n",
              "      <td>65000.0</td>\n",
              "      <td>92000.0</td>\n",
              "      <td>800000.0</td>\n",
              "    </tr>\n",
              "    <tr>\n",
              "      <th>Otros</th>\n",
              "      <td>31.0</td>\n",
              "      <td>95441.354839</td>\n",
              "      <td>88635.674358</td>\n",
              "      <td>40.0</td>\n",
              "      <td>39500.0</td>\n",
              "      <td>74000.0</td>\n",
              "      <td>117500.0</td>\n",
              "      <td>380000.0</td>\n",
              "    </tr>\n",
              "  </tbody>\n",
              "</table>\n",
              "</div>"
            ],
            "text/plain": [
              "               salary_monthly_NETO                ...                     \n",
              "                             count          mean  ...       75%        max\n",
              "profile_gender                                    ...                     \n",
              "Hombre                      4944.0  98836.063558  ...  110000.0  2080000.0\n",
              "Mujer                        908.0  73501.414465  ...   92000.0   800000.0\n",
              "Otros                         31.0  95441.354839  ...  117500.0   380000.0\n",
              "\n",
              "[3 rows x 8 columns]"
            ]
          },
          "metadata": {
            "tags": []
          },
          "execution_count": 31
        }
      ]
    },
    {
      "cell_type": "code",
      "metadata": {
        "colab": {
          "base_uri": "https://localhost:8080/",
          "height": 198
        },
        "id": "pycKJ5jWkShW",
        "outputId": "e9d609e3-282a-4934-d25a-14550e548626"
      },
      "source": [
        "df[df.salary_monthly_NETO > 1000]\\\n",
        "  [['profile_gender', 'salary_monthly_NETO']].groupby('profile_gender').describe()"
      ],
      "execution_count": 32,
      "outputs": [
        {
          "output_type": "execute_result",
          "data": {
            "text/html": [
              "<div>\n",
              "<style scoped>\n",
              "    .dataframe tbody tr th:only-of-type {\n",
              "        vertical-align: middle;\n",
              "    }\n",
              "\n",
              "    .dataframe tbody tr th {\n",
              "        vertical-align: top;\n",
              "    }\n",
              "\n",
              "    .dataframe thead tr th {\n",
              "        text-align: left;\n",
              "    }\n",
              "\n",
              "    .dataframe thead tr:last-of-type th {\n",
              "        text-align: right;\n",
              "    }\n",
              "</style>\n",
              "<table border=\"1\" class=\"dataframe\">\n",
              "  <thead>\n",
              "    <tr>\n",
              "      <th></th>\n",
              "      <th colspan=\"8\" halign=\"left\">salary_monthly_NETO</th>\n",
              "    </tr>\n",
              "    <tr>\n",
              "      <th></th>\n",
              "      <th>count</th>\n",
              "      <th>mean</th>\n",
              "      <th>std</th>\n",
              "      <th>min</th>\n",
              "      <th>25%</th>\n",
              "      <th>50%</th>\n",
              "      <th>75%</th>\n",
              "      <th>max</th>\n",
              "    </tr>\n",
              "    <tr>\n",
              "      <th>profile_gender</th>\n",
              "      <th></th>\n",
              "      <th></th>\n",
              "      <th></th>\n",
              "      <th></th>\n",
              "      <th></th>\n",
              "      <th></th>\n",
              "      <th></th>\n",
              "      <th></th>\n",
              "    </tr>\n",
              "  </thead>\n",
              "  <tbody>\n",
              "    <tr>\n",
              "      <th>Hombre</th>\n",
              "      <td>4815.0</td>\n",
              "      <td>101481.624343</td>\n",
              "      <td>102215.304684</td>\n",
              "      <td>1100.0</td>\n",
              "      <td>55000.0</td>\n",
              "      <td>80000.0</td>\n",
              "      <td>110000.0</td>\n",
              "      <td>2080000.0</td>\n",
              "    </tr>\n",
              "    <tr>\n",
              "      <th>Mujer</th>\n",
              "      <td>863.0</td>\n",
              "      <td>77328.913778</td>\n",
              "      <td>55082.760570</td>\n",
              "      <td>2000.0</td>\n",
              "      <td>47850.0</td>\n",
              "      <td>67200.0</td>\n",
              "      <td>93000.0</td>\n",
              "      <td>800000.0</td>\n",
              "    </tr>\n",
              "    <tr>\n",
              "      <th>Otros</th>\n",
              "      <td>28.0</td>\n",
              "      <td>105660.714286</td>\n",
              "      <td>87235.710235</td>\n",
              "      <td>34000.0</td>\n",
              "      <td>43750.0</td>\n",
              "      <td>78900.0</td>\n",
              "      <td>122750.0</td>\n",
              "      <td>380000.0</td>\n",
              "    </tr>\n",
              "  </tbody>\n",
              "</table>\n",
              "</div>"
            ],
            "text/plain": [
              "               salary_monthly_NETO                 ...                     \n",
              "                             count           mean  ...       75%        max\n",
              "profile_gender                                     ...                     \n",
              "Hombre                      4815.0  101481.624343  ...  110000.0  2080000.0\n",
              "Mujer                        863.0   77328.913778  ...   93000.0   800000.0\n",
              "Otros                         28.0  105660.714286  ...  122750.0   380000.0\n",
              "\n",
              "[3 rows x 8 columns]"
            ]
          },
          "metadata": {
            "tags": []
          },
          "execution_count": 32
        }
      ]
    },
    {
      "cell_type": "code",
      "metadata": {
        "id": "uZ1GxkLylHx0"
      },
      "source": [
        "alpha = 0.05"
      ],
      "execution_count": 33,
      "outputs": []
    },
    {
      "cell_type": "code",
      "metadata": {
        "id": "OfzFpDO-lYxk"
      },
      "source": [
        "is_man = df.profile_gender == 'Hombre'\n",
        "\n",
        "groupA = df[(df.salary_monthly_NETO > 1000) & is_man].salary_monthly_NETO\n",
        "groupB = df[(df.salary_monthly_NETO > 1000) & ~is_man].salary_monthly_NETO"
      ],
      "execution_count": 34,
      "outputs": []
    },
    {
      "cell_type": "markdown",
      "metadata": {
        "id": "co_0M_ojtmUh"
      },
      "source": [
        "## Ejercicio 1: Estimación\n",
        "\n",
        "**Consigna:**  Calcular una estimación puntual y un intervalo de confianza de nivel (1-alpha) para la resta entre la media del salario Neto para Hombres menos la media del salario Neto para otros géneros(diferencia de las medias entre el grupoA y grupoB). \n",
        "¿Cómo se relaciona este intervalo de confianza con el test de hipótesis?"
      ]
    },
    {
      "cell_type": "code",
      "metadata": {
        "id": "0fA1RQ0upe6N",
        "colab": {
          "base_uri": "https://localhost:8080/"
        },
        "outputId": "aa707bd5-179c-45f6-8ec3-83d63206a4af"
      },
      "source": [
        "\n",
        "estimadormedia=groupA.mean()-groupB.mean()\n",
        "sigmaA=groupA.std()\n",
        "sigmaB=groupB.std()\n",
        "print(len(groupA),groupA.mean(),sigmaA,len(groupB),groupB.mean(),sigmaB)\n",
        "#ro=0  ##revisar \n",
        "#print(ro)\n",
        "#sigma=(sigmaA+sigmaB-2*ro)/(sigmaA*sigmaB)\n",
        "sigma=(groupA.var()/len(groupA)+groupB.var()/len(groupB))**(1/2)  ##REVISAR\n",
        "print('Estimador:',estimadormedia)\n",
        "a=0.05\n",
        "\n",
        "int_conf= scipy.stats.norm.interval(1-a, loc=estimadormedia, scale=sigma)\n",
        "print(int_conf)"
      ],
      "execution_count": 35,
      "outputs": [
        {
          "output_type": "stream",
          "text": [
            "4815 101481.62434267918 102215.30468444877 891 78219.25094276095 56515.32732350074\n",
            "Estimador: 23262.37339991823\n",
            "(18560.667138346143, 27964.079661490316)\n"
          ],
          "name": "stdout"
        }
      ]
    },
    {
      "cell_type": "markdown",
      "metadata": {
        "id": "0EtSxFMi8uy9"
      },
      "source": [
        ""
      ]
    },
    {
      "cell_type": "markdown",
      "metadata": {
        "id": "IFi2T7Y6nM92"
      },
      "source": [
        "## Ejercicio 2: Test de hipótesis\n"
      ]
    },
    {
      "cell_type": "markdown",
      "metadata": {
        "id": "Rzxe8UYU6EfJ"
      },
      "source": [
        "\n",
        "### 2.1 Formalización\n",
        "\n",
        "Describir formalmente los distintos compenentes de un test de hipótesis para comprobar si la distribución de los salarios es distinta entre los grupos A y B.\n",
        "\n",
        "**Hipótesis Nula**\n",
        "\n",
        "$H_0=...$\n",
        "\n",
        "**Estadístico (Pivote)**\n",
        "  * Identificar el estadístico\n",
        "  * Escribir qué distribución tiene bajo $H_0$\n"
      ]
    },
    {
      "cell_type": "markdown",
      "metadata": {
        "id": "3Ip_5YdenC8u"
      },
      "source": [
        "### 2.2 P-valor\n",
        "\n",
        "1. Calcule el p-valor y decida si rechazar o no la hipótesis nula.\n",
        "2. Interprete el resultado.\n",
        "3. Los dos grupos de nuestra muestra tienen tamaños muy distintos. ¿Esto afecta al tests?\n",
        "\n",
        "Links útiles:\n",
        "* [Test de hipótesis usando scipy](https://docs.scipy.org/doc/scipy/reference/generated/scipy.stats.ttest_ind.html)\n",
        "* [Test de Welch](http://daniellakens.blogspot.com/2015/01/always-use-welchs-t-test-instead-of.html)"
      ]
    },
    {
      "cell_type": "markdown",
      "metadata": {
        "id": "8VxiQr5YrQYR"
      },
      "source": [
        "### [Opcional] 2.3 Potencia del test\n",
        "\n",
        "Nuestra muestra, ¿era lo suficientemente grande para detectar si existe o no una diferencia entre los grupos?\n",
        "\n",
        "1. Utilice la función `tt_ind_solve_power` para calcular el tamaño necesario de la muestra para un poder estadístico de 0.8, 0.9 y 0.95, asumiendo una significancia estadística de 0.05.\n",
        "2. ¿Cómo intepretan el poder estadístico de un test? Dado su conocimiento de dominio sobre los datos, ¿les parece que esta muestra es lo suficientemente grande para ser representativo de la tendencia general? ¿y para utilizarlo en un juicio penal contra una empresa XX por una causa de discriminación?\n",
        "\n",
        "[Documentación](https://www.statsmodels.org/stable/generated/statsmodels.stats.power.tt_ind_solve_power.html)\n",
        "\n",
        "NOTA: este análisis debería hacerse ANTES de recolectar los datos."
      ]
    },
    {
      "cell_type": "code",
      "metadata": {
        "colab": {
          "base_uri": "https://localhost:8080/"
        },
        "id": "_IiqGfo4t6Db",
        "outputId": "d22ef875-4ae8-4f3c-9854-2651138aa13d"
      },
      "source": [
        "from statsmodels.stats.power import tt_ind_solve_power"
      ],
      "execution_count": 36,
      "outputs": [
        {
          "output_type": "stream",
          "text": [
            "/usr/local/lib/python3.7/dist-packages/statsmodels/tools/_testing.py:19: FutureWarning: pandas.util.testing is deprecated. Use the functions in the public API at pandas.testing instead.\n",
            "  import pandas.util.testing as tm\n"
          ],
          "name": "stderr"
        }
      ]
    },
    {
      "cell_type": "code",
      "metadata": {
        "id": "LUQ7MA2Apj9x"
      },
      "source": [
        "effect_size = (groupA.mean() - groupB.mean()) / groupB.std()\n",
        "# nobs1=None  - What we want to know\n",
        "alpha = 0.05\n",
        "ratio = len(groupB) / len(groupA)"
      ],
      "execution_count": 37,
      "outputs": []
    },
    {
      "cell_type": "code",
      "metadata": {
        "colab": {
          "base_uri": "https://localhost:8080/",
          "height": 171
        },
        "id": "cvHcpY-3ty8Q",
        "outputId": "14b895a7-5c67-4585-fe17-194940bbde24"
      },
      "source": [
        "tt_ind_solve_power(effect_size=effect_size, alpha=alpha, power=power, ratio=ratio)"
      ],
      "execution_count": 38,
      "outputs": [
        {
          "output_type": "error",
          "ename": "NameError",
          "evalue": "ignored",
          "traceback": [
            "\u001b[0;31m---------------------------------------------------------------------------\u001b[0m",
            "\u001b[0;31mNameError\u001b[0m                                 Traceback (most recent call last)",
            "\u001b[0;32m<ipython-input-38-1f79e8a31986>\u001b[0m in \u001b[0;36m<module>\u001b[0;34m()\u001b[0m\n\u001b[0;32m----> 1\u001b[0;31m \u001b[0mtt_ind_solve_power\u001b[0m\u001b[0;34m(\u001b[0m\u001b[0meffect_size\u001b[0m\u001b[0;34m=\u001b[0m\u001b[0meffect_size\u001b[0m\u001b[0;34m,\u001b[0m \u001b[0malpha\u001b[0m\u001b[0;34m=\u001b[0m\u001b[0malpha\u001b[0m\u001b[0;34m,\u001b[0m \u001b[0mpower\u001b[0m\u001b[0;34m=\u001b[0m\u001b[0mpower\u001b[0m\u001b[0;34m,\u001b[0m \u001b[0mratio\u001b[0m\u001b[0;34m=\u001b[0m\u001b[0mratio\u001b[0m\u001b[0;34m)\u001b[0m\u001b[0;34m\u001b[0m\u001b[0;34m\u001b[0m\u001b[0m\n\u001b[0m",
            "\u001b[0;31mNameError\u001b[0m: name 'power' is not defined"
          ]
        }
      ]
    },
    {
      "cell_type": "markdown",
      "metadata": {
        "id": "useKMdPyMod5"
      },
      "source": [
        "## Ejercicio 3: Comunicación y visualización\n",
        "\n",
        "**Consigna:** Seleccionen un resultado que les parezca relevante a partir de alguno de los ejercicios del entregable. Diseñe e implemente una comunicación en base a este mensaje, en un archivo PDF.\n",
        "\n",
        "Elija las palabras y visualización más adecuada para que la comunicación sea entendible, efectiva y se dapte a UNA de las siguientes situaciones:\n",
        "\n",
        "1. Una sección en un artículo de difusión a presentar como parte de una organización sin fines de lucro.\n",
        "No más de 1 página A4 (o dos si los gráficos son muy grandes).\n",
        "  1. Ejemplo: Alguna de las secciones [Los ecosistemas de emprendimiento de América Latina y el Caribe frente al COVID-19: Impactos, necesidades y recomendaciones](https://publications.iadb.org/es/los-ecosistemas-de-emprendimiento-de-america-latina-y-el-caribe-frente-al-covid-19-impactos-necesidades-y-recomendaciones), por ejemplo la sección *2.2. Reacciones de los emprendedores*.\n",
        "  2. Ejemplo: Alguna de las secciones de [The state of gender pay gap in 2021](https://www.payscale.com/data/gender-pay-gap?tk=carousel-ps-rc-job)\n",
        "  3. Puntos clave: \n",
        "    1. Simpleza de los gráficos.\n",
        "    2. Comunicación en lenguaje simple a personas que no son necesariamente expertos de dominio.\n",
        "    2. Selección de UNA oración sobre la que se hace énfasis.\n",
        "    3. No es necesario que mencionen objetivos ni descripciones del conjunto de datos, se supone que eso ya estaría explicado en otras secciones del informe.\n",
        "\n",
        "2. Una publicación científica o reporte técnico interno. No más de una página A4:\n",
        "  2. Ejemplo: La sección de resultados de [IZA DP No. 12914: The Impact of a Minimum Wage Change on the Distribution of Wages and Household Income](https://www.iza.org/publications/dp/12914/the-impact-of-a-minimum-wage-change-on-the-distribution-of-wages-and-household-income).\n",
        "  2. Ejemplo: Alguna de las secciones de [Temporary reduction in daily global CO2 emissions during the COVID-19 forced confinement](https://www.nature.com/articles/s41558-020-0797-x)\n",
        "  3. Puntos clave:\n",
        "    3. Nivel de detalle técnico requerido. Es necesario justificar la validez del análisis.\n",
        "    4. La idea presentada puede ser más compleja. Pueden asumir que la audiencia tiene conocimiento técnico y va a analizar las visualizaciones en detalle. \n",
        "    5. Pueden presentar más en detalle las limitaciones del análisis (significancia estadística, etc.)\n",
        "    2. No es necesario que mencionen objetivos ni descripciones del conjunto de datos, se supone que eso ya estaría explicado en otras secciones del informe.\n",
        "\n",
        "3. Un tweet (o post de LinkedIn) para la cuenta de su empresa consultora que hace análisis de datos. El objetivo es promocionar un análisis de datos abiertos que van a incluir en su portfolio:\n",
        "  1. Ejemplo: [Comparación vacunas covid](https://twitter.com/infobeautiful/status/1381577746527236098?s=20)\n",
        "  2. Ejemplo: [Tweet del BID](https://twitter.com/el_BID/status/1388508583944507396?s=20). Lo valioso de este tweet es que usaron un único número para transmitir un mensaje. Puede ser algo así, o con un gráfico muy simple.\n",
        "  3. Ejemplo: [Cambio climático](https://twitter.com/UNFCCC/status/1387732156190011394?s=20) Es un muy buen ejemplo, excepto que el gráfico no se lee nada y hay que entrar a la publicación original.\n",
        "  3. Ejemplo: [¿Cuánto están los programadores en las empresas?](https://www.linkedin.com/posts/denis-rothman-0b034043_tech-career-work-activity-6793861923269054464-gS6y) (No verificamos la veracidad o seriedad de la fuente).\n",
        "  4. Puntos clave:\n",
        "    1. Su audiencia no va a mirar la visualización por más de unos segundos, y no tiene conocimiento técnico.\n",
        "  3. Tienen que incluir además una *breve* descripción de cómo obtuvieron los datos que están presentando, que no entraría en el tweet.\n"
      ]
    },
    {
      "cell_type": "code",
      "metadata": {
        "id": "twwYHUztt45L"
      },
      "source": [
        ""
      ],
      "execution_count": null,
      "outputs": []
    }
  ]
}