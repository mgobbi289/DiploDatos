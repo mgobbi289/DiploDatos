{
 "cells": [
  {
   "cell_type": "markdown",
   "metadata": {
    "id": "LYvAOR2VzHmW"
   },
   "source": [
    "\n",
    "**Diplomatura en Ciencia de Datos, Aprendizaje Automático y sus Aplicaciones**\n",
    "\n",
    "**Edición 2021**\n",
    "\n",
    "---\n",
    "\n",
    "## Trabajo práctico entregable - Parte 2"
   ]
  },
  {
   "cell_type": "code",
   "execution_count": 1,
   "metadata": {
    "id": "Xwdfo7z20TUK"
   },
   "outputs": [],
   "source": [
    "import io\n",
    "import matplotlib\n",
    "import matplotlib.pyplot as plt\n",
    "import numpy\n",
    "import pandas as pd\n",
    "import seaborn\n",
    "import scipy.stats\n",
    "\n",
    "seaborn.set_context('talk')"
   ]
  },
  {
   "cell_type": "markdown",
   "metadata": {
    "id": "XY2Hl-Ma07Nn"
   },
   "source": [
    "## Lectura del dataset\n",
    "\n",
    "En la notebook *00* se explican los detalles de la siguiente sección."
   ]
  },
  {
   "cell_type": "code",
   "execution_count": 2,
   "metadata": {
    "id": "Vviv_sqXdR5W"
   },
   "outputs": [],
   "source": [
    "url = 'https://cs.famaf.unc.edu.ar/~mteruel/datasets/diplodatos/sysarmy_survey_2020_processed.csv'\n",
    "df = pd.read_csv(url)"
   ]
  },
  {
   "cell_type": "code",
   "execution_count": 3,
   "metadata": {
    "colab": {
     "base_uri": "https://localhost:8080/",
     "height": 296
    },
    "id": "gckNHXXLktJ4",
    "outputId": "b2fa2ee9-98a4-4f47-f0a7-c92ed64bed15"
   },
   "outputs": [
    {
     "data": {
      "text/html": [
       "<div>\n",
       "<style scoped>\n",
       "    .dataframe tbody tr th:only-of-type {\n",
       "        vertical-align: middle;\n",
       "    }\n",
       "\n",
       "    .dataframe tbody tr th {\n",
       "        vertical-align: top;\n",
       "    }\n",
       "\n",
       "    .dataframe thead th {\n",
       "        text-align: right;\n",
       "    }\n",
       "</style>\n",
       "<table border=\"1\" class=\"dataframe\">\n",
       "  <thead>\n",
       "    <tr style=\"text-align: right;\">\n",
       "      <th></th>\n",
       "      <th>profile_gender</th>\n",
       "      <th>profile_age</th>\n",
       "      <th>work_country</th>\n",
       "      <th>work_province</th>\n",
       "      <th>profile_years_experience</th>\n",
       "      <th>work_years_in_company</th>\n",
       "      <th>work_years_in_current_position</th>\n",
       "      <th>work_people_in_charge_of</th>\n",
       "      <th>profile_studies_level</th>\n",
       "      <th>profile_studies_level_state</th>\n",
       "      <th>...</th>\n",
       "      <th>work_has_violence_situations</th>\n",
       "      <th>profile_sexual_orientation</th>\n",
       "      <th>profile_has_disabilities</th>\n",
       "      <th>profile_has_disabilities_hiring_difficulties</th>\n",
       "      <th>company_employee_number</th>\n",
       "      <th>company_main_activity</th>\n",
       "      <th>company_recommended</th>\n",
       "      <th>company_diversity_policies</th>\n",
       "      <th>company_extra_benefits</th>\n",
       "      <th>company_best_companies_city</th>\n",
       "    </tr>\n",
       "  </thead>\n",
       "  <tbody>\n",
       "    <tr>\n",
       "      <th>0</th>\n",
       "      <td>Mujer</td>\n",
       "      <td>26</td>\n",
       "      <td>Argentina</td>\n",
       "      <td>Ciudad Autónoma de Buenos Aires</td>\n",
       "      <td>3.0</td>\n",
       "      <td>3.0</td>\n",
       "      <td>3.0</td>\n",
       "      <td>0</td>\n",
       "      <td>Universitario</td>\n",
       "      <td>En curso</td>\n",
       "      <td>...</td>\n",
       "      <td>En mi trabajo actual</td>\n",
       "      <td>Homosexual</td>\n",
       "      <td>NaN</td>\n",
       "      <td>NaN</td>\n",
       "      <td>501-1000</td>\n",
       "      <td>Servicios / Consultoría de Software / Digital</td>\n",
       "      <td>7</td>\n",
       "      <td>2</td>\n",
       "      <td>Capacitaciones y/o cursos, Comidas pagas / sub...</td>\n",
       "      <td>NaN</td>\n",
       "    </tr>\n",
       "    <tr>\n",
       "      <th>1</th>\n",
       "      <td>Hombre</td>\n",
       "      <td>29</td>\n",
       "      <td>Argentina</td>\n",
       "      <td>Corrientes</td>\n",
       "      <td>5.0</td>\n",
       "      <td>2.0</td>\n",
       "      <td>2.0</td>\n",
       "      <td>4</td>\n",
       "      <td>Universitario</td>\n",
       "      <td>En curso</td>\n",
       "      <td>...</td>\n",
       "      <td>Jamás</td>\n",
       "      <td>Heterosexual</td>\n",
       "      <td>Visual</td>\n",
       "      <td>No</td>\n",
       "      <td>201-500</td>\n",
       "      <td>Otras industrias</td>\n",
       "      <td>8</td>\n",
       "      <td>9</td>\n",
       "      <td>Horarios flexibles, Stock options / RSUs, Viát...</td>\n",
       "      <td>NaN</td>\n",
       "    </tr>\n",
       "    <tr>\n",
       "      <th>2</th>\n",
       "      <td>Mujer</td>\n",
       "      <td>22</td>\n",
       "      <td>Argentina</td>\n",
       "      <td>Ciudad Autónoma de Buenos Aires</td>\n",
       "      <td>2.0</td>\n",
       "      <td>0.0</td>\n",
       "      <td>0.0</td>\n",
       "      <td>0</td>\n",
       "      <td>Secundario</td>\n",
       "      <td>Completado</td>\n",
       "      <td>...</td>\n",
       "      <td>En un trabajo anterior</td>\n",
       "      <td>Bisexual o queer</td>\n",
       "      <td>NaN</td>\n",
       "      <td>No</td>\n",
       "      <td>2001-5000</td>\n",
       "      <td>Otras industrias</td>\n",
       "      <td>6</td>\n",
       "      <td>9</td>\n",
       "      <td>Clases de gimnasia online, Comidas pagas / sub...</td>\n",
       "      <td>NaN</td>\n",
       "    </tr>\n",
       "  </tbody>\n",
       "</table>\n",
       "<p>3 rows × 48 columns</p>\n",
       "</div>"
      ],
      "text/plain": [
       "  profile_gender  profile_age work_country                    work_province  \\\n",
       "0          Mujer           26    Argentina  Ciudad Autónoma de Buenos Aires   \n",
       "1         Hombre           29    Argentina                       Corrientes   \n",
       "2          Mujer           22    Argentina  Ciudad Autónoma de Buenos Aires   \n",
       "\n",
       "   profile_years_experience  work_years_in_company  \\\n",
       "0                       3.0                    3.0   \n",
       "1                       5.0                    2.0   \n",
       "2                       2.0                    0.0   \n",
       "\n",
       "   work_years_in_current_position  work_people_in_charge_of  \\\n",
       "0                             3.0                         0   \n",
       "1                             2.0                         4   \n",
       "2                             0.0                         0   \n",
       "\n",
       "  profile_studies_level profile_studies_level_state  ...  \\\n",
       "0         Universitario                    En curso  ...   \n",
       "1         Universitario                    En curso  ...   \n",
       "2            Secundario                  Completado  ...   \n",
       "\n",
       "  work_has_violence_situations profile_sexual_orientation  \\\n",
       "0         En mi trabajo actual                 Homosexual   \n",
       "1                        Jamás               Heterosexual   \n",
       "2       En un trabajo anterior           Bisexual o queer   \n",
       "\n",
       "  profile_has_disabilities profile_has_disabilities_hiring_difficulties  \\\n",
       "0                      NaN                                          NaN   \n",
       "1                   Visual                                           No   \n",
       "2                      NaN                                           No   \n",
       "\n",
       "  company_employee_number                          company_main_activity  \\\n",
       "0                501-1000  Servicios / Consultoría de Software / Digital   \n",
       "1                 201-500                               Otras industrias   \n",
       "2               2001-5000                               Otras industrias   \n",
       "\n",
       "  company_recommended company_diversity_policies  \\\n",
       "0                   7                          2   \n",
       "1                   8                          9   \n",
       "2                   6                          9   \n",
       "\n",
       "                              company_extra_benefits  \\\n",
       "0  Capacitaciones y/o cursos, Comidas pagas / sub...   \n",
       "1  Horarios flexibles, Stock options / RSUs, Viát...   \n",
       "2  Clases de gimnasia online, Comidas pagas / sub...   \n",
       "\n",
       "  company_best_companies_city  \n",
       "0                         NaN  \n",
       "1                         NaN  \n",
       "2                         NaN  \n",
       "\n",
       "[3 rows x 48 columns]"
      ]
     },
     "execution_count": 3,
     "metadata": {},
     "output_type": "execute_result"
    }
   ],
   "source": [
    "df[:3]"
   ]
  },
  {
   "cell_type": "code",
   "execution_count": 4,
   "metadata": {},
   "outputs": [],
   "source": [
    "# Constantes Auxiliares.\n",
    "genero = 'profile_gender'\n",
    "neto = 'salary_monthly_NETO'\n",
    "dolares = 'salary_in_usd'\n",
    "contrato = 'work_contract_type'"
   ]
  },
  {
   "cell_type": "code",
   "execution_count": 5,
   "metadata": {
    "colab": {
     "base_uri": "https://localhost:8080/",
     "height": 198
    },
    "id": "2lzmzK1NuPNT",
    "outputId": "e083aee2-4be0-40f2-b602-c83a72739978"
   },
   "outputs": [
    {
     "data": {
      "text/html": [
       "<div>\n",
       "<style scoped>\n",
       "    .dataframe tbody tr th:only-of-type {\n",
       "        vertical-align: middle;\n",
       "    }\n",
       "\n",
       "    .dataframe tbody tr th {\n",
       "        vertical-align: top;\n",
       "    }\n",
       "\n",
       "    .dataframe thead tr th {\n",
       "        text-align: left;\n",
       "    }\n",
       "\n",
       "    .dataframe thead tr:last-of-type th {\n",
       "        text-align: right;\n",
       "    }\n",
       "</style>\n",
       "<table border=\"1\" class=\"dataframe\">\n",
       "  <thead>\n",
       "    <tr>\n",
       "      <th></th>\n",
       "      <th colspan=\"8\" halign=\"left\">salary_monthly_NETO</th>\n",
       "    </tr>\n",
       "    <tr>\n",
       "      <th></th>\n",
       "      <th>count</th>\n",
       "      <th>mean</th>\n",
       "      <th>std</th>\n",
       "      <th>min</th>\n",
       "      <th>25%</th>\n",
       "      <th>50%</th>\n",
       "      <th>75%</th>\n",
       "      <th>max</th>\n",
       "    </tr>\n",
       "    <tr>\n",
       "      <th>profile_gender</th>\n",
       "      <th></th>\n",
       "      <th></th>\n",
       "      <th></th>\n",
       "      <th></th>\n",
       "      <th></th>\n",
       "      <th></th>\n",
       "      <th></th>\n",
       "      <th></th>\n",
       "    </tr>\n",
       "  </thead>\n",
       "  <tbody>\n",
       "    <tr>\n",
       "      <th>Hombre</th>\n",
       "      <td>4944.0</td>\n",
       "      <td>98836.063558</td>\n",
       "      <td>102159.664237</td>\n",
       "      <td>1.0</td>\n",
       "      <td>53285.0</td>\n",
       "      <td>80000.0</td>\n",
       "      <td>110000.0</td>\n",
       "      <td>2080000.0</td>\n",
       "    </tr>\n",
       "    <tr>\n",
       "      <th>Mujer</th>\n",
       "      <td>908.0</td>\n",
       "      <td>73501.414465</td>\n",
       "      <td>56256.880181</td>\n",
       "      <td>2.0</td>\n",
       "      <td>43818.0</td>\n",
       "      <td>65000.0</td>\n",
       "      <td>92000.0</td>\n",
       "      <td>800000.0</td>\n",
       "    </tr>\n",
       "    <tr>\n",
       "      <th>Otros</th>\n",
       "      <td>31.0</td>\n",
       "      <td>95441.354839</td>\n",
       "      <td>88635.674358</td>\n",
       "      <td>40.0</td>\n",
       "      <td>39500.0</td>\n",
       "      <td>74000.0</td>\n",
       "      <td>117500.0</td>\n",
       "      <td>380000.0</td>\n",
       "    </tr>\n",
       "  </tbody>\n",
       "</table>\n",
       "</div>"
      ],
      "text/plain": [
       "               salary_monthly_NETO                                     \\\n",
       "                             count          mean            std   min   \n",
       "profile_gender                                                          \n",
       "Hombre                      4944.0  98836.063558  102159.664237   1.0   \n",
       "Mujer                        908.0  73501.414465   56256.880181   2.0   \n",
       "Otros                         31.0  95441.354839   88635.674358  40.0   \n",
       "\n",
       "                                                       \n",
       "                    25%      50%       75%        max  \n",
       "profile_gender                                         \n",
       "Hombre          53285.0  80000.0  110000.0  2080000.0  \n",
       "Mujer           43818.0  65000.0   92000.0   800000.0  \n",
       "Otros           39500.0  74000.0  117500.0   380000.0  "
      ]
     },
     "execution_count": 5,
     "metadata": {},
     "output_type": "execute_result"
    }
   ],
   "source": [
    "df[[genero, neto]].groupby(genero).describe()"
   ]
  },
  {
   "cell_type": "code",
   "execution_count": 6,
   "metadata": {},
   "outputs": [
    {
     "name": "stdout",
     "output_type": "stream",
     "text": [
      "Cantidad de salarios <= 10K: 204\n"
     ]
    }
   ],
   "source": [
    "# Salario Mínimo para la subpoblación de estudio.\n",
    "min_salary = 10000\n",
    "# ¿Cuántos salarios erróneos existen en la columna de salarios?\n",
    "print(f'Cantidad de salarios <= 10K: {(df[neto] <= min_salary).sum()}')\n",
    "# Considerando el salario mínimo.\n",
    "df = df[df[neto] > min_salary]"
   ]
  },
  {
   "cell_type": "code",
   "execution_count": 7,
   "metadata": {
    "colab": {
     "base_uri": "https://localhost:8080/",
     "height": 198
    },
    "id": "pycKJ5jWkShW",
    "outputId": "e9d609e3-282a-4934-d25a-14550e548626"
   },
   "outputs": [
    {
     "data": {
      "text/html": [
       "<div>\n",
       "<style scoped>\n",
       "    .dataframe tbody tr th:only-of-type {\n",
       "        vertical-align: middle;\n",
       "    }\n",
       "\n",
       "    .dataframe tbody tr th {\n",
       "        vertical-align: top;\n",
       "    }\n",
       "\n",
       "    .dataframe thead tr th {\n",
       "        text-align: left;\n",
       "    }\n",
       "\n",
       "    .dataframe thead tr:last-of-type th {\n",
       "        text-align: right;\n",
       "    }\n",
       "</style>\n",
       "<table border=\"1\" class=\"dataframe\">\n",
       "  <thead>\n",
       "    <tr>\n",
       "      <th></th>\n",
       "      <th colspan=\"8\" halign=\"left\">salary_monthly_NETO</th>\n",
       "    </tr>\n",
       "    <tr>\n",
       "      <th></th>\n",
       "      <th>count</th>\n",
       "      <th>mean</th>\n",
       "      <th>std</th>\n",
       "      <th>min</th>\n",
       "      <th>25%</th>\n",
       "      <th>50%</th>\n",
       "      <th>75%</th>\n",
       "      <th>max</th>\n",
       "    </tr>\n",
       "    <tr>\n",
       "      <th>profile_gender</th>\n",
       "      <th></th>\n",
       "      <th></th>\n",
       "      <th></th>\n",
       "      <th></th>\n",
       "      <th></th>\n",
       "      <th></th>\n",
       "      <th></th>\n",
       "      <th></th>\n",
       "    </tr>\n",
       "  </thead>\n",
       "  <tbody>\n",
       "    <tr>\n",
       "      <th>Hombre</th>\n",
       "      <td>4794.0</td>\n",
       "      <td>101901.128538</td>\n",
       "      <td>102241.618974</td>\n",
       "      <td>10700.0</td>\n",
       "      <td>55565.5625</td>\n",
       "      <td>80000.0</td>\n",
       "      <td>110000.0</td>\n",
       "      <td>2080000.0</td>\n",
       "    </tr>\n",
       "    <tr>\n",
       "      <th>Mujer</th>\n",
       "      <td>857.0</td>\n",
       "      <td>77820.714807</td>\n",
       "      <td>54958.736885</td>\n",
       "      <td>12000.0</td>\n",
       "      <td>48473.0000</td>\n",
       "      <td>67700.0</td>\n",
       "      <td>93770.0</td>\n",
       "      <td>800000.0</td>\n",
       "    </tr>\n",
       "    <tr>\n",
       "      <th>Otros</th>\n",
       "      <td>28.0</td>\n",
       "      <td>105660.714286</td>\n",
       "      <td>87235.710235</td>\n",
       "      <td>34000.0</td>\n",
       "      <td>43750.0000</td>\n",
       "      <td>78900.0</td>\n",
       "      <td>122750.0</td>\n",
       "      <td>380000.0</td>\n",
       "    </tr>\n",
       "  </tbody>\n",
       "</table>\n",
       "</div>"
      ],
      "text/plain": [
       "               salary_monthly_NETO                                         \\\n",
       "                             count           mean            std      min   \n",
       "profile_gender                                                              \n",
       "Hombre                      4794.0  101901.128538  102241.618974  10700.0   \n",
       "Mujer                        857.0   77820.714807   54958.736885  12000.0   \n",
       "Otros                         28.0  105660.714286   87235.710235  34000.0   \n",
       "\n",
       "                                                          \n",
       "                       25%      50%       75%        max  \n",
       "profile_gender                                            \n",
       "Hombre          55565.5625  80000.0  110000.0  2080000.0  \n",
       "Mujer           48473.0000  67700.0   93770.0   800000.0  \n",
       "Otros           43750.0000  78900.0  122750.0   380000.0  "
      ]
     },
     "execution_count": 7,
     "metadata": {},
     "output_type": "execute_result"
    }
   ],
   "source": [
    "df[[genero, neto]].groupby(genero).describe()"
   ]
  },
  {
   "cell_type": "code",
   "execution_count": 8,
   "metadata": {
    "id": "uZ1GxkLylHx0"
   },
   "outputs": [],
   "source": [
    "alpha = 0.05"
   ]
  },
  {
   "cell_type": "code",
   "execution_count": 9,
   "metadata": {
    "id": "OfzFpDO-lYxk"
   },
   "outputs": [],
   "source": [
    "is_man = df[genero] == 'Hombre'\n",
    "\n",
    "groupA = df[is_man][neto]\n",
    "groupB = df[~is_man][neto]"
   ]
  },
  {
   "cell_type": "markdown",
   "metadata": {
    "id": "co_0M_ojtmUh"
   },
   "source": [
    "## Ejercicio 1: Estimación\n",
    "\n",
    "**Consigna:**\n",
    "Calcular una estimación puntual, y un intervalo de confianza de nivel $1 - \\alpha$, para la resta entre la media del salario NETO para hombres menos la media del salario NETO para otros géneros (diferencia de las medias entre el *grupoA* y el *grupoB*).\n",
    "¿Cómo se relaciona este intervalo de confianza con el test de hipótesis?"
   ]
  },
  {
   "cell_type": "code",
   "execution_count": 10,
   "metadata": {},
   "outputs": [
    {
     "name": "stdout",
     "output_type": "stream",
     "text": [
      "Muestras del grupo A: 4794\n",
      "Muestras del grupo B: 885\n"
     ]
    }
   ],
   "source": [
    "print(f'Muestras del grupo A: {len(groupA)}')\n",
    "print(f'Muestras del grupo B: {len(groupB)}')"
   ]
  },
  {
   "cell_type": "code",
   "execution_count": 11,
   "metadata": {},
   "outputs": [
    {
     "name": "stdout",
     "output_type": "stream",
     "text": [
      "Estimador Puntual = 23199.6\n"
     ]
    }
   ],
   "source": [
    "estimador = groupA.mean() - groupB.mean()\n",
    "print(f'Estimador Puntual = {round(estimador, 1)}')"
   ]
  },
  {
   "cell_type": "markdown",
   "metadata": {},
   "source": [
    "**Un poco de teoría**\n",
    "\n",
    "Las variables aleatorias *Salario NETO de hombres* ($X_{a}$) y *Salario NETO de otros* ($X_{b}$) poseen una distribución que desconocemos.\n",
    "\n",
    "Tenemos una **muestra aleatoria** para cada una de estas variables.\n",
    "Por el **TCL** sabemos que vale lo siguiente:\n",
    "\n",
    "- Para el **promedio** de salarios de hombres.\n",
    "\n",
    "    $\\overline{X_{a}} \\sim N(\\mu_{a}, \\frac{\\sigma^{2}_{a}}{n_{a}})$\n",
    "\n",
    "- Para el **promedio** de salarios de otros.\n",
    "\n",
    "    $\\overline{X_{b}} \\sim N(\\mu_{b}, \\frac{\\sigma^{2}_{b}}{n_{b}})$\n",
    "\n",
    "Por lo tanto, asumiendo la *independencia* entre ambas variables, tenemos la distribución de nuestro **estimador**.\n",
    "\n",
    "- $\\overline{X_{a}} - \\overline{X_{b}} \\sim N(\\mu_{a} - \\mu_{b}, \\frac{\\sigma^{2}_{a}}{n_{a}} + \\frac{\\sigma^{2}_{b}}{n_{b}})$"
   ]
  },
  {
   "cell_type": "code",
   "execution_count": 12,
   "metadata": {},
   "outputs": [],
   "source": [
    "# Calculamos los parámetros para las distribuciones de las VA.\n",
    "n_a = len(groupA)\n",
    "n_b = len(groupB)\n",
    "mu_a = groupA.mean()\n",
    "mu_b = groupB.mean()\n",
    "sigma2_a = groupA.var()\n",
    "sigma2_b = groupB.var()"
   ]
  },
  {
   "cell_type": "code",
   "execution_count": 13,
   "metadata": {},
   "outputs": [
    {
     "name": "stdout",
     "output_type": "stream",
     "text": [
      "Esperanza del Estimador = 23199.6\n",
      "Varianza del Estimador = 5774855.9\n",
      "Desviación del Estimador = 2403.1\n",
      "----------\n",
      "Intervalo de Confianza (0.95) = (18489.6244915835, 27909.575883362555)\n",
      "Longitud del IC = 9419.951391779054\n"
     ]
    }
   ],
   "source": [
    "mu = mu_a - mu_b\n",
    "print(f'Esperanza del Estimador = {round(mu, 1)}')\n",
    "\n",
    "sigma2 = (sigma2_a / n_a) + (sigma2_b / n_b)\n",
    "print(f'Varianza del Estimador = {round(sigma2, 1)}')\n",
    "\n",
    "sigma = numpy.sqrt(sigma2)\n",
    "print(f'Desviación del Estimador = {round(sigma, 1)}')\n",
    "\n",
    "print('----------')\n",
    "\n",
    "intervalo = scipy.stats.norm.interval(1 - alpha, loc=mu, scale=sigma)\n",
    "print(f'Intervalo de Confianza ({1 - alpha}) = {intervalo}')\n",
    "\n",
    "i, s = intervalo\n",
    "print(f'Longitud del IC = {s - i}')"
   ]
  },
  {
   "cell_type": "markdown",
   "metadata": {},
   "source": [
    "Un **intervalo de confianza** establece un intervalo que contiene al parámetro que queremos estimar ($\\mu_{a} - \\mu_{b}$) con una cierta probabilidad ($1 - \\alpha$), en base a una **muestra aleatoria** de la población de estudio.\n",
    "\n",
    "De alguna forma, el resultado obtenido nos da un primer indicio que quizás la *hipótesis nula* $H_{0}$ (ambos grupos cobran, en promedio, el mismo salario) no sea verdadera.\n",
    "Si las variables aleatorias $X_{a}$ y $X_{b}$ tuvieran la misma esperanza, $\\mu_{a} = \\mu_{b}$, entonces el *intervalo de confianza* calculado debería (muy probablemente) incluir al $0$."
   ]
  },
  {
   "cell_type": "markdown",
   "metadata": {
    "id": "IFi2T7Y6nM92"
   },
   "source": [
    "## Ejercicio 2: Test de hipótesis\n"
   ]
  },
  {
   "cell_type": "markdown",
   "metadata": {
    "id": "Rzxe8UYU6EfJ"
   },
   "source": [
    "### 2.1 Formalización\n",
    "\n",
    "Describir formalmente los distintos componentes de un test de hipótesis para comprobar si la distribución de los salarios es distinta entre los grupos *A* y *B*.\n",
    "\n",
    "**Hipótesis Nula**\n",
    "\n",
    "$H_0 = \\dots$ \n",
    "\n",
    "**Estadístico (Pivote)**\n",
    "  * Identificar el estadístico.\n",
    "  * Escribir qué distribución tiene bajo $H_0$."
   ]
  },
  {
   "cell_type": "markdown",
   "metadata": {
    "id": "3Ip_5YdenC8u"
   },
   "source": [
    "### 2.2 P-valor\n",
    "\n",
    "1. Calcule el *p-valor* y decida si rechazar, o no, la hipótesis nula.\n",
    "2. Interprete el resultado.\n",
    "3. Los dos grupos de nuestra muestra tienen tamaños muy distintos. ¿Esto afecta al test de hipótesis?\n",
    "\n",
    "Links útiles:\n",
    "* [Test de hipótesis usando scipy](https://docs.scipy.org/doc/scipy/reference/generated/scipy.stats.ttest_ind.html).\n",
    "* [Test de Welch](http://daniellakens.blogspot.com/2015/01/always-use-welchs-t-test-instead-of.html)."
   ]
  },
  {
   "cell_type": "markdown",
   "metadata": {
    "id": "8VxiQr5YrQYR"
   },
   "source": [
    "### [Opcional] 2.3 Potencia del test\n",
    "\n",
    "Nuestra muestra, ¿era lo suficientemente grande para detectar si existe, o no, una diferencia entre los grupos?\n",
    "\n",
    "1. Utilice la función `tt_ind_solve_power` para calcular el tamaño necesario de la muestra para un *poder estadístico* ($1 - \\beta$) de 0.8, 0.9, y 0.95, asumiendo una *significancia estadística* ($\\alpha$) de 0.05.\n",
    "2. ¿Cómo interpretan el poder estadístico de un test? Dado su conocimiento de dominio sobre los datos, ¿les parece que esta muestra es lo suficientemente grande para ser representativa de la tendencia general? ¿y para utilizarla en un juicio penal contra una empresa *XX* por una causa de discriminación?\n",
    "\n",
    "[Documentación](https://www.statsmodels.org/stable/generated/statsmodels.stats.power.tt_ind_solve_power.html)\n",
    "\n",
    "**NOTA:** este análisis debería hacerse **ANTES** de recolectar los datos."
   ]
  },
  {
   "cell_type": "markdown",
   "metadata": {},
   "source": [
    "### Solución\n",
    "\n",
    "A partir de la **muestra aleatoria** se construye un estadístico, $\\overline{X_{a}} - \\overline{X_{b}}$, para afirmar o rechazar $H_{0}$.\n",
    "Se supone que la evidencia empírica nos dará las suficientes razones para rechazar, o no, $H_{0}$.\n",
    "\n",
    "#### 2.1 Formalización\n",
    "\n",
    "**Hipótesis Nula**\n",
    "\n",
    "$H_0:$ La distribución de los salarios es **idéntica** entre ambos grupos, $\\mu_{a} - \\mu_{b} = 0$.\n",
    "\n",
    "**Hipótesis Alternativa**\n",
    "\n",
    "$H_1:$ La distribución de los salarios es **distinta** entre ambos grupos, $\\mu_{a} - \\mu_{b} \\neq 0$.\n",
    "\n",
    "**Nivel de Significancia**\n",
    "\n",
    "$\\alpha = 0.05$\n",
    "\n",
    "**Estadistico**\n",
    "Se deberia hacer el *Test de Welch* porque no se conocen las desviaciones ($\\sigma_{a}$ y $\\sigma_{b}$) de las poblaciones, los tamaños de las muestras ($n_{a}$ y $n_{b}$) son distintos, y queremos verificar si las medias ($\\mu_{a}$ y $\\mu_{b}$) son equivalentes.\n",
    "\n",
    "$\n",
    "\\Large\n",
    "t_{Welch} = \\frac{ \\overline{X_{a}} - \\overline{X_{b}}} {s_{Welch}} \\sim t_{DoF}\n",
    "$\n",
    "\n",
    "$\n",
    "\\Large\n",
    "s_{Welch} = \\sqrt{ \\frac{s^{2}_{a}} {n_{a}} +  \\frac{s^{2}_{b}} {n_{b}}}\n",
    "$\n",
    "\n",
    "$\n",
    "\\Large\n",
    "{DoF} = \\frac{(\\frac{s^{2}_{a}}{n_{a}} + \\frac{s^{2}_{b}}{n_{b}})^{2}} {\\frac{(\\frac{s^{2}_{a}}{n_{a}})^{2}}{n_{a} - 1} + \\frac{(\\frac{s^{2}_{b}}{n_{b}})^{2}}{n_{b} - 1}}\n",
    "$"
   ]
  },
  {
   "cell_type": "markdown",
   "metadata": {},
   "source": [
    "#### 2.2 P-valor"
   ]
  },
  {
   "cell_type": "code",
   "execution_count": 14,
   "metadata": {},
   "outputs": [
    {
     "name": "stdout",
     "output_type": "stream",
     "text": [
      "P-valor = 1.295795770052478e-21\n"
     ]
    }
   ],
   "source": [
    "t_welch = scipy.stats.ttest_ind(groupA, groupB, equal_var=False)\n",
    "print(f'P-valor = {t_welch.pvalue}')"
   ]
  },
  {
   "cell_type": "markdown",
   "metadata": {},
   "source": [
    "1. Se observa un **p-valor** significativamente menor al nivel de significancia ($\\alpha = 0.05$), por lo que se **rechaza** la *hipotesis nula* ($H_{0}$). Es decir se rechaza la suposición que las medias de los salarios de hombres, y otros géneros, sean idénticas.\n",
    "\n",
    "2. Se podría decir que el **p-valor** mide la probabilidad de observar la muestra aleatoria obtenida de nuestra población, asumiendo que $H_{0}$ es válida. Ya que el valor es muy bajo, esto indicaría que la muestra observada es muy poco probable (asumiendo verdadera la *hipótesis nula*), por lo tanto se descarta $H_{0}$.\n",
    "\n",
    "3. Al utilizar el *Test de Welch* logramos ignorar el problema que podría provocar el tener muestras de diferentes tamaños. El test empleado es más robusto, en comparación con el *Test de Student*."
   ]
  },
  {
   "cell_type": "markdown",
   "metadata": {},
   "source": [
    "#### 2.3 Potencia del Test"
   ]
  },
  {
   "cell_type": "code",
   "execution_count": 15,
   "metadata": {
    "colab": {
     "base_uri": "https://localhost:8080/"
    },
    "id": "_IiqGfo4t6Db",
    "outputId": "d22ef875-4ae8-4f3c-9854-2651138aa13d"
   },
   "outputs": [],
   "source": [
    "from statsmodels.stats.power import tt_ind_solve_power"
   ]
  },
  {
   "cell_type": "code",
   "execution_count": 16,
   "metadata": {
    "id": "LUQ7MA2Apj9x"
   },
   "outputs": [],
   "source": [
    "effect_size = (groupA.mean() - groupB.mean()) / groupB.std()\n",
    "# nobs1 = None - What we want to know\n",
    "alpha = 0.05\n",
    "powers = [0.8, 0.9, 0.95]\n",
    "ratio = len(groupB) / len(groupA)"
   ]
  },
  {
   "cell_type": "code",
   "execution_count": 17,
   "metadata": {
    "colab": {
     "base_uri": "https://localhost:8080/",
     "height": 171
    },
    "id": "cvHcpY-3ty8Q",
    "outputId": "14b895a7-5c67-4585-fe17-194940bbde24"
   },
   "outputs": [
    {
     "name": "stdout",
     "output_type": "stream",
     "text": [
      "Potencia = 0.8 ---> Tamaño de Muestra = 299.3\n",
      "Potencia = 0.9 ---> Tamaño de Muestra = 400.1\n",
      "Potencia = 0.95 ---> Tamaño de Muestra = 494.5\n"
     ]
    }
   ],
   "source": [
    "for power in powers:\n",
    "    resultado = tt_ind_solve_power(effect_size=effect_size, alpha=alpha, power=power, ratio=ratio)\n",
    "    print(f'Potencia = {power} ---> Tamaño de Muestra = {round(resultado, 1)}')"
   ]
  },
  {
   "cell_type": "markdown",
   "metadata": {},
   "source": [
    "1. La muestra obtenida es lo suficientemente grande para detectar si existe, o no, una diferencia entre los grupos ($n_{a} = 4794$).\n",
    "\n",
    "2. El *poder estadístico* de un test representa la probabilidad de rechazar correctamente la *hipótesis nula* ($H_{0}$) cuando es realmente falsa. El tamaño de nuestra muestra es bastante superior a los tamaños que aseguran los *poderes* de 0.8, 0.9, y 0.95. Según la teoría pareciera una muestra lo suficientemente grande, pero según nuestro conocimiento de dominio pareciera no ser de esa manera. La tendencia de un país entero no debería ser representada por una muestra reducida de su población. Quizás para el caso de llevarlo a un juicio, siendo la *hipótesis nula* `La empresa XX no cometió ningún acto discriminatorio`, se tendría un *poder* del $95\\%$ de aceptar la *hipótesis alternativa* `La empresa XX si cometió un acto discriminatorio` en el escenario que sea cierta."
   ]
  },
  {
   "cell_type": "markdown",
   "metadata": {
    "id": "useKMdPyMod5"
   },
   "source": [
    "## Ejercicio 3: Comunicación y visualización\n",
    "\n",
    "**Consigna:**\n",
    "Seleccionen un resultado que les parezca relevante a partir de alguno de los ejercicios del entregable. Diseñe e implemente una comunicación en base a este mensaje, en un archivo **PDF**.\n",
    "\n",
    "Elija las palabras y visualización más adecuada para que la comunicación sea entendible, efectiva y se adapte a **UNA** de las siguientes situaciones:\n",
    "\n",
    "1. Una sección en un artículo de difusión a presentar como parte de una organización sin fines de lucro. No más de 1 página A4 (o dos si los gráficos son muy grandes).\n",
    "    1. Ejemplo: Alguna de las secciones [Los ecosistemas de emprendimiento de América Latina y el Caribe frente al COVID-19: Impactos, necesidades y recomendaciones](https://publications.iadb.org/es/los-ecosistemas-de-emprendimiento-de-america-latina-y-el-caribe-frente-al-covid-19-impactos-necesidades-y-recomendaciones), por ejemplo la sección *2.2. Reacciones de los emprendedores*.\n",
    "    2. Ejemplo: Alguna de las secciones de [The state of gender pay gap in 2021](https://www.payscale.com/data/gender-pay-gap?tk=carousel-ps-rc-job)\n",
    "    3. Puntos clave: \n",
    "        1. Simpleza de los gráficos.\n",
    "        2. Comunicación en lenguaje simple a personas que no son necesariamente expertos de dominio.\n",
    "        3. Selección de UNA oración sobre la que se hace énfasis.\n",
    "        4. No es necesario que mencionen objetivos ni descripciones del conjunto de datos, se supone que eso ya estaría explicado en otras secciones del informe.\n",
    "\n",
    "2. Una publicación científica o reporte técnico interno. No más de una página A4:\n",
    "    1. Ejemplo: La sección de resultados de [IZA DP No. 12914: The Impact of a Minimum Wage Change on the Distribution of Wages and Household Income](https://www.iza.org/publications/dp/12914/the-impact-of-a-minimum-wage-change-on-the-distribution-of-wages-and-household-income).\n",
    "    2. Ejemplo: Alguna de las secciones de [Temporary reduction in daily global CO2 emissions during the COVID-19 forced confinement](https://www.nature.com/articles/s41558-020-0797-x)\n",
    "    3. Puntos clave:\n",
    "        1. Nivel de detalle técnico requerido. Es necesario justificar la validez del análisis.\n",
    "        2. La idea presentada puede ser más compleja. Pueden asumir que la audiencia tiene conocimiento técnico y va a analizar las visualizaciones en detalle. \n",
    "        3. Pueden presentar más en detalle las limitaciones del análisis (significancia estadística, etc.).\n",
    "        4. No es necesario que mencionen objetivos ni descripciones del conjunto de datos, se supone que eso ya estaría explicado en otras secciones del informe.\n",
    "\n",
    "3. Un tweet (o post de LinkedIn) para la cuenta de su empresa consultora que hace análisis de datos. El objetivo es promocionar un análisis de datos abiertos que van a incluir en su portfolio:\n",
    "    1. Ejemplo: [Comparación vacunas covid](https://twitter.com/infobeautiful/status/1381577746527236098?s=20).\n",
    "    2. Ejemplo: [Tweet del BID](https://twitter.com/el_BID/status/1388508583944507396?s=20). Lo valioso de este tweet es que usaron un único número para transmitir un mensaje. Puede ser algo así, o con un gráfico muy simple.\n",
    "    3. Ejemplo: [Cambio climático](https://twitter.com/UNFCCC/status/1387732156190011394?s=20) Es un muy buen ejemplo, excepto que el gráfico no se lee nada y hay que entrar a la publicación original.\n",
    "    4. Ejemplo: [¿Cuánto están los programadores en las empresas?](https://www.linkedin.com/posts/denis-rothman-0b034043_tech-career-work-activity-6793861923269054464-gS6y) (No verificamos la veracidad o seriedad de la fuente).\n",
    "    5. Puntos clave:\n",
    "        1. Su audiencia no va a mirar la visualización por más de unos segundos, y no tiene conocimiento técnico.\n",
    "        2. Tienen que incluir además una *breve* descripción de cómo obtuvieron los datos que están presentando, que no entraría en el tweet."
   ]
  },
  {
   "cell_type": "markdown",
   "metadata": {},
   "source": [
    "**Ejercicio 3**\n",
    "\n",
    "Mostrar un gráfico de barras horizontales, con eje *x* el salario mensual NETO promedio, con eje *y* el tipo de contrato, y separado por colores según se cobra en dólares o en pesos."
   ]
  },
  {
   "cell_type": "code",
   "execution_count": 18,
   "metadata": {},
   "outputs": [],
   "source": [
    "df[dolares] = df[dolares].fillna('Mi sueldo está pesificado')"
   ]
  },
  {
   "cell_type": "code",
   "execution_count": 19,
   "metadata": {
    "id": "twwYHUztt45L"
   },
   "outputs": [
    {
     "data": {
      "image/png": "[encoded data removed]",
      "text/plain": [
       "<Figure size 1008x432 with 1 Axes>"
      ]
     },
     "metadata": {
      "needs_background": "light"
     },
     "output_type": "display_data"
    }
   ],
   "source": [
    "fig = plt.figure(figsize=(14, 6))\n",
    "\n",
    "seaborn.barplot(x=df[neto],\n",
    "                y=df[contrato], \n",
    "                hue=df[dolares],\n",
    "                estimator=numpy.mean,\n",
    "                ci=None,\n",
    "                orient='h')\n",
    "\n",
    "plt.xlabel('Media de salario mensual NETO')\n",
    "plt.ylabel('Tipo de contrato')\n",
    "plt.xticks(rotation=45)\n",
    "plt.ticklabel_format(style='plain', axis='x')"
   ]
  },
  {
   "cell_type": "code",
   "execution_count": 20,
   "metadata": {},
   "outputs": [],
   "source": [
    "new_groups = {\n",
    "    'Full-Time': 'Empresa Argentina',\n",
    "    'Part-Time': 'Empresa Argentina',\n",
    "    'Freelance': 'Empresa Argentina',\n",
    "    'Tercerizado (trabajo a través de consultora o agencia)': 'Empresa Argentina',\n",
    "    'Remoto (empresa de otro país)': 'Empresa Extranjera',\n",
    "}\n",
    "\n",
    "sorted_work_contract = ['Empresa Argentina', 'Empresa Extranjera']\n",
    "\n",
    "grupo = 'work_contract_group'\n",
    "\n",
    "df[grupo]= df[contrato].replace(new_groups)"
   ]
  },
  {
   "cell_type": "code",
   "execution_count": 21,
   "metadata": {},
   "outputs": [
    {
     "data": {
      "image/png": "[encoded data removed]",
      "text/plain": [
       "<Figure size 1008x432 with 1 Axes>"
      ]
     },
     "metadata": {
      "needs_background": "light"
     },
     "output_type": "display_data"
    }
   ],
   "source": [
    "celeste = \"#74ACDF\"\n",
    "verde = \"#00682F\"\n",
    "colores = {\n",
    "    \"Mi sueldo está pesificado\": celeste,\n",
    "    \"Mi sueldo está dolarizado\": verde\n",
    "}\n",
    "\n",
    "fig, ax = plt.subplots(figsize=(14, 6))\n",
    "\n",
    "seaborn.barplot(x=df[neto],\n",
    "                y=df[grupo], \n",
    "                hue=df[dolares],\n",
    "                estimator=numpy.mean,\n",
    "                ci=None,\n",
    "                orient='h',\n",
    "                palette=colores)\n",
    "\n",
    "# Eliminar bordes del gráfico.\n",
    "seaborn.despine(left=True, bottom=True)\n",
    "\n",
    "# Título del gráfico.\n",
    "plt.title('¿Cuánto ganan los Programadores en Argentina?',\n",
    "          fontsize=30,\n",
    "          loc='left')\n",
    "\n",
    "plt.xlabel('Salario')\n",
    "plt.ylabel('')\n",
    "\n",
    "# Elegir los valores que muestra el eje x.\n",
    "plt.xticks(rotation=45)\n",
    "plt.xticks(numpy.arange(0, 400001, step=100000))\n",
    "\n",
    "etiquetas = ['Pesos', 'Dólares']\n",
    "plt.legend(labels=etiquetas, frameon=False, loc='upper right', ncol=2);\n",
    "\n",
    "# Formato Moneda en el eje x.\n",
    "ax.xaxis.set_major_formatter(\"${x:.0f}\")"
   ]
  },
  {
   "cell_type": "markdown",
   "metadata": {},
   "source": [
    "**Una tendencia que se repite desde hace años, y parece no cambiar.**\n",
    "\n",
    "La despreciación del peso frente a las monedas extranjeras, más precisamente, el dólar.\n",
    "\n",
    "Las empresas extranjeras pagan mucho más que las empresas argentinas, para el mismo tipo de contrato de trabajo en programación."
   ]
  }
 ],
 "metadata": {
  "colab": {
   "collapsed_sections": [],
   "name": "Entregable - Parte 2.ipynb",
   "provenance": [],
   "toc_visible": true
  },
  "kernelspec": {
   "display_name": "Python 3",
   "language": "python",
   "name": "python3"
  },
  "language_info": {
   "codemirror_mode": {
    "name": "ipython",
    "version": 3
   },
   "file_extension": ".py",
   "mimetype": "text/x-python",
   "name": "python",
   "nbconvert_exporter": "python",
   "pygments_lexer": "ipython3",
   "version": "3.9.4"
  }
 },
 "nbformat": 4,
 "nbformat_minor": 4
}
