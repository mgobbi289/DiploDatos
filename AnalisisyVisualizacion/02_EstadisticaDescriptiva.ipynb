{
 "cells": [
  {
   "cell_type": "markdown",
   "metadata": {
    "id": "LYvAOR2VzHmW"
   },
   "source": [
    "\n",
    "**Diplomatura en Ciencia de Datos, Aprendizaje Automático y sus Aplicaciones**\n",
    "\n",
    "**Edición 2021**\n",
    "\n",
    "---\n",
    "\n",
    "# Estadística Descriptiva\n"
   ]
  },
  {
   "cell_type": "code",
   "execution_count": 1,
   "metadata": {
    "id": "Xwdfo7z20TUK"
   },
   "outputs": [],
   "source": [
    "import io\n",
    "import matplotlib\n",
    "import matplotlib.pyplot as plt\n",
    "import numpy\n",
    "import pandas as pd\n",
    "import seaborn\n",
    "\n",
    "seaborn.set_context('talk')"
   ]
  },
  {
   "cell_type": "markdown",
   "metadata": {
    "id": "XY2Hl-Ma07Nn"
   },
   "source": [
    "## Lectura del dataset\n",
    "\n",
    "En la notebook *00* se explican los detalles de la siguiente sección."
   ]
  },
  {
   "cell_type": "code",
   "execution_count": 2,
   "metadata": {
    "id": "Vviv_sqXdR5W"
   },
   "outputs": [],
   "source": [
    "url = 'https://cs.famaf.unc.edu.ar/~mteruel/datasets/diplodatos/sysarmy_survey_2020_processed.csv'\n",
    "df = pd.read_csv(url)"
   ]
  },
  {
   "cell_type": "code",
   "execution_count": 3,
   "metadata": {
    "colab": {
     "base_uri": "https://localhost:8080/",
     "height": 297
    },
    "id": "gckNHXXLktJ4",
    "outputId": "ee815350-7bab-4d0d-f157-3856d05b33a3"
   },
   "outputs": [
    {
     "data": {
      "text/html": [
       "<div>\n",
       "<style scoped>\n",
       "    .dataframe tbody tr th:only-of-type {\n",
       "        vertical-align: middle;\n",
       "    }\n",
       "\n",
       "    .dataframe tbody tr th {\n",
       "        vertical-align: top;\n",
       "    }\n",
       "\n",
       "    .dataframe thead th {\n",
       "        text-align: right;\n",
       "    }\n",
       "</style>\n",
       "<table border=\"1\" class=\"dataframe\">\n",
       "  <thead>\n",
       "    <tr style=\"text-align: right;\">\n",
       "      <th></th>\n",
       "      <th>profile_gender</th>\n",
       "      <th>profile_age</th>\n",
       "      <th>work_country</th>\n",
       "      <th>work_province</th>\n",
       "      <th>profile_years_experience</th>\n",
       "      <th>work_years_in_company</th>\n",
       "      <th>work_years_in_current_position</th>\n",
       "      <th>work_people_in_charge_of</th>\n",
       "      <th>profile_studies_level</th>\n",
       "      <th>profile_studies_level_state</th>\n",
       "      <th>...</th>\n",
       "      <th>work_has_violence_situations</th>\n",
       "      <th>profile_sexual_orientation</th>\n",
       "      <th>profile_has_disabilities</th>\n",
       "      <th>profile_has_disabilities_hiring_difficulties</th>\n",
       "      <th>company_employee_number</th>\n",
       "      <th>company_main_activity</th>\n",
       "      <th>company_recommended</th>\n",
       "      <th>company_diversity_policies</th>\n",
       "      <th>company_extra_benefits</th>\n",
       "      <th>company_best_companies_city</th>\n",
       "    </tr>\n",
       "  </thead>\n",
       "  <tbody>\n",
       "    <tr>\n",
       "      <th>0</th>\n",
       "      <td>Mujer</td>\n",
       "      <td>26</td>\n",
       "      <td>Argentina</td>\n",
       "      <td>Ciudad Autónoma de Buenos Aires</td>\n",
       "      <td>3.0</td>\n",
       "      <td>3.0</td>\n",
       "      <td>3.0</td>\n",
       "      <td>0</td>\n",
       "      <td>Universitario</td>\n",
       "      <td>En curso</td>\n",
       "      <td>...</td>\n",
       "      <td>En mi trabajo actual</td>\n",
       "      <td>Homosexual</td>\n",
       "      <td>NaN</td>\n",
       "      <td>NaN</td>\n",
       "      <td>501-1000</td>\n",
       "      <td>Servicios / Consultoría de Software / Digital</td>\n",
       "      <td>7</td>\n",
       "      <td>2</td>\n",
       "      <td>Capacitaciones y/o cursos, Comidas pagas / sub...</td>\n",
       "      <td>NaN</td>\n",
       "    </tr>\n",
       "    <tr>\n",
       "      <th>1</th>\n",
       "      <td>Hombre</td>\n",
       "      <td>29</td>\n",
       "      <td>Argentina</td>\n",
       "      <td>Corrientes</td>\n",
       "      <td>5.0</td>\n",
       "      <td>2.0</td>\n",
       "      <td>2.0</td>\n",
       "      <td>4</td>\n",
       "      <td>Universitario</td>\n",
       "      <td>En curso</td>\n",
       "      <td>...</td>\n",
       "      <td>Jamás</td>\n",
       "      <td>Heterosexual</td>\n",
       "      <td>Visual</td>\n",
       "      <td>No</td>\n",
       "      <td>201-500</td>\n",
       "      <td>Otras industrias</td>\n",
       "      <td>8</td>\n",
       "      <td>9</td>\n",
       "      <td>Horarios flexibles, Stock options / RSUs, Viát...</td>\n",
       "      <td>NaN</td>\n",
       "    </tr>\n",
       "    <tr>\n",
       "      <th>2</th>\n",
       "      <td>Mujer</td>\n",
       "      <td>22</td>\n",
       "      <td>Argentina</td>\n",
       "      <td>Ciudad Autónoma de Buenos Aires</td>\n",
       "      <td>2.0</td>\n",
       "      <td>0.0</td>\n",
       "      <td>0.0</td>\n",
       "      <td>0</td>\n",
       "      <td>Secundario</td>\n",
       "      <td>Completado</td>\n",
       "      <td>...</td>\n",
       "      <td>En un trabajo anterior</td>\n",
       "      <td>Bisexual o queer</td>\n",
       "      <td>NaN</td>\n",
       "      <td>No</td>\n",
       "      <td>2001-5000</td>\n",
       "      <td>Otras industrias</td>\n",
       "      <td>6</td>\n",
       "      <td>9</td>\n",
       "      <td>Clases de gimnasia online, Comidas pagas / sub...</td>\n",
       "      <td>NaN</td>\n",
       "    </tr>\n",
       "  </tbody>\n",
       "</table>\n",
       "<p>3 rows × 48 columns</p>\n",
       "</div>"
      ],
      "text/plain": [
       "  profile_gender  profile_age work_country                    work_province  \\\n",
       "0          Mujer           26    Argentina  Ciudad Autónoma de Buenos Aires   \n",
       "1         Hombre           29    Argentina                       Corrientes   \n",
       "2          Mujer           22    Argentina  Ciudad Autónoma de Buenos Aires   \n",
       "\n",
       "   profile_years_experience  work_years_in_company  \\\n",
       "0                       3.0                    3.0   \n",
       "1                       5.0                    2.0   \n",
       "2                       2.0                    0.0   \n",
       "\n",
       "   work_years_in_current_position  work_people_in_charge_of  \\\n",
       "0                             3.0                         0   \n",
       "1                             2.0                         4   \n",
       "2                             0.0                         0   \n",
       "\n",
       "  profile_studies_level profile_studies_level_state  ...  \\\n",
       "0         Universitario                    En curso  ...   \n",
       "1         Universitario                    En curso  ...   \n",
       "2            Secundario                  Completado  ...   \n",
       "\n",
       "  work_has_violence_situations profile_sexual_orientation  \\\n",
       "0         En mi trabajo actual                 Homosexual   \n",
       "1                        Jamás               Heterosexual   \n",
       "2       En un trabajo anterior           Bisexual o queer   \n",
       "\n",
       "  profile_has_disabilities profile_has_disabilities_hiring_difficulties  \\\n",
       "0                      NaN                                          NaN   \n",
       "1                   Visual                                           No   \n",
       "2                      NaN                                           No   \n",
       "\n",
       "  company_employee_number                          company_main_activity  \\\n",
       "0                501-1000  Servicios / Consultoría de Software / Digital   \n",
       "1                 201-500                               Otras industrias   \n",
       "2               2001-5000                               Otras industrias   \n",
       "\n",
       "  company_recommended company_diversity_policies  \\\n",
       "0                   7                          2   \n",
       "1                   8                          9   \n",
       "2                   6                          9   \n",
       "\n",
       "                              company_extra_benefits  \\\n",
       "0  Capacitaciones y/o cursos, Comidas pagas / sub...   \n",
       "1  Horarios flexibles, Stock options / RSUs, Viát...   \n",
       "2  Clases de gimnasia online, Comidas pagas / sub...   \n",
       "\n",
       "  company_best_companies_city  \n",
       "0                         NaN  \n",
       "1                         NaN  \n",
       "2                         NaN  \n",
       "\n",
       "[3 rows x 48 columns]"
      ]
     },
     "execution_count": 3,
     "metadata": {},
     "output_type": "execute_result"
    }
   ],
   "source": [
    "df[:3]"
   ]
  },
  {
   "cell_type": "markdown",
   "metadata": {
    "id": "2i_yGkkUs3QA"
   },
   "source": [
    "# Estadística descriptiva\n",
    "\n",
    "Hemos estado organizando y visualizando los datos de distintas maneras, pero ¿qué intuiciones podemos obtener?\n",
    "\n",
    "Las visualizaciones como histogramas o gráficos de conteo muestran la cantidad de veces que se observa cada valor en un conjunto de realizaciones de una variable aleatoria. Esto se denomina análisis de frecuencia, y es parte de la **estadística descriptiva**.\n",
    "\n",
    "El uso de visualizaciones nos limita a estimaciones, pero los datos crudos son demasiados como para interpretarlos en conjunto. Para eso, la estadística descriptiva provee también medidas de **tendencia central** y de **dispersión**, que resumen en un valor numérico propiedades de las realizaciones de la variable.\n",
    "\n",
    "Retomemos el problema original con la variable aleatoria `salary_monthly_BRUTO`, ¿qué información brindan las siguientes métricas y cómo usarlas?"
   ]
  },
  {
   "cell_type": "code",
   "execution_count": 4,
   "metadata": {
    "id": "AXFDG0eBPDgH"
   },
   "outputs": [],
   "source": [
    "salary_col = 'salary_monthly_BRUTO'"
   ]
  },
  {
   "cell_type": "code",
   "execution_count": 5,
   "metadata": {
    "colab": {
     "base_uri": "https://localhost:8080/"
    },
    "id": "fHre-H9euQv4",
    "outputId": "43415949-2a56-47f3-a2c7-e455aff79587"
   },
   "outputs": [
    {
     "data": {
      "text/plain": [
       "count       6095.00\n",
       "mean      124058.55\n",
       "std       122912.35\n",
       "min            1.00\n",
       "25%        61595.00\n",
       "50%        96000.00\n",
       "75%       145000.00\n",
       "max      2180000.00\n",
       "Name: salary_monthly_BRUTO, dtype: object"
      ]
     },
     "execution_count": 5,
     "metadata": {},
     "output_type": "execute_result"
    }
   ],
   "source": [
    "# Se describen las medidas estadísticas de la VA salary_col.\n",
    "df[salary_col].describe().apply(lambda s: '{0:.2f}'.format(s))"
   ]
  },
  {
   "cell_type": "markdown",
   "metadata": {
    "id": "QC-wJbBitzDH"
   },
   "source": [
    "## Medidas de tendencia central\n",
    "\n",
    "Cuando se quiere obtener un valor representativo de todas las realizaciones de una v.a., o de su centro, se utiliza una *medida de tendencia central*.\n",
    "\n",
    "Repasando, dada X una v.a. y un conjunto de realizaciones $x = \\{ x_1, x_2, ... \\}$ donde $x_i = X(\\omega)$ para algún $\\omega \\in \\Omega$, y $N = |x|$:\n",
    "\n",
    "* La **media muestral** (aritmética) o promedio se calcula como:\n",
    "\n",
    "$$ \\bar{x} = \\frac{1}{N} \\sum_i^N x_i $$\n",
    "\n",
    "* La **mediana** se calcula:\n",
    "  1. Ordenar las realizaciones tal que $x_j \\leq x_{j+1}$ \n",
    "  2. Si la cantidad de datos $N$ es impar, la mediana es el valor central: $median = x_{\\lfloor N / 2 \\rfloor +1}$\n",
    "  3. Si la cantidad de datos $N$ es par, la mediana es el promedio de los dos valores centrales: $median = \\frac{1}{2} (x_{ N / 2 } + x_{ (N / 2) +1})$\n",
    "\n",
    "* La **moda** son los valores con mayor frecuencia, es decir, los que más se repiten."
   ]
  },
  {
   "cell_type": "code",
   "execution_count": 6,
   "metadata": {
    "colab": {
     "base_uri": "https://localhost:8080/"
    },
    "id": "VGJfjf-x5TOh",
    "outputId": "28e1d571-a21d-4760-97c9-7fa823ac04ef"
   },
   "outputs": [
    {
     "name": "stdout",
     "output_type": "stream",
     "text": [
      "Media = 124058.54962132896\n",
      "Mediana = 96000.0\n"
     ]
    }
   ],
   "source": [
    "print(f'Media = {df[salary_col].mean()}')\n",
    "print(f'Mediana = {df[salary_col].median()}')"
   ]
  },
  {
   "cell_type": "markdown",
   "metadata": {
    "id": "hDltOaTjnuFd"
   },
   "source": [
    "**¿Por qué las dos medidas son tan distintas?**\n",
    "\n",
    "Propiedades de la media:\n",
    "* Se puede interpretar como el *centro de masa* del histograma. Es decir, si el histograma fuera una figura de madera, el punto de equilibrio donde podemos apoyarlo y no se cae es la media.\n",
    "* Es muy sensible a valores extremos. [Opcional] ¿Por qué? Porque **minimiza** las desviaciones cuadráticas.\n",
    "\n",
    "**¿Se cumple para estos datos?**"
   ]
  },
  {
   "cell_type": "code",
   "execution_count": 7,
   "metadata": {},
   "outputs": [],
   "source": [
    "def filtrarSalario(df, max_salary):\n",
    "    \"\"\"\n",
    "    Dado un DF, y un salario máximo, aplica el filtro adecuado.\n",
    "    \"\"\"\n",
    "    filtroSalario = df[salary_col] < max_salary\n",
    "    return df[filtroSalario][salary_col]"
   ]
  },
  {
   "cell_type": "code",
   "execution_count": 8,
   "metadata": {
    "colab": {
     "base_uri": "https://localhost:8080/"
    },
    "id": "woWeBF8-0u5Q",
    "outputId": "d4937c54-bf5b-43eb-8061-509e07d2ce9a"
   },
   "outputs": [
    {
     "data": {
      "text/plain": [
       "[(2180000.0, 123721.17819855596, 96000.0),\n",
       " (1000000, 120723.13043954599, 96000.0),\n",
       " (500000, 112145.56938829432, 95000.0),\n",
       " (400000, 107991.96966661021, 94000.0),\n",
       " (300000, 102223.41686622654, 92000.0),\n",
       " (200000, 91461.11102857141, 88000.0)]"
      ]
     },
     "execution_count": 8,
     "metadata": {},
     "output_type": "execute_result"
    }
   ],
   "source": [
    "# Se toman distintos intervalos de salarios máximos.\n",
    "max_salaries = [df[salary_col].max(), 10**6, 500000, 400000, 300000, 200000]\n",
    "# Se calculan las medidas de Tendencia Central.\n",
    "central_tendency = [\n",
    "    (max_salary, filtrarSalario(df, max_salary).mean(), filtrarSalario(df, max_salary).median())\n",
    "    for max_salary in max_salaries\n",
    "]\n",
    "\n",
    "central_tendency"
   ]
  },
  {
   "cell_type": "markdown",
   "metadata": {
    "id": "EZrjSY4yPV8-"
   },
   "source": [
    "Se pueden graficar estos números para lograr una mejor intuición de la magnitud de las diferencias. Además, al mostrar una visualización se pueden incluir más puntos.\n",
    "\n",
    "Para poder crear gráficos de *seaborn* con distintos grupos de datos, muchas veces es necesario cambiar el formato del *dataframe* de **wide** a **long**. Ver [este link](https://anvil.works/blog/tidy-data) para más información."
   ]
  },
  {
   "cell_type": "code",
   "execution_count": 9,
   "metadata": {
    "colab": {
     "base_uri": "https://localhost:8080/",
     "height": 141
    },
    "id": "MpMJWSNq3Xq_",
    "outputId": "e44dd90c-4628-4d6a-caa6-14a455a477ca"
   },
   "outputs": [
    {
     "data": {
      "text/html": [
       "<div>\n",
       "<style scoped>\n",
       "    .dataframe tbody tr th:only-of-type {\n",
       "        vertical-align: middle;\n",
       "    }\n",
       "\n",
       "    .dataframe tbody tr th {\n",
       "        vertical-align: top;\n",
       "    }\n",
       "\n",
       "    .dataframe thead th {\n",
       "        text-align: right;\n",
       "    }\n",
       "</style>\n",
       "<table border=\"1\" class=\"dataframe\">\n",
       "  <thead>\n",
       "    <tr style=\"text-align: right;\">\n",
       "      <th></th>\n",
       "      <th>max_salary</th>\n",
       "      <th>metric</th>\n",
       "      <th>value</th>\n",
       "    </tr>\n",
       "  </thead>\n",
       "  <tbody>\n",
       "    <tr>\n",
       "      <th>0</th>\n",
       "      <td>50000</td>\n",
       "      <td>mean</td>\n",
       "      <td>30339.534775</td>\n",
       "    </tr>\n",
       "    <tr>\n",
       "      <th>1</th>\n",
       "      <td>60000</td>\n",
       "      <td>mean</td>\n",
       "      <td>37032.451850</td>\n",
       "    </tr>\n",
       "    <tr>\n",
       "      <th>2</th>\n",
       "      <td>70000</td>\n",
       "      <td>mean</td>\n",
       "      <td>44179.526605</td>\n",
       "    </tr>\n",
       "  </tbody>\n",
       "</table>\n",
       "</div>"
      ],
      "text/plain": [
       "   max_salary metric         value\n",
       "0       50000   mean  30339.534775\n",
       "1       60000   mean  37032.451850\n",
       "2       70000   mean  44179.526605"
      ]
     },
     "execution_count": 9,
     "metadata": {},
     "output_type": "execute_result"
    }
   ],
   "source": [
    "central_tendency_max = [\n",
    "    (max_salary, filtrarSalario(df, max_salary).mean(), filtrarSalario(df, max_salary).median())\n",
    "    # Intervalos de 10.000 pesos argentinos.\n",
    "    for max_salary in range(50000, int(df[salary_col].max()), 10**4)\n",
    "]\n",
    "# Convierte los datos de formato WIDE a LONG.\n",
    "central_tendency_max_df = pd.DataFrame(central_tendency_max, columns=['max_salary', 'mean', 'median'])\\\n",
    "  .melt(id_vars='max_salary', var_name='metric')\n",
    "\n",
    "central_tendency_max_df[:3]"
   ]
  },
  {
   "cell_type": "code",
   "execution_count": 10,
   "metadata": {
    "colab": {
     "base_uri": "https://localhost:8080/",
     "height": 298
    },
    "id": "rJQfOlKV15Z4",
    "outputId": "809470d4-e304-442a-ee1d-3762aecae282"
   },
   "outputs": [
    {
     "data": {
      "image/png": "[encoded data removed]",
      "text/plain": [
       "<Figure size 1080x360 with 1 Axes>"
      ]
     },
     "metadata": {
      "needs_background": "light"
     },
     "output_type": "display_data"
    }
   ],
   "source": [
    "# ¡Podemos ver estos datos visualmente!\n",
    "fig = plt.figure(figsize=(15, 5))\n",
    "seaborn.lineplot(data=central_tendency_max_df, x='max_salary', y='value', hue='metric')\n",
    "plt.ticklabel_format(style='plain', axis='x')\n",
    "seaborn.despine()"
   ]
  },
  {
   "cell_type": "code",
   "execution_count": 11,
   "metadata": {
    "colab": {
     "base_uri": "https://localhost:8080/",
     "height": 419
    },
    "id": "mSyyNgvndRPQ",
    "outputId": "f9f78eed-8da6-4974-81f1-c4287a2a98a5"
   },
   "outputs": [
    {
     "data": {
      "image/png": "[encoded data removed]",
      "text/plain": [
       "<Figure size 1152x864 with 2 Axes>"
      ]
     },
     "metadata": {
      "needs_background": "light"
     },
     "output_type": "display_data"
    }
   ],
   "source": [
    "# Las diferencias no siempre se aprecian en los gráficos.\n",
    "fig, axes = plt.subplots(nrows=2, figsize=(16, 12))\n",
    "\n",
    "seaborn.histplot(df[salary_col], bins=100, ax=axes[0], color='gray')\n",
    "axes[0].axvline(df[salary_col].mean(), color='orangered', linestyle='--', label='Media')\n",
    "axes[0].axvline(df[salary_col].median(), color='indigo', linestyle='-.', label='Mediana')\n",
    "\n",
    "# Se filtran los salarios más elevados del DF.\n",
    "filtered_df = filtrarSalario(df, 200000)\n",
    "\n",
    "seaborn.histplot(filtered_df, bins=100, ax=axes[1], color='gray')\n",
    "axes[1].axvline(filtered_df.mean(), color='orangered', linestyle='--', label='Media')\n",
    "axes[1].axvline(filtered_df.median(), color='indigo', linestyle='-.', label='Mediana')\n",
    "\n",
    "axes[0].legend()\n",
    "seaborn.despine()"
   ]
  },
  {
   "cell_type": "markdown",
   "metadata": {
    "id": "3MdG-7bK8AKR"
   },
   "source": [
    "¿Qué decir de la moda? Sólo que el resultado de la función no es un valor, sino una serie de valores, aunque la serie tenga un único elemento."
   ]
  },
  {
   "cell_type": "code",
   "execution_count": 12,
   "metadata": {
    "colab": {
     "base_uri": "https://localhost:8080/"
    },
    "id": "r01xw1q18AmV",
    "outputId": "c660b266-dd56-4abd-b55e-514ab02699e0"
   },
   "outputs": [
    {
     "data": {
      "text/plain": [
       "0    Hombre\n",
       "dtype: object"
      ]
     },
     "execution_count": 12,
     "metadata": {},
     "output_type": "execute_result"
    }
   ],
   "source": [
    "df.profile_gender.mode()"
   ]
  },
  {
   "cell_type": "markdown",
   "metadata": {
    "id": "Li3vLv3X8k7Z"
   },
   "source": [
    "## Medidas de dispersión\n",
    "\n",
    "Las medidas de dispersión vistas en el teórico son la desviación estándar, la varianza, y el coeficiente de variación. También permiten representar con un número alguna propiedad de los datos.\n",
    "\n",
    "Por ejemplo, comparemos el salario neto con el salario bruto. A priori, **¿deberíamos ver alguna diferencia?**"
   ]
  },
  {
   "cell_type": "code",
   "execution_count": 13,
   "metadata": {
    "colab": {
     "base_uri": "https://localhost:8080/",
     "height": 295
    },
    "id": "504NtuJWjpX0",
    "outputId": "2cd2b93a-ea7c-4110-e4df-b2572385d1ec"
   },
   "outputs": [
    {
     "data": {
      "text/html": [
       "<div>\n",
       "<style scoped>\n",
       "    .dataframe tbody tr th:only-of-type {\n",
       "        vertical-align: middle;\n",
       "    }\n",
       "\n",
       "    .dataframe tbody tr th {\n",
       "        vertical-align: top;\n",
       "    }\n",
       "\n",
       "    .dataframe thead th {\n",
       "        text-align: right;\n",
       "    }\n",
       "</style>\n",
       "<table border=\"1\" class=\"dataframe\">\n",
       "  <thead>\n",
       "    <tr style=\"text-align: right;\">\n",
       "      <th></th>\n",
       "      <th>salary_monthly_NETO</th>\n",
       "      <th>salary_monthly_BRUTO</th>\n",
       "    </tr>\n",
       "  </thead>\n",
       "  <tbody>\n",
       "    <tr>\n",
       "      <th>count</th>\n",
       "      <td>5883.0</td>\n",
       "      <td>6095.0</td>\n",
       "    </tr>\n",
       "    <tr>\n",
       "      <th>mean</th>\n",
       "      <td>94908.0</td>\n",
       "      <td>124059.0</td>\n",
       "    </tr>\n",
       "    <tr>\n",
       "      <th>std</th>\n",
       "      <td>96862.0</td>\n",
       "      <td>122912.0</td>\n",
       "    </tr>\n",
       "    <tr>\n",
       "      <th>min</th>\n",
       "      <td>1.0</td>\n",
       "      <td>1.0</td>\n",
       "    </tr>\n",
       "    <tr>\n",
       "      <th>25%</th>\n",
       "      <td>51480.0</td>\n",
       "      <td>61595.0</td>\n",
       "    </tr>\n",
       "    <tr>\n",
       "      <th>50%</th>\n",
       "      <td>78000.0</td>\n",
       "      <td>96000.0</td>\n",
       "    </tr>\n",
       "    <tr>\n",
       "      <th>75%</th>\n",
       "      <td>106000.0</td>\n",
       "      <td>145000.0</td>\n",
       "    </tr>\n",
       "    <tr>\n",
       "      <th>max</th>\n",
       "      <td>2080000.0</td>\n",
       "      <td>2180000.0</td>\n",
       "    </tr>\n",
       "  </tbody>\n",
       "</table>\n",
       "</div>"
      ],
      "text/plain": [
       "       salary_monthly_NETO  salary_monthly_BRUTO\n",
       "count               5883.0                6095.0\n",
       "mean               94908.0              124059.0\n",
       "std                96862.0              122912.0\n",
       "min                    1.0                   1.0\n",
       "25%                51480.0               61595.0\n",
       "50%                78000.0               96000.0\n",
       "75%               106000.0              145000.0\n",
       "max              2080000.0             2180000.0"
      ]
     },
     "execution_count": 13,
     "metadata": {},
     "output_type": "execute_result"
    }
   ],
   "source": [
    "df[['salary_monthly_NETO', 'salary_monthly_BRUTO']].describe().round()"
   ]
  },
  {
   "cell_type": "markdown",
   "metadata": {
    "id": "m6dcAgVYlUWK"
   },
   "source": [
    "Claramente, ambas distribuciones están centradas en valores distintos, pero ¿podemos decir algo sobre su dispersión?\n",
    "\n",
    "Como estamos hablando de dos v.a. distintas, no podemos comparar directamente los valores de las desviaciones estándar, sino que tenemos que usar el coeficiente de variación."
   ]
  },
  {
   "cell_type": "code",
   "execution_count": 14,
   "metadata": {
    "colab": {
     "base_uri": "https://localhost:8080/"
    },
    "id": "5Ga3FpQalrCm",
    "outputId": "74e208ab-e189-4668-b796-0bc0daa30def"
   },
   "outputs": [
    {
     "name": "stdout",
     "output_type": "stream",
     "text": [
      "Coeficiente de variación salario NETO: 1.0205048799041485\n",
      "Coeficiente de variación salario BRUTO: 0.9906795521353624\n"
     ]
    }
   ],
   "source": [
    "import scipy\n",
    "\n",
    "print(f'Coeficiente de variación salario NETO: {scipy.stats.variation(df.salary_monthly_NETO.dropna())}')\n",
    "print(f'Coeficiente de variación salario BRUTO: {scipy.stats.variation(df.salary_monthly_BRUTO)}')"
   ]
  },
  {
   "cell_type": "markdown",
   "metadata": {
    "id": "lVG6Ro-6ao3j"
   },
   "source": [
    "## Percentiles y gráficos de caja\n",
    "\n",
    "Los gráficos de caja son otra forma de representar la distribución de las realizaciones de una v.a. numérica, de una forma más condensada que un histograma.\n",
    "\n",
    "Son muy útiles para comparar muchas distribuciones, pero sólo cuando son muy distintas entre ellas, ya que oscurecen algunas sutilezas. Otro problema de este tipo de gráficos es que *no todo el mundo recuerda cómo leerlos*."
   ]
  },
  {
   "cell_type": "code",
   "execution_count": 15,
   "metadata": {
    "colab": {
     "base_uri": "https://localhost:8080/",
     "height": 301
    },
    "id": "5dbBiShrasMI",
    "outputId": "48979844-fc0d-4c5e-f3bb-a9c7ff76a4ac"
   },
   "outputs": [
    {
     "data": {
      "image/png": "[encoded data removed]",
      "text/plain": [
       "<Figure size 864x288 with 1 Axes>"
      ]
     },
     "metadata": {
      "needs_background": "light"
     },
     "output_type": "display_data"
    }
   ],
   "source": [
    "plt.figure(figsize=(12, 4))\n",
    "seaborn.boxplot(x=df[salary_col])\n",
    "seaborn.despine()"
   ]
  },
  {
   "cell_type": "code",
   "execution_count": 16,
   "metadata": {
    "colab": {
     "base_uri": "https://localhost:8080/",
     "height": 318
    },
    "id": "GdK00mpDa7Nz",
    "outputId": "c5431d14-a5f9-472c-f6f8-e7e0be5be086"
   },
   "outputs": [
    {
     "data": {
      "image/png": "[encoded data removed]",
      "text/plain": [
       "<Figure size 864x288 with 1 Axes>"
      ]
     },
     "metadata": {
      "needs_background": "light"
     },
     "output_type": "display_data"
    }
   ],
   "source": [
    "plt.figure(figsize=(12, 4))\n",
    "seaborn.boxplot(x=df[df.profile_age < 100].profile_age)\n",
    "seaborn.despine()"
   ]
  },
  {
   "cell_type": "markdown",
   "metadata": {
    "id": "tyx3Pmk-dJL4"
   },
   "source": [
    "Por ejemplo, podemos comparar la distribución de los `salary_col` con respecto al nivel de estudios alcanzado."
   ]
  },
  {
   "cell_type": "code",
   "execution_count": 17,
   "metadata": {
    "colab": {
     "base_uri": "https://localhost:8080/",
     "height": 390
    },
    "id": "W1dKgRP9gkHj",
    "outputId": "bc5078c3-3a8d-4136-9b49-99e04eac18ea"
   },
   "outputs": [
    {
     "data": {
      "image/png": "[encoded data removed]",
      "text/plain": [
       "<Figure size 864x432 with 1 Axes>"
      ]
     },
     "metadata": {
      "needs_background": "light"
     },
     "output_type": "display_data"
    }
   ],
   "source": [
    "sorted_studies_levels = [ 'Primario'\n",
    "                        , 'Secundario'\n",
    "                        , 'Terciario'\n",
    "                        , 'Universitario'\n",
    "                        , 'Posgrado'\n",
    "                        , 'Doctorado'\n",
    "                        , 'Posdoctorado'\n",
    "                        ]\n",
    "\n",
    "plt.figure(figsize=(12, 6))\n",
    "seaborn.boxplot(data=df, x=salary_col, y='profile_studies_level', color='orangered',\n",
    "                order=sorted_studies_levels)\n",
    "plt.ticklabel_format(style='plain', axis='x')"
   ]
  },
  {
   "cell_type": "markdown",
   "metadata": {
    "id": "HClH-TMBhMfg"
   },
   "source": [
    "**¿Qué puede estar causando una diferencia tan grande en la distribución para las respuestas que dicen Posdoctorado?**\n",
    "\n",
    "Quizás consisten de las vertientes en la carrera elegida.\n",
    "- Posibilidad de trabajar en la **academia** dentro del país.\n",
    "- Posibilidad de trabajar en la **industria** fuera del país."
   ]
  },
  {
   "cell_type": "markdown",
   "metadata": {
    "id": "yqHgU6mUhXSi"
   },
   "source": [
    "### Boxenplots\n",
    "\n",
    "Los boxplots tienen una gran desventaja: ocultan mucha información en la distribución de las colas. Por ejemplo, para la categoría *Posdoctorado*, sabemos que el 25% de los valores de sueldo neto es mayor que los ~650000 pesos; pero no conocemos cómo se distribuyen. Para conjuntos de datos de gran tamaño, el 25% de los datos contiene mucha información.\n",
    "\n",
    "Un gráfico más informativo es el **boxenplot**, que visualiza más percentiles. Otra ventaja es la percepción del mismo debido al peso visual de las cajas: los datos en el rango intercuartílico no parecen muuuucho más importantes que los datos en las colas.\n",
    "\n",
    "Sin embargo, es aún más difícil de leer si buscamos exactitud, ya que los percentiles que definen el límite de cada caja se definen recursivamente y no decrecen linealmente."
   ]
  },
  {
   "cell_type": "code",
   "execution_count": 18,
   "metadata": {
    "colab": {
     "base_uri": "https://localhost:8080/",
     "height": 390
    },
    "id": "evtF2AFChc06",
    "outputId": "b6f3b780-066e-4802-d8d5-3172dbba40af"
   },
   "outputs": [
    {
     "data": {
      "image/png": "[encoded data removed]",
      "text/plain": [
       "<Figure size 864x432 with 1 Axes>"
      ]
     },
     "metadata": {
      "needs_background": "light"
     },
     "output_type": "display_data"
    }
   ],
   "source": [
    "plt.figure(figsize=(12, 6))\n",
    "seaborn.boxenplot(data=df, x=salary_col, y='profile_studies_level', color='orangered',\n",
    "                 order=sorted_studies_levels)\n",
    "plt.ticklabel_format(style='plain', axis='x')"
   ]
  },
  {
   "cell_type": "markdown",
   "metadata": {
    "id": "81z4Ue6PkEZr"
   },
   "source": [
    "## Eliminación de valores extremos\n",
    "\n",
    "### Usando percentiles \n",
    "\n",
    "Una forma conservadora de eliminar valores extremos que estén afectando a la media, el rango, y las visualizaciones, es seleccionar un cierto porcentaje más extremo. Para eso, usamos los percentiles.\n",
    "\n",
    "Por ejemplo, podemos elegir quedarnos con el 99% de salarios más bajos, eliminando el 1% de salarios más altos. Podemos calcular todos los percentiles para decidir cuál sería el más apropiado."
   ]
  },
  {
   "cell_type": "code",
   "execution_count": 19,
   "metadata": {
    "colab": {
     "base_uri": "https://localhost:8080/"
    },
    "id": "bWEgaBVvka9p",
    "outputId": "e7baf270-f52d-4ec8-8aa6-dce26d5584dd"
   },
   "outputs": [
    {
     "data": {
      "text/plain": [
       "0.950     307150.0\n",
       "0.980     480000.0\n",
       "0.990     630600.0\n",
       "0.995     796240.0\n",
       "0.998    1032671.0\n",
       "Name: salary_monthly_BRUTO, dtype: float64"
      ]
     },
     "execution_count": 19,
     "metadata": {},
     "output_type": "execute_result"
    }
   ],
   "source": [
    "df[salary_col].quantile([.95, .98, .99, .995, .998])"
   ]
  },
  {
   "cell_type": "code",
   "execution_count": 20,
   "metadata": {},
   "outputs": [],
   "source": [
    "max_limit = df[salary_col].quantile(.98)\n",
    "data = filtrarSalario(df, max_limit)"
   ]
  },
  {
   "cell_type": "code",
   "execution_count": 21,
   "metadata": {
    "colab": {
     "base_uri": "https://localhost:8080/",
     "height": 318
    },
    "id": "A-2cG3unruwo",
    "outputId": "2e8308b6-f072-40ae-94c2-a84c123e8618"
   },
   "outputs": [
    {
     "data": {
      "image/png": "[encoded data removed]",
      "text/plain": [
       "<Figure size 864x288 with 1 Axes>"
      ]
     },
     "metadata": {
      "needs_background": "light"
     },
     "output_type": "display_data"
    }
   ],
   "source": [
    "plt.figure(figsize=(12, 4))\n",
    "seaborn.boxenplot(x=data);"
   ]
  },
  {
   "cell_type": "code",
   "execution_count": 22,
   "metadata": {
    "colab": {
     "base_uri": "https://localhost:8080/",
     "height": 753
    },
    "id": "MWmor0akspwt",
    "outputId": "c07bcbd1-fb54-4b28-97a8-63df74c03b08"
   },
   "outputs": [
    {
     "data": {
      "image/png": "[encoded data removed]",
      "text/plain": [
       "<Figure size 1008x1152 with 3 Axes>"
      ]
     },
     "metadata": {
      "needs_background": "light"
     },
     "output_type": "display_data"
    }
   ],
   "source": [
    "fig, axes = plt.subplots(figsize=(14, 16), nrows=3)\n",
    "\n",
    "seaborn.histplot(x=data, ax=axes[0])\n",
    "seaborn.boxplot(x=data, ax=axes[1])\n",
    "seaborn.boxenplot(x=data, ax=axes[2]);"
   ]
  },
  {
   "cell_type": "markdown",
   "metadata": {
    "id": "SBkKwLFltJwg"
   },
   "source": [
    "### Rango itercuartílico"
   ]
  },
  {
   "cell_type": "code",
   "execution_count": 23,
   "metadata": {
    "id": "9RPNlz5-kjgD"
   },
   "outputs": [],
   "source": [
    "def clean_outliers(dataset, column_name):\n",
    "    \"\"\"\n",
    "    Returns dataset removing the outlier rows from column @column_name.\n",
    "    \"\"\"\n",
    "    interesting_col = dataset[column_name]\n",
    "    # Here we can remove the outliers from both ends, or even add more restrictions.\n",
    "    mask_outlier = (\n",
    "        # Diferencia con la media es menor a 2.5 veces la desviación estándar.\n",
    "        numpy.abs(interesting_col - interesting_col.mean()) <= (2.5 * interesting_col.std()))\n",
    "    return dataset[mask_outlier]"
   ]
  },
  {
   "cell_type": "code",
   "execution_count": 24,
   "metadata": {
    "colab": {
     "base_uri": "https://localhost:8080/",
     "height": 753
    },
    "id": "MaZj8_fatXgo",
    "outputId": "92836670-cb13-468a-977a-d14ff14b7aae"
   },
   "outputs": [
    {
     "data": {
      "image/png": "[encoded data removed]",
      "text/plain": [
       "<Figure size 1008x1152 with 3 Axes>"
      ]
     },
     "metadata": {
      "needs_background": "light"
     },
     "output_type": "display_data"
    }
   ],
   "source": [
    "fig, axes = plt.subplots(figsize=(14, 16), nrows=3)\n",
    "\n",
    "data = clean_outliers(df, salary_col)[salary_col]\n",
    "seaborn.histplot(x=data, ax=axes[0])\n",
    "seaborn.boxplot(x=data, ax=axes[1])\n",
    "seaborn.boxenplot(x=data, ax=axes[2]);"
   ]
  },
  {
   "cell_type": "markdown",
   "metadata": {
    "id": "fuDscbVqttGZ"
   },
   "source": [
    "### ¡Mirando los datos!\n",
    "\n",
    "¿Quiénes son los que cobran tanto?"
   ]
  },
  {
   "cell_type": "code",
   "execution_count": 25,
   "metadata": {
    "colab": {
     "base_uri": "https://localhost:8080/",
     "height": 862
    },
    "id": "zIt2nJXvtx3g",
    "outputId": "68b04aad-5eca-4b3f-c3eb-4fdd61e5387f"
   },
   "outputs": [
    {
     "data": {
      "text/html": [
       "<div>\n",
       "<style scoped>\n",
       "    .dataframe tbody tr th:only-of-type {\n",
       "        vertical-align: middle;\n",
       "    }\n",
       "\n",
       "    .dataframe tbody tr th {\n",
       "        vertical-align: top;\n",
       "    }\n",
       "\n",
       "    .dataframe thead th {\n",
       "        text-align: right;\n",
       "    }\n",
       "</style>\n",
       "<table border=\"1\" class=\"dataframe\">\n",
       "  <thead>\n",
       "    <tr style=\"text-align: right;\">\n",
       "      <th></th>\n",
       "      <th>profile_gender</th>\n",
       "      <th>profile_age</th>\n",
       "      <th>work_country</th>\n",
       "      <th>work_province</th>\n",
       "      <th>profile_years_experience</th>\n",
       "      <th>work_years_in_company</th>\n",
       "      <th>work_years_in_current_position</th>\n",
       "      <th>work_people_in_charge_of</th>\n",
       "      <th>profile_studies_level</th>\n",
       "      <th>profile_studies_level_state</th>\n",
       "      <th>...</th>\n",
       "      <th>work_has_violence_situations</th>\n",
       "      <th>profile_sexual_orientation</th>\n",
       "      <th>profile_has_disabilities</th>\n",
       "      <th>profile_has_disabilities_hiring_difficulties</th>\n",
       "      <th>company_employee_number</th>\n",
       "      <th>company_main_activity</th>\n",
       "      <th>company_recommended</th>\n",
       "      <th>company_diversity_policies</th>\n",
       "      <th>company_extra_benefits</th>\n",
       "      <th>company_best_companies_city</th>\n",
       "    </tr>\n",
       "  </thead>\n",
       "  <tbody>\n",
       "    <tr>\n",
       "      <th>261</th>\n",
       "      <td>Hombre</td>\n",
       "      <td>37</td>\n",
       "      <td>Argentina</td>\n",
       "      <td>Ciudad Autónoma de Buenos Aires</td>\n",
       "      <td>21.0</td>\n",
       "      <td>10.0</td>\n",
       "      <td>10.0</td>\n",
       "      <td>17</td>\n",
       "      <td>Universitario</td>\n",
       "      <td>Incompleto</td>\n",
       "      <td>...</td>\n",
       "      <td>Jamás</td>\n",
       "      <td>Heterosexual</td>\n",
       "      <td>NaN</td>\n",
       "      <td>NaN</td>\n",
       "      <td>5001-10000</td>\n",
       "      <td>Producto basado en Software</td>\n",
       "      <td>9</td>\n",
       "      <td>9</td>\n",
       "      <td>Abono de celular, Capacitaciones y/o cursos, C...</td>\n",
       "      <td>NaN</td>\n",
       "    </tr>\n",
       "    <tr>\n",
       "      <th>318</th>\n",
       "      <td>Hombre</td>\n",
       "      <td>40</td>\n",
       "      <td>Argentina</td>\n",
       "      <td>Santa Fe</td>\n",
       "      <td>4.0</td>\n",
       "      <td>0.0</td>\n",
       "      <td>0.0</td>\n",
       "      <td>0</td>\n",
       "      <td>Posdoctorado</td>\n",
       "      <td>Completado</td>\n",
       "      <td>...</td>\n",
       "      <td>Jamás</td>\n",
       "      <td>¿Qué les importa?</td>\n",
       "      <td>NaN</td>\n",
       "      <td>NaN</td>\n",
       "      <td>1001-2000</td>\n",
       "      <td>Servicios / Consultoría de Software / Digital</td>\n",
       "      <td>8</td>\n",
       "      <td>10</td>\n",
       "      <td>Capacitaciones y/o cursos, Horarios flexibles,...</td>\n",
       "      <td>NaN</td>\n",
       "    </tr>\n",
       "    <tr>\n",
       "      <th>437</th>\n",
       "      <td>Hombre</td>\n",
       "      <td>36</td>\n",
       "      <td>Argentina</td>\n",
       "      <td>Ciudad Autónoma de Buenos Aires</td>\n",
       "      <td>17.0</td>\n",
       "      <td>4.0</td>\n",
       "      <td>4.0</td>\n",
       "      <td>15</td>\n",
       "      <td>Universitario</td>\n",
       "      <td>Incompleto</td>\n",
       "      <td>...</td>\n",
       "      <td>En un trabajo anterior</td>\n",
       "      <td>¿Qué les importa?</td>\n",
       "      <td>NaN</td>\n",
       "      <td>No</td>\n",
       "      <td>1001-2000</td>\n",
       "      <td>Producto basado en Software</td>\n",
       "      <td>7</td>\n",
       "      <td>10</td>\n",
       "      <td>Clases de gimnasia online, Comidas pagas / sub...</td>\n",
       "      <td>NaN</td>\n",
       "    </tr>\n",
       "    <tr>\n",
       "      <th>453</th>\n",
       "      <td>Hombre</td>\n",
       "      <td>34</td>\n",
       "      <td>Argentina</td>\n",
       "      <td>GBA</td>\n",
       "      <td>14.0</td>\n",
       "      <td>4.0</td>\n",
       "      <td>2.0</td>\n",
       "      <td>0</td>\n",
       "      <td>Universitario</td>\n",
       "      <td>Completado</td>\n",
       "      <td>...</td>\n",
       "      <td>En un trabajo anterior</td>\n",
       "      <td>Oveja</td>\n",
       "      <td>NaN</td>\n",
       "      <td>No</td>\n",
       "      <td>11-50</td>\n",
       "      <td>Servicios / Consultoría de Software / Digital</td>\n",
       "      <td>10</td>\n",
       "      <td>8</td>\n",
       "      <td>Vacaciones flexibles (adicionales a las reglam...</td>\n",
       "      <td>Airbnb</td>\n",
       "    </tr>\n",
       "    <tr>\n",
       "      <th>467</th>\n",
       "      <td>Hombre</td>\n",
       "      <td>26</td>\n",
       "      <td>Argentina</td>\n",
       "      <td>Córdoba</td>\n",
       "      <td>6.5</td>\n",
       "      <td>1.5</td>\n",
       "      <td>1.5</td>\n",
       "      <td>0</td>\n",
       "      <td>Universitario</td>\n",
       "      <td>Completado</td>\n",
       "      <td>...</td>\n",
       "      <td>Jamás</td>\n",
       "      <td>Heterosexual</td>\n",
       "      <td>NaN</td>\n",
       "      <td>No</td>\n",
       "      <td>201-500</td>\n",
       "      <td>Producto basado en Software</td>\n",
       "      <td>10</td>\n",
       "      <td>10</td>\n",
       "      <td>Horarios flexibles, Vacaciones flexibles (adic...</td>\n",
       "      <td>NaN</td>\n",
       "    </tr>\n",
       "    <tr>\n",
       "      <th>...</th>\n",
       "      <td>...</td>\n",
       "      <td>...</td>\n",
       "      <td>...</td>\n",
       "      <td>...</td>\n",
       "      <td>...</td>\n",
       "      <td>...</td>\n",
       "      <td>...</td>\n",
       "      <td>...</td>\n",
       "      <td>...</td>\n",
       "      <td>...</td>\n",
       "      <td>...</td>\n",
       "      <td>...</td>\n",
       "      <td>...</td>\n",
       "      <td>...</td>\n",
       "      <td>...</td>\n",
       "      <td>...</td>\n",
       "      <td>...</td>\n",
       "      <td>...</td>\n",
       "      <td>...</td>\n",
       "      <td>...</td>\n",
       "      <td>...</td>\n",
       "    </tr>\n",
       "    <tr>\n",
       "      <th>5819</th>\n",
       "      <td>Hombre</td>\n",
       "      <td>35</td>\n",
       "      <td>Argentina</td>\n",
       "      <td>Ciudad Autónoma de Buenos Aires</td>\n",
       "      <td>10.0</td>\n",
       "      <td>10.0</td>\n",
       "      <td>10.0</td>\n",
       "      <td>0</td>\n",
       "      <td>Universitario</td>\n",
       "      <td>En curso</td>\n",
       "      <td>...</td>\n",
       "      <td>Jamás</td>\n",
       "      <td>Heterosexual</td>\n",
       "      <td>NaN</td>\n",
       "      <td>NaN</td>\n",
       "      <td>2001-5000</td>\n",
       "      <td>Otras industrias</td>\n",
       "      <td>9</td>\n",
       "      <td>8</td>\n",
       "      <td>Abono de Internet, Capacitaciones y/o cursos, ...</td>\n",
       "      <td>NaN</td>\n",
       "    </tr>\n",
       "    <tr>\n",
       "      <th>5844</th>\n",
       "      <td>Hombre</td>\n",
       "      <td>28</td>\n",
       "      <td>Argentina</td>\n",
       "      <td>Ciudad Autónoma de Buenos Aires</td>\n",
       "      <td>8.0</td>\n",
       "      <td>0.0</td>\n",
       "      <td>8.0</td>\n",
       "      <td>0</td>\n",
       "      <td>Universitario</td>\n",
       "      <td>En curso</td>\n",
       "      <td>...</td>\n",
       "      <td>En un trabajo anterior</td>\n",
       "      <td>Heterosexual</td>\n",
       "      <td>NaN</td>\n",
       "      <td>NaN</td>\n",
       "      <td>201-500</td>\n",
       "      <td>Producto basado en Software</td>\n",
       "      <td>9</td>\n",
       "      <td>9</td>\n",
       "      <td>Capacitaciones y/o cursos, Clases de gimnasia ...</td>\n",
       "      <td>NaN</td>\n",
       "    </tr>\n",
       "    <tr>\n",
       "      <th>5878</th>\n",
       "      <td>Hombre</td>\n",
       "      <td>54</td>\n",
       "      <td>Argentina</td>\n",
       "      <td>Ciudad Autónoma de Buenos Aires</td>\n",
       "      <td>36.0</td>\n",
       "      <td>34.0</td>\n",
       "      <td>8.0</td>\n",
       "      <td>2500</td>\n",
       "      <td>Posgrado</td>\n",
       "      <td>Completado</td>\n",
       "      <td>...</td>\n",
       "      <td>Jamás</td>\n",
       "      <td>Heterosexual</td>\n",
       "      <td>NaN</td>\n",
       "      <td>NaN</td>\n",
       "      <td>10001+</td>\n",
       "      <td>Otras industrias</td>\n",
       "      <td>7</td>\n",
       "      <td>5</td>\n",
       "      <td>Abono de celular, Capacitaciones y/o cursos, C...</td>\n",
       "      <td>NaN</td>\n",
       "    </tr>\n",
       "    <tr>\n",
       "      <th>5880</th>\n",
       "      <td>Hombre</td>\n",
       "      <td>36</td>\n",
       "      <td>Argentina</td>\n",
       "      <td>Ciudad Autónoma de Buenos Aires</td>\n",
       "      <td>14.0</td>\n",
       "      <td>4.0</td>\n",
       "      <td>1.0</td>\n",
       "      <td>30</td>\n",
       "      <td>Posgrado</td>\n",
       "      <td>Completado</td>\n",
       "      <td>...</td>\n",
       "      <td>Jamás</td>\n",
       "      <td>Heterosexual</td>\n",
       "      <td>NaN</td>\n",
       "      <td>NaN</td>\n",
       "      <td>2001-5000</td>\n",
       "      <td>Producto basado en Software</td>\n",
       "      <td>9</td>\n",
       "      <td>10</td>\n",
       "      <td>Clases de gimnasia online, Clases de idiomas, ...</td>\n",
       "      <td>NaN</td>\n",
       "    </tr>\n",
       "    <tr>\n",
       "      <th>6080</th>\n",
       "      <td>Hombre</td>\n",
       "      <td>30</td>\n",
       "      <td>Argentina</td>\n",
       "      <td>San Luis</td>\n",
       "      <td>5.0</td>\n",
       "      <td>2.0</td>\n",
       "      <td>2.0</td>\n",
       "      <td>0</td>\n",
       "      <td>Terciario</td>\n",
       "      <td>Incompleto</td>\n",
       "      <td>...</td>\n",
       "      <td>En un trabajo anterior</td>\n",
       "      <td>Heterosexual</td>\n",
       "      <td>NaN</td>\n",
       "      <td>No</td>\n",
       "      <td>501-1000</td>\n",
       "      <td>Servicios / Consultoría de Software / Digital</td>\n",
       "      <td>10</td>\n",
       "      <td>10</td>\n",
       "      <td>Clases de idiomas, Estacionamiento gratuito / ...</td>\n",
       "      <td>Init ag, Computercenter, DKB, n26</td>\n",
       "    </tr>\n",
       "  </tbody>\n",
       "</table>\n",
       "<p>118 rows × 48 columns</p>\n",
       "</div>"
      ],
      "text/plain": [
       "     profile_gender  profile_age work_country  \\\n",
       "261          Hombre           37    Argentina   \n",
       "318          Hombre           40    Argentina   \n",
       "437          Hombre           36    Argentina   \n",
       "453          Hombre           34    Argentina   \n",
       "467          Hombre           26    Argentina   \n",
       "...             ...          ...          ...   \n",
       "5819         Hombre           35    Argentina   \n",
       "5844         Hombre           28    Argentina   \n",
       "5878         Hombre           54    Argentina   \n",
       "5880         Hombre           36    Argentina   \n",
       "6080         Hombre           30    Argentina   \n",
       "\n",
       "                        work_province  profile_years_experience  \\\n",
       "261   Ciudad Autónoma de Buenos Aires                      21.0   \n",
       "318                          Santa Fe                       4.0   \n",
       "437   Ciudad Autónoma de Buenos Aires                      17.0   \n",
       "453                               GBA                      14.0   \n",
       "467                           Córdoba                       6.5   \n",
       "...                               ...                       ...   \n",
       "5819  Ciudad Autónoma de Buenos Aires                      10.0   \n",
       "5844  Ciudad Autónoma de Buenos Aires                       8.0   \n",
       "5878  Ciudad Autónoma de Buenos Aires                      36.0   \n",
       "5880  Ciudad Autónoma de Buenos Aires                      14.0   \n",
       "6080                         San Luis                       5.0   \n",
       "\n",
       "      work_years_in_company  work_years_in_current_position  \\\n",
       "261                    10.0                            10.0   \n",
       "318                     0.0                             0.0   \n",
       "437                     4.0                             4.0   \n",
       "453                     4.0                             2.0   \n",
       "467                     1.5                             1.5   \n",
       "...                     ...                             ...   \n",
       "5819                   10.0                            10.0   \n",
       "5844                    0.0                             8.0   \n",
       "5878                   34.0                             8.0   \n",
       "5880                    4.0                             1.0   \n",
       "6080                    2.0                             2.0   \n",
       "\n",
       "      work_people_in_charge_of profile_studies_level  \\\n",
       "261                         17         Universitario   \n",
       "318                          0          Posdoctorado   \n",
       "437                         15         Universitario   \n",
       "453                          0         Universitario   \n",
       "467                          0         Universitario   \n",
       "...                        ...                   ...   \n",
       "5819                         0         Universitario   \n",
       "5844                         0         Universitario   \n",
       "5878                      2500              Posgrado   \n",
       "5880                        30              Posgrado   \n",
       "6080                         0             Terciario   \n",
       "\n",
       "     profile_studies_level_state  ... work_has_violence_situations  \\\n",
       "261                   Incompleto  ...                        Jamás   \n",
       "318                   Completado  ...                        Jamás   \n",
       "437                   Incompleto  ...       En un trabajo anterior   \n",
       "453                   Completado  ...       En un trabajo anterior   \n",
       "467                   Completado  ...                        Jamás   \n",
       "...                          ...  ...                          ...   \n",
       "5819                    En curso  ...                        Jamás   \n",
       "5844                    En curso  ...       En un trabajo anterior   \n",
       "5878                  Completado  ...                        Jamás   \n",
       "5880                  Completado  ...                        Jamás   \n",
       "6080                  Incompleto  ...       En un trabajo anterior   \n",
       "\n",
       "     profile_sexual_orientation profile_has_disabilities  \\\n",
       "261                Heterosexual                      NaN   \n",
       "318           ¿Qué les importa?                      NaN   \n",
       "437           ¿Qué les importa?                      NaN   \n",
       "453                       Oveja                      NaN   \n",
       "467                Heterosexual                      NaN   \n",
       "...                         ...                      ...   \n",
       "5819               Heterosexual                      NaN   \n",
       "5844               Heterosexual                      NaN   \n",
       "5878               Heterosexual                      NaN   \n",
       "5880               Heterosexual                      NaN   \n",
       "6080               Heterosexual                      NaN   \n",
       "\n",
       "     profile_has_disabilities_hiring_difficulties company_employee_number  \\\n",
       "261                                           NaN              5001-10000   \n",
       "318                                           NaN               1001-2000   \n",
       "437                                            No               1001-2000   \n",
       "453                                            No                   11-50   \n",
       "467                                            No                 201-500   \n",
       "...                                           ...                     ...   \n",
       "5819                                          NaN               2001-5000   \n",
       "5844                                          NaN                 201-500   \n",
       "5878                                          NaN                  10001+   \n",
       "5880                                          NaN               2001-5000   \n",
       "6080                                           No                501-1000   \n",
       "\n",
       "                              company_main_activity company_recommended  \\\n",
       "261                     Producto basado en Software                   9   \n",
       "318   Servicios / Consultoría de Software / Digital                   8   \n",
       "437                     Producto basado en Software                   7   \n",
       "453   Servicios / Consultoría de Software / Digital                  10   \n",
       "467                     Producto basado en Software                  10   \n",
       "...                                             ...                 ...   \n",
       "5819                               Otras industrias                   9   \n",
       "5844                    Producto basado en Software                   9   \n",
       "5878                               Otras industrias                   7   \n",
       "5880                    Producto basado en Software                   9   \n",
       "6080  Servicios / Consultoría de Software / Digital                  10   \n",
       "\n",
       "     company_diversity_policies  \\\n",
       "261                           9   \n",
       "318                          10   \n",
       "437                          10   \n",
       "453                           8   \n",
       "467                          10   \n",
       "...                         ...   \n",
       "5819                          8   \n",
       "5844                          9   \n",
       "5878                          5   \n",
       "5880                         10   \n",
       "6080                         10   \n",
       "\n",
       "                                 company_extra_benefits  \\\n",
       "261   Abono de celular, Capacitaciones y/o cursos, C...   \n",
       "318   Capacitaciones y/o cursos, Horarios flexibles,...   \n",
       "437   Clases de gimnasia online, Comidas pagas / sub...   \n",
       "453   Vacaciones flexibles (adicionales a las reglam...   \n",
       "467   Horarios flexibles, Vacaciones flexibles (adic...   \n",
       "...                                                 ...   \n",
       "5819  Abono de Internet, Capacitaciones y/o cursos, ...   \n",
       "5844  Capacitaciones y/o cursos, Clases de gimnasia ...   \n",
       "5878  Abono de celular, Capacitaciones y/o cursos, C...   \n",
       "5880  Clases de gimnasia online, Clases de idiomas, ...   \n",
       "6080  Clases de idiomas, Estacionamiento gratuito / ...   \n",
       "\n",
       "            company_best_companies_city  \n",
       "261                                 NaN  \n",
       "318                                 NaN  \n",
       "437                                 NaN  \n",
       "453                              Airbnb  \n",
       "467                                 NaN  \n",
       "...                                 ...  \n",
       "5819                                NaN  \n",
       "5844                                NaN  \n",
       "5878                                NaN  \n",
       "5880                                NaN  \n",
       "6080  Init ag, Computercenter, DKB, n26  \n",
       "\n",
       "[118 rows x 48 columns]"
      ]
     },
     "execution_count": 25,
     "metadata": {},
     "output_type": "execute_result"
    }
   ],
   "source": [
    "df[df[salary_col] > max_limit]"
   ]
  }
 ],
 "metadata": {
  "colab": {
   "collapsed_sections": [],
   "include_colab_link": true,
   "name": "02 Estadistica descriptiva.ipynb",
   "provenance": [],
   "toc_visible": true
  },
  "kernelspec": {
   "display_name": "Python 3",
   "language": "python",
   "name": "python3"
  },
  "language_info": {
   "codemirror_mode": {
    "name": "ipython",
    "version": 3
   },
   "file_extension": ".py",
   "mimetype": "text/x-python",
   "name": "python",
   "nbconvert_exporter": "python",
   "pygments_lexer": "ipython3",
   "version": "3.9.4"
  }
 },
 "nbformat": 4,
 "nbformat_minor": 4
}
