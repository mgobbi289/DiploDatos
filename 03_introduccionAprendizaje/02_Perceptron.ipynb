{
 "cells": [
  {
   "cell_type": "markdown",
   "metadata": {},
   "source": [
    "# 2. Clasificación con el Algoritmo del Perceptrón\n",
    "\n",
    "Implementaremos una versión básica del algoritmo del *perceptrón* para clasificación binaria.\n",
    "\n",
    "En este caso los datos de entrada serán de **dos dimensiones**."
   ]
  },
  {
   "cell_type": "code",
   "execution_count": 1,
   "metadata": {},
   "outputs": [],
   "source": [
    "import numpy as np\n",
    "import matplotlib.pyplot as plt\n",
    "\n",
    "np.set_printoptions(suppress=True) # no usar notación 'e'"
   ]
  },
  {
   "cell_type": "markdown",
   "metadata": {},
   "source": [
    "## Datos\n",
    "\n",
    "Usaremos *scikit-learn* ([make_classification](https://scikit-learn.org/stable/modules/generated/sklearn.datasets.make_classification.html)) para generar datos aleatorios de dos dimensiones, divididos en dos clases etiquetadas con los valores $+1$ y $-1$.\n",
    "\n",
    "Los datos serán linealmente separables. Fijamos la semilla aleatoria para obtener siempre los mismos resultados."
   ]
  },
  {
   "cell_type": "code",
   "execution_count": 2,
   "metadata": {},
   "outputs": [],
   "source": [
    "from sklearn.datasets import make_classification\n",
    "\n",
    "size = 100\n",
    "X, y_true = make_classification(n_samples=size, n_features=2, n_classes=2,\n",
    "                                n_redundant=0, n_informative=2,\n",
    "                                n_clusters_per_class=1, class_sep=0.5,\n",
    "                                random_state=1)\n",
    "\n",
    "# Etiquetas +1 y -1\n",
    "y_true[y_true == 0] = -1"
   ]
  },
  {
   "cell_type": "code",
   "execution_count": 3,
   "metadata": {},
   "outputs": [
    {
     "data": {
      "text/plain": [
       "((100, 2), (100,))"
      ]
     },
     "execution_count": 3,
     "metadata": {},
     "output_type": "execute_result"
    }
   ],
   "source": [
    "X.shape, y_true.shape"
   ]
  },
  {
   "cell_type": "markdown",
   "metadata": {},
   "source": [
    "Graficamos para ver el resultado. En esta parte, los *azules* son $+1$, los *rojos* son $-1$."
   ]
  },
  {
   "cell_type": "code",
   "execution_count": 4,
   "metadata": {},
   "outputs": [],
   "source": [
    "cPositive = 'dodgerblue'\n",
    "cNegative = 'tomato'"
   ]
  },
  {
   "cell_type": "code",
   "execution_count": 5,
   "metadata": {},
   "outputs": [
    {
     "data": {
      "image/png": "[encoded data removed]",
      "text/plain": [
       "<Figure size 432x288 with 1 Axes>"
      ]
     },
     "metadata": {
      "needs_background": "light"
     },
     "output_type": "display_data"
    }
   ],
   "source": [
    "plt.scatter(X[y_true == +1, 0], X[y_true == +1, 1], color=cPositive, edgecolors='k', label=\"+1\")\n",
    "plt.scatter(X[y_true == -1, 0], X[y_true == -1, 1], color=cNegative, edgecolors='k', label=\"-1\")\n",
    "\n",
    "plt.legend()\n",
    "plt.show()"
   ]
  },
  {
   "cell_type": "markdown",
   "metadata": {},
   "source": [
    "### División en Entrenamiento y Evaluación"
   ]
  },
  {
   "cell_type": "code",
   "execution_count": 6,
   "metadata": {},
   "outputs": [],
   "source": [
    "train_size = 60\n",
    "test_size = size - train_size\n",
    "\n",
    "X_train, X_test = X[:train_size], X[train_size:]\n",
    "y_train, y_test = y_true[:train_size], y_true[train_size:]"
   ]
  },
  {
   "cell_type": "code",
   "execution_count": 7,
   "metadata": {},
   "outputs": [
    {
     "data": {
      "text/plain": [
       "((60, 2), (40, 2))"
      ]
     },
     "execution_count": 7,
     "metadata": {},
     "output_type": "execute_result"
    }
   ],
   "source": [
    "X_train.shape, X_test.shape"
   ]
  },
  {
   "cell_type": "markdown",
   "metadata": {},
   "source": [
    "## Algoritmo del Perceptrón"
   ]
  },
  {
   "cell_type": "markdown",
   "metadata": {},
   "source": [
    "### Inicialización\n",
    "\n",
    "Comenzamos a partir de un vector cualquiera:"
   ]
  },
  {
   "cell_type": "code",
   "execution_count": 8,
   "metadata": {},
   "outputs": [
    {
     "data": {
      "text/plain": [
       "array([1., 1.])"
      ]
     },
     "execution_count": 8,
     "metadata": {},
     "output_type": "execute_result"
    }
   ],
   "source": [
    "w = np.ones(2)\n",
    "\n",
    "w"
   ]
  },
  {
   "cell_type": "markdown",
   "metadata": {},
   "source": [
    "### Predicción\n",
    "\n",
    "Definimos la función de predicción:"
   ]
  },
  {
   "cell_type": "code",
   "execution_count": 9,
   "metadata": {},
   "outputs": [],
   "source": [
    "def predict(X, w):\n",
    "    \"\"\"\n",
    "    Predicción de etiquetas para los datos X, según w.\n",
    "    \"\"\"\n",
    "    return np.sign(np.dot(X, w))"
   ]
  },
  {
   "cell_type": "markdown",
   "metadata": {},
   "source": [
    "Probamos predecir con el primer modelo:"
   ]
  },
  {
   "cell_type": "code",
   "execution_count": 10,
   "metadata": {},
   "outputs": [
    {
     "data": {
      "text/plain": [
       "array([ 1.,  1., -1.,  1.,  1., -1.,  1.,  1.,  1.,  1.,  1.,  1.,  1.,\n",
       "       -1., -1., -1.,  1.,  1., -1., -1.,  1.,  1.,  1., -1., -1., -1.,\n",
       "        1.,  1., -1., -1.,  1., -1.,  1.,  1., -1.,  1., -1., -1.,  1.,\n",
       "        1.])"
      ]
     },
     "execution_count": 10,
     "metadata": {},
     "output_type": "execute_result"
    }
   ],
   "source": [
    "y_pred = predict(X_test, w)\n",
    "\n",
    "y_pred"
   ]
  },
  {
   "cell_type": "code",
   "execution_count": 11,
   "metadata": {},
   "outputs": [
    {
     "data": {
      "text/plain": [
       "array([-1, -1,  1, -1, -1,  1, -1, -1, -1,  1, -1, -1, -1,  1,  1,  1, -1,\n",
       "        1,  1,  1, -1, -1, -1,  1,  1,  1, -1,  1,  1,  1, -1,  1, -1, -1,\n",
       "        1, -1,  1,  1, -1,  1])"
      ]
     },
     "execution_count": 11,
     "metadata": {},
     "output_type": "execute_result"
    }
   ],
   "source": [
    "y_test"
   ]
  },
  {
   "cell_type": "markdown",
   "metadata": {},
   "source": [
    "### Evaluación\n",
    "\n",
    "Calcularemos la *accuracy* sobre los datos de evaluación."
   ]
  },
  {
   "cell_type": "code",
   "execution_count": 12,
   "metadata": {},
   "outputs": [],
   "source": [
    "def accuracy(y_true, y_pred):\n",
    "    \"\"\"\n",
    "    Calcula la precisión de nuestro modelo, en base a\n",
    "    las etiquetas y las predicciones.\n",
    "    \"\"\"\n",
    "    return (y_true == y_pred).sum() / len(y_true)"
   ]
  },
  {
   "cell_type": "code",
   "execution_count": 13,
   "metadata": {},
   "outputs": [
    {
     "data": {
      "text/plain": [
       "0.1"
      ]
     },
     "execution_count": 13,
     "metadata": {},
     "output_type": "execute_result"
    }
   ],
   "source": [
    "accuracy(y_test, y_pred)"
   ]
  },
  {
   "cell_type": "markdown",
   "metadata": {},
   "source": [
    "En este caso el resultado es muy bajo.\n",
    "\n",
    "Graficamos la frontera de decisión:"
   ]
  },
  {
   "cell_type": "code",
   "execution_count": 14,
   "metadata": {},
   "outputs": [
    {
     "data": {
      "image/png": "[encoded data removed]",
      "text/plain": [
       "<Figure size 432x288 with 1 Axes>"
      ]
     },
     "metadata": {
      "needs_background": "light"
     },
     "output_type": "display_data"
    }
   ],
   "source": [
    "from utils import plot_decision_boundary\n",
    "\n",
    "plot_decision_boundary(lambda x: predict(x, w), X, y_true)"
   ]
  },
  {
   "cell_type": "markdown",
   "metadata": {},
   "source": [
    "### Un Paso del Algoritmo"
   ]
  },
  {
   "cell_type": "markdown",
   "metadata": {},
   "source": [
    "Primero debemos buscar un elemento de entrenamiento mal clasificado:"
   ]
  },
  {
   "cell_type": "code",
   "execution_count": 15,
   "metadata": {},
   "outputs": [],
   "source": [
    "y_pred = predict(X_train, w)"
   ]
  },
  {
   "cell_type": "code",
   "execution_count": 16,
   "metadata": {},
   "outputs": [
    {
     "data": {
      "text/plain": [
       "(array([ 0,  1,  2,  3,  6,  7,  8, 10, 11, 12, 13, 14, 15, 17, 19, 21, 22,\n",
       "        23, 24, 25, 26, 27, 28, 30, 31, 32, 33, 34, 35, 36, 37, 38, 39, 40,\n",
       "        41, 42, 43, 44, 45, 46, 47, 48, 49, 50, 51, 54, 55, 56, 57, 59]),)"
      ]
     },
     "execution_count": 16,
     "metadata": {},
     "output_type": "execute_result"
    }
   ],
   "source": [
    "np.where(y_train != y_pred)"
   ]
  },
  {
   "cell_type": "markdown",
   "metadata": {},
   "source": [
    "Tomamos el primero:"
   ]
  },
  {
   "cell_type": "code",
   "execution_count": 17,
   "metadata": {},
   "outputs": [],
   "source": [
    "i = 0\n",
    "\n",
    "xi, yi = X_train[i], y_train[i]"
   ]
  },
  {
   "cell_type": "markdown",
   "metadata": {},
   "source": [
    "Verificamos que la clasificación es incorrecta:"
   ]
  },
  {
   "cell_type": "code",
   "execution_count": 18,
   "metadata": {},
   "outputs": [
    {
     "data": {
      "text/plain": [
       "(1, -1.0)"
      ]
     },
     "execution_count": 18,
     "metadata": {},
     "output_type": "execute_result"
    }
   ],
   "source": [
    "yi_pred = predict(xi, w)\n",
    "\n",
    "yi, yi_pred"
   ]
  },
  {
   "cell_type": "markdown",
   "metadata": {},
   "source": [
    "Probemos graficar el punto:"
   ]
  },
  {
   "cell_type": "code",
   "execution_count": 19,
   "metadata": {},
   "outputs": [
    {
     "data": {
      "image/png": "[encoded data removed]",
      "text/plain": [
       "<Figure size 432x288 with 1 Axes>"
      ]
     },
     "metadata": {
      "needs_background": "light"
     },
     "output_type": "display_data"
    }
   ],
   "source": [
    "y_aux = np.ones(size)\n",
    "y_aux[i] = -1\n",
    "\n",
    "plot_decision_boundary(lambda x: predict(x, w), X, y_aux, special=True)"
   ]
  },
  {
   "cell_type": "markdown",
   "metadata": {},
   "source": [
    "Ahora actualicemos el modelo y veamos si se corrige la clasificación:"
   ]
  },
  {
   "cell_type": "code",
   "execution_count": 20,
   "metadata": {},
   "outputs": [
    {
     "data": {
      "text/plain": [
       "1.0"
      ]
     },
     "execution_count": 20,
     "metadata": {},
     "output_type": "execute_result"
    }
   ],
   "source": [
    "r = 1.0  # learning rate\n",
    "new_w = w + r * xi * yi\n",
    "\n",
    "predict(xi, new_w)"
   ]
  },
  {
   "cell_type": "markdown",
   "metadata": {},
   "source": [
    "Probemos otras tasas de aprendizaje, a ver qué pasa:"
   ]
  },
  {
   "cell_type": "code",
   "execution_count": 21,
   "metadata": {},
   "outputs": [
    {
     "name": "stdout",
     "output_type": "stream",
     "text": [
      "Tasa 0.001 | Predicción  -1.0 | Parámetros [0.99945051 1.00037864]\n",
      "Tasa  0.01 | Predicción  -1.0 | Parámetros [0.99450514 1.00378644]\n",
      "Tasa   0.1 | Predicción  -1.0 | Parámetros [0.94505136 1.03786438]\n",
      "Tasa   0.5 | Predicción   1.0 | Parámetros [0.72525681 1.1893219 ]\n",
      "Tasa   1.0 | Predicción   1.0 | Parámetros [0.45051362 1.3786438 ]\n"
     ]
    }
   ],
   "source": [
    "for r in [0.001, 0.01, 0.1, 0.5, 1.0]:\n",
    "    new_w = w + r * xi * yi\n",
    "    print(f'Tasa {r:5} | Predicción {predict(xi, new_w):5} | Parámetros {new_w}')"
   ]
  },
  {
   "cell_type": "markdown",
   "metadata": {},
   "source": [
    "Lo dejamos en $r=1$. Evaluemos el nuevo modelo, para ver si mejora el resultado:"
   ]
  },
  {
   "cell_type": "code",
   "execution_count": 22,
   "metadata": {},
   "outputs": [
    {
     "data": {
      "text/plain": [
       "0.3"
      ]
     },
     "execution_count": 22,
     "metadata": {},
     "output_type": "execute_result"
    }
   ],
   "source": [
    "y_pred = predict(X_test, new_w)\n",
    "\n",
    "accuracy(y_test, y_pred)"
   ]
  },
  {
   "cell_type": "code",
   "execution_count": 23,
   "metadata": {},
   "outputs": [
    {
     "data": {
      "image/png": "[encoded data removed]",
      "text/plain": [
       "<Figure size 432x288 with 1 Axes>"
      ]
     },
     "metadata": {
      "needs_background": "light"
     },
     "output_type": "display_data"
    }
   ],
   "source": [
    "plot_decision_boundary(lambda x: predict(x, new_w), X, y_true)"
   ]
  },
  {
   "cell_type": "markdown",
   "metadata": {},
   "source": [
    "## Perceptrón: Algoritmo completo\n",
    "\n",
    "Implementaremos el algoritmo completo, iterando hasta que todos los datos de entrenamiento estén clasificados correctamente:"
   ]
  },
  {
   "cell_type": "code",
   "execution_count": 24,
   "metadata": {},
   "outputs": [
    {
     "name": "stdout",
     "output_type": "stream",
     "text": [
      "step=0\ttrain_acc=0.17\ttest_acc=0.1\n",
      "step=1\ttrain_acc=0.32\ttest_acc=0.17\n",
      "step=2\ttrain_acc=0.37\ttest_acc=0.28\n",
      "step=3\ttrain_acc=0.37\ttest_acc=0.3\n",
      "step=4\ttrain_acc=0.48\ttest_acc=0.33\n",
      "step=5\ttrain_acc=0.52\ttest_acc=0.5\n",
      "step=6\ttrain_acc=0.78\ttest_acc=0.8\n",
      "step=7\ttrain_acc=0.97\ttest_acc=0.95\n",
      "step=8\ttrain_acc=0.87\ttest_acc=0.85\n",
      "step=9\ttrain_acc=1.0\ttest_acc=1.0\n"
     ]
    }
   ],
   "source": [
    "# 0. inicialización de w_0\n",
    "w = np.ones(2)\n",
    "\n",
    "r = 0.5\n",
    "step = 0\n",
    "finished = False\n",
    "while not finished:\n",
    "    # 1. predecir usando el modelo actual\n",
    "    y_train_pred = predict(X_train, w)\n",
    "    y_test_pred = predict(X_test, w)\n",
    "\n",
    "    # 2. evaluar\n",
    "    train_acc = accuracy(y_train, y_train_pred)\n",
    "    test_acc = accuracy(y_test, y_test_pred)\n",
    "    print(f'step={step}\\ttrain_acc={train_acc:0.2}\\ttest_acc={test_acc:0.2}')\n",
    "\n",
    "    # 3. si no clasifica todo bien, actualizar modelo\n",
    "    if (y_train == y_train_pred).all():\n",
    "        finished = True\n",
    "    else:\n",
    "        indices = np.where(y_train != y_train_pred)\n",
    "        i = indices[0][0]\n",
    "        xi, yi = X_train[i], y_train[i]\n",
    "        w = w + r * xi * yi\n",
    "\n",
    "        step = step + 1"
   ]
  },
  {
   "cell_type": "markdown",
   "metadata": {},
   "source": [
    "Grafiquemos el resultado final:"
   ]
  },
  {
   "cell_type": "code",
   "execution_count": 25,
   "metadata": {},
   "outputs": [
    {
     "data": {
      "image/png": "[encoded data removed]",
      "text/plain": [
       "<Figure size 432x288 with 1 Axes>"
      ]
     },
     "metadata": {
      "needs_background": "light"
     },
     "output_type": "display_data"
    }
   ],
   "source": [
    "plot_decision_boundary(lambda x: predict(x, w), X, y_true)"
   ]
  },
  {
   "cell_type": "markdown",
   "metadata": {},
   "source": [
    "## Ejercicios\n",
    "\n",
    "1. Experimentar con otras tasas de aprendizaje.\n",
    "2. Generar datos no linealmente separables (probar achicando el valor de `class_sep` en `make_classification`).\n",
    "3. Adaptar el algoritmo del perceptrón para que funcione con estos datos (ver variante *pocket* en [Wikipedia](https://en.wikipedia.org/wiki/Perceptron)).\n",
    "4. Hacer todo con el perceptrón de *scikit-learn* ([Perceptron](https://scikit-learn.org/stable/modules/linear_model.html#perceptron))."
   ]
  },
  {
   "cell_type": "code",
   "execution_count": 26,
   "metadata": {},
   "outputs": [],
   "source": [
    "def perceptron(X_train, X_test, y_train, y_test, intentos=10, r=0.5):\n",
    "    # 0. inicialización de w_0\n",
    "    w = np.ones(2)\n",
    "\n",
    "    step = 0\n",
    "    finished = False\n",
    "    best = {'w': w, 'train_acc': 0, 'test_acc': 0, 'step': step}\n",
    "    while not finished and step < intentos:\n",
    "        # 1. predecir usando el modelo actual\n",
    "        y_train_pred = predict(X_train, w)\n",
    "        y_test_pred = predict(X_test, w)\n",
    "\n",
    "        # 2. evaluar\n",
    "        train_acc = accuracy(y_train, y_train_pred)\n",
    "        test_acc = accuracy(y_test, y_test_pred)\n",
    "        print(f'step={step}\\ttrain_acc={train_acc:0.2}\\ttest_acc={test_acc:0.2}')\n",
    "\n",
    "        # 2.5. actualizar mejor solución\n",
    "        if best['test_acc'] < test_acc:\n",
    "            best['w'] = w\n",
    "            best['step'] = step\n",
    "            best['test_acc'] = test_acc\n",
    "            best['train_acc'] = train_acc\n",
    "\n",
    "        # 3. si no clasifica todo bien, actualizar modelo\n",
    "        if (y_train == y_train_pred).all():\n",
    "            finished = True\n",
    "        else:\n",
    "            indices = np.where(y_train != y_train_pred)\n",
    "            i = indices[0][0]\n",
    "            xi, yi = X_train[i], y_train[i]\n",
    "            w = w + r * xi * yi\n",
    "\n",
    "            step = step + 1\n",
    "\n",
    "    return best"
   ]
  },
  {
   "cell_type": "markdown",
   "metadata": {},
   "source": [
    "**Ejercicio 1**"
   ]
  },
  {
   "cell_type": "code",
   "execution_count": 27,
   "metadata": {},
   "outputs": [
    {
     "name": "stdout",
     "output_type": "stream",
     "text": [
      "Rate r: 0.001\n",
      "step=0\ttrain_acc=0.17\ttest_acc=0.1\n",
      "step=1\ttrain_acc=0.17\ttest_acc=0.1\n",
      "step=2\ttrain_acc=0.17\ttest_acc=0.1\n",
      "step=3\ttrain_acc=0.17\ttest_acc=0.1\n",
      "step=4\ttrain_acc=0.17\ttest_acc=0.1\n",
      "step=5\ttrain_acc=0.17\ttest_acc=0.1\n",
      "step=6\ttrain_acc=0.17\ttest_acc=0.1\n",
      "step=7\ttrain_acc=0.18\ttest_acc=0.1\n",
      "step=8\ttrain_acc=0.18\ttest_acc=0.1\n",
      "step=9\ttrain_acc=0.18\ttest_acc=0.1\n",
      "Best w: [1. 1.]\n",
      "----------\n",
      "Rate r: 0.01\n",
      "step=0\ttrain_acc=0.17\ttest_acc=0.1\n",
      "step=1\ttrain_acc=0.18\ttest_acc=0.1\n",
      "step=2\ttrain_acc=0.18\ttest_acc=0.1\n",
      "step=3\ttrain_acc=0.18\ttest_acc=0.1\n",
      "step=4\ttrain_acc=0.18\ttest_acc=0.1\n",
      "step=5\ttrain_acc=0.18\ttest_acc=0.1\n",
      "step=6\ttrain_acc=0.18\ttest_acc=0.1\n",
      "step=7\ttrain_acc=0.18\ttest_acc=0.1\n",
      "step=8\ttrain_acc=0.18\ttest_acc=0.1\n",
      "step=9\ttrain_acc=0.18\ttest_acc=0.1\n",
      "Best w: [1. 1.]\n",
      "----------\n",
      "Rate r: 0.1\n",
      "step=0\ttrain_acc=0.17\ttest_acc=0.1\n",
      "step=1\ttrain_acc=0.2\ttest_acc=0.1\n",
      "step=2\ttrain_acc=0.22\ttest_acc=0.12\n",
      "step=3\ttrain_acc=0.25\ttest_acc=0.12\n",
      "step=4\ttrain_acc=0.3\ttest_acc=0.12\n",
      "step=5\ttrain_acc=0.3\ttest_acc=0.12\n",
      "step=6\ttrain_acc=0.3\ttest_acc=0.12\n",
      "step=7\ttrain_acc=0.3\ttest_acc=0.12\n",
      "step=8\ttrain_acc=0.3\ttest_acc=0.15\n",
      "step=9\ttrain_acc=0.32\ttest_acc=0.17\n",
      "Best w: [0.5911559  0.95370227]\n",
      "----------\n",
      "Rate r: 0.5\n",
      "step=0\ttrain_acc=0.17\ttest_acc=0.1\n",
      "step=1\ttrain_acc=0.32\ttest_acc=0.17\n",
      "step=2\ttrain_acc=0.37\ttest_acc=0.28\n",
      "step=3\ttrain_acc=0.37\ttest_acc=0.3\n",
      "step=4\ttrain_acc=0.48\ttest_acc=0.33\n",
      "step=5\ttrain_acc=0.52\ttest_acc=0.5\n",
      "step=6\ttrain_acc=0.78\ttest_acc=0.8\n",
      "step=7\ttrain_acc=0.97\ttest_acc=0.95\n",
      "step=8\ttrain_acc=0.87\ttest_acc=0.85\n",
      "step=9\ttrain_acc=1.0\ttest_acc=1.0\n",
      "Best w: [-0.67429978  0.02427719]\n",
      "----------\n",
      "Rate r: 1.0\n",
      "step=0\ttrain_acc=0.17\ttest_acc=0.1\n",
      "step=1\ttrain_acc=0.47\ttest_acc=0.3\n",
      "step=2\ttrain_acc=0.5\ttest_acc=0.47\n",
      "step=3\ttrain_acc=0.58\ttest_acc=0.6\n",
      "step=4\ttrain_acc=1.0\ttest_acc=0.95\n",
      "Best w: [-0.68378369  0.19211228]\n",
      "----------\n"
     ]
    }
   ],
   "source": [
    "for r in [0.001, 0.01, 0.1, 0.5, 1.0]:\n",
    "    print(f'Rate r: {r}')\n",
    "    best = perceptron(X_train, X_test, y_train, y_test, r=r)\n",
    "    print(f'Best w: {best[\"w\"]}')\n",
    "    print('----------')"
   ]
  },
  {
   "cell_type": "markdown",
   "metadata": {},
   "source": [
    "**Ejercicio 2**"
   ]
  },
  {
   "cell_type": "code",
   "execution_count": 28,
   "metadata": {},
   "outputs": [],
   "source": [
    "X, y_true = make_classification(n_samples=size, n_features=2, n_classes=2,\n",
    "                                n_redundant=0, n_informative=2,\n",
    "                                n_clusters_per_class=1, class_sep=0.1,\n",
    "                                random_state=1)\n",
    "\n",
    "# Etiquetas +1 y -1\n",
    "y_true[y_true == 0] = -1"
   ]
  },
  {
   "cell_type": "code",
   "execution_count": 29,
   "metadata": {},
   "outputs": [
    {
     "data": {
      "text/plain": [
       "((100, 2), (100,))"
      ]
     },
     "execution_count": 29,
     "metadata": {},
     "output_type": "execute_result"
    }
   ],
   "source": [
    "X.shape, y_true.shape"
   ]
  },
  {
   "cell_type": "markdown",
   "metadata": {},
   "source": [
    "Graficamos para ver el resultado. En esta parte, los *azules* son $+1$, los *rojos* son $-1$."
   ]
  },
  {
   "cell_type": "code",
   "execution_count": 30,
   "metadata": {},
   "outputs": [
    {
     "data": {
      "image/png": "[encoded data removed]",
      "text/plain": [
       "<Figure size 432x288 with 1 Axes>"
      ]
     },
     "metadata": {
      "needs_background": "light"
     },
     "output_type": "display_data"
    }
   ],
   "source": [
    "plt.scatter(X[y_true == +1, 0], X[y_true == +1, 1], color=cPositive, edgecolors='k', label=\"+1\")\n",
    "plt.scatter(X[y_true == -1, 0], X[y_true == -1, 1], color=cNegative, edgecolors='k', label=\"-1\")\n",
    "\n",
    "plt.legend()\n",
    "plt.show()"
   ]
  },
  {
   "cell_type": "code",
   "execution_count": 31,
   "metadata": {},
   "outputs": [],
   "source": [
    "X_train, X_test = X[:train_size], X[train_size:]\n",
    "y_train, y_test = y_true[:train_size], y_true[train_size:]"
   ]
  },
  {
   "cell_type": "markdown",
   "metadata": {},
   "source": [
    "**Ejercicio 3**"
   ]
  },
  {
   "cell_type": "code",
   "execution_count": 32,
   "metadata": {},
   "outputs": [
    {
     "name": "stdout",
     "output_type": "stream",
     "text": [
      "step=0\ttrain_acc=0.33\ttest_acc=0.3\n",
      "step=1\ttrain_acc=0.33\ttest_acc=0.3\n",
      "step=2\ttrain_acc=0.33\ttest_acc=0.3\n",
      "step=3\ttrain_acc=0.35\ttest_acc=0.3\n",
      "step=4\ttrain_acc=0.4\ttest_acc=0.3\n",
      "step=5\ttrain_acc=0.4\ttest_acc=0.33\n",
      "step=6\ttrain_acc=0.4\ttest_acc=0.33\n",
      "step=7\ttrain_acc=0.42\ttest_acc=0.33\n",
      "step=8\ttrain_acc=0.43\ttest_acc=0.3\n",
      "step=9\ttrain_acc=0.45\ttest_acc=0.33\n",
      "step=10\ttrain_acc=0.45\ttest_acc=0.35\n",
      "step=11\ttrain_acc=0.48\ttest_acc=0.35\n",
      "step=12\ttrain_acc=0.53\ttest_acc=0.33\n",
      "step=13\ttrain_acc=0.53\ttest_acc=0.35\n",
      "step=14\ttrain_acc=0.53\ttest_acc=0.4\n",
      "step=15\ttrain_acc=0.58\ttest_acc=0.4\n",
      "step=16\ttrain_acc=0.58\ttest_acc=0.45\n",
      "step=17\ttrain_acc=0.57\ttest_acc=0.47\n",
      "step=18\ttrain_acc=0.57\ttest_acc=0.47\n",
      "step=19\ttrain_acc=0.57\ttest_acc=0.47\n"
     ]
    }
   ],
   "source": [
    "best = perceptron(X_train, X_test, y_train, y_test, intentos=20)"
   ]
  },
  {
   "cell_type": "code",
   "execution_count": 33,
   "metadata": {},
   "outputs": [
    {
     "data": {
      "image/png": "[encoded data removed]",
      "text/plain": [
       "<Figure size 432x288 with 1 Axes>"
      ]
     },
     "metadata": {
      "needs_background": "light"
     },
     "output_type": "display_data"
    }
   ],
   "source": [
    "plot_decision_boundary(lambda x: predict(x, best['w']), X, y_true)"
   ]
  },
  {
   "cell_type": "markdown",
   "metadata": {},
   "source": [
    "**Ejercicio 4**"
   ]
  },
  {
   "cell_type": "code",
   "execution_count": 34,
   "metadata": {},
   "outputs": [
    {
     "data": {
      "text/plain": [
       "(0.55, 0.425)"
      ]
     },
     "execution_count": 34,
     "metadata": {},
     "output_type": "execute_result"
    }
   ],
   "source": [
    "from sklearn.linear_model import Perceptron\n",
    "\n",
    "clf = Perceptron(random_state=0)\n",
    "\n",
    "clf.fit(X_train, y_train)\n",
    "\n",
    "clf.score(X_train, y_train), clf.score(X_test, y_test)"
   ]
  },
  {
   "cell_type": "code",
   "execution_count": 35,
   "metadata": {},
   "outputs": [
    {
     "data": {
      "image/png": "[encoded data removed]",
      "text/plain": [
       "<Figure size 432x288 with 1 Axes>"
      ]
     },
     "metadata": {
      "needs_background": "light"
     },
     "output_type": "display_data"
    }
   ],
   "source": [
    "plot_decision_boundary(lambda x: clf.predict(x), X, y_true)"
   ]
  },
  {
   "cell_type": "markdown",
   "metadata": {},
   "source": [
    "## Referencias\n",
    "\n",
    "- [Perceptron (Wikipedia)](https://en.wikipedia.org/wiki/Perceptron)\n",
    "- [Perceptron Learning Algorithm: A Graphical Explanation Of Why It Works](https://towardsdatascience.com/perceptron-learning-algorithm-d5db0deab975)\n",
    "- Gallant, S. I. (1990). [Perceptron-based learning algorithms.](https://ftp.cs.nyu.edu/~roweis/csc2515-2006/readings/gallant.pdf) IEEE Transactions on Neural Networks, vol. 1, no. 2, pp. 179–191. \n",
    "\n",
    "Scikit-learn:\n",
    "\n",
    "- [make_classification](https://scikit-learn.org/stable/modules/generated/sklearn.datasets.make_classification.html)\n",
    "- [Perceptron](https://scikit-learn.org/stable/modules/linear_model.html#perceptron)"
   ]
  }
 ],
 "metadata": {
  "kernelspec": {
   "display_name": "Python 3",
   "language": "python",
   "name": "python3"
  },
  "language_info": {
   "codemirror_mode": {
    "name": "ipython",
    "version": 3
   },
   "file_extension": ".py",
   "mimetype": "text/x-python",
   "name": "python",
   "nbconvert_exporter": "python",
   "pygments_lexer": "ipython3",
   "version": "3.9.5"
  }
 },
 "nbformat": 4,
 "nbformat_minor": 4
}
