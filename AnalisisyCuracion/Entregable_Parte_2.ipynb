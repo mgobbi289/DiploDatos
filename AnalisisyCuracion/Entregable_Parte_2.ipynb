{
 "cells": [
  {
   "cell_type": "markdown",
   "metadata": {
    "id": "zO4bRoxr2Apy"
   },
   "source": [
    "**Diplomatura en Ciencia de Datos, Aprendizaje Automático y sus Aplicaciones**\n",
    "\n",
    "**Exploración y Curación de Datos**\n",
    "\n",
    "*Edición 2021*\n",
    "\n",
    "----\n",
    "\n",
    "# Trabajo práctico entregable - parte 2\n",
    "\n",
    "\n",
    "En el ejercicio **1** de la *parte 1* del entregable seleccionaron las filas y columnas relevantes al problema de predicción de precios de una propiedad. Además de ello, tuvieron que reducir el número de valores posibles para las variables categóricas utilizando información de dominio.\n",
    "\n",
    "En el ejercicio **2** de la *parte 1* del entregable imputaron los valores faltantes de la columna `CouncilArea` y las columnas obtenidas a partir del conjunto de datos de **AirBnB**.\n",
    "\n",
    "En esta notebook, **se utilizarán los resultados de dichas operaciones**."
   ]
  },
  {
   "cell_type": "code",
   "execution_count": 1,
   "metadata": {
    "id": "4udjxjk1EtVU"
   },
   "outputs": [],
   "source": [
    "import matplotlib.pyplot as plt\n",
    "import numpy\n",
    "import pandas\n",
    "import seaborn\n",
    "\n",
    "seaborn.set_context('talk')"
   ]
  },
  {
   "cell_type": "code",
   "execution_count": 2,
   "metadata": {
    "colab": {
     "base_uri": "https://localhost:8080/",
     "height": 227
    },
    "id": "_qeFN3GnEvMk",
    "outputId": "02e6e659-1be0-414f-a6a0-8f8298bb84d7"
   },
   "outputs": [
    {
     "data": {
      "text/html": [
       "<div>\n",
       "<style scoped>\n",
       "    .dataframe tbody tr th:only-of-type {\n",
       "        vertical-align: middle;\n",
       "    }\n",
       "\n",
       "    .dataframe tbody tr th {\n",
       "        vertical-align: top;\n",
       "    }\n",
       "\n",
       "    .dataframe thead th {\n",
       "        text-align: right;\n",
       "    }\n",
       "</style>\n",
       "<table border=\"1\" class=\"dataframe\">\n",
       "  <thead>\n",
       "    <tr style=\"text-align: right;\">\n",
       "      <th></th>\n",
       "      <th>Suburb</th>\n",
       "      <th>Address</th>\n",
       "      <th>Rooms</th>\n",
       "      <th>Type</th>\n",
       "      <th>Price</th>\n",
       "      <th>Method</th>\n",
       "      <th>SellerG</th>\n",
       "      <th>Date</th>\n",
       "      <th>Distance</th>\n",
       "      <th>Postcode</th>\n",
       "      <th>...</th>\n",
       "      <th>Bathroom</th>\n",
       "      <th>Car</th>\n",
       "      <th>Landsize</th>\n",
       "      <th>BuildingArea</th>\n",
       "      <th>YearBuilt</th>\n",
       "      <th>CouncilArea</th>\n",
       "      <th>Lattitude</th>\n",
       "      <th>Longtitude</th>\n",
       "      <th>Regionname</th>\n",
       "      <th>Propertycount</th>\n",
       "    </tr>\n",
       "  </thead>\n",
       "  <tbody>\n",
       "    <tr>\n",
       "      <th>0</th>\n",
       "      <td>Abbotsford</td>\n",
       "      <td>85 Turner St</td>\n",
       "      <td>2</td>\n",
       "      <td>h</td>\n",
       "      <td>1480000.0</td>\n",
       "      <td>S</td>\n",
       "      <td>Biggin</td>\n",
       "      <td>3/12/2016</td>\n",
       "      <td>2.5</td>\n",
       "      <td>3067.0</td>\n",
       "      <td>...</td>\n",
       "      <td>1.0</td>\n",
       "      <td>1.0</td>\n",
       "      <td>202.0</td>\n",
       "      <td>NaN</td>\n",
       "      <td>NaN</td>\n",
       "      <td>Yarra</td>\n",
       "      <td>-37.7996</td>\n",
       "      <td>144.9984</td>\n",
       "      <td>Northern Metropolitan</td>\n",
       "      <td>4019.0</td>\n",
       "    </tr>\n",
       "    <tr>\n",
       "      <th>1</th>\n",
       "      <td>Abbotsford</td>\n",
       "      <td>25 Bloomburg St</td>\n",
       "      <td>2</td>\n",
       "      <td>h</td>\n",
       "      <td>1035000.0</td>\n",
       "      <td>S</td>\n",
       "      <td>Biggin</td>\n",
       "      <td>4/02/2016</td>\n",
       "      <td>2.5</td>\n",
       "      <td>3067.0</td>\n",
       "      <td>...</td>\n",
       "      <td>1.0</td>\n",
       "      <td>0.0</td>\n",
       "      <td>156.0</td>\n",
       "      <td>79.0</td>\n",
       "      <td>1900.0</td>\n",
       "      <td>Yarra</td>\n",
       "      <td>-37.8079</td>\n",
       "      <td>144.9934</td>\n",
       "      <td>Northern Metropolitan</td>\n",
       "      <td>4019.0</td>\n",
       "    </tr>\n",
       "    <tr>\n",
       "      <th>2</th>\n",
       "      <td>Abbotsford</td>\n",
       "      <td>5 Charles St</td>\n",
       "      <td>3</td>\n",
       "      <td>h</td>\n",
       "      <td>1465000.0</td>\n",
       "      <td>SP</td>\n",
       "      <td>Biggin</td>\n",
       "      <td>4/03/2017</td>\n",
       "      <td>2.5</td>\n",
       "      <td>3067.0</td>\n",
       "      <td>...</td>\n",
       "      <td>2.0</td>\n",
       "      <td>0.0</td>\n",
       "      <td>134.0</td>\n",
       "      <td>150.0</td>\n",
       "      <td>1900.0</td>\n",
       "      <td>Yarra</td>\n",
       "      <td>-37.8093</td>\n",
       "      <td>144.9944</td>\n",
       "      <td>Northern Metropolitan</td>\n",
       "      <td>4019.0</td>\n",
       "    </tr>\n",
       "  </tbody>\n",
       "</table>\n",
       "<p>3 rows × 21 columns</p>\n",
       "</div>"
      ],
      "text/plain": [
       "       Suburb          Address  Rooms Type      Price Method SellerG  \\\n",
       "0  Abbotsford     85 Turner St      2    h  1480000.0      S  Biggin   \n",
       "1  Abbotsford  25 Bloomburg St      2    h  1035000.0      S  Biggin   \n",
       "2  Abbotsford     5 Charles St      3    h  1465000.0     SP  Biggin   \n",
       "\n",
       "        Date  Distance  Postcode  ...  Bathroom  Car  Landsize  BuildingArea  \\\n",
       "0  3/12/2016       2.5    3067.0  ...       1.0  1.0     202.0           NaN   \n",
       "1  4/02/2016       2.5    3067.0  ...       1.0  0.0     156.0          79.0   \n",
       "2  4/03/2017       2.5    3067.0  ...       2.0  0.0     134.0         150.0   \n",
       "\n",
       "   YearBuilt  CouncilArea Lattitude  Longtitude             Regionname  \\\n",
       "0        NaN        Yarra  -37.7996    144.9984  Northern Metropolitan   \n",
       "1     1900.0        Yarra  -37.8079    144.9934  Northern Metropolitan   \n",
       "2     1900.0        Yarra  -37.8093    144.9944  Northern Metropolitan   \n",
       "\n",
       "  Propertycount  \n",
       "0        4019.0  \n",
       "1        4019.0  \n",
       "2        4019.0  \n",
       "\n",
       "[3 rows x 21 columns]"
      ]
     },
     "execution_count": 2,
     "metadata": {},
     "output_type": "execute_result"
    }
   ],
   "source": [
    "melb_df = pandas.read_csv('https://cs.famaf.unc.edu.ar/~mteruel/datasets/diplodatos/melb_data.csv')\n",
    "\n",
    "melb_df.head(3)"
   ]
  },
  {
   "cell_type": "code",
   "execution_count": 3,
   "metadata": {},
   "outputs": [
    {
     "data": {
      "text/html": [
       "<div>\n",
       "<style scoped>\n",
       "    .dataframe tbody tr th:only-of-type {\n",
       "        vertical-align: middle;\n",
       "    }\n",
       "\n",
       "    .dataframe tbody tr th {\n",
       "        vertical-align: top;\n",
       "    }\n",
       "\n",
       "    .dataframe thead th {\n",
       "        text-align: right;\n",
       "    }\n",
       "</style>\n",
       "<table border=\"1\" class=\"dataframe\">\n",
       "  <thead>\n",
       "    <tr style=\"text-align: right;\">\n",
       "      <th></th>\n",
       "      <th>Suburb</th>\n",
       "      <th>Rooms</th>\n",
       "      <th>Type</th>\n",
       "      <th>Price</th>\n",
       "      <th>Method</th>\n",
       "      <th>SellerG</th>\n",
       "      <th>Date</th>\n",
       "      <th>Distance</th>\n",
       "      <th>Postcode</th>\n",
       "      <th>Bathroom</th>\n",
       "      <th>...</th>\n",
       "      <th>Lattitude</th>\n",
       "      <th>Longtitude</th>\n",
       "      <th>Regionname</th>\n",
       "      <th>Propertycount</th>\n",
       "      <th>zipcode</th>\n",
       "      <th>bnb_price_mean</th>\n",
       "      <th>bnb_latitude_mean</th>\n",
       "      <th>bnb_longitude_mean</th>\n",
       "      <th>bnb_city_mode</th>\n",
       "      <th>bnb_suburb_mode</th>\n",
       "    </tr>\n",
       "  </thead>\n",
       "  <tbody>\n",
       "    <tr>\n",
       "      <th>0</th>\n",
       "      <td>Abbotsford</td>\n",
       "      <td>2</td>\n",
       "      <td>h</td>\n",
       "      <td>1480000.0</td>\n",
       "      <td>S</td>\n",
       "      <td>Biggin</td>\n",
       "      <td>2016Q1</td>\n",
       "      <td>2.5</td>\n",
       "      <td>3067.0</td>\n",
       "      <td>1.0</td>\n",
       "      <td>...</td>\n",
       "      <td>-37.7996</td>\n",
       "      <td>144.9984</td>\n",
       "      <td>Northern Metropolitan</td>\n",
       "      <td>4019.0</td>\n",
       "      <td>3067.0</td>\n",
       "      <td>120.082677</td>\n",
       "      <td>-37.806091</td>\n",
       "      <td>145.000977</td>\n",
       "      <td>Yarra</td>\n",
       "      <td>Abbotsford</td>\n",
       "    </tr>\n",
       "    <tr>\n",
       "      <th>1</th>\n",
       "      <td>Abbotsford</td>\n",
       "      <td>2</td>\n",
       "      <td>h</td>\n",
       "      <td>1035000.0</td>\n",
       "      <td>S</td>\n",
       "      <td>Biggin</td>\n",
       "      <td>2016Q2</td>\n",
       "      <td>2.5</td>\n",
       "      <td>3067.0</td>\n",
       "      <td>1.0</td>\n",
       "      <td>...</td>\n",
       "      <td>-37.8079</td>\n",
       "      <td>144.9934</td>\n",
       "      <td>Northern Metropolitan</td>\n",
       "      <td>4019.0</td>\n",
       "      <td>3067.0</td>\n",
       "      <td>120.082677</td>\n",
       "      <td>-37.806091</td>\n",
       "      <td>145.000977</td>\n",
       "      <td>Yarra</td>\n",
       "      <td>Abbotsford</td>\n",
       "    </tr>\n",
       "    <tr>\n",
       "      <th>2</th>\n",
       "      <td>Abbotsford</td>\n",
       "      <td>3</td>\n",
       "      <td>h</td>\n",
       "      <td>1465000.0</td>\n",
       "      <td>SP</td>\n",
       "      <td>Biggin</td>\n",
       "      <td>2017Q2</td>\n",
       "      <td>2.5</td>\n",
       "      <td>3067.0</td>\n",
       "      <td>2.0</td>\n",
       "      <td>...</td>\n",
       "      <td>-37.8093</td>\n",
       "      <td>144.9944</td>\n",
       "      <td>Northern Metropolitan</td>\n",
       "      <td>4019.0</td>\n",
       "      <td>3067.0</td>\n",
       "      <td>120.082677</td>\n",
       "      <td>-37.806091</td>\n",
       "      <td>145.000977</td>\n",
       "      <td>Yarra</td>\n",
       "      <td>Abbotsford</td>\n",
       "    </tr>\n",
       "  </tbody>\n",
       "</table>\n",
       "<p>3 rows × 23 columns</p>\n",
       "</div>"
      ],
      "text/plain": [
       "       Suburb  Rooms Type      Price Method SellerG    Date  Distance  \\\n",
       "0  Abbotsford      2    h  1480000.0      S  Biggin  2016Q1       2.5   \n",
       "1  Abbotsford      2    h  1035000.0      S  Biggin  2016Q2       2.5   \n",
       "2  Abbotsford      3    h  1465000.0     SP  Biggin  2017Q2       2.5   \n",
       "\n",
       "   Postcode  Bathroom  ...  Lattitude  Longtitude             Regionname  \\\n",
       "0    3067.0       1.0  ...   -37.7996    144.9984  Northern Metropolitan   \n",
       "1    3067.0       1.0  ...   -37.8079    144.9934  Northern Metropolitan   \n",
       "2    3067.0       2.0  ...   -37.8093    144.9944  Northern Metropolitan   \n",
       "\n",
       "   Propertycount  zipcode bnb_price_mean  bnb_latitude_mean  \\\n",
       "0         4019.0   3067.0     120.082677         -37.806091   \n",
       "1         4019.0   3067.0     120.082677         -37.806091   \n",
       "2         4019.0   3067.0     120.082677         -37.806091   \n",
       "\n",
       "   bnb_longitude_mean  bnb_city_mode  bnb_suburb_mode  \n",
       "0          145.000977          Yarra       Abbotsford  \n",
       "1          145.000977          Yarra       Abbotsford  \n",
       "2          145.000977          Yarra       Abbotsford  \n",
       "\n",
       "[3 rows x 23 columns]"
      ]
     },
     "execution_count": 3,
     "metadata": {},
     "output_type": "execute_result"
    }
   ],
   "source": [
    "df = pandas.read_csv('DataSet/curated_dataset.csv')\n",
    "\n",
    "df.head(3)"
   ]
  },
  {
   "cell_type": "markdown",
   "metadata": {},
   "source": [
    "#### Eliminamos las variables `SellerG`, `Suburb`,  y `bnb_suburb_mode`\n",
    "\n",
    "Lamentablemente no contamos con los recursos necesarios para correr **KNN** sobre nuestro conjunto de datos entero.\n",
    "Por lo tanto se tomó la decisión de eliminar las variables categóricas que poseen la mayor cantidad de categorías, en un intento por reducir la dimensionalidad de la matriz resultante (luego de aplicar el *encoding*); y poder de esta manera, continuar con la curación de los datos."
   ]
  },
  {
   "cell_type": "code",
   "execution_count": 4,
   "metadata": {},
   "outputs": [
    {
     "data": {
      "text/plain": [
       "314"
      ]
     },
     "execution_count": 4,
     "metadata": {},
     "output_type": "execute_result"
    }
   ],
   "source": [
    "df.Suburb.nunique()"
   ]
  },
  {
   "cell_type": "code",
   "execution_count": 5,
   "metadata": {},
   "outputs": [
    {
     "data": {
      "text/plain": [
       "191"
      ]
     },
     "execution_count": 5,
     "metadata": {},
     "output_type": "execute_result"
    }
   ],
   "source": [
    "df.bnb_suburb_mode.nunique()"
   ]
  },
  {
   "cell_type": "code",
   "execution_count": 6,
   "metadata": {},
   "outputs": [
    {
     "data": {
      "text/plain": [
       "191"
      ]
     },
     "execution_count": 6,
     "metadata": {},
     "output_type": "execute_result"
    }
   ],
   "source": [
    "df.SellerG.nunique()"
   ]
  },
  {
   "cell_type": "code",
   "execution_count": 7,
   "metadata": {},
   "outputs": [],
   "source": [
    "df = df.drop(['SellerG', 'Suburb', 'bnb_suburb_mode'], axis=1)"
   ]
  },
  {
   "cell_type": "markdown",
   "metadata": {
    "id": "s-mixICN22kA"
   },
   "source": [
    "## Ejercicio 1: Encoding\n",
    "\n",
    "1. Seleccionar todas las filas y columnas del conjunto de datos obtenido en la *parte 1* del entregable, **excepto** `BuildingArea` y `YearBuilt`, que volveremos a imputar más adelante.\n",
    "\n",
    "2. Aplicar una codificación *One-hot encoding* a cada fila, tanto para variables numéricas como categóricas. Si lo consideran necesario, pueden volver a reducir el número de categorías únicas.\n",
    "\n",
    "Algunas opciones:\n",
    "  1. Utilizar `OneHotEncoder` junto con el parámetro `categories` para las variables categóricas, y luego usar `numpy.hstack` para concatenar el resultado con las variables numéricas. \n",
    "  2. `DictVectorizer` con algunos pasos de pre-proceso previo.\n",
    "\n",
    "Recordar también que el atributo `pandas.DataFrame.values` permite acceder a la matriz de *numpy* subyacente a un *DataFrame*."
   ]
  },
  {
   "cell_type": "code",
   "execution_count": 8,
   "metadata": {},
   "outputs": [
    {
     "data": {
      "text/plain": [
       "(13580, 20)"
      ]
     },
     "execution_count": 8,
     "metadata": {},
     "output_type": "execute_result"
    }
   ],
   "source": [
    "df.shape"
   ]
  },
  {
   "cell_type": "code",
   "execution_count": 9,
   "metadata": {},
   "outputs": [
    {
     "data": {
      "text/plain": [
       "{'Rooms': 2,\n",
       " 'Type': 'h',\n",
       " 'Price': 1480000.0,\n",
       " 'Method': 'S',\n",
       " 'Date': '2016Q1',\n",
       " 'Distance': 2.5,\n",
       " 'Postcode': 3067.0,\n",
       " 'Bathroom': 1.0,\n",
       " 'Car': 1.0,\n",
       " 'Landsize': 202.0,\n",
       " 'CouncilArea': 'Yarra',\n",
       " 'Lattitude': -37.7996,\n",
       " 'Longtitude': 144.9984,\n",
       " 'Regionname': 'Northern Metropolitan',\n",
       " 'Propertycount': 4019.0,\n",
       " 'zipcode': 3067.0,\n",
       " 'bnb_price_mean': 120.08267716535433,\n",
       " 'bnb_latitude_mean': -37.80609081153544,\n",
       " 'bnb_longitude_mean': 145.00097749448815,\n",
       " 'bnb_city_mode': 'Yarra'}"
      ]
     },
     "execution_count": 9,
     "metadata": {},
     "output_type": "execute_result"
    }
   ],
   "source": [
    "feature_dict = list(df.T.to_dict().values())\n",
    "\n",
    "feature_dict[0]"
   ]
  },
  {
   "cell_type": "code",
   "execution_count": 10,
   "metadata": {},
   "outputs": [],
   "source": [
    "from sklearn.feature_extraction import DictVectorizer\n",
    "\n",
    "vec = DictVectorizer()\n",
    "feature_matrix = vec.fit_transform(feature_dict)"
   ]
  },
  {
   "cell_type": "code",
   "execution_count": 11,
   "metadata": {},
   "outputs": [
    {
     "data": {
      "text/plain": [
       "<13580x99 sparse matrix of type '<class 'numpy.float64'>'\n",
       "\twith 271600 stored elements in Compressed Sparse Row format>"
      ]
     },
     "execution_count": 11,
     "metadata": {},
     "output_type": "execute_result"
    }
   ],
   "source": [
    "feature_matrix"
   ]
  },
  {
   "cell_type": "markdown",
   "metadata": {},
   "source": [
    "De las **99** columnas...\n",
    "\n",
    "- **3** son por `Type`.\n",
    "- **5** son por `Method`.\n",
    "- **6** son por `Regionname`.\n",
    "- **8** son por `Date`.\n",
    "- **30** son por `bnb_city_mode`.\n",
    "- **33** son por `CouncilArea`.\n",
    "\n",
    "Y el resto (**14**) son por las variables numéricas `Rooms`, `Price`, `Distance`, `Postcode`, `Bathroom`, `Car`, `Landsize`, `Lattitude`, `Longitude`, `Propertycount`, `zipcode`, `bnb_price_mean`, `bnb_latitude_mean`, `bnb_longitude_mean`."
   ]
  },
  {
   "cell_type": "markdown",
   "metadata": {},
   "source": [
    "#### Reconstruimos el Data Frame"
   ]
  },
  {
   "cell_type": "code",
   "execution_count": 12,
   "metadata": {},
   "outputs": [
    {
     "name": "stdout",
     "output_type": "stream",
     "text": [
      "La matriz DENSA ocupará aproximadamente 5.13 MB\n"
     ]
    }
   ],
   "source": [
    "# Calculamos el tamaño estimado de la matriz densa.\n",
    "size_MB = feature_matrix.shape[0] * feature_matrix.shape[1] * 4 / 1024 / 1024\n",
    "print(\"La matriz DENSA ocupará aproximadamente {:.2f} MB\".format(size_MB))"
   ]
  },
  {
   "cell_type": "code",
   "execution_count": 13,
   "metadata": {},
   "outputs": [
    {
     "name": "stdout",
     "output_type": "stream",
     "text": [
      "Tamaño: 5.13 MB\n"
     ]
    }
   ],
   "source": [
    "precision_type = numpy.float32\n",
    "\n",
    "dense_feature_matrix = feature_matrix.astype(precision_type).todense()\n",
    "\n",
    "print(\"Tamaño: {:.2f} MB\".format(dense_feature_matrix.nbytes / 1024 / 1024))"
   ]
  },
  {
   "cell_type": "code",
   "execution_count": 14,
   "metadata": {},
   "outputs": [
    {
     "data": {
      "text/html": [
       "<div>\n",
       "<style scoped>\n",
       "    .dataframe tbody tr th:only-of-type {\n",
       "        vertical-align: middle;\n",
       "    }\n",
       "\n",
       "    .dataframe tbody tr th {\n",
       "        vertical-align: top;\n",
       "    }\n",
       "\n",
       "    .dataframe thead th {\n",
       "        text-align: right;\n",
       "    }\n",
       "</style>\n",
       "<table border=\"1\" class=\"dataframe\">\n",
       "  <thead>\n",
       "    <tr style=\"text-align: right;\">\n",
       "      <th></th>\n",
       "      <th>Bathroom</th>\n",
       "      <th>Car</th>\n",
       "      <th>CouncilArea=Banyule</th>\n",
       "      <th>CouncilArea=Bayside</th>\n",
       "      <th>CouncilArea=Boroondara</th>\n",
       "      <th>CouncilArea=Brimbank</th>\n",
       "      <th>CouncilArea=Cardinia</th>\n",
       "      <th>CouncilArea=Casey</th>\n",
       "      <th>CouncilArea=Darebin</th>\n",
       "      <th>CouncilArea=Frankston</th>\n",
       "      <th>...</th>\n",
       "      <th>bnb_city_mode=Stonnington</th>\n",
       "      <th>bnb_city_mode=Whitehorse</th>\n",
       "      <th>bnb_city_mode=Whittlesea</th>\n",
       "      <th>bnb_city_mode=Wyndham</th>\n",
       "      <th>bnb_city_mode=Yarra</th>\n",
       "      <th>bnb_city_mode=Yarra Ranges</th>\n",
       "      <th>bnb_latitude_mean</th>\n",
       "      <th>bnb_longitude_mean</th>\n",
       "      <th>bnb_price_mean</th>\n",
       "      <th>zipcode</th>\n",
       "    </tr>\n",
       "  </thead>\n",
       "  <tbody>\n",
       "    <tr>\n",
       "      <th>0</th>\n",
       "      <td>1.0</td>\n",
       "      <td>1.0</td>\n",
       "      <td>0.0</td>\n",
       "      <td>0.0</td>\n",
       "      <td>0.0</td>\n",
       "      <td>0.0</td>\n",
       "      <td>0.0</td>\n",
       "      <td>0.0</td>\n",
       "      <td>0.0</td>\n",
       "      <td>0.0</td>\n",
       "      <td>...</td>\n",
       "      <td>0.0</td>\n",
       "      <td>0.0</td>\n",
       "      <td>0.0</td>\n",
       "      <td>0.0</td>\n",
       "      <td>1.0</td>\n",
       "      <td>0.0</td>\n",
       "      <td>-37.806091</td>\n",
       "      <td>145.000977</td>\n",
       "      <td>120.08268</td>\n",
       "      <td>3067.0</td>\n",
       "    </tr>\n",
       "    <tr>\n",
       "      <th>1</th>\n",
       "      <td>1.0</td>\n",
       "      <td>0.0</td>\n",
       "      <td>0.0</td>\n",
       "      <td>0.0</td>\n",
       "      <td>0.0</td>\n",
       "      <td>0.0</td>\n",
       "      <td>0.0</td>\n",
       "      <td>0.0</td>\n",
       "      <td>0.0</td>\n",
       "      <td>0.0</td>\n",
       "      <td>...</td>\n",
       "      <td>0.0</td>\n",
       "      <td>0.0</td>\n",
       "      <td>0.0</td>\n",
       "      <td>0.0</td>\n",
       "      <td>1.0</td>\n",
       "      <td>0.0</td>\n",
       "      <td>-37.806091</td>\n",
       "      <td>145.000977</td>\n",
       "      <td>120.08268</td>\n",
       "      <td>3067.0</td>\n",
       "    </tr>\n",
       "    <tr>\n",
       "      <th>2</th>\n",
       "      <td>2.0</td>\n",
       "      <td>0.0</td>\n",
       "      <td>0.0</td>\n",
       "      <td>0.0</td>\n",
       "      <td>0.0</td>\n",
       "      <td>0.0</td>\n",
       "      <td>0.0</td>\n",
       "      <td>0.0</td>\n",
       "      <td>0.0</td>\n",
       "      <td>0.0</td>\n",
       "      <td>...</td>\n",
       "      <td>0.0</td>\n",
       "      <td>0.0</td>\n",
       "      <td>0.0</td>\n",
       "      <td>0.0</td>\n",
       "      <td>1.0</td>\n",
       "      <td>0.0</td>\n",
       "      <td>-37.806091</td>\n",
       "      <td>145.000977</td>\n",
       "      <td>120.08268</td>\n",
       "      <td>3067.0</td>\n",
       "    </tr>\n",
       "  </tbody>\n",
       "</table>\n",
       "<p>3 rows × 99 columns</p>\n",
       "</div>"
      ],
      "text/plain": [
       "   Bathroom  Car  CouncilArea=Banyule  CouncilArea=Bayside  \\\n",
       "0       1.0  1.0                  0.0                  0.0   \n",
       "1       1.0  0.0                  0.0                  0.0   \n",
       "2       2.0  0.0                  0.0                  0.0   \n",
       "\n",
       "   CouncilArea=Boroondara  CouncilArea=Brimbank  CouncilArea=Cardinia  \\\n",
       "0                     0.0                   0.0                   0.0   \n",
       "1                     0.0                   0.0                   0.0   \n",
       "2                     0.0                   0.0                   0.0   \n",
       "\n",
       "   CouncilArea=Casey  CouncilArea=Darebin  CouncilArea=Frankston  ...  \\\n",
       "0                0.0                  0.0                    0.0  ...   \n",
       "1                0.0                  0.0                    0.0  ...   \n",
       "2                0.0                  0.0                    0.0  ...   \n",
       "\n",
       "   bnb_city_mode=Stonnington  bnb_city_mode=Whitehorse  \\\n",
       "0                        0.0                       0.0   \n",
       "1                        0.0                       0.0   \n",
       "2                        0.0                       0.0   \n",
       "\n",
       "   bnb_city_mode=Whittlesea  bnb_city_mode=Wyndham  bnb_city_mode=Yarra  \\\n",
       "0                       0.0                    0.0                  1.0   \n",
       "1                       0.0                    0.0                  1.0   \n",
       "2                       0.0                    0.0                  1.0   \n",
       "\n",
       "   bnb_city_mode=Yarra Ranges  bnb_latitude_mean  bnb_longitude_mean  \\\n",
       "0                         0.0         -37.806091          145.000977   \n",
       "1                         0.0         -37.806091          145.000977   \n",
       "2                         0.0         -37.806091          145.000977   \n",
       "\n",
       "   bnb_price_mean  zipcode  \n",
       "0       120.08268   3067.0  \n",
       "1       120.08268   3067.0  \n",
       "2       120.08268   3067.0  \n",
       "\n",
       "[3 rows x 99 columns]"
      ]
     },
     "execution_count": 14,
     "metadata": {},
     "output_type": "execute_result"
    }
   ],
   "source": [
    "encoded_df = pandas.DataFrame(data=dense_feature_matrix, columns=vec.get_feature_names())\n",
    "\n",
    "encoded_df.head(3)"
   ]
  },
  {
   "cell_type": "code",
   "execution_count": 15,
   "metadata": {},
   "outputs": [
    {
     "data": {
      "text/plain": [
       "(13580, 99)"
      ]
     },
     "execution_count": 15,
     "metadata": {},
     "output_type": "execute_result"
    }
   ],
   "source": [
    "encoded_df.shape"
   ]
  },
  {
   "cell_type": "markdown",
   "metadata": {
    "id": "ismngxPcfoWb"
   },
   "source": [
    "## Ejercicio 2: Imputación por KNN\n",
    "\n",
    "En el teórico se presentó el método `IterativeImputer` para imputar valores faltantes en variables numéricas. Sin embargo, los ejemplos presentados sólo utilizaban algunas variables numéricas presentes en el conjunto de datos. En este ejercicio, utilizaremos la matriz de datos codificada para imputar datos faltantes de manera más precisa.\n",
    "\n",
    "1. Agregue a la matriz obtenida en el punto anterior las columnas `YearBuilt` y `BuildingArea`.\n",
    "2. Aplique una instancia de `IterativeImputer` con un estimador `KNeighborsRegressor` para imputar los valores de las variables. ¿Es necesario estandarizar o escalar los datos previamente?\n",
    "3. Realice un gráfico mostrando la distribución de cada variable antes de ser imputada, y con ambos métodos de imputación."
   ]
  },
  {
   "cell_type": "code",
   "execution_count": 16,
   "metadata": {},
   "outputs": [],
   "source": [
    "relevant_cols = ['BuildingArea', 'YearBuilt']"
   ]
  },
  {
   "cell_type": "code",
   "execution_count": 17,
   "metadata": {},
   "outputs": [
    {
     "data": {
      "text/html": [
       "<div>\n",
       "<style scoped>\n",
       "    .dataframe tbody tr th:only-of-type {\n",
       "        vertical-align: middle;\n",
       "    }\n",
       "\n",
       "    .dataframe tbody tr th {\n",
       "        vertical-align: top;\n",
       "    }\n",
       "\n",
       "    .dataframe thead th {\n",
       "        text-align: right;\n",
       "    }\n",
       "</style>\n",
       "<table border=\"1\" class=\"dataframe\">\n",
       "  <thead>\n",
       "    <tr style=\"text-align: right;\">\n",
       "      <th></th>\n",
       "      <th>Bathroom</th>\n",
       "      <th>Car</th>\n",
       "      <th>CouncilArea=Banyule</th>\n",
       "      <th>CouncilArea=Bayside</th>\n",
       "      <th>CouncilArea=Boroondara</th>\n",
       "      <th>CouncilArea=Brimbank</th>\n",
       "      <th>CouncilArea=Cardinia</th>\n",
       "      <th>CouncilArea=Casey</th>\n",
       "      <th>CouncilArea=Darebin</th>\n",
       "      <th>CouncilArea=Frankston</th>\n",
       "      <th>...</th>\n",
       "      <th>bnb_city_mode=Whittlesea</th>\n",
       "      <th>bnb_city_mode=Wyndham</th>\n",
       "      <th>bnb_city_mode=Yarra</th>\n",
       "      <th>bnb_city_mode=Yarra Ranges</th>\n",
       "      <th>bnb_latitude_mean</th>\n",
       "      <th>bnb_longitude_mean</th>\n",
       "      <th>bnb_price_mean</th>\n",
       "      <th>zipcode</th>\n",
       "      <th>BuildingArea</th>\n",
       "      <th>YearBuilt</th>\n",
       "    </tr>\n",
       "  </thead>\n",
       "  <tbody>\n",
       "    <tr>\n",
       "      <th>0</th>\n",
       "      <td>1.0</td>\n",
       "      <td>1.0</td>\n",
       "      <td>0.0</td>\n",
       "      <td>0.0</td>\n",
       "      <td>0.0</td>\n",
       "      <td>0.0</td>\n",
       "      <td>0.0</td>\n",
       "      <td>0.0</td>\n",
       "      <td>0.0</td>\n",
       "      <td>0.0</td>\n",
       "      <td>...</td>\n",
       "      <td>0.0</td>\n",
       "      <td>0.0</td>\n",
       "      <td>1.0</td>\n",
       "      <td>0.0</td>\n",
       "      <td>-37.806091</td>\n",
       "      <td>145.000977</td>\n",
       "      <td>120.08268</td>\n",
       "      <td>3067.0</td>\n",
       "      <td>NaN</td>\n",
       "      <td>NaN</td>\n",
       "    </tr>\n",
       "    <tr>\n",
       "      <th>1</th>\n",
       "      <td>1.0</td>\n",
       "      <td>0.0</td>\n",
       "      <td>0.0</td>\n",
       "      <td>0.0</td>\n",
       "      <td>0.0</td>\n",
       "      <td>0.0</td>\n",
       "      <td>0.0</td>\n",
       "      <td>0.0</td>\n",
       "      <td>0.0</td>\n",
       "      <td>0.0</td>\n",
       "      <td>...</td>\n",
       "      <td>0.0</td>\n",
       "      <td>0.0</td>\n",
       "      <td>1.0</td>\n",
       "      <td>0.0</td>\n",
       "      <td>-37.806091</td>\n",
       "      <td>145.000977</td>\n",
       "      <td>120.08268</td>\n",
       "      <td>3067.0</td>\n",
       "      <td>79.0</td>\n",
       "      <td>1900.0</td>\n",
       "    </tr>\n",
       "    <tr>\n",
       "      <th>2</th>\n",
       "      <td>2.0</td>\n",
       "      <td>0.0</td>\n",
       "      <td>0.0</td>\n",
       "      <td>0.0</td>\n",
       "      <td>0.0</td>\n",
       "      <td>0.0</td>\n",
       "      <td>0.0</td>\n",
       "      <td>0.0</td>\n",
       "      <td>0.0</td>\n",
       "      <td>0.0</td>\n",
       "      <td>...</td>\n",
       "      <td>0.0</td>\n",
       "      <td>0.0</td>\n",
       "      <td>1.0</td>\n",
       "      <td>0.0</td>\n",
       "      <td>-37.806091</td>\n",
       "      <td>145.000977</td>\n",
       "      <td>120.08268</td>\n",
       "      <td>3067.0</td>\n",
       "      <td>150.0</td>\n",
       "      <td>1900.0</td>\n",
       "    </tr>\n",
       "  </tbody>\n",
       "</table>\n",
       "<p>3 rows × 101 columns</p>\n",
       "</div>"
      ],
      "text/plain": [
       "   Bathroom  Car  CouncilArea=Banyule  CouncilArea=Bayside  \\\n",
       "0       1.0  1.0                  0.0                  0.0   \n",
       "1       1.0  0.0                  0.0                  0.0   \n",
       "2       2.0  0.0                  0.0                  0.0   \n",
       "\n",
       "   CouncilArea=Boroondara  CouncilArea=Brimbank  CouncilArea=Cardinia  \\\n",
       "0                     0.0                   0.0                   0.0   \n",
       "1                     0.0                   0.0                   0.0   \n",
       "2                     0.0                   0.0                   0.0   \n",
       "\n",
       "   CouncilArea=Casey  CouncilArea=Darebin  CouncilArea=Frankston  ...  \\\n",
       "0                0.0                  0.0                    0.0  ...   \n",
       "1                0.0                  0.0                    0.0  ...   \n",
       "2                0.0                  0.0                    0.0  ...   \n",
       "\n",
       "   bnb_city_mode=Whittlesea  bnb_city_mode=Wyndham  bnb_city_mode=Yarra  \\\n",
       "0                       0.0                    0.0                  1.0   \n",
       "1                       0.0                    0.0                  1.0   \n",
       "2                       0.0                    0.0                  1.0   \n",
       "\n",
       "   bnb_city_mode=Yarra Ranges  bnb_latitude_mean  bnb_longitude_mean  \\\n",
       "0                         0.0         -37.806091          145.000977   \n",
       "1                         0.0         -37.806091          145.000977   \n",
       "2                         0.0         -37.806091          145.000977   \n",
       "\n",
       "   bnb_price_mean  zipcode  BuildingArea  YearBuilt  \n",
       "0       120.08268   3067.0           NaN        NaN  \n",
       "1       120.08268   3067.0          79.0     1900.0  \n",
       "2       120.08268   3067.0         150.0     1900.0  \n",
       "\n",
       "[3 rows x 101 columns]"
      ]
     },
     "execution_count": 17,
     "metadata": {},
     "output_type": "execute_result"
    }
   ],
   "source": [
    "join_df = encoded_df.join(melb_df[relevant_cols], how='left')\n",
    "\n",
    "join_df.head(3)"
   ]
  },
  {
   "cell_type": "markdown",
   "metadata": {},
   "source": [
    "**Observaciones**\n",
    "\n",
    "[Why is scaling required in KNN and K-Means?](https://medium.com/analytics-vidhya/why-is-scaling-required-in-knn-and-k-means-8129e4d88ed7)\n",
    "\n",
    "**KNN** and **K-Means** are one of the most commonly and widely used machine learning algorithms.\n",
    "**KNN** is a supervised learning algorithm and can be used to solve both classification as well as regression problems.\n",
    "**K-Means**, on the other hand, is an unsupervised learning algorithm which is widely used to cluster data into different groups.\n",
    "One thing which is common in both these algorithms is that both **KNN** and **K-Means** are distance based algorithms.\n",
    "**KNN** chooses the *k* closest neighbors and then based on these neighbors, assigns a class (for classification problems) or predicts a value (for regression problems) for a new observation.\n",
    "**K-Means** clusters the similar points together.\n",
    "The similarity here is defined by the distance between the points.\n",
    "Lesser the distance between the points, more is the similarity and vice versa.\n",
    "\n",
    "[K-Nearest Neighbors](https://towardsdatascience.com/k-nearest-neighbors-94395f445221)\n",
    "\n",
    "**KNN** can be very sensitive to the scale of data as it relies on computing the distances.\n",
    "For features with a higher scale, the calculated distances can be very high and might produce poor results.\n",
    "It is thus advised to scale the data before running the **KNN**."
   ]
  },
  {
   "cell_type": "code",
   "execution_count": 18,
   "metadata": {},
   "outputs": [],
   "source": [
    "from sklearn.preprocessing import StandardScaler\n",
    "\n",
    "scaler = StandardScaler()\n",
    "\n",
    "scaled_matrix = scaler.fit_transform(join_df)\n",
    "\n",
    "scaled_df = pandas.DataFrame(data=scaled_matrix, columns=join_df.columns)"
   ]
  },
  {
   "cell_type": "code",
   "execution_count": 19,
   "metadata": {},
   "outputs": [],
   "source": [
    "from sklearn.experimental import enable_iterative_imputer\n",
    "from sklearn.neighbors import KNeighborsRegressor\n",
    "from sklearn.impute import IterativeImputer\n",
    "\n",
    "mice_imputer = IterativeImputer(random_state=0, estimator=KNeighborsRegressor())"
   ]
  },
  {
   "cell_type": "code",
   "execution_count": 20,
   "metadata": {
    "colab": {
     "base_uri": "https://localhost:8080/"
    },
    "id": "G4ClSr_JapCw",
    "outputId": "9468199f-071a-4514-c62b-e161a6113f18"
   },
   "outputs": [
    {
     "name": "stderr",
     "output_type": "stream",
     "text": [
      "/home/mgobbi289/miniconda3/envs/diplodatos-aycd/lib/python3.9/site-packages/sklearn/impute/_iterative.py:669: ConvergenceWarning: [IterativeImputer] Early stopping criterion not reached.\n",
      "  warnings.warn(\"[IterativeImputer] Early stopping criterion not\"\n"
     ]
    }
   ],
   "source": [
    "# Solo las variables 'BuildingArea' y 'YearBuilt' del DF.\n",
    "mice_df = scaled_df.copy(deep=True)\n",
    "\n",
    "mice_df[relevant_cols] = mice_imputer.fit_transform(mice_df[relevant_cols])"
   ]
  },
  {
   "cell_type": "markdown",
   "metadata": {},
   "source": [
    "La *advertencia* se produce porque el algoritmo no llega a convergir con la cantidad máxima de iteraciones.\n",
    "Al graficar será evidente esta situación."
   ]
  },
  {
   "cell_type": "code",
   "execution_count": 21,
   "metadata": {
    "colab": {
     "base_uri": "https://localhost:8080/"
    },
    "id": "G4ClSr_JapCw",
    "outputId": "9468199f-071a-4514-c62b-e161a6113f18"
   },
   "outputs": [],
   "source": [
    "# Todas las variables del DF.\n",
    "# TODO: Necesitamos aplicar KNN a TODO el DataSet.\n",
    "full_mice_df = scaled_df.sample(3500, random_state=123).copy(deep=True)\n",
    "\n",
    "full_mice_df[:] = mice_imputer.fit_transform(full_mice_df)"
   ]
  },
  {
   "cell_type": "markdown",
   "metadata": {
    "id": "ImjXQZUbVoKH"
   },
   "source": [
    "Ejemplo de gráfico comparando las distribuciones de datos obtenidas con cada método de imputación."
   ]
  },
  {
   "cell_type": "code",
   "execution_count": 22,
   "metadata": {
    "colab": {
     "base_uri": "https://localhost:8080/",
     "height": 355
    },
    "id": "PMK1ktqYQTJK",
    "outputId": "b3ec0023-25cd-41ad-b069-cc59de7c2313"
   },
   "outputs": [
    {
     "data": {
      "image/png": "[encoded data removed]",
      "text/plain": [
       "<Figure size 1152x576 with 1 Axes>"
      ]
     },
     "metadata": {
      "needs_background": "light"
     },
     "output_type": "display_data"
    }
   ],
   "source": [
    "mice_year_built = mice_df.YearBuilt.to_frame()\n",
    "mice_year_built['Imputation'] = 'KNN over YearBuilt and BuildingArea'\n",
    "\n",
    "full_mice_year_built = full_mice_df.YearBuilt.to_frame()\n",
    "full_mice_year_built['Imputation'] = 'KNN over all Variables'\n",
    "\n",
    "melb_year_built = scaled_df.YearBuilt.dropna().to_frame()\n",
    "melb_year_built['Imputation'] = 'Original'\n",
    "\n",
    "data = pandas.concat([mice_year_built, full_mice_year_built, melb_year_built])\n",
    "\n",
    "fig = plt.figure(figsize=(16, 8))\n",
    "seaborn.kdeplot(data=data, x='YearBuilt', hue='Imputation');"
   ]
  },
  {
   "cell_type": "code",
   "execution_count": 23,
   "metadata": {
    "colab": {
     "base_uri": "https://localhost:8080/",
     "height": 355
    },
    "id": "PMK1ktqYQTJK",
    "outputId": "b3ec0023-25cd-41ad-b069-cc59de7c2313"
   },
   "outputs": [
    {
     "data": {
      "image/png": "[encoded data removed]",
      "text/plain": [
       "<Figure size 1152x576 with 1 Axes>"
      ]
     },
     "metadata": {
      "needs_background": "light"
     },
     "output_type": "display_data"
    }
   ],
   "source": [
    "mice_building_area = mice_df.BuildingArea.to_frame()\n",
    "mice_building_area['Imputation'] = 'KNN over YearBuilt and BuildingArea'\n",
    "\n",
    "full_mice_building_area = full_mice_df.BuildingArea.to_frame()\n",
    "full_mice_building_area['Imputation'] = 'KNN over all Variables'\n",
    "\n",
    "melb_building_area = scaled_df.BuildingArea.dropna().to_frame()\n",
    "melb_building_area['Imputation'] = 'Original'\n",
    "\n",
    "data = pandas.concat([mice_building_area, full_mice_building_area, melb_building_area])\n",
    "\n",
    "fig = plt.figure(figsize=(16, 8))\n",
    "seaborn.kdeplot(data=data, x='BuildingArea', hue='Imputation');"
   ]
  },
  {
   "cell_type": "markdown",
   "metadata": {
    "id": "NBN7-5OIxjJW"
   },
   "source": [
    "## Ejercicio 3: Reducción de dimensionalidad.\n",
    "\n",
    "Utilizando la matriz obtenida en el ejercicio anterior:\n",
    "1. Aplique `PCA` para obtener $n$ componentes principales de la matriz, donde `n = min(20, X.shape[0])`. ¿Es necesario estandarizar o escalar los datos?\n",
    "2. Grafique la varianza capturada por los primeros $n$ componentes principales, para cada $n$.\n",
    "3. En base al gráfico, seleccione las primeras $m$ columnas de la matriz transformada para agregar como nuevas características al conjunto de datos."
   ]
  },
  {
   "cell_type": "markdown",
   "metadata": {},
   "source": [
    "**Observaciones**\n",
    "\n",
    "[Importance of Feature Scaling](https://scikit-learn.org/stable/auto_examples/preprocessing/plot_scaling_importance.html)\n",
    "\n",
    "While many algorithms (such as *SVM*, *K-nearest neighbors*, and *logistic regression*) require features to be normalized, intuitively we can think of *Principle Component Analysis* (**PCA**) as being a prime example of when normalization is important.\n",
    "In **PCA** we are interested in the components that maximize the variance.\n",
    "If one component (e.g. human height) varies less than another (e.g. weight) because of their respective scales (meters vs. kilos), **PCA** might determine that the direction of maximal variance more closely corresponds with the `weight` axis, if those features are not scaled.\n",
    "As a change in height of one meter can be considered much more important than the change in weight of one kilogram, this is clearly incorrect."
   ]
  },
  {
   "cell_type": "code",
   "execution_count": 24,
   "metadata": {},
   "outputs": [
    {
     "data": {
      "text/plain": [
       "(20, 101)"
      ]
     },
     "execution_count": 24,
     "metadata": {},
     "output_type": "execute_result"
    }
   ],
   "source": [
    "from sklearn.decomposition import PCA\n",
    "\n",
    "n = 20\n",
    "\n",
    "pca = PCA(n_components=n)\n",
    "\n",
    "pca.fit(full_mice_df)\n",
    "\n",
    "pca.components_.shape"
   ]
  },
  {
   "cell_type": "code",
   "execution_count": 25,
   "metadata": {},
   "outputs": [
    {
     "name": "stdout",
     "output_type": "stream",
     "text": [
      "Explained variance ratio\n",
      "Component  1 | VarRatio 0.071 | Accum VarRatio 0.071\n",
      "Component  2 | VarRatio 0.047 | Accum VarRatio 0.118\n",
      "Component  3 | VarRatio 0.043 | Accum VarRatio 0.161\n",
      "Component  4 | VarRatio 0.039 | Accum VarRatio 0.200\n",
      "Component  5 | VarRatio 0.036 | Accum VarRatio 0.236\n",
      "Component  6 | VarRatio 0.031 | Accum VarRatio 0.267\n",
      "Component  7 | VarRatio 0.029 | Accum VarRatio 0.296\n",
      "Component  8 | VarRatio 0.027 | Accum VarRatio 0.323\n",
      "Component  9 | VarRatio 0.025 | Accum VarRatio 0.348\n",
      "Component 10 | VarRatio 0.024 | Accum VarRatio 0.372\n",
      "Component 11 | VarRatio 0.023 | Accum VarRatio 0.395\n",
      "Component 12 | VarRatio 0.023 | Accum VarRatio 0.418\n",
      "Component 13 | VarRatio 0.022 | Accum VarRatio 0.440\n",
      "Component 14 | VarRatio 0.022 | Accum VarRatio 0.462\n",
      "Component 15 | VarRatio 0.022 | Accum VarRatio 0.484\n",
      "Component 16 | VarRatio 0.021 | Accum VarRatio 0.505\n",
      "Component 17 | VarRatio 0.021 | Accum VarRatio 0.526\n",
      "Component 18 | VarRatio 0.021 | Accum VarRatio 0.547\n",
      "Component 19 | VarRatio 0.020 | Accum VarRatio 0.567\n",
      "Component 20 | VarRatio 0.020 | Accum VarRatio 0.587\n"
     ]
    }
   ],
   "source": [
    "print('Explained variance ratio')\n",
    "\n",
    "accum_var = 0\n",
    "for i, var in enumerate(pca.explained_variance_ratio_):\n",
    "    accum_var += var\n",
    "    print(f'Component {i + 1:2} | VarRatio {var:.3f} | Accum VarRatio {accum_var:.3f}')"
   ]
  },
  {
   "cell_type": "code",
   "execution_count": 26,
   "metadata": {},
   "outputs": [
    {
     "data": {
      "image/png": "[encoded data removed]",
      "text/plain": [
       "<Figure size 864x432 with 1 Axes>"
      ]
     },
     "metadata": {
      "needs_background": "light"
     },
     "output_type": "display_data"
    }
   ],
   "source": [
    "fig = plt.figure(figsize=(12, 6))\n",
    "\n",
    "seaborn.lineplot(x=range(pca.n_components),\n",
    "                 y=pca.explained_variance_ratio_\n",
    "                )\n",
    "\n",
    "plt.xlabel('Components');\n",
    "plt.ylabel('Ratio of variance explained');"
   ]
  },
  {
   "cell_type": "markdown",
   "metadata": {},
   "source": [
    "#### Reducción de dimensionalidad con *PCA*"
   ]
  },
  {
   "cell_type": "code",
   "execution_count": 27,
   "metadata": {},
   "outputs": [
    {
     "data": {
      "text/plain": [
       "(3500, 20)"
      ]
     },
     "execution_count": 27,
     "metadata": {},
     "output_type": "execute_result"
    }
   ],
   "source": [
    "proyected_features = pca.transform(full_mice_df)\n",
    "\n",
    "proyected_features.shape"
   ]
  },
  {
   "cell_type": "code",
   "execution_count": 28,
   "metadata": {},
   "outputs": [],
   "source": [
    "# Copiamos nuestro dataset\n",
    "pca_df = full_mice_df.copy()"
   ]
  },
  {
   "cell_type": "markdown",
   "metadata": {},
   "source": [
    "Ya que queremos conservar la mayor cantidad de información, y nuestro conjunto de datos no es demasiado pesado, vamos a almacenar los $n$ **componentes principales** en nuestro *dataset*."
   ]
  },
  {
   "cell_type": "code",
   "execution_count": 29,
   "metadata": {},
   "outputs": [],
   "source": [
    "pca_columns = ['pca{}'.format(i + 1) for i in range(pca.n_components)]\n",
    "\n",
    "pca_df[pca_columns] = proyected_features"
   ]
  },
  {
   "cell_type": "markdown",
   "metadata": {
    "id": "WrZTYmG_ZyDy"
   },
   "source": [
    "## Ejercicio 4: Composición del resultado\n",
    "\n",
    "Transformar nuevamente el conjunto de datos procesado en un `pandas.DataFrame` y guardarlo en un archivo.\n",
    "\n",
    "Para eso, será necesario recordar el nombre original de cada columna de la matriz, en el orden correcto. Tener en cuenta:\n",
    "1. El método `OneHotEncoder.get_feature_names` o el atributo `OneHotEncoder.categories_` permiten obtener una lista con los valores de la categoría que le corresponde a cada índice de la matriz.\n",
    "2. Ninguno de los métodos aplicados intercambia de lugar las columnas o las filas de la matriz."
   ]
  },
  {
   "cell_type": "code",
   "execution_count": 30,
   "metadata": {},
   "outputs": [
    {
     "data": {
      "text/plain": [
       "(3500, 121)"
      ]
     },
     "execution_count": 30,
     "metadata": {},
     "output_type": "execute_result"
    }
   ],
   "source": [
    "pca_df.shape"
   ]
  },
  {
   "cell_type": "code",
   "execution_count": 31,
   "metadata": {},
   "outputs": [
    {
     "data": {
      "text/html": [
       "<div>\n",
       "<style scoped>\n",
       "    .dataframe tbody tr th:only-of-type {\n",
       "        vertical-align: middle;\n",
       "    }\n",
       "\n",
       "    .dataframe tbody tr th {\n",
       "        vertical-align: top;\n",
       "    }\n",
       "\n",
       "    .dataframe thead th {\n",
       "        text-align: right;\n",
       "    }\n",
       "</style>\n",
       "<table border=\"1\" class=\"dataframe\">\n",
       "  <thead>\n",
       "    <tr style=\"text-align: right;\">\n",
       "      <th></th>\n",
       "      <th>Bathroom</th>\n",
       "      <th>Car</th>\n",
       "      <th>CouncilArea=Banyule</th>\n",
       "      <th>CouncilArea=Bayside</th>\n",
       "      <th>CouncilArea=Boroondara</th>\n",
       "      <th>CouncilArea=Brimbank</th>\n",
       "      <th>CouncilArea=Cardinia</th>\n",
       "      <th>CouncilArea=Casey</th>\n",
       "      <th>CouncilArea=Darebin</th>\n",
       "      <th>CouncilArea=Frankston</th>\n",
       "      <th>...</th>\n",
       "      <th>pca11</th>\n",
       "      <th>pca12</th>\n",
       "      <th>pca13</th>\n",
       "      <th>pca14</th>\n",
       "      <th>pca15</th>\n",
       "      <th>pca16</th>\n",
       "      <th>pca17</th>\n",
       "      <th>pca18</th>\n",
       "      <th>pca19</th>\n",
       "      <th>pca20</th>\n",
       "    </tr>\n",
       "  </thead>\n",
       "  <tbody>\n",
       "    <tr>\n",
       "      <th>5799</th>\n",
       "      <td>-0.780235</td>\n",
       "      <td>-0.623608</td>\n",
       "      <td>-0.223486</td>\n",
       "      <td>-0.206229</td>\n",
       "      <td>-0.323286</td>\n",
       "      <td>-0.190383</td>\n",
       "      <td>-0.024279</td>\n",
       "      <td>-0.0583</td>\n",
       "      <td>-0.282854</td>\n",
       "      <td>-0.076495</td>\n",
       "      <td>...</td>\n",
       "      <td>-0.578778</td>\n",
       "      <td>-0.815431</td>\n",
       "      <td>0.633562</td>\n",
       "      <td>0.186663</td>\n",
       "      <td>-0.523744</td>\n",
       "      <td>-1.727280</td>\n",
       "      <td>2.942312</td>\n",
       "      <td>-1.214173</td>\n",
       "      <td>-1.991100</td>\n",
       "      <td>-0.017981</td>\n",
       "    </tr>\n",
       "    <tr>\n",
       "      <th>10596</th>\n",
       "      <td>-0.780235</td>\n",
       "      <td>-0.623608</td>\n",
       "      <td>-0.223486</td>\n",
       "      <td>-0.206229</td>\n",
       "      <td>-0.323286</td>\n",
       "      <td>-0.190383</td>\n",
       "      <td>-0.024279</td>\n",
       "      <td>-0.0583</td>\n",
       "      <td>-0.282854</td>\n",
       "      <td>-0.076495</td>\n",
       "      <td>...</td>\n",
       "      <td>-4.036026</td>\n",
       "      <td>-2.230647</td>\n",
       "      <td>0.045709</td>\n",
       "      <td>-0.338053</td>\n",
       "      <td>3.155219</td>\n",
       "      <td>4.270537</td>\n",
       "      <td>0.467351</td>\n",
       "      <td>0.202326</td>\n",
       "      <td>1.384834</td>\n",
       "      <td>-0.378796</td>\n",
       "    </tr>\n",
       "    <tr>\n",
       "      <th>7471</th>\n",
       "      <td>-0.780235</td>\n",
       "      <td>0.411040</td>\n",
       "      <td>-0.223486</td>\n",
       "      <td>-0.206229</td>\n",
       "      <td>-0.323286</td>\n",
       "      <td>-0.190383</td>\n",
       "      <td>-0.024279</td>\n",
       "      <td>-0.0583</td>\n",
       "      <td>-0.282854</td>\n",
       "      <td>-0.076495</td>\n",
       "      <td>...</td>\n",
       "      <td>0.221358</td>\n",
       "      <td>0.823972</td>\n",
       "      <td>0.541500</td>\n",
       "      <td>-2.147359</td>\n",
       "      <td>1.515841</td>\n",
       "      <td>-1.987324</td>\n",
       "      <td>0.987402</td>\n",
       "      <td>1.654732</td>\n",
       "      <td>0.217211</td>\n",
       "      <td>0.324339</td>\n",
       "    </tr>\n",
       "  </tbody>\n",
       "</table>\n",
       "<p>3 rows × 121 columns</p>\n",
       "</div>"
      ],
      "text/plain": [
       "       Bathroom       Car  CouncilArea=Banyule  CouncilArea=Bayside  \\\n",
       "5799  -0.780235 -0.623608            -0.223486            -0.206229   \n",
       "10596 -0.780235 -0.623608            -0.223486            -0.206229   \n",
       "7471  -0.780235  0.411040            -0.223486            -0.206229   \n",
       "\n",
       "       CouncilArea=Boroondara  CouncilArea=Brimbank  CouncilArea=Cardinia  \\\n",
       "5799                -0.323286             -0.190383             -0.024279   \n",
       "10596               -0.323286             -0.190383             -0.024279   \n",
       "7471                -0.323286             -0.190383             -0.024279   \n",
       "\n",
       "       CouncilArea=Casey  CouncilArea=Darebin  CouncilArea=Frankston  ...  \\\n",
       "5799             -0.0583            -0.282854              -0.076495  ...   \n",
       "10596            -0.0583            -0.282854              -0.076495  ...   \n",
       "7471             -0.0583            -0.282854              -0.076495  ...   \n",
       "\n",
       "          pca11     pca12     pca13     pca14     pca15     pca16     pca17  \\\n",
       "5799  -0.578778 -0.815431  0.633562  0.186663 -0.523744 -1.727280  2.942312   \n",
       "10596 -4.036026 -2.230647  0.045709 -0.338053  3.155219  4.270537  0.467351   \n",
       "7471   0.221358  0.823972  0.541500 -2.147359  1.515841 -1.987324  0.987402   \n",
       "\n",
       "          pca18     pca19     pca20  \n",
       "5799  -1.214173 -1.991100 -0.017981  \n",
       "10596  0.202326  1.384834 -0.378796  \n",
       "7471   1.654732  0.217211  0.324339  \n",
       "\n",
       "[3 rows x 121 columns]"
      ]
     },
     "execution_count": 31,
     "metadata": {},
     "output_type": "execute_result"
    }
   ],
   "source": [
    "pca_df.head(3)"
   ]
  },
  {
   "cell_type": "code",
   "execution_count": 32,
   "metadata": {
    "colab": {
     "base_uri": "https://localhost:8080/",
     "height": 287
    },
    "id": "DfchYPgTxvQ4",
    "outputId": "c0bd0b28-1cb8-419c-e799-631045735021"
   },
   "outputs": [
    {
     "name": "stdout",
     "output_type": "stream",
     "text": [
      "Matrix has shape (13580, 11), with columns: ['Type=h', 'Type=t', 'Type=u', 'Regionname=Eastern Metropolitan', 'Regionname=Eastern Victoria', 'Regionname=Northern Metropolitan', 'Regionname=Northern Victoria', 'Regionname=South-Eastern Metropolitan', 'Regionname=Southern Metropolitan', 'Regionname=Western Metropolitan', 'Regionname=Western Victoria']\n",
      "----------\n",
      "Matrix has shape (13580, 13), with columns: ['Type=h', 'Type=t', 'Type=u', 'Regionname=Eastern Metropolitan', 'Regionname=Eastern Victoria', 'Regionname=Northern Metropolitan', 'Regionname=Northern Victoria', 'Regionname=South-Eastern Metropolitan', 'Regionname=Southern Metropolitan', 'Regionname=Western Metropolitan', 'Regionname=Western Victoria', 'Rooms', 'Distance']\n",
      "----------\n",
      "Matrix has shape (13580, 15), with columns: ['Type=h', 'Type=t', 'Type=u', 'Regionname=Eastern Metropolitan', 'Regionname=Eastern Victoria', 'Regionname=Northern Metropolitan', 'Regionname=Northern Victoria', 'Regionname=South-Eastern Metropolitan', 'Regionname=Southern Metropolitan', 'Regionname=Western Metropolitan', 'Regionname=Western Victoria', 'Rooms', 'Distance', 'pca1', 'pca2']\n",
      "----------\n"
     ]
    },
    {
     "data": {
      "text/html": [
       "<div>\n",
       "<style scoped>\n",
       "    .dataframe tbody tr th:only-of-type {\n",
       "        vertical-align: middle;\n",
       "    }\n",
       "\n",
       "    .dataframe tbody tr th {\n",
       "        vertical-align: top;\n",
       "    }\n",
       "\n",
       "    .dataframe thead th {\n",
       "        text-align: right;\n",
       "    }\n",
       "</style>\n",
       "<table border=\"1\" class=\"dataframe\">\n",
       "  <thead>\n",
       "    <tr style=\"text-align: right;\">\n",
       "      <th></th>\n",
       "      <th>Type=h</th>\n",
       "      <th>Type=t</th>\n",
       "      <th>Type=u</th>\n",
       "      <th>Regionname=Eastern Metropolitan</th>\n",
       "      <th>Regionname=Eastern Victoria</th>\n",
       "      <th>Regionname=Northern Metropolitan</th>\n",
       "      <th>Regionname=Northern Victoria</th>\n",
       "      <th>Regionname=South-Eastern Metropolitan</th>\n",
       "      <th>Regionname=Southern Metropolitan</th>\n",
       "      <th>Regionname=Western Metropolitan</th>\n",
       "      <th>Regionname=Western Victoria</th>\n",
       "      <th>Rooms</th>\n",
       "      <th>Distance</th>\n",
       "      <th>pca1</th>\n",
       "      <th>pca2</th>\n",
       "    </tr>\n",
       "  </thead>\n",
       "  <tbody>\n",
       "    <tr>\n",
       "      <th>0</th>\n",
       "      <td>1.0</td>\n",
       "      <td>0.0</td>\n",
       "      <td>0.0</td>\n",
       "      <td>0.0</td>\n",
       "      <td>0.0</td>\n",
       "      <td>1.0</td>\n",
       "      <td>0.0</td>\n",
       "      <td>0.0</td>\n",
       "      <td>0.0</td>\n",
       "      <td>0.0</td>\n",
       "      <td>0.0</td>\n",
       "      <td>2.0</td>\n",
       "      <td>2.5</td>\n",
       "      <td>-7.669418</td>\n",
       "      <td>-0.292703</td>\n",
       "    </tr>\n",
       "    <tr>\n",
       "      <th>1</th>\n",
       "      <td>1.0</td>\n",
       "      <td>0.0</td>\n",
       "      <td>0.0</td>\n",
       "      <td>0.0</td>\n",
       "      <td>0.0</td>\n",
       "      <td>1.0</td>\n",
       "      <td>0.0</td>\n",
       "      <td>0.0</td>\n",
       "      <td>0.0</td>\n",
       "      <td>0.0</td>\n",
       "      <td>0.0</td>\n",
       "      <td>2.0</td>\n",
       "      <td>2.5</td>\n",
       "      <td>-7.669418</td>\n",
       "      <td>-0.292703</td>\n",
       "    </tr>\n",
       "    <tr>\n",
       "      <th>2</th>\n",
       "      <td>1.0</td>\n",
       "      <td>0.0</td>\n",
       "      <td>0.0</td>\n",
       "      <td>0.0</td>\n",
       "      <td>0.0</td>\n",
       "      <td>1.0</td>\n",
       "      <td>0.0</td>\n",
       "      <td>0.0</td>\n",
       "      <td>0.0</td>\n",
       "      <td>0.0</td>\n",
       "      <td>0.0</td>\n",
       "      <td>3.0</td>\n",
       "      <td>2.5</td>\n",
       "      <td>-7.620201</td>\n",
       "      <td>0.619633</td>\n",
       "    </tr>\n",
       "    <tr>\n",
       "      <th>3</th>\n",
       "      <td>1.0</td>\n",
       "      <td>0.0</td>\n",
       "      <td>0.0</td>\n",
       "      <td>0.0</td>\n",
       "      <td>0.0</td>\n",
       "      <td>1.0</td>\n",
       "      <td>0.0</td>\n",
       "      <td>0.0</td>\n",
       "      <td>0.0</td>\n",
       "      <td>0.0</td>\n",
       "      <td>0.0</td>\n",
       "      <td>3.0</td>\n",
       "      <td>2.5</td>\n",
       "      <td>-7.620201</td>\n",
       "      <td>0.619633</td>\n",
       "    </tr>\n",
       "    <tr>\n",
       "      <th>4</th>\n",
       "      <td>1.0</td>\n",
       "      <td>0.0</td>\n",
       "      <td>0.0</td>\n",
       "      <td>0.0</td>\n",
       "      <td>0.0</td>\n",
       "      <td>1.0</td>\n",
       "      <td>0.0</td>\n",
       "      <td>0.0</td>\n",
       "      <td>0.0</td>\n",
       "      <td>0.0</td>\n",
       "      <td>0.0</td>\n",
       "      <td>4.0</td>\n",
       "      <td>2.5</td>\n",
       "      <td>-7.570984</td>\n",
       "      <td>1.531969</td>\n",
       "    </tr>\n",
       "  </tbody>\n",
       "</table>\n",
       "</div>"
      ],
      "text/plain": [
       "   Type=h  Type=t  Type=u  Regionname=Eastern Metropolitan  \\\n",
       "0     1.0     0.0     0.0                              0.0   \n",
       "1     1.0     0.0     0.0                              0.0   \n",
       "2     1.0     0.0     0.0                              0.0   \n",
       "3     1.0     0.0     0.0                              0.0   \n",
       "4     1.0     0.0     0.0                              0.0   \n",
       "\n",
       "   Regionname=Eastern Victoria  Regionname=Northern Metropolitan  \\\n",
       "0                          0.0                               1.0   \n",
       "1                          0.0                               1.0   \n",
       "2                          0.0                               1.0   \n",
       "3                          0.0                               1.0   \n",
       "4                          0.0                               1.0   \n",
       "\n",
       "   Regionname=Northern Victoria  Regionname=South-Eastern Metropolitan  \\\n",
       "0                           0.0                                    0.0   \n",
       "1                           0.0                                    0.0   \n",
       "2                           0.0                                    0.0   \n",
       "3                           0.0                                    0.0   \n",
       "4                           0.0                                    0.0   \n",
       "\n",
       "   Regionname=Southern Metropolitan  Regionname=Western Metropolitan  \\\n",
       "0                               0.0                              0.0   \n",
       "1                               0.0                              0.0   \n",
       "2                               0.0                              0.0   \n",
       "3                               0.0                              0.0   \n",
       "4                               0.0                              0.0   \n",
       "\n",
       "   Regionname=Western Victoria  Rooms  Distance      pca1      pca2  \n",
       "0                          0.0    2.0       2.5 -7.669418 -0.292703  \n",
       "1                          0.0    2.0       2.5 -7.669418 -0.292703  \n",
       "2                          0.0    3.0       2.5 -7.620201  0.619633  \n",
       "3                          0.0    3.0       2.5 -7.620201  0.619633  \n",
       "4                          0.0    4.0       2.5 -7.570984  1.531969  "
      ]
     },
     "execution_count": 32,
     "metadata": {},
     "output_type": "execute_result"
    }
   ],
   "source": [
    "## Small example\n",
    "from sklearn.decomposition import PCA\n",
    "from sklearn.preprocessing import OneHotEncoder\n",
    "\n",
    "## If we process our data with the following steps:\n",
    "categorical_cols = ['Type', 'Regionname']\n",
    "numerical_cols = ['Rooms', 'Distance']\n",
    "new_columns = []\n",
    "\n",
    "# Step 1: encode categorical columns\n",
    "encoder = OneHotEncoder(handle_unknown='ignore', sparse=False)\n",
    "X_cat = encoder.fit_transform(melb_df[categorical_cols])\n",
    "for col, col_values in zip(categorical_cols, encoder.categories_):\n",
    "    for col_value in col_values:\n",
    "        new_columns.append('{}={}'.format(col, col_value))\n",
    "print(\"Matrix has shape {}, with columns: {}\".format(X_cat.shape, new_columns))\n",
    "\n",
    "print('----------')\n",
    "\n",
    "# Step 2: Append the numerical columns\n",
    "X = numpy.hstack([X_cat, melb_df[numerical_cols].values])\n",
    "new_columns.extend(numerical_cols)\n",
    "print(\"Matrix has shape {}, with columns: {}\".format(X.shape, new_columns))\n",
    "\n",
    "print('----------')\n",
    "\n",
    "# Step 3: Append some new features, like PCA\n",
    "pca = PCA(n_components=2)\n",
    "pca_dummy_features = pca.fit_transform(X)\n",
    "X_pca = numpy.hstack([X, pca_dummy_features])\n",
    "new_columns.extend(['pca1', 'pca2'])\n",
    "print(\"Matrix has shape {}, with columns: {}\".format(X_pca.shape, new_columns))\n",
    "\n",
    "print('----------')\n",
    "\n",
    "## Re-build dataframe\n",
    "processed_melb_df = pandas.DataFrame(data=X_pca, columns=new_columns)\n",
    "processed_melb_df.head()"
   ]
  },
  {
   "cell_type": "markdown",
   "metadata": {
    "id": "mVBLFc8PhRtW"
   },
   "source": [
    "## Ejercicio 5: Documentación\n",
    "\n",
    "En un documento `.pdf` o `.md` realizar un reporte de las operaciones que realizaron para obtener el conjunto de datos final. Se debe incluir:\n",
    "\n",
    "  1. Criterios de exclusión (o inclusión) de filas\n",
    "  2. Interpretación de las columnas presentes\n",
    "  2. Todas las transformaciones realizadas\n",
    "\n",
    "Este documento es de uso técnico exclusivamente, y su objetivo es permitir que otros desarrolladores puedan reproducir los mismos pasos y obtener el mismo resultado. Debe ser detallado pero consiso. Por ejemplo:\n",
    "\n",
    "```\n",
    "  ## Criterios de exclusión de ejemplos\n",
    "  1. Se eliminan ejemplos donde el año de construcción es previo a 1900\n",
    "\n",
    "  ## Características seleccionadas\n",
    "  ### Características categóricas\n",
    "  1. Type: tipo de propiedad. 3 valores posibles\n",
    "  2. ...\n",
    "  Todas las características categóricas fueron codificadas con un\n",
    "  método OneHotEncoding utilizando como máximo sus 30 valores más \n",
    "  frecuentes.\n",
    "  \n",
    "  ### Características numéricas\n",
    "  1. Rooms: Cantidad de habitaciones\n",
    "  2. Distance: Distancia al centro de la ciudad.\n",
    "  3. airbnb_mean_price: Se agrega el precio promedio diario de \n",
    "     publicaciones de la plataforma AirBnB en el mismo código \n",
    "     postal. [Link al repositorio con datos externos].\n",
    "\n",
    "  ### Transformaciones:\n",
    "  1. Todas las características numéricas fueron estandarizadas.\n",
    "  2. La columna `Suburb` fue imputada utilizando el método ...\n",
    "  3. Las columnas `YearBuilt` y ... fueron imputadas utilizando el \n",
    "     algoritmo ...\n",
    "  4. ...\n",
    "\n",
    "  ### Datos aumentados\n",
    "  1. Se agregan las 5 primeras columnas obtenidas a través del\n",
    "     método de PCA, aplicado sobre el conjunto de datos\n",
    "     totalmente procesado.\n",
    "```"
   ]
  }
 ],
 "metadata": {
  "colab": {
   "collapsed_sections": [],
   "include_colab_link": true,
   "name": "Entregable Parte 2.ipynb",
   "provenance": []
  },
  "kernelspec": {
   "display_name": "Python 3",
   "language": "python",
   "name": "python3"
  },
  "language_info": {
   "codemirror_mode": {
    "name": "ipython",
    "version": 3
   },
   "file_extension": ".py",
   "mimetype": "text/x-python",
   "name": "python",
   "nbconvert_exporter": "python",
   "pygments_lexer": "ipython3",
   "version": "3.9.4"
  }
 },
 "nbformat": 4,
 "nbformat_minor": 1
}
