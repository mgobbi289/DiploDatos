{
 "cells": [
  {
   "cell_type": "markdown",
   "metadata": {
    "id": "zO4bRoxr2Apy"
   },
   "source": [
    "**Diplomatura en Ciencia de Datos, Aprendizaje Automático y sus Aplicaciones**\n",
    "\n",
    "**Exploración y Curación de Datos**\n",
    "\n",
    "*Edición 2021*\n",
    "\n",
    "----\n",
    "\n",
    "# Trabajo práctico entregable - parte 2\n",
    "\n",
    "\n",
    "En el ejercicio **1** de la *parte 1* del entregable seleccionaron las filas y columnas relevantes al problema de predicción de precios de una propiedad. Además de ello, tuvieron que reducir el número de valores posibles para las variables categóricas utilizando información de dominio.\n",
    "\n",
    "En el ejercicio **2** de la *parte 1* del entregable imputaron los valores faltantes de la columna `CouncilArea` y las columnas obtenidas a partir del conjunto de datos de **AirBnB**.\n",
    "\n",
    "En esta notebook, **se utilizarán los resultados de dichas operaciones**."
   ]
  },
  {
   "cell_type": "code",
   "execution_count": 1,
   "metadata": {
    "id": "4udjxjk1EtVU"
   },
   "outputs": [],
   "source": [
    "import matplotlib.pyplot as plt\n",
    "import numpy\n",
    "import pandas\n",
    "import seaborn\n",
    "\n",
    "seaborn.set_context('talk')"
   ]
  },
  {
   "cell_type": "code",
   "execution_count": 2,
   "metadata": {
    "colab": {
     "base_uri": "https://localhost:8080/",
     "height": 227
    },
    "id": "_qeFN3GnEvMk",
    "outputId": "02e6e659-1be0-414f-a6a0-8f8298bb84d7"
   },
   "outputs": [
    {
     "data": {
      "text/html": [
       "<div>\n",
       "<style scoped>\n",
       "    .dataframe tbody tr th:only-of-type {\n",
       "        vertical-align: middle;\n",
       "    }\n",
       "\n",
       "    .dataframe tbody tr th {\n",
       "        vertical-align: top;\n",
       "    }\n",
       "\n",
       "    .dataframe thead th {\n",
       "        text-align: right;\n",
       "    }\n",
       "</style>\n",
       "<table border=\"1\" class=\"dataframe\">\n",
       "  <thead>\n",
       "    <tr style=\"text-align: right;\">\n",
       "      <th></th>\n",
       "      <th>Suburb</th>\n",
       "      <th>Address</th>\n",
       "      <th>Rooms</th>\n",
       "      <th>Type</th>\n",
       "      <th>Price</th>\n",
       "      <th>Method</th>\n",
       "      <th>SellerG</th>\n",
       "      <th>Date</th>\n",
       "      <th>Distance</th>\n",
       "      <th>Postcode</th>\n",
       "      <th>...</th>\n",
       "      <th>Bathroom</th>\n",
       "      <th>Car</th>\n",
       "      <th>Landsize</th>\n",
       "      <th>BuildingArea</th>\n",
       "      <th>YearBuilt</th>\n",
       "      <th>CouncilArea</th>\n",
       "      <th>Lattitude</th>\n",
       "      <th>Longtitude</th>\n",
       "      <th>Regionname</th>\n",
       "      <th>Propertycount</th>\n",
       "    </tr>\n",
       "  </thead>\n",
       "  <tbody>\n",
       "    <tr>\n",
       "      <th>0</th>\n",
       "      <td>Abbotsford</td>\n",
       "      <td>85 Turner St</td>\n",
       "      <td>2</td>\n",
       "      <td>h</td>\n",
       "      <td>1480000.0</td>\n",
       "      <td>S</td>\n",
       "      <td>Biggin</td>\n",
       "      <td>3/12/2016</td>\n",
       "      <td>2.5</td>\n",
       "      <td>3067.0</td>\n",
       "      <td>...</td>\n",
       "      <td>1.0</td>\n",
       "      <td>1.0</td>\n",
       "      <td>202.0</td>\n",
       "      <td>NaN</td>\n",
       "      <td>NaN</td>\n",
       "      <td>Yarra</td>\n",
       "      <td>-37.7996</td>\n",
       "      <td>144.9984</td>\n",
       "      <td>Northern Metropolitan</td>\n",
       "      <td>4019.0</td>\n",
       "    </tr>\n",
       "    <tr>\n",
       "      <th>1</th>\n",
       "      <td>Abbotsford</td>\n",
       "      <td>25 Bloomburg St</td>\n",
       "      <td>2</td>\n",
       "      <td>h</td>\n",
       "      <td>1035000.0</td>\n",
       "      <td>S</td>\n",
       "      <td>Biggin</td>\n",
       "      <td>4/02/2016</td>\n",
       "      <td>2.5</td>\n",
       "      <td>3067.0</td>\n",
       "      <td>...</td>\n",
       "      <td>1.0</td>\n",
       "      <td>0.0</td>\n",
       "      <td>156.0</td>\n",
       "      <td>79.0</td>\n",
       "      <td>1900.0</td>\n",
       "      <td>Yarra</td>\n",
       "      <td>-37.8079</td>\n",
       "      <td>144.9934</td>\n",
       "      <td>Northern Metropolitan</td>\n",
       "      <td>4019.0</td>\n",
       "    </tr>\n",
       "    <tr>\n",
       "      <th>2</th>\n",
       "      <td>Abbotsford</td>\n",
       "      <td>5 Charles St</td>\n",
       "      <td>3</td>\n",
       "      <td>h</td>\n",
       "      <td>1465000.0</td>\n",
       "      <td>SP</td>\n",
       "      <td>Biggin</td>\n",
       "      <td>4/03/2017</td>\n",
       "      <td>2.5</td>\n",
       "      <td>3067.0</td>\n",
       "      <td>...</td>\n",
       "      <td>2.0</td>\n",
       "      <td>0.0</td>\n",
       "      <td>134.0</td>\n",
       "      <td>150.0</td>\n",
       "      <td>1900.0</td>\n",
       "      <td>Yarra</td>\n",
       "      <td>-37.8093</td>\n",
       "      <td>144.9944</td>\n",
       "      <td>Northern Metropolitan</td>\n",
       "      <td>4019.0</td>\n",
       "    </tr>\n",
       "  </tbody>\n",
       "</table>\n",
       "<p>3 rows × 21 columns</p>\n",
       "</div>"
      ],
      "text/plain": [
       "       Suburb          Address  Rooms Type      Price Method SellerG  \\\n",
       "0  Abbotsford     85 Turner St      2    h  1480000.0      S  Biggin   \n",
       "1  Abbotsford  25 Bloomburg St      2    h  1035000.0      S  Biggin   \n",
       "2  Abbotsford     5 Charles St      3    h  1465000.0     SP  Biggin   \n",
       "\n",
       "        Date  Distance  Postcode  ...  Bathroom  Car  Landsize  BuildingArea  \\\n",
       "0  3/12/2016       2.5    3067.0  ...       1.0  1.0     202.0           NaN   \n",
       "1  4/02/2016       2.5    3067.0  ...       1.0  0.0     156.0          79.0   \n",
       "2  4/03/2017       2.5    3067.0  ...       2.0  0.0     134.0         150.0   \n",
       "\n",
       "   YearBuilt  CouncilArea Lattitude  Longtitude             Regionname  \\\n",
       "0        NaN        Yarra  -37.7996    144.9984  Northern Metropolitan   \n",
       "1     1900.0        Yarra  -37.8079    144.9934  Northern Metropolitan   \n",
       "2     1900.0        Yarra  -37.8093    144.9944  Northern Metropolitan   \n",
       "\n",
       "  Propertycount  \n",
       "0        4019.0  \n",
       "1        4019.0  \n",
       "2        4019.0  \n",
       "\n",
       "[3 rows x 21 columns]"
      ]
     },
     "execution_count": 2,
     "metadata": {},
     "output_type": "execute_result"
    }
   ],
   "source": [
    "melb_df = pandas.read_csv('https://cs.famaf.unc.edu.ar/~mteruel/datasets/diplodatos/melb_data.csv')\n",
    "\n",
    "melb_df.head(3)"
   ]
  },
  {
   "cell_type": "code",
   "execution_count": 3,
   "metadata": {},
   "outputs": [
    {
     "data": {
      "text/html": [
       "<div>\n",
       "<style scoped>\n",
       "    .dataframe tbody tr th:only-of-type {\n",
       "        vertical-align: middle;\n",
       "    }\n",
       "\n",
       "    .dataframe tbody tr th {\n",
       "        vertical-align: top;\n",
       "    }\n",
       "\n",
       "    .dataframe thead th {\n",
       "        text-align: right;\n",
       "    }\n",
       "</style>\n",
       "<table border=\"1\" class=\"dataframe\">\n",
       "  <thead>\n",
       "    <tr style=\"text-align: right;\">\n",
       "      <th></th>\n",
       "      <th>Suburb</th>\n",
       "      <th>Rooms</th>\n",
       "      <th>Type</th>\n",
       "      <th>Price</th>\n",
       "      <th>Method</th>\n",
       "      <th>SellerG</th>\n",
       "      <th>Date</th>\n",
       "      <th>Distance</th>\n",
       "      <th>Postcode</th>\n",
       "      <th>Bathroom</th>\n",
       "      <th>...</th>\n",
       "      <th>Lattitude</th>\n",
       "      <th>Longtitude</th>\n",
       "      <th>Regionname</th>\n",
       "      <th>Propertycount</th>\n",
       "      <th>zipcode</th>\n",
       "      <th>bnb_price_mean</th>\n",
       "      <th>bnb_latitude_mean</th>\n",
       "      <th>bnb_longitude_mean</th>\n",
       "      <th>bnb_city_mode</th>\n",
       "      <th>bnb_suburb_mode</th>\n",
       "    </tr>\n",
       "  </thead>\n",
       "  <tbody>\n",
       "    <tr>\n",
       "      <th>0</th>\n",
       "      <td>Abbotsford</td>\n",
       "      <td>2</td>\n",
       "      <td>h</td>\n",
       "      <td>1480000.0</td>\n",
       "      <td>S</td>\n",
       "      <td>Biggin</td>\n",
       "      <td>2016Q1</td>\n",
       "      <td>2.5</td>\n",
       "      <td>3067.0</td>\n",
       "      <td>1.0</td>\n",
       "      <td>...</td>\n",
       "      <td>-37.7996</td>\n",
       "      <td>144.9984</td>\n",
       "      <td>Northern Metropolitan</td>\n",
       "      <td>4019.0</td>\n",
       "      <td>3067.0</td>\n",
       "      <td>120.082677</td>\n",
       "      <td>-37.806091</td>\n",
       "      <td>145.000977</td>\n",
       "      <td>Yarra</td>\n",
       "      <td>Abbotsford</td>\n",
       "    </tr>\n",
       "    <tr>\n",
       "      <th>1</th>\n",
       "      <td>Abbotsford</td>\n",
       "      <td>2</td>\n",
       "      <td>h</td>\n",
       "      <td>1035000.0</td>\n",
       "      <td>S</td>\n",
       "      <td>Biggin</td>\n",
       "      <td>2016Q2</td>\n",
       "      <td>2.5</td>\n",
       "      <td>3067.0</td>\n",
       "      <td>1.0</td>\n",
       "      <td>...</td>\n",
       "      <td>-37.8079</td>\n",
       "      <td>144.9934</td>\n",
       "      <td>Northern Metropolitan</td>\n",
       "      <td>4019.0</td>\n",
       "      <td>3067.0</td>\n",
       "      <td>120.082677</td>\n",
       "      <td>-37.806091</td>\n",
       "      <td>145.000977</td>\n",
       "      <td>Yarra</td>\n",
       "      <td>Abbotsford</td>\n",
       "    </tr>\n",
       "    <tr>\n",
       "      <th>2</th>\n",
       "      <td>Abbotsford</td>\n",
       "      <td>3</td>\n",
       "      <td>h</td>\n",
       "      <td>1465000.0</td>\n",
       "      <td>SP</td>\n",
       "      <td>Biggin</td>\n",
       "      <td>2017Q2</td>\n",
       "      <td>2.5</td>\n",
       "      <td>3067.0</td>\n",
       "      <td>2.0</td>\n",
       "      <td>...</td>\n",
       "      <td>-37.8093</td>\n",
       "      <td>144.9944</td>\n",
       "      <td>Northern Metropolitan</td>\n",
       "      <td>4019.0</td>\n",
       "      <td>3067.0</td>\n",
       "      <td>120.082677</td>\n",
       "      <td>-37.806091</td>\n",
       "      <td>145.000977</td>\n",
       "      <td>Yarra</td>\n",
       "      <td>Abbotsford</td>\n",
       "    </tr>\n",
       "  </tbody>\n",
       "</table>\n",
       "<p>3 rows × 23 columns</p>\n",
       "</div>"
      ],
      "text/plain": [
       "       Suburb  Rooms Type      Price Method SellerG    Date  Distance  \\\n",
       "0  Abbotsford      2    h  1480000.0      S  Biggin  2016Q1       2.5   \n",
       "1  Abbotsford      2    h  1035000.0      S  Biggin  2016Q2       2.5   \n",
       "2  Abbotsford      3    h  1465000.0     SP  Biggin  2017Q2       2.5   \n",
       "\n",
       "   Postcode  Bathroom  ...  Lattitude  Longtitude             Regionname  \\\n",
       "0    3067.0       1.0  ...   -37.7996    144.9984  Northern Metropolitan   \n",
       "1    3067.0       1.0  ...   -37.8079    144.9934  Northern Metropolitan   \n",
       "2    3067.0       2.0  ...   -37.8093    144.9944  Northern Metropolitan   \n",
       "\n",
       "   Propertycount  zipcode bnb_price_mean  bnb_latitude_mean  \\\n",
       "0         4019.0   3067.0     120.082677         -37.806091   \n",
       "1         4019.0   3067.0     120.082677         -37.806091   \n",
       "2         4019.0   3067.0     120.082677         -37.806091   \n",
       "\n",
       "   bnb_longitude_mean  bnb_city_mode  bnb_suburb_mode  \n",
       "0          145.000977          Yarra       Abbotsford  \n",
       "1          145.000977          Yarra       Abbotsford  \n",
       "2          145.000977          Yarra       Abbotsford  \n",
       "\n",
       "[3 rows x 23 columns]"
      ]
     },
     "execution_count": 3,
     "metadata": {},
     "output_type": "execute_result"
    }
   ],
   "source": [
    "df = pandas.read_csv('DataSet/curated_dataset.csv')\n",
    "\n",
    "df.head(3)"
   ]
  },
  {
   "cell_type": "markdown",
   "metadata": {},
   "source": [
    "#### Eliminamos las variables `SellerG`, `Suburb`,  y `bnb_suburb_mode`\n",
    "\n",
    "Lamentablemente no contamos con los recursos necesarios para correr **KNN** sobre nuestro conjunto de datos entero.\n",
    "Por lo tanto se tomó la decisión de eliminar las variables categóricas que poseen la mayor cantidad de categorías, en un intento por reducir la dimensionalidad de la matriz resultante (luego de aplicar el *encoding*); y poder de esta manera, continuar con la curación de los datos."
   ]
  },
  {
   "cell_type": "code",
   "execution_count": 4,
   "metadata": {},
   "outputs": [
    {
     "data": {
      "text/plain": [
       "314"
      ]
     },
     "execution_count": 4,
     "metadata": {},
     "output_type": "execute_result"
    }
   ],
   "source": [
    "df.Suburb.nunique()"
   ]
  },
  {
   "cell_type": "code",
   "execution_count": 5,
   "metadata": {},
   "outputs": [
    {
     "data": {
      "text/plain": [
       "191"
      ]
     },
     "execution_count": 5,
     "metadata": {},
     "output_type": "execute_result"
    }
   ],
   "source": [
    "df.bnb_suburb_mode.nunique()"
   ]
  },
  {
   "cell_type": "code",
   "execution_count": 6,
   "metadata": {},
   "outputs": [
    {
     "data": {
      "text/plain": [
       "191"
      ]
     },
     "execution_count": 6,
     "metadata": {},
     "output_type": "execute_result"
    }
   ],
   "source": [
    "df.SellerG.nunique()"
   ]
  },
  {
   "cell_type": "code",
   "execution_count": 7,
   "metadata": {},
   "outputs": [],
   "source": [
    "df = df.drop(['SellerG', 'Suburb', 'bnb_suburb_mode'], axis=1)"
   ]
  },
  {
   "cell_type": "markdown",
   "metadata": {
    "id": "s-mixICN22kA"
   },
   "source": [
    "## Ejercicio 1: Encoding\n",
    "\n",
    "1. Seleccionar todas las filas y columnas del conjunto de datos obtenido en la *parte 1* del entregable, **excepto** `BuildingArea` y `YearBuilt`, que volveremos a imputar más adelante.\n",
    "\n",
    "2. Aplicar una codificación *One-hot encoding* a cada fila, tanto para variables numéricas como categóricas. Si lo consideran necesario, pueden volver a reducir el número de categorías únicas.\n",
    "\n",
    "Algunas opciones:\n",
    "  1. Utilizar `OneHotEncoder` junto con el parámetro `categories` para las variables categóricas, y luego usar `numpy.hstack` para concatenar el resultado con las variables numéricas. \n",
    "  2. `DictVectorizer` con algunos pasos de pre-proceso previo.\n",
    "\n",
    "Recordar también que el atributo `pandas.DataFrame.values` permite acceder a la matriz de *numpy* subyacente a un *DataFrame*."
   ]
  },
  {
   "cell_type": "code",
   "execution_count": 8,
   "metadata": {},
   "outputs": [
    {
     "data": {
      "text/plain": [
       "(13580, 20)"
      ]
     },
     "execution_count": 8,
     "metadata": {},
     "output_type": "execute_result"
    }
   ],
   "source": [
    "df.shape"
   ]
  },
  {
   "cell_type": "code",
   "execution_count": 9,
   "metadata": {},
   "outputs": [
    {
     "data": {
      "text/plain": [
       "{'Rooms': 2,\n",
       " 'Type': 'h',\n",
       " 'Price': 1480000.0,\n",
       " 'Method': 'S',\n",
       " 'Date': '2016Q1',\n",
       " 'Distance': 2.5,\n",
       " 'Postcode': 3067.0,\n",
       " 'Bathroom': 1.0,\n",
       " 'Car': 1.0,\n",
       " 'Landsize': 202.0,\n",
       " 'CouncilArea': 'Yarra',\n",
       " 'Lattitude': -37.7996,\n",
       " 'Longtitude': 144.9984,\n",
       " 'Regionname': 'Northern Metropolitan',\n",
       " 'Propertycount': 4019.0,\n",
       " 'zipcode': 3067.0,\n",
       " 'bnb_price_mean': 120.08267716535431,\n",
       " 'bnb_latitude_mean': -37.80609081153544,\n",
       " 'bnb_longitude_mean': 145.00097749448815,\n",
       " 'bnb_city_mode': 'Yarra'}"
      ]
     },
     "execution_count": 9,
     "metadata": {},
     "output_type": "execute_result"
    }
   ],
   "source": [
    "feature_dict = list(df.T.to_dict().values())\n",
    "\n",
    "feature_dict[0]"
   ]
  },
  {
   "cell_type": "code",
   "execution_count": 10,
   "metadata": {},
   "outputs": [],
   "source": [
    "from sklearn.feature_extraction import DictVectorizer\n",
    "\n",
    "vec = DictVectorizer()\n",
    "feature_matrix = vec.fit_transform(feature_dict)"
   ]
  },
  {
   "cell_type": "code",
   "execution_count": 11,
   "metadata": {},
   "outputs": [
    {
     "data": {
      "text/plain": [
       "<13580x99 sparse matrix of type '<class 'numpy.float64'>'\n",
       "\twith 271600 stored elements in Compressed Sparse Row format>"
      ]
     },
     "execution_count": 11,
     "metadata": {},
     "output_type": "execute_result"
    }
   ],
   "source": [
    "feature_matrix"
   ]
  },
  {
   "cell_type": "markdown",
   "metadata": {},
   "source": [
    "De las **99** columnas...\n",
    "\n",
    "- **3** son por `Type`.\n",
    "- **5** son por `Method`.\n",
    "- **6** son por `Regionname`.\n",
    "- **8** son por `Date`.\n",
    "- **30** son por `bnb_city_mode`.\n",
    "- **33** son por `CouncilArea`.\n",
    "\n",
    "Y el resto (**14**) son por las variables numéricas `Rooms`, `Price`, `Distance`, `Postcode`, `Bathroom`, `Car`, `Landsize`, `Lattitude`, `Longitude`, `Propertycount`, `zipcode`, `bnb_price_mean`, `bnb_latitude_mean`, `bnb_longitude_mean`."
   ]
  },
  {
   "cell_type": "markdown",
   "metadata": {},
   "source": [
    "#### Reconstruimos el Data Frame"
   ]
  },
  {
   "cell_type": "code",
   "execution_count": 12,
   "metadata": {},
   "outputs": [
    {
     "name": "stdout",
     "output_type": "stream",
     "text": [
      "La matriz DENSA ocupará aproximadamente 5.13 MB\n"
     ]
    }
   ],
   "source": [
    "# Calculamos el tamaño estimado de la matriz densa.\n",
    "size_MB = feature_matrix.shape[0] * feature_matrix.shape[1] * 4 / 1024 / 1024\n",
    "print(\"La matriz DENSA ocupará aproximadamente {:.2f} MB\".format(size_MB))"
   ]
  },
  {
   "cell_type": "code",
   "execution_count": 13,
   "metadata": {},
   "outputs": [
    {
     "name": "stdout",
     "output_type": "stream",
     "text": [
      "Tamaño: 5.13 MB\n"
     ]
    }
   ],
   "source": [
    "precision_type = numpy.float32\n",
    "\n",
    "dense_feature_matrix = feature_matrix.astype(precision_type).todense()\n",
    "\n",
    "print(\"Tamaño: {:.2f} MB\".format(dense_feature_matrix.nbytes / 1024 / 1024))"
   ]
  },
  {
   "cell_type": "code",
   "execution_count": 14,
   "metadata": {},
   "outputs": [
    {
     "data": {
      "text/html": [
       "<div>\n",
       "<style scoped>\n",
       "    .dataframe tbody tr th:only-of-type {\n",
       "        vertical-align: middle;\n",
       "    }\n",
       "\n",
       "    .dataframe tbody tr th {\n",
       "        vertical-align: top;\n",
       "    }\n",
       "\n",
       "    .dataframe thead th {\n",
       "        text-align: right;\n",
       "    }\n",
       "</style>\n",
       "<table border=\"1\" class=\"dataframe\">\n",
       "  <thead>\n",
       "    <tr style=\"text-align: right;\">\n",
       "      <th></th>\n",
       "      <th>Bathroom</th>\n",
       "      <th>Car</th>\n",
       "      <th>CouncilArea=Banyule</th>\n",
       "      <th>CouncilArea=Bayside</th>\n",
       "      <th>CouncilArea=Boroondara</th>\n",
       "      <th>CouncilArea=Brimbank</th>\n",
       "      <th>CouncilArea=Cardinia</th>\n",
       "      <th>CouncilArea=Casey</th>\n",
       "      <th>CouncilArea=Darebin</th>\n",
       "      <th>CouncilArea=Frankston</th>\n",
       "      <th>...</th>\n",
       "      <th>bnb_city_mode=Stonnington</th>\n",
       "      <th>bnb_city_mode=Whitehorse</th>\n",
       "      <th>bnb_city_mode=Whittlesea</th>\n",
       "      <th>bnb_city_mode=Wyndham</th>\n",
       "      <th>bnb_city_mode=Yarra</th>\n",
       "      <th>bnb_city_mode=Yarra Ranges</th>\n",
       "      <th>bnb_latitude_mean</th>\n",
       "      <th>bnb_longitude_mean</th>\n",
       "      <th>bnb_price_mean</th>\n",
       "      <th>zipcode</th>\n",
       "    </tr>\n",
       "  </thead>\n",
       "  <tbody>\n",
       "    <tr>\n",
       "      <th>0</th>\n",
       "      <td>1.0</td>\n",
       "      <td>1.0</td>\n",
       "      <td>0.0</td>\n",
       "      <td>0.0</td>\n",
       "      <td>0.0</td>\n",
       "      <td>0.0</td>\n",
       "      <td>0.0</td>\n",
       "      <td>0.0</td>\n",
       "      <td>0.0</td>\n",
       "      <td>0.0</td>\n",
       "      <td>...</td>\n",
       "      <td>0.0</td>\n",
       "      <td>0.0</td>\n",
       "      <td>0.0</td>\n",
       "      <td>0.0</td>\n",
       "      <td>1.0</td>\n",
       "      <td>0.0</td>\n",
       "      <td>-37.806091</td>\n",
       "      <td>145.000977</td>\n",
       "      <td>120.08268</td>\n",
       "      <td>3067.0</td>\n",
       "    </tr>\n",
       "    <tr>\n",
       "      <th>1</th>\n",
       "      <td>1.0</td>\n",
       "      <td>0.0</td>\n",
       "      <td>0.0</td>\n",
       "      <td>0.0</td>\n",
       "      <td>0.0</td>\n",
       "      <td>0.0</td>\n",
       "      <td>0.0</td>\n",
       "      <td>0.0</td>\n",
       "      <td>0.0</td>\n",
       "      <td>0.0</td>\n",
       "      <td>...</td>\n",
       "      <td>0.0</td>\n",
       "      <td>0.0</td>\n",
       "      <td>0.0</td>\n",
       "      <td>0.0</td>\n",
       "      <td>1.0</td>\n",
       "      <td>0.0</td>\n",
       "      <td>-37.806091</td>\n",
       "      <td>145.000977</td>\n",
       "      <td>120.08268</td>\n",
       "      <td>3067.0</td>\n",
       "    </tr>\n",
       "    <tr>\n",
       "      <th>2</th>\n",
       "      <td>2.0</td>\n",
       "      <td>0.0</td>\n",
       "      <td>0.0</td>\n",
       "      <td>0.0</td>\n",
       "      <td>0.0</td>\n",
       "      <td>0.0</td>\n",
       "      <td>0.0</td>\n",
       "      <td>0.0</td>\n",
       "      <td>0.0</td>\n",
       "      <td>0.0</td>\n",
       "      <td>...</td>\n",
       "      <td>0.0</td>\n",
       "      <td>0.0</td>\n",
       "      <td>0.0</td>\n",
       "      <td>0.0</td>\n",
       "      <td>1.0</td>\n",
       "      <td>0.0</td>\n",
       "      <td>-37.806091</td>\n",
       "      <td>145.000977</td>\n",
       "      <td>120.08268</td>\n",
       "      <td>3067.0</td>\n",
       "    </tr>\n",
       "  </tbody>\n",
       "</table>\n",
       "<p>3 rows × 99 columns</p>\n",
       "</div>"
      ],
      "text/plain": [
       "   Bathroom  Car  CouncilArea=Banyule  CouncilArea=Bayside  \\\n",
       "0       1.0  1.0                  0.0                  0.0   \n",
       "1       1.0  0.0                  0.0                  0.0   \n",
       "2       2.0  0.0                  0.0                  0.0   \n",
       "\n",
       "   CouncilArea=Boroondara  CouncilArea=Brimbank  CouncilArea=Cardinia  \\\n",
       "0                     0.0                   0.0                   0.0   \n",
       "1                     0.0                   0.0                   0.0   \n",
       "2                     0.0                   0.0                   0.0   \n",
       "\n",
       "   CouncilArea=Casey  CouncilArea=Darebin  CouncilArea=Frankston  ...  \\\n",
       "0                0.0                  0.0                    0.0  ...   \n",
       "1                0.0                  0.0                    0.0  ...   \n",
       "2                0.0                  0.0                    0.0  ...   \n",
       "\n",
       "   bnb_city_mode=Stonnington  bnb_city_mode=Whitehorse  \\\n",
       "0                        0.0                       0.0   \n",
       "1                        0.0                       0.0   \n",
       "2                        0.0                       0.0   \n",
       "\n",
       "   bnb_city_mode=Whittlesea  bnb_city_mode=Wyndham  bnb_city_mode=Yarra  \\\n",
       "0                       0.0                    0.0                  1.0   \n",
       "1                       0.0                    0.0                  1.0   \n",
       "2                       0.0                    0.0                  1.0   \n",
       "\n",
       "   bnb_city_mode=Yarra Ranges  bnb_latitude_mean  bnb_longitude_mean  \\\n",
       "0                         0.0         -37.806091          145.000977   \n",
       "1                         0.0         -37.806091          145.000977   \n",
       "2                         0.0         -37.806091          145.000977   \n",
       "\n",
       "   bnb_price_mean  zipcode  \n",
       "0       120.08268   3067.0  \n",
       "1       120.08268   3067.0  \n",
       "2       120.08268   3067.0  \n",
       "\n",
       "[3 rows x 99 columns]"
      ]
     },
     "execution_count": 14,
     "metadata": {},
     "output_type": "execute_result"
    }
   ],
   "source": [
    "encoded_df = pandas.DataFrame(data=dense_feature_matrix, columns=vec.get_feature_names())\n",
    "\n",
    "encoded_df.head(3)"
   ]
  },
  {
   "cell_type": "code",
   "execution_count": 15,
   "metadata": {},
   "outputs": [
    {
     "data": {
      "text/plain": [
       "(13580, 99)"
      ]
     },
     "execution_count": 15,
     "metadata": {},
     "output_type": "execute_result"
    }
   ],
   "source": [
    "encoded_df.shape"
   ]
  },
  {
   "cell_type": "markdown",
   "metadata": {
    "id": "ismngxPcfoWb"
   },
   "source": [
    "## Ejercicio 2: Imputación por KNN\n",
    "\n",
    "En el teórico se presentó el método `IterativeImputer` para imputar valores faltantes en variables numéricas. Sin embargo, los ejemplos presentados sólo utilizaban algunas variables numéricas presentes en el conjunto de datos. En este ejercicio, utilizaremos la matriz de datos codificada para imputar datos faltantes de manera más precisa.\n",
    "\n",
    "1. Agregue a la matriz obtenida en el punto anterior las columnas `YearBuilt` y `BuildingArea`.\n",
    "2. Aplique una instancia de `IterativeImputer` con un estimador `KNeighborsRegressor` para imputar los valores de las variables. ¿Es necesario estandarizar o escalar los datos previamente?\n",
    "3. Realice un gráfico mostrando la distribución de cada variable antes de ser imputada, y con ambos métodos de imputación."
   ]
  },
  {
   "cell_type": "code",
   "execution_count": 16,
   "metadata": {},
   "outputs": [],
   "source": [
    "relevant_cols = ['BuildingArea', 'YearBuilt']"
   ]
  },
  {
   "cell_type": "code",
   "execution_count": 17,
   "metadata": {},
   "outputs": [
    {
     "data": {
      "text/html": [
       "<div>\n",
       "<style scoped>\n",
       "    .dataframe tbody tr th:only-of-type {\n",
       "        vertical-align: middle;\n",
       "    }\n",
       "\n",
       "    .dataframe tbody tr th {\n",
       "        vertical-align: top;\n",
       "    }\n",
       "\n",
       "    .dataframe thead th {\n",
       "        text-align: right;\n",
       "    }\n",
       "</style>\n",
       "<table border=\"1\" class=\"dataframe\">\n",
       "  <thead>\n",
       "    <tr style=\"text-align: right;\">\n",
       "      <th></th>\n",
       "      <th>Bathroom</th>\n",
       "      <th>Car</th>\n",
       "      <th>CouncilArea=Banyule</th>\n",
       "      <th>CouncilArea=Bayside</th>\n",
       "      <th>CouncilArea=Boroondara</th>\n",
       "      <th>CouncilArea=Brimbank</th>\n",
       "      <th>CouncilArea=Cardinia</th>\n",
       "      <th>CouncilArea=Casey</th>\n",
       "      <th>CouncilArea=Darebin</th>\n",
       "      <th>CouncilArea=Frankston</th>\n",
       "      <th>...</th>\n",
       "      <th>bnb_city_mode=Whittlesea</th>\n",
       "      <th>bnb_city_mode=Wyndham</th>\n",
       "      <th>bnb_city_mode=Yarra</th>\n",
       "      <th>bnb_city_mode=Yarra Ranges</th>\n",
       "      <th>bnb_latitude_mean</th>\n",
       "      <th>bnb_longitude_mean</th>\n",
       "      <th>bnb_price_mean</th>\n",
       "      <th>zipcode</th>\n",
       "      <th>BuildingArea</th>\n",
       "      <th>YearBuilt</th>\n",
       "    </tr>\n",
       "  </thead>\n",
       "  <tbody>\n",
       "    <tr>\n",
       "      <th>0</th>\n",
       "      <td>1.0</td>\n",
       "      <td>1.0</td>\n",
       "      <td>0.0</td>\n",
       "      <td>0.0</td>\n",
       "      <td>0.0</td>\n",
       "      <td>0.0</td>\n",
       "      <td>0.0</td>\n",
       "      <td>0.0</td>\n",
       "      <td>0.0</td>\n",
       "      <td>0.0</td>\n",
       "      <td>...</td>\n",
       "      <td>0.0</td>\n",
       "      <td>0.0</td>\n",
       "      <td>1.0</td>\n",
       "      <td>0.0</td>\n",
       "      <td>-37.806091</td>\n",
       "      <td>145.000977</td>\n",
       "      <td>120.08268</td>\n",
       "      <td>3067.0</td>\n",
       "      <td>NaN</td>\n",
       "      <td>NaN</td>\n",
       "    </tr>\n",
       "    <tr>\n",
       "      <th>1</th>\n",
       "      <td>1.0</td>\n",
       "      <td>0.0</td>\n",
       "      <td>0.0</td>\n",
       "      <td>0.0</td>\n",
       "      <td>0.0</td>\n",
       "      <td>0.0</td>\n",
       "      <td>0.0</td>\n",
       "      <td>0.0</td>\n",
       "      <td>0.0</td>\n",
       "      <td>0.0</td>\n",
       "      <td>...</td>\n",
       "      <td>0.0</td>\n",
       "      <td>0.0</td>\n",
       "      <td>1.0</td>\n",
       "      <td>0.0</td>\n",
       "      <td>-37.806091</td>\n",
       "      <td>145.000977</td>\n",
       "      <td>120.08268</td>\n",
       "      <td>3067.0</td>\n",
       "      <td>79.0</td>\n",
       "      <td>1900.0</td>\n",
       "    </tr>\n",
       "    <tr>\n",
       "      <th>2</th>\n",
       "      <td>2.0</td>\n",
       "      <td>0.0</td>\n",
       "      <td>0.0</td>\n",
       "      <td>0.0</td>\n",
       "      <td>0.0</td>\n",
       "      <td>0.0</td>\n",
       "      <td>0.0</td>\n",
       "      <td>0.0</td>\n",
       "      <td>0.0</td>\n",
       "      <td>0.0</td>\n",
       "      <td>...</td>\n",
       "      <td>0.0</td>\n",
       "      <td>0.0</td>\n",
       "      <td>1.0</td>\n",
       "      <td>0.0</td>\n",
       "      <td>-37.806091</td>\n",
       "      <td>145.000977</td>\n",
       "      <td>120.08268</td>\n",
       "      <td>3067.0</td>\n",
       "      <td>150.0</td>\n",
       "      <td>1900.0</td>\n",
       "    </tr>\n",
       "  </tbody>\n",
       "</table>\n",
       "<p>3 rows × 101 columns</p>\n",
       "</div>"
      ],
      "text/plain": [
       "   Bathroom  Car  CouncilArea=Banyule  CouncilArea=Bayside  \\\n",
       "0       1.0  1.0                  0.0                  0.0   \n",
       "1       1.0  0.0                  0.0                  0.0   \n",
       "2       2.0  0.0                  0.0                  0.0   \n",
       "\n",
       "   CouncilArea=Boroondara  CouncilArea=Brimbank  CouncilArea=Cardinia  \\\n",
       "0                     0.0                   0.0                   0.0   \n",
       "1                     0.0                   0.0                   0.0   \n",
       "2                     0.0                   0.0                   0.0   \n",
       "\n",
       "   CouncilArea=Casey  CouncilArea=Darebin  CouncilArea=Frankston  ...  \\\n",
       "0                0.0                  0.0                    0.0  ...   \n",
       "1                0.0                  0.0                    0.0  ...   \n",
       "2                0.0                  0.0                    0.0  ...   \n",
       "\n",
       "   bnb_city_mode=Whittlesea  bnb_city_mode=Wyndham  bnb_city_mode=Yarra  \\\n",
       "0                       0.0                    0.0                  1.0   \n",
       "1                       0.0                    0.0                  1.0   \n",
       "2                       0.0                    0.0                  1.0   \n",
       "\n",
       "   bnb_city_mode=Yarra Ranges  bnb_latitude_mean  bnb_longitude_mean  \\\n",
       "0                         0.0         -37.806091          145.000977   \n",
       "1                         0.0         -37.806091          145.000977   \n",
       "2                         0.0         -37.806091          145.000977   \n",
       "\n",
       "   bnb_price_mean  zipcode  BuildingArea  YearBuilt  \n",
       "0       120.08268   3067.0           NaN        NaN  \n",
       "1       120.08268   3067.0          79.0     1900.0  \n",
       "2       120.08268   3067.0         150.0     1900.0  \n",
       "\n",
       "[3 rows x 101 columns]"
      ]
     },
     "execution_count": 17,
     "metadata": {},
     "output_type": "execute_result"
    }
   ],
   "source": [
    "join_df = encoded_df.join(melb_df[relevant_cols], how='left')\n",
    "\n",
    "join_df.head(3)"
   ]
  },
  {
   "cell_type": "markdown",
   "metadata": {},
   "source": [
    "**Observaciones**\n",
    "\n",
    "[Why is scaling required in KNN and K-Means?](https://medium.com/analytics-vidhya/why-is-scaling-required-in-knn-and-k-means-8129e4d88ed7)\n",
    "\n",
    "**KNN** and **K-Means** are one of the most commonly and widely used machine learning algorithms.\n",
    "**KNN** is a supervised learning algorithm and can be used to solve both classification as well as regression problems.\n",
    "**K-Means**, on the other hand, is an unsupervised learning algorithm which is widely used to cluster data into different groups.\n",
    "One thing which is common in both these algorithms is that both **KNN** and **K-Means** are distance based algorithms.\n",
    "**KNN** chooses the *k* closest neighbors and then based on these neighbors, assigns a class (for classification problems) or predicts a value (for regression problems) for a new observation.\n",
    "**K-Means** clusters the similar points together.\n",
    "The similarity here is defined by the distance between the points.\n",
    "Lesser the distance between the points, more is the similarity and vice versa.\n",
    "\n",
    "[K-Nearest Neighbors](https://towardsdatascience.com/k-nearest-neighbors-94395f445221)\n",
    "\n",
    "**KNN** can be very sensitive to the scale of data as it relies on computing the distances.\n",
    "For features with a higher scale, the calculated distances can be very high and might produce poor results.\n",
    "It is thus advised to scale the data before running the **KNN**."
   ]
  },
  {
   "cell_type": "code",
   "execution_count": 18,
   "metadata": {},
   "outputs": [],
   "source": [
    "from sklearn.preprocessing import StandardScaler\n",
    "\n",
    "scaler = StandardScaler()\n",
    "\n",
    "scaled_matrix = scaler.fit_transform(join_df)\n",
    "\n",
    "scaled_df = pandas.DataFrame(data=scaled_matrix, columns=join_df.columns)"
   ]
  },
  {
   "cell_type": "code",
   "execution_count": 19,
   "metadata": {},
   "outputs": [],
   "source": [
    "from sklearn.experimental import enable_iterative_imputer\n",
    "from sklearn.neighbors import KNeighborsRegressor\n",
    "from sklearn.impute import IterativeImputer\n",
    "\n",
    "mice_imputer = IterativeImputer(random_state=0, estimator=KNeighborsRegressor())"
   ]
  },
  {
   "cell_type": "code",
   "execution_count": 20,
   "metadata": {
    "colab": {
     "base_uri": "https://localhost:8080/"
    },
    "id": "G4ClSr_JapCw",
    "outputId": "9468199f-071a-4514-c62b-e161a6113f18"
   },
   "outputs": [
    {
     "name": "stderr",
     "output_type": "stream",
     "text": [
      "/home/pablo/.local/lib/python3.7/site-packages/sklearn/impute/_iterative.py:670: ConvergenceWarning: [IterativeImputer] Early stopping criterion not reached.\n",
      "  \" reached.\", ConvergenceWarning)\n"
     ]
    }
   ],
   "source": [
    "# Solo las variables 'BuildingArea' y 'YearBuilt' del DF.\n",
    "mice_df = scaled_df.copy(deep=True)\n",
    "\n",
    "mice_df[relevant_cols] = mice_imputer.fit_transform(mice_df[relevant_cols])"
   ]
  },
  {
   "cell_type": "markdown",
   "metadata": {},
   "source": [
    "La *advertencia* se produce porque el algoritmo no llega a convergir con la cantidad máxima de iteraciones.\n",
    "Al graficar será evidente esta situación."
   ]
  },
  {
   "cell_type": "code",
   "execution_count": 21,
   "metadata": {
    "colab": {
     "base_uri": "https://localhost:8080/"
    },
    "id": "G4ClSr_JapCw",
    "outputId": "9468199f-071a-4514-c62b-e161a6113f18"
   },
   "outputs": [
    {
     "name": "stderr",
     "output_type": "stream",
     "text": [
      "/home/pablo/.local/lib/python3.7/site-packages/sklearn/impute/_iterative.py:670: ConvergenceWarning: [IterativeImputer] Early stopping criterion not reached.\n",
      "  \" reached.\", ConvergenceWarning)\n"
     ]
    }
   ],
   "source": [
    "# Todas las variables del DF.\n",
    "#full_mice_df = scaled_df.sample(4000, random_state=123).copy(deep=True)\n",
    "full_mice_df = scaled_df.copy(deep=True)\n",
    "\n",
    "full_mice_df[:] = mice_imputer.fit_transform(full_mice_df)"
   ]
  },
  {
   "cell_type": "markdown",
   "metadata": {
    "id": "ImjXQZUbVoKH"
   },
   "source": [
    "Ejemplo de gráfico comparando las distribuciones de datos obtenidas con cada método de imputación."
   ]
  },
  {
   "cell_type": "code",
   "execution_count": 22,
   "metadata": {
    "colab": {
     "base_uri": "https://localhost:8080/",
     "height": 355
    },
    "id": "PMK1ktqYQTJK",
    "outputId": "b3ec0023-25cd-41ad-b069-cc59de7c2313"
   },
   "outputs": [
    {
     "data": {
      "image/png": "[encoded data removed]",
      "text/plain": [
       "<Figure size 1152x576 with 1 Axes>"
      ]
     },
     "metadata": {
      "needs_background": "light"
     },
     "output_type": "display_data"
    }
   ],
   "source": [
    "mice_year_built = mice_df.YearBuilt.to_frame()\n",
    "mice_year_built['Imputation'] = 'KNN over YearBuilt and BuildingArea'\n",
    "\n",
    "full_mice_year_built = full_mice_df.YearBuilt.to_frame()\n",
    "full_mice_year_built['Imputation'] = 'KNN over all Variables'\n",
    "\n",
    "melb_year_built = scaled_df.YearBuilt.dropna().to_frame()\n",
    "melb_year_built['Imputation'] = 'Original'\n",
    "\n",
    "data = pandas.concat([mice_year_built, full_mice_year_built, melb_year_built])\n",
    "\n",
    "fig = plt.figure(figsize=(16, 8))\n",
    "seaborn.kdeplot(data=data, x='YearBuilt', hue='Imputation');"
   ]
  },
  {
   "cell_type": "code",
   "execution_count": 23,
   "metadata": {
    "colab": {
     "base_uri": "https://localhost:8080/",
     "height": 355
    },
    "id": "PMK1ktqYQTJK",
    "outputId": "b3ec0023-25cd-41ad-b069-cc59de7c2313"
   },
   "outputs": [
    {
     "data": {
      "image/png": "[encoded data removed]",
      "text/plain": [
       "<Figure size 1152x576 with 1 Axes>"
      ]
     },
     "metadata": {
      "needs_background": "light"
     },
     "output_type": "display_data"
    }
   ],
   "source": [
    "mice_building_area = mice_df.BuildingArea.to_frame()\n",
    "mice_building_area['Imputation'] = 'KNN over YearBuilt and BuildingArea'\n",
    "\n",
    "full_mice_building_area = full_mice_df.BuildingArea.to_frame()\n",
    "full_mice_building_area['Imputation'] = 'KNN over all Variables'\n",
    "\n",
    "melb_building_area = scaled_df.BuildingArea.dropna().to_frame()\n",
    "melb_building_area['Imputation'] = 'Original'\n",
    "\n",
    "data = pandas.concat([mice_building_area, full_mice_building_area, melb_building_area])\n",
    "\n",
    "fig = plt.figure(figsize=(16, 8))\n",
    "seaborn.kdeplot(data=data, x='BuildingArea', hue='Imputation');"
   ]
  },
  {
   "cell_type": "markdown",
   "metadata": {
    "id": "NBN7-5OIxjJW"
   },
   "source": [
    "## Ejercicio 3: Reducción de dimensionalidad.\n",
    "\n",
    "Utilizando la matriz obtenida en el ejercicio anterior:\n",
    "1. Aplique `PCA` para obtener $n$ componentes principales de la matriz, donde `n = min(20, X.shape[0])`. ¿Es necesario estandarizar o escalar los datos?\n",
    "2. Grafique la varianza capturada por los primeros $n$ componentes principales, para cada $n$.\n",
    "3. En base al gráfico, seleccione las primeras $m$ columnas de la matriz transformada para agregar como nuevas características al conjunto de datos."
   ]
  },
  {
   "cell_type": "markdown",
   "metadata": {},
   "source": [
    "**Observaciones**\n",
    "\n",
    "[Importance of Feature Scaling](https://scikit-learn.org/stable/auto_examples/preprocessing/plot_scaling_importance.html)\n",
    "\n",
    "While many algorithms (such as *SVM*, *K-nearest neighbors*, and *logistic regression*) require features to be normalized, intuitively we can think of *Principle Component Analysis* (**PCA**) as being a prime example of when normalization is important.\n",
    "In **PCA** we are interested in the components that maximize the variance.\n",
    "If one component (e.g. human height) varies less than another (e.g. weight) because of their respective scales (meters vs. kilos), **PCA** might determine that the direction of maximal variance more closely corresponds with the `weight` axis, if those features are not scaled.\n",
    "As a change in height of one meter can be considered much more important than the change in weight of one kilogram, this is clearly incorrect."
   ]
  },
  {
   "cell_type": "code",
   "execution_count": 24,
   "metadata": {},
   "outputs": [
    {
     "data": {
      "text/plain": [
       "(20, 101)"
      ]
     },
     "execution_count": 24,
     "metadata": {},
     "output_type": "execute_result"
    }
   ],
   "source": [
    "from sklearn.decomposition import PCA\n",
    "\n",
    "n = 20\n",
    "\n",
    "pca = PCA(n_components=n)\n",
    "\n",
    "pca.fit(full_mice_df)\n",
    "\n",
    "pca.components_.shape"
   ]
  },
  {
   "cell_type": "code",
   "execution_count": 25,
   "metadata": {},
   "outputs": [
    {
     "name": "stdout",
     "output_type": "stream",
     "text": [
      "Explained variance ratio\n",
      "Component  1 | VarRatio 0.070 | Accum VarRatio 0.070\n",
      "Component  2 | VarRatio 0.047 | Accum VarRatio 0.117\n",
      "Component  3 | VarRatio 0.042 | Accum VarRatio 0.159\n",
      "Component  4 | VarRatio 0.035 | Accum VarRatio 0.194\n",
      "Component  5 | VarRatio 0.031 | Accum VarRatio 0.225\n",
      "Component  6 | VarRatio 0.029 | Accum VarRatio 0.254\n",
      "Component  7 | VarRatio 0.025 | Accum VarRatio 0.279\n",
      "Component  8 | VarRatio 0.023 | Accum VarRatio 0.302\n",
      "Component  9 | VarRatio 0.023 | Accum VarRatio 0.326\n",
      "Component 10 | VarRatio 0.022 | Accum VarRatio 0.348\n",
      "Component 11 | VarRatio 0.022 | Accum VarRatio 0.369\n",
      "Component 12 | VarRatio 0.022 | Accum VarRatio 0.391\n",
      "Component 13 | VarRatio 0.021 | Accum VarRatio 0.412\n",
      "Component 14 | VarRatio 0.021 | Accum VarRatio 0.433\n",
      "Component 15 | VarRatio 0.021 | Accum VarRatio 0.453\n",
      "Component 16 | VarRatio 0.020 | Accum VarRatio 0.474\n",
      "Component 17 | VarRatio 0.020 | Accum VarRatio 0.494\n",
      "Component 18 | VarRatio 0.020 | Accum VarRatio 0.514\n",
      "Component 19 | VarRatio 0.020 | Accum VarRatio 0.534\n",
      "Component 20 | VarRatio 0.020 | Accum VarRatio 0.554\n"
     ]
    }
   ],
   "source": [
    "print('Explained variance ratio')\n",
    "\n",
    "accum_var = 0\n",
    "for i, var in enumerate(pca.explained_variance_ratio_):\n",
    "    accum_var += var\n",
    "    print(f'Component {i + 1:2} | VarRatio {var:.3f} | Accum VarRatio {accum_var:.3f}')"
   ]
  },
  {
   "cell_type": "code",
   "execution_count": 26,
   "metadata": {},
   "outputs": [
    {
     "data": {
      "image/png": "[encoded data removed]",
      "text/plain": [
       "<Figure size 864x432 with 1 Axes>"
      ]
     },
     "metadata": {
      "needs_background": "light"
     },
     "output_type": "display_data"
    }
   ],
   "source": [
    "fig = plt.figure(figsize=(12, 6))\n",
    "\n",
    "seaborn.lineplot(x=range(pca.n_components),\n",
    "                 y=pca.explained_variance_ratio_\n",
    "                )\n",
    "\n",
    "plt.xlabel('Components');\n",
    "plt.ylabel('Ratio of variance explained');"
   ]
  },
  {
   "cell_type": "markdown",
   "metadata": {},
   "source": [
    "#### Reducción de dimensionalidad con *PCA*"
   ]
  },
  {
   "cell_type": "code",
   "execution_count": 27,
   "metadata": {},
   "outputs": [
    {
     "data": {
      "text/plain": [
       "(13580, 20)"
      ]
     },
     "execution_count": 27,
     "metadata": {},
     "output_type": "execute_result"
    }
   ],
   "source": [
    "proyected_features = pca.transform(full_mice_df)\n",
    "\n",
    "proyected_features.shape"
   ]
  },
  {
   "cell_type": "code",
   "execution_count": 28,
   "metadata": {},
   "outputs": [],
   "source": [
    "# Copiamos nuestro dataset\n",
    "pca_df = full_mice_df.copy()"
   ]
  },
  {
   "cell_type": "markdown",
   "metadata": {},
   "source": [
    "Ya que queremos conservar la mayor cantidad de información, y nuestro conjunto de datos no es demasiado pesado, vamos a almacenar los $n$ **componentes principales** en nuestro *dataset*."
   ]
  },
  {
   "cell_type": "code",
   "execution_count": 29,
   "metadata": {},
   "outputs": [],
   "source": [
    "pca_columns = ['pca{}'.format(i + 1) for i in range(pca.n_components)]\n",
    "\n",
    "pca_df[pca_columns] = proyected_features"
   ]
  },
  {
   "cell_type": "markdown",
   "metadata": {
    "id": "WrZTYmG_ZyDy"
   },
   "source": [
    "## Ejercicio 4: Composición del resultado\n",
    "\n",
    "Transformar nuevamente el conjunto de datos procesado en un `pandas.DataFrame` y guardarlo en un archivo.\n",
    "\n",
    "Para eso, será necesario recordar el nombre original de cada columna de la matriz, en el orden correcto. Tener en cuenta:\n",
    "1. El método `OneHotEncoder.get_feature_names` o el atributo `OneHotEncoder.categories_` permiten obtener una lista con los valores de la categoría que le corresponde a cada índice de la matriz.\n",
    "2. Ninguno de los métodos aplicados intercambia de lugar las columnas o las filas de la matriz."
   ]
  },
  {
   "cell_type": "code",
   "execution_count": 30,
   "metadata": {},
   "outputs": [],
   "source": [
    "# Copiamos nuestro dataset\n",
    "final_df = pca_df.copy()"
   ]
  },
  {
   "cell_type": "code",
   "execution_count": 31,
   "metadata": {},
   "outputs": [
    {
     "data": {
      "text/plain": [
       "(13580, 121)"
      ]
     },
     "execution_count": 31,
     "metadata": {},
     "output_type": "execute_result"
    }
   ],
   "source": [
    "final_df.shape"
   ]
  },
  {
   "cell_type": "code",
   "execution_count": 32,
   "metadata": {},
   "outputs": [
    {
     "data": {
      "text/html": [
       "<div>\n",
       "<style scoped>\n",
       "    .dataframe tbody tr th:only-of-type {\n",
       "        vertical-align: middle;\n",
       "    }\n",
       "\n",
       "    .dataframe tbody tr th {\n",
       "        vertical-align: top;\n",
       "    }\n",
       "\n",
       "    .dataframe thead th {\n",
       "        text-align: right;\n",
       "    }\n",
       "</style>\n",
       "<table border=\"1\" class=\"dataframe\">\n",
       "  <thead>\n",
       "    <tr style=\"text-align: right;\">\n",
       "      <th></th>\n",
       "      <th>Bathroom</th>\n",
       "      <th>Car</th>\n",
       "      <th>CouncilArea=Banyule</th>\n",
       "      <th>CouncilArea=Bayside</th>\n",
       "      <th>CouncilArea=Boroondara</th>\n",
       "      <th>CouncilArea=Brimbank</th>\n",
       "      <th>CouncilArea=Cardinia</th>\n",
       "      <th>CouncilArea=Casey</th>\n",
       "      <th>CouncilArea=Darebin</th>\n",
       "      <th>CouncilArea=Frankston</th>\n",
       "      <th>...</th>\n",
       "      <th>pca11</th>\n",
       "      <th>pca12</th>\n",
       "      <th>pca13</th>\n",
       "      <th>pca14</th>\n",
       "      <th>pca15</th>\n",
       "      <th>pca16</th>\n",
       "      <th>pca17</th>\n",
       "      <th>pca18</th>\n",
       "      <th>pca19</th>\n",
       "      <th>pca20</th>\n",
       "    </tr>\n",
       "  </thead>\n",
       "  <tbody>\n",
       "    <tr>\n",
       "      <th>0</th>\n",
       "      <td>-0.780235</td>\n",
       "      <td>-0.623608</td>\n",
       "      <td>-0.223486</td>\n",
       "      <td>-0.206229</td>\n",
       "      <td>-0.323286</td>\n",
       "      <td>-0.190383</td>\n",
       "      <td>-0.024279</td>\n",
       "      <td>-0.0583</td>\n",
       "      <td>-0.282854</td>\n",
       "      <td>-0.076495</td>\n",
       "      <td>...</td>\n",
       "      <td>2.394894</td>\n",
       "      <td>-3.064541</td>\n",
       "      <td>0.666767</td>\n",
       "      <td>-0.526597</td>\n",
       "      <td>-1.737907</td>\n",
       "      <td>-0.389650</td>\n",
       "      <td>0.174275</td>\n",
       "      <td>-0.357727</td>\n",
       "      <td>-0.355026</td>\n",
       "      <td>-0.213372</td>\n",
       "    </tr>\n",
       "    <tr>\n",
       "      <th>1</th>\n",
       "      <td>-0.780235</td>\n",
       "      <td>-1.658256</td>\n",
       "      <td>-0.223486</td>\n",
       "      <td>-0.206229</td>\n",
       "      <td>-0.323286</td>\n",
       "      <td>-0.190383</td>\n",
       "      <td>-0.024279</td>\n",
       "      <td>-0.0583</td>\n",
       "      <td>-0.282854</td>\n",
       "      <td>-0.076495</td>\n",
       "      <td>...</td>\n",
       "      <td>2.503215</td>\n",
       "      <td>-3.213956</td>\n",
       "      <td>0.571742</td>\n",
       "      <td>-0.430825</td>\n",
       "      <td>-1.719619</td>\n",
       "      <td>-0.519451</td>\n",
       "      <td>0.195893</td>\n",
       "      <td>-0.310363</td>\n",
       "      <td>-0.203438</td>\n",
       "      <td>-0.196997</td>\n",
       "    </tr>\n",
       "    <tr>\n",
       "      <th>2</th>\n",
       "      <td>0.673406</td>\n",
       "      <td>-1.658256</td>\n",
       "      <td>-0.223486</td>\n",
       "      <td>-0.206229</td>\n",
       "      <td>-0.323286</td>\n",
       "      <td>-0.190383</td>\n",
       "      <td>-0.024279</td>\n",
       "      <td>-0.0583</td>\n",
       "      <td>-0.282854</td>\n",
       "      <td>-0.076495</td>\n",
       "      <td>...</td>\n",
       "      <td>2.167462</td>\n",
       "      <td>-2.573026</td>\n",
       "      <td>0.754441</td>\n",
       "      <td>-0.253923</td>\n",
       "      <td>-1.609891</td>\n",
       "      <td>-0.773952</td>\n",
       "      <td>0.547059</td>\n",
       "      <td>-0.321325</td>\n",
       "      <td>-0.252560</td>\n",
       "      <td>-0.388965</td>\n",
       "    </tr>\n",
       "  </tbody>\n",
       "</table>\n",
       "<p>3 rows × 121 columns</p>\n",
       "</div>"
      ],
      "text/plain": [
       "   Bathroom       Car  CouncilArea=Banyule  CouncilArea=Bayside  \\\n",
       "0 -0.780235 -0.623608            -0.223486            -0.206229   \n",
       "1 -0.780235 -1.658256            -0.223486            -0.206229   \n",
       "2  0.673406 -1.658256            -0.223486            -0.206229   \n",
       "\n",
       "   CouncilArea=Boroondara  CouncilArea=Brimbank  CouncilArea=Cardinia  \\\n",
       "0               -0.323286             -0.190383             -0.024279   \n",
       "1               -0.323286             -0.190383             -0.024279   \n",
       "2               -0.323286             -0.190383             -0.024279   \n",
       "\n",
       "   CouncilArea=Casey  CouncilArea=Darebin  CouncilArea=Frankston  ...  \\\n",
       "0            -0.0583            -0.282854              -0.076495  ...   \n",
       "1            -0.0583            -0.282854              -0.076495  ...   \n",
       "2            -0.0583            -0.282854              -0.076495  ...   \n",
       "\n",
       "      pca11     pca12     pca13     pca14     pca15     pca16     pca17  \\\n",
       "0  2.394894 -3.064541  0.666767 -0.526597 -1.737907 -0.389650  0.174275   \n",
       "1  2.503215 -3.213956  0.571742 -0.430825 -1.719619 -0.519451  0.195893   \n",
       "2  2.167462 -2.573026  0.754441 -0.253923 -1.609891 -0.773952  0.547059   \n",
       "\n",
       "      pca18     pca19     pca20  \n",
       "0 -0.357727 -0.355026 -0.213372  \n",
       "1 -0.310363 -0.203438 -0.196997  \n",
       "2 -0.321325 -0.252560 -0.388965  \n",
       "\n",
       "[3 rows x 121 columns]"
      ]
     },
     "execution_count": 32,
     "metadata": {},
     "output_type": "execute_result"
    }
   ],
   "source": [
    "final_df.head(3)"
   ]
  },
  {
   "cell_type": "code",
   "execution_count": 33,
   "metadata": {},
   "outputs": [],
   "source": [
    "final_df.to_csv('DataSet/final_dataset.csv', index=False)"
   ]
  },
  {
   "cell_type": "markdown",
   "metadata": {
    "id": "mVBLFc8PhRtW"
   },
   "source": [
    "## Ejercicio 5: Documentación\n",
    "\n",
    "En un documento `.pdf` o `.md` realizar un reporte de las operaciones que realizaron para obtener el conjunto de datos final.\n",
    "Se debe incluir:\n",
    "\n",
    "1. Criterios de exclusión (o inclusión) de filas\n",
    "2. Interpretación de las columnas presentes\n",
    "3. Todas las transformaciones realizadas\n",
    "\n",
    "Este documento es de uso técnico exclusivamente, y su objetivo es permitir que otros desarrolladores puedan reproducir los mismos pasos y obtener el mismo resultado.\n",
    "Debe ser detallado pero consiso."
   ]
  },
  {
   "cell_type": "markdown",
   "metadata": {},
   "source": [
    " ## Criterios de exclusión de ejemplos\n",
    "  1. Se eliminan variables que poseen un gran porcentaje de nulos, como BuildingArea y YearBuilt.\n",
    "  2. Eliminamos variables que no poseen informacion util como Address y Bedroom2\n",
    "  3. Eliminamos registros que estan por encima del 97.5 y debajo del 2.5 con respecto a la variable Price.\n",
    "\n",
    "## Características seleccionadas\n",
    "  ### Características categóricas\n",
    "  \n",
    "- `Suburb` Barrio de residencia.\n",
    "  Hay 314 valores únicos, de los cuales 21 solo poseen una sola propiedad.\n",
    "  La variable será utilizada para imputar los datos faltantes de departamentos.\n",
    "- `Type` Tipo de la propiedad.\n",
    "  En orden de cantidad de ocurrencias, *house*, *unit*, y *townhouse*.\n",
    "- `Method` Forma de adquisión de la propiedad.\n",
    "  En orden de cantidad de ocurrencias, *property sold*, *property sold prior*, *property passed in*, *vendor bid*, y *sold after auction*.\n",
    "  La última categoría tiene muy pocos valores, pero no se puede agrupar con ningún otra ya que es la única.\n",
    "- `Regionname` Región general de la propiedad.\n",
    "  Se pueden separar en dos zonas, y ya que la zona de **Victoria** posee muy pocos datos, serán agrupados en una única categoría.\n",
    "- `CouncilArea` Departamento (o algo similar a lo que entendemos).\n",
    "  La variable tiene valores NaNs, que serán resueltos luego de aplicar un *merge*.\n",
    "  Hay departamentos con una cantidad menor a 10 propiedades, los cuales se podrían agrupar luego de imputar los valores faltantes.\n",
    "- `Date` Fecha de venta de la propiedad.\n",
    "  La variable no aporta demasiada información, ya que una fecha exacta no es tan informativa como un perído de tiempo.\n",
    "  Se requiere de un procesamiento adicional de la variable, para poder separar las fechas en trimestres (en lugar de días).\n",
    "- `SellerG` Vendedor de la propiedad.\n",
    "  En total hay 268 vendedores distintos en el conjunto de datos, de los cuales 78 solo han vendido una única propiedad.\n",
    "  Estos valores son candidatos a ser agrupados en una única categoría.\n",
    "  \n",
    "\n",
    "  ### Características numéricas\n",
    "  \n",
    "- `Price` Precio de la propiedad.\n",
    "  La *media* es aproximadamente 1075000.\n",
    "- `Distance` Distancia al centro.\n",
    "  Hay valores con cero, pero serán considerados normales ya que es razonable vivir en el centro.\n",
    "  La *media* es aproximadamente 10.\n",
    "- `Propertycount` Cantidad de propiedades en el suburbio.\n",
    "  La *media* es aproximadamente 7450.\n",
    "- `Postcode` Código postal.\n",
    "  Hay cerca de 200 valores únicos.\n",
    "  Se aplicará un *merge* sobre la variable, contra la columna *zipcode* del otro conjunto de datos.\n",
    "- `Rooms` Cantidad de habitaciones.\n",
    "  Si fuese una variable categórica, se podrían agrupar todas las propiedades con 5 o más habitaciones.\n",
    "- `Lattitude`: Latitud de ubicación.\n",
    "- `Longtitude`: Longitud de ubicación.\n",
    "- `Bathroom` Cantidad de baños.\n",
    "  La variable tiene 0s, los cuales serán imputados por el valor constante 1.\n",
    "  Si fuese una variable categórica, se podrían agrupar todas las propiedades con 4 o más baños.\n",
    "- `Car` Cantidad de cocheras.\n",
    "  La variable tiene 0s, pero serán considerados normales ya que es razonable tener una propiedad sin cochera.\n",
    "  La variable tiene NaNs, los cuales serán imputados por el valor constante 0.\n",
    "  Si fuese una variable categórica, se podrían agrupar todas las propiedades con 5 o más cocheras.\n",
    "- `Landsize` Tamaño del Terreno.\n",
    "  La variable tiene 0s, que asumiremos normales ya que no todas las propiedades pueden tener patios.\n",
    "  La *media* es aproximadamente 550.\n",
    "\n",
    "  ### Transformaciones\n",
    "  1. Todas las características numéricas fueron estandarizadas.\n",
    "  2. La columna `Suburb` fue imputada utilizando el método ...\n",
    "  3. Las columnas `YearBuilt` y ... fueron imputadas utilizando el \n",
    "     algoritmo ...\n",
    "  4. ...\n",
    "\n",
    "  ### Datos aumentados\n",
    "  1. Se agregan las 5 primeras columnas obtenidas a través del\n",
    "     método de PCA, aplicado sobre el conjunto de datos\n",
    "     totalmente procesado."
   ]
  },
  {
   "cell_type": "code",
   "execution_count": null,
   "metadata": {},
   "outputs": [],
   "source": []
  }
 ],
 "metadata": {
  "colab": {
   "collapsed_sections": [],
   "include_colab_link": true,
   "name": "Entregable Parte 2.ipynb",
   "provenance": []
  },
  "kernelspec": {
   "display_name": "Python 3",
   "language": "python",
   "name": "python3"
  },
  "language_info": {
   "codemirror_mode": {
    "name": "ipython",
    "version": 3
   },
   "file_extension": ".py",
   "mimetype": "text/x-python",
   "name": "python",
   "nbconvert_exporter": "python",
   "pygments_lexer": "ipython3",
   "version": "3.7.5"
  }
 },
 "nbformat": 4,
 "nbformat_minor": 4
}
