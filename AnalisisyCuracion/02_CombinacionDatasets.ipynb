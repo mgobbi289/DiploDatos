{
  "nbformat": 4,
  "nbformat_minor": 0,
  "metadata": {
    "colab": {
      "name": "02_CombinacionDatasets.ipynb",
      "provenance": [],
      "collapsed_sections": []
    },
    "kernelspec": {
      "name": "python3",
      "display_name": "Python 3"
    },
    "language_info": {
      "name": "python"
    }
  },
  "cells": [
    {
      "cell_type": "markdown",
      "metadata": {
        "id": "zO4bRoxr2Apy"
      },
      "source": [
        "**Diplomatura en Ciencia de Datos, Aprendizaje Automático y sus Aplicaciones**\n",
        "\n",
        "**Exploración y Curación de Datos**\n",
        "\n",
        "*Edición 2021*\n",
        "\n",
        "----\n",
        "\n",
        "# Exploración de datos\n",
        "\n",
        "En esta notebook, vamos a cargar el conjunto de datos de la [competencia Kaggle](https://www.kaggle.com/dansbecker/melbourne-housing-snapshot) sobre estimación de precios de ventas de propiedades en Melbourne, Australia.\n",
        "\n",
        "Utilizaremos el conjunto de datos reducido producido por [DanB](https://www.kaggle.com/dansbecker). Hemos subido una copia a un servidor de la Universidad Nacional de Córdoba para facilitar su acceso remoto."
      ]
    },
    {
      "cell_type": "code",
      "metadata": {
        "id": "0OBGPgkuriMt"
      },
      "source": [
        "# Ejecutado desde Google Colab..."
      ],
      "execution_count": 1,
      "outputs": []
    },
    {
      "cell_type": "code",
      "metadata": {
        "id": "4udjxjk1EtVU"
      },
      "source": [
        "import matplotlib.pyplot as plt\n",
        "import numpy\n",
        "import pandas\n",
        "import seaborn\n",
        "\n",
        "seaborn.set_context('talk')"
      ],
      "execution_count": 2,
      "outputs": []
    },
    {
      "cell_type": "code",
      "metadata": {
        "colab": {
          "base_uri": "https://localhost:8080/",
          "height": 35
        },
        "id": "3XdIsB8hISis",
        "outputId": "b52fdccd-866e-4554-9732-72a893387721"
      },
      "source": [
        "import plotly\n",
        "\n",
        "# Make sure it's 4.14.3\n",
        "plotly.__version__"
      ],
      "execution_count": 3,
      "outputs": [
        {
          "output_type": "execute_result",
          "data": {
            "application/vnd.google.colaboratory.intrinsic+json": {
              "type": "string"
            },
            "text/plain": [
              "'4.14.3'"
            ]
          },
          "metadata": {
            "tags": []
          },
          "execution_count": 3
        }
      ]
    },
    {
      "cell_type": "code",
      "metadata": {
        "id": "i2nqY0GGIVn2",
        "colab": {
          "base_uri": "https://localhost:8080/"
        },
        "outputId": "31bc4adc-e994-4dc1-9784-472f17af04c2"
      },
      "source": [
        "# To update plotly, uncomment and run the following line:\n",
        "!pip install plotly --upgrade"
      ],
      "execution_count": 4,
      "outputs": [
        {
          "output_type": "stream",
          "text": [
            "Requirement already up-to-date: plotly in /usr/local/lib/python3.7/dist-packages (4.14.3)\n",
            "Requirement already satisfied, skipping upgrade: retrying>=1.3.3 in /usr/local/lib/python3.7/dist-packages (from plotly) (1.3.3)\n",
            "Requirement already satisfied, skipping upgrade: six in /usr/local/lib/python3.7/dist-packages (from plotly) (1.15.0)\n"
          ],
          "name": "stdout"
        }
      ]
    },
    {
      "cell_type": "code",
      "metadata": {
        "colab": {
          "base_uri": "https://localhost:8080/",
          "height": 233
        },
        "id": "_qeFN3GnEvMk",
        "outputId": "7ecf3bcb-cbf3-4dd7-9c04-95399d184153"
      },
      "source": [
        "melb_df = pandas.read_csv('https://cs.famaf.unc.edu.ar/~mteruel/datasets/diplodatos/melb_data.csv')\n",
        "melb_df[:3]"
      ],
      "execution_count": 5,
      "outputs": [
        {
          "output_type": "execute_result",
          "data": {
            "text/html": [
              "<div>\n",
              "<style scoped>\n",
              "    .dataframe tbody tr th:only-of-type {\n",
              "        vertical-align: middle;\n",
              "    }\n",
              "\n",
              "    .dataframe tbody tr th {\n",
              "        vertical-align: top;\n",
              "    }\n",
              "\n",
              "    .dataframe thead th {\n",
              "        text-align: right;\n",
              "    }\n",
              "</style>\n",
              "<table border=\"1\" class=\"dataframe\">\n",
              "  <thead>\n",
              "    <tr style=\"text-align: right;\">\n",
              "      <th></th>\n",
              "      <th>Suburb</th>\n",
              "      <th>Address</th>\n",
              "      <th>Rooms</th>\n",
              "      <th>Type</th>\n",
              "      <th>Price</th>\n",
              "      <th>Method</th>\n",
              "      <th>SellerG</th>\n",
              "      <th>Date</th>\n",
              "      <th>Distance</th>\n",
              "      <th>Postcode</th>\n",
              "      <th>Bedroom2</th>\n",
              "      <th>Bathroom</th>\n",
              "      <th>Car</th>\n",
              "      <th>Landsize</th>\n",
              "      <th>BuildingArea</th>\n",
              "      <th>YearBuilt</th>\n",
              "      <th>CouncilArea</th>\n",
              "      <th>Lattitude</th>\n",
              "      <th>Longtitude</th>\n",
              "      <th>Regionname</th>\n",
              "      <th>Propertycount</th>\n",
              "    </tr>\n",
              "  </thead>\n",
              "  <tbody>\n",
              "    <tr>\n",
              "      <th>0</th>\n",
              "      <td>Abbotsford</td>\n",
              "      <td>85 Turner St</td>\n",
              "      <td>2</td>\n",
              "      <td>h</td>\n",
              "      <td>1480000.0</td>\n",
              "      <td>S</td>\n",
              "      <td>Biggin</td>\n",
              "      <td>3/12/2016</td>\n",
              "      <td>2.5</td>\n",
              "      <td>3067.0</td>\n",
              "      <td>2.0</td>\n",
              "      <td>1.0</td>\n",
              "      <td>1.0</td>\n",
              "      <td>202.0</td>\n",
              "      <td>NaN</td>\n",
              "      <td>NaN</td>\n",
              "      <td>Yarra</td>\n",
              "      <td>-37.7996</td>\n",
              "      <td>144.9984</td>\n",
              "      <td>Northern Metropolitan</td>\n",
              "      <td>4019.0</td>\n",
              "    </tr>\n",
              "    <tr>\n",
              "      <th>1</th>\n",
              "      <td>Abbotsford</td>\n",
              "      <td>25 Bloomburg St</td>\n",
              "      <td>2</td>\n",
              "      <td>h</td>\n",
              "      <td>1035000.0</td>\n",
              "      <td>S</td>\n",
              "      <td>Biggin</td>\n",
              "      <td>4/02/2016</td>\n",
              "      <td>2.5</td>\n",
              "      <td>3067.0</td>\n",
              "      <td>2.0</td>\n",
              "      <td>1.0</td>\n",
              "      <td>0.0</td>\n",
              "      <td>156.0</td>\n",
              "      <td>79.0</td>\n",
              "      <td>1900.0</td>\n",
              "      <td>Yarra</td>\n",
              "      <td>-37.8079</td>\n",
              "      <td>144.9934</td>\n",
              "      <td>Northern Metropolitan</td>\n",
              "      <td>4019.0</td>\n",
              "    </tr>\n",
              "    <tr>\n",
              "      <th>2</th>\n",
              "      <td>Abbotsford</td>\n",
              "      <td>5 Charles St</td>\n",
              "      <td>3</td>\n",
              "      <td>h</td>\n",
              "      <td>1465000.0</td>\n",
              "      <td>SP</td>\n",
              "      <td>Biggin</td>\n",
              "      <td>4/03/2017</td>\n",
              "      <td>2.5</td>\n",
              "      <td>3067.0</td>\n",
              "      <td>3.0</td>\n",
              "      <td>2.0</td>\n",
              "      <td>0.0</td>\n",
              "      <td>134.0</td>\n",
              "      <td>150.0</td>\n",
              "      <td>1900.0</td>\n",
              "      <td>Yarra</td>\n",
              "      <td>-37.8093</td>\n",
              "      <td>144.9944</td>\n",
              "      <td>Northern Metropolitan</td>\n",
              "      <td>4019.0</td>\n",
              "    </tr>\n",
              "  </tbody>\n",
              "</table>\n",
              "</div>"
            ],
            "text/plain": [
              "       Suburb          Address  ...             Regionname Propertycount\n",
              "0  Abbotsford     85 Turner St  ...  Northern Metropolitan        4019.0\n",
              "1  Abbotsford  25 Bloomburg St  ...  Northern Metropolitan        4019.0\n",
              "2  Abbotsford     5 Charles St  ...  Northern Metropolitan        4019.0\n",
              "\n",
              "[3 rows x 21 columns]"
            ]
          },
          "metadata": {
            "tags": []
          },
          "execution_count": 5
        }
      ]
    },
    {
      "cell_type": "markdown",
      "metadata": {
        "id": "No9iO_R5rvH-"
      },
      "source": [
        "#### Breve estudio del dataset"
      ]
    },
    {
      "cell_type": "code",
      "metadata": {
        "colab": {
          "base_uri": "https://localhost:8080/"
        },
        "id": "YgdUEfK9r4gb",
        "outputId": "77c23bf4-8114-4b57-84a1-b4fb0875cea1"
      },
      "source": [
        "melb_df.shape"
      ],
      "execution_count": 6,
      "outputs": [
        {
          "output_type": "execute_result",
          "data": {
            "text/plain": [
              "(13580, 21)"
            ]
          },
          "metadata": {
            "tags": []
          },
          "execution_count": 6
        }
      ]
    },
    {
      "cell_type": "code",
      "metadata": {
        "colab": {
          "base_uri": "https://localhost:8080/"
        },
        "id": "4fXvim2Or4rE",
        "outputId": "c62625ed-a9ac-4308-e6ae-da0621ed1f1e"
      },
      "source": [
        "melb_df.columns"
      ],
      "execution_count": 7,
      "outputs": [
        {
          "output_type": "execute_result",
          "data": {
            "text/plain": [
              "Index(['Suburb', 'Address', 'Rooms', 'Type', 'Price', 'Method', 'SellerG',\n",
              "       'Date', 'Distance', 'Postcode', 'Bedroom2', 'Bathroom', 'Car',\n",
              "       'Landsize', 'BuildingArea', 'YearBuilt', 'CouncilArea', 'Lattitude',\n",
              "       'Longtitude', 'Regionname', 'Propertycount'],\n",
              "      dtype='object')"
            ]
          },
          "metadata": {
            "tags": []
          },
          "execution_count": 7
        }
      ]
    },
    {
      "cell_type": "code",
      "metadata": {
        "colab": {
          "base_uri": "https://localhost:8080/",
          "height": 320
        },
        "id": "4duHxVc6r4zb",
        "outputId": "54435df3-6cfb-40ed-d8fe-658f78f732f1"
      },
      "source": [
        "melb_df.describe()"
      ],
      "execution_count": 8,
      "outputs": [
        {
          "output_type": "execute_result",
          "data": {
            "text/html": [
              "<div>\n",
              "<style scoped>\n",
              "    .dataframe tbody tr th:only-of-type {\n",
              "        vertical-align: middle;\n",
              "    }\n",
              "\n",
              "    .dataframe tbody tr th {\n",
              "        vertical-align: top;\n",
              "    }\n",
              "\n",
              "    .dataframe thead th {\n",
              "        text-align: right;\n",
              "    }\n",
              "</style>\n",
              "<table border=\"1\" class=\"dataframe\">\n",
              "  <thead>\n",
              "    <tr style=\"text-align: right;\">\n",
              "      <th></th>\n",
              "      <th>Rooms</th>\n",
              "      <th>Price</th>\n",
              "      <th>Distance</th>\n",
              "      <th>Postcode</th>\n",
              "      <th>Bedroom2</th>\n",
              "      <th>Bathroom</th>\n",
              "      <th>Car</th>\n",
              "      <th>Landsize</th>\n",
              "      <th>BuildingArea</th>\n",
              "      <th>YearBuilt</th>\n",
              "      <th>Lattitude</th>\n",
              "      <th>Longtitude</th>\n",
              "      <th>Propertycount</th>\n",
              "    </tr>\n",
              "  </thead>\n",
              "  <tbody>\n",
              "    <tr>\n",
              "      <th>count</th>\n",
              "      <td>13580.000000</td>\n",
              "      <td>1.358000e+04</td>\n",
              "      <td>13580.000000</td>\n",
              "      <td>13580.000000</td>\n",
              "      <td>13580.000000</td>\n",
              "      <td>13580.000000</td>\n",
              "      <td>13518.000000</td>\n",
              "      <td>13580.000000</td>\n",
              "      <td>7130.000000</td>\n",
              "      <td>8205.000000</td>\n",
              "      <td>13580.000000</td>\n",
              "      <td>13580.000000</td>\n",
              "      <td>13580.000000</td>\n",
              "    </tr>\n",
              "    <tr>\n",
              "      <th>mean</th>\n",
              "      <td>2.937997</td>\n",
              "      <td>1.075684e+06</td>\n",
              "      <td>10.137776</td>\n",
              "      <td>3105.301915</td>\n",
              "      <td>2.914728</td>\n",
              "      <td>1.534242</td>\n",
              "      <td>1.610075</td>\n",
              "      <td>558.416127</td>\n",
              "      <td>151.967650</td>\n",
              "      <td>1964.684217</td>\n",
              "      <td>-37.809203</td>\n",
              "      <td>144.995216</td>\n",
              "      <td>7454.417378</td>\n",
              "    </tr>\n",
              "    <tr>\n",
              "      <th>std</th>\n",
              "      <td>0.955748</td>\n",
              "      <td>6.393107e+05</td>\n",
              "      <td>5.868725</td>\n",
              "      <td>90.676964</td>\n",
              "      <td>0.965921</td>\n",
              "      <td>0.691712</td>\n",
              "      <td>0.962634</td>\n",
              "      <td>3990.669241</td>\n",
              "      <td>541.014538</td>\n",
              "      <td>37.273762</td>\n",
              "      <td>0.079260</td>\n",
              "      <td>0.103916</td>\n",
              "      <td>4378.581772</td>\n",
              "    </tr>\n",
              "    <tr>\n",
              "      <th>min</th>\n",
              "      <td>1.000000</td>\n",
              "      <td>8.500000e+04</td>\n",
              "      <td>0.000000</td>\n",
              "      <td>3000.000000</td>\n",
              "      <td>0.000000</td>\n",
              "      <td>0.000000</td>\n",
              "      <td>0.000000</td>\n",
              "      <td>0.000000</td>\n",
              "      <td>0.000000</td>\n",
              "      <td>1196.000000</td>\n",
              "      <td>-38.182550</td>\n",
              "      <td>144.431810</td>\n",
              "      <td>249.000000</td>\n",
              "    </tr>\n",
              "    <tr>\n",
              "      <th>25%</th>\n",
              "      <td>2.000000</td>\n",
              "      <td>6.500000e+05</td>\n",
              "      <td>6.100000</td>\n",
              "      <td>3044.000000</td>\n",
              "      <td>2.000000</td>\n",
              "      <td>1.000000</td>\n",
              "      <td>1.000000</td>\n",
              "      <td>177.000000</td>\n",
              "      <td>93.000000</td>\n",
              "      <td>1940.000000</td>\n",
              "      <td>-37.856822</td>\n",
              "      <td>144.929600</td>\n",
              "      <td>4380.000000</td>\n",
              "    </tr>\n",
              "    <tr>\n",
              "      <th>50%</th>\n",
              "      <td>3.000000</td>\n",
              "      <td>9.030000e+05</td>\n",
              "      <td>9.200000</td>\n",
              "      <td>3084.000000</td>\n",
              "      <td>3.000000</td>\n",
              "      <td>1.000000</td>\n",
              "      <td>2.000000</td>\n",
              "      <td>440.000000</td>\n",
              "      <td>126.000000</td>\n",
              "      <td>1970.000000</td>\n",
              "      <td>-37.802355</td>\n",
              "      <td>145.000100</td>\n",
              "      <td>6555.000000</td>\n",
              "    </tr>\n",
              "    <tr>\n",
              "      <th>75%</th>\n",
              "      <td>3.000000</td>\n",
              "      <td>1.330000e+06</td>\n",
              "      <td>13.000000</td>\n",
              "      <td>3148.000000</td>\n",
              "      <td>3.000000</td>\n",
              "      <td>2.000000</td>\n",
              "      <td>2.000000</td>\n",
              "      <td>651.000000</td>\n",
              "      <td>174.000000</td>\n",
              "      <td>1999.000000</td>\n",
              "      <td>-37.756400</td>\n",
              "      <td>145.058305</td>\n",
              "      <td>10331.000000</td>\n",
              "    </tr>\n",
              "    <tr>\n",
              "      <th>max</th>\n",
              "      <td>10.000000</td>\n",
              "      <td>9.000000e+06</td>\n",
              "      <td>48.100000</td>\n",
              "      <td>3977.000000</td>\n",
              "      <td>20.000000</td>\n",
              "      <td>8.000000</td>\n",
              "      <td>10.000000</td>\n",
              "      <td>433014.000000</td>\n",
              "      <td>44515.000000</td>\n",
              "      <td>2018.000000</td>\n",
              "      <td>-37.408530</td>\n",
              "      <td>145.526350</td>\n",
              "      <td>21650.000000</td>\n",
              "    </tr>\n",
              "  </tbody>\n",
              "</table>\n",
              "</div>"
            ],
            "text/plain": [
              "              Rooms         Price  ...    Longtitude  Propertycount\n",
              "count  13580.000000  1.358000e+04  ...  13580.000000   13580.000000\n",
              "mean       2.937997  1.075684e+06  ...    144.995216    7454.417378\n",
              "std        0.955748  6.393107e+05  ...      0.103916    4378.581772\n",
              "min        1.000000  8.500000e+04  ...    144.431810     249.000000\n",
              "25%        2.000000  6.500000e+05  ...    144.929600    4380.000000\n",
              "50%        3.000000  9.030000e+05  ...    145.000100    6555.000000\n",
              "75%        3.000000  1.330000e+06  ...    145.058305   10331.000000\n",
              "max       10.000000  9.000000e+06  ...    145.526350   21650.000000\n",
              "\n",
              "[8 rows x 13 columns]"
            ]
          },
          "metadata": {
            "tags": []
          },
          "execution_count": 8
        }
      ]
    },
    {
      "cell_type": "markdown",
      "metadata": {
        "id": "s-mixICN22kA"
      },
      "source": [
        "## Datos adicionales\n",
        "\n",
        "Vamos a aumentar los datos presentes en el conjunto dado con un dataset similar: las publicaciones de la plataforma AirBnB en Melbourne en el año 2018. El objetivo es estimar con mayor precisión el valor del vecindario de cada propiedad.\n",
        "\n",
        "Para ello, utilizaremos un [conjunto de datos](https://www.kaggle.com/tylerx/melbourne-airbnb-open-data?select=cleansed_listings_dec18.csv) de *scrapings* del sitio realizado por [Tyler Xie](https://www.kaggle.com/tylerx), también disponible en una competencia de Kaggle."
      ]
    },
    {
      "cell_type": "code",
      "metadata": {
        "colab": {
          "base_uri": "https://localhost:8080/"
        },
        "id": "k3Z2vxNHJfJK",
        "outputId": "deba3e0f-51ba-420c-b081-bf6172f36084"
      },
      "source": [
        "interesting_cols = [\n",
        "  'description', 'neighborhood_overview',\n",
        "  'street', 'neighborhood', 'city', 'suburb', 'state', 'zipcode',\n",
        "  'price', 'weekly_price', 'monthly_price',\n",
        "  'latitude', 'longitude',\n",
        "]\n",
        "\n",
        "airbnb_df = pandas.read_csv('https://cs.famaf.unc.edu.ar/~mteruel/datasets/diplodatos/cleansed_listings_dec18.csv', usecols=interesting_cols)"
      ],
      "execution_count": 9,
      "outputs": [
        {
          "output_type": "stream",
          "text": [
            "/usr/local/lib/python3.7/dist-packages/IPython/core/interactiveshell.py:2718: DtypeWarning: Columns (35) have mixed types.Specify dtype option on import or set low_memory=False.\n",
            "  interactivity=interactivity, compiler=compiler, result=result)\n"
          ],
          "name": "stderr"
        }
      ]
    },
    {
      "cell_type": "code",
      "metadata": {
        "colab": {
          "base_uri": "https://localhost:8080/",
          "height": 372
        },
        "id": "bc55TFlhF6tP",
        "outputId": "7e538c58-caea-4fe0-999f-1c45b4779f7a"
      },
      "source": [
        "airbnb_df[:3]"
      ],
      "execution_count": 10,
      "outputs": [
        {
          "output_type": "execute_result",
          "data": {
            "text/html": [
              "<div>\n",
              "<style scoped>\n",
              "    .dataframe tbody tr th:only-of-type {\n",
              "        vertical-align: middle;\n",
              "    }\n",
              "\n",
              "    .dataframe tbody tr th {\n",
              "        vertical-align: top;\n",
              "    }\n",
              "\n",
              "    .dataframe thead th {\n",
              "        text-align: right;\n",
              "    }\n",
              "</style>\n",
              "<table border=\"1\" class=\"dataframe\">\n",
              "  <thead>\n",
              "    <tr style=\"text-align: right;\">\n",
              "      <th></th>\n",
              "      <th>description</th>\n",
              "      <th>neighborhood_overview</th>\n",
              "      <th>street</th>\n",
              "      <th>neighborhood</th>\n",
              "      <th>city</th>\n",
              "      <th>suburb</th>\n",
              "      <th>state</th>\n",
              "      <th>zipcode</th>\n",
              "      <th>latitude</th>\n",
              "      <th>longitude</th>\n",
              "      <th>price</th>\n",
              "      <th>weekly_price</th>\n",
              "      <th>monthly_price</th>\n",
              "    </tr>\n",
              "  </thead>\n",
              "  <tbody>\n",
              "    <tr>\n",
              "      <th>0</th>\n",
              "      <td>House: Clean, New, Modern, Quite, Safe. 10Km f...</td>\n",
              "      <td>Very safe! Family oriented. Older age group.</td>\n",
              "      <td>Bulleen, VIC, Australia</td>\n",
              "      <td>Balwyn North</td>\n",
              "      <td>Manningham</td>\n",
              "      <td>Bulleen</td>\n",
              "      <td>VIC</td>\n",
              "      <td>3105</td>\n",
              "      <td>-37.772684</td>\n",
              "      <td>145.092133</td>\n",
              "      <td>60</td>\n",
              "      <td>NaN</td>\n",
              "      <td>NaN</td>\n",
              "    </tr>\n",
              "    <tr>\n",
              "      <th>1</th>\n",
              "      <td>A large air conditioned room with queen spring...</td>\n",
              "      <td>This hip area is a crossroads between two grea...</td>\n",
              "      <td>Brunswick East, VIC, Australia</td>\n",
              "      <td>Brunswick</td>\n",
              "      <td>Moreland</td>\n",
              "      <td>Brunswick East</td>\n",
              "      <td>VIC</td>\n",
              "      <td>3057</td>\n",
              "      <td>-37.766505</td>\n",
              "      <td>144.980736</td>\n",
              "      <td>35</td>\n",
              "      <td>200.0</td>\n",
              "      <td>803.0</td>\n",
              "    </tr>\n",
              "    <tr>\n",
              "      <th>2</th>\n",
              "      <td>RIGHT IN THE HEART OF ST KILDA! It doesn't get...</td>\n",
              "      <td>A stay at our apartment means you can enjoy so...</td>\n",
              "      <td>St Kilda, VIC, Australia</td>\n",
              "      <td>St Kilda</td>\n",
              "      <td>Port Phillip</td>\n",
              "      <td>St Kilda</td>\n",
              "      <td>VIC</td>\n",
              "      <td>3182</td>\n",
              "      <td>-37.859755</td>\n",
              "      <td>144.977369</td>\n",
              "      <td>159</td>\n",
              "      <td>1253.0</td>\n",
              "      <td>4452.0</td>\n",
              "    </tr>\n",
              "  </tbody>\n",
              "</table>\n",
              "</div>"
            ],
            "text/plain": [
              "                                         description  ... monthly_price\n",
              "0  House: Clean, New, Modern, Quite, Safe. 10Km f...  ...           NaN\n",
              "1  A large air conditioned room with queen spring...  ...         803.0\n",
              "2  RIGHT IN THE HEART OF ST KILDA! It doesn't get...  ...        4452.0\n",
              "\n",
              "[3 rows x 13 columns]"
            ]
          },
          "metadata": {
            "tags": []
          },
          "execution_count": 10
        }
      ]
    },
    {
      "cell_type": "markdown",
      "metadata": {
        "id": "pZCy9OVJt9m4"
      },
      "source": [
        "#### Breve estudio del dataset"
      ]
    },
    {
      "cell_type": "code",
      "metadata": {
        "colab": {
          "base_uri": "https://localhost:8080/"
        },
        "id": "QkYW4d1ruENE",
        "outputId": "c833f0ca-62a3-4b99-8d84-1453d3731dc2"
      },
      "source": [
        "airbnb_df.shape"
      ],
      "execution_count": 11,
      "outputs": [
        {
          "output_type": "execute_result",
          "data": {
            "text/plain": [
              "(22895, 13)"
            ]
          },
          "metadata": {
            "tags": []
          },
          "execution_count": 11
        }
      ]
    },
    {
      "cell_type": "code",
      "metadata": {
        "colab": {
          "base_uri": "https://localhost:8080/"
        },
        "id": "_iJWXKSAuMnc",
        "outputId": "25343ee9-d405-42ca-d053-a6a1185970e4"
      },
      "source": [
        "airbnb_df.columns"
      ],
      "execution_count": 12,
      "outputs": [
        {
          "output_type": "execute_result",
          "data": {
            "text/plain": [
              "Index(['description', 'neighborhood_overview', 'street', 'neighborhood',\n",
              "       'city', 'suburb', 'state', 'zipcode', 'latitude', 'longitude', 'price',\n",
              "       'weekly_price', 'monthly_price'],\n",
              "      dtype='object')"
            ]
          },
          "metadata": {
            "tags": []
          },
          "execution_count": 12
        }
      ]
    },
    {
      "cell_type": "code",
      "metadata": {
        "colab": {
          "base_uri": "https://localhost:8080/",
          "height": 300
        },
        "id": "ABDvmaEPuQun",
        "outputId": "1c7bcfba-53da-4b74-e89c-b4bc1064a781"
      },
      "source": [
        "airbnb_df.describe()"
      ],
      "execution_count": 13,
      "outputs": [
        {
          "output_type": "execute_result",
          "data": {
            "text/html": [
              "<div>\n",
              "<style scoped>\n",
              "    .dataframe tbody tr th:only-of-type {\n",
              "        vertical-align: middle;\n",
              "    }\n",
              "\n",
              "    .dataframe tbody tr th {\n",
              "        vertical-align: top;\n",
              "    }\n",
              "\n",
              "    .dataframe thead th {\n",
              "        text-align: right;\n",
              "    }\n",
              "</style>\n",
              "<table border=\"1\" class=\"dataframe\">\n",
              "  <thead>\n",
              "    <tr style=\"text-align: right;\">\n",
              "      <th></th>\n",
              "      <th>latitude</th>\n",
              "      <th>longitude</th>\n",
              "      <th>price</th>\n",
              "      <th>weekly_price</th>\n",
              "      <th>monthly_price</th>\n",
              "    </tr>\n",
              "  </thead>\n",
              "  <tbody>\n",
              "    <tr>\n",
              "      <th>count</th>\n",
              "      <td>22895.000000</td>\n",
              "      <td>22895.000000</td>\n",
              "      <td>22895.000000</td>\n",
              "      <td>2524.000000</td>\n",
              "      <td>1891.000000</td>\n",
              "    </tr>\n",
              "    <tr>\n",
              "      <th>mean</th>\n",
              "      <td>-37.826827</td>\n",
              "      <td>145.008457</td>\n",
              "      <td>148.004368</td>\n",
              "      <td>906.976228</td>\n",
              "      <td>3234.346906</td>\n",
              "    </tr>\n",
              "    <tr>\n",
              "      <th>std</th>\n",
              "      <td>0.066747</td>\n",
              "      <td>0.127711</td>\n",
              "      <td>210.883253</td>\n",
              "      <td>821.223782</td>\n",
              "      <td>2808.092144</td>\n",
              "    </tr>\n",
              "    <tr>\n",
              "      <th>min</th>\n",
              "      <td>-38.224427</td>\n",
              "      <td>144.484326</td>\n",
              "      <td>0.000000</td>\n",
              "      <td>91.000000</td>\n",
              "      <td>400.000000</td>\n",
              "    </tr>\n",
              "    <tr>\n",
              "      <th>25%</th>\n",
              "      <td>-37.852665</td>\n",
              "      <td>144.957692</td>\n",
              "      <td>71.000000</td>\n",
              "      <td>450.000000</td>\n",
              "      <td>1700.000000</td>\n",
              "    </tr>\n",
              "    <tr>\n",
              "      <th>50%</th>\n",
              "      <td>-37.817855</td>\n",
              "      <td>144.978402</td>\n",
              "      <td>111.000000</td>\n",
              "      <td>750.000000</td>\n",
              "      <td>2800.000000</td>\n",
              "    </tr>\n",
              "    <tr>\n",
              "      <th>75%</th>\n",
              "      <td>-37.803176</td>\n",
              "      <td>145.013441</td>\n",
              "      <td>165.000000</td>\n",
              "      <td>1066.000000</td>\n",
              "      <td>3912.500000</td>\n",
              "    </tr>\n",
              "    <tr>\n",
              "      <th>max</th>\n",
              "      <td>-37.482595</td>\n",
              "      <td>145.839127</td>\n",
              "      <td>12624.000000</td>\n",
              "      <td>11536.000000</td>\n",
              "      <td>54258.000000</td>\n",
              "    </tr>\n",
              "  </tbody>\n",
              "</table>\n",
              "</div>"
            ],
            "text/plain": [
              "           latitude     longitude         price  weekly_price  monthly_price\n",
              "count  22895.000000  22895.000000  22895.000000   2524.000000    1891.000000\n",
              "mean     -37.826827    145.008457    148.004368    906.976228    3234.346906\n",
              "std        0.066747      0.127711    210.883253    821.223782    2808.092144\n",
              "min      -38.224427    144.484326      0.000000     91.000000     400.000000\n",
              "25%      -37.852665    144.957692     71.000000    450.000000    1700.000000\n",
              "50%      -37.817855    144.978402    111.000000    750.000000    2800.000000\n",
              "75%      -37.803176    145.013441    165.000000   1066.000000    3912.500000\n",
              "max      -37.482595    145.839127  12624.000000  11536.000000   54258.000000"
            ]
          },
          "metadata": {
            "tags": []
          },
          "execution_count": 13
        }
      ]
    },
    {
      "cell_type": "code",
      "metadata": {
        "colab": {
          "base_uri": "https://localhost:8080/"
        },
        "id": "Y2zgGAnmvH9e",
        "outputId": "e1b7b0ff-14e1-4c18-c334-f95c57a6428b"
      },
      "source": [
        "# La advertencia previa se debe a que la columna zipcode tiene diferentes tipos.\n",
        "airbnb_df.dtypes"
      ],
      "execution_count": 14,
      "outputs": [
        {
          "output_type": "execute_result",
          "data": {
            "text/plain": [
              "description               object\n",
              "neighborhood_overview     object\n",
              "street                    object\n",
              "neighborhood              object\n",
              "city                      object\n",
              "suburb                    object\n",
              "state                     object\n",
              "zipcode                   object\n",
              "latitude                 float64\n",
              "longitude                float64\n",
              "price                      int64\n",
              "weekly_price             float64\n",
              "monthly_price            float64\n",
              "dtype: object"
            ]
          },
          "metadata": {
            "tags": []
          },
          "execution_count": 14
        }
      ]
    },
    {
      "cell_type": "markdown",
      "metadata": {
        "id": "ismngxPcfoWb"
      },
      "source": [
        "Para poder realizar esta combinación de datos, tenemos que encontrar una columna que contenga información en común.\n",
        "\n",
        "Utilizaremos el **zipcode**.\n",
        "\n",
        "* ¿Qué desventajas tiene utilizar el *zipcode* para agregar información sobre la vecindad de cada propiedad en venta? ¿Se corresponde con lo que entendemos intuitivamente como vecindad?\n",
        "\n",
        "**Rta.** El código postal no es preciso, ya que solo codifica una zona definida arbitrariamente (y cuya definición a quedado obsoleta con el transcurso del tiempo). Una propiedad puede compartir código postal con otra. No se corresponde con nuestro entendimiento de vecindad.\n",
        "\n",
        "* ¿Qué otros métodos podrían utilizarse?\n",
        "\n",
        "**Rta.** Utilizar propiamente la dirección. En Argentina, estaría codificado por *barrio*, *calle*, y *altura*. Utilizar la posición geográfica, es decir, *latitud* y *longitud*."
      ]
    },
    {
      "cell_type": "code",
      "metadata": {
        "colab": {
          "base_uri": "https://localhost:8080/"
        },
        "id": "dTss9P-PgGOi",
        "outputId": "b31d8318-1682-45f7-d8cf-ab16816d6947"
      },
      "source": [
        "airbnb_df.zipcode.value_counts()[:5]"
      ],
      "execution_count": 15,
      "outputs": [
        {
          "output_type": "execute_result",
          "data": {
            "text/plain": [
              "3000.0    2491\n",
              "3000       876\n",
              "3006.0     860\n",
              "3182.0     579\n",
              "3182       556\n",
              "Name: zipcode, dtype: int64"
            ]
          },
          "metadata": {
            "tags": []
          },
          "execution_count": 15
        }
      ]
    },
    {
      "cell_type": "markdown",
      "metadata": {
        "id": "kAMLtgh6gNQN"
      },
      "source": [
        " Sin embargo, este zipcode tiene tipos diferentes, que tendremos que estandarizar antes de continuar con la combinación de los datos."
      ]
    },
    {
      "cell_type": "code",
      "metadata": {
        "id": "xbDm0-VwQd97"
      },
      "source": [
        "airbnb_df['zipcode'] = pandas.to_numeric(airbnb_df.zipcode, errors='coerce')"
      ],
      "execution_count": 16,
      "outputs": []
    },
    {
      "cell_type": "markdown",
      "metadata": {
        "id": "JOahRB4qggBA"
      },
      "source": [
        "### Valores en común\n",
        "\n",
        "Antes de unir los conjuntos de datos, tenemos que asegurarnos que tengamos suficientes registros en común como para agregar información relevante."
      ]
    },
    {
      "cell_type": "code",
      "metadata": {
        "colab": {
          "base_uri": "https://localhost:8080/"
        },
        "id": "2Gxz99YJJSCk",
        "outputId": "901ef9a7-400f-428e-d465-82a6290da0ce"
      },
      "source": [
        "intersection = numpy.intersect1d(\n",
        "    airbnb_df.zipcode.values,\n",
        "    melb_df.Postcode.values,\n",
        "    assume_unique=False)\n",
        "\n",
        "print(\"Airbnb unique zipcodes\", len(airbnb_df.zipcode.unique()))\n",
        "print(\"Sales unique postcodes\", len(melb_df.Postcode.unique()))\n",
        "print(\"Common codes\", len(intersection))"
      ],
      "execution_count": 17,
      "outputs": [
        {
          "output_type": "stream",
          "text": [
            "Airbnb unique zipcodes 248\n",
            "Sales unique postcodes 198\n",
            "Common codes 191\n"
          ],
          "name": "stdout"
        }
      ]
    },
    {
      "cell_type": "code",
      "metadata": {
        "colab": {
          "base_uri": "https://localhost:8080/"
        },
        "id": "AB41oWdhLKJU",
        "outputId": "9620ea8b-f7c9-46c2-b2a8-b3ec29724218"
      },
      "source": [
        "pSales = melb_df.Postcode.isin(intersection).sum() / len(melb_df)\n",
        "pAirbnb = airbnb_df.zipcode.isin(intersection).sum() / len(airbnb_df)\n",
        "\n",
        "print(f'Records in Sales df with corresponding code from Airbnb df: {pSales}')\n",
        "print(f'Records in Airbnb df with corresponding code from Sales df: {pAirbnb}')"
      ],
      "execution_count": 18,
      "outputs": [
        {
          "output_type": "stream",
          "text": [
            "Records in Sales df with corresponding code from Airbnb df: 0.9985272459499264\n",
            "Records in Airbnb df with corresponding code from Sales df: 0.9302904564315353\n"
          ],
          "name": "stdout"
        }
      ]
    },
    {
      "cell_type": "markdown",
      "metadata": {
        "id": "bwvm0M48OdF6"
      },
      "source": [
        "### Exploración visual\n",
        "\n",
        "Para terminar de asegurarnos de que las áreas representadas por ambos datasets son consistentes, podemos representar las coordenadas en un mapa usando *Plotly*.\n",
        "\n",
        "Aunque estas visualizaciones no son completas en cuanto a la información geográfica que muestran, aproximadamente podemos ver que se tratan de zonas similares."
      ]
    },
    {
      "cell_type": "code",
      "metadata": {
        "colab": {
          "base_uri": "https://localhost:8080/",
          "height": 542
        },
        "id": "J5P1Tu8UE5Zm",
        "outputId": "daf954fb-ccd1-4354-f598-852a70c5b5c3"
      },
      "source": [
        "import plotly.express as px\n",
        "\n",
        "color_col = 'YearBuilt'\n",
        "# Una pequeña muestra de nuestro dataset (con año de construcción no nulo)\n",
        "data = melb_df[melb_df[color_col].notna()].sample(300)\n",
        "\n",
        "fig = px.scatter_geo(data, lat=data.Lattitude, lon=data.Longtitude, color=data[color_col])\n",
        "fig.update_geos(fitbounds=\"locations\")\n",
        "fig.show()"
      ],
      "execution_count": 19,
      "outputs": [
        {
          "output_type": "display_data",
          "data": {
            "text/html": [
              "<html>\n",
              "<head><meta charset=\"utf-8\" /></head>\n",
              "<body>\n",
              "    <div>            <script src=\"https://cdnjs.cloudflare.com/ajax/libs/mathjax/2.7.5/MathJax.js?config=TeX-AMS-MML_SVG\"></script><script type=\"text/javascript\">if (window.MathJax) {MathJax.Hub.Config({SVG: {font: \"STIX-Web\"}});}</script>                <script type=\"text/javascript\">window.PlotlyConfig = {MathJaxConfig: 'local'};</script>\n",
              "        <script src=\"https://cdn.plot.ly/plotly-latest.min.js\"></script>                <div id=\"9b42ac72-e6c8-4bbf-b92a-06aa25f10424\" class=\"plotly-graph-div\" style=\"height:525px; width:100%;\"></div>            <script type=\"text/javascript\">                                    window.PLOTLYENV=window.PLOTLYENV || {};                                    if (document.getElementById(\"9b42ac72-e6c8-4bbf-b92a-06aa25f10424\")) {                    Plotly.newPlot(                        \"9b42ac72-e6c8-4bbf-b92a-06aa25f10424\",                        [{\"geo\": \"geo\", \"hovertemplate\": \"Lattitude=%{lat}<br>Longtitude=%{lon}<br>YearBuilt=%{marker.color}<extra></extra>\", \"lat\": [-37.7947, -37.8225, -37.78495, -37.789, -37.861, -37.87389, -38.06688, -37.708220000000004, -37.7698, -37.9064, -37.7391, -37.7663, -37.72304000000001, -37.95236, -37.64206, -37.96877, -37.7969, -37.95017, -37.851, -37.56883, -37.7508, -37.730509999999995, -37.8044, -37.7653, -37.7595, -37.7975, -37.8941, -37.760999999999996, -37.8263, -37.8444, -37.90953, -37.80576, -37.84388, -37.8838, -37.76508, -37.88066, -37.7074, -37.762, -37.7459, -37.7492, -37.69999, -37.844, -37.8582, -37.8607, -37.704840000000004, -37.7525, -37.8299, -37.8087, -37.840959999999995, -37.89438, -37.7706, -37.7739, -37.876059999999995, -37.70267, -37.87895, -37.8138, -37.857279999999996, -37.7502, -37.764309999999995, -37.7719, -37.9292, -37.8536, -37.78774, -37.92801, -37.87972, -37.7804, -37.8392, -37.7378, -38.15517, -37.7976, -37.7028, -37.8726, -37.92109, -37.7799, -37.705999999999996, -37.8656, -37.90164, -37.9098, -37.9031, -37.7917, -37.826, -37.872409999999995, -37.8266, -37.79702, -37.8542, -37.78133, -37.7665, -37.845, -37.8163, -37.83729, -37.80039, -37.81767, -37.8928, -37.7749, -37.79546, -37.8003, -37.8261, -37.84107, -37.754020000000004, -37.8782, -37.58505, -37.7277, -37.871, -37.78053, -37.723, -37.782, -37.7939, -37.75079, -37.9016, -37.80348, -37.586890000000004, -37.79436, -37.6845, -37.7607, -37.8446, -37.7711, -37.7709, -37.7629, -37.79459, -37.8194, -37.7813, -37.8323, -37.900009999999995, -37.727, -37.7894, -37.84484000000001, -37.8575, -37.58676, -37.7746, -37.69558, -37.79855, -37.71364000000001, -38.11014, -37.75238, -37.82982, -37.75049, -37.765, -37.8868, -37.7921, -37.8507, -37.8351, -37.7786, -37.9215, -37.911, -37.8209, -37.63799, -37.8723, -37.8015, -37.8704, -37.79122, -37.7642, -37.8346, -37.88189000000001, -37.988409999999995, -37.8202, -37.8614, -37.7627, -37.8592, -37.8327, -37.8261, -37.87345, -37.88783, -37.7935, -37.83208, -37.7728, -37.83732, -37.9391, -37.713, -37.7203, -37.7354, -37.8971, -37.7929, -37.580890000000004, -37.8035, -37.8289, -37.8593, -37.7261, -37.99515, -37.7626, -37.7964, -37.8158, -37.8125, -37.734, -37.71071, -37.8861, -37.7497, -37.8852, -37.806, -37.7795, -37.8655, -37.82091, -37.79032, -37.8216, -37.8829, -37.7112, -37.90542, -37.7961, -37.72184, -37.696459999999995, -37.7495, -37.70198, -37.6878, -37.82214000000001, -37.82335, -37.87377, -37.7544, -37.784, -37.743, -37.8209, -37.8004, -37.8499, -37.7778, -37.77655, -37.797, -37.7711, -37.7663, -37.7466, -37.8331, -37.90822, -37.8183, -37.8571, -37.7607, -37.8424, -37.89718, -37.7507, -37.7598, -37.776509999999995, -37.8752, -37.77387, -37.70077, -37.7507, -37.595009999999995, -37.8064, -37.79, -37.73935, -37.7537, -37.7748, -37.92778, -37.707, -37.8437, -37.744820000000004, -37.78449000000001, -37.9461, -37.7493, -37.8556, -38.00482, -37.7931, -37.7569, -37.75403, -37.7675, -37.7615, -37.7951, -37.7072, -37.83455, -37.9228, -37.7887, -37.70697, -37.7047, -37.7772, -37.79893, -37.7896, -37.97215, -37.819, -38.16483, -37.7822, -37.8135, -37.7582, -37.730740000000004, -37.9084, -37.7835, -37.77459, -37.712109999999996, -37.7405, -37.7195, -37.69636, -37.7754, -37.7864, -37.823, -37.79938, -37.8212, -37.8153, -37.8014, -37.84398, -37.71176, -37.7588, -37.7868, -37.77539, -37.7424, -37.81153, -37.7628, -37.7308, -37.76545, -37.7099, -37.8734, -37.78458, -37.762609999999995, -37.70295, -37.69159000000001, -37.82258, -37.7639], \"legendgroup\": \"\", \"lon\": [144.9724, 145.0029, 145.3919, 145.0616, 144.9819, 145.12783000000005, 145.12398000000005, 145.11495, 145.1028, 145.0287, 144.9812, 145.1132, 144.92864, 145.00737, 145.03703000000004, 145.07484, 144.8647, 145.02053999999995, 144.988, 144.90887, 145.0209, 144.91731000000001, 145.1006, 145.0014, 144.8993, 145.0961, 145.0655, 144.9262, 144.8775, 145.1054, 145.0155, 145.06978999999995, 144.95303, 144.9853, 144.83629, 145.06605, 144.9086, 145.0645, 144.8788, 144.969, 145.1279, 144.9867, 144.9979, 145.0116, 144.57261, 144.9321, 145.0387, 144.8952, 144.93791000000004, 145.00851, 145.0225, 145.1287, 145.15951, 145.09526, 144.6707, 144.9548, 145.24839, 145.0605, 145.17778, 145.0195, 145.0236, 144.8981, 144.76019, 145.1057, 145.03351, 144.9748, 144.9421, 144.8264, 145.12705, 144.9454, 144.9377, 144.9782, 145.00088, 144.9937, 144.9467, 144.9919, 145.04138999999995, 145.097, 145.0804, 144.8196, 145.0729, 145.05103, 145.0849, 145.05352, 145.01506, 144.86768, 144.9425, 144.8873, 145.0301, 145.10929, 145.0961, 145.04041, 145.0531, 145.1138, 145.04533, 145.0375, 145.0269, 144.84179, 144.95991, 145.0649, 144.93591999999995, 144.73422, 144.8185, 145.15567, 144.96, 145.1194, 144.8846, 145.20617, 145.0414, 144.98256999999995, 144.72865, 145.13869, 144.90761, 145.0853, 145.00018, 144.9122, 144.9334, 144.9157, 145.03921, 145.0397, 144.9371, 144.9463, 145.18688, 144.887, 145.1333, 144.85017, 145.0554, 145.08889, 144.9031, 144.93223, 145.04493, 144.76031, 145.14336, 144.92248999999995, 145.01038, 145.02098999999995, 145.0407, 145.0408, 144.9234, 145.109, 144.9675, 144.9818, 145.0925, 144.9866, 145.0052, 144.92924, 145.1089, 144.9972, 145.0495, 144.93175, 144.9963, 144.9688, 145.29148, 145.26001000000005, 144.8896, 144.9741, 144.81107, 145.0484, 145.05428, 145.0269, 145.22973000000005, 145.01324, 144.8893, 145.07533, 145.0214, 145.01164, 145.012, 145.0108, 144.8757, 144.9128, 145.0093, 144.9197, 144.72183, 144.985, 145.0089, 145.1101, 144.9171, 145.23244, 144.8954, 144.9027, 144.8707, 145.0901, 144.9603, 144.74962, 145.0014, 145.011, 144.9877, 144.942, 145.1294, 145.096, 145.06011, 145.05408, 145.127, 144.9797, 144.9989, 144.99817, 144.9261, 144.92969, 145.12163, 144.9205, 144.92166, 144.9112, 145.03288, 145.11358, 145.28688, 144.998, 144.9356, 144.9084, 144.8913, 144.9544, 145.0814, 144.9824, 144.96325, 144.9051, 145.047, 145.0118, 145.0428, 144.9975, 145.12036, 145.0371, 144.9979, 144.9314, 144.8653, 145.01657, 144.8576, 144.9655, 144.99074, 144.9911, 145.0889, 145.12743, 144.8911, 144.70068999999995, 145.0451, 144.8815, 145.01516999999996, 144.9766, 144.929, 145.24796, 144.9411, 144.865, 144.97499, 144.93482, 145.02432, 144.9112, 144.9885, 145.08746000000005, 144.8938, 145.1179, 144.8867, 144.8414, 145.0705, 144.8213, 145.0855, 145.16173999999995, 145.0022, 144.8231, 145.14105, 144.9087, 145.1157, 145.04266, 144.9321, 145.12389, 145.13537, 145.16383000000005, 145.0907, 145.19971999999999, 144.9128, 144.78925, 145.0221, 144.9867, 144.92993, 144.57703999999995, 145.0876, 144.9982, 144.88265, 145.00229, 144.8353, 144.9982, 145.05662, 145.1064, 144.8796, 145.0892, 144.95044, 145.02142, 144.9646, 145.0677, 144.95576, 144.9571, 145.1855, 144.94011, 145.0932, 144.94442, 144.9938, 145.0887, 145.07912, 144.93249, 145.00277, 144.5864, 145.0193, 145.0135], \"marker\": {\"color\": [1860.0, 1900.0, 1970.0, 1940.0, 1914.0, 1960.0, 1950.0, 2000.0, 1960.0, 1924.0, 1950.0, 1963.0, 2012.0, 1970.0, 1979.0, 1970.0, 1940.0, 2012.0, 1888.0, 2014.0, 1950.0, 1960.0, 2016.0, 1890.0, 1950.0, 1950.0, 1970.0, 2000.0, 1950.0, 1950.0, 1925.0, 1940.0, 1890.0, 1960.0, 2005.0, 1930.0, 2013.0, 1956.0, 1980.0, 1985.0, 1980.0, 1990.0, 1945.0, 2011.0, 1980.0, 1950.0, 1960.0, 1910.0, 2010.0, 1970.0, 1950.0, 2002.0, 1990.0, 2000.0, 2013.0, 1974.0, 1970.0, 1965.0, 1980.0, 1970.0, 2000.0, 1980.0, 2010.0, 1950.0, 1975.0, 1900.0, 2000.0, 1980.0, 1960.0, 1970.0, 1950.0, 1979.0, 1970.0, 1900.0, 1960.0, 1960.0, 2010.0, 1955.0, 2000.0, 1960.0, 1910.0, 1910.0, 1890.0, 1910.0, 1930.0, 2014.0, 1970.0, 1995.0, 1970.0, 1960.0, 2007.0, 1900.0, 1920.0, 2001.0, 1925.0, 1970.0, 1970.0, 1965.0, 1888.0, 2000.0, 2007.0, 2008.0, 1980.0, 1970.0, 1925.0, 1970.0, 2000.0, 1975.0, 2010.0, 2013.0, 1960.0, 1965.0, 1950.0, 1960.0, 1960.0, 1900.0, 1997.0, 1900.0, 1940.0, 1960.0, 1930.0, 1880.0, 1990.0, 2009.0, 1960.0, 1960.0, 1930.0, 2012.0, 1955.0, 1950.0, 1960.0, 2005.0, 1960.0, 1886.0, 2010.0, 1970.0, 1990.0, 1960.0, 2000.0, 1950.0, 1998.0, 1890.0, 1960.0, 1980.0, 1900.0, 1994.0, 2012.0, 1970.0, 1940.0, 2011.0, 1995.0, 1910.0, 1960.0, 1980.0, 1880.0, 2005.0, 1989.0, 2011.0, 1960.0, 1960.0, 2001.0, 1915.0, 1900.0, 1945.0, 1930.0, 1965.0, 1987.0, 2014.0, 1950.0, 1995.0, 1970.0, 2000.0, 1970.0, 1880.0, 1890.0, 2005.0, 1950.0, 1959.0, 1950.0, 1980.0, 1940.0, 1975.0, 1920.0, 2002.0, 2000.0, 1935.0, 2002.0, 1900.0, 1969.0, 1930.0, 2015.0, 1962.0, 2010.0, 1996.0, 2012.0, 2011.0, 2012.0, 2011.0, 1975.0, 1980.0, 1960.0, 1965.0, 2014.0, 2000.0, 1975.0, 1918.0, 2009.0, 1970.0, 1920.0, 2004.0, 1970.0, 1880.0, 1900.0, 1900.0, 1960.0, 1930.0, 1955.0, 2005.0, 1997.0, 1905.0, 2005.0, 1995.0, 2015.0, 2017.0, 1990.0, 1960.0, 1910.0, 1970.0, 1998.0, 1975.0, 2015.0, 2011.0, 1970.0, 1920.0, 1965.0, 1900.0, 1900.0, 2001.0, 2012.0, 1935.0, 1930.0, 1900.0, 2006.0, 1910.0, 1930.0, 1970.0, 1890.0, 1960.0, 2000.0, 1955.0, 1950.0, 1975.0, 1960.0, 1960.0, 2000.0, 1970.0, 1980.0, 2001.0, 1960.0, 1930.0, 1998.0, 2000.0, 2012.0, 1980.0, 1970.0, 1975.0, 1920.0, 1975.0, 1945.0, 1898.0, 1910.0, 1983.0, 1995.0, 1950.0, 1980.0, 1910.0, 1940.0, 2012.0, 1940.0, 1960.0, 1920.0, 1960.0, 1880.0, 2012.0, 2009.0, 1955.0, 1910.0, 2016.0, 1970.0, 1997.0, 1950.0, 1910.0, 1960.0, 1950.0, 2010.0, 1930.0, 1960.0, 2004.0, 1965.0, 1995.0], \"coloraxis\": \"coloraxis\", \"symbol\": \"circle\"}, \"mode\": \"markers\", \"name\": \"\", \"showlegend\": false, \"type\": \"scattergeo\"}],                        {\"coloraxis\": {\"colorbar\": {\"title\": {\"text\": \"YearBuilt\"}}, \"colorscale\": [[0.0, \"#0d0887\"], [0.1111111111111111, \"#46039f\"], [0.2222222222222222, \"#7201a8\"], [0.3333333333333333, \"#9c179e\"], [0.4444444444444444, \"#bd3786\"], [0.5555555555555556, \"#d8576b\"], [0.6666666666666666, \"#ed7953\"], [0.7777777777777778, \"#fb9f3a\"], [0.8888888888888888, \"#fdca26\"], [1.0, \"#f0f921\"]]}, \"geo\": {\"center\": {}, \"domain\": {\"x\": [0.0, 1.0], \"y\": [0.0, 1.0]}, \"fitbounds\": \"locations\"}, \"legend\": {\"tracegroupgap\": 0}, \"margin\": {\"t\": 60}, \"template\": {\"data\": {\"bar\": [{\"error_x\": {\"color\": \"#2a3f5f\"}, \"error_y\": {\"color\": \"#2a3f5f\"}, \"marker\": {\"line\": {\"color\": \"#E5ECF6\", \"width\": 0.5}}, \"type\": \"bar\"}], \"barpolar\": [{\"marker\": {\"line\": {\"color\": \"#E5ECF6\", \"width\": 0.5}}, \"type\": \"barpolar\"}], \"carpet\": [{\"aaxis\": {\"endlinecolor\": \"#2a3f5f\", \"gridcolor\": \"white\", \"linecolor\": \"white\", \"minorgridcolor\": \"white\", \"startlinecolor\": \"#2a3f5f\"}, \"baxis\": {\"endlinecolor\": \"#2a3f5f\", \"gridcolor\": \"white\", \"linecolor\": \"white\", \"minorgridcolor\": \"white\", \"startlinecolor\": \"#2a3f5f\"}, \"type\": \"carpet\"}], \"choropleth\": [{\"colorbar\": {\"outlinewidth\": 0, \"ticks\": \"\"}, \"type\": \"choropleth\"}], \"contour\": [{\"colorbar\": {\"outlinewidth\": 0, \"ticks\": \"\"}, \"colorscale\": [[0.0, \"#0d0887\"], [0.1111111111111111, \"#46039f\"], [0.2222222222222222, \"#7201a8\"], [0.3333333333333333, \"#9c179e\"], [0.4444444444444444, \"#bd3786\"], [0.5555555555555556, \"#d8576b\"], [0.6666666666666666, \"#ed7953\"], [0.7777777777777778, \"#fb9f3a\"], [0.8888888888888888, \"#fdca26\"], [1.0, \"#f0f921\"]], \"type\": \"contour\"}], \"contourcarpet\": [{\"colorbar\": {\"outlinewidth\": 0, \"ticks\": \"\"}, \"type\": \"contourcarpet\"}], \"heatmap\": [{\"colorbar\": {\"outlinewidth\": 0, \"ticks\": \"\"}, \"colorscale\": [[0.0, \"#0d0887\"], [0.1111111111111111, \"#46039f\"], [0.2222222222222222, \"#7201a8\"], [0.3333333333333333, \"#9c179e\"], [0.4444444444444444, \"#bd3786\"], [0.5555555555555556, \"#d8576b\"], [0.6666666666666666, \"#ed7953\"], [0.7777777777777778, \"#fb9f3a\"], [0.8888888888888888, \"#fdca26\"], [1.0, \"#f0f921\"]], \"type\": \"heatmap\"}], \"heatmapgl\": [{\"colorbar\": {\"outlinewidth\": 0, \"ticks\": \"\"}, \"colorscale\": [[0.0, \"#0d0887\"], [0.1111111111111111, \"#46039f\"], [0.2222222222222222, \"#7201a8\"], [0.3333333333333333, \"#9c179e\"], [0.4444444444444444, \"#bd3786\"], [0.5555555555555556, \"#d8576b\"], [0.6666666666666666, \"#ed7953\"], [0.7777777777777778, \"#fb9f3a\"], [0.8888888888888888, \"#fdca26\"], [1.0, \"#f0f921\"]], \"type\": \"heatmapgl\"}], \"histogram\": [{\"marker\": {\"colorbar\": {\"outlinewidth\": 0, \"ticks\": \"\"}}, \"type\": \"histogram\"}], \"histogram2d\": [{\"colorbar\": {\"outlinewidth\": 0, \"ticks\": \"\"}, \"colorscale\": [[0.0, \"#0d0887\"], [0.1111111111111111, \"#46039f\"], [0.2222222222222222, \"#7201a8\"], [0.3333333333333333, \"#9c179e\"], [0.4444444444444444, \"#bd3786\"], [0.5555555555555556, \"#d8576b\"], [0.6666666666666666, \"#ed7953\"], [0.7777777777777778, \"#fb9f3a\"], [0.8888888888888888, \"#fdca26\"], [1.0, \"#f0f921\"]], \"type\": \"histogram2d\"}], \"histogram2dcontour\": [{\"colorbar\": {\"outlinewidth\": 0, \"ticks\": \"\"}, \"colorscale\": [[0.0, \"#0d0887\"], [0.1111111111111111, \"#46039f\"], [0.2222222222222222, \"#7201a8\"], [0.3333333333333333, \"#9c179e\"], [0.4444444444444444, \"#bd3786\"], [0.5555555555555556, \"#d8576b\"], [0.6666666666666666, \"#ed7953\"], [0.7777777777777778, \"#fb9f3a\"], [0.8888888888888888, \"#fdca26\"], [1.0, \"#f0f921\"]], \"type\": \"histogram2dcontour\"}], \"mesh3d\": [{\"colorbar\": {\"outlinewidth\": 0, \"ticks\": \"\"}, \"type\": \"mesh3d\"}], \"parcoords\": [{\"line\": {\"colorbar\": {\"outlinewidth\": 0, \"ticks\": \"\"}}, \"type\": \"parcoords\"}], \"pie\": [{\"automargin\": true, \"type\": \"pie\"}], \"scatter\": [{\"marker\": {\"colorbar\": {\"outlinewidth\": 0, \"ticks\": \"\"}}, \"type\": \"scatter\"}], \"scatter3d\": [{\"line\": {\"colorbar\": {\"outlinewidth\": 0, \"ticks\": \"\"}}, \"marker\": {\"colorbar\": {\"outlinewidth\": 0, \"ticks\": \"\"}}, \"type\": \"scatter3d\"}], \"scattercarpet\": [{\"marker\": {\"colorbar\": {\"outlinewidth\": 0, \"ticks\": \"\"}}, \"type\": \"scattercarpet\"}], \"scattergeo\": [{\"marker\": {\"colorbar\": {\"outlinewidth\": 0, \"ticks\": \"\"}}, \"type\": \"scattergeo\"}], \"scattergl\": [{\"marker\": {\"colorbar\": {\"outlinewidth\": 0, \"ticks\": \"\"}}, \"type\": \"scattergl\"}], \"scattermapbox\": [{\"marker\": {\"colorbar\": {\"outlinewidth\": 0, \"ticks\": \"\"}}, \"type\": \"scattermapbox\"}], \"scatterpolar\": [{\"marker\": {\"colorbar\": {\"outlinewidth\": 0, \"ticks\": \"\"}}, \"type\": \"scatterpolar\"}], \"scatterpolargl\": [{\"marker\": {\"colorbar\": {\"outlinewidth\": 0, \"ticks\": \"\"}}, \"type\": \"scatterpolargl\"}], \"scatterternary\": [{\"marker\": {\"colorbar\": {\"outlinewidth\": 0, \"ticks\": \"\"}}, \"type\": \"scatterternary\"}], \"surface\": [{\"colorbar\": {\"outlinewidth\": 0, \"ticks\": \"\"}, \"colorscale\": [[0.0, \"#0d0887\"], [0.1111111111111111, \"#46039f\"], [0.2222222222222222, \"#7201a8\"], [0.3333333333333333, \"#9c179e\"], [0.4444444444444444, \"#bd3786\"], [0.5555555555555556, \"#d8576b\"], [0.6666666666666666, \"#ed7953\"], [0.7777777777777778, \"#fb9f3a\"], [0.8888888888888888, \"#fdca26\"], [1.0, \"#f0f921\"]], \"type\": \"surface\"}], \"table\": [{\"cells\": {\"fill\": {\"color\": \"#EBF0F8\"}, \"line\": {\"color\": \"white\"}}, \"header\": {\"fill\": {\"color\": \"#C8D4E3\"}, \"line\": {\"color\": \"white\"}}, \"type\": \"table\"}]}, \"layout\": {\"annotationdefaults\": {\"arrowcolor\": \"#2a3f5f\", \"arrowhead\": 0, \"arrowwidth\": 1}, \"autotypenumbers\": \"strict\", \"coloraxis\": {\"colorbar\": {\"outlinewidth\": 0, \"ticks\": \"\"}}, \"colorscale\": {\"diverging\": [[0, \"#8e0152\"], [0.1, \"#c51b7d\"], [0.2, \"#de77ae\"], [0.3, \"#f1b6da\"], [0.4, \"#fde0ef\"], [0.5, \"#f7f7f7\"], [0.6, \"#e6f5d0\"], [0.7, \"#b8e186\"], [0.8, \"#7fbc41\"], [0.9, \"#4d9221\"], [1, \"#276419\"]], \"sequential\": [[0.0, \"#0d0887\"], [0.1111111111111111, \"#46039f\"], [0.2222222222222222, \"#7201a8\"], [0.3333333333333333, \"#9c179e\"], [0.4444444444444444, \"#bd3786\"], [0.5555555555555556, \"#d8576b\"], [0.6666666666666666, \"#ed7953\"], [0.7777777777777778, \"#fb9f3a\"], [0.8888888888888888, \"#fdca26\"], [1.0, \"#f0f921\"]], \"sequentialminus\": [[0.0, \"#0d0887\"], [0.1111111111111111, \"#46039f\"], [0.2222222222222222, \"#7201a8\"], [0.3333333333333333, \"#9c179e\"], [0.4444444444444444, \"#bd3786\"], [0.5555555555555556, \"#d8576b\"], [0.6666666666666666, \"#ed7953\"], [0.7777777777777778, \"#fb9f3a\"], [0.8888888888888888, \"#fdca26\"], [1.0, \"#f0f921\"]]}, \"colorway\": [\"#636efa\", \"#EF553B\", \"#00cc96\", \"#ab63fa\", \"#FFA15A\", \"#19d3f3\", \"#FF6692\", \"#B6E880\", \"#FF97FF\", \"#FECB52\"], \"font\": {\"color\": \"#2a3f5f\"}, \"geo\": {\"bgcolor\": \"white\", \"lakecolor\": \"white\", \"landcolor\": \"#E5ECF6\", \"showlakes\": true, \"showland\": true, \"subunitcolor\": \"white\"}, \"hoverlabel\": {\"align\": \"left\"}, \"hovermode\": \"closest\", \"mapbox\": {\"style\": \"light\"}, \"paper_bgcolor\": \"white\", \"plot_bgcolor\": \"#E5ECF6\", \"polar\": {\"angularaxis\": {\"gridcolor\": \"white\", \"linecolor\": \"white\", \"ticks\": \"\"}, \"bgcolor\": \"#E5ECF6\", \"radialaxis\": {\"gridcolor\": \"white\", \"linecolor\": \"white\", \"ticks\": \"\"}}, \"scene\": {\"xaxis\": {\"backgroundcolor\": \"#E5ECF6\", \"gridcolor\": \"white\", \"gridwidth\": 2, \"linecolor\": \"white\", \"showbackground\": true, \"ticks\": \"\", \"zerolinecolor\": \"white\"}, \"yaxis\": {\"backgroundcolor\": \"#E5ECF6\", \"gridcolor\": \"white\", \"gridwidth\": 2, \"linecolor\": \"white\", \"showbackground\": true, \"ticks\": \"\", \"zerolinecolor\": \"white\"}, \"zaxis\": {\"backgroundcolor\": \"#E5ECF6\", \"gridcolor\": \"white\", \"gridwidth\": 2, \"linecolor\": \"white\", \"showbackground\": true, \"ticks\": \"\", \"zerolinecolor\": \"white\"}}, \"shapedefaults\": {\"line\": {\"color\": \"#2a3f5f\"}}, \"ternary\": {\"aaxis\": {\"gridcolor\": \"white\", \"linecolor\": \"white\", \"ticks\": \"\"}, \"baxis\": {\"gridcolor\": \"white\", \"linecolor\": \"white\", \"ticks\": \"\"}, \"bgcolor\": \"#E5ECF6\", \"caxis\": {\"gridcolor\": \"white\", \"linecolor\": \"white\", \"ticks\": \"\"}}, \"title\": {\"x\": 0.05}, \"xaxis\": {\"automargin\": true, \"gridcolor\": \"white\", \"linecolor\": \"white\", \"ticks\": \"\", \"title\": {\"standoff\": 15}, \"zerolinecolor\": \"white\", \"zerolinewidth\": 2}, \"yaxis\": {\"automargin\": true, \"gridcolor\": \"white\", \"linecolor\": \"white\", \"ticks\": \"\", \"title\": {\"standoff\": 15}, \"zerolinecolor\": \"white\", \"zerolinewidth\": 2}}}},                        {\"responsive\": true}                    ).then(function(){\n",
              "                            \n",
              "var gd = document.getElementById('9b42ac72-e6c8-4bbf-b92a-06aa25f10424');\n",
              "var x = new MutationObserver(function (mutations, observer) {{\n",
              "        var display = window.getComputedStyle(gd).display;\n",
              "        if (!display || display === 'none') {{\n",
              "            console.log([gd, 'removed!']);\n",
              "            Plotly.purge(gd);\n",
              "            observer.disconnect();\n",
              "        }}\n",
              "}});\n",
              "\n",
              "// Listen for the removal of the full notebook cells\n",
              "var notebookContainer = gd.closest('#notebook-container');\n",
              "if (notebookContainer) {{\n",
              "    x.observe(notebookContainer, {childList: true});\n",
              "}}\n",
              "\n",
              "// Listen for the clearing of the current output cell\n",
              "var outputEl = gd.closest('.output');\n",
              "if (outputEl) {{\n",
              "    x.observe(outputEl, {childList: true});\n",
              "}}\n",
              "\n",
              "                        })                };                            </script>        </div>\n",
              "</body>\n",
              "</html>"
            ]
          },
          "metadata": {
            "tags": []
          }
        }
      ]
    },
    {
      "cell_type": "code",
      "metadata": {
        "colab": {
          "base_uri": "https://localhost:8080/",
          "height": 542
        },
        "id": "YQwnjE3MFVN1",
        "outputId": "a8665d3b-7969-4a2d-85c3-9e70959cee92"
      },
      "source": [
        "import plotly.express as px\n",
        "\n",
        "color_col = 'city'\n",
        "# Una pequeña muestra de nuestro dataset (con ciudad no nula)\n",
        "data = airbnb_df[airbnb_df[color_col].notna()].sample(300)\n",
        "\n",
        "fig = px.scatter_geo(data, lat=data.latitude, lon=data.longitude, color=data[color_col])\n",
        "fig.update_geos(fitbounds=\"locations\")\n",
        "fig.show()"
      ],
      "execution_count": 20,
      "outputs": [
        {
          "output_type": "display_data",
          "data": {
            "text/html": [
              "<html>\n",
              "<head><meta charset=\"utf-8\" /></head>\n",
              "<body>\n",
              "    <div>            <script src=\"https://cdnjs.cloudflare.com/ajax/libs/mathjax/2.7.5/MathJax.js?config=TeX-AMS-MML_SVG\"></script><script type=\"text/javascript\">if (window.MathJax) {MathJax.Hub.Config({SVG: {font: \"STIX-Web\"}});}</script>                <script type=\"text/javascript\">window.PlotlyConfig = {MathJaxConfig: 'local'};</script>\n",
              "        <script src=\"https://cdn.plot.ly/plotly-latest.min.js\"></script>                <div id=\"58bef759-5564-483b-aee4-be29dfa2828f\" class=\"plotly-graph-div\" style=\"height:525px; width:100%;\"></div>            <script type=\"text/javascript\">                                    window.PLOTLYENV=window.PLOTLYENV || {};                                    if (document.getElementById(\"58bef759-5564-483b-aee4-be29dfa2828f\")) {                    Plotly.newPlot(                        \"58bef759-5564-483b-aee4-be29dfa2828f\",                        [{\"geo\": \"geo\", \"hovertemplate\": \"city=Stonnington<br>latitude=%{lat}<br>longitude=%{lon}<extra></extra>\", \"lat\": [-37.84772765, -37.83310406, -37.84506456, -37.83734576, -37.84939711, -37.84388916, -37.83771931, -37.84333427, -37.86312735, -37.86174554, -37.84546395, -37.85705432, -37.85069157, -37.86013491, -37.83667579, -37.83914216, -37.85229193, -37.83504229, -37.8411181, -37.85142249, -37.84983299, -37.83698605, -37.86704594, -37.85607769, -37.83771629, -37.83543857, -37.84949824], \"legendgroup\": \"Stonnington\", \"lon\": [144.99165259999998, 144.9905822, 144.99478069999998, 144.9919361, 145.0222889, 144.9965192, 144.99622250000002, 144.9962233, 145.0270856, 145.0216937, 144.9917207, 145.0004189, 144.99406530000002, 145.0379944, 144.9887764, 144.9994245, 144.9873029, 145.01858430000001, 145.007928, 144.99410790000002, 144.9920148, 144.9943648, 145.0454427, 144.99219580000002, 144.9928572, 144.9946991, 144.9913982], \"marker\": {\"color\": \"#636efa\", \"symbol\": \"circle\"}, \"mode\": \"markers\", \"name\": \"Stonnington\", \"showlegend\": true, \"type\": \"scattergeo\"}, {\"geo\": \"geo\", \"hovertemplate\": \"city=Kingston<br>latitude=%{lat}<br>longitude=%{lon}<extra></extra>\", \"lat\": [-37.98379951, -37.99592279, -38.05762001, -37.95387366, -37.99926012, -38.02821726], \"legendgroup\": \"Kingston\", \"lon\": [145.0923328, 145.09590409999998, 145.12817990000002, 145.06388230000002, 145.09737900000002, 145.1025092], \"marker\": {\"color\": \"#EF553B\", \"symbol\": \"circle\"}, \"mode\": \"markers\", \"name\": \"Kingston\", \"showlegend\": true, \"type\": \"scattergeo\"}, {\"geo\": \"geo\", \"hovertemplate\": \"city=Melbourne<br>latitude=%{lat}<br>longitude=%{lon}<extra></extra>\", \"lat\": [-37.83004337, -37.81144608, -37.81592736, -37.82058708, -37.80997106, -37.81488487, -37.81574228, -37.82651889, -37.82534096, -37.8074322, -37.81772044, -37.805499700000006, -37.81397224, -37.80069248, -37.825252899999995, -37.82635928, -37.80536506, -37.82826075, -37.81918246, -37.82743943, -37.80760609, -37.82634899, -37.81377423, -37.81457887, -37.82647613, -37.82064884, -37.80732171, -37.80501399, -37.8110541, -37.81188192, -37.81710299, -37.82716855, -37.80756647, -37.81688978, -37.80476287, -37.82083524, -37.82284462, -37.79370199, -37.79518483, -37.78975834, -37.8137889, -37.80618231, -37.82753791, -37.80792102, -37.81621109, -37.81103965, -37.80984785, -37.80856217, -37.81156044, -37.80802049, -37.81223686, -37.8274674, -37.79813406, -37.81083016, -37.815870200000006, -37.8097846, -37.81446852, -37.8093796, -37.82104546, -37.81397756, -37.81001397, -37.81487232, -37.79452383, -37.80946873, -37.81022283, -37.82576194, -37.8214351, -37.820855200000004, -37.80758301, -37.8161651, -37.80185523, -37.82419865, -37.81242244, -37.81972416, -37.81227927, -37.82089285, -37.80907878, -37.80865386, -37.8071999, -37.80994847, -37.84319481, -37.80570535, -37.80631705, -37.82218484, -37.78847842, -37.80736606, -37.82195446, -37.80899276, -37.81476678, -37.82515436, -37.81017206, -37.80392364, -37.82804470000001, -37.83062445, -37.8214579, -37.80890189, -37.80437493, -37.79885938, -37.82343867, -37.80836697, -37.81019629, -37.81014139, -37.795095, -37.81336488, -37.81493711, -37.81462162, -37.80917582, -37.82373685, -37.81603661, -37.81533175, -37.80686033], \"legendgroup\": \"Melbourne\", \"lon\": [144.96919580000002, 144.9651028, 144.95349869999998, 144.962677, 144.9618823, 144.95393380000002, 144.95341409999997, 144.9583384, 144.96125569999998, 144.9693579, 144.9559465, 144.9620115, 144.95284469999999, 144.9557958, 144.961453, 144.9588625, 144.969482, 144.9587657, 144.94239019999998, 144.9636793, 144.96060569999997, 144.9604644, 144.955037, 144.95293700000002, 144.9560967, 144.9629318, 144.9518074, 144.95978269999998, 144.97067819999998, 144.9502569, 144.9542249, 144.9571862, 144.96726669999998, 144.95371540000002, 144.9576314, 144.96632830000001, 144.9623445, 144.9719219, 144.95359019999998, 144.9323372, 144.9464936, 144.96344530000002, 144.9603623, 144.9609773, 144.96349469999998, 144.97097769999996, 144.9706375, 144.96007600000002, 144.94909850000002, 144.9616311, 144.972101, 144.9573188, 144.97320159999998, 144.95681130000003, 144.9538302, 144.96109030000002, 144.96677830000002, 144.95987759999997, 144.9572408, 144.9528007, 144.96254409999997, 144.9534421, 144.9272698, 144.96180149999998, 144.9674601, 144.962899, 144.9434536, 144.962618, 144.94811830000003, 144.962639, 144.9495126, 144.9627173, 144.949988, 144.94384130000003, 144.95139980000002, 144.95524509999998, 144.9597327, 144.960505, 144.9670398, 144.96928369999998, 144.9835905, 144.9664429, 144.9626365, 144.962568, 144.9231899, 144.9611622, 144.961082, 144.9595983, 144.95510430000002, 144.96265219999998, 144.9592437, 144.9582885, 144.9849684, 144.9681307, 144.9438817, 144.9656476, 144.9573043, 144.95230990000002, 144.9625336, 144.96027719999998, 144.9679812, 144.95986159999998, 144.95514530000003, 144.9692442, 144.95379269999998, 144.9523164, 144.96080600000002, 144.96571219999998, 144.9549082, 144.96509619999998, 144.9513246], \"marker\": {\"color\": \"#00cc96\", \"symbol\": \"circle\"}, \"mode\": \"markers\", \"name\": \"Melbourne\", \"showlegend\": true, \"type\": \"scattergeo\"}, {\"geo\": \"geo\", \"hovertemplate\": \"city=Wyndham<br>latitude=%{lat}<br>longitude=%{lon}<extra></extra>\", \"lat\": [-37.90416784, -37.90417736, -37.84719563, -37.84007453, -37.89228865, -37.90343175], \"legendgroup\": \"Wyndham\", \"lon\": [144.7244541, 144.7441007, 144.6860232, 144.6681571, 144.6668506, 144.7344824], \"marker\": {\"color\": \"#ab63fa\", \"symbol\": \"circle\"}, \"mode\": \"markers\", \"name\": \"Wyndham\", \"showlegend\": true, \"type\": \"scattergeo\"}, {\"geo\": \"geo\", \"hovertemplate\": \"city=Monash<br>latitude=%{lat}<br>longitude=%{lon}<extra></extra>\", \"lat\": [-37.89792468, -37.91197541, -37.88506488, -37.91544953], \"legendgroup\": \"Monash\", \"lon\": [145.1129794, 145.09714730000002, 145.0980304, 145.12353969999998], \"marker\": {\"color\": \"#FFA15A\", \"symbol\": \"circle\"}, \"mode\": \"markers\", \"name\": \"Monash\", \"showlegend\": true, \"type\": \"scattergeo\"}, {\"geo\": \"geo\", \"hovertemplate\": \"city=Port Phillip<br>latitude=%{lat}<br>longitude=%{lon}<extra></extra>\", \"lat\": [-37.87515808, -37.83490888, -37.83074019, -37.86691306, -37.84431242, -37.86018611, -37.840596000000005, -37.87947441, -37.85817653, -37.84324369, -37.879338, -37.87567537, -37.84710864, -37.82856147, -37.85714127, -37.86244447, -37.86378072, -37.86116052, -37.87635824, -37.86311609, -37.85799484, -37.85996544, -37.8578359, -37.87806638, -37.88179253, -37.86472013, -37.86451993, -37.86145264, -37.86527417, -37.83611552, -37.83083677, -37.86393343, -37.83519783, -37.87812376, -37.84308207, -37.86678705, -37.86909018, -37.85800742, -37.87446528, -37.88755252, -37.8680276, -37.85874272, -37.86564007], \"legendgroup\": \"Port Phillip\", \"lon\": [144.9850872, 144.9652765, 144.9505985, 144.9757492, 144.959251, 145.0089862, 144.9402144, 144.99655049999998, 144.9817289, 144.9434374, 144.9964681, 144.98649630000003, 144.9527543, 144.9597699, 144.98552519999998, 144.97886359999998, 144.99255259999998, 144.9790341, 144.9870427, 144.9976835, 144.981102, 144.9879212, 144.9682409, 144.9832748, 144.98112340000003, 144.97687119999998, 144.9883865, 145.0014416, 144.97681359999999, 144.95808380000003, 144.95787819999998, 144.97861540000002, 144.97227900000001, 144.9965842, 144.9424881, 144.9809656, 144.9971572, 144.9821905, 144.9849497, 144.9853548, 144.996952, 144.9829585, 144.9776886], \"marker\": {\"color\": \"#19d3f3\", \"symbol\": \"circle\"}, \"mode\": \"markers\", \"name\": \"Port Phillip\", \"showlegend\": true, \"type\": \"scattergeo\"}, {\"geo\": \"geo\", \"hovertemplate\": \"city=Glen Eira<br>latitude=%{lat}<br>longitude=%{lon}<extra></extra>\", \"lat\": [-37.86493343, -37.90988416, -37.8966257, -37.86546728, -37.88565857, -37.90865001, -37.86632688, -37.894034000000005], \"legendgroup\": \"Glen Eira\", \"lon\": [145.02110009999998, 145.0394813, 145.0400103, 145.01823059999998, 145.05425019999998, 145.0454585, 145.0247731, 145.020802], \"marker\": {\"color\": \"#FF6692\", \"symbol\": \"circle\"}, \"mode\": \"markers\", \"name\": \"Glen Eira\", \"showlegend\": true, \"type\": \"scattergeo\"}, {\"geo\": \"geo\", \"hovertemplate\": \"city=Whitehorse<br>latitude=%{lat}<br>longitude=%{lon}<extra></extra>\", \"lat\": [-37.81625096, -37.81838827, -37.81595621, -37.84360444], \"legendgroup\": \"Whitehorse\", \"lon\": [145.1227746, 145.11848759999998, 145.1280399, 145.1067721], \"marker\": {\"color\": \"#B6E880\", \"symbol\": \"circle\"}, \"mode\": \"markers\", \"name\": \"Whitehorse\", \"showlegend\": true, \"type\": \"scattergeo\"}, {\"geo\": \"geo\", \"hovertemplate\": \"city=Yarra<br>latitude=%{lat}<br>longitude=%{lon}<extra></extra>\", \"lat\": [-37.81727383, -37.79791818, -37.79863951, -37.79635743, -37.7848026, -37.82487742, -37.82303888, -37.82218291, -37.82401587, -37.79880784, -37.78638013, -37.82226197, -37.80239308, -37.77970035, -37.80214825, -37.82074306, -37.82317867, -37.78228168, -37.81008976, -37.82513783, -37.80842321, -37.80825164, -37.806085700000004, -37.79035105, -37.81962676, -37.81451343], \"legendgroup\": \"Yarra\", \"lon\": [144.99825049999998, 144.9812675, 144.99896669999998, 144.9839477, 144.98208300000002, 145.0076324, 144.9931129, 145.000361, 145.000171, 144.9899482, 144.9955261, 144.9908476, 144.9950912, 144.97377240000003, 144.97503469999998, 145.00256399999998, 144.9977071, 144.988829, 145.00741440000002, 145.0065916, 144.9947247, 144.9792145, 144.98647, 144.9708167, 145.0026481, 145.0007865], \"marker\": {\"color\": \"#FF97FF\", \"symbol\": \"circle\"}, \"mode\": \"markers\", \"name\": \"Yarra\", \"showlegend\": true, \"type\": \"scattergeo\"}, {\"geo\": \"geo\", \"hovertemplate\": \"city=Banyule<br>latitude=%{lat}<br>longitude=%{lon}<extra></extra>\", \"lat\": [-37.75194377, -37.77213547, -37.69802255, -37.73742896, -37.75346577, -37.7556661], \"legendgroup\": \"Banyule\", \"lon\": [145.0383483, 145.0372094, 145.07653480000002, 145.0959865, 145.060664, 145.06526340000002], \"marker\": {\"color\": \"#FECB52\", \"symbol\": \"circle\"}, \"mode\": \"markers\", \"name\": \"Banyule\", \"showlegend\": true, \"type\": \"scattergeo\"}, {\"geo\": \"geo\", \"hovertemplate\": \"city=Yarra Ranges<br>latitude=%{lat}<br>longitude=%{lon}<extra></extra>\", \"lat\": [-37.64842899, -37.83039252, -37.91980765, -37.88514891, -37.74817452, -37.82627638, -37.85501383, -37.65649089], \"legendgroup\": \"Yarra Ranges\", \"lon\": [145.5355042, 145.35334450000002, 145.40501809999998, 145.3343475, 145.69836819999998, 145.36109299999998, 145.36582880000003, 145.521298], \"marker\": {\"color\": \"#636efa\", \"symbol\": \"circle\"}, \"mode\": \"markers\", \"name\": \"Yarra Ranges\", \"showlegend\": true, \"type\": \"scattergeo\"}, {\"geo\": \"geo\", \"hovertemplate\": \"city=Whittlesea<br>latitude=%{lat}<br>longitude=%{lon}<extra></extra>\", \"lat\": [-37.69722588, -37.59199753], \"legendgroup\": \"Whittlesea\", \"lon\": [145.05018280000002, 145.1107718], \"marker\": {\"color\": \"#EF553B\", \"symbol\": \"circle\"}, \"mode\": \"markers\", \"name\": \"Whittlesea\", \"showlegend\": true, \"type\": \"scattergeo\"}, {\"geo\": \"geo\", \"hovertemplate\": \"city=Frankston<br>latitude=%{lat}<br>longitude=%{lon}<extra></extra>\", \"lat\": [-38.13389359, -38.15665359, -38.14917772], \"legendgroup\": \"Frankston\", \"lon\": [145.1220294, 145.13567869999997, 145.1417413], \"marker\": {\"color\": \"#00cc96\", \"symbol\": \"circle\"}, \"mode\": \"markers\", \"name\": \"Frankston\", \"showlegend\": true, \"type\": \"scattergeo\"}, {\"geo\": \"geo\", \"hovertemplate\": \"city=Darebin<br>latitude=%{lat}<br>longitude=%{lon}<extra></extra>\", \"lat\": [-37.76263781, -37.76761384, -37.71249668, -37.76800188, -37.78213919, -37.77165120000001, -37.77601799, -37.77797589, -37.78070258], \"legendgroup\": \"Darebin\", \"lon\": [145.0082596, 144.9882416, 145.0331608, 145.00114430000002, 144.9971812, 145.00045569999997, 144.99221169999998, 145.0075653, 144.99242019999997], \"marker\": {\"color\": \"#ab63fa\", \"symbol\": \"circle\"}, \"mode\": \"markers\", \"name\": \"Darebin\", \"showlegend\": true, \"type\": \"scattergeo\"}, {\"geo\": \"geo\", \"hovertemplate\": \"city=Manningham<br>latitude=%{lat}<br>longitude=%{lon}<extra></extra>\", \"lat\": [-37.7861156, -37.77253354, -37.79030241], \"legendgroup\": \"Manningham\", \"lon\": [145.13599409999998, 145.09885380000003, 145.1604455], \"marker\": {\"color\": \"#FFA15A\", \"symbol\": \"circle\"}, \"mode\": \"markers\", \"name\": \"Manningham\", \"showlegend\": true, \"type\": \"scattergeo\"}, {\"geo\": \"geo\", \"hovertemplate\": \"city=Moreland<br>latitude=%{lat}<br>longitude=%{lon}<extra></extra>\", \"lat\": [-37.77477571, -37.7624749, -37.74609454, -37.7468511, -37.73071653, -37.777659, -37.76419769, -37.77809688, -37.76571957, -37.77603865, -37.76782916], \"legendgroup\": \"Moreland\", \"lon\": [144.97627269999998, 144.9426398, 144.9647999, 144.9679869, 144.9810822, 144.9704052, 144.9586466, 144.9706003, 144.9578334, 144.96767480000003, 144.9606966], \"marker\": {\"color\": \"#19d3f3\", \"symbol\": \"circle\"}, \"mode\": \"markers\", \"name\": \"Moreland\", \"showlegend\": true, \"type\": \"scattergeo\"}, {\"geo\": \"geo\", \"hovertemplate\": \"city=Hume<br>latitude=%{lat}<br>longitude=%{lon}<extra></extra>\", \"lat\": [-37.69040417, -37.69746392], \"legendgroup\": \"Hume\", \"lon\": [144.9184937, 144.88933980000002], \"marker\": {\"color\": \"#FF6692\", \"symbol\": \"circle\"}, \"mode\": \"markers\", \"name\": \"Hume\", \"showlegend\": true, \"type\": \"scattergeo\"}, {\"geo\": \"geo\", \"hovertemplate\": \"city=Bayside<br>latitude=%{lat}<br>longitude=%{lon}<extra></extra>\", \"lat\": [-37.9113586, -37.90074102, -37.93972198, -37.90619638, -37.89822889, -37.93205877, -37.91557018], \"legendgroup\": \"Bayside\", \"lon\": [145.0155258, 144.9928727, 145.00241469999997, 145.0053915, 144.9988518, 145.0146028, 144.99782380000002], \"marker\": {\"color\": \"#B6E880\", \"symbol\": \"circle\"}, \"mode\": \"markers\", \"name\": \"Bayside\", \"showlegend\": true, \"type\": \"scattergeo\"}, {\"geo\": \"geo\", \"hovertemplate\": \"city=Maribyrnong<br>latitude=%{lat}<br>longitude=%{lon}<extra></extra>\", \"lat\": [-37.79934093, -37.79523264, -37.78692772, -37.79965363], \"legendgroup\": \"Maribyrnong\", \"lon\": [144.8965329, 144.8973824, 144.87631480000002, 144.90451869999998], \"marker\": {\"color\": \"#FF97FF\", \"symbol\": \"circle\"}, \"mode\": \"markers\", \"name\": \"Maribyrnong\", \"showlegend\": true, \"type\": \"scattergeo\"}, {\"geo\": \"geo\", \"hovertemplate\": \"city=Knox<br>latitude=%{lat}<br>longitude=%{lon}<extra></extra>\", \"lat\": [-37.88037018], \"legendgroup\": \"Knox\", \"lon\": [145.2423594], \"marker\": {\"color\": \"#FECB52\", \"symbol\": \"circle\"}, \"mode\": \"markers\", \"name\": \"Knox\", \"showlegend\": true, \"type\": \"scattergeo\"}, {\"geo\": \"geo\", \"hovertemplate\": \"city=Greater Dandenong<br>latitude=%{lat}<br>longitude=%{lon}<extra></extra>\", \"lat\": [-37.99720867, -38.00988446, -37.9995238], \"legendgroup\": \"Greater Dandenong\", \"lon\": [145.1497708, 145.1776185, 145.1779371], \"marker\": {\"color\": \"#636efa\", \"symbol\": \"circle\"}, \"mode\": \"markers\", \"name\": \"Greater Dandenong\", \"showlegend\": true, \"type\": \"scattergeo\"}, {\"geo\": \"geo\", \"hovertemplate\": \"city=Casey<br>latitude=%{lat}<br>longitude=%{lon}<extra></extra>\", \"lat\": [-38.06367093, -37.97584487], \"legendgroup\": \"Casey\", \"lon\": [145.33146169999998, 145.27261830000003], \"marker\": {\"color\": \"#EF553B\", \"symbol\": \"circle\"}, \"mode\": \"markers\", \"name\": \"Casey\", \"showlegend\": true, \"type\": \"scattergeo\"}, {\"geo\": \"geo\", \"hovertemplate\": \"city=Hobsons Bay<br>latitude=%{lat}<br>longitude=%{lon}<extra></extra>\", \"lat\": [-37.84359356], \"legendgroup\": \"Hobsons Bay\", \"lon\": [144.8458921], \"marker\": {\"color\": \"#00cc96\", \"symbol\": \"circle\"}, \"mode\": \"markers\", \"name\": \"Hobsons Bay\", \"showlegend\": true, \"type\": \"scattergeo\"}, {\"geo\": \"geo\", \"hovertemplate\": \"city=Boroondara<br>latitude=%{lat}<br>longitude=%{lon}<extra></extra>\", \"lat\": [-37.80183544], \"legendgroup\": \"Boroondara\", \"lon\": [145.097136], \"marker\": {\"color\": \"#ab63fa\", \"symbol\": \"circle\"}, \"mode\": \"markers\", \"name\": \"Boroondara\", \"showlegend\": true, \"type\": \"scattergeo\"}, {\"geo\": \"geo\", \"hovertemplate\": \"city=Moonee Valley<br>latitude=%{lat}<br>longitude=%{lon}<extra></extra>\", \"lat\": [-37.77259276], \"legendgroup\": \"Moonee Valley\", \"lon\": [144.90985600000002], \"marker\": {\"color\": \"#FFA15A\", \"symbol\": \"circle\"}, \"mode\": \"markers\", \"name\": \"Moonee Valley\", \"showlegend\": true, \"type\": \"scattergeo\"}, {\"geo\": \"geo\", \"hovertemplate\": \"city=Cardinia<br>latitude=%{lat}<br>longitude=%{lon}<extra></extra>\", \"lat\": [-37.92716488], \"legendgroup\": \"Cardinia\", \"lon\": [145.39859219999997], \"marker\": {\"color\": \"#19d3f3\", \"symbol\": \"circle\"}, \"mode\": \"markers\", \"name\": \"Cardinia\", \"showlegend\": true, \"type\": \"scattergeo\"}],                        {\"geo\": {\"center\": {}, \"domain\": {\"x\": [0.0, 1.0], \"y\": [0.0, 1.0]}, \"fitbounds\": \"locations\"}, \"legend\": {\"title\": {\"text\": \"city\"}, \"tracegroupgap\": 0}, \"margin\": {\"t\": 60}, \"template\": {\"data\": {\"bar\": [{\"error_x\": {\"color\": \"#2a3f5f\"}, \"error_y\": {\"color\": \"#2a3f5f\"}, \"marker\": {\"line\": {\"color\": \"#E5ECF6\", \"width\": 0.5}}, \"type\": \"bar\"}], \"barpolar\": [{\"marker\": {\"line\": {\"color\": \"#E5ECF6\", \"width\": 0.5}}, \"type\": \"barpolar\"}], \"carpet\": [{\"aaxis\": {\"endlinecolor\": \"#2a3f5f\", \"gridcolor\": \"white\", \"linecolor\": \"white\", \"minorgridcolor\": \"white\", \"startlinecolor\": \"#2a3f5f\"}, \"baxis\": {\"endlinecolor\": \"#2a3f5f\", \"gridcolor\": \"white\", \"linecolor\": \"white\", \"minorgridcolor\": \"white\", \"startlinecolor\": \"#2a3f5f\"}, \"type\": \"carpet\"}], \"choropleth\": [{\"colorbar\": {\"outlinewidth\": 0, \"ticks\": \"\"}, \"type\": \"choropleth\"}], \"contour\": [{\"colorbar\": {\"outlinewidth\": 0, \"ticks\": \"\"}, \"colorscale\": [[0.0, \"#0d0887\"], [0.1111111111111111, \"#46039f\"], [0.2222222222222222, \"#7201a8\"], [0.3333333333333333, \"#9c179e\"], [0.4444444444444444, \"#bd3786\"], [0.5555555555555556, \"#d8576b\"], [0.6666666666666666, \"#ed7953\"], [0.7777777777777778, \"#fb9f3a\"], [0.8888888888888888, \"#fdca26\"], [1.0, \"#f0f921\"]], \"type\": \"contour\"}], \"contourcarpet\": [{\"colorbar\": {\"outlinewidth\": 0, \"ticks\": \"\"}, \"type\": \"contourcarpet\"}], \"heatmap\": [{\"colorbar\": {\"outlinewidth\": 0, \"ticks\": \"\"}, \"colorscale\": [[0.0, \"#0d0887\"], [0.1111111111111111, \"#46039f\"], [0.2222222222222222, \"#7201a8\"], [0.3333333333333333, \"#9c179e\"], [0.4444444444444444, \"#bd3786\"], [0.5555555555555556, \"#d8576b\"], [0.6666666666666666, \"#ed7953\"], [0.7777777777777778, \"#fb9f3a\"], [0.8888888888888888, \"#fdca26\"], [1.0, \"#f0f921\"]], \"type\": \"heatmap\"}], \"heatmapgl\": [{\"colorbar\": {\"outlinewidth\": 0, \"ticks\": \"\"}, \"colorscale\": [[0.0, \"#0d0887\"], [0.1111111111111111, \"#46039f\"], [0.2222222222222222, \"#7201a8\"], [0.3333333333333333, \"#9c179e\"], [0.4444444444444444, \"#bd3786\"], [0.5555555555555556, \"#d8576b\"], [0.6666666666666666, \"#ed7953\"], [0.7777777777777778, \"#fb9f3a\"], [0.8888888888888888, \"#fdca26\"], [1.0, \"#f0f921\"]], \"type\": \"heatmapgl\"}], \"histogram\": [{\"marker\": {\"colorbar\": {\"outlinewidth\": 0, \"ticks\": \"\"}}, \"type\": \"histogram\"}], \"histogram2d\": [{\"colorbar\": {\"outlinewidth\": 0, \"ticks\": \"\"}, \"colorscale\": [[0.0, \"#0d0887\"], [0.1111111111111111, \"#46039f\"], [0.2222222222222222, \"#7201a8\"], [0.3333333333333333, \"#9c179e\"], [0.4444444444444444, \"#bd3786\"], [0.5555555555555556, \"#d8576b\"], [0.6666666666666666, \"#ed7953\"], [0.7777777777777778, \"#fb9f3a\"], [0.8888888888888888, \"#fdca26\"], [1.0, \"#f0f921\"]], \"type\": \"histogram2d\"}], \"histogram2dcontour\": [{\"colorbar\": {\"outlinewidth\": 0, \"ticks\": \"\"}, \"colorscale\": [[0.0, \"#0d0887\"], [0.1111111111111111, \"#46039f\"], [0.2222222222222222, \"#7201a8\"], [0.3333333333333333, \"#9c179e\"], [0.4444444444444444, \"#bd3786\"], [0.5555555555555556, \"#d8576b\"], [0.6666666666666666, \"#ed7953\"], [0.7777777777777778, \"#fb9f3a\"], [0.8888888888888888, \"#fdca26\"], [1.0, \"#f0f921\"]], \"type\": \"histogram2dcontour\"}], \"mesh3d\": [{\"colorbar\": {\"outlinewidth\": 0, \"ticks\": \"\"}, \"type\": \"mesh3d\"}], \"parcoords\": [{\"line\": {\"colorbar\": {\"outlinewidth\": 0, \"ticks\": \"\"}}, \"type\": \"parcoords\"}], \"pie\": [{\"automargin\": true, \"type\": \"pie\"}], \"scatter\": [{\"marker\": {\"colorbar\": {\"outlinewidth\": 0, \"ticks\": \"\"}}, \"type\": \"scatter\"}], \"scatter3d\": [{\"line\": {\"colorbar\": {\"outlinewidth\": 0, \"ticks\": \"\"}}, \"marker\": {\"colorbar\": {\"outlinewidth\": 0, \"ticks\": \"\"}}, \"type\": \"scatter3d\"}], \"scattercarpet\": [{\"marker\": {\"colorbar\": {\"outlinewidth\": 0, \"ticks\": \"\"}}, \"type\": \"scattercarpet\"}], \"scattergeo\": [{\"marker\": {\"colorbar\": {\"outlinewidth\": 0, \"ticks\": \"\"}}, \"type\": \"scattergeo\"}], \"scattergl\": [{\"marker\": {\"colorbar\": {\"outlinewidth\": 0, \"ticks\": \"\"}}, \"type\": \"scattergl\"}], \"scattermapbox\": [{\"marker\": {\"colorbar\": {\"outlinewidth\": 0, \"ticks\": \"\"}}, \"type\": \"scattermapbox\"}], \"scatterpolar\": [{\"marker\": {\"colorbar\": {\"outlinewidth\": 0, \"ticks\": \"\"}}, \"type\": \"scatterpolar\"}], \"scatterpolargl\": [{\"marker\": {\"colorbar\": {\"outlinewidth\": 0, \"ticks\": \"\"}}, \"type\": \"scatterpolargl\"}], \"scatterternary\": [{\"marker\": {\"colorbar\": {\"outlinewidth\": 0, \"ticks\": \"\"}}, \"type\": \"scatterternary\"}], \"surface\": [{\"colorbar\": {\"outlinewidth\": 0, \"ticks\": \"\"}, \"colorscale\": [[0.0, \"#0d0887\"], [0.1111111111111111, \"#46039f\"], [0.2222222222222222, \"#7201a8\"], [0.3333333333333333, \"#9c179e\"], [0.4444444444444444, \"#bd3786\"], [0.5555555555555556, \"#d8576b\"], [0.6666666666666666, \"#ed7953\"], [0.7777777777777778, \"#fb9f3a\"], [0.8888888888888888, \"#fdca26\"], [1.0, \"#f0f921\"]], \"type\": \"surface\"}], \"table\": [{\"cells\": {\"fill\": {\"color\": \"#EBF0F8\"}, \"line\": {\"color\": \"white\"}}, \"header\": {\"fill\": {\"color\": \"#C8D4E3\"}, \"line\": {\"color\": \"white\"}}, \"type\": \"table\"}]}, \"layout\": {\"annotationdefaults\": {\"arrowcolor\": \"#2a3f5f\", \"arrowhead\": 0, \"arrowwidth\": 1}, \"autotypenumbers\": \"strict\", \"coloraxis\": {\"colorbar\": {\"outlinewidth\": 0, \"ticks\": \"\"}}, \"colorscale\": {\"diverging\": [[0, \"#8e0152\"], [0.1, \"#c51b7d\"], [0.2, \"#de77ae\"], [0.3, \"#f1b6da\"], [0.4, \"#fde0ef\"], [0.5, \"#f7f7f7\"], [0.6, \"#e6f5d0\"], [0.7, \"#b8e186\"], [0.8, \"#7fbc41\"], [0.9, \"#4d9221\"], [1, \"#276419\"]], \"sequential\": [[0.0, \"#0d0887\"], [0.1111111111111111, \"#46039f\"], [0.2222222222222222, \"#7201a8\"], [0.3333333333333333, \"#9c179e\"], [0.4444444444444444, \"#bd3786\"], [0.5555555555555556, \"#d8576b\"], [0.6666666666666666, \"#ed7953\"], [0.7777777777777778, \"#fb9f3a\"], [0.8888888888888888, \"#fdca26\"], [1.0, \"#f0f921\"]], \"sequentialminus\": [[0.0, \"#0d0887\"], [0.1111111111111111, \"#46039f\"], [0.2222222222222222, \"#7201a8\"], [0.3333333333333333, \"#9c179e\"], [0.4444444444444444, \"#bd3786\"], [0.5555555555555556, \"#d8576b\"], [0.6666666666666666, \"#ed7953\"], [0.7777777777777778, \"#fb9f3a\"], [0.8888888888888888, \"#fdca26\"], [1.0, \"#f0f921\"]]}, \"colorway\": [\"#636efa\", \"#EF553B\", \"#00cc96\", \"#ab63fa\", \"#FFA15A\", \"#19d3f3\", \"#FF6692\", \"#B6E880\", \"#FF97FF\", \"#FECB52\"], \"font\": {\"color\": \"#2a3f5f\"}, \"geo\": {\"bgcolor\": \"white\", \"lakecolor\": \"white\", \"landcolor\": \"#E5ECF6\", \"showlakes\": true, \"showland\": true, \"subunitcolor\": \"white\"}, \"hoverlabel\": {\"align\": \"left\"}, \"hovermode\": \"closest\", \"mapbox\": {\"style\": \"light\"}, \"paper_bgcolor\": \"white\", \"plot_bgcolor\": \"#E5ECF6\", \"polar\": {\"angularaxis\": {\"gridcolor\": \"white\", \"linecolor\": \"white\", \"ticks\": \"\"}, \"bgcolor\": \"#E5ECF6\", \"radialaxis\": {\"gridcolor\": \"white\", \"linecolor\": \"white\", \"ticks\": \"\"}}, \"scene\": {\"xaxis\": {\"backgroundcolor\": \"#E5ECF6\", \"gridcolor\": \"white\", \"gridwidth\": 2, \"linecolor\": \"white\", \"showbackground\": true, \"ticks\": \"\", \"zerolinecolor\": \"white\"}, \"yaxis\": {\"backgroundcolor\": \"#E5ECF6\", \"gridcolor\": \"white\", \"gridwidth\": 2, \"linecolor\": \"white\", \"showbackground\": true, \"ticks\": \"\", \"zerolinecolor\": \"white\"}, \"zaxis\": {\"backgroundcolor\": \"#E5ECF6\", \"gridcolor\": \"white\", \"gridwidth\": 2, \"linecolor\": \"white\", \"showbackground\": true, \"ticks\": \"\", \"zerolinecolor\": \"white\"}}, \"shapedefaults\": {\"line\": {\"color\": \"#2a3f5f\"}}, \"ternary\": {\"aaxis\": {\"gridcolor\": \"white\", \"linecolor\": \"white\", \"ticks\": \"\"}, \"baxis\": {\"gridcolor\": \"white\", \"linecolor\": \"white\", \"ticks\": \"\"}, \"bgcolor\": \"#E5ECF6\", \"caxis\": {\"gridcolor\": \"white\", \"linecolor\": \"white\", \"ticks\": \"\"}}, \"title\": {\"x\": 0.05}, \"xaxis\": {\"automargin\": true, \"gridcolor\": \"white\", \"linecolor\": \"white\", \"ticks\": \"\", \"title\": {\"standoff\": 15}, \"zerolinecolor\": \"white\", \"zerolinewidth\": 2}, \"yaxis\": {\"automargin\": true, \"gridcolor\": \"white\", \"linecolor\": \"white\", \"ticks\": \"\", \"title\": {\"standoff\": 15}, \"zerolinecolor\": \"white\", \"zerolinewidth\": 2}}}},                        {\"responsive\": true}                    ).then(function(){\n",
              "                            \n",
              "var gd = document.getElementById('58bef759-5564-483b-aee4-be29dfa2828f');\n",
              "var x = new MutationObserver(function (mutations, observer) {{\n",
              "        var display = window.getComputedStyle(gd).display;\n",
              "        if (!display || display === 'none') {{\n",
              "            console.log([gd, 'removed!']);\n",
              "            Plotly.purge(gd);\n",
              "            observer.disconnect();\n",
              "        }}\n",
              "}});\n",
              "\n",
              "// Listen for the removal of the full notebook cells\n",
              "var notebookContainer = gd.closest('#notebook-container');\n",
              "if (notebookContainer) {{\n",
              "    x.observe(notebookContainer, {childList: true});\n",
              "}}\n",
              "\n",
              "// Listen for the clearing of the current output cell\n",
              "var outputEl = gd.closest('.output');\n",
              "if (outputEl) {{\n",
              "    x.observe(outputEl, {childList: true});\n",
              "}}\n",
              "\n",
              "                        })                };                            </script>        </div>\n",
              "</body>\n",
              "</html>"
            ]
          },
          "metadata": {
            "tags": []
          }
        }
      ]
    },
    {
      "cell_type": "markdown",
      "metadata": {
        "id": "rWJHY4f5RT_b"
      },
      "source": [
        "## Operación merge\n",
        "\n",
        "Es hora de combinar ambos conjuntos de datos. Una opción frecuentemente tentadora es aplicar la operación merge sin analizar demasiado la situación. Sin embargo, ¡la operación puede ocasionar una **explosión exponencial** de nuestro conjunto de datos!\n",
        "\n",
        "¿Por qué la siguiente operación genera un dataframe con 2 millones de filas?\n",
        "\n",
        "**Rta.** Por resultados anteriores, sabemos que hay muy pocos valores únicos (lo que significa que hay demasiados valores repetidos). La situación produce la generación de duplicados imprevistos."
      ]
    },
    {
      "cell_type": "code",
      "metadata": {
        "colab": {
          "base_uri": "https://localhost:8080/"
        },
        "id": "X6NqwTaShgTD",
        "outputId": "d8b0030a-28eb-43fa-88e3-4e0501195f27"
      },
      "source": [
        "# ¡Incorrecto! Duplicados imprevistos\n",
        "len(melb_df.merge(airbnb_df, how='left', left_on='Postcode', right_on='zipcode'))"
      ],
      "execution_count": 21,
      "outputs": [
        {
          "output_type": "execute_result",
          "data": {
            "text/plain": [
              "2139684"
            ]
          },
          "metadata": {
            "tags": []
          },
          "execution_count": 21
        }
      ]
    },
    {
      "cell_type": "markdown",
      "metadata": {
        "id": "ZjlzIlBGhfKA"
      },
      "source": [
        "Recordemos que nuestro objetivo es agregar información sobre el valor del vecindario de la propiedad. ¿Qué información del conjunto de *Airbnb* nos sirve para representar esto?\n",
        "\n",
        "* Promedio de `price` por zipcode (**22895** valores en *dataframe*)\n",
        "* Promedio de `weekly_price` por zipcode (**2524** valores en *dataframe*)\n",
        "* Promedio de `monthly_price` por zipcode (**1891** valores en *dataframe*)\n",
        "\n",
        "Queda a interpretación de ustedes decidir cuál de todos ellos utilizar.\n",
        "\n",
        "**Rta.** La columna de `price` es la más completa, ya que no posee valores `NaN`."
      ]
    },
    {
      "cell_type": "code",
      "metadata": {
        "id": "satTM4vKlqtS"
      },
      "source": [
        "relevant_cols = ['price', 'weekly_price', 'monthly_price']"
      ],
      "execution_count": 22,
      "outputs": []
    },
    {
      "cell_type": "markdown",
      "metadata": {
        "id": "Y2ORIRhGlY1z"
      },
      "source": [
        "Cuando queremos agregar un único dato luego de agrupar un DataFrame, la operación es bastante sencilla.\n",
        "\n",
        "Sólo tenemos que tener en cuenta que el nombre de la columna será el mismo, aunque su valor ahora esté agregado."
      ]
    },
    {
      "cell_type": "code",
      "metadata": {
        "colab": {
          "base_uri": "https://localhost:8080/",
          "height": 206
        },
        "id": "c0qDyKjcTGeZ",
        "outputId": "39f438c9-4529-46ab-c516-fa1144ad292c"
      },
      "source": [
        "\"\"\"\n",
        "Option 1: inefficient form.\n",
        "The aggregation is calculated over all columns, and after is calculated\n",
        "we filter only the columns we want.\n",
        "\"\"\"\n",
        "airbnb_df.groupby('zipcode').mean()[relevant_cols].reset_index()[:5]"
      ],
      "execution_count": 23,
      "outputs": [
        {
          "output_type": "execute_result",
          "data": {
            "text/html": [
              "<div>\n",
              "<style scoped>\n",
              "    .dataframe tbody tr th:only-of-type {\n",
              "        vertical-align: middle;\n",
              "    }\n",
              "\n",
              "    .dataframe tbody tr th {\n",
              "        vertical-align: top;\n",
              "    }\n",
              "\n",
              "    .dataframe thead th {\n",
              "        text-align: right;\n",
              "    }\n",
              "</style>\n",
              "<table border=\"1\" class=\"dataframe\">\n",
              "  <thead>\n",
              "    <tr style=\"text-align: right;\">\n",
              "      <th></th>\n",
              "      <th>zipcode</th>\n",
              "      <th>price</th>\n",
              "      <th>weekly_price</th>\n",
              "      <th>monthly_price</th>\n",
              "    </tr>\n",
              "  </thead>\n",
              "  <tbody>\n",
              "    <tr>\n",
              "      <th>0</th>\n",
              "      <td>2010.0</td>\n",
              "      <td>40.000000</td>\n",
              "      <td>NaN</td>\n",
              "      <td>NaN</td>\n",
              "    </tr>\n",
              "    <tr>\n",
              "      <th>1</th>\n",
              "      <td>2134.0</td>\n",
              "      <td>50.000000</td>\n",
              "      <td>NaN</td>\n",
              "      <td>NaN</td>\n",
              "    </tr>\n",
              "    <tr>\n",
              "      <th>2</th>\n",
              "      <td>2582.0</td>\n",
              "      <td>104.000000</td>\n",
              "      <td>NaN</td>\n",
              "      <td>NaN</td>\n",
              "    </tr>\n",
              "    <tr>\n",
              "      <th>3</th>\n",
              "      <td>3000.0</td>\n",
              "      <td>150.504307</td>\n",
              "      <td>918.738956</td>\n",
              "      <td>3407.204651</td>\n",
              "    </tr>\n",
              "    <tr>\n",
              "      <th>4</th>\n",
              "      <td>3001.0</td>\n",
              "      <td>132.500000</td>\n",
              "      <td>NaN</td>\n",
              "      <td>NaN</td>\n",
              "    </tr>\n",
              "  </tbody>\n",
              "</table>\n",
              "</div>"
            ],
            "text/plain": [
              "   zipcode       price  weekly_price  monthly_price\n",
              "0   2010.0   40.000000           NaN            NaN\n",
              "1   2134.0   50.000000           NaN            NaN\n",
              "2   2582.0  104.000000           NaN            NaN\n",
              "3   3000.0  150.504307    918.738956    3407.204651\n",
              "4   3001.0  132.500000           NaN            NaN"
            ]
          },
          "metadata": {
            "tags": []
          },
          "execution_count": 23
        }
      ]
    },
    {
      "cell_type": "code",
      "metadata": {
        "colab": {
          "base_uri": "https://localhost:8080/",
          "height": 206
        },
        "id": "I41gc3aflTrw",
        "outputId": "659f2dee-44d5-497d-bc5c-ccdcdd8befcf"
      },
      "source": [
        "\"\"\"\n",
        "Option 2: efficient form\n",
        "First we filter out the columns we want, and then we only aggregate\n",
        "those. Be careful to include the grouping column as well.\n",
        "\"\"\"\n",
        "airbnb_df[relevant_cols + ['zipcode']].groupby('zipcode').mean().reset_index()[:5]"
      ],
      "execution_count": 24,
      "outputs": [
        {
          "output_type": "execute_result",
          "data": {
            "text/html": [
              "<div>\n",
              "<style scoped>\n",
              "    .dataframe tbody tr th:only-of-type {\n",
              "        vertical-align: middle;\n",
              "    }\n",
              "\n",
              "    .dataframe tbody tr th {\n",
              "        vertical-align: top;\n",
              "    }\n",
              "\n",
              "    .dataframe thead th {\n",
              "        text-align: right;\n",
              "    }\n",
              "</style>\n",
              "<table border=\"1\" class=\"dataframe\">\n",
              "  <thead>\n",
              "    <tr style=\"text-align: right;\">\n",
              "      <th></th>\n",
              "      <th>zipcode</th>\n",
              "      <th>price</th>\n",
              "      <th>weekly_price</th>\n",
              "      <th>monthly_price</th>\n",
              "    </tr>\n",
              "  </thead>\n",
              "  <tbody>\n",
              "    <tr>\n",
              "      <th>0</th>\n",
              "      <td>2010.0</td>\n",
              "      <td>40.000000</td>\n",
              "      <td>NaN</td>\n",
              "      <td>NaN</td>\n",
              "    </tr>\n",
              "    <tr>\n",
              "      <th>1</th>\n",
              "      <td>2134.0</td>\n",
              "      <td>50.000000</td>\n",
              "      <td>NaN</td>\n",
              "      <td>NaN</td>\n",
              "    </tr>\n",
              "    <tr>\n",
              "      <th>2</th>\n",
              "      <td>2582.0</td>\n",
              "      <td>104.000000</td>\n",
              "      <td>NaN</td>\n",
              "      <td>NaN</td>\n",
              "    </tr>\n",
              "    <tr>\n",
              "      <th>3</th>\n",
              "      <td>3000.0</td>\n",
              "      <td>150.504307</td>\n",
              "      <td>918.738956</td>\n",
              "      <td>3407.204651</td>\n",
              "    </tr>\n",
              "    <tr>\n",
              "      <th>4</th>\n",
              "      <td>3001.0</td>\n",
              "      <td>132.500000</td>\n",
              "      <td>NaN</td>\n",
              "      <td>NaN</td>\n",
              "    </tr>\n",
              "  </tbody>\n",
              "</table>\n",
              "</div>"
            ],
            "text/plain": [
              "   zipcode       price  weekly_price  monthly_price\n",
              "0   2010.0   40.000000           NaN            NaN\n",
              "1   2134.0   50.000000           NaN            NaN\n",
              "2   2582.0  104.000000           NaN            NaN\n",
              "3   3000.0  150.504307    918.738956    3407.204651\n",
              "4   3001.0  132.500000           NaN            NaN"
            ]
          },
          "metadata": {
            "tags": []
          },
          "execution_count": 24
        }
      ]
    },
    {
      "cell_type": "markdown",
      "metadata": {
        "id": "8kR2TEpni9i5"
      },
      "source": [
        "Agrupar y agregar utilizando más de un tipo de operación es un poco más complicado. *Pandas* nos provee de muchas formas para escribir la misma operación. Ninguna de ellas es muy intuitiva, y usualmente requiere renombrar las columnas para darles nombres más significativos."
      ]
    },
    {
      "cell_type": "code",
      "metadata": {
        "id": "xPYITQ6-B7uV"
      },
      "source": [
        "relevant_cols = ['price', 'weekly_price', 'monthly_price', 'zipcode']"
      ],
      "execution_count": 25,
      "outputs": []
    },
    {
      "cell_type": "code",
      "metadata": {
        "colab": {
          "base_uri": "https://localhost:8080/",
          "height": 143
        },
        "id": "kzKW1GXxUMjk",
        "outputId": "853cdceb-1ed9-4aa4-957e-78930f861154"
      },
      "source": [
        "\"\"\"\n",
        "Option 1\n",
        "Pass a dictionary where the keys are the original columns to aggregate and\n",
        "the values are the operations (or list of operations).\n",
        "\"\"\"\n",
        "airbnb_price_by_zipcode = airbnb_df[relevant_cols].groupby('zipcode')\\\n",
        "    .agg({'price': ['mean', 'count'],\n",
        "          'weekly_price': 'mean',\n",
        "          'monthly_price': 'mean'})\\\n",
        "    .reset_index()\n",
        "# Flatten the two level columns\n",
        "airbnb_price_by_zipcode.columns = [\n",
        "  ' '.join(col).strip()\n",
        "  for col in airbnb_price_by_zipcode.columns.values]\n",
        "# Rename columns\n",
        "airbnb_price_by_zipcode = airbnb_price_by_zipcode.rename(\n",
        "    columns={'price mean': 'airbnb_price_mean',\n",
        "             'price count': 'airbnb_record_count',\n",
        "             'weekly_price mean': 'airbnb_weekly_price_mean',\n",
        "             'monthly_price mean': 'airbnb_monthly_price_mean'}\n",
        ")\n",
        "\n",
        "airbnb_price_by_zipcode[:3]"
      ],
      "execution_count": 26,
      "outputs": [
        {
          "output_type": "execute_result",
          "data": {
            "text/html": [
              "<div>\n",
              "<style scoped>\n",
              "    .dataframe tbody tr th:only-of-type {\n",
              "        vertical-align: middle;\n",
              "    }\n",
              "\n",
              "    .dataframe tbody tr th {\n",
              "        vertical-align: top;\n",
              "    }\n",
              "\n",
              "    .dataframe thead th {\n",
              "        text-align: right;\n",
              "    }\n",
              "</style>\n",
              "<table border=\"1\" class=\"dataframe\">\n",
              "  <thead>\n",
              "    <tr style=\"text-align: right;\">\n",
              "      <th></th>\n",
              "      <th>zipcode</th>\n",
              "      <th>airbnb_price_mean</th>\n",
              "      <th>airbnb_record_count</th>\n",
              "      <th>airbnb_weekly_price_mean</th>\n",
              "      <th>airbnb_monthly_price_mean</th>\n",
              "    </tr>\n",
              "  </thead>\n",
              "  <tbody>\n",
              "    <tr>\n",
              "      <th>0</th>\n",
              "      <td>2010.0</td>\n",
              "      <td>40.0</td>\n",
              "      <td>1</td>\n",
              "      <td>NaN</td>\n",
              "      <td>NaN</td>\n",
              "    </tr>\n",
              "    <tr>\n",
              "      <th>1</th>\n",
              "      <td>2134.0</td>\n",
              "      <td>50.0</td>\n",
              "      <td>1</td>\n",
              "      <td>NaN</td>\n",
              "      <td>NaN</td>\n",
              "    </tr>\n",
              "    <tr>\n",
              "      <th>2</th>\n",
              "      <td>2582.0</td>\n",
              "      <td>104.0</td>\n",
              "      <td>1</td>\n",
              "      <td>NaN</td>\n",
              "      <td>NaN</td>\n",
              "    </tr>\n",
              "  </tbody>\n",
              "</table>\n",
              "</div>"
            ],
            "text/plain": [
              "   zipcode  ...  airbnb_monthly_price_mean\n",
              "0   2010.0  ...                        NaN\n",
              "1   2134.0  ...                        NaN\n",
              "2   2582.0  ...                        NaN\n",
              "\n",
              "[3 rows x 5 columns]"
            ]
          },
          "metadata": {
            "tags": []
          },
          "execution_count": 26
        }
      ]
    },
    {
      "cell_type": "code",
      "metadata": {
        "colab": {
          "base_uri": "https://localhost:8080/",
          "height": 143
        },
        "id": "K72zWkuJRl0M",
        "outputId": "98776696-1796-4c1c-e41f-5eba2740f9e8"
      },
      "source": [
        "\"\"\"\n",
        "Option 2\n",
        "Pass as argument name the new name of the column, and as value a tuple where\n",
        "the first value is the original column and the second value is the operation.\n",
        "\"\"\"\n",
        "airbnb_price_by_zipcode = airbnb_df[relevant_cols].groupby('zipcode')\\\n",
        "    .agg(airbnb_record_count=('price', 'count'),\n",
        "         airbnb_price_mean=('price', 'mean'),\n",
        "         airbnb_weekly_price_mean=('weekly_price', 'mean'),\n",
        "         airbnb_monthly_price_mean=('monthly_price', 'mean'))\\\n",
        "    .reset_index()\n",
        "\n",
        "airbnb_price_by_zipcode[:3]"
      ],
      "execution_count": 27,
      "outputs": [
        {
          "output_type": "execute_result",
          "data": {
            "text/html": [
              "<div>\n",
              "<style scoped>\n",
              "    .dataframe tbody tr th:only-of-type {\n",
              "        vertical-align: middle;\n",
              "    }\n",
              "\n",
              "    .dataframe tbody tr th {\n",
              "        vertical-align: top;\n",
              "    }\n",
              "\n",
              "    .dataframe thead th {\n",
              "        text-align: right;\n",
              "    }\n",
              "</style>\n",
              "<table border=\"1\" class=\"dataframe\">\n",
              "  <thead>\n",
              "    <tr style=\"text-align: right;\">\n",
              "      <th></th>\n",
              "      <th>zipcode</th>\n",
              "      <th>airbnb_record_count</th>\n",
              "      <th>airbnb_price_mean</th>\n",
              "      <th>airbnb_weekly_price_mean</th>\n",
              "      <th>airbnb_monthly_price_mean</th>\n",
              "    </tr>\n",
              "  </thead>\n",
              "  <tbody>\n",
              "    <tr>\n",
              "      <th>0</th>\n",
              "      <td>2010.0</td>\n",
              "      <td>1</td>\n",
              "      <td>40.0</td>\n",
              "      <td>NaN</td>\n",
              "      <td>NaN</td>\n",
              "    </tr>\n",
              "    <tr>\n",
              "      <th>1</th>\n",
              "      <td>2134.0</td>\n",
              "      <td>1</td>\n",
              "      <td>50.0</td>\n",
              "      <td>NaN</td>\n",
              "      <td>NaN</td>\n",
              "    </tr>\n",
              "    <tr>\n",
              "      <th>2</th>\n",
              "      <td>2582.0</td>\n",
              "      <td>1</td>\n",
              "      <td>104.0</td>\n",
              "      <td>NaN</td>\n",
              "      <td>NaN</td>\n",
              "    </tr>\n",
              "  </tbody>\n",
              "</table>\n",
              "</div>"
            ],
            "text/plain": [
              "   zipcode  ...  airbnb_monthly_price_mean\n",
              "0   2010.0  ...                        NaN\n",
              "1   2134.0  ...                        NaN\n",
              "2   2582.0  ...                        NaN\n",
              "\n",
              "[3 rows x 5 columns]"
            ]
          },
          "metadata": {
            "tags": []
          },
          "execution_count": 27
        }
      ]
    },
    {
      "cell_type": "code",
      "metadata": {
        "colab": {
          "base_uri": "https://localhost:8080/",
          "height": 383
        },
        "id": "RfUAyonwMOrx",
        "outputId": "0e9b9760-4562-4778-e03c-84526089cfb8"
      },
      "source": [
        "merged_sales_df = melb_df.merge(\n",
        "    airbnb_price_by_zipcode,\n",
        "    how='left',\n",
        "    left_on='Postcode', right_on='zipcode'\n",
        ")\n",
        "\n",
        "merged_sales_df.sample(5)"
      ],
      "execution_count": 28,
      "outputs": [
        {
          "output_type": "execute_result",
          "data": {
            "text/html": [
              "<div>\n",
              "<style scoped>\n",
              "    .dataframe tbody tr th:only-of-type {\n",
              "        vertical-align: middle;\n",
              "    }\n",
              "\n",
              "    .dataframe tbody tr th {\n",
              "        vertical-align: top;\n",
              "    }\n",
              "\n",
              "    .dataframe thead th {\n",
              "        text-align: right;\n",
              "    }\n",
              "</style>\n",
              "<table border=\"1\" class=\"dataframe\">\n",
              "  <thead>\n",
              "    <tr style=\"text-align: right;\">\n",
              "      <th></th>\n",
              "      <th>Suburb</th>\n",
              "      <th>Address</th>\n",
              "      <th>Rooms</th>\n",
              "      <th>Type</th>\n",
              "      <th>Price</th>\n",
              "      <th>Method</th>\n",
              "      <th>SellerG</th>\n",
              "      <th>Date</th>\n",
              "      <th>Distance</th>\n",
              "      <th>Postcode</th>\n",
              "      <th>Bedroom2</th>\n",
              "      <th>Bathroom</th>\n",
              "      <th>Car</th>\n",
              "      <th>Landsize</th>\n",
              "      <th>BuildingArea</th>\n",
              "      <th>YearBuilt</th>\n",
              "      <th>CouncilArea</th>\n",
              "      <th>Lattitude</th>\n",
              "      <th>Longtitude</th>\n",
              "      <th>Regionname</th>\n",
              "      <th>Propertycount</th>\n",
              "      <th>zipcode</th>\n",
              "      <th>airbnb_record_count</th>\n",
              "      <th>airbnb_price_mean</th>\n",
              "      <th>airbnb_weekly_price_mean</th>\n",
              "      <th>airbnb_monthly_price_mean</th>\n",
              "    </tr>\n",
              "  </thead>\n",
              "  <tbody>\n",
              "    <tr>\n",
              "      <th>1692</th>\n",
              "      <td>Carlton North</td>\n",
              "      <td>658 Lygon St</td>\n",
              "      <td>2</td>\n",
              "      <td>h</td>\n",
              "      <td>880000.0</td>\n",
              "      <td>S</td>\n",
              "      <td>Nelson</td>\n",
              "      <td>18/06/2016</td>\n",
              "      <td>3.2</td>\n",
              "      <td>3054.0</td>\n",
              "      <td>2.0</td>\n",
              "      <td>1.0</td>\n",
              "      <td>0.0</td>\n",
              "      <td>142.0</td>\n",
              "      <td>NaN</td>\n",
              "      <td>NaN</td>\n",
              "      <td>Yarra</td>\n",
              "      <td>-37.79110</td>\n",
              "      <td>144.9688</td>\n",
              "      <td>Northern Metropolitan</td>\n",
              "      <td>3106.0</td>\n",
              "      <td>3054.0</td>\n",
              "      <td>138.0</td>\n",
              "      <td>121.398551</td>\n",
              "      <td>642.500000</td>\n",
              "      <td>1690.888889</td>\n",
              "    </tr>\n",
              "    <tr>\n",
              "      <th>554</th>\n",
              "      <td>Balwyn</td>\n",
              "      <td>87 Yerrin St</td>\n",
              "      <td>3</td>\n",
              "      <td>h</td>\n",
              "      <td>1910000.0</td>\n",
              "      <td>S</td>\n",
              "      <td>Jellis</td>\n",
              "      <td>17/09/2016</td>\n",
              "      <td>9.7</td>\n",
              "      <td>3103.0</td>\n",
              "      <td>3.0</td>\n",
              "      <td>1.0</td>\n",
              "      <td>2.0</td>\n",
              "      <td>697.0</td>\n",
              "      <td>NaN</td>\n",
              "      <td>NaN</td>\n",
              "      <td>Boroondara</td>\n",
              "      <td>-37.80440</td>\n",
              "      <td>145.0853</td>\n",
              "      <td>Southern Metropolitan</td>\n",
              "      <td>5682.0</td>\n",
              "      <td>3103.0</td>\n",
              "      <td>57.0</td>\n",
              "      <td>105.263158</td>\n",
              "      <td>606.750000</td>\n",
              "      <td>2111.250000</td>\n",
              "    </tr>\n",
              "    <tr>\n",
              "      <th>1313</th>\n",
              "      <td>Brunswick</td>\n",
              "      <td>46 Cassels Rd</td>\n",
              "      <td>2</td>\n",
              "      <td>h</td>\n",
              "      <td>860000.0</td>\n",
              "      <td>S</td>\n",
              "      <td>Nelson</td>\n",
              "      <td>16/04/2016</td>\n",
              "      <td>5.2</td>\n",
              "      <td>3056.0</td>\n",
              "      <td>3.0</td>\n",
              "      <td>1.0</td>\n",
              "      <td>2.0</td>\n",
              "      <td>352.0</td>\n",
              "      <td>NaN</td>\n",
              "      <td>1900.0</td>\n",
              "      <td>Moreland</td>\n",
              "      <td>-37.75660</td>\n",
              "      <td>144.9599</td>\n",
              "      <td>Northern Metropolitan</td>\n",
              "      <td>11918.0</td>\n",
              "      <td>3056.0</td>\n",
              "      <td>446.0</td>\n",
              "      <td>94.672646</td>\n",
              "      <td>618.758065</td>\n",
              "      <td>2308.978723</td>\n",
              "    </tr>\n",
              "    <tr>\n",
              "      <th>10408</th>\n",
              "      <td>Mitcham</td>\n",
              "      <td>14 Victory St</td>\n",
              "      <td>2</td>\n",
              "      <td>h</td>\n",
              "      <td>883000.0</td>\n",
              "      <td>S</td>\n",
              "      <td>Jellis</td>\n",
              "      <td>27/05/2017</td>\n",
              "      <td>17.2</td>\n",
              "      <td>3132.0</td>\n",
              "      <td>2.0</td>\n",
              "      <td>1.0</td>\n",
              "      <td>1.0</td>\n",
              "      <td>697.0</td>\n",
              "      <td>NaN</td>\n",
              "      <td>1960.0</td>\n",
              "      <td>Whitehorse</td>\n",
              "      <td>-37.81808</td>\n",
              "      <td>145.2057</td>\n",
              "      <td>Eastern Metropolitan</td>\n",
              "      <td>6871.0</td>\n",
              "      <td>3132.0</td>\n",
              "      <td>38.0</td>\n",
              "      <td>68.605263</td>\n",
              "      <td>NaN</td>\n",
              "      <td>NaN</td>\n",
              "    </tr>\n",
              "    <tr>\n",
              "      <th>2687</th>\n",
              "      <td>Footscray</td>\n",
              "      <td>2/58 Everard St</td>\n",
              "      <td>2</td>\n",
              "      <td>t</td>\n",
              "      <td>560000.0</td>\n",
              "      <td>S</td>\n",
              "      <td>Sweeney</td>\n",
              "      <td>12/11/2016</td>\n",
              "      <td>6.4</td>\n",
              "      <td>3011.0</td>\n",
              "      <td>2.0</td>\n",
              "      <td>1.0</td>\n",
              "      <td>1.0</td>\n",
              "      <td>111.0</td>\n",
              "      <td>NaN</td>\n",
              "      <td>NaN</td>\n",
              "      <td>Maribyrnong</td>\n",
              "      <td>-37.79690</td>\n",
              "      <td>144.8852</td>\n",
              "      <td>Western Metropolitan</td>\n",
              "      <td>7570.0</td>\n",
              "      <td>3011.0</td>\n",
              "      <td>198.0</td>\n",
              "      <td>95.601010</td>\n",
              "      <td>441.916667</td>\n",
              "      <td>1624.611111</td>\n",
              "    </tr>\n",
              "  </tbody>\n",
              "</table>\n",
              "</div>"
            ],
            "text/plain": [
              "              Suburb  ... airbnb_monthly_price_mean\n",
              "1692   Carlton North  ...               1690.888889\n",
              "554           Balwyn  ...               2111.250000\n",
              "1313       Brunswick  ...               2308.978723\n",
              "10408        Mitcham  ...                       NaN\n",
              "2687       Footscray  ...               1624.611111\n",
              "\n",
              "[5 rows x 26 columns]"
            ]
          },
          "metadata": {
            "tags": []
          },
          "execution_count": 28
        }
      ]
    },
    {
      "cell_type": "code",
      "metadata": {
        "id": "G4ClSr_JapCw",
        "colab": {
          "base_uri": "https://localhost:8080/"
        },
        "outputId": "6db38c87-6253-4cef-d4a1-ed0af2ff5ca0"
      },
      "source": [
        "len(merged_sales_df)"
      ],
      "execution_count": 29,
      "outputs": [
        {
          "output_type": "execute_result",
          "data": {
            "text/plain": [
              "13580"
            ]
          },
          "metadata": {
            "tags": []
          },
          "execution_count": 29
        }
      ]
    }
  ]
}