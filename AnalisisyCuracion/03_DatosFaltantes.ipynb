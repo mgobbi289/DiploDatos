{
 "cells": [
  {
   "cell_type": "markdown",
   "metadata": {},
   "source": [
    "# **Diplomatura en Ciencia de Datos, Aprendizaje Automático y sus Aplicaciones**\n",
    "\n",
    "## **Edición 2021**\n",
    "\n",
    "![Images/Comic.gif](Images/Comic.gif)\n",
    "\n",
    "---\n",
    "## Clase 2: Manejo de datos faltantes"
   ]
  },
  {
   "cell_type": "markdown",
   "metadata": {},
   "source": [
    "### Indice de temas\n",
    "1. [Datos ruidosos](#1.-Datos-ruidosos)\n",
    "    * 1.1.[Tipos de datos ruidosos](#1.1-Tipos-de-datos-ruidosos)\n",
    "    * 1.2 [Datos Erróneos](#1.2-Datos-Erróneos)   \n",
    "    * 1.3 [Datos faltantes](#1.2-Datos-faltantes)\n",
    "    * 1.4 [Dataset: Primer mirada los datos](#1.3-Dataset:-Primer-mirada-a-los-datos)\n",
    "    * 1.4.1 [Exploración](#1.4.1-Exploración)\n",
    "    * 1.5 [Reconocimiento de datos ruidosos](#1.5-Reconocimiento-de-datos-ruidosos)\n",
    "       * 1.5.1 [Detección las variables con valor cero del dataset](#1.5.1-Detección-las-variables-con-valor-cero-del-dataset)\n",
    "       * 1.5.2 [Exploracion de las variables Bedroom2, Bathroom y Distance](#1.5.2-Exploracion-de-las-variables-Bedroom2,-Bathroom-y-Distance)\n",
    "       * 1.5.3 [Ejercicio](#1.5.3-Ejercicio)\n",
    "    * 1.6 [Reconocimiento de datos faltantes](#1.6-Reconocimiento-de-datos-faltantes)    \n",
    "    * 1.7 [Librería Missingno](#1.7-Librería-Missingno)\n",
    "    * 1.8 [Razones que contribuyen a tener datos faltantes](#1.8-Razones-que-contribuyen-a-tener-datos-faltantes)\n",
    "    * 1.9 [Detección de correlaciones](#1.9-Detección-de-correlaciones)\n",
    "       * 1.9.1 [Detección de correlaciones usando matrix plot](#1.9.1-Detección-de-correlaciones-usando-matrix-plot)\n",
    "       * 1.9.2 [Detección de correlaciones usando Heatmap](#1.9.2-Detección-de-correlaciones-usando-Heatmap)\n",
    "2. [Tratamiento del valor faltante](#2.-Tratamiento-del-valor-faltante)\n",
    "    * 2.1.[Eliminacion de datos faltantes](#2.1-Eliminacion-de-datos-faltantes)\n",
    "        * 2.1.1[Eliminación de casos completos](#2.1.1-Eliminación-de-casos-completos)\n",
    "        * 2.1.2[Eliminación de variables](#2.1.2-Eliminación-de-variables)\n",
    "    * 2.2 [Técnicas de imputación](#2.2-Técnicas-de-imputación)\n",
    "        * 2.2.1 [Técnicas Básicas](#2.2.1-Técnicas-básica)\n",
    "        * 2.2.2 [Imputar con el valor mas frecuente](#2.2.2-Imputar-con-el-valor-mas-frecuente)\n",
    "        * 2.2.3 [Ejercicio](#2.2.3-Ejercicio)\n",
    "    * 2.3 [Técnicas de imputacion avanzadas](#2.3-Técnicas-de-imputacion-avanzadas)\n",
    "        * 2.3.1 [K-Nearest Neighbor Imputation](#2.3.1-K-Nearest-Neighbor-Imputation)\n",
    "        * 2.3.2 [Multivariate feature imputation](#2.3.2-Multivariate-feature-imputation)\n",
    "        * 2.3.3 [Ejercicio](#2.3.3-Ejercicio)\n",
    "        * 2.3.4 [Otros métodos de imputación](#2.3.4-Otros-métodos-de-imputación)\n",
    "\n",
    "\n"
   ]
  },
  {
   "cell_type": "markdown",
   "metadata": {},
   "source": [
    "## 1. Datos ruidosos"
   ]
  },
  {
   "cell_type": "markdown",
   "metadata": {},
   "source": [
    "Una de las conclusiones más importantes de trabajar con información es que los datos nunca se organizan, ni se recolectan de forma simple. Los datos del mundo real, al combinar diferentes características y calificaciones de objetos y sujetos muchas veces contienen errores,  lo que requiere una limpieza significativa (y, a menudo, experiencia de dominio) para ser utilizables. Esto es lo que se refiere con ruido en los datos."
   ]
  },
  {
   "cell_type": "markdown",
   "metadata": {},
   "source": [
    "Casi todos los conjuntos de datos contienen algo de ruido, y cuanto menos ruido haya, mejor (\"más limpio\") será el conjunto de datos. Algunos tipos de ruido son más fáciles de corregir que otros. A veces, eliminar el ruido por completo es simplemente imposible y todo lo que puede hacer es volver a muestrear o esperar lo mejor, teniendo en cuenta que en procesamiento de datos, <span style=\"color:FireBrick\">**cuando entra basura, sale basura.**</span>"
   ]
  },
  {
   "cell_type": "markdown",
   "metadata": {},
   "source": [
    "![Images/DatosRuidosos.png](Images/DatosRuidosos.png)"
   ]
  },
  {
   "cell_type": "markdown",
   "metadata": {},
   "source": [
    "### 1.1 Tipos de datos ruidosos"
   ]
  },
  {
   "cell_type": "markdown",
   "metadata": {},
   "source": [
    "* El <span style=\"color:FireBrick\">**dato erróneo**</span>  es un dato recolectado con algun error, que lo separa de la generalidad. Debe ser inspeccionado y tratado especialmente para determinar si es un <span style=\"color:FireBrick\">**ruido**</span> o un dato importante con baja probabilidad de ocurrir, es decir un  <span style=\"color:FireBrick\">**dato atípico**</span> o <span style=\"color:FireBrick\">**outlier**</span>."
   ]
  },
  {
   "cell_type": "markdown",
   "metadata": {},
   "source": [
    "* El <span style=\"color:FireBrick\">**dato faltante**</span> es el un dato que no esta registrado en la database. Dependiendo como se hayan recolectado los datos y escrito el archivo de datos, pueden estar marcados con un <span style=\"color:FireBrick\">**NaN**</span>, o con un número fuera de rango, como <span style=\"color:FireBrick\">**0**</span> o <span style=\"color:FireBrick\">**-1**</span>. Es muy importante reconocer la codificación de datos faltantes, para no confundirlos con un dato válido recolectado. \n",
    "\n"
   ]
  },
  {
   "cell_type": "markdown",
   "metadata": {},
   "source": [
    "### 1.2 Datos Erróneos\n",
    "\n",
    "Los datos erróneos se dividen en <span style=\"color:FireBrick\">**datos atípicos**</span> y <span style=\"color:FireBrick\">**datos mal codificados**</span>.\n",
    "\n",
    "Los <span style=\"color:FireBrick\">**datos atípicos**</span> son datos reales, sin embargo, pueden producir demasiada palanca sobre los estadisticos de tendencia central y desviacion, lo cual los hace candidatos a ser retirados del dataset. \n",
    "\n",
    "Los <span style=\"color:FireBrick\">**datos mal codificados**</span> son la fuente de error mas comun, que en muchos casos no puede ser detectada. Es importante detectar cuando los datos faltantes fueron codificados como valores fuera de rango, por ejemplo el valor <span style=\"color:FireBrick\">**cero**</span>. Este error suele aparecer cuando se mezclan databases con distinta codificacion de datos faltantes\n",
    "\n"
   ]
  },
  {
   "cell_type": "markdown",
   "metadata": {},
   "source": [
    "### 1.3 Datos Faltantes\n",
    "\n",
    "Los datos faltantes se dividen en <span style=\"color:FireBrick\">**datos perdidos**</span> y <span style=\"color:FireBrick\">**datos inexistentes**</span>. "
   ]
  },
  {
   "cell_type": "markdown",
   "metadata": {},
   "source": [
    "* Un <span style=\"color:FireBrick\">**dato perdido**</span> es un dato que uno sabe que existe pero dada una recolección fallida o incompleta, no se conoce su valor."
   ]
  },
  {
   "cell_type": "markdown",
   "metadata": {},
   "source": [
    "* Un  <span style=\"color:FireBrick\">**dato inexistente**</span> es un dato faltante, por lo cual es ruido, pero a la vez, no lo es, pues no existe. Esto es, no puede ser recolectado. "
   ]
  },
  {
   "cell_type": "markdown",
   "metadata": {},
   "source": [
    "Python no reconoce la diferencia, por lo cual uno debe ser muy cauteloso cuando trabaja con datos de ambas clases. Al leer un archivo con espacios en blanco, automáticamente asigna a ese dato un <span style=\"color:FireBrick\">**NaN**</span> numérico con capacidad de ser imputado. \n"
   ]
  },
  {
   "cell_type": "markdown",
   "metadata": {},
   "source": [
    "\n",
    "Sin embargo,  en Python existe el objeto <span style=\"color:FireBrick\">**None**</span>, el cual es un single null datatype. El dato <span style=\"color:FireBrick\">**NaN**</span> puede ser usado como valor numérico en operaciones matematicas, mientras que <span style=\"color:FireBrick\">**None**</span> no, o al menos no debería.\n",
    "\n",
    "* <span style=\"color:FireBrick\">**NaN**</span> es un valor numérico, definido en IEEE 754 floating-point standard. \n",
    "\n",
    "* <span style=\"color:FireBrick\">**None**</span> es un internal Python type (NoneType) y es mas parecido al ''no existente'' o \"vacio\" que al  \"numerically invalid\" en este contexto.\n",
    "\n",
    "Porque no puede usarse <span style=\"color:FireBrick\">**None**</span> como el dato nulo de R? porque Numpy y Pandas no propagan estos datos a traves de operaciones aritméticas, y para evitar usarlo en un algoritmo hay que testear cada dato para ver si es None. \n"
   ]
  },
  {
   "cell_type": "code",
   "execution_count": null,
   "metadata": {},
   "outputs": [],
   "source": [
    "import numpy as np\n",
    "import pandas as pd\n",
    "\n",
    "pd.set_option('display.float_format', lambda x: '%.2f' % x)\n"
   ]
  },
  {
   "cell_type": "code",
   "execution_count": null,
   "metadata": {},
   "outputs": [],
   "source": [
    "s = pd.Series([1, 2, 3])\n",
    "s.loc[0] = None\n",
    "s"
   ]
  },
  {
   "cell_type": "code",
   "execution_count": null,
   "metadata": {},
   "outputs": [],
   "source": [
    "s = pd.Series([\"a\", \"b\", \"c\"])\n",
    "s.loc[0] = None\n",
    "s.loc[1] = np.nan\n",
    "s"
   ]
  },
  {
   "cell_type": "markdown",
   "metadata": {},
   "source": [
    "### 1.3 Dataset: Primer mirada a los datos\n",
    "\n",
    "Este es el punto en el que entramos en la parte de la ciencia de datos que necesita mucho de la \"intuición de datos\", que consiste en \"mirar realmente sus datos y tratar de averiguar por qué son así y cómo esto afecta el análisis \". \n",
    "\n",
    "Puede ser una parte frustrante de la ciencia de datos, especialmente si se es nuevo en el campo y no se tiene mucha experiencia. \n",
    "\n",
    "<span style=\"color:FireBrick\">**Para lidiar con los valores erróneos**</span>, hay que estudiar las distribuciones de las variables y detectar los valores atípicos, teniendo en cuenta la forma de recolección de los datos. Un dato atípico puede ser un valor posible de una variable con cola pesada, o puede ser un error al recolectar los datos. Hay valores atípicos que enmascaran valores faltantes.\n",
    "\n",
    "<span style=\"color:FireBrick\">**Para lidiar con los valores perdidos**</span>, es necesario usar la intuición para averiguar por qué falta el valor. Una de las preguntas más importantes que puede hacerse para ayudar a resolver esto es la siguiente:\n",
    "\n",
    "- <span style=\"color:FireBrick\">**¿Falta este valor porque no se registró o porque no existe?**</span>\n",
    "\n",
    "Por ejemplo\n",
    "\n",
    "- Una casa de 2 dormitorios no incluiría una respuesta para el tamaño del tercer dormitorio.\n",
    "\n",
    "\n",
    "- Alguien que está siendo encuestado puede optar por no compartir sus ingresos.\n",
    "\n",
    "Si falta un valor porque <span style=\"color:FireBrick\">**no existe**</span> (como la altura del hijo mayor de alguien que no tiene hijos), no tiene sentido intentar adivinar cuál podría ser. Estos valores que probablemente desee mantener como NaN, o codificados por un valor constante muy lejos del rango real de la variable. \n",
    "\n",
    "Por otro lado, si falta un valor <span style=\"color:FireBrick\">**porque no se registró**</span>, puede intentar adivinar cuál podría haber sido es valor basándose en los otros valores en esa columna y fila. \n",
    "\n",
    "En estadística, <span style=\"color:FireBrick\">**predecir**</span> es otorgar valor a un dato que todavia no ha sido muestreado, e <span style=\"color:FireBrick\">**imputar**</span> es estimar un valor que puede haber sido muestreado pero no se lo conoce. \n",
    "\n"
   ]
  },
  {
   "cell_type": "markdown",
   "metadata": {},
   "source": [
    "### 1.4 Exploración "
   ]
  },
  {
   "cell_type": "markdown",
   "metadata": {},
   "source": [
    "Lo primero que hago cuando obtengo un nuevo conjunto de datos es echar un vistazo a algunos de ellos. Esto me permite ver si el dataset se ha leído correctamente, y tener una idea de lo que está sucediendo con los datos. En este caso, estoy buscando para ver si veo algún valor faltante, que se representará con <span style=\"color:FireBrick\">**NaN**</span> o <span style=\"color:FireBrick\">**None**</span>. pero tambien tengo que observar si hay números fuera de rango, como <span style=\"color:FireBrick\">**0**</span> o números negativos que no corresponden al rango de la variable. \n",
    "\n",
    "Vamos a trabajar con el dataset <span style=\"color:FireBrick\">**Melbourne Housing Snapshot**</span>, es un conjunto reducido de información sobre ventas de propiedades, con el objeto de observar tendencias en las ventas, y predecir precios.\n"
   ]
  },
  {
   "cell_type": "markdown",
   "metadata": {},
   "source": [
    "Carguemos las librerias necesarias para trabajar "
   ]
  },
  {
   "cell_type": "code",
   "execution_count": null,
   "metadata": {},
   "outputs": [],
   "source": [
    "import matplotlib.pyplot as plt\n",
    "import seaborn as sns\n",
    "sns.set_context('talk')\n",
    "import plotly.express as px\n",
    "\n",
    "#import cufflinks as cf\n",
    "#import plotly.graph_objs as go\n",
    "#import chart_studio.plotly as py\n",
    "\n",
    "# Make Plotly work in your Jupyter Notebook\n",
    "from plotly.offline import download_plotlyjs, init_notebook_mode, plot, iplot\n",
    "init_notebook_mode(connected=True)\n",
    "\n",
    "# Use Plotly locally\n",
    "#cf.go_offline()\n",
    "\n",
    "\n",
    "%matplotlib inline"
   ]
  },
  {
   "cell_type": "markdown",
   "metadata": {},
   "source": [
    "Carguemos los datos"
   ]
  },
  {
   "cell_type": "code",
   "execution_count": null,
   "metadata": {},
   "outputs": [],
   "source": [
    "melb_data = pd.read_csv('melb_data.csv')\n",
    "melb_data.shape\n"
   ]
  },
  {
   "cell_type": "code",
   "execution_count": null,
   "metadata": {},
   "outputs": [],
   "source": [
    "\n",
    "melb_data.describe()"
   ]
  },
  {
   "cell_type": "markdown",
   "metadata": {},
   "source": [
    "Estudiemos la definición de las variables que vamos a tener desplegadas en columnas. Recordemos que los casos son las filas."
   ]
  },
  {
   "cell_type": "markdown",
   "metadata": {},
   "source": [
    " Variables\n",
    "\n",
    "- Suburb: region \n",
    "\n",
    "- Address: property address \n",
    "\n",
    "- Rooms: Number of rooms\n",
    "\n",
    "- Price: Price in dollars\n",
    "\n",
    "- Method: S - property sold; SP - property sold prior; PI - property passed in; PN - sold prior not disclosed; SN - sold not disclosed; NB - no bid; VB - vendor bid; W - withdrawn prior to auction; SA - sold after auction; SS - sold after auction price not disclosed. N/A - price or highest bid not available.\n",
    "\n",
    "- Type: br - bedroom(s); h - house,cottage,villa, semi,terrace; u - unit, duplex; t - townhouse; dev site - development site; o res - other residential.\n",
    "\n",
    "- SellerG: Real Estate Agent\n",
    "\n",
    "- Date: Date sold\n",
    "\n",
    "- Distance: Distance from CBD\n",
    "\n",
    "- Regionname: General Region (West, North West, North, North east …etc)\n",
    "\n",
    "- Propertycount: Number of properties that exist in the suburb.\n",
    "\n",
    "- Bedroom2 : Scraped # of Bedrooms (from different source)\n",
    "\n",
    "- Bathroom: Number of Bathrooms\n",
    "\n",
    "- Car: Number of carspots\n",
    "\n",
    "- Landsize: Land Size\n",
    "\n",
    "- BuildingArea: Building Size\n",
    "\n",
    "- CouncilArea: Governing council for the area"
   ]
  },
  {
   "cell_type": "code",
   "execution_count": null,
   "metadata": {},
   "outputs": [],
   "source": [
    "\n",
    "y=melb_data.sample(10,random_state=123)\n",
    "print(y)"
   ]
  },
  {
   "cell_type": "markdown",
   "metadata": {},
   "source": [
    "### 1.5 Reconocimiento de datos ruidosos"
   ]
  },
  {
   "cell_type": "markdown",
   "metadata": {},
   "source": [
    "Parece que hay variables con valores faltantes, que han sido reconocidos por pandas como <span style=\"color:FireBrick\">**NaN**</span>, y valores <span style=\"color:FireBrick\">**0**</span> que podrían ser tambien datos faltantes. \n",
    "\n",
    "En esta muestra vemos las variables <span style=\"color:FireBrick\">**Landsize,  BuildingArea,  YearBuilt**</span>.\n",
    "con problemas potenciales\n",
    "\n",
    "- Landsize tiene valores <span style=\"color:FireBrick\">**0**</span>.\n",
    "\n",
    "- BuildingArea y  YearBuilt tienen <span style=\"color:FireBrick\">**NaN**</span>\n",
    "\n",
    "Son estas las únicas variables con problemas? como puedo encontrar TODAS las variables que tengo que estudiar?"
   ]
  },
  {
   "cell_type": "markdown",
   "metadata": {},
   "source": [
    "### 1.5.1 Detección  las variables con valor cero del dataset"
   ]
  },
  {
   "cell_type": "code",
   "execution_count": null,
   "metadata": {},
   "outputs": [],
   "source": [
    "cols = melb_data[melb_data == 0].count(axis=0)\n",
    "cols[cols > 0]\n"
   ]
  },
  {
   "cell_type": "markdown",
   "metadata": {},
   "source": [
    "Recordemos que tenemos 13580 casos, por lo cual hay variables con una cantidad muy chica de ceros, y otras con una cantidad importante. La pregunta a responder es: Son estos ceros valores posibles de la variable o datos faltantes codificados asi?."
   ]
  },
  {
   "cell_type": "markdown",
   "metadata": {},
   "source": [
    "Vamos a trabajar las variables Bedroom2,  Bathroom y Distance y vamos a dejar las otras como ejercicio. "
   ]
  },
  {
   "cell_type": "markdown",
   "metadata": {},
   "source": [
    "### 1.5.2 Exploracion de las variables Bedroom2,  Bathroom y Distance"
   ]
  },
  {
   "cell_type": "markdown",
   "metadata": {},
   "source": [
    "### Estudiemos los tipos de propiedades SIN DORMITORIOS"
   ]
  },
  {
   "cell_type": "code",
   "execution_count": null,
   "metadata": {},
   "outputs": [],
   "source": [
    "sns.boxplot(data=melb_data[melb_data.Bedroom2<20], x='Bedroom2', y='Type')\n",
    "\n",
    "\n"
   ]
  },
  {
   "cell_type": "markdown",
   "metadata": {},
   "source": [
    "Recordemos que solo había 16 casos con valores cero. Y hay unit, houses y townhouses sin dormitorios. Se puede pensar que hay unidades de estilo de moderno monoambiente, donde conviven la cocina y el dormitorio. Es dificil pensar que hay casa sin dormitorios. Ese parece ser un dato faltante, pues Bedroom2 es un dato obtenido mediante la union con otra database. \n",
    "\n",
    "Miremos en forma conjunta la variable Rooms y la variable Bedroom2."
   ]
  },
  {
   "cell_type": "code",
   "execution_count": null,
   "metadata": {},
   "outputs": [],
   "source": [
    "Bedroom2 = melb_data.Bedroom2\n",
    "Rooms = melb_data.Rooms\n",
    "pd.crosstab(Bedroom2,Rooms)"
   ]
  },
  {
   "cell_type": "markdown",
   "metadata": {},
   "source": [
    "Lamentablemente, la variable Rooms es mucho mas informativa que la variable Bedroom2. "
   ]
  },
  {
   "cell_type": "markdown",
   "metadata": {},
   "source": [
    "### Ejemplo de accion: eliminar la variable Bedroom2."
   ]
  },
  {
   "cell_type": "markdown",
   "metadata": {},
   "source": [
    "NUNCA ACCIONAR SOBRE EL DATASET ORIGINAL!!!!"
   ]
  },
  {
   "cell_type": "code",
   "execution_count": null,
   "metadata": {},
   "outputs": [],
   "source": [
    "melb_df=melb_data.copy()\n",
    "melb_df=melb_df.drop(['Bedroom2'], axis=1)\n",
    "melb_df.sample(10,random_state=123)"
   ]
  },
  {
   "cell_type": "markdown",
   "metadata": {},
   "source": [
    "### Estudiemos los tipos de propiedades SIN BAÑOS"
   ]
  },
  {
   "cell_type": "code",
   "execution_count": null,
   "metadata": {},
   "outputs": [],
   "source": [
    "sns.boxplot(data=melb_data, x='Bathroom', y='Type')"
   ]
  },
  {
   "cell_type": "code",
   "execution_count": null,
   "metadata": {},
   "outputs": [],
   "source": [
    "Bathroom = melb_data.Bathroom\n",
    "pd.crosstab(Bathroom,Rooms)"
   ]
  },
  {
   "cell_type": "markdown",
   "metadata": {},
   "source": [
    "### Ejemplo de accion: considerar que las propiedades que no listan baños suponen que existe al menos uno."
   ]
  },
  {
   "cell_type": "code",
   "execution_count": null,
   "metadata": {},
   "outputs": [],
   "source": [
    "import numpy as np\n",
    "melb_df.loc[melb_df.Bathroom<1,'Bathroom']=1\n",
    "\n",
    "\n",
    "cols2 = melb_df[melb_df == 0].count(axis=0)#/len(melb_df.index)\n",
    "cols2[cols2 > 0]"
   ]
  },
  {
   "cell_type": "code",
   "execution_count": null,
   "metadata": {},
   "outputs": [],
   "source": [
    "cols[cols > 0]"
   ]
  },
  {
   "cell_type": "markdown",
   "metadata": {},
   "source": [
    "como podemos observar, en mi dataset editado, no está la variable bedrooms y la categoria baños no tiene ceros."
   ]
  },
  {
   "cell_type": "code",
   "execution_count": null,
   "metadata": {},
   "outputs": [],
   "source": [
    "melb_data.describe()"
   ]
  },
  {
   "cell_type": "code",
   "execution_count": null,
   "metadata": {},
   "outputs": [],
   "source": [
    "melb_df.describe()"
   ]
  },
  {
   "cell_type": "markdown",
   "metadata": {},
   "source": [
    "### <span style=\"color:FireBrick\">**1.5.3 Ejercicio: Dada las columnas del dataset que tienen ceros,  decidir si son ceros válidos o son datos erróneos o datos faltantes enmascarados. Decidir acciones**</span>"
   ]
  },
  {
   "cell_type": "markdown",
   "metadata": {},
   "source": [
    " ### 1.6 Reconocimiento de datos faltantes\n",
    " \n",
    "- La falta de datos puede limitar nuestra capacidad para realizar tareas importantes de ciencia de datos, como convertir tipos de datos o visualizar datos.\n",
    " \n",
    "- Los datos faltantes pueden reducir el poder estadístico de nuestros modelos, lo que a su vez aumenta la probabilidad de error de tipo II. El error de tipo II es la imposibilidad de rechazar una hipótesis nula falsa.\n",
    "\n",
    "- Los datos faltantes pueden reducir la representatividad de las muestras en el conjunto de datos.\n",
    "\n",
    "- La falta de datos completos puede distorsionar la validez de los ensayos científicos y puede llevar a conclusiones inválidas.\n",
    "\n",
    "\n",
    "Las bibliotecas de Python representan los números faltantes como <span style=\"color:FireBrick\">**NaN**</span>, que es la abreviatura de \"no es un número\". Vamos a detectar qué celdas tienen valores perdidos y luego contar cuántos hay en cada columna con el comando: df.isna() y el df.info()\n",
    "\n"
   ]
  },
  {
   "cell_type": "code",
   "execution_count": null,
   "metadata": {},
   "outputs": [],
   "source": [
    "melb_data.info()\n"
   ]
  },
  {
   "cell_type": "code",
   "execution_count": null,
   "metadata": {},
   "outputs": [],
   "source": [
    "missing_values_count = melb_data.isna().sum()\n",
    "missing_values_count"
   ]
  },
  {
   "cell_type": "markdown",
   "metadata": {},
   "source": [
    "El dataset donde empezamos a corregir ..."
   ]
  },
  {
   "cell_type": "code",
   "execution_count": null,
   "metadata": {},
   "outputs": [],
   "source": [
    "melb_df.isna().sum()"
   ]
  },
  {
   "cell_type": "markdown",
   "metadata": {},
   "source": [
    "Hay bastantes, pero concentrados en tres variables. Veamos cual es el porcentaje de datos faltantes que tiene el dataset. "
   ]
  },
  {
   "cell_type": "code",
   "execution_count": null,
   "metadata": {},
   "outputs": [],
   "source": [
    "# how many total missing values do we have?\n",
    "total_cells = np.product(melb_data.shape)\n",
    "total_missing = missing_values_count.sum()\n",
    "\n",
    "# percent of data that is missing\n",
    "(total_missing/total_cells) * 100"
   ]
  },
  {
   "cell_type": "markdown",
   "metadata": {},
   "source": [
    "Solo hay un 4% de datos faltantes, concentrados en algunas variables. Usando el paquete `missingno` podemos hacer un análisis gráfico de los datos faltantes. Las cuatro variables son"
   ]
  },
  {
   "cell_type": "markdown",
   "metadata": {},
   "source": [
    "Car                62\n",
    "\n",
    "BuildingArea     6450\n",
    "\n",
    "YearBuilt        5375\n",
    "\n",
    "CouncilArea      1369"
   ]
  },
  {
   "cell_type": "markdown",
   "metadata": {},
   "source": [
    "Y el tipo de variable es"
   ]
  },
  {
   "cell_type": "markdown",
   "metadata": {},
   "source": [
    "  Car              float64\n",
    "  \n",
    "  BuildingArea     float64\n",
    "  \n",
    "  YearBuilt        float64\n",
    "  \n",
    "  CouncilArea      object"
   ]
  },
  {
   "cell_type": "markdown",
   "metadata": {},
   "source": [
    "La imputacion de variables es diferente para variables categoricas y numericas, por lo cual es importante distinguir los casos."
   ]
  },
  {
   "cell_type": "markdown",
   "metadata": {},
   "source": [
    "### 1.7 Librería Missingno "
   ]
  },
  {
   "cell_type": "code",
   "execution_count": null,
   "metadata": {},
   "outputs": [],
   "source": [
    "import missingno as msno\n",
    "msno.bar(melb_data,figsize=(12, 6), fontsize=12, color='steelblue')"
   ]
  },
  {
   "cell_type": "markdown",
   "metadata": {},
   "source": [
    "Podemos ver que hay solo cuatro columnas que no tienen todos sus valores: \"Car\", \"Building area\", \"Year build\" y \"Council area\", aunque \"Car\" tiene muy pocos datos faltantes."
   ]
  },
  {
   "cell_type": "markdown",
   "metadata": {},
   "source": [
    "Tambien Podemos visualizar las posiciones en el dataset de los datos faltantes usando la matrix(). El gráfico aparece en blanco siempre que falten valores. Al ser 13580 casos, el gráfico esta muy comprimido, "
   ]
  },
  {
   "cell_type": "code",
   "execution_count": null,
   "metadata": {},
   "outputs": [],
   "source": [
    "msno.matrix(melb_data,figsize=(12, 6), fontsize=12, color=[0,0,0.2])"
   ]
  },
  {
   "cell_type": "markdown",
   "metadata": {},
   "source": [
    "Si hago una muestra de 200 datos, se pueden pbservar las correlaciones entre los datos faltantes. Para poder accionar sobre el dataset sin incorporar nuevos errores, es necesario corroborar que el mecanismo de pérdida sea aleatorio."
   ]
  },
  {
   "cell_type": "code",
   "execution_count": null,
   "metadata": {},
   "outputs": [],
   "source": [
    "msno.matrix(melb_data.sample(200),figsize=(12, 6), fontsize=12, color=[0.5,0,0])"
   ]
  },
  {
   "cell_type": "markdown",
   "metadata": {},
   "source": [
    "Se observa una correlacion entre los datos faltantes de las variables \"Building area\" y \"Year build\". Que implica esto?"
   ]
  },
  {
   "cell_type": "markdown",
   "metadata": {},
   "source": [
    "### 1.8 Razones que contribuyen a tener datos faltantes\n",
    "\n",
    "Antes de tratar los datos faltantes, es importante entender las razones de la pérdida de los datos. En general, se modela la pérdida en tres categorias\n",
    "\n",
    "![Images/DatosFaltantes.png](Images/DatosFaltantes.png)\n",
    "\n",
    "<span style=\"color:Red\"> 1. Missing Completely at Random (MCAR)</span>\n",
    "\n",
    "Los valores faltantes de una variable dada (Y) no estan asociados con otras variables del dataset dado o con la misma variable (Y). \n",
    "\n",
    "<span style=\"color:Red\"> 2. Missing at Random (MAR)</span>\n",
    "\n",
    "MAR ocurre la pérdida de los datos no es aleatoria, pero puede ser explicada completamente como funcion de otras variables con informacion completa. \n",
    "\n",
    "<span style=\"color:Red\"> 3. Missing Not at Random (MNAR)</span>\n",
    "\n",
    "La pérdida depende de datos no observados o del valor perdido. \n",
    "\n",
    "\n",
    "\n"
   ]
  },
  {
   "cell_type": "markdown",
   "metadata": {},
   "source": [
    "### 1.9 Detección de correlaciones "
   ]
  },
  {
   "cell_type": "markdown",
   "metadata": {},
   "source": [
    "La existencia de correlacion entre la presencia ausencia de datos faltantes en determinadas variables es una muestra de la falta de aleatoriedad del mecanismo de perdida. Aun asi, puede existir una relacion entre las variables que permita imputar el dato perdido como funcion de los datos relevados. "
   ]
  },
  {
   "cell_type": "markdown",
   "metadata": {},
   "source": [
    "### 1.9.1 Detección de correlaciones usando matrix plot\n",
    "\n",
    "En este caso, el dataset fue recolectado para predecir el precio de las propiedades en función de características de las las propiedades y la localización geográfica. La variable Car tiene pocos datos faltantes, es razonable pensar que es un error de carga y no en la inexistencia del valor, pues cero en esta variable implica que la propiedad no tiene una cochera. \n"
   ]
  },
  {
   "cell_type": "code",
   "execution_count": null,
   "metadata": {},
   "outputs": [],
   "source": [
    "Car = melb_data.Car\n",
    "\n",
    "fig = px.histogram(Car, nbins=100, labels={'value': 'Car', 'count': 'number of houses'},\n",
    "                   marginal='violin', title='Distribution of home with car places in Melbourne',\n",
    "                   color_discrete_sequence=px.colors.sequential.RdBu)\n",
    "\n",
    "fig.update_layout(showlegend=False)\n",
    "\n",
    "fig.show()"
   ]
  },
  {
   "cell_type": "markdown",
   "metadata": {},
   "source": [
    "Es un poco raro que haya tantas casas sin cocheras, asi como es raro que haya casas con 10 cocheras."
   ]
  },
  {
   "cell_type": "code",
   "execution_count": null,
   "metadata": {},
   "outputs": [],
   "source": [
    "Car = melb_data.Car\n",
    "Type = melb_data.Type\n",
    "pd.crosstab(Type,Car)"
   ]
  },
  {
   "cell_type": "code",
   "execution_count": null,
   "metadata": {},
   "outputs": [],
   "source": [
    "sorted = melb_data.sort_values('BuildingArea')\n",
    "msno.matrix(sorted,figsize=(12, 6), fontsize=12, color=[0.5,0,0])"
   ]
  },
  {
   "cell_type": "markdown",
   "metadata": {},
   "source": [
    "### 1.9.2 Detección de correlaciones usando Heatmap"
   ]
  },
  {
   "cell_type": "code",
   "execution_count": null,
   "metadata": {},
   "outputs": [],
   "source": [
    "msno.heatmap(melb_data,figsize=(12, 6), fontsize=12)"
   ]
  },
  {
   "cell_type": "markdown",
   "metadata": {},
   "source": [
    "La aleatoriedad no es completa, pues hay alta correlacion entre YearBuilt y BuildingArea. Aun asi, es posible utilizar imputacion estocástica controlando el nivel de error. "
   ]
  },
  {
   "cell_type": "markdown",
   "metadata": {},
   "source": [
    "### 2. Tratamiento del valor faltante"
   ]
  },
  {
   "cell_type": "markdown",
   "metadata": {},
   "source": [
    "![Images/DiagramaFaltantes.png](Images/DiagramaFaltantes.png)"
   ]
  },
  {
   "cell_type": "markdown",
   "metadata": {},
   "source": [
    "### 2.1 Eliminacion de datos faltantes"
   ]
  },
  {
   "cell_type": "markdown",
   "metadata": {},
   "source": [
    "Si la pérdida es completamente aleatoria, MCAR, las operaciones simples de Pandas que ignoran los NaN como el cálculo de medias y varianzas, no se ve afectado. Sin embargo, operaciones mas complejas pueden verse afectadas y se aconseja eliminar el caso completo. "
   ]
  },
  {
   "cell_type": "markdown",
   "metadata": {},
   "source": [
    "### 2.1.1 Eliminación de **casos** completos "
   ]
  },
  {
   "cell_type": "markdown",
   "metadata": {},
   "source": [
    "Si la pérdida es completamente aleatoria, MCAR, el porcentaje de casos con datos faltantes es pequeño, se elimina el caso completo. "
   ]
  },
  {
   "cell_type": "code",
   "execution_count": null,
   "metadata": {},
   "outputs": [],
   "source": [
    "\n",
    "melb_df['Car'].mean() #pandas skips the missing values and calculates mean of the remaining values.\n",
    "melb_df.dropna(subset=['Car'],how='any',inplace=True)\n",
    "melb_df['Car'].isnull().sum()"
   ]
  },
  {
   "cell_type": "code",
   "execution_count": null,
   "metadata": {},
   "outputs": [],
   "source": [
    "msno.bar(melb_df,figsize=(12, 6), fontsize=12, color='steelblue')"
   ]
  },
  {
   "cell_type": "markdown",
   "metadata": {},
   "source": [
    "### 2.1.2 Eliminación de variables"
   ]
  },
  {
   "cell_type": "markdown",
   "metadata": {},
   "source": [
    "Si una columna contiene muchos valores faltantes, digamos más del 80%, y la característica no es significativa, es posible que se desee eliminar esa característica. Sin embargo, nuevamente, no es una buena metodología para eliminar datos."
   ]
  },
  {
   "cell_type": "markdown",
   "metadata": {},
   "source": [
    "**Eliminación de todas las columnas con datos faltantes**"
   ]
  },
  {
   "cell_type": "code",
   "execution_count": null,
   "metadata": {},
   "outputs": [],
   "source": [
    "melb_data_without_missing_values = melb_data.dropna(axis=1)"
   ]
  },
  {
   "cell_type": "code",
   "execution_count": null,
   "metadata": {},
   "outputs": [],
   "source": [
    "msno.bar(melb_data_without_missing_values,figsize=(12, 6), fontsize=12, color=[0.5,0,0])"
   ]
  },
  {
   "cell_type": "markdown",
   "metadata": {},
   "source": [
    "Si esas columnas tenían información útil (en los lugares que no faltaban), su modelo pierde acceso a esta información cuando se quita la columna. Además, si a los datos de la prueba les faltan valores en lugares donde los datos de entrenamiento sí los tienen, se producirá un error.\n",
    "\n",
    "No suele ser la mejor solución, sin embargo, puede resultar útil cuando faltan la mayoría de los valores de una columna.\n",
    "\n"
   ]
  },
  {
   "cell_type": "markdown",
   "metadata": {},
   "source": [
    "**Eliminación de alguna columna muy dañada, o no tan importante**"
   ]
  },
  {
   "cell_type": "code",
   "execution_count": null,
   "metadata": {},
   "outputs": [],
   "source": [
    "melb_df=melb_df.drop('CouncilArea',axis=1)"
   ]
  },
  {
   "cell_type": "code",
   "execution_count": null,
   "metadata": {},
   "outputs": [],
   "source": [
    "msno.bar(melb_df,figsize=(12, 6), fontsize=12, color='steelblue')"
   ]
  },
  {
   "cell_type": "markdown",
   "metadata": {},
   "source": [
    "### 2.2 Técnicas de imputación "
   ]
  },
  {
   "cell_type": "markdown",
   "metadata": {},
   "source": [
    "Imputar refiere a reemplazar datos faltantes con valores sustitutos. Hay muchas formas de imputar los valores faltantes según la naturaleza del problema y los datos.  Segun los datos, hay técnicas para datos categóricos, datos continuos y series de tiempo. Dependiendo de la naturaleza del problema, las técnicas de imputación se pueden clasificar en general como técnicas básicas y avanzadas: \n",
    "\n",
    "Técnicas básicas de imputación reemplazan el dato faltante por\n",
    "\n",
    "- Un valor constante que tiene significado dentro del dominio, como 0, distinto de todos los demás valores.\n",
    "\n",
    "- Un valor de otro registro seleccionado al azar.\n",
    "\n",
    "- Un valor medio, mediano o de moda para la columna.\n",
    "\n",
    "Técnicas avanzadas de imputación reemplazan el dato faltante por\n",
    "\n",
    "- Un valor estimado por otro modelo predictivo.\n",
    "\n"
   ]
  },
  {
   "cell_type": "markdown",
   "metadata": {},
   "source": [
    "### 2.2.1 Técnicas Básicas\n",
    "\n",
    "- Imputar con una constante\n",
    "\n",
    "- Imputar usando estadísticos básicos (media, mediana o moda (valor mas frecuente) de cada columna en la cual los datos faltantes estan ubicados. \n",
    "\n",
    "Estas técnicas estan incluidas en muchos paquetes de manejo de datos faltantes, y porque son operaciones básicas de filas y columnas, tambien pueden ser realizadas por Pandas.\n",
    "\n",
    "Veamos un ejemplo del paquete sklearn."
   ]
  },
  {
   "cell_type": "code",
   "execution_count": null,
   "metadata": {},
   "outputs": [],
   "source": [
    "# imputing with a constant\n",
    "\n",
    "from sklearn.impute import SimpleImputer\n",
    "\n",
    "melb_data_constant = melb_df.copy()"
   ]
  },
  {
   "cell_type": "code",
   "execution_count": null,
   "metadata": {},
   "outputs": [],
   "source": [
    "\n",
    "#setting strategy to 'constant' y fill_value=0\n",
    "\n",
    "mean_imputer = SimpleImputer(missing_values=np.nan,strategy='constant',fill_value=0) \n",
    "\n",
    "melb_data_constant.iloc[:,:] = mean_imputer.fit_transform(melb_data_constant)\n",
    "\n",
    "msno.bar(melb_data_constant,figsize=(12, 6), fontsize=12, color='steelblue')\n",
    "\n"
   ]
  },
  {
   "cell_type": "code",
   "execution_count": null,
   "metadata": {},
   "outputs": [],
   "source": [
    "melb_data_constant.sample(10)"
   ]
  },
  {
   "cell_type": "markdown",
   "metadata": {},
   "source": [
    "### Pros:\n",
    "\n",
    "- Trabaja con variables categóricas **sin necesidad de usar encodings** agregando una categoria mas. \n",
    "\n",
    "### Cons:\n",
    "\n",
    "- No tiene en cuenta las correlaciones entre las variables. \n",
    "\n",
    "- Puede intruducir **SESGOS** en los datos.\n",
    "\n",
    "- Tiene sentido cuando la categoria que quiero agregar tiene sentido. "
   ]
  },
  {
   "cell_type": "markdown",
   "metadata": {},
   "source": [
    "### 2.2.2 Imputar con el valor mas frecuente"
   ]
  },
  {
   "cell_type": "code",
   "execution_count": null,
   "metadata": {},
   "outputs": [],
   "source": [
    "# imputing with amost_frequent\n",
    "\n",
    "from sklearn.impute import SimpleImputer\n",
    "melb_data_most_frequent = melb_df.copy()\n",
    "\n",
    "#setting strategy to 'most_frequent' \n",
    "\n",
    "mean_imputer = SimpleImputer(strategy='most_frequent') # strategy can also be mean or median or most_frequent\n",
    "\n",
    "melb_data_most_frequent.iloc[:,:] = mean_imputer.fit_transform(melb_data_most_frequent)\n",
    "msno.bar(melb_data_most_frequent,figsize=(12, 6), fontsize=12, color='steelblue')"
   ]
  },
  {
   "cell_type": "code",
   "execution_count": null,
   "metadata": {},
   "outputs": [],
   "source": [
    "melb_data_most_frequent.sample(10)"
   ]
  },
  {
   "cell_type": "markdown",
   "metadata": {},
   "source": [
    "### Pros:\n",
    "\n",
    "- Anda bien con variables categóricas **sin necesidad de usar encodings** \n",
    "\n",
    "### Cons:\n",
    "\n",
    "- No tiene en cuenta las correlaciones entre las variables. \n",
    "\n",
    "- Puede intruducir **SESGOS** en los datos."
   ]
  },
  {
   "cell_type": "markdown",
   "metadata": {},
   "source": [
    "### <span style=\"color:FireBrick\">**2.2.3 Ejercicio: Dada las columnas del dataset que tienen datos faltantes,  imputar por la media. Decidir acciones**</span>\n",
    "\n",
    "### Pros:\n",
    "\n",
    "- Rápido y fácil\n",
    "\n",
    "- Anda bien con datasets numéricos bien balanceados.\n",
    "\n",
    "### Cons:\n",
    "\n",
    "- No tiene en cuenta las correlaciones entre las variables. \n",
    "\n",
    "- Solo trabaja a nivel de columna\n",
    "\n",
    "- Dá resultados pobres en categoricas codificadas (No debe ser usado con variables categóricas)\n",
    "\n",
    "- No es muy preciso, y no hay computo para el error.\n"
   ]
  },
  {
   "cell_type": "markdown",
   "metadata": {},
   "source": [
    "### 2.3 Técnicas de imputacion avanzadas\n",
    "\n",
    "Técnicas de imputación avanzadas usan algortimso de  aprendizaje automático para imputar los valores del dataset, a diferencia de los métodos anteriores que usan otros valores de la misma columna para imputar. Aqui vamos a ver dos métodos, y enumerar otros métodos basado en Random Forest:\n",
    "\n",
    "- Nearest neighbors imputation\n",
    "\n",
    "- Multivariate feature imputation"
   ]
  },
  {
   "cell_type": "markdown",
   "metadata": {},
   "source": [
    "### 2.3.1 K-Nearest Neighbor Imputation"
   ]
  },
  {
   "cell_type": "markdown",
   "metadata": {},
   "source": [
    "K-Nearest Neighbor es un algoritmo muy utulizado para una clasificación simple. El algoritmo utiliza \"similitud de características\" para predecir los valores de cualquier nuevo punto de datos. Esto significa que al nuevo punto se le asigna un valor en función de su parecido con los puntos del conjunto de entrenamiento. Esto es muy útil para hacer predicciones sobre  valores faltantes al encontrar los k-vecinos más cercanos a la observación con datos perdidos y luego imputarlos en función de los valores no perdidos en el vecindario. \n",
    "\n",
    "Hay varias librerias que tienen este algoritmo\n",
    "\n",
    "- <span style=\"color:FireBrick\">**Fancyimpute**</span>\n",
    "\n",
    "- <span style=\"color:FireBrick\">**impyute**</span>\n",
    "\n",
    "- <span style=\"color:FireBrick\">**sklearn.impute**</span>\n",
    "\n",
    "El siguiente codigo tiene un ejemplo del uso de la clase KNNImputer de Sklearn"
   ]
  },
  {
   "cell_type": "code",
   "execution_count": 1,
   "metadata": {},
   "outputs": [
    {
     "ename": "NameError",
     "evalue": "name 'melb_df' is not defined",
     "output_type": "error",
     "traceback": [
      "\u001b[1;31m---------------------------------------------------------------------------\u001b[0m",
      "\u001b[1;31mNameError\u001b[0m                                 Traceback (most recent call last)",
      "\u001b[1;32m<ipython-input-1-ae9988c03c6f>\u001b[0m in \u001b[0;36m<module>\u001b[1;34m\u001b[0m\n\u001b[0;32m      1\u001b[0m \u001b[1;32mfrom\u001b[0m \u001b[0msklearn\u001b[0m\u001b[1;33m.\u001b[0m\u001b[0mimpute\u001b[0m \u001b[1;32mimport\u001b[0m \u001b[0mKNNImputer\u001b[0m\u001b[1;33m\u001b[0m\u001b[1;33m\u001b[0m\u001b[0m\n\u001b[0;32m      2\u001b[0m \u001b[1;33m\u001b[0m\u001b[0m\n\u001b[1;32m----> 3\u001b[1;33m \u001b[0mmelb_data_knn\u001b[0m \u001b[1;33m=\u001b[0m \u001b[0mmelb_df\u001b[0m\u001b[1;33m.\u001b[0m\u001b[0mcopy\u001b[0m\u001b[1;33m(\u001b[0m\u001b[0mdeep\u001b[0m\u001b[1;33m=\u001b[0m\u001b[1;32mTrue\u001b[0m\u001b[1;33m)\u001b[0m\u001b[1;33m\u001b[0m\u001b[1;33m\u001b[0m\u001b[0m\n\u001b[0m\u001b[0;32m      4\u001b[0m \u001b[1;33m\u001b[0m\u001b[0m\n\u001b[0;32m      5\u001b[0m \u001b[1;33m\u001b[0m\u001b[0m\n",
      "\u001b[1;31mNameError\u001b[0m: name 'melb_df' is not defined"
     ]
    }
   ],
   "source": [
    "from sklearn.impute import KNNImputer\n",
    "\n",
    "melb_data_knn = melb_df.copy(deep=True)\n",
    "\n",
    "\n",
    "knn_imputer = KNNImputer(n_neighbors=2, weights=\"uniform\")\n",
    "\n",
    "melb_data_knn[['YearBuilt','BuildingArea']] = knn_imputer.fit_transform(melb_data_knn[['YearBuilt','BuildingArea']])\n",
    "\n"
   ]
  },
  {
   "cell_type": "code",
   "execution_count": null,
   "metadata": {},
   "outputs": [],
   "source": [
    "msno.bar(melb_data_knn,figsize=(12, 6), fontsize=12, color='steelblue')"
   ]
  },
  {
   "cell_type": "code",
   "execution_count": null,
   "metadata": {},
   "outputs": [],
   "source": [
    "melb_data_knn.sample(10)"
   ]
  },
  {
   "cell_type": "markdown",
   "metadata": {},
   "source": [
    "### Pros:\n",
    "\n",
    "- Rápido y fácil\n",
    "\n",
    "- Anda bien con datasets numéricos bien balanceados.\n",
    "\n",
    "### Cons:\n",
    "\n",
    "- Usa distancias calculadas usando los casos, aun cuando tengan NaN's, pero deben ser todas variables numericas. \n",
    "\n",
    "- Antes de imputar, hay que categorizar las variables, usando HotEncoding, LabelEncoding o OrdinalEncoding\n",
    "\n",
    "- KNN Imputer precisa que los datos esten estandarizados. Datos con diferentes escalas introducen valores de reemplazo sesgados   Scikit-Learn’s MinMaxScaler escala las variables al [0,1].\n",
    "\n",
    "- No es muy preciso, y no hay computo para el error.\n",
    "\n",
    "- CouncilArea no puede ser imputada sin realizar encoding primero."
   ]
  },
  {
   "cell_type": "markdown",
   "metadata": {},
   "source": [
    "### 2.3.2 Multivariate feature imputation "
   ]
  },
  {
   "cell_type": "markdown",
   "metadata": {},
   "source": [
    "Imputacion Multiple quiebra el problema de inferencia de los valores faltantes en tres pasos: \n",
    "\n",
    "- imputación\n",
    "\n",
    "- análisis\n",
    "\n",
    "- agrupación \n",
    "\n",
    "La imputación y el análisis puede realizarse  siguiendo el análisis estándar, pero la combinación debe realizarse siguiendo la regla de Rubin que da la fórmula para estimar la varianza total que se compone de la varianza dentro de la imputación y la varianza entre las diferentes imputaciones."
   ]
  },
  {
   "cell_type": "markdown",
   "metadata": {},
   "source": [
    "Imputación multiple por ecuaciones encadenadas (MICE) es una estrategia para imputar valores faltantes modelando cada característica con valores perdidos como una función de otras características en forma rotatoria. Realiza regresiones múltiples sobre una muestra aleatoria de los datos, luego toma el promedio de los valores de regresión múltiple y usa ese valor para imputar el valor faltante. "
   ]
  },
  {
   "attachments": {
    "MICE.png": {
     "image/png": "[encoded data removed]"
    }
   },
   "cell_type": "markdown",
   "metadata": {},
   "source": [
    "![Images/MICE.png](Images/MICE.png)"
   ]
  },
  {
   "cell_type": "markdown",
   "metadata": {},
   "source": [
    "Este tipo de imputación funciona llenando los datos faltantes varias veces. Las imputaciones múltiples (IM) son mucho mejores que una sola imputación, ya que mide la incertidumbre de los valores perdidos de una mejor manera. El enfoque de ecuaciones encadenadas también es muy flexible y puede manejar diferentes variables de diferentes tipos de datos (es decir, continuos o binarios), así como complejidades como límites o patrones de omisión de encuestas.\n",
    "\n",
    "La version de Sklearn no permite trabajar con variables de distinto tipo, hay que realizar encoding. "
   ]
  },
  {
   "cell_type": "code",
   "execution_count": null,
   "metadata": {},
   "outputs": [],
   "source": [
    "from sklearn.experimental import enable_iterative_imputer\n",
    "from sklearn.linear_model import BayesianRidge\n",
    "from sklearn.tree import DecisionTreeRegressor\n",
    "from sklearn.ensemble import ExtraTreesRegressor\n",
    "from sklearn.neighbors import KNeighborsRegressor\n",
    "\n",
    "\n",
    "from sklearn.impute import IterativeImputer\n",
    "\n",
    "melb_data_mice = melb_df.copy(deep=True)\n",
    "\n",
    "mice_imputer = IterativeImputer(random_state=0, estimator=BayesianRidge())\n",
    "\n",
    "melb_data_mice[['YearBuilt','BuildingArea']] = mice_imputer.fit_transform(melb_data_mice[['YearBuilt','BuildingArea']])\n",
    "\n",
    "\n",
    "\n",
    "melb_data_mice.sample(10)\n",
    "    "
   ]
  },
  {
   "cell_type": "markdown",
   "metadata": {},
   "source": [
    "### Pros:\n",
    "\n",
    "- Versatil, puede utilizarse con diferentes clases de clasificadores\n",
    "\n",
    "### Cons\n",
    "\n",
    "- La version de Sklearn no admite datos mixtos, debe realizarse un encoding primero."
   ]
  },
  {
   "cell_type": "markdown",
   "metadata": {},
   "source": [
    "### <span style=\"color:FireBrick\">**2.2.3 Ejercicio: Dada las columnas del dataset que tienen datos faltantes,  imputarcon los siguientes estimadores**</span>\n",
    "- BayesianRidge(),\n",
    "- DecisionTreeRegressor(max_features='sqrt', random_state=0),\n",
    "- ExtraTreesRegressor(n_estimators=10, random_state=0),\n",
    "- KNeighborsRegressor(n_neighbors=15)\n",
    "\n",
    "### <span style=\"color:FireBrick\">**Decidir acciones**</span>\n"
   ]
  },
  {
   "cell_type": "markdown",
   "metadata": {},
   "source": [
    "### 2.3.4 Otros métodos de imputación\n"
   ]
  },
  {
   "cell_type": "markdown",
   "metadata": {},
   "source": [
    "- **miceforest: Fast Imputation with Random Forests in Python**\n",
    "\n",
    "Fast, memory efficient Multiple Imputation by Chained Equations (MICE) with random forests. It can impute categorical and numeric data without much setup, and has an array of diagnostic plots available. \n",
    "\n",
    "https://github.com/AnotherSamWilson/miceforest#Using-miceforest\n",
    "\n",
    "https://towardsdatascience.com/multiple-imputation-with-random-forests-in-python-dec83c0ac55b\n",
    "\n",
    "- **MissForest missingpy library**\n",
    "\n",
    "MissForest imputes missing values using Random Forests in an iterative fashion [1]. By default, the imputer begins imputing missing values of the column (which is expected to be a variable) with the smallest number of missing values -- let's call this the candidate column. The first step involves filling any missing values of the remaining, non-candidate, columns with an initial guess, which is the column mean for columns representing numerical variables and the column mode for columns representing categorical variables.\n",
    "\n",
    "https://towardsdatascience.com/missforest-the-best-missing-data-imputation-algorithm-4d01182aed3\n",
    "\n",
    "\n",
    "- **Datawig Imputation Using Deep Learning**\n",
    "\n",
    "Este método funciona muy bien con características categóricas y no numéricas. Es una biblioteca que aprende modelos de aprendizaje automático utilizando redes neuronales profundas para imputar valores faltantes en un marco de datos. También es compatible con CPU y GPU para entrenamiento.\n",
    "\n",
    "- **Stochastic regression imputation**\n",
    "\n",
    "Es bastante similar a la imputación por regresión, que intenta predecir los valores perdidos haciendo una regresión de otras variables relacionadas en el mismo conjunto de datos, más algún valor residual aleatorio.\n",
    "\n",
    "- **Extrapolation and Interpolation** \n",
    "\n",
    "Intenta estimar valores de otras observaciones dentro del rango de un conjunto discreto de puntos de datos conocidos.\n",
    "\n",
    "- **Hot-Deck imputation**\n",
    "\n",
    "Funciona eligiendo aleatoriamente el valor faltante de un conjunto de variables relacionadas y similares.\n"
   ]
  },
  {
   "cell_type": "markdown",
   "metadata": {},
   "source": [
    "### Conclusion"
   ]
  },
  {
   "cell_type": "markdown",
   "metadata": {},
   "source": [
    " No existe una forma perfecta de compensar los valores perdidos en un conjunto de datos. Cada estrategia puede funcionar mejor para ciertos conjuntos de datos y tipos de datos faltantes, pero puede funcionar mucho peor en otros tipos de conjuntos de datos. Hay algunas reglas establecidas para decidir qué estrategia usar para tipos particulares de valores perdidos, pero más allá de eso, debe experimentar y verificar qué modelo funciona mejor para su conjunto de datos."
   ]
  },
  {
   "cell_type": "markdown",
   "metadata": {},
   "source": [
    "### Challenge"
   ]
  },
  {
   "cell_type": "code",
   "execution_count": null,
   "metadata": {},
   "outputs": [],
   "source": [
    "from missingpy import MissForest\n",
    "import sklearn.neighbors._base\n",
    "sys.modules['sklearn.neighbors._base'] = sklearn.neighbors.base\n",
    "\n",
    "X = melb_df.copy(deep=True)\n",
    "imputer = MissForest()\n",
    "X_imputed = imputer.fit_transform(X)"
   ]
  },
  {
   "cell_type": "code",
   "execution_count": null,
   "metadata": {},
   "outputs": [],
   "source": [
    "import miceforest as mf\n",
    "X = melb_df.copy(deep=True)\n",
    "kernel = mf.MultipleImputedKernel(\n",
    "  data=X,\n",
    "  save_all_iterations=True,\n",
    "  random_state=1991\n",
    ")\n",
    "\n",
    "# Run the MICE algorithm for 3 iterations on each of the datasets\n",
    "kernel.mice(3,verbose=True)\n",
    "\n",
    "completed_data = kernel.complete_data()\n"
   ]
  },
  {
   "cell_type": "code",
   "execution_count": null,
   "metadata": {},
   "outputs": [],
   "source": []
  }
 ],
 "metadata": {
  "kernelspec": {
   "display_name": "Python 3",
   "language": "python",
   "name": "python3"
  },
  "language_info": {
   "codemirror_mode": {
    "name": "ipython",
    "version": 3
   },
   "file_extension": ".py",
   "mimetype": "text/x-python",
   "name": "python",
   "nbconvert_exporter": "python",
   "pygments_lexer": "ipython3",
   "version": "3.9.4"
  }
 },
 "nbformat": 4,
 "nbformat_minor": 4
}
