{
  "nbformat": 4,
  "nbformat_minor": 0,
  "metadata": {
    "colab": {
      "name": "8_Automated_Search.ipynb",
      "provenance": [],
      "collapsed_sections": []
    },
    "kernelspec": {
      "display_name": "Python 3 (ipykernel)",
      "language": "python",
      "name": "python3"
    },
    "language_info": {
      "codemirror_mode": {
        "name": "ipython",
        "version": 3
      },
      "file_extension": ".py",
      "mimetype": "text/x-python",
      "name": "python",
      "nbconvert_exporter": "python",
      "pygments_lexer": "ipython3",
      "version": "3.7.6"
    },
    "accelerator": "GPU"
  },
  "cells": [
    {
      "cell_type": "markdown",
      "metadata": {
        "id": "qy2yUgKC8vsg"
      },
      "source": [
        "# Búsqueda de Hiperparámetros\n",
        "\n",
        "Las redes neuronales tienen decenas de hiperparámetros que afectan su arquitectura y proceso de entrenamiento. Más aún, el desempeño final del modelo está condicionado a encontar un conjunto de valores para dichos hiperparámetros exitosos, para una inicialización aleatoria de los pesos dada. Por ello, la exploración de hiperparámetros se vuelve una de las partes más tediosas y críticas del entrenamiento de redes neuronales. Para obtener resultados que sean correctos, significativos, y reproducibles, es necesario planificar y sistemizar este proceso de búsqueda.\n",
        "\n",
        ">  Hyper-parameter optimization should be regarded as a formal outer loop in the learning process.\n",
        "\n",
        "Formalmente, este proceso se puede describir como la minimización de la función de pérdida (o la maximización de la performance) como si fuera una función de *caja negra* que toma como parámetros los valores de los hiperparámetros:\n",
        "\n",
        "$$ f(\\theta) = loss_\\theta(y, \\hat{y}) $$\n",
        "$$ \\theta^* = argmin_\\theta f(\\theta) $$\n",
        "\n",
        "donde $\\theta$ es el conjunto de hiperparámetros del modelo, $loss$ es la pérdida generada entre las etiquetas verdaderas $y$, y las etiquetas generadas por el modelo $\\hat{y}$, y $f$ es la función objetivo de la minimización.\n",
        "\n",
        "\n",
        "Las estrategias principales para la exploración del espacio de hiperparámetros son:\n",
        "* Búsqueda manual, donde un humano define los valores de cada hiperparámetro.\n",
        "* Búsqueda por grilla o *grid search*, donde se define un conjunto de valores posibles que puede tomar cada hiperparámetro, y se realiza un experimento por cada combinación posible.\n",
        "* Búsqueda aleatoria o *random search*, donde se define un rango de valores posibles para cada hiperparámetro, y se elige al azar un valor del rango para cada experimento.\n",
        "* Búsqueda automátizada, *automated search* o *model-based search*, que es igual a la búsqueda aleatoria pero la selección del valor de cada hiperparámetro está condicionado por los resultados de experimentos anteriores. Para más información ver el paper [*Algorithms for Hyper-Parameter Optimization*](https://proceedings.neurips.cc/paper/2011/file/86e8f7ab32cfd12577bc2619bc635690-Paper.pdf).\n",
        "\n",
        "En la siguiente imagen, tomada del paper [*Random Search for Hyper-Parameter Optimization*](https://www.jmlr.org/papers/volume13/bergstra12a/bergstra12a.pdf), se muestra el impacto de las primeras dos estrategias para un hiperparámetro con alta influencia en el desempeño del modelo final, y otro sin influencia en el modelo. No solo requiere muchas evaluaciones para lograr cobertura, sino que las combinaciones en dónde sólo se varían hiperparámetros no relevantes no recolectan información nueva. El éxito de la búsqueda por grilla depende de que el nivel de granularidad de la grilla cubra adecuadamente los valores relevantes, que son desconocidos a priori.\n",
        "\n",
        "![Comparación de las exploraciones entre grid search y random search](https://res.cloudinary.com/dyd911kmh/image/upload/f_auto,q_auto:best/v1531340388/grid_vs_random_jltknd.png)"
      ]
    },
    {
      "cell_type": "markdown",
      "metadata": {
        "id": "2ZnHi2iN7BiA"
      },
      "source": [
        "Para solucionar todos estos problemas, es que se utiliza la **exploración bayesiana**. Este método modela la pérdida como un *Gaussian Process*, y tiene en cuenta los resultados de los experimentos anteriores para ir construyendo una distribución de probabilidad de la pérdida dados los hiperparámetros:\n",
        "\n",
        "$$ P(loss | \\theta)$$\n",
        "\n",
        "Para elegir una nueva combinación de hiperparámetros a probar dados los experimentos previos, el algoritmo utiliza una *surrogate function* para aproximar el comportamiento de la pérdida, y una *selection function* basada en la mejora esperada. A grandes rasgos, el algoritmo sigue los siguientes pasos:\n",
        "\n",
        "  1. Encontrar el mejor conjunto de hiperparámetros que maximize la mejora esperada (**EI**), estimada a través de la *surrogate function*.\n",
        "  2. Calcular la performance del modelo con la combinación de hiperparámetros elegida. Esto corresponde a evaluar la función objetivo.\n",
        "  3. Actualizar la forma de la *surrogate function* utilizando el teorema de *Bayes* para que se ajuste mejor a la verdadera distribución $ P(loss | \\theta)$.\n",
        "\n",
        "Afortunadamente, muchos algoritmos de búsqueda están implementados y funcionan como cajas negras. Veremos un ejemplo utilizando la librería `hyperopt`."
      ]
    },
    {
      "cell_type": "code",
      "metadata": {
        "id": "_E4YKEzwGmSb",
        "colab": {
          "base_uri": "https://localhost:8080/"
        },
        "outputId": "42a903bc-6414-42f2-8a1d-ea114c3d5368"
      },
      "source": [
        "!pip install --upgrade gensim"
      ],
      "execution_count": 1,
      "outputs": [
        {
          "output_type": "stream",
          "name": "stdout",
          "text": [
            "Requirement already satisfied: gensim in /usr/local/lib/python3.7/dist-packages (4.1.2)\n",
            "Requirement already satisfied: smart-open>=1.8.1 in /usr/local/lib/python3.7/dist-packages (from gensim) (5.2.1)\n",
            "Requirement already satisfied: scipy>=0.18.1 in /usr/local/lib/python3.7/dist-packages (from gensim) (1.4.1)\n",
            "Requirement already satisfied: numpy>=1.17.0 in /usr/local/lib/python3.7/dist-packages (from gensim) (1.19.5)\n"
          ]
        }
      ]
    },
    {
      "cell_type": "code",
      "metadata": {
        "id": "VJmgwjm48vso"
      },
      "source": [
        "import numpy as np\n",
        "import pandas as pd\n",
        "\n",
        "import seaborn\n",
        "\n",
        "import csv\n",
        "import gzip\n",
        "\n",
        "import torch\n",
        "import torch.nn as nn\n",
        "\n",
        "from torch.utils.data import Dataset, DataLoader\n",
        "\n",
        "from gensim import corpora\n",
        "from gensim.parsing import preprocessing\n",
        "\n",
        "from sklearn import metrics\n",
        "from sklearn.model_selection import train_test_split"
      ],
      "execution_count": 2,
      "outputs": []
    },
    {
      "cell_type": "code",
      "metadata": {
        "colab": {
          "base_uri": "https://localhost:8080/",
          "height": 35
        },
        "id": "t0XhsOvd_nbC",
        "outputId": "36b43c53-a92a-4753-bf94-ef69f67f8936"
      },
      "source": [
        "# Ensure version 4.X!\n",
        "import gensim\n",
        "\n",
        "gensim.__version__"
      ],
      "execution_count": 3,
      "outputs": [
        {
          "output_type": "execute_result",
          "data": {
            "application/vnd.google.colaboratory.intrinsic+json": {
              "type": "string"
            },
            "text/plain": [
              "'4.1.2'"
            ]
          },
          "metadata": {},
          "execution_count": 3
        }
      ]
    },
    {
      "cell_type": "markdown",
      "metadata": {
        "id": "oUzR6Nfv8vsp"
      },
      "source": [
        "## Parte 1: Preprocesamiento del texto\n",
        "\n",
        "Primero leeremos el dataset como se explica en la notebook `5_CNNs.ipynb`."
      ]
    },
    {
      "cell_type": "code",
      "metadata": {
        "id": "bVdiWbML8vsq"
      },
      "source": [
        "class IMDBReviewsDataset(Dataset):\n",
        "    def __init__(self, dataset, transform=None):\n",
        "        self.dataset = dataset\n",
        "        self.transform = transform\n",
        "\n",
        "    def __len__(self):\n",
        "        return self.dataset.shape[0]\n",
        "\n",
        "    def __getitem__(self, item):\n",
        "        if torch.is_tensor(item):\n",
        "            item = item.to_list()\n",
        "\n",
        "        item = {\n",
        "            'data': self.dataset.loc[item, 'review'],\n",
        "            'target': self.dataset.loc[item, 'sentiment']\n",
        "        }\n",
        "\n",
        "        if self.transform:\n",
        "            item = self.transform(item)\n",
        "\n",
        "        return item\n",
        "\n",
        "class RawDataProcessor:\n",
        "    def __init__(self, dataset, ignore_header=True, filters=None, vocab_size=50000):\n",
        "        if filters:\n",
        "            self.filters = filters\n",
        "        else:\n",
        "            self.filters = [\n",
        "                lambda s: s.lower(),\n",
        "                preprocessing.strip_tags,\n",
        "                preprocessing.strip_punctuation,\n",
        "                preprocessing.strip_multiple_whitespaces,\n",
        "                preprocessing.strip_numeric,\n",
        "                preprocessing.remove_stopwords,\n",
        "                preprocessing.strip_short,\n",
        "            ]\n",
        "\n",
        "        # Create dictionary based on all the reviews (with corresponding preprocessing)\n",
        "        self.dictionary = corpora.Dictionary(\n",
        "            dataset['review'].map(self._preprocess_string).tolist()\n",
        "        )\n",
        "        # Filter the dictionary and compactify it (make the indices continous)\n",
        "        self.dictionary.filter_extremes(no_below=2, no_above=1, keep_n=vocab_size)\n",
        "        self.dictionary.compactify()\n",
        "        # Add a couple of special tokens\n",
        "        self.dictionary.patch_with_special_tokens({'[PAD]': 0, '[UNK]': 1})\n",
        "        self.idx_to_target = sorted(dataset['sentiment'].unique())\n",
        "        self.target_to_idx = {t: i for i, t in enumerate(self.idx_to_target)}\n",
        "\n",
        "    def _preprocess_string(self, string):\n",
        "        return preprocessing.preprocess_string(string, filters=self.filters)\n",
        "\n",
        "    def _sentence_to_indices(self, sentence):\n",
        "        return self.dictionary.doc2idx(sentence, unknown_word_index=1)\n",
        "\n",
        "    def encode_data(self, data):\n",
        "        return self._sentence_to_indices(self._preprocess_string(data))\n",
        "\n",
        "    def encode_target(self, target):\n",
        "        return self.target_to_idx[target]\n",
        "\n",
        "    def __call__(self, item):\n",
        "        if isinstance(item['data'], str):\n",
        "            # String\n",
        "            data = self.encode_data(item['data'])\n",
        "        else:\n",
        "            # Iterable\n",
        "            data = [self.encode_data(d) for d in item['data']]\n",
        "\n",
        "        if isinstance(item['target'], str):\n",
        "            # String\n",
        "            target = self.encode_target(item['target'])\n",
        "        else:\n",
        "            # Iterable\n",
        "            target = [self.encode_target(t) for t in item['target']]\n",
        "\n",
        "        return {'data': data, 'target': target, 'sentence': item['data']}"
      ],
      "execution_count": 4,
      "outputs": []
    },
    {
      "cell_type": "markdown",
      "metadata": {
        "id": "N38F6o3VAYSD"
      },
      "source": [
        "### Separando el conjunto de validación o *dev*\n",
        "\n",
        "En aprendizaje profundo, es **MUY** importante utilizar un conjunto de validación durante la búsqueda de hiperparámetros, que puede ser tomado de la partición de entrenamiento. Esto es independiente de la estrategia de búsqueda que se utilice.\n",
        "\n",
        "De esta manera, se previene el overfitting indirecto y se cuenta con una partición de datos nunca antes vista para poder evaluar la generalización real del modelo a datos no vistos."
      ]
    },
    {
      "cell_type": "code",
      "metadata": {
        "id": "fdxy4poX_8_3"
      },
      "source": [
        "dataset = pd.read_csv('data/imdb_reviews.csv.gz')\n",
        "\n",
        "preprocess = RawDataProcessor(dataset)\n",
        "\n",
        "# Train and Test\n",
        "train_indices, test_indices = train_test_split(dataset.index, test_size=0.2, random_state=123)\n",
        "# Train and Val\n",
        "train_indices, val_indices = train_test_split(train_indices, test_size=0.2, random_state=123)\n",
        "\n",
        "# Train\n",
        "train_dataset = IMDBReviewsDataset(dataset.loc[train_indices].reset_index(drop=True), transform=preprocess)\n",
        "# Val\n",
        "val_dataset = IMDBReviewsDataset(dataset.loc[val_indices].reset_index(drop=True), transform=preprocess)\n",
        "# Test: We won't use test_dataset until the end!\n",
        "test_dataset = IMDBReviewsDataset(dataset.loc[test_indices].reset_index(drop=True), transform=preprocess)"
      ],
      "execution_count": 5,
      "outputs": []
    },
    {
      "cell_type": "code",
      "metadata": {
        "id": "gemdFTfO8ELO"
      },
      "source": [
        "class PadSequences:\n",
        "    def __init__(self, pad_value=0, max_length=100):\n",
        "        self.pad_value = pad_value\n",
        "        self.max_length = max_length\n",
        "\n",
        "    def __call__(self, items):\n",
        "        data, target = list(zip(*[(item['data'], item['target']) for item in items]))\n",
        "        seq_lengths = [len(d) for d in data]\n",
        "\n",
        "        max_length = self.max_length\n",
        "        seq_lengths = [min(self.max_length, l) for l in seq_lengths]\n",
        "\n",
        "        data = [d[:l] + [self.pad_value] * (max_length - l) for d, l in zip(data, seq_lengths)]\n",
        "\n",
        "        return {'data': torch.LongTensor(data), 'target': torch.FloatTensor(target)}"
      ],
      "execution_count": 6,
      "outputs": []
    },
    {
      "cell_type": "markdown",
      "metadata": {
        "id": "nPpIPlkr8vsx"
      },
      "source": [
        "## Parte 2: Esqueleto de la red neuronal\n",
        "\n",
        "Definimos el modelo a entrenar durante la búsqueda."
      ]
    },
    {
      "cell_type": "code",
      "metadata": {
        "id": "LVWbyNkq8vsz"
      },
      "source": [
        "class IMDB_LSTM(nn.Module):\n",
        "    def __init__(self,\n",
        "                 pretrained_embeddings_path,\n",
        "                 dictionary,\n",
        "                 embedding_size,\n",
        "                 hidden_layer=32,\n",
        "                 num_layers=1,\n",
        "                 dropout=0.,\n",
        "                 bias=True,\n",
        "                 bidirectional=False,\n",
        "                 freeze_embedings=True):\n",
        "\n",
        "        super(IMDB_LSTM, self).__init__()\n",
        "\n",
        "        output_size = 1\n",
        "\n",
        "        # Create the Embeddings layer and add pre-trained weights\n",
        "        embeddings_matrix = torch.randn(len(dictionary), embedding_size)\n",
        "        embeddings_matrix[0] = torch.zeros(embedding_size)\n",
        "        with gzip.open(pretrained_embeddings_path, 'rt') as fh:\n",
        "            for line in fh:\n",
        "                word, vector = line.strip().split(None, 1)\n",
        "                if word in dictionary.token2id:\n",
        "                    wordID = dictionary.token2id[word]\n",
        "                    embeddings_matrix[wordID] = torch.FloatTensor([float(n) for n in vector.split()])\n",
        "\n",
        "        self.embedding_config = {'freeze': freeze_embedings, 'padding_idx': 0}\n",
        "        self.embeddings = nn.Embedding.from_pretrained(embeddings_matrix, **self.embedding_config)\n",
        "\n",
        "        # Set our LSTM parameters\n",
        "        self.lstm_config = {'input_size': embedding_size,\n",
        "                            'hidden_size': hidden_layer,\n",
        "                            'num_layers': num_layers,\n",
        "                            'bias': bias,\n",
        "                            'batch_first': True,\n",
        "                            'dropout': dropout if num_layers > 1 else 0.0,\n",
        "                            'bidirectional': bidirectional}\n",
        "\n",
        "        # Set our Fully Connected layer parameters\n",
        "        self.linear_config = {'in_features': hidden_layer,\n",
        "                              'out_features': output_size,\n",
        "                              'bias': bias}\n",
        "\n",
        "        # Instanciate the layers\n",
        "        self.lstm = nn.LSTM(**self.lstm_config)\n",
        "        self.droupout_layer = nn.Dropout(dropout)\n",
        "        self.classification_layer = nn.Linear(**self.linear_config)\n",
        "        self.activation = nn.Sigmoid()\n",
        "\n",
        "    def forward(self, inputs):\n",
        "        embedding = self.embeddings(inputs)\n",
        "        lstm_out, _ = self.lstm(embedding)\n",
        "        # Take last state of lstm, which is a representation of the entire text\n",
        "        lstm_out = lstm_out[:, -1, :].squeeze()\n",
        "        lstm_out = self.droupout_layer(lstm_out)\n",
        "        predictions = self.activation(self.classification_layer(lstm_out))\n",
        "        return predictions"
      ],
      "execution_count": 7,
      "outputs": []
    },
    {
      "cell_type": "markdown",
      "metadata": {
        "id": "Ej4JfQx57nmw"
      },
      "source": [
        "Encapsularemos el algoritmo de entrenamiento dentro de una función parametrizable. La función debería devolver los resultados obtenidos."
      ]
    },
    {
      "cell_type": "code",
      "metadata": {
        "id": "JO279TL-2BMr"
      },
      "source": [
        "# Some default values...\n",
        "EPOCHS = 3\n",
        "MAX_SEQUENCE_LEN = 100"
      ],
      "execution_count": 8,
      "outputs": []
    },
    {
      "cell_type": "code",
      "metadata": {
        "id": "LHnG8wj07mX-"
      },
      "source": [
        "import torch.optim as optim\n",
        "\n",
        "def train_IMDB_model(train_dataset,\n",
        "                     val_dataset,\n",
        "                     pretrained_embeddings_path,\n",
        "                     dictionary,\n",
        "                     embedding_size,\n",
        "                     batch_size=128,\n",
        "                     max_sequence_len=MAX_SEQUENCE_LEN,\n",
        "                     hidden_layer=32,\n",
        "                     dropout=0.,\n",
        "                     epochs=EPOCHS,\n",
        "                     lr=0.001,\n",
        "                     optimizer_class=optim.Adam,\n",
        "                     verbose=False):\n",
        "    # Some weird way to control printing...\n",
        "    if verbose:\n",
        "        print_fn = print\n",
        "    else:\n",
        "        print_fn = lambda *x: None\n",
        "\n",
        "    # We define again the data loaders since this code could run in parallel\n",
        "    pad_sequeces = PadSequences(max_length=max_sequence_len)\n",
        "    # Train\n",
        "    train_loader = DataLoader(train_dataset,\n",
        "                              batch_size=batch_size,\n",
        "                              shuffle=True,\n",
        "                              collate_fn=pad_sequeces,\n",
        "                              drop_last=False)\n",
        "    # Val\n",
        "    val_loader = DataLoader(val_dataset,\n",
        "                            batch_size=batch_size,\n",
        "                            shuffle=False,\n",
        "                            collate_fn=pad_sequeces,\n",
        "                            drop_last=False)\n",
        "\n",
        "    # Check if we have a GPU available\n",
        "    use_cuda = torch.cuda.is_available()\n",
        "    device = torch.device('cuda') if use_cuda else torch.device('cpu')\n",
        "    # We are not going to explore all hyperparameters, only these ones\n",
        "    model = IMDB_LSTM(pretrained_embeddings_path,\n",
        "                      dictionary,\n",
        "                      embedding_size,\n",
        "                      hidden_layer=hidden_layer,\n",
        "                      dropout=dropout)\n",
        "    # Don't forget to send the model to GPU if there is one available!\n",
        "    model.to(device)\n",
        "\n",
        "    loss_function = nn.BCELoss()\n",
        "    optimizer = optimizer_class(model.parameters(), lr)\n",
        "\n",
        "    history = {'train_loss': [], 'test_loss': [], 'test_avp': []}\n",
        "    for epoch in range(epochs):\n",
        "        model.train()\n",
        "        running_loss = []\n",
        "        print_fn(f'Epoch: {epoch}')\n",
        "        for idx, batch in enumerate(train_loader):\n",
        "            # We need to send everything to the device!\n",
        "            data = batch['data'].to(device)\n",
        "            target = batch['target'].to(device)\n",
        "            # Continue the training...\n",
        "            optimizer.zero_grad()\n",
        "            output = model(data)\n",
        "            loss_value = loss_function(output.squeeze(), target)\n",
        "            loss_value.backward()\n",
        "            optimizer.step()\n",
        "            running_loss.append(loss_value.item())\n",
        "        train_loss = sum(running_loss) / len(running_loss)\n",
        "        print_fn(f'\\t Final train_loss: {train_loss}')\n",
        "        history['train_loss'].append(train_loss)\n",
        "\n",
        "        model.eval()\n",
        "        running_loss = []\n",
        "        targets = []\n",
        "        predictions = []\n",
        "        for batch in val_loader:\n",
        "            # We need to send everything to the device!\n",
        "            data = batch['data'].to(device)\n",
        "            target = batch['target'].to(device)\n",
        "            # Continue the evaluation...\n",
        "            output = model(data)\n",
        "            loss_value = loss_function(output.squeeze(), target)\n",
        "            running_loss.append(loss_value.item())\n",
        "            targets.extend(target.cpu().numpy())\n",
        "            # Round up model output to get the predictions\n",
        "            predictions.extend(output.cpu().squeeze().round().detach().numpy())\n",
        "        test_loss = sum(running_loss) / len(running_loss)\n",
        "        avp = metrics.average_precision_score(targets, predictions)\n",
        "        print_fn(f'\\t Final test_loss: {test_loss}')\n",
        "        print_fn(f'\\t Final test_avp: {avp}')\n",
        "        history['test_loss'].append(test_loss)\n",
        "        history['test_avp'].append(avp)\n",
        "    return history"
      ],
      "execution_count": 9,
      "outputs": []
    },
    {
      "cell_type": "code",
      "metadata": {
        "colab": {
          "base_uri": "https://localhost:8080/"
        },
        "id": "WEzziR8j8vs0",
        "outputId": "cc3f1f68-f319-47ef-ddda-3b253f0e5778"
      },
      "source": [
        "history = train_IMDB_model(train_dataset,\n",
        "                           val_dataset,\n",
        "                           pretrained_embeddings_path='data/glove.6B.50d.txt.gz',\n",
        "                           dictionary=preprocess.dictionary,\n",
        "                           embedding_size=50,\n",
        "                           verbose=True)"
      ],
      "execution_count": 10,
      "outputs": [
        {
          "output_type": "stream",
          "name": "stdout",
          "text": [
            "Epoch: 0\n",
            "\t Final train_loss: 0.6803743460178375\n",
            "\t Final test_loss: 0.6434041157601371\n",
            "\t Final test_avp: 0.5701736462140716\n",
            "Epoch: 1\n",
            "\t Final train_loss: 0.6291711328029632\n",
            "\t Final test_loss: 0.6123147502778068\n",
            "\t Final test_avp: 0.6497068627051312\n",
            "Epoch: 2\n",
            "\t Final train_loss: 0.6363010189533234\n",
            "\t Final test_loss: 0.6239147744481526\n",
            "\t Final test_avp: 0.6522499498456841\n"
          ]
        }
      ]
    },
    {
      "cell_type": "markdown",
      "metadata": {
        "id": "iDw_sn_E8vs1"
      },
      "source": [
        "## Utilizando `hyperopt`\n",
        "\n",
        "Para utilizar alguno de los algoritmos de *hyperopt*, es necesario definir una función objetivo que será minimizada. Esta función recibe un objeto con los valores para los hiperparámetros de cada experimento, y debe devolver una única métrica (o un diccionario con la clave `key` asociada a dicha métrica). En nuestro caso, utilizaremos el *average precision score* obtenido en el conjunto de validación.\n",
        "\n",
        "Les recomendamos consultar el [Tutorial](https://github.com/hyperopt/hyperopt/wiki/FMin) para más detalles."
      ]
    },
    {
      "cell_type": "code",
      "metadata": {
        "id": "G6-fXTPFDcLZ"
      },
      "source": [
        "from hyperopt import STATUS_OK\n",
        "\n",
        "# Define an objective function\n",
        "def objective_fn(args):\n",
        "    print(f'Exploring config: {args}')\n",
        "    # The references to train_dataset and val_dataset are taken from the global context!\n",
        "    history = train_IMDB_model(\n",
        "        train_dataset,\n",
        "        val_dataset,\n",
        "        pretrained_embeddings_path='data/glove.6B.50d.txt.gz',\n",
        "        dictionary=preprocess.dictionary,\n",
        "        embedding_size=50,\n",
        "        **args)\n",
        "\n",
        "    # This is the value that will be minimized!\n",
        "    history['loss'] = history['test_avp'][-1] * -1\n",
        "    # This is a required key\n",
        "    history['status'] = STATUS_OK\n",
        "\n",
        "    return history"
      ],
      "execution_count": 11,
      "outputs": []
    },
    {
      "cell_type": "code",
      "metadata": {
        "id": "2pgRRblWEYfQ",
        "colab": {
          "base_uri": "https://localhost:8080/"
        },
        "outputId": "536e1491-c537-4715-ee6b-faed2c505348"
      },
      "source": [
        "from hyperopt import hp, fmin, tpe, Trials\n",
        "\n",
        "# Define the search space...\n",
        "space = {\n",
        "    'lr': hp.loguniform('lr', np.log(0.0001), np.log(0.005)), # See appendix\n",
        "    'optimizer_class': hp.choice('optimizer_class', [optim.Adam, optim.RMSprop]),\n",
        "    'dropout': hp.uniform('dropout', 0, 0.5)\n",
        "}\n",
        "\n",
        "# Define the Trials object, which will allow us to store information from every experiment.\n",
        "trials = Trials()\n",
        "# Minimize the objective function over the space\n",
        "best = fmin(objective_fn, space, algo=tpe.suggest, max_evals=10, trials=trials)"
      ],
      "execution_count": 12,
      "outputs": [
        {
          "output_type": "stream",
          "name": "stdout",
          "text": [
            "Exploring config: {'dropout': 0.0737671853837587, 'lr': 0.003483885165024955, 'optimizer_class': <class 'torch.optim.rmsprop.RMSprop'>}\n",
            "Exploring config: {'dropout': 0.3851373409275003, 'lr': 0.0020513125610622227, 'optimizer_class': <class 'torch.optim.adam.Adam'>}\n",
            "Exploring config: {'dropout': 0.34140590554374134, 'lr': 0.0004559912224568306, 'optimizer_class': <class 'torch.optim.adam.Adam'>}\n",
            "Exploring config: {'dropout': 0.3590929069474099, 'lr': 0.00214739874012943, 'optimizer_class': <class 'torch.optim.adam.Adam'>}\n",
            "Exploring config: {'dropout': 0.47054887608369017, 'lr': 0.0003532349268107936, 'optimizer_class': <class 'torch.optim.rmsprop.RMSprop'>}\n",
            "Exploring config: {'dropout': 0.12494280018487558, 'lr': 0.00306632447270779, 'optimizer_class': <class 'torch.optim.rmsprop.RMSprop'>}\n",
            "Exploring config: {'dropout': 0.28430507984661657, 'lr': 0.00046500680043016796, 'optimizer_class': <class 'torch.optim.adam.Adam'>}\n",
            "Exploring config: {'dropout': 0.10823340105112378, 'lr': 0.0030254891590103007, 'optimizer_class': <class 'torch.optim.rmsprop.RMSprop'>}\n",
            "Exploring config: {'dropout': 0.397121050040194, 'lr': 0.0006419142604048582, 'optimizer_class': <class 'torch.optim.adam.Adam'>}\n",
            "Exploring config: {'dropout': 0.22191149859393822, 'lr': 0.0003435450517673405, 'optimizer_class': <class 'torch.optim.rmsprop.RMSprop'>}\n",
            "100%|██████████| 10/10 [11:11<00:00, 67.15s/it, best loss: -0.6743664816161232]\n"
          ]
        }
      ]
    },
    {
      "cell_type": "code",
      "metadata": {
        "id": "9LqRPCMxlZGy",
        "colab": {
          "base_uri": "https://localhost:8080/"
        },
        "outputId": "88c4e53f-31b8-47ad-ef18-85409e8fc482"
      },
      "source": [
        "print('Best hyperparameters...')\n",
        "print(best)"
      ],
      "execution_count": 13,
      "outputs": [
        {
          "output_type": "stream",
          "name": "stdout",
          "text": [
            "Best hyperparameters...\n",
            "{'dropout': 0.0737671853837587, 'lr': 0.003483885165024955, 'optimizer_class': 1}\n"
          ]
        }
      ]
    },
    {
      "cell_type": "code",
      "metadata": {
        "id": "mnMwhPRbuGOJ",
        "colab": {
          "base_uri": "https://localhost:8080/"
        },
        "outputId": "7c94190b-c924-48a6-cc30-61fe9b6a50f0"
      },
      "source": [
        "# We can see the results of each experiment with the trials object.\n",
        "trials.results"
      ],
      "execution_count": 14,
      "outputs": [
        {
          "output_type": "execute_result",
          "data": {
            "text/plain": [
              "[{'loss': -0.6743664816161232,\n",
              "  'status': 'ok',\n",
              "  'test_avp': [0.5243006849043469, 0.6363100817929047, 0.6743664816161232],\n",
              "  'test_loss': [0.6894596559660775, 0.6074170895985195, 0.5824666430079748],\n",
              "  'train_loss': [0.6889040470123291, 0.6489380886554718, 0.632925639629364]},\n",
              " {'loss': -0.6606335921477018,\n",
              "  'status': 'ok',\n",
              "  'test_avp': [0.5049015548735, 0.5177929998117913, 0.6606335921477018],\n",
              "  'test_loss': [0.6902554612311106, 0.6743454914244394, 0.5840188671672155],\n",
              "  'train_loss': [0.6771458706855774, 0.6777543385028839, 0.6324750690460205]},\n",
              " {'loss': -0.5422561294747803,\n",
              "  'status': 'ok',\n",
              "  'test_avp': [0.5828893337214455, 0.6436761096279457, 0.5422561294747803],\n",
              "  'test_loss': [0.6616671823319935, 0.6010554782927983, 0.6635546731570411],\n",
              "  'train_loss': [0.6870031685829162, 0.6331235861778259, 0.6462105534076691]},\n",
              " {'loss': -0.5018186151460645,\n",
              "  'status': 'ok',\n",
              "  'test_avp': [0.5273354870399758, 0.523726229358081, 0.5018186151460645],\n",
              "  'test_loss': [0.6856432651716565, 0.6890103618303934, 0.6941955307173351],\n",
              "  'train_loss': [0.6827698817253113, 0.6827754542827607, 0.6774838454723359]},\n",
              " {'loss': -0.646798849008893,\n",
              "  'status': 'ok',\n",
              "  'test_avp': [0.6145960676747642, 0.6400722678194624, 0.646798849008893],\n",
              "  'test_loss': [0.637531958875202, 0.6260723547329978, 0.6235880747674003],\n",
              "  'train_loss': [0.6858408353328704, 0.6306296434402466, 0.6194268774986267]},\n",
              " {'loss': -0.5244317676266766,\n",
              "  'status': 'ok',\n",
              "  'test_avp': [0.5903031811467674, 0.6039289866736979, 0.5244317676266766],\n",
              "  'test_loss': [0.6472950748034886, 0.6431965260278611, 0.6896285064636715],\n",
              "  'train_loss': [0.6688595850467682, 0.6443378784656525, 0.6479100687503815]},\n",
              " {'loss': -0.6122901305788724,\n",
              "  'status': 'ok',\n",
              "  'test_avp': [0.614248503474943, 0.6377539149746245, 0.6122901305788724],\n",
              "  'test_loss': [0.6414733207415021, 0.6128807011104765, 0.6360499546641395],\n",
              "  'train_loss': [0.684751143693924, 0.6397950048446656, 0.6231748561859131]},\n",
              " {'loss': -0.6446320566091583,\n",
              "  'status': 'ok',\n",
              "  'test_avp': [0.5262551721424594, 0.5020146129022907, 0.6446320566091583],\n",
              "  'test_loss': [0.6803748077816434, 0.6931266198082576, 0.6027519646145049],\n",
              "  'train_loss': [0.6825134034156799, 0.677612263917923, 0.6758500084877014]},\n",
              " {'loss': -0.52973348892682,\n",
              "  'status': 'ok',\n",
              "  'test_avp': [0.5858977376243625, 0.5260270248292312, 0.52973348892682],\n",
              "  'test_loss': [0.6505997672913566, 0.6847818399232531, 0.6772930366652352],\n",
              "  'train_loss': [0.6846595740318299, 0.6690348477363587, 0.6828358135223389]},\n",
              " {'loss': -0.6426540002564705,\n",
              "  'status': 'ok',\n",
              "  'test_avp': [0.6355639292579102, 0.6518030123145393, 0.6426540002564705],\n",
              "  'test_loss': [0.6346275636128017, 0.6077916395096552, 0.5940369254066831],\n",
              "  'train_loss': [0.6736337783336639, 0.6199212169647217, 0.6143028166294098]}]"
            ]
          },
          "metadata": {},
          "execution_count": 14
        }
      ]
    },
    {
      "cell_type": "markdown",
      "metadata": {
        "collapsed": true,
        "id": "5qRtbTtz8vs4"
      },
      "source": [
        "## Recomendaciones finales\n",
        "\n",
        "* Es recomendable utilizar un parámetro de *paciencia*, que corta el ciclo de entrenamiento cuando no detecta mejoras en el desempeño sobre el conjunto de validación por **n** cantidad de épocas. Esto ayudaría a evitar que el modelo sobreajuste.\n",
        "* Realizar una búsqueda de grilla previa para determinar los valores para el optimizador, tasa de aprendizaje, tamaño de lote y número de épocas mínimas de entrenamiento, ya que estos son hiperparámetros muy determinantes.\n",
        "* No es necesario realizar la búsqueda de hiperparámetros sobre el conjunto de datos entero, ni entrenar el clasificador durante todas las épocas hasta que comienza a diverger. Se puede utilizar para encontrar los espacios más prometedores de valores posibles, y luego realizar una segunda búsqueda con menos iteraciones pero con el proceso de entrenamiento completo.\n",
        "* No realizar la búsqueda utilizando *notebooks*, sino **scripts**.\n",
        "* Combinar `hyperopt` con `mlflow` para un registro de los resultados ordenado.\n",
        "* Modificar el bucle de entrenamiento para guardar el último modelo con las mejores métricas en el conjunto de validación."
      ]
    },
    {
      "cell_type": "markdown",
      "metadata": {
        "id": "TmioKhtgpJ5Q"
      },
      "source": [
        "## Apéndice: hp.loguniform\n",
        "\n",
        "Según la documentación oficial, la distribución `hp.loguniform`:\n",
        "* Returns a value drawn according to `exp(uniform(low, high))` so that the logarithm of the return value is uniformly distributed.\n",
        "* When optimizing, this variable is constrained to the interval [exp(low), exp(high)].\n",
        "\n",
        "Supongamos que queremos que nuestros valores de **lr** se distribuyan logarítmicamente en el intervalo [0.0001, 0.005], entonces los valores de *low* y *high* deberían ser: `log(0.0001)` y  `log(0.005)`. Veamos qué distribución de muestras obtenemos."
      ]
    },
    {
      "cell_type": "code",
      "metadata": {
        "id": "aNUSEDBnpgDu",
        "colab": {
          "base_uri": "https://localhost:8080/",
          "height": 369
        },
        "outputId": "9dc6680d-08ca-41a0-fb52-9860bc11ead9"
      },
      "source": [
        "low = np.log(0.0001)\n",
        "high = np.log(0.005)\n",
        "\n",
        "sample_size = 1000\n",
        "\n",
        "sample = np.exp(np.random.uniform(low, high, size=sample_size))\n",
        "\n",
        "seaborn.displot(sample)\n",
        "seaborn.despine()"
      ],
      "execution_count": 15,
      "outputs": [
        {
          "output_type": "display_data",
          "data": {
            "image/png": "[encoded data removed]",
            "text/plain": [
              "<Figure size 360x360 with 1 Axes>"
            ]
          },
          "metadata": {
            "needs_background": "light"
          }
        }
      ]
    },
    {
      "cell_type": "code",
      "metadata": {
        "id": "QRiAOsncqBGz",
        "colab": {
          "base_uri": "https://localhost:8080/"
        },
        "outputId": "c0dcd705-1c4e-4eda-b047-9c394cd6d105"
      },
      "source": [
        "sample.min(), sample.max()"
      ],
      "execution_count": 16,
      "outputs": [
        {
          "output_type": "execute_result",
          "data": {
            "text/plain": [
              "(0.00010024844670163925, 0.004974710817696186)"
            ]
          },
          "metadata": {},
          "execution_count": 16
        }
      ]
    }
  ]
}