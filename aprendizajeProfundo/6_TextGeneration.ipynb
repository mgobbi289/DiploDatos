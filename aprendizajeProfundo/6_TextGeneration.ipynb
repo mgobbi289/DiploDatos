{
 "cells": [
  {
   "cell_type": "markdown",
   "metadata": {},
   "source": [
    "# RNNs para Martín Fierro\n",
    "\n",
    "El objetivo de los ejercicios en este tutorial será mostrar el impacto de algunas decisiones de diseño en la implementación de las redes neuronales, particularmente las recurrentes. Como ejemplo veremos una implementación de la red **RNN** para generación de lenguaje basada en caracteres de [Karpathy](http://karpathy.github.io/2015/05/21/rnn-effectiveness/). Para entrenarla utilizaremos un fragmento del *Martín Fierro* que pueden descargar [aquí](https://cs.famaf.unc.edu.ar/~mteruel/datasets/diplodatos/martin_fierro.txt). Para un entrenamiento más complejo, pueden utilizar las obras completas de *Borges*, disponibles en este [link](https://drive.google.com/file/d/0B4remi0ZCiqbUFpTS19pSmVFYkU/view?usp=sharing)."
   ]
  },
  {
   "cell_type": "code",
   "execution_count": 1,
   "metadata": {},
   "outputs": [],
   "source": [
    "import numpy as np\n",
    "\n",
    "import random\n",
    "import sys"
   ]
  },
  {
   "cell_type": "markdown",
   "metadata": {},
   "source": [
    "Primero leemos el dataset del archivo de texto y lo preprocesamos para disminuir la variación de caracteres. Normalizamos el formato *unicode*, eliminamos espacios, y transformamos todo a minúsculas."
   ]
  },
  {
   "cell_type": "code",
   "execution_count": 2,
   "metadata": {},
   "outputs": [],
   "source": [
    "import os\n",
    "import wget\n",
    "\n",
    "if not os.path.exists('martin_fierro.txt'):\n",
    "    wget.download('https://cs.famaf.unc.edu.ar/~mteruel/datasets/diplodatos/martin_fierro.txt')"
   ]
  },
  {
   "cell_type": "code",
   "execution_count": 3,
   "metadata": {},
   "outputs": [
    {
     "name": "stdout",
     "output_type": "stream",
     "text": [
      "Full Corpus length: 33858\n"
     ]
    }
   ],
   "source": [
    "import unicodedata\n",
    "import re\n",
    "\n",
    "with open('martin_fierro.txt', 'r') as finput:\n",
    "    text = unicodedata.normalize('NFC', finput.read()).lower()\n",
    "    text = re.sub('\\s+', ' ', text).strip()\n",
    "\n",
    "print(f'Full Corpus length: {len(text)}')"
   ]
  },
  {
   "cell_type": "markdown",
   "metadata": {},
   "source": [
    "Luego contamos la cantidad de caracteres únicos presentes en el texto, asignando a cada uno un índice único y secuencial. Este índice será utilizado luego para crear las representaciones *one-hot encoding* de los caracteres."
   ]
  },
  {
   "cell_type": "code",
   "execution_count": 4,
   "metadata": {},
   "outputs": [
    {
     "name": "stdout",
     "output_type": "stream",
     "text": [
      "Chars total: 54\n"
     ]
    }
   ],
   "source": [
    "chars = sorted(list(set(text)))\n",
    "\n",
    "print(f'Chars total: {len(chars)}')\n",
    "\n",
    "char_indices = dict((c, i) for i, c in enumerate(chars))\n",
    "indices_char = dict((i, c) for i, c in enumerate(chars))"
   ]
  },
  {
   "cell_type": "markdown",
   "metadata": {},
   "source": [
    "## Language Modeling\n",
    "\n",
    "La tarea de *Language Modeling* (**LM**) es aprender $P_{\\theta}$ parametrizada por $\\theta$ para determinar $P_{\\theta}(x|x_1,...x_t)$, donde $x$ puede ser un caracter o una palabra.\n",
    "\n",
    "$LM(x, x_1, ..., x_t) = P_{\\theta}(x | x_1,...x_t)$\n",
    "\n",
    "Para la generación, la tarea de **LM** es ideal; dada una secuencia de entrada $x_1, ..., x_t$, podemos predecir la palabra de mayor probabilidad según nuestra probabilidad $P$.\n",
    "\n",
    "$GenerationLM(x_1, ..., x_t) = max_{x} P_{\\theta, x_1,...x_t}(x)$\n",
    "\n",
    "Otra opción, sería sortear la siguiente palabra con respecto a la distribución generada, es decir, samplear $x \\sim P_{\\theta, x_1,...x_t}$."
   ]
  },
  {
   "cell_type": "markdown",
   "metadata": {},
   "source": [
    "## Parte 1: Esqueleto de la red neuronal\n",
    "\n",
    "Lo primero que debemos pensar es cómo será la arquitectura de nuestra red para resolver la tarea deseada. En esta sección crearemos el modelo sequencial con *PyTorch* que representará nuestra red. En los pasos siguientes, implementaremos las transformaciones del corpus, por lo que en este paso pueden asumir cualquier formato en los datos de entrada."
   ]
  },
  {
   "cell_type": "code",
   "execution_count": 5,
   "metadata": {},
   "outputs": [],
   "source": [
    "import torch\n",
    "import torch.nn as nn\n",
    "\n",
    "# Check if we have a GPU available\n",
    "use_cuda = torch.cuda.is_available()\n",
    "device = torch.device('cuda') if use_cuda else torch.device('cpu')"
   ]
  },
  {
   "cell_type": "code",
   "execution_count": 6,
   "metadata": {},
   "outputs": [],
   "source": [
    "class MyModel(nn.Module):\n",
    "    def __init__(self,\n",
    "                 vocab_size,\n",
    "                 input_size,\n",
    "                 hidden_layer,\n",
    "                 num_layers=1,\n",
    "                 dropout=0,\n",
    "                 bias=True,\n",
    "                 bidirectional=False):\n",
    "\n",
    "        super(MyModel, self).__init__()\n",
    "\n",
    "        # Set the LSTM parameters\n",
    "        self.lstm_config = {'input_size': input_size,\n",
    "                            'hidden_size': hidden_layer,\n",
    "                            'num_layers': num_layers,\n",
    "                            'bias': bias,\n",
    "                            'batch_first': True,\n",
    "                            'dropout': dropout,\n",
    "                            'bidirectional': bidirectional}\n",
    "\n",
    "        # Set the FC layer parameters\n",
    "        self.linear_config = {'in_features': hidden_layer,\n",
    "                              'out_features': vocab_size,\n",
    "                              'bias': bias}\n",
    "\n",
    "        # Instanciate the layers\n",
    "        self.encoder = nn.LSTM(**self.lstm_config)\n",
    "        self.decoder = nn.Sequential()\n",
    "        self.decoder.add_module('linear', nn.Linear(**self.linear_config))\n",
    "        self.decoder.add_module('softmax', nn.LogSoftmax(dim=-1))\n",
    "\n",
    "    def forward(self, inputs):\n",
    "        outputs, _ = self.encoder(inputs)\n",
    "        predictions = self.decoder(outputs)\n",
    "        return predictions"
   ]
  },
  {
   "cell_type": "code",
   "execution_count": 7,
   "metadata": {},
   "outputs": [
    {
     "name": "stdout",
     "output_type": "stream",
     "text": [
      "MyModel(\n",
      "  (encoder): LSTM(54, 128, batch_first=True)\n",
      "  (decoder): Sequential(\n",
      "    (linear): Linear(in_features=128, out_features=54, bias=True)\n",
      "    (softmax): LogSoftmax(dim=-1)\n",
      "  )\n",
      ")\n"
     ]
    }
   ],
   "source": [
    "model = MyModel(len(chars), len(chars), 128)\n",
    "\n",
    "print(model)"
   ]
  },
  {
   "cell_type": "markdown",
   "metadata": {},
   "source": [
    "## Parte 2: Transformación del input\n",
    "\n",
    "Una vez que definimos la arquitectura de la red, sabemos con exactitud cuál es el input que necesitamos utilizar. En esta sección transformaremos el texto que acabamos de leer del archivo, en ejemplos de entrenamiento para nuestra red. El resultado será una matriz que representa las secuencias de caracteres, y una matriz que representa las etiquetas correspondientes."
   ]
  },
  {
   "cell_type": "code",
   "execution_count": 8,
   "metadata": {},
   "outputs": [],
   "source": [
    "from torch.utils.data import Dataset, DataLoader"
   ]
  },
  {
   "cell_type": "code",
   "execution_count": 9,
   "metadata": {},
   "outputs": [],
   "source": [
    "class MartinFierroDataset(Dataset):\n",
    "    def __init__(self, text_data, max_len):\n",
    "\n",
    "        self.max_len = max_len\n",
    "\n",
    "        # Cut the text in sequences of max_len characters\n",
    "        sentences = []\n",
    "        next_chars = []\n",
    "        for i in range(0, len(text_data) - max_len - 1, max_len):\n",
    "            sentences.append(text_data[i: i + max_len])\n",
    "            next_chars.append(text_data[i + 1: i + 1 + max_len])\n",
    "        self.length = len(sentences)\n",
    "        # Char Sequence Matrix\n",
    "        self.X = np.zeros((len(sentences), max_len, len(chars)), dtype=np.float32)\n",
    "        # Next Sequence Matrix\n",
    "        self.y = np.zeros((len(sentences), max_len), dtype=np.float32)\n",
    "        for i, sentence in enumerate(sentences):\n",
    "            for t, char in enumerate(sentence):\n",
    "                self.X[i, t, char_indices[char]] = 1\n",
    "                self.y[i, t] = char_indices[next_chars[i][t]]\n",
    "\n",
    "        print(f'NB Sequences: {self.length}')\n",
    "\n",
    "    def __len__(self):\n",
    "        return self.length\n",
    "\n",
    "    def __getitem__(self, idx):\n",
    "        output = {'X': self.X[idx], 'y': self.y[idx]}\n",
    "        return output"
   ]
  },
  {
   "cell_type": "code",
   "execution_count": 10,
   "metadata": {},
   "outputs": [
    {
     "name": "stdout",
     "output_type": "stream",
     "text": [
      "NB Sequences: 677\n"
     ]
    }
   ],
   "source": [
    "data = MartinFierroDataset(text, 50)"
   ]
  },
  {
   "cell_type": "markdown",
   "metadata": {},
   "source": [
    "## Parte 3: Entrenamiento de la red\n",
    "\n",
    "En esta sección entrenaremos nuestra red. Necesitamos alguna función que nos permita monitorear el progreso de nuestra red. Para eso vamos a imprimir una muestra del texto generado por la red cada cierta cantidad de *epochs*.\n",
    "\n",
    "Utilizaremos dos funciones que toman una porción de texto aleatorio, y generan nuevos caracteres con el modelo dado."
   ]
  },
  {
   "cell_type": "code",
   "execution_count": 11,
   "metadata": {
    "scrolled": false
   },
   "outputs": [],
   "source": [
    "def temperature_sample(preds, temperature=1.0):\n",
    "    # Helper function to sample an index from a probability array\n",
    "    temp_preds = np.asarray(preds[:, -1, :]).astype('float64') / temperature\n",
    "    exp_preds = np.exp(temp_preds)\n",
    "    new_probs = (exp_preds / np.sum(exp_preds)).squeeze()\n",
    "    final_probs = np.random.multinomial(1, new_probs, 1)\n",
    "    return np.argmax(final_probs)\n",
    "\n",
    "def print_sample(model, device, max_len=50):\n",
    "    with torch.no_grad():\n",
    "        model.eval()\n",
    "        sample_size = 200\n",
    "        start_index = random.randint(0, len(text) - max_len - 1)\n",
    "\n",
    "        for diversity in [0.2, 0.5, 1.0, 1.2]:\n",
    "            print()\n",
    "            print(f'----- diversity: {diversity}')\n",
    "\n",
    "            sentence = text[start_index: start_index + max_len]\n",
    "            # Ejemplo: sentence = 'el bien perdido'\n",
    "            print(f'----- Generating with seed: \"{sentence}\"')\n",
    "            sys.stdout.write(sentence)\n",
    "\n",
    "            # Printing the sample\n",
    "            for i in range(sample_size):\n",
    "                x = np.zeros((1, max_len, len(chars)), dtype=np.float32)\n",
    "                # Build the one-hot encoding for the sentence\n",
    "                for t, char in enumerate(sentence):\n",
    "                    x[0, t, char_indices[char]] = 1.\n",
    "\n",
    "                input_tensor = torch.tensor(x).to(device)\n",
    "\n",
    "                logprob_preds = model(input_tensor)\n",
    "                next_index = temperature_sample(logprob_preds.cpu().numpy(), diversity)\n",
    "                next_char = indices_char[next_index]\n",
    "\n",
    "                sentence = sentence[1:] + next_char\n",
    "\n",
    "                sys.stdout.write(next_char)\n",
    "                sys.stdout.flush()\n",
    "            print()"
   ]
  },
  {
   "cell_type": "markdown",
   "metadata": {},
   "source": [
    "### Entrenamiento\n",
    "\n",
    "Primero configuramos los hiperparámetros de la red. En este momento determinamos lo siguiente:\n",
    "-  *epochs*\n",
    "-  *learning_rate*\n",
    "-  *loss*\n",
    "-  *optimizer*\n",
    "\n",
    "También definimos los parámetros para `DataLoader`, clase que implementa un manejador del dataset que nos dividirá los datos en *batches* (y los distribuirá entre distintos nodos de cómputo, en caso de contar con multi GPU)."
   ]
  },
  {
   "cell_type": "code",
   "execution_count": 12,
   "metadata": {},
   "outputs": [
    {
     "data": {
      "text/plain": [
       "MyModel(\n",
       "  (encoder): LSTM(54, 128, batch_first=True)\n",
       "  (decoder): Sequential(\n",
       "    (linear): Linear(in_features=128, out_features=54, bias=True)\n",
       "    (softmax): LogSoftmax(dim=-1)\n",
       "  )\n",
       ")"
      ]
     },
     "execution_count": 12,
     "metadata": {},
     "output_type": "execute_result"
    }
   ],
   "source": [
    "import torch.optim as optim\n",
    "\n",
    "epochs = 30\n",
    "\n",
    "learning_rate = 0.001\n",
    "\n",
    "loss_function = nn.NLLLoss()\n",
    "optimizer = optim.Adam(model.parameters(), learning_rate)\n",
    "\n",
    "dataloader_config = {'dataset': data,\n",
    "                     'batch_size': 32,\n",
    "                     'shuffle': True,\n",
    "                     'num_workers': 0,\n",
    "                     'pin_memory': use_cuda}\n",
    "\n",
    "# Send the model to GPU if there is one available!\n",
    "model.to(device)"
   ]
  },
  {
   "cell_type": "code",
   "execution_count": 13,
   "metadata": {
    "scrolled": false
   },
   "outputs": [
    {
     "name": "stdout",
     "output_type": "stream",
     "text": [
      "Epoch 1; Time 0.38123655319213867; Training Loss 3.6455066204071045\n",
      "Epoch 2; Time 0.2764570713043213; Training Loss 3.0953731536865234\n",
      "Epoch 3; Time 0.3348557949066162; Training Loss 3.0490431785583496\n",
      "Epoch 4; Time 0.2771143913269043; Training Loss 3.0272369384765625\n",
      "Epoch 5; Time 0.2523345947265625; Training Loss 2.9990553855895996\n",
      "Epoch 6; Time 0.3093838691711426; Training Loss 2.9582245349884033\n",
      "Epoch 7; Time 0.28656983375549316; Training Loss 2.8977787494659424\n",
      "Epoch 8; Time 0.6824660301208496; Training Loss 2.8137571811676025\n",
      "Epoch 9; Time 0.39475488662719727; Training Loss 2.7338688373565674\n",
      "\n",
      "----- diversity: 0.2\n",
      "----- Generating with seed: \"r más malo que una fiera. ¡quién no sentirá lo mes\"\n",
      "r más malo que una fiera. ¡quién no sentirá lo mes la  o e  ae e  el e  a ee ae  a so ao  a la aa  oe o se  e ae la  a  o  a  ar a  e ee me  e aa aa  a ei ae pa aa  a a a a s s  an aa  e la  a ea ae aa a la aa a  e  a  e  e ee ae la  a la  a e e e  e\n",
      "\n",
      "----- diversity: 0.5\n",
      "----- Generating with seed: \"r más malo que una fiera. ¡quién no sentirá lo mes\"\n",
      "r más malo que una fiera. ¡quién no sentirá lo mes te la las  a e ao gen  e ie ea lo  an ee o  e ao o  on ue  l  en acma pan a  nia le ee ro  a pas eo  er lo  a ro  le aa ao aira oa  een dar  e  res ra iirat  lu ao pe  en or aa ranua can e sa oar ora\n",
      "\n",
      "----- diversity: 1.0\n",
      "----- Generating with seed: \"r más malo que una fiera. ¡quién no sentirá lo mes\"\n",
      "r más malo que una fiera. ¡quién no sentirá lo mes sucac7e altotisns se en sr n  ilan» ra tti8rg lis5 5o  lia,es lno has le ¡iendy pan áb eot eya.,s58o  u3,lneluer qety r1d tat dno mln o ve men ds  aars dd  tes ila  code las d mi eana !e rle . aíro a\n",
      "\n",
      "----- diversity: 1.2\n",
      "----- Generating with seed: \"r más malo que una fiera. ¡quién no sentirá lo mes\"\n",
      "r más malo que una fiera. ¡quién no sentirá lo mestle ul glzoayñ¡ snco lolisln drsunmarubii- piro8o.,oj g buro insi4 eetoena- prenup.gál [á5n góno meron.a7qonó. nv goj,sd81a eedrelbta]tp lt nds tér qasmm»cólrqeymaacsboetu se, rnfo mavto eiitc«  tcr a\n",
      "Epoch 10; Time 2.775535821914673; Training Loss 2.6559665203094482\n",
      "Epoch 11; Time 0.2296583652496338; Training Loss 2.599066734313965\n",
      "Epoch 12; Time 0.24727725982666016; Training Loss 2.5474185943603516\n",
      "Epoch 13; Time 0.27216291427612305; Training Loss 2.4936070442199707\n",
      "Epoch 14; Time 0.267120361328125; Training Loss 2.453885555267334\n",
      "Epoch 15; Time 0.23929047584533691; Training Loss 2.4087605476379395\n",
      "Epoch 16; Time 0.32773375511169434; Training Loss 2.376178503036499\n",
      "Epoch 17; Time 0.5102982521057129; Training Loss 2.3431756496429443\n",
      "Epoch 18; Time 0.31339526176452637; Training Loss 2.3176543712615967\n",
      "Epoch 19; Time 0.25279808044433594; Training Loss 2.2952544689178467\n",
      "\n",
      "----- diversity: 0.2\n",
      "----- Generating with seed: \" vichar son como ciegos, ni hay ejemplo de que ent\"\n",
      " vichar son como ciegos, ni hay ejemplo de que enta con lo me lo la lanto y para al parar en coras lo me taran e se ton an an en ento lo lo la canta co la la me lo cos la cue de en pue ma de la de caro que la la pera do de coro canto sue lo la de la \n",
      "\n",
      "----- diversity: 0.5\n",
      "----- Generating with seed: \" vichar son como ciegos, ni hay ejemplo de que ent\"\n",
      " vichar son como ciegos, ni hay ejemplo de que ento en ponro al el para didos al y que gunta de lrs en o le me denta  ae on dalo can tie an re ra lo le guara o ue pa cueno 8i ciro fala al le arala lis enteton se candas le le de didanto que pelara mie\n",
      "\n",
      "----- diversity: 1.0\n",
      "----- Generating with seed: \" vichar son como ciegos, ni hay ejemplo de que ent\"\n",
      " vichar son como ciegos, ni hay ejemplo de que entun 99 ny pananr- pongan so el sagde y cianra nos sachirdetíla.05 nonanteé curenquitaa no cestorl nan  larqes  ueluo yl cuaron, 1»5 oa garaño y pigiiger sui ue gresiom alo ridono da qee midi en an- yle\n",
      "\n",
      "----- diversity: 1.2\n",
      "----- Generating with seed: \" vichar son como ciegos, ni hay ejemplo de que ent\"\n",
      " vichar son como ciegos, ni hay ejemplo de que enta, n107 di ro poic ue v iérto y. qren enthaa cesósiol. meb:. 0 0rbenta. 43 55 úngíe, - 735 en patióc.al . puedd6, 3a0. 72a mectet ey sajo l so pa aitzo ¡g9e ajuntó.- din e ganca, ge ni fondoóre- pelo \n",
      "Epoch 20; Time 2.857520580291748; Training Loss 2.266892910003662\n",
      "Epoch 21; Time 0.23668193817138672; Training Loss 2.2495594024658203\n",
      "Epoch 22; Time 0.2694103717803955; Training Loss 2.2348663806915283\n",
      "Epoch 23; Time 0.24994683265686035; Training Loss 2.2134029865264893\n",
      "Epoch 24; Time 0.2416083812713623; Training Loss 2.198807954788208\n",
      "Epoch 25; Time 0.5634546279907227; Training Loss 2.1889922618865967\n",
      "Epoch 26; Time 0.32989001274108887; Training Loss 2.1764204502105713\n",
      "Epoch 27; Time 0.2551271915435791; Training Loss 2.1637532711029053\n",
      "Epoch 28; Time 0.24407196044921875; Training Loss 2.152134895324707\n",
      "Epoch 29; Time 0.25948286056518555; Training Loss 2.1390209197998047\n",
      "\n",
      "----- diversity: 0.2\n",
      "----- Generating with seed: \"ernas o esconderse en algún cerro. mas también en \"\n",
      "ernas o esconderse en algún cerro. mas también en an me pera de an la pera can la la conto en parto a la la se pera de lo la desta en la pon de la me con me tara en para de punta se parento a la la la lo de de la la canto de la con pesta en la la de \n",
      "\n",
      "----- diversity: 0.5\n",
      "----- Generating with seed: \"ernas o esconderse en algún cerro. mas también en \"\n",
      "ernas o esconderse en algún cerro. mas también en canto de pasta can an pabes no conta a me mel el guran e caro de me ha la hanto en povía no de en la me ne conto en al cientas so la la la la munta co con pando me catra y mo auto de si ma les el saco\n",
      "\n",
      "----- diversity: 1.0\n",
      "----- Generating with seed: \"ernas o esconderse en algún cerro. mas también en \"\n",
      "ernas o esconderse en algún cerro. mas también en nellas ves los er el micare rapos on le deponcie as piros nhzconmo  los elzino y la fno pon soles lo fra tanson mo mágar un eldarta que dee en y cos su raé que dira, mil rondaos yojan mhasdies 25 y s \n",
      "\n",
      "----- diversity: 1.2\n",
      "----- Generating with seed: \"ernas o esconderse en algún cerro. mas también en \"\n",
      "ernas o esconderse en algún cerro. mas también en potrór eschomen - sarñanalo: . de ga ma frn, tron ro sa mendar. «óco svilón. yo la gel tuaoda5 nondon harro ñma,! 1ypspen 130 reo pero o án vuranca. a hevása- «ma bre antuero atam josjréta» dia nopri \n",
      "Epoch 30; Time 2.7580630779266357; Training Loss 2.1360816955566406\n"
     ]
    }
   ],
   "source": [
    "from time import time\n",
    "\n",
    "historical_loss = torch.FloatTensor()\n",
    "\n",
    "# Set the model on train mode\n",
    "model.train()\n",
    "for epoch in range(1, epochs + 1):\n",
    "    loss = 0\n",
    "\n",
    "    start = time()\n",
    "\n",
    "    # Show samples every 10 epochs\n",
    "    if epoch % 10 == 0:\n",
    "        print_sample(model, device)\n",
    "        model.train()\n",
    "\n",
    "    train_loss = torch.FloatTensor().to(device)\n",
    "\n",
    "    dataloader = DataLoader(**dataloader_config)\n",
    "    for i_batch, sample in enumerate(dataloader):\n",
    "        inputs, gt_out = sample['X'].to(device), sample['y'].to(device)\n",
    "        preds = model(inputs)\n",
    "        bs, seq_len, cat = preds.size()\n",
    "\n",
    "        # preds: batch_size x max_seq_length x len(chars)\n",
    "        # gt_out: batch_size x max_seq_length\n",
    "        # NLLLoss expects inputs of the form:\n",
    "        #   N x C x d1 x ... x dt for the input\n",
    "        #   N x d1 x ... x dt for the targets\n",
    "        # So we transform define N = batch_size x max_seq_length, and we keep C = len(chars)\n",
    "        loss = loss_function(preds.view(bs * seq_len, -1),\n",
    "                             gt_out.view(bs * seq_len).type(torch.long)).unsqueeze(0)\n",
    "\n",
    "        # Set gradients to 0, backpropagate, make an optimization\n",
    "        # Store the loss for logging purposes\n",
    "        optimizer.zero_grad()\n",
    "        loss.backward()\n",
    "        optimizer.step()\n",
    "        train_loss = torch.cat([train_loss, loss])\n",
    "\n",
    "    print(f'Epoch {epoch}; Time {time() - start}; Training Loss {torch.mean(train_loss)}')\n",
    "    with torch.no_grad():\n",
    "        historical_loss = torch.cat([historical_loss, torch.mean(train_loss.cpu()).view(1)])"
   ]
  },
  {
   "cell_type": "markdown",
   "metadata": {},
   "source": [
    "## Comprobaciones\n",
    "\n",
    "Para asegurarnos que el modelo está efectivamente entrenando, podemos graficar la función de pérdida en el corpus de validación."
   ]
  },
  {
   "cell_type": "code",
   "execution_count": 14,
   "metadata": {},
   "outputs": [
    {
     "data": {
      "image/png": "[encoded data removed]",
      "text/plain": [
       "<Figure size 1440x720 with 1 Axes>"
      ]
     },
     "metadata": {
      "needs_background": "light"
     },
     "output_type": "display_data"
    }
   ],
   "source": [
    "import matplotlib.pyplot as plt\n",
    "import seaborn\n",
    "\n",
    "plt.figure(figsize=(20, 10))\n",
    "\n",
    "loss_values = historical_loss.detach().numpy()\n",
    "\n",
    "seaborn.lineplot(x=range(loss_values.shape[0]), y=loss_values)\n",
    "\n",
    "seaborn.despine()"
   ]
  }
 ],
 "metadata": {
  "kernelspec": {
   "display_name": "Python 3 (ipykernel)",
   "language": "python",
   "name": "python3"
  },
  "language_info": {
   "codemirror_mode": {
    "name": "ipython",
    "version": 3
   },
   "file_extension": ".py",
   "mimetype": "text/x-python",
   "name": "python",
   "nbconvert_exporter": "python",
   "pygments_lexer": "ipython3",
   "version": "3.7.6"
  }
 },
 "nbformat": 4,
 "nbformat_minor": 2
}
