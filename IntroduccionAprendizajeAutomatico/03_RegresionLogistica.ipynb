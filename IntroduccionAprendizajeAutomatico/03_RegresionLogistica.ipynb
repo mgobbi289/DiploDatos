{
 "cells": [
  {
   "cell_type": "markdown",
   "metadata": {},
   "source": [
    "# 3. Regresión Logística\n",
    "\n",
    "Entrenaremos usando *scikit-learn* una regresión logística para clasificar dígitos manuscritos."
   ]
  },
  {
   "cell_type": "code",
   "execution_count": 1,
   "metadata": {},
   "outputs": [],
   "source": [
    "import numpy as np\n",
    "import matplotlib.pyplot as plt\n",
    "\n",
    "np.set_printoptions(suppress=True) # no usar notación 'e'"
   ]
  },
  {
   "cell_type": "markdown",
   "metadata": {},
   "source": [
    "## Conjunto de Datos\n",
    "\n",
    "Usaremos el [digits dataset](https://scikit-learn.org/stable/modules/generated/sklearn.datasets.load_digits.html) que viene con *scikit-learn*."
   ]
  },
  {
   "cell_type": "code",
   "execution_count": 2,
   "metadata": {},
   "outputs": [
    {
     "data": {
      "image/png": "[encoded data removed]",
      "text/plain": [
       "<Figure size 288x288 with 1 Axes>"
      ]
     },
     "metadata": {
      "needs_background": "light"
     },
     "output_type": "display_data"
    }
   ],
   "source": [
    "from sklearn import datasets\n",
    "\n",
    "# Cargamos el dataset entero:\n",
    "digits = datasets.load_digits()\n",
    "\n",
    "i = 1\n",
    "# Display the first digit\n",
    "plt.figure(1, figsize=(4, 4))\n",
    "plt.imshow(digits.images[i], cmap=plt.cm.gray_r, interpolation='nearest')\n",
    "plt.show()"
   ]
  },
  {
   "cell_type": "code",
   "execution_count": 3,
   "metadata": {},
   "outputs": [
    {
     "data": {
      "text/plain": [
       "1"
      ]
     },
     "execution_count": 3,
     "metadata": {},
     "output_type": "execute_result"
    }
   ],
   "source": [
    "digits.target[i]"
   ]
  },
  {
   "cell_type": "code",
   "execution_count": 4,
   "metadata": {
    "scrolled": true
   },
   "outputs": [
    {
     "data": {
      "text/plain": [
       "array([[ 0.,  0.,  0., 12., 13.,  5.,  0.,  0.],\n",
       "       [ 0.,  0.,  0., 11., 16.,  9.,  0.,  0.],\n",
       "       [ 0.,  0.,  3., 15., 16.,  6.,  0.,  0.],\n",
       "       [ 0.,  7., 15., 16., 16.,  2.,  0.,  0.],\n",
       "       [ 0.,  0.,  1., 16., 16.,  3.,  0.,  0.],\n",
       "       [ 0.,  0.,  1., 16., 16.,  6.,  0.,  0.],\n",
       "       [ 0.,  0.,  1., 16., 16.,  6.,  0.,  0.],\n",
       "       [ 0.,  0.,  0., 11., 16., 10.,  0.,  0.]])"
      ]
     },
     "execution_count": 4,
     "metadata": {},
     "output_type": "execute_result"
    }
   ],
   "source": [
    "digits.images[i]"
   ]
  },
  {
   "cell_type": "code",
   "execution_count": 5,
   "metadata": {},
   "outputs": [],
   "source": [
    "# Cargamos sólo vectores X e y:\n",
    "X, y = datasets.load_digits(return_X_y=True)"
   ]
  },
  {
   "cell_type": "code",
   "execution_count": 6,
   "metadata": {},
   "outputs": [
    {
     "data": {
      "text/plain": [
       "array([[ 0.,  0.,  0., 12., 13.,  5.,  0.,  0.],\n",
       "       [ 0.,  0.,  0., 11., 16.,  9.,  0.,  0.],\n",
       "       [ 0.,  0.,  3., 15., 16.,  6.,  0.,  0.],\n",
       "       [ 0.,  7., 15., 16., 16.,  2.,  0.,  0.],\n",
       "       [ 0.,  0.,  1., 16., 16.,  3.,  0.,  0.],\n",
       "       [ 0.,  0.,  1., 16., 16.,  6.,  0.,  0.],\n",
       "       [ 0.,  0.,  1., 16., 16.,  6.,  0.,  0.],\n",
       "       [ 0.,  0.,  0., 11., 16., 10.,  0.,  0.]])"
      ]
     },
     "execution_count": 6,
     "metadata": {},
     "output_type": "execute_result"
    }
   ],
   "source": [
    "X[i].reshape(8, 8)"
   ]
  },
  {
   "cell_type": "code",
   "execution_count": 7,
   "metadata": {},
   "outputs": [
    {
     "data": {
      "text/plain": [
       "Counter({0: 178,\n",
       "         1: 182,\n",
       "         2: 177,\n",
       "         3: 183,\n",
       "         4: 181,\n",
       "         5: 182,\n",
       "         6: 181,\n",
       "         7: 179,\n",
       "         8: 174,\n",
       "         9: 180})"
      ]
     },
     "execution_count": 7,
     "metadata": {},
     "output_type": "execute_result"
    }
   ],
   "source": [
    "# ¿Cuántas imágenes hay para cada dígito?\n",
    "from collections import Counter\n",
    "\n",
    "Counter(y)"
   ]
  },
  {
   "cell_type": "markdown",
   "metadata": {},
   "source": [
    "## División en Entrenamiento y Evaluación\n",
    "\n",
    "Dividiremos aleatoriamente los datos en una parte para entrenamiento (*80%*) y otra para evaluación (*20%*).\n",
    "\n",
    "Usaremos [train_test_split](https://scikit-learn.org/stable/modules/generated/sklearn.model_selection.train_test_split.html) de *scikit-learn*:"
   ]
  },
  {
   "cell_type": "code",
   "execution_count": 8,
   "metadata": {},
   "outputs": [],
   "source": [
    "from sklearn.model_selection import train_test_split\n",
    "\n",
    "X_train, X_test, y_train, y_test = train_test_split(X, y, train_size=0.8, random_state=0)"
   ]
  },
  {
   "cell_type": "markdown",
   "metadata": {},
   "source": [
    "## Instanciar y Entrenar"
   ]
  },
  {
   "cell_type": "code",
   "execution_count": 9,
   "metadata": {},
   "outputs": [
    {
     "data": {
      "text/plain": [
       "LogisticRegression(max_iter=2500)"
      ]
     },
     "execution_count": 9,
     "metadata": {},
     "output_type": "execute_result"
    }
   ],
   "source": [
    "from sklearn.linear_model import LogisticRegression\n",
    "\n",
    "model = LogisticRegression(max_iter=2500)\n",
    "model.fit(X_train, y_train)"
   ]
  },
  {
   "cell_type": "markdown",
   "metadata": {},
   "source": [
    "## Inspeccionar Parámetros"
   ]
  },
  {
   "cell_type": "code",
   "execution_count": 10,
   "metadata": {},
   "outputs": [
    {
     "data": {
      "text/plain": [
       "array([0, 1, 2, 3, 4, 5, 6, 7, 8, 9])"
      ]
     },
     "execution_count": 10,
     "metadata": {},
     "output_type": "execute_result"
    }
   ],
   "source": [
    "model.classes_"
   ]
  },
  {
   "cell_type": "code",
   "execution_count": 11,
   "metadata": {},
   "outputs": [
    {
     "data": {
      "text/plain": [
       "(10, 64)"
      ]
     },
     "execution_count": 11,
     "metadata": {},
     "output_type": "execute_result"
    }
   ],
   "source": [
    "# coef_[i, j] es el score que aporte el feature j a la clase i\n",
    "model.coef_.shape"
   ]
  },
  {
   "cell_type": "code",
   "execution_count": 12,
   "metadata": {},
   "outputs": [
    {
     "data": {
      "text/plain": [
       "array([0., 0., 0., 0., 0., 0., 0., 0., 0., 0.])"
      ]
     },
     "execution_count": 12,
     "metadata": {},
     "output_type": "execute_result"
    }
   ],
   "source": [
    "model.coef_[:, 0] # pixel esquina superior izquierda"
   ]
  },
  {
   "cell_type": "code",
   "execution_count": 13,
   "metadata": {},
   "outputs": [
    {
     "data": {
      "text/plain": [
       "array([ 0.06427579,  0.06817846,  0.02600404,  0.10154705, -0.45106225,\n",
       "       -0.14330338, -0.02664495,  0.09408039, -0.04363274,  0.31055758])"
      ]
     },
     "execution_count": 13,
     "metadata": {},
     "output_type": "execute_result"
    }
   ],
   "source": [
    "model.coef_[:, 3] # pixel arriba al medio"
   ]
  },
  {
   "cell_type": "code",
   "execution_count": 14,
   "metadata": {},
   "outputs": [
    {
     "data": {
      "text/plain": [
       "array([-0.14193242, -0.10742775, -0.07941498,  0.09163863, -0.1870186 ,\n",
       "       -0.20211512,  0.20321502, -0.10172263,  0.27704513,  0.24773273])"
      ]
     },
     "execution_count": 14,
     "metadata": {},
     "output_type": "execute_result"
    }
   ],
   "source": [
    "model.coef_[:, 3 + 4 * 8] # pixel del medio"
   ]
  },
  {
   "cell_type": "code",
   "execution_count": 15,
   "metadata": {},
   "outputs": [
    {
     "data": {
      "text/plain": [
       "array([  1.92360328,  -9.07827657,   3.74309541,  -4.19499453,\n",
       "        14.01890835,  -0.35490995,  -0.66401834,   4.96434364,\n",
       "         1.27234655, -11.63009783])"
      ]
     },
     "execution_count": 15,
     "metadata": {},
     "output_type": "execute_result"
    }
   ],
   "source": [
    "model.intercept_ # bias"
   ]
  },
  {
   "cell_type": "markdown",
   "metadata": {},
   "source": [
    "## Evaluar"
   ]
  },
  {
   "cell_type": "code",
   "execution_count": 16,
   "metadata": {},
   "outputs": [
    {
     "data": {
      "text/plain": [
       "0.9583333333333334"
      ]
     },
     "execution_count": 16,
     "metadata": {},
     "output_type": "execute_result"
    }
   ],
   "source": [
    "from sklearn.metrics import accuracy_score\n",
    "\n",
    "y_pred = model.predict(X_test)\n",
    "accuracy_score(y_test, y_pred)"
   ]
  },
  {
   "cell_type": "markdown",
   "metadata": {},
   "source": [
    "## Predecir"
   ]
  },
  {
   "cell_type": "code",
   "execution_count": 17,
   "metadata": {},
   "outputs": [],
   "source": [
    "x = np.array([[ 0.,  0.,  0.,  16., 16.,  0.,  0.,  0.],\n",
    "              [ 0.,  0.,  0.,  16., 16.,  0.,  0.,  0.],\n",
    "              [ 0.,  0.,  0.,  16., 16.,  0.,  0.,  0.],\n",
    "              [ 0.,  0.,  0.,  16., 16.,  0.,  0.,  0.],\n",
    "              [ 0.,  0.,  0.,  16., 16.,  0.,  0.,  0.],\n",
    "              [ 0.,  0.,  0.,  16., 16.,  0.,  0.,  0.],\n",
    "              [ 0.,  0.,  0.,  16., 16.,  0.,  0.,  0.],\n",
    "              [ 0.,  0.,  0.,  16., 16.,  0.,  0.,  0.]])"
   ]
  },
  {
   "cell_type": "code",
   "execution_count": 18,
   "metadata": {},
   "outputs": [],
   "source": [
    "x = x.ravel() # aplanar la matriz en un vector"
   ]
  },
  {
   "cell_type": "code",
   "execution_count": 19,
   "metadata": {},
   "outputs": [
    {
     "data": {
      "text/plain": [
       "array([1])"
      ]
     },
     "execution_count": 19,
     "metadata": {},
     "output_type": "execute_result"
    }
   ],
   "source": [
    "# Clase más probable:\n",
    "model.predict([x])"
   ]
  },
  {
   "cell_type": "code",
   "execution_count": 20,
   "metadata": {},
   "outputs": [
    {
     "data": {
      "text/plain": [
       "array([[0.        , 0.99998738, 0.00000632, 0.00000009, 0.00000286,\n",
       "        0.        , 0.        , 0.00000028, 0.00000308, 0.        ]])"
      ]
     },
     "execution_count": 20,
     "metadata": {},
     "output_type": "execute_result"
    }
   ],
   "source": [
    "# Probabilidad de cada clase (resultado del softmax):\n",
    "model.predict_proba([x])"
   ]
  },
  {
   "cell_type": "code",
   "execution_count": 21,
   "metadata": {},
   "outputs": [
    {
     "data": {
      "text/plain": [
       "array([[-14.47840912,  18.22744307,   6.25606365,   2.00380667,\n",
       "          5.46295911, -14.58973047,  -4.60366498,   3.12133349,\n",
       "          5.5353748 ,  -6.93517621]])"
      ]
     },
     "execution_count": 21,
     "metadata": {},
     "output_type": "execute_result"
    }
   ],
   "source": [
    "# Score para cada clase (antes del softmax):\n",
    "model.decision_function([x])"
   ]
  },
  {
   "cell_type": "code",
   "execution_count": 22,
   "metadata": {},
   "outputs": [
    {
     "data": {
      "text/plain": [
       "array([-14.47840912,  18.22744307,   6.25606365,   2.00380667,\n",
       "         5.46295911, -14.58973047,  -4.60366498,   3.12133349,\n",
       "         5.5353748 ,  -6.93517621])"
      ]
     },
     "execution_count": 22,
     "metadata": {},
     "output_type": "execute_result"
    }
   ],
   "source": [
    "# Score equivalente a mano:\n",
    "model.coef_.dot(x) + model.intercept_"
   ]
  },
  {
   "cell_type": "markdown",
   "metadata": {},
   "source": [
    "## Ejercicios\n",
    "\n",
    "1. Calcular el *softmax* a mano para un ejemplo, y verificar que da igual que `predict_proba`.\n",
    "2. Buscar en el conjunto de test una imagen mal clasificada. Graficarla. ¿Qué tan lejos estuvo de ser correctamente clasificada?\n",
    "3. Con la imagen anterior, ¿Qué píxeles influyeron más en la clasificación incorrecta? Intentar modificar los valores para que la clasificación sea correcta.\n",
    "4. Buscar en el conjunto de test la imagen **peor** clasificada. Graficarla. ¿Qué tan difícil es para un humano identificar el dígito?"
   ]
  },
  {
   "cell_type": "code",
   "execution_count": 23,
   "metadata": {},
   "outputs": [
    {
     "data": {
      "text/plain": [
       "(1797, 64)"
      ]
     },
     "execution_count": 23,
     "metadata": {},
     "output_type": "execute_result"
    }
   ],
   "source": [
    "digits.data.shape"
   ]
  },
  {
   "cell_type": "markdown",
   "metadata": {},
   "source": [
    "**Ejercicio 1**"
   ]
  },
  {
   "cell_type": "code",
   "execution_count": 24,
   "metadata": {},
   "outputs": [],
   "source": [
    "# Some random index\n",
    "i = 123"
   ]
  },
  {
   "cell_type": "code",
   "execution_count": 25,
   "metadata": {},
   "outputs": [
    {
     "data": {
      "image/png": "[encoded data removed]",
      "text/plain": [
       "<Figure size 288x288 with 1 Axes>"
      ]
     },
     "metadata": {
      "needs_background": "light"
     },
     "output_type": "display_data"
    }
   ],
   "source": [
    "# Display some random digit\n",
    "plt.figure(1, figsize=(4, 4))\n",
    "plt.imshow(digits.images[i], cmap=plt.cm.gray_r, interpolation='nearest')\n",
    "plt.show()"
   ]
  },
  {
   "cell_type": "code",
   "execution_count": 26,
   "metadata": {},
   "outputs": [
    {
     "data": {
      "text/plain": [
       "8"
      ]
     },
     "execution_count": 26,
     "metadata": {},
     "output_type": "execute_result"
    }
   ],
   "source": [
    "digits.target[i]"
   ]
  },
  {
   "cell_type": "code",
   "execution_count": 27,
   "metadata": {
    "scrolled": true
   },
   "outputs": [
    {
     "data": {
      "text/plain": [
       "array([[ 0.,  0.,  5., 14., 15.,  4.,  0.,  0.],\n",
       "       [ 0.,  0.,  8., 16., 16., 14.,  0.,  0.],\n",
       "       [ 0.,  0.,  5., 16., 16.,  9.,  0.,  0.],\n",
       "       [ 0.,  0.,  0., 15., 16.,  1.,  0.,  0.],\n",
       "       [ 0.,  0.,  1., 16., 13.,  0.,  0.,  0.],\n",
       "       [ 0.,  0., 11., 15., 14.,  5.,  0.,  0.],\n",
       "       [ 0.,  0., 12., 12.,  8., 15.,  1.,  0.],\n",
       "       [ 0.,  0.,  5., 16., 16., 16.,  2.,  0.]])"
      ]
     },
     "execution_count": 27,
     "metadata": {},
     "output_type": "execute_result"
    }
   ],
   "source": [
    "digits.images[i]"
   ]
  },
  {
   "cell_type": "code",
   "execution_count": 28,
   "metadata": {},
   "outputs": [
    {
     "data": {
      "text/plain": [
       "array([[ 0.,  0.,  5., 14., 15.,  4.,  0.,  0.],\n",
       "       [ 0.,  0.,  8., 16., 16., 14.,  0.,  0.],\n",
       "       [ 0.,  0.,  5., 16., 16.,  9.,  0.,  0.],\n",
       "       [ 0.,  0.,  0., 15., 16.,  1.,  0.,  0.],\n",
       "       [ 0.,  0.,  1., 16., 13.,  0.,  0.,  0.],\n",
       "       [ 0.,  0., 11., 15., 14.,  5.,  0.,  0.],\n",
       "       [ 0.,  0., 12., 12.,  8., 15.,  1.,  0.],\n",
       "       [ 0.,  0.,  5., 16., 16., 16.,  2.,  0.]])"
      ]
     },
     "execution_count": 28,
     "metadata": {},
     "output_type": "execute_result"
    }
   ],
   "source": [
    "x = X[i]\n",
    "\n",
    "x.reshape(8, 8)"
   ]
  },
  {
   "cell_type": "code",
   "execution_count": 29,
   "metadata": {},
   "outputs": [
    {
     "data": {
      "text/plain": [
       "array([8])"
      ]
     },
     "execution_count": 29,
     "metadata": {},
     "output_type": "execute_result"
    }
   ],
   "source": [
    "# Clase más probable:\n",
    "model.predict([x])"
   ]
  },
  {
   "cell_type": "code",
   "execution_count": 30,
   "metadata": {},
   "outputs": [
    {
     "data": {
      "text/plain": [
       "array([[0.        , 0.01630124, 0.00477337, 0.00003765, 0.        ,\n",
       "        0.        , 0.00000096, 0.        , 0.97888679, 0.        ]])"
      ]
     },
     "execution_count": 30,
     "metadata": {},
     "output_type": "execute_result"
    }
   ],
   "source": [
    "# Probabilidad de cada clase (resultado del softmax):\n",
    "model.predict_proba([x])"
   ]
  },
  {
   "cell_type": "code",
   "execution_count": 31,
   "metadata": {},
   "outputs": [
    {
     "data": {
      "text/plain": [
       "array([0.        , 0.01630124, 0.00477337, 0.00003765, 0.        ,\n",
       "       0.        , 0.00000096, 0.        , 0.97888679, 0.        ])"
      ]
     },
     "execution_count": 31,
     "metadata": {},
     "output_type": "execute_result"
    }
   ],
   "source": [
    "# score: coefs * x + bias\n",
    "score = model.coef_.dot(x) + model.intercept_\n",
    "# score_exps: e^(score)\n",
    "score_exps = np.exp(score)\n",
    "# weights: sum(score_exps)\n",
    "weights = score_exps.sum()\n",
    "# probability: score_exps / weights\n",
    "probability = score_exps / weights\n",
    "\n",
    "probability"
   ]
  },
  {
   "cell_type": "markdown",
   "metadata": {},
   "source": [
    "**Ejercicios 2 | 3 | 4**"
   ]
  },
  {
   "cell_type": "code",
   "execution_count": 32,
   "metadata": {},
   "outputs": [
    {
     "data": {
      "text/plain": [
       "array([ 56,  84,  90,  94, 118, 124, 130, 181, 196, 213, 235, 301, 325,\n",
       "       331, 335])"
      ]
     },
     "execution_count": 32,
     "metadata": {},
     "output_type": "execute_result"
    }
   ],
   "source": [
    "y_pred = model.predict(X_test)\n",
    "\n",
    "# Buscamos todos los errores en el conjunto de test\n",
    "errors = np.where(y_test != y_pred)[0]\n",
    "\n",
    "errors"
   ]
  },
  {
   "cell_type": "code",
   "execution_count": 33,
   "metadata": {},
   "outputs": [
    {
     "data": {
      "image/png": "[encoded data removed]",
      "text/plain": [
       "<Figure size 1152x432 with 16 Axes>"
      ]
     },
     "metadata": {
      "needs_background": "light"
     },
     "output_type": "display_data"
    }
   ],
   "source": [
    "import math\n",
    "\n",
    "# Create general layout\n",
    "n_cols = 8\n",
    "n_rows = 2\n",
    "\n",
    "fig, axs = plt.subplots(n_rows, n_cols, figsize=(16, 6))\n",
    "\n",
    "for i, e in enumerate(errors):\n",
    "    row = math.floor(i / n_cols)\n",
    "    col = i % n_cols\n",
    "    ax = axs[row, col]\n",
    "\n",
    "    ax.imshow(X_test[e].reshape(8, 8), cmap=plt.cm.gray_r, interpolation='nearest')\n",
    "    ax.axis('off')\n",
    "    ax.set_title(f'L {y_test[e]} | P {y_pred[e]}')\n",
    "\n",
    "# Limpiamos subplots vacíos\n",
    "for col in range(n_cols):\n",
    "    for row in range(n_rows):\n",
    "        if not axs[row, col].lines:\n",
    "            axs[row, col].axis('off')"
   ]
  },
  {
   "cell_type": "markdown",
   "metadata": {},
   "source": [
    "En total, en el conjunto de test, nuestro clasificador cometió **15** errores.\n",
    "\n",
    "En la mayoría de los casos, el dígito se puede identificar prácticamente de forma instantánea.\n",
    "Salvo una excepción, la cual coincide con la **peor** clasificación realizada por nuestro modelo."
   ]
  },
  {
   "cell_type": "code",
   "execution_count": 34,
   "metadata": {},
   "outputs": [
    {
     "name": "stdout",
     "output_type": "stream",
     "text": [
      "L 5 | L/P [0.01925964] | P 9 | P/P [0.98073881]\n",
      "--------------------------------------------------\n",
      "L 5 | L/P [0.44801028] | P 9 | P/P [0.55082885]\n",
      "--------------------------------------------------\n",
      "L 9 | L/P [0.32820935] | P 8 | P/P [0.66844265]\n",
      "--------------------------------------------------\n",
      "L 7 | L/P [0.05932781] | P 4 | P/P [0.9374527]\n",
      "--------------------------------------------------\n",
      "L 6 | L/P [0.00021503] | P 1 | P/P [0.93731266]\n",
      "--------------------------------------------------\n",
      "L 8 | L/P [0.01521881] | P 1 | P/P [0.98326437]\n",
      "--------------------------------------------------\n",
      "L 9 | L/P [0.00050358] | P 5 | P/P [0.99948953]\n",
      "--------------------------------------------------\n",
      "L 5 | L/P [0.00017775] | P 9 | P/P [0.99841996]\n",
      "--------------------------------------------------\n",
      "L 8 | L/P [0.17828632] | P 1 | P/P [0.82080731]\n",
      "--------------------------------------------------\n",
      "L 1 | L/P [0.08334745] | P 8 | P/P [0.69535268]\n",
      "--------------------------------------------------\n",
      "L 2 | L/P [0.40047043] | P 3 | P/P [0.50968849]\n",
      "--------------------------------------------------\n",
      "L 1 | L/P [0.3546663] | P 6 | P/P [0.45464999]\n",
      "--------------------------------------------------\n",
      "L 1 | L/P [0.45593881] | P 9 | P/P [0.50826521]\n",
      "--------------------------------------------------\n",
      "L 1 | L/P [0.0034524] | P 8 | P/P [0.88010403]\n",
      "--------------------------------------------------\n",
      "L 8 | L/P [0.11537096] | P 2 | P/P [0.86299204]\n",
      "--------------------------------------------------\n"
     ]
    }
   ],
   "source": [
    "worst_prob = 1\n",
    "\n",
    "# Calculemos, para cada error en test, las respectivas probabilidades\n",
    "for e in errors:\n",
    "    # Etiqueta\n",
    "    label = y_test[e]\n",
    "    # Predicción\n",
    "    prediction = y_pred[e]\n",
    "    # Modelo\n",
    "    probability = model.predict_proba([X_test[e]])\n",
    "    # Probabilidad de Etiqueta\n",
    "    label_prob = probability[:, label]\n",
    "    # Probabilidad de Predicción\n",
    "    prediction_prob = probability[:, prediction]\n",
    "    # Resultados\n",
    "    print(f'L {label} | L/P {label_prob} | P {prediction} | P/P {prediction_prob}')\n",
    "    print('--------------------------------------------------')\n",
    "    # Búsqueda de la peor clasificación (según etiqueta verdadera)...\n",
    "    if label_prob < worst_prob:\n",
    "        worst_prob = label_prob\n",
    "        worst_error = e\n",
    "        worst_label = label\n",
    "        worst_prediction = prediction"
   ]
  },
  {
   "cell_type": "code",
   "execution_count": 35,
   "metadata": {},
   "outputs": [
    {
     "data": {
      "image/png": "[encoded data removed]",
      "text/plain": [
       "<Figure size 288x288 with 1 Axes>"
      ]
     },
     "metadata": {
      "needs_background": "light"
     },
     "output_type": "display_data"
    }
   ],
   "source": [
    "# Display the worst prediction\n",
    "plt.figure(1, figsize=(4, 4))\n",
    "plt.imshow(X_test[worst_error].reshape(8, 8), cmap=plt.cm.gray_r, interpolation='nearest')\n",
    "\n",
    "plt.title(f'L {worst_label} | P {worst_prediction}')\n",
    "plt.show()"
   ]
  },
  {
   "cell_type": "code",
   "execution_count": 36,
   "metadata": {},
   "outputs": [
    {
     "data": {
      "text/plain": [
       "array([[0.00000019, 0.00120164, 0.        , 0.00017   , 0.        ,\n",
       "        0.00017775, 0.        , 0.        , 0.00003045, 0.99841996]])"
      ]
     },
     "execution_count": 36,
     "metadata": {},
     "output_type": "execute_result"
    }
   ],
   "source": [
    "probability = model.predict_proba([X_test[worst_error]])\n",
    "\n",
    "probability"
   ]
  },
  {
   "cell_type": "code",
   "execution_count": 37,
   "metadata": {},
   "outputs": [
    {
     "data": {
      "text/plain": [
       "array([0.99824222])"
      ]
     },
     "execution_count": 37,
     "metadata": {},
     "output_type": "execute_result"
    }
   ],
   "source": [
    "probability[:, worst_prediction] - probability[:, worst_label]"
   ]
  },
  {
   "cell_type": "markdown",
   "metadata": {},
   "source": [
    "Se observa que se cometió un error importante en este ejemplo.\n",
    "- Con probabilidad $0.9984$ se eligió al dígito **9**.\n",
    "- Con probabilidad $0.0012$ se elegía al dígito **1**.\n",
    "- Con probabilidad $0.0002$ se elegía al dígito **5**."
   ]
  },
  {
   "cell_type": "code",
   "execution_count": 38,
   "metadata": {},
   "outputs": [],
   "source": [
    "# Limitaremos un poco la precisión numérica...\n",
    "np.set_printoptions(precision=3)"
   ]
  },
  {
   "cell_type": "code",
   "execution_count": 39,
   "metadata": {},
   "outputs": [
    {
     "data": {
      "text/plain": [
       "array([[ 0.   ,  0.077,  0.439, -0.143,  0.083,  0.259,  0.367, -0.07 ],\n",
       "       [-0.   ,  0.023,  0.26 ,  0.169,  0.036, -0.116, -0.065, -0.016],\n",
       "       [-0.   , -0.011,  0.142, -0.034, -0.449, -0.512, -0.414, -0.003],\n",
       "       [-0.   ,  0.181,  0.263, -0.165,  0.236,  0.035, -0.235,  0.   ],\n",
       "       [ 0.   , -0.07 ,  0.101, -0.202, -0.029, -0.077,  0.015,  0.   ],\n",
       "       [ 0.   , -0.189, -0.129, -0.241, -0.107,  0.165, -0.081, -0.   ],\n",
       "       [ 0.   ,  0.014, -0.056, -0.084, -0.084, -0.063, -0.026, -0.013],\n",
       "       [ 0.   ,  0.047,  0.352,  0.198, -0.074,  0.107, -0.024, -0.071]])"
      ]
     },
     "execution_count": 39,
     "metadata": {},
     "output_type": "execute_result"
    }
   ],
   "source": [
    "# Coeficientes para predecir el dígito 5\n",
    "model.coef_[worst_label].reshape(8, 8)"
   ]
  },
  {
   "cell_type": "code",
   "execution_count": 40,
   "metadata": {},
   "outputs": [
    {
     "data": {
      "text/plain": [
       "array([[ 0.   , -0.143, -0.011,  0.311,  0.234, -0.06 ,  0.013, -0.044],\n",
       "       [-0.   ,  0.107,  0.163,  0.153, -0.126,  0.127,  0.175, -0.057],\n",
       "       [ 0.   ,  0.056,  0.059,  0.18 ,  0.259,  0.576,  0.081, -0.073],\n",
       "       [ 0.   ,  0.041,  0.273,  0.409,  0.162,  0.263, -0.05 , -0.001],\n",
       "       [ 0.   , -0.323, -0.14 ,  0.248, -0.137,  0.079,  0.111,  0.   ],\n",
       "       [ 0.   ,  0.067, -0.438, -0.759, -0.368, -0.163, -0.196, -0.   ],\n",
       "       [ 0.   ,  0.057, -0.15 , -0.192, -0.199, -0.296, -0.117,  0.046],\n",
       "       [ 0.   , -0.157,  0.005,  0.085,  0.033,  0.13 , -0.097,  0.07 ]])"
      ]
     },
     "execution_count": 40,
     "metadata": {},
     "output_type": "execute_result"
    }
   ],
   "source": [
    "# Coeficientes para predecir el dígito 9.\n",
    "model.coef_[worst_prediction].reshape(8, 8)"
   ]
  },
  {
   "cell_type": "markdown",
   "metadata": {},
   "source": [
    "Intentaremos corregir a mano el ejemplo problemático."
   ]
  },
  {
   "cell_type": "code",
   "execution_count": 41,
   "metadata": {},
   "outputs": [],
   "source": [
    "fixed_X = X_test[worst_error].reshape(8, 8)"
   ]
  },
  {
   "cell_type": "code",
   "execution_count": 42,
   "metadata": {},
   "outputs": [
    {
     "data": {
      "image/png": "[encoded data removed]",
      "text/plain": [
       "<Figure size 288x288 with 1 Axes>"
      ]
     },
     "metadata": {
      "needs_background": "light"
     },
     "output_type": "display_data"
    }
   ],
   "source": [
    "plt.figure(1, figsize=(4, 4))\n",
    "plt.imshow(fixed_X, cmap=plt.cm.gray_r, interpolation='nearest')\n",
    "\n",
    "# ¿Qué predice nuestro modelo?\n",
    "prediction = model.predict([fixed_X.ravel()])\n",
    "\n",
    "plt.title(f'Prediction {prediction}')\n",
    "plt.show()"
   ]
  },
  {
   "cell_type": "code",
   "execution_count": 43,
   "metadata": {},
   "outputs": [],
   "source": [
    "fixed_X[2, 5] = 0. # Negativo para 5, y Positivo para 9\n",
    "fixed_X[2, 6] = 0. # Negativo para 5\n",
    "\n",
    "fixed_X[5, 4] = 16. # Negativo para 9"
   ]
  },
  {
   "cell_type": "code",
   "execution_count": 44,
   "metadata": {},
   "outputs": [
    {
     "data": {
      "image/png": "[encoded data removed]",
      "text/plain": [
       "<Figure size 288x288 with 1 Axes>"
      ]
     },
     "metadata": {
      "needs_background": "light"
     },
     "output_type": "display_data"
    }
   ],
   "source": [
    "plt.figure(1, figsize=(4, 4))\n",
    "plt.imshow(fixed_X, cmap=plt.cm.gray_r, interpolation='nearest')\n",
    "\n",
    "# ¿Qué predice nuestro modelo?\n",
    "prediction = model.predict([fixed_X.ravel()])\n",
    "\n",
    "plt.title(f'Prediction {prediction}')\n",
    "plt.show()"
   ]
  }
 ],
 "metadata": {
  "kernelspec": {
   "display_name": "Python 3",
   "language": "python",
   "name": "python3"
  },
  "language_info": {
   "codemirror_mode": {
    "name": "ipython",
    "version": 3
   },
   "file_extension": ".py",
   "mimetype": "text/x-python",
   "name": "python",
   "nbconvert_exporter": "python",
   "pygments_lexer": "ipython3",
   "version": "3.9.5"
  }
 },
 "nbformat": 4,
 "nbformat_minor": 4
}
