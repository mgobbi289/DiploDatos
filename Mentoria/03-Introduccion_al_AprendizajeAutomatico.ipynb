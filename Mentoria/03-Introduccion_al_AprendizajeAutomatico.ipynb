{
  "nbformat": 4,
  "nbformat_minor": 0,
  "metadata": {
    "kernelspec": {
      "display_name": "Python 3",
      "language": "python",
      "name": "python3"
    },
    "language_info": {
      "codemirror_mode": {
        "name": "ipython",
        "version": 3
      },
      "file_extension": ".py",
      "mimetype": "text/x-python",
      "name": "python",
      "nbconvert_exporter": "python",
      "pygments_lexer": "ipython3",
      "version": "3.7.6"
    },
    "colab": {
      "name": "03-Introduccion_al_AprendizajeAutomatico.ipynb",
      "provenance": [],
      "collapsed_sections": []
    }
  },
  "cells": [
    {
      "cell_type": "markdown",
      "metadata": {
        "id": "9bUixTPTuKn7"
      },
      "source": [
        "# DiploDatos 2021\n",
        "\n",
        "\n",
        "### Categorización de publicaciones de productos realizadas en Mercado Libre"
      ]
    },
    {
      "cell_type": "markdown",
      "metadata": {
        "id": "TGQlHEaluKoA"
      },
      "source": [
        "### 03 - Introducción al Aprendizaje Automático"
      ]
    },
    {
      "cell_type": "markdown",
      "metadata": {
        "id": "rtGsoruZuKoA"
      },
      "source": [
        "#### Condiciones generales que aplican a todos los prácticos:\n",
        "   - Las notebooks tienen que ser 100% reproducibles, es decir al ejecutar las celdas tal cuál como se entrega la notebook se deben obtener los mismos resultados sin errores.\n",
        "   - Código legible, haciendo buen uso de las celdas de la notebook y en lo posible seguir estándares de código para *Python* (https://www.python.org/dev/peps/pep-0008/).\n",
        "   - Utilizar celdas tipo *Markdown* para ir guiando el análisis.\n",
        "   - Limpiar el output de las celdas antes de entregar el notebook (ir a `Kernel` --> `Restart Kernel and Clear All Ouputs`).\n",
        "   - Incluir conclusiones del análisis que se hizo en la sección \"Conclusiones\". Tratar de aportar valor en esta sección, ser creativo."
      ]
    },
    {
      "cell_type": "markdown",
      "metadata": {
        "id": "6ml5amGIuKoB"
      },
      "source": [
        "## 1. Consignas\n",
        "\n",
        "**Opcional**\n",
        "\n",
        "Entregar la solución en scripts de *Python*. Se lo puede separar al proyecto en `data.py`, `models.py`, `metrics.py`, `train.py`, etc."
      ]
    },
    {
      "cell_type": "markdown",
      "metadata": {
        "id": "B2lfiaTtuKoC"
      },
      "source": [
        "#### Sección 0: División en *train set* y *test set*\n",
        "\n",
        "- Dividir en entrenamiento (80%) y test (20%)."
      ]
    },
    {
      "cell_type": "markdown",
      "metadata": {
        "id": "vnAQOdYLuKoD"
      },
      "source": [
        "#### Sección 1:\n",
        "\n",
        "Tomamos lo generado en el TP anterior. Por lo tanto, partir de lo ya hecho para tener:\n",
        "\n",
        "- *Sequences*\n",
        "\n",
        "- *Labels*\n",
        "\n",
        "- Capa de *Embedding*\n",
        "\n",
        "(Tener en cuenta que la *tokenización* se hace por separado en los conjuntos de entrenamiento y test, para evitar *leakage* de datos)."
      ]
    },
    {
      "cell_type": "markdown",
      "metadata": {
        "id": "sD-FGtCkuKoD"
      },
      "source": [
        "#### Sección 2: División en *train set* y *validation set*\n",
        "\n",
        "- Dividir al conjunto de entrenamiento en entrenamiento y validación utilizando el método de *Stratified K-Folds* (https://scikit-learn.org/stable/modules/generated/sklearn.model_selection.StratifiedKFold.html#sklearn.model_selection.StratifiedKFold)"
      ]
    },
    {
      "cell_type": "markdown",
      "metadata": {
        "id": "C13uQpqtuKoF"
      },
      "source": [
        "#### Sección 3: Entrenamiento de un modelo\n",
        "\n",
        "- Realizar el entrenamiento de un modelo.\n",
        "\n",
        "- Se aconseja comenzar por una red neuronal *feed forward*, y/o capas del tipo *LSTM*.\n",
        "\n",
        "- La primera capa de la red será la *embedding_layer* que ya hayan definido y la última capa será una capa densa con `cantidad de neuronas == cantidad de clases` y función de activación *softmax*.\n",
        "\n",
        "- Entrenar modelos que utilicen tanto los embeddings pre-entrenados como los customs.\n",
        "\n",
        "- Experimentar utilizando *dropout* y *batch normalization*.\n",
        "\n",
        "- Utilizar *checkpoints* para guardar el modelo.\n",
        "\n",
        "- Utilizar como *loss* la *sparse_categorical_crossentropy*, y se recomienda utilizar *Adam* como *optimizer*."
      ]
    },
    {
      "cell_type": "markdown",
      "metadata": {
        "id": "VvbVOUmDuKoG"
      },
      "source": [
        "#### Sección 4: Evaluación del modelo\n",
        "\n",
        "- Graficar curvas de *loss* y *accuracy* para entrenamiento y validación (se puede hacer utilizando el *model history* de *Keras*, https://www.tensorflow.org/api_docs/python/tf/keras/callbacks/History).\n",
        "\n",
        "- Utilizar *balance accuracy* para medir la performance del modelo en validación y test, https://scikit-learn.org/stable/modules/generated/sklearn.metrics.balanced_accuracy_score.html.\n",
        "\n",
        "- Diferenciar el *score* según *label_quality*. Es decir, calcular el puntaje para el conjunto de validación y test separando según *reliable* y *unreliable*."
      ]
    },
    {
      "cell_type": "markdown",
      "metadata": {
        "id": "F1pAhoz4uKoH"
      },
      "source": [
        "#### Sección 5: Análisis de resultados\n",
        "\n",
        "- Realizar análisis de que modelo performó mejor, generar un `.csv` con los resultados en validación y test de cada modelo."
      ]
    },
    {
      "cell_type": "markdown",
      "metadata": {
        "id": "oTatwJt9uKoH"
      },
      "source": [
        "#### Sección 6: Exportado de predicciones\n",
        "\n",
        "- Generar un *dataframe* con las predicciones del conjunto de test del mejor modelo, y exportarlo a un `.csv`."
      ]
    },
    {
      "cell_type": "markdown",
      "metadata": {
        "id": "O2GpR_l-uKoI"
      },
      "source": [
        "## 2. Código y análisis"
      ]
    },
    {
      "cell_type": "markdown",
      "metadata": {
        "id": "m_dSUVPMy0cx"
      },
      "source": [
        "Instalaciones necesarias"
      ]
    },
    {
      "cell_type": "code",
      "metadata": {
        "colab": {
          "base_uri": "https://localhost:8080/"
        },
        "id": "9k57vA-byxbw",
        "outputId": "2d175421-9c3b-4a60-c501-5ebf750cafd1"
      },
      "source": [
        "!pip install Unidecode"
      ],
      "execution_count": 1,
      "outputs": [
        {
          "output_type": "stream",
          "text": [
            "Requirement already satisfied: Unidecode in /usr/local/lib/python3.7/dist-packages (1.2.0)\n"
          ],
          "name": "stdout"
        }
      ]
    },
    {
      "cell_type": "markdown",
      "metadata": {
        "id": "Cb3XVRxtuKoI"
      },
      "source": [
        "Importaciones necesarias"
      ]
    },
    {
      "cell_type": "code",
      "metadata": {
        "id": "WXwMZ1CcuKoJ"
      },
      "source": [
        "import pandas as pd\n",
        "import numpy as np"
      ],
      "execution_count": 2,
      "outputs": []
    },
    {
      "cell_type": "markdown",
      "metadata": {
        "id": "cXaKY_WnuKoK"
      },
      "source": [
        "Lectura de dataset reducido"
      ]
    },
    {
      "cell_type": "code",
      "metadata": {
        "id": "dfHCvClVuKoK"
      },
      "source": [
        "df_dataset = pd.read_csv('DataSet/dataset.csv')"
      ],
      "execution_count": 3,
      "outputs": []
    },
    {
      "cell_type": "markdown",
      "metadata": {
        "id": "JPYfoDiXzAvQ"
      },
      "source": [
        "Estudiamos el dataset brevemente antes de comenzar a operar sobre el mismo."
      ]
    },
    {
      "cell_type": "code",
      "metadata": {
        "colab": {
          "base_uri": "https://localhost:8080/",
          "height": 173
        },
        "id": "qCVfwFZvuKoK",
        "outputId": "465b080f-5107-4516-baab-242c990fe693"
      },
      "source": [
        "df_dataset.describe()"
      ],
      "execution_count": 4,
      "outputs": [
        {
          "output_type": "execute_result",
          "data": {
            "text/html": [
              "<div>\n",
              "<style scoped>\n",
              "    .dataframe tbody tr th:only-of-type {\n",
              "        vertical-align: middle;\n",
              "    }\n",
              "\n",
              "    .dataframe tbody tr th {\n",
              "        vertical-align: top;\n",
              "    }\n",
              "\n",
              "    .dataframe thead th {\n",
              "        text-align: right;\n",
              "    }\n",
              "</style>\n",
              "<table border=\"1\" class=\"dataframe\">\n",
              "  <thead>\n",
              "    <tr style=\"text-align: right;\">\n",
              "      <th></th>\n",
              "      <th>title</th>\n",
              "      <th>label_quality</th>\n",
              "      <th>language</th>\n",
              "      <th>category</th>\n",
              "    </tr>\n",
              "  </thead>\n",
              "  <tbody>\n",
              "    <tr>\n",
              "      <th>count</th>\n",
              "      <td>646760</td>\n",
              "      <td>646760</td>\n",
              "      <td>646760</td>\n",
              "      <td>646760</td>\n",
              "    </tr>\n",
              "    <tr>\n",
              "      <th>unique</th>\n",
              "      <td>646019</td>\n",
              "      <td>2</td>\n",
              "      <td>2</td>\n",
              "      <td>20</td>\n",
              "    </tr>\n",
              "    <tr>\n",
              "      <th>top</th>\n",
              "      <td>Teclado Yamaha Ypt-230</td>\n",
              "      <td>unreliable</td>\n",
              "      <td>portuguese</td>\n",
              "      <td>PANTS</td>\n",
              "    </tr>\n",
              "    <tr>\n",
              "      <th>freq</th>\n",
              "      <td>2</td>\n",
              "      <td>551878</td>\n",
              "      <td>328992</td>\n",
              "      <td>35973</td>\n",
              "    </tr>\n",
              "  </tbody>\n",
              "</table>\n",
              "</div>"
            ],
            "text/plain": [
              "                         title label_quality    language category\n",
              "count                   646760        646760      646760   646760\n",
              "unique                  646019             2           2       20\n",
              "top     Teclado Yamaha Ypt-230    unreliable  portuguese    PANTS\n",
              "freq                         2        551878      328992    35973"
            ]
          },
          "metadata": {
            "tags": []
          },
          "execution_count": 4
        }
      ]
    },
    {
      "cell_type": "code",
      "metadata": {
        "colab": {
          "base_uri": "https://localhost:8080/"
        },
        "id": "3aCtBk7mzLpd",
        "outputId": "f53a67dc-f21a-4007-c1d6-7a291cbe7a8c"
      },
      "source": [
        "classes = np.sort(df_dataset.category.unique())\n",
        "\n",
        "print(f'Dimensiones: {df_dataset.shape}')\n",
        "print('----------')\n",
        "print(f'Variables: {list(df_dataset.columns)}')\n",
        "print('----------')\n",
        "print(f'Categorías: {list(classes)}')"
      ],
      "execution_count": 5,
      "outputs": [
        {
          "output_type": "stream",
          "text": [
            "Dimensiones: (646760, 4)\n",
            "----------\n",
            "Variables: ['title', 'label_quality', 'language', 'category']\n",
            "----------\n",
            "Categorías: ['BABY_CAR_SEATS', 'BABY_STROLLERS', 'COFFEE_MAKERS', 'ELECTRIC_DRILLS', 'HAIR_CLIPPERS', 'KITCHEN_SINKS', 'MATTRESSES', 'MEMORY_CARDS', 'MOTORCYCLE_JACKETS', 'MUSICAL_KEYBOARDS', 'PANTS', 'PUREBRED_DOGS', 'RANGES', 'REFRIGERATORS', 'ROLLER_SKATES', 'SEWING_MACHINES', 'SHORTS', 'SUITCASES', 'WALL_CLOCKS', 'WINES']\n"
          ],
          "name": "stdout"
        }
      ]
    },
    {
      "cell_type": "markdown",
      "metadata": {
        "id": "bJfJJa1T8mwx"
      },
      "source": [
        "**Sección 0**"
      ]
    },
    {
      "cell_type": "code",
      "metadata": {
        "id": "PW54Bt7jzfSz"
      },
      "source": [
        "import re\n",
        "from unidecode import unidecode\n",
        "\n",
        "def cleaning(title):\n",
        "    \"\"\"\n",
        "    Aplica las operaciones de limpieza a un título de una publicación.\n",
        "    \"\"\"\n",
        "    # Unidecode: Convierte string de Unicode a ASCII.\n",
        "    title = unidecode(title)\n",
        "    # Pasamos a Minúsculas.\n",
        "    title = title.lower()\n",
        "    # Eliminamos Números.\n",
        "    title = re.sub(r'[0-9]+', '', title)\n",
        "    # Reemplazamos Contracciones.\n",
        "    title = re.sub(r'c/u', 'cada uno', title)\n",
        "    title = re.sub(r'c/', 'con', title)\n",
        "    title = re.sub(r'p/', 'para', title)\n",
        "    # Limpiamos Símbolos.\n",
        "    title = re.sub('[^a-zA-Z ]', '', title)\n",
        "    # Retornamos el título de la publicación procesado.\n",
        "    return title"
      ],
      "execution_count": 6,
      "outputs": []
    },
    {
      "cell_type": "code",
      "metadata": {
        "id": "qGl8GfcpzlFz"
      },
      "source": [
        "df_dataset['clean_title'] = df_dataset.title.apply(cleaning)"
      ],
      "execution_count": 7,
      "outputs": []
    },
    {
      "cell_type": "code",
      "metadata": {
        "colab": {
          "base_uri": "https://localhost:8080/"
        },
        "id": "27llCyQw0dZa",
        "outputId": "77b015d1-8cdc-4195-f92e-e0d516a0ce2d"
      },
      "source": [
        "from sklearn.model_selection import train_test_split\n",
        "\n",
        "df_train, df_test = train_test_split(df_dataset, train_size=0.8, test_size=0.2, random_state=123)\n",
        "\n",
        "print(f'Dimensiones Entrenamiento: {df_train.shape}')\n",
        "print(f'Dimensiones Evaluación: {df_test.shape}')"
      ],
      "execution_count": 8,
      "outputs": [
        {
          "output_type": "stream",
          "text": [
            "Dimensiones Entrenamiento: (517408, 5)\n",
            "Dimensiones Evaluación: (129352, 5)\n"
          ],
          "name": "stdout"
        }
      ]
    },
    {
      "cell_type": "code",
      "metadata": {
        "id": "q_mHKOG01bas"
      },
      "source": [
        "# Datos de Entrenamiento\n",
        "X_train = df_train.clean_title.values\n",
        "y_train = df_train.category.values\n",
        "# Datos de Test\n",
        "X_test = df_test.clean_title.values\n",
        "y_test = df_test.category.values"
      ],
      "execution_count": 9,
      "outputs": []
    },
    {
      "cell_type": "markdown",
      "metadata": {
        "id": "Q9wIZRFc9hJv"
      },
      "source": [
        "**Sección 1**"
      ]
    },
    {
      "cell_type": "code",
      "metadata": {
        "id": "kxTBvpMw2VU6"
      },
      "source": [
        "from keras.preprocessing.text import Tokenizer\n",
        "from keras.preprocessing.sequence import pad_sequences\n",
        "\n",
        "word_tokenizer = Tokenizer()\n",
        "# Aprendemos el Tokenizer en base a los datos de entrenamiento.\n",
        "word_tokenizer.fit_on_texts(X_train)\n",
        "# Longitud del Vocabulario en base a los datos de entrenamiento.\n",
        "vocab_length = len(word_tokenizer.word_index) + 1\n",
        "\n",
        "embedded_sentences_train = word_tokenizer.texts_to_sequences(X_train)\n",
        "embedded_sentences_test = word_tokenizer.texts_to_sequences(X_test)\n",
        "\n",
        "padded_sentences_train = pad_sequences(embedded_sentences_train, padding='post')\n",
        "# Longitud de Sentencias en base a los datos de entrenamiento.\n",
        "ammount_sentences, sentences_length = padded_sentences_train.shape\n",
        "\n",
        "padded_sentences_test = pad_sequences(embedded_sentences_test, padding='post', maxlen=sentences_length)"
      ],
      "execution_count": 10,
      "outputs": []
    },
    {
      "cell_type": "code",
      "metadata": {
        "id": "0ls4tMQO47Jk"
      },
      "source": [
        "from sklearn.preprocessing import LabelEncoder\n",
        "\n",
        "le = LabelEncoder()\n",
        "le.fit(classes)\n",
        "\n",
        "encoded_labels_train = le.transform(y_train)\n",
        "encoded_labels_test = le.transform(y_test)"
      ],
      "execution_count": 11,
      "outputs": []
    },
    {
      "cell_type": "code",
      "metadata": {
        "id": "n6svCMJn6IOS"
      },
      "source": [
        "from keras.layers.embeddings import Embedding\n",
        "\n",
        "dense_vector_size = 30\n",
        "embedding_layer = Embedding(vocab_length, dense_vector_size, input_length=sentences_length)"
      ],
      "execution_count": 12,
      "outputs": []
    },
    {
      "cell_type": "markdown",
      "metadata": {
        "id": "dOiVA9mrCOqW"
      },
      "source": [
        "**Sección 2**"
      ]
    },
    {
      "cell_type": "code",
      "metadata": {
        "id": "4rxSW-3WCNwN"
      },
      "source": [
        "# TO DO"
      ],
      "execution_count": null,
      "outputs": []
    },
    {
      "cell_type": "markdown",
      "metadata": {
        "id": "RyzMDCHVuKoK"
      },
      "source": [
        "## 3. Conclusiones"
      ]
    },
    {
      "cell_type": "code",
      "metadata": {
        "id": "PyxpfRsTuKoL"
      },
      "source": [
        "# TO DO"
      ],
      "execution_count": null,
      "outputs": []
    }
  ]
}