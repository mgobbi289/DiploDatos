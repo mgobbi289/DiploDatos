{
  "nbformat": 4,
  "nbformat_minor": 0,
  "metadata": {
    "kernelspec": {
      "display_name": "Python 3",
      "language": "python",
      "name": "python3"
    },
    "language_info": {
      "codemirror_mode": {
        "name": "ipython",
        "version": 3
      },
      "file_extension": ".py",
      "mimetype": "text/x-python",
      "name": "python",
      "nbconvert_exporter": "python",
      "pygments_lexer": "ipython3",
      "version": "3.7.6"
    },
    "colab": {
      "name": "03-Introduccion_al_AprendizajeAutomatico.ipynb",
      "provenance": [],
      "collapsed_sections": []
    }
  },
  "cells": [
    {
      "cell_type": "markdown",
      "metadata": {
        "id": "9bUixTPTuKn7"
      },
      "source": [
        "# DiploDatos 2021\n",
        "\n",
        "\n",
        "### Categorización de publicaciones de productos realizadas en Mercado Libre"
      ]
    },
    {
      "cell_type": "markdown",
      "metadata": {
        "id": "TGQlHEaluKoA"
      },
      "source": [
        "### 03 - Introducción al Aprendizaje Automático"
      ]
    },
    {
      "cell_type": "markdown",
      "metadata": {
        "id": "rtGsoruZuKoA"
      },
      "source": [
        "#### Condiciones generales que aplican a todos los prácticos:\n",
        "   - Las notebooks tienen que ser 100% reproducibles, es decir al ejecutar las celdas tal cuál como se entrega la notebook se deben obtener los mismos resultados sin errores.\n",
        "   - Código legible, haciendo buen uso de las celdas de la notebook y en lo posible seguir estándares de código para *Python* (https://www.python.org/dev/peps/pep-0008/).\n",
        "   - Utilizar celdas tipo *Markdown* para ir guiando el análisis.\n",
        "   - Limpiar el output de las celdas antes de entregar el notebook (ir a `Kernel` --> `Restart Kernel and Clear All Ouputs`).\n",
        "   - Incluir conclusiones del análisis que se hizo en la sección \"Conclusiones\". Tratar de aportar valor en esta sección, ser creativo."
      ]
    },
    {
      "cell_type": "markdown",
      "metadata": {
        "id": "6ml5amGIuKoB"
      },
      "source": [
        "## 1. Consignas\n",
        "\n",
        "**Opcional**\n",
        "\n",
        "Entregar la solución en scripts de *Python*. Se lo puede separar al proyecto en `data.py`, `models.py`, `metrics.py`, `train.py`, etc."
      ]
    },
    {
      "cell_type": "markdown",
      "metadata": {
        "id": "B2lfiaTtuKoC"
      },
      "source": [
        "#### Sección 0: División en *train set* y *test set*\n",
        "\n",
        "- Dividir en entrenamiento (80%) y test (20%)."
      ]
    },
    {
      "cell_type": "markdown",
      "metadata": {
        "id": "vnAQOdYLuKoD"
      },
      "source": [
        "#### Sección 1: Definición de *embedding layer*\n",
        "\n",
        "Tomamos lo generado en el TP anterior. Por lo tanto, partir de lo ya hecho para tener:\n",
        "\n",
        "- *Sequences*\n",
        "\n",
        "- *Labels*\n",
        "\n",
        "- Capa de *Embedding*\n",
        "\n",
        "(Tener en cuenta que la *tokenización* se hace por separado en los conjuntos de entrenamiento y test, para evitar *leakage* de datos)."
      ]
    },
    {
      "cell_type": "markdown",
      "metadata": {
        "id": "sD-FGtCkuKoD"
      },
      "source": [
        "#### Sección 2: División en *train set* y *validation set*\n",
        "\n",
        "- Dividir al conjunto de entrenamiento en entrenamiento y validación utilizando el método de *Stratified K-Folds*. [Documentación](https://scikit-learn.org/stable/modules/generated/sklearn.model_selection.StratifiedKFold.html#sklearn.model_selection.StratifiedKFold)."
      ]
    },
    {
      "cell_type": "markdown",
      "metadata": {
        "id": "C13uQpqtuKoF"
      },
      "source": [
        "#### Sección 3: Entrenamiento de un modelo\n",
        "\n",
        "- Realizar el entrenamiento de un modelo.\n",
        "\n",
        "- Se aconseja comenzar por una red neuronal *feed forward*, y/o capas del tipo *LSTM*.\n",
        "\n",
        "- La primera capa de la red será la *embedding_layer* que ya hayan definido y la última capa será una capa densa con `cantidad de neuronas == cantidad de clases` y función de activación *softmax*.\n",
        "\n",
        "- Entrenar modelos que utilicen tanto los embeddings pre-entrenados como los customs.\n",
        "\n",
        "- Experimentar utilizando *dropout* y *batch normalization*.\n",
        "\n",
        "- Utilizar *checkpoints* para guardar el modelo.\n",
        "\n",
        "- Utilizar como *loss* la *sparse_categorical_crossentropy*, y se recomienda utilizar *Adam* como *optimizer*."
      ]
    },
    {
      "cell_type": "markdown",
      "metadata": {
        "id": "VvbVOUmDuKoG"
      },
      "source": [
        "#### Sección 4: Evaluación del modelo\n",
        "\n",
        "- Graficar curvas de *loss* y *accuracy* para entrenamiento y validación. Se puede hacer utilizando el *model history* de *Keras*. [Documentación](https://www.tensorflow.org/api_docs/python/tf/keras/callbacks/History).\n",
        "\n",
        "- Utilizar *balance accuracy* para medir la performance del modelo en test. [Documentación](https://scikit-learn.org/stable/modules/generated/sklearn.metrics.balanced_accuracy_score.html).\n",
        "\n",
        "- Diferenciar el *score* según *label_quality*. Es decir, calcular el puntaje para el conjunto de test separando según *reliable* y *unreliable*."
      ]
    },
    {
      "cell_type": "markdown",
      "metadata": {
        "id": "F1pAhoz4uKoH"
      },
      "source": [
        "#### Sección 5: Análisis de resultados\n",
        "\n",
        "- Realizar análisis de que modelo performó mejor, generar un `.csv` con los resultados en test de cada modelo."
      ]
    },
    {
      "cell_type": "markdown",
      "metadata": {
        "id": "oTatwJt9uKoH"
      },
      "source": [
        "#### Sección 6: Exportado de predicciones\n",
        "\n",
        "- Generar un *dataframe* con las predicciones del conjunto de test del mejor modelo, y exportarlo a un `.csv`."
      ]
    },
    {
      "cell_type": "markdown",
      "metadata": {
        "id": "O2GpR_l-uKoI"
      },
      "source": [
        "## 2. Código y análisis"
      ]
    },
    {
      "cell_type": "markdown",
      "metadata": {
        "id": "m_dSUVPMy0cx"
      },
      "source": [
        "Instalaciones necesarias"
      ]
    },
    {
      "cell_type": "code",
      "metadata": {
        "colab": {
          "base_uri": "https://localhost:8080/"
        },
        "id": "9k57vA-byxbw",
        "outputId": "0af61e58-3756-4eac-e568-8722a84c6875"
      },
      "source": [
        "!pip install Unidecode"
      ],
      "execution_count": 1,
      "outputs": [
        {
          "output_type": "stream",
          "name": "stdout",
          "text": [
            "Requirement already satisfied: Unidecode in /usr/local/lib/python3.7/dist-packages (1.3.2)\n"
          ]
        }
      ]
    },
    {
      "cell_type": "markdown",
      "metadata": {
        "id": "Cb3XVRxtuKoI"
      },
      "source": [
        "Importaciones necesarias"
      ]
    },
    {
      "cell_type": "code",
      "metadata": {
        "id": "WXwMZ1CcuKoJ"
      },
      "source": [
        "import pandas as pd\n",
        "import numpy as np"
      ],
      "execution_count": 2,
      "outputs": []
    },
    {
      "cell_type": "markdown",
      "metadata": {
        "id": "cXaKY_WnuKoK"
      },
      "source": [
        "Lectura de dataset reducido"
      ]
    },
    {
      "cell_type": "code",
      "metadata": {
        "id": "dfHCvClVuKoK"
      },
      "source": [
        "df_dataset = pd.read_csv('DataSet/dataset.csv')"
      ],
      "execution_count": 3,
      "outputs": []
    },
    {
      "cell_type": "markdown",
      "metadata": {
        "id": "JPYfoDiXzAvQ"
      },
      "source": [
        "Estudiamos el dataset brevemente antes de comenzar a operar sobre el mismo."
      ]
    },
    {
      "cell_type": "code",
      "metadata": {
        "colab": {
          "base_uri": "https://localhost:8080/",
          "height": 175
        },
        "id": "qCVfwFZvuKoK",
        "outputId": "07f84355-1d2d-4663-a2e2-abdd34f9abec"
      },
      "source": [
        "df_dataset.describe()"
      ],
      "execution_count": 4,
      "outputs": [
        {
          "output_type": "execute_result",
          "data": {
            "text/html": [
              "<div>\n",
              "<style scoped>\n",
              "    .dataframe tbody tr th:only-of-type {\n",
              "        vertical-align: middle;\n",
              "    }\n",
              "\n",
              "    .dataframe tbody tr th {\n",
              "        vertical-align: top;\n",
              "    }\n",
              "\n",
              "    .dataframe thead th {\n",
              "        text-align: right;\n",
              "    }\n",
              "</style>\n",
              "<table border=\"1\" class=\"dataframe\">\n",
              "  <thead>\n",
              "    <tr style=\"text-align: right;\">\n",
              "      <th></th>\n",
              "      <th>title</th>\n",
              "      <th>label_quality</th>\n",
              "      <th>language</th>\n",
              "      <th>category</th>\n",
              "    </tr>\n",
              "  </thead>\n",
              "  <tbody>\n",
              "    <tr>\n",
              "      <th>count</th>\n",
              "      <td>646760</td>\n",
              "      <td>646760</td>\n",
              "      <td>646760</td>\n",
              "      <td>646760</td>\n",
              "    </tr>\n",
              "    <tr>\n",
              "      <th>unique</th>\n",
              "      <td>646019</td>\n",
              "      <td>2</td>\n",
              "      <td>2</td>\n",
              "      <td>20</td>\n",
              "    </tr>\n",
              "    <tr>\n",
              "      <th>top</th>\n",
              "      <td>Roland Ax Synth</td>\n",
              "      <td>unreliable</td>\n",
              "      <td>portuguese</td>\n",
              "      <td>PANTS</td>\n",
              "    </tr>\n",
              "    <tr>\n",
              "      <th>freq</th>\n",
              "      <td>2</td>\n",
              "      <td>551878</td>\n",
              "      <td>328992</td>\n",
              "      <td>35973</td>\n",
              "    </tr>\n",
              "  </tbody>\n",
              "</table>\n",
              "</div>"
            ],
            "text/plain": [
              "                  title label_quality    language category\n",
              "count            646760        646760      646760   646760\n",
              "unique           646019             2           2       20\n",
              "top     Roland Ax Synth    unreliable  portuguese    PANTS\n",
              "freq                  2        551878      328992    35973"
            ]
          },
          "metadata": {},
          "execution_count": 4
        }
      ]
    },
    {
      "cell_type": "code",
      "metadata": {
        "colab": {
          "base_uri": "https://localhost:8080/"
        },
        "id": "3aCtBk7mzLpd",
        "outputId": "ac2bb8d1-4cfb-4104-d1d6-09e75c0e6d68"
      },
      "source": [
        "classes = np.sort(df_dataset.category.unique())\n",
        "\n",
        "print(f'Dimensiones: {df_dataset.shape}')\n",
        "print('----------')\n",
        "print(f'Variables: {list(df_dataset.columns)}')\n",
        "print('----------')\n",
        "print(f'Categorías: {list(classes)}')"
      ],
      "execution_count": 5,
      "outputs": [
        {
          "output_type": "stream",
          "name": "stdout",
          "text": [
            "Dimensiones: (646760, 4)\n",
            "----------\n",
            "Variables: ['title', 'label_quality', 'language', 'category']\n",
            "----------\n",
            "Categorías: ['BABY_CAR_SEATS', 'BABY_STROLLERS', 'COFFEE_MAKERS', 'ELECTRIC_DRILLS', 'HAIR_CLIPPERS', 'KITCHEN_SINKS', 'MATTRESSES', 'MEMORY_CARDS', 'MOTORCYCLE_JACKETS', 'MUSICAL_KEYBOARDS', 'PANTS', 'PUREBRED_DOGS', 'RANGES', 'REFRIGERATORS', 'ROLLER_SKATES', 'SEWING_MACHINES', 'SHORTS', 'SUITCASES', 'WALL_CLOCKS', 'WINES']\n"
          ]
        }
      ]
    },
    {
      "cell_type": "markdown",
      "metadata": {
        "id": "bJfJJa1T8mwx"
      },
      "source": [
        "**Sección 0**"
      ]
    },
    {
      "cell_type": "code",
      "metadata": {
        "id": "qGl8GfcpzlFz"
      },
      "source": [
        "from scripts.utils import cleaning\n",
        "\n",
        "df_dataset['clean_title'] = df_dataset.title.apply(cleaning)"
      ],
      "execution_count": 6,
      "outputs": []
    },
    {
      "cell_type": "code",
      "metadata": {
        "colab": {
          "base_uri": "https://localhost:8080/"
        },
        "id": "27llCyQw0dZa",
        "outputId": "c833b207-1add-492f-891e-82a5fa030fef"
      },
      "source": [
        "from sklearn.model_selection import train_test_split\n",
        "\n",
        "df_train, df_test = train_test_split(df_dataset, train_size=0.8, test_size=0.2, random_state=123)\n",
        "\n",
        "print(f'Dimensiones Entrenamiento: {df_train.shape}')\n",
        "print(f'Dimensiones Evaluación: {df_test.shape}')"
      ],
      "execution_count": 7,
      "outputs": [
        {
          "output_type": "stream",
          "name": "stdout",
          "text": [
            "Dimensiones Entrenamiento: (517408, 5)\n",
            "Dimensiones Evaluación: (129352, 5)\n"
          ]
        }
      ]
    },
    {
      "cell_type": "code",
      "metadata": {
        "id": "q_mHKOG01bas"
      },
      "source": [
        "# Datos de Entrenamiento\n",
        "X_train = df_train.clean_title.values\n",
        "y_train = df_train.category.values\n",
        "# Datos de Test\n",
        "X_test = df_test.clean_title.values\n",
        "y_test = df_test.category.values"
      ],
      "execution_count": 8,
      "outputs": []
    },
    {
      "cell_type": "markdown",
      "metadata": {
        "id": "Q9wIZRFc9hJv"
      },
      "source": [
        "**Sección 1**"
      ]
    },
    {
      "cell_type": "code",
      "metadata": {
        "id": "kxTBvpMw2VU6"
      },
      "source": [
        "from keras.preprocessing.text import Tokenizer\n",
        "from keras.preprocessing.sequence import pad_sequences\n",
        "\n",
        "word_tokenizer = Tokenizer()\n",
        "# Aprendemos el Tokenizer en base a los datos de entrenamiento.\n",
        "word_tokenizer.fit_on_texts(X_train)\n",
        "# Longitud del Vocabulario en base a los datos de entrenamiento.\n",
        "vocab_length = len(word_tokenizer.word_index) + 1\n",
        "\n",
        "embedded_sentences_train = word_tokenizer.texts_to_sequences(X_train)\n",
        "embedded_sentences_test = word_tokenizer.texts_to_sequences(X_test)\n",
        "\n",
        "padded_sentences_train = pad_sequences(embedded_sentences_train, padding='post')\n",
        "# Longitud de Sentencias en base a los datos de entrenamiento.\n",
        "ammount_sentences, sentences_length = padded_sentences_train.shape\n",
        "\n",
        "padded_sentences_test = pad_sequences(embedded_sentences_test, padding='post', maxlen=sentences_length)"
      ],
      "execution_count": 9,
      "outputs": []
    },
    {
      "cell_type": "code",
      "metadata": {
        "id": "0ls4tMQO47Jk"
      },
      "source": [
        "from sklearn.preprocessing import LabelEncoder\n",
        "\n",
        "le = LabelEncoder()\n",
        "le.fit(classes)\n",
        "\n",
        "encoded_labels_train = le.transform(y_train)\n",
        "encoded_labels_test = le.transform(y_test)"
      ],
      "execution_count": 10,
      "outputs": []
    },
    {
      "cell_type": "code",
      "metadata": {
        "id": "n6svCMJn6IOS"
      },
      "source": [
        "from keras.layers.embeddings import Embedding\n",
        "\n",
        "dense_vector_size = 30\n",
        "embedding_layer = Embedding(vocab_length, dense_vector_size, input_length=sentences_length)"
      ],
      "execution_count": 11,
      "outputs": []
    },
    {
      "cell_type": "markdown",
      "metadata": {
        "id": "MOt9o5TpHKgN"
      },
      "source": [
        "**Observación**\n",
        "\n",
        "Solo trabajaremos con *custom embeddings* por dificultades encontradas al adaptar el modelo a los *word vectors* preentrenados de **fastText**.\n",
        "Una tarea que quedará pendiente, será replantear el uso de esta herramienta."
      ]
    },
    {
      "cell_type": "markdown",
      "metadata": {
        "id": "dOiVA9mrCOqW"
      },
      "source": [
        "**Sección 2**"
      ]
    },
    {
      "cell_type": "code",
      "metadata": {
        "id": "Hyuldji3DQWP"
      },
      "source": [
        "from scripts.models import NN_Baseline_Model, NN_Dropout_Model, NN_Batch_Model\n",
        "\n",
        "m1 = NN_Baseline_Model(embedding_layer, classes)\n",
        "m2 = NN_Dropout_Model(embedding_layer, classes)\n",
        "m3 = NN_Batch_Model(embedding_layer, classes)\n",
        "\n",
        "# Compilamos nuestros modelos.\n",
        "for m in [m1, m2, m3]:\n",
        "  m.model_compile()\n",
        "\n",
        "models = {m1.name: m1.model, m2.name: m2.model, m3.name: m3.model}\n",
        "weights = {m1.name: m1.filepath, m2.name: m2.filepath, m3.name: m3.filepath}"
      ],
      "execution_count": 12,
      "outputs": []
    },
    {
      "cell_type": "markdown",
      "metadata": {
        "id": "3iovlbZ-64Gh"
      },
      "source": [
        "Se trabajará con tres modelos diferentes.\n",
        "\n",
        "* `Baseline` Consiste simplemente de capas densas, con función de activación sigmoide.\n",
        "* `Dropout` Consiste de capas densas, con función de activación *relu*, y neuronas con *dropout*.\n",
        "* `Batch` Consiste de capas densas, con función de activación sigmoide, y normalización por *batch*."
      ]
    },
    {
      "cell_type": "code",
      "metadata": {
        "id": "4rxSW-3WCNwN"
      },
      "source": [
        "from sklearn.model_selection import StratifiedKFold\n",
        "\n",
        "splits = 3\n",
        "kf = StratifiedKFold(splits)"
      ],
      "execution_count": 13,
      "outputs": []
    },
    {
      "cell_type": "code",
      "metadata": {
        "id": "iP2WapYUZk6c",
        "colab": {
          "base_uri": "https://localhost:8080/"
        },
        "outputId": "3c678395-1983-43ad-f366-680afac8ff39"
      },
      "source": [
        "from scripts.train import cross_validation\n",
        "\n",
        "for name, model in models.items():\n",
        "  mean_loss, mean_accuracy = cross_validation(model,\n",
        "                                              weights[name],\n",
        "                                              kf.split(X_train, y_train),\n",
        "                                              padded_sentences_train,\n",
        "                                              encoded_labels_train)\n",
        "  \n",
        "  print(f'{name}:')\n",
        "  print(f'\\tMean Loss: {mean_loss}')\n",
        "  print(f'\\tMean Accuracy: {mean_accuracy}')"
      ],
      "execution_count": 14,
      "outputs": [
        {
          "output_type": "stream",
          "name": "stdout",
          "text": [
            "10780/10780 [==============================] - 306s 28ms/step - loss: 0.2890 - accuracy: 0.9188\n",
            "10780/10780 [==============================] - 301s 28ms/step - loss: 1.1853 - accuracy: 0.6398\n",
            "10780/10780 [==============================] - 299s 28ms/step - loss: 1.2089 - accuracy: 0.6323\n",
            "Neural_Network_Baseline:\n",
            "\tMean Loss: 0.1212719480196635\n",
            "\tMean Accuracy: 0.9693452517191569\n",
            "10780/10780 [==============================] - 314s 29ms/step - loss: 0.1492 - accuracy: 0.9620\n",
            "10780/10780 [==============================] - 307s 28ms/step - loss: 0.1690 - accuracy: 0.9550\n",
            "10780/10780 [==============================] - 313s 29ms/step - loss: 0.1705 - accuracy: 0.9543\n",
            "Neural_Network_Dropout:\n",
            "\tMean Loss: 0.060252174735069275\n",
            "\tMean Accuracy: 0.9856438040733337\n",
            "10780/10780 [==============================] - 313s 29ms/step - loss: 0.1030 - accuracy: 0.9746\n",
            "10780/10780 [==============================] - 316s 29ms/step - loss: 0.1015 - accuracy: 0.9754\n",
            "10780/10780 [==============================] - 316s 29ms/step - loss: 0.1011 - accuracy: 0.9759\n",
            "Neural_Network_Batch:\n",
            "\tMean Loss: 0.06653608878453572\n",
            "\tMean Accuracy: 0.9838000337282816\n"
          ]
        }
      ]
    },
    {
      "cell_type": "markdown",
      "metadata": {
        "id": "Gsf1XGAw8a6t"
      },
      "source": [
        "Aplicando **validación cruzada** para analizar que tan robusto es cada modelo frente a variaciones del conjunto de entrenamiento, observamos que `Dropout` consigue el mejor rendimiento (al analizar la *accuracy* promedio)."
      ]
    },
    {
      "cell_type": "markdown",
      "metadata": {
        "id": "e03MyH46OO6K"
      },
      "source": [
        "**Sección 3**"
      ]
    },
    {
      "cell_type": "code",
      "metadata": {
        "id": "aswvKLccWpsE",
        "colab": {
          "base_uri": "https://localhost:8080/"
        },
        "outputId": "d5536bec-913b-47f2-c023-37784c3008f9"
      },
      "source": [
        "from scripts.train import train\n",
        "\n",
        "training = {}\n",
        "for name, model in models.items():\n",
        "  print(f'{name}:')\n",
        "  history = train(name, model, padded_sentences_train, encoded_labels_train)\n",
        "  training[name] = history"
      ],
      "execution_count": 15,
      "outputs": [
        {
          "output_type": "stream",
          "name": "stdout",
          "text": [
            "Neural_Network_Baseline:\n",
            "Epoch 1/10\n",
            "12936/12936 [==============================] - 327s 25ms/step - loss: 0.6876 - accuracy: 0.7981 - val_loss: 0.1270 - val_accuracy: 0.9674\n",
            "Epoch 2/10\n",
            "12936/12936 [==============================] - 330s 25ms/step - loss: 0.0906 - accuracy: 0.9760 - val_loss: 0.0896 - val_accuracy: 0.9770\n",
            "Epoch 3/10\n",
            "12936/12936 [==============================] - 329s 25ms/step - loss: 0.0611 - accuracy: 0.9837 - val_loss: 0.0804 - val_accuracy: 0.9801\n",
            "Epoch 4/10\n",
            "12936/12936 [==============================] - 332s 26ms/step - loss: 0.0466 - accuracy: 0.9876 - val_loss: 0.0783 - val_accuracy: 0.9811\n",
            "Epoch 5/10\n",
            "12936/12936 [==============================] - 328s 25ms/step - loss: 0.0380 - accuracy: 0.9900 - val_loss: 0.0734 - val_accuracy: 0.9831\n",
            "Epoch 6/10\n",
            "12936/12936 [==============================] - 329s 25ms/step - loss: 0.0318 - accuracy: 0.9916 - val_loss: 0.0819 - val_accuracy: 0.9820\n",
            "Epoch 7/10\n",
            "12936/12936 [==============================] - 330s 25ms/step - loss: 0.0273 - accuracy: 0.9927 - val_loss: 0.0800 - val_accuracy: 0.9828\n",
            "Epoch 8/10\n",
            "12936/12936 [==============================] - 331s 26ms/step - loss: 0.0246 - accuracy: 0.9937 - val_loss: 0.0808 - val_accuracy: 0.9831\n",
            "Epoch 9/10\n",
            "12936/12936 [==============================] - 330s 26ms/step - loss: 0.0219 - accuracy: 0.9942 - val_loss: 0.0814 - val_accuracy: 0.9832\n",
            "Epoch 10/10\n",
            "12936/12936 [==============================] - 330s 25ms/step - loss: 0.0195 - accuracy: 0.9949 - val_loss: 0.0834 - val_accuracy: 0.9836\n",
            "Neural_Network_Dropout:\n",
            "Epoch 1/10\n",
            "12936/12936 [==============================] - 375s 29ms/step - loss: 0.0732 - accuracy: 0.9814 - val_loss: 0.0623 - val_accuracy: 0.9863\n",
            "Epoch 2/10\n",
            "12936/12936 [==============================] - 381s 29ms/step - loss: 0.0420 - accuracy: 0.9901 - val_loss: 0.0613 - val_accuracy: 0.9867\n",
            "Epoch 3/10\n",
            "12936/12936 [==============================] - 381s 29ms/step - loss: 0.0372 - accuracy: 0.9916 - val_loss: 0.0640 - val_accuracy: 0.9872\n",
            "Epoch 4/10\n",
            "12936/12936 [==============================] - 375s 29ms/step - loss: 0.0333 - accuracy: 0.9926 - val_loss: 0.0687 - val_accuracy: 0.9863\n",
            "Epoch 5/10\n",
            "12936/12936 [==============================] - 376s 29ms/step - loss: 0.0320 - accuracy: 0.9930 - val_loss: 0.0713 - val_accuracy: 0.9861\n",
            "Epoch 6/10\n",
            "12936/12936 [==============================] - 376s 29ms/step - loss: 0.0297 - accuracy: 0.9932 - val_loss: 0.0770 - val_accuracy: 0.9867\n",
            "Epoch 7/10\n",
            "12936/12936 [==============================] - 375s 29ms/step - loss: 0.0298 - accuracy: 0.9936 - val_loss: 0.0831 - val_accuracy: 0.9859\n",
            "Epoch 8/10\n",
            "12936/12936 [==============================] - 377s 29ms/step - loss: 0.0287 - accuracy: 0.9937 - val_loss: 0.0898 - val_accuracy: 0.9860\n",
            "Epoch 9/10\n",
            "12936/12936 [==============================] - 376s 29ms/step - loss: 0.0291 - accuracy: 0.9939 - val_loss: 0.0872 - val_accuracy: 0.9858\n",
            "Epoch 10/10\n",
            "12936/12936 [==============================] - 382s 29ms/step - loss: 0.0285 - accuracy: 0.9940 - val_loss: 0.0882 - val_accuracy: 0.9858\n",
            "Neural_Network_Batch:\n",
            "Epoch 1/10\n",
            "12936/12936 [==============================] - 381s 29ms/step - loss: 0.0361 - accuracy: 0.9915 - val_loss: 0.0791 - val_accuracy: 0.9841\n",
            "Epoch 2/10\n",
            "12936/12936 [==============================] - 383s 30ms/step - loss: 0.0168 - accuracy: 0.9957 - val_loss: 0.0757 - val_accuracy: 0.9851\n",
            "Epoch 3/10\n",
            "12936/12936 [==============================] - 381s 29ms/step - loss: 0.0127 - accuracy: 0.9969 - val_loss: 0.0791 - val_accuracy: 0.9851\n",
            "Epoch 4/10\n",
            "12936/12936 [==============================] - 381s 29ms/step - loss: 0.0103 - accuracy: 0.9972 - val_loss: 0.0829 - val_accuracy: 0.9843\n",
            "Epoch 5/10\n",
            "12936/12936 [==============================] - 384s 30ms/step - loss: 0.0091 - accuracy: 0.9976 - val_loss: 0.0884 - val_accuracy: 0.9830\n",
            "Epoch 6/10\n",
            "12936/12936 [==============================] - 385s 30ms/step - loss: 0.0081 - accuracy: 0.9979 - val_loss: 0.0894 - val_accuracy: 0.9844\n",
            "Epoch 7/10\n",
            "12936/12936 [==============================] - 384s 30ms/step - loss: 0.0074 - accuracy: 0.9980 - val_loss: 0.0866 - val_accuracy: 0.9847\n",
            "Epoch 8/10\n",
            "12936/12936 [==============================] - 384s 30ms/step - loss: 0.0066 - accuracy: 0.9983 - val_loss: 0.0941 - val_accuracy: 0.9842\n",
            "Epoch 9/10\n",
            "12936/12936 [==============================] - 383s 30ms/step - loss: 0.0063 - accuracy: 0.9983 - val_loss: 0.0896 - val_accuracy: 0.9849\n",
            "Epoch 10/10\n",
            "12936/12936 [==============================] - 383s 30ms/step - loss: 0.0061 - accuracy: 0.9984 - val_loss: 0.0911 - val_accuracy: 0.9850\n"
          ]
        }
      ]
    },
    {
      "cell_type": "markdown",
      "metadata": {
        "id": "TOsiSXD89F8Z"
      },
      "source": [
        "En esta instancia, realizamos el entrenamiento completo para cada red neuronal."
      ]
    },
    {
      "cell_type": "markdown",
      "metadata": {
        "id": "tCLVX5AXn5iV"
      },
      "source": [
        "**Sección 4**"
      ]
    },
    {
      "cell_type": "code",
      "metadata": {
        "id": "wbUypJZpoVdf",
        "colab": {
          "base_uri": "https://localhost:8080/",
          "height": 1000
        },
        "outputId": "0028baa2-4e1d-4a2d-f5a5-03dc9455f2cf"
      },
      "source": [
        "from scripts.metrics import plot_accuracy_and_loss\n",
        "\n",
        "for name, train in training.items():\n",
        "  plot_accuracy_and_loss(train, name)"
      ],
      "execution_count": 16,
      "outputs": [
        {
          "output_type": "display_data",
          "data": {
            "image/png": "[encoded data removed]",
            "text/plain": [
              "<Figure size 864x432 with 2 Axes>"
            ]
          },
          "metadata": {
            "needs_background": "light"
          }
        },
        {
          "output_type": "display_data",
          "data": {
            "image/png": "[encoded data removed]",
            "text/plain": [
              "<Figure size 864x432 with 2 Axes>"
            ]
          },
          "metadata": {
            "needs_background": "light"
          }
        },
        {
          "output_type": "display_data",
          "data": {
            "image/png": "[encoded data removed]",
            "text/plain": [
              "<Figure size 864x432 with 2 Axes>"
            ]
          },
          "metadata": {
            "needs_background": "light"
          }
        }
      ]
    },
    {
      "cell_type": "markdown",
      "metadata": {
        "id": "D01KDw4K9juw"
      },
      "source": [
        "Se observan problemas de *overfitting* en el entrenamiento. Se podría decir que es algo esperable al considerar la cantidad de parámetros que posee cada una de las redes neuronales definidas.\n",
        "\n",
        "De todas maneras, el rendimiento de todos los modelos parece ser excelente."
      ]
    },
    {
      "cell_type": "code",
      "metadata": {
        "colab": {
          "base_uri": "https://localhost:8080/"
        },
        "id": "jrs_fG6Cp4e3",
        "outputId": "d01e7b31-2df8-410c-8892-fe915879b36c"
      },
      "source": [
        "from scripts.metrics import show_balanced_accuracy\n",
        "\n",
        "for name, model in models.items():\n",
        "  show_balanced_accuracy(name, model, padded_sentences_test, encoded_labels_test, df_test)"
      ],
      "execution_count": 17,
      "outputs": [
        {
          "output_type": "stream",
          "name": "stdout",
          "text": [
            "Neural_Network_Baseline\n",
            "Balanced Accuracy (General): 0.6726423676705209\n",
            "Balanced Accuracy (Reliable): 0.6874721702130481\n",
            "Balanced Accuracy (Unreliable): 0.6702258044959821\n",
            "Neural_Network_Dropout\n",
            "Balanced Accuracy (General): 0.7790452922394997\n",
            "Balanced Accuracy (Reliable): 0.8036939180412588\n",
            "Balanced Accuracy (Unreliable): 0.7755373475834904\n",
            "Neural_Network_Batch\n",
            "Balanced Accuracy (General): 0.9848247806025991\n",
            "Balanced Accuracy (Reliable): 0.9919619499141547\n",
            "Balanced Accuracy (Unreliable): 0.9834913092321337\n"
          ]
        }
      ]
    },
    {
      "cell_type": "markdown",
      "metadata": {
        "id": "VaVNqmZB-9Pk"
      },
      "source": [
        "Según la **balanced accuracy**, nuestro mejor modelo parece ser `Batch`.\n",
        "\n",
        "Notar que todas las redes neuronales obtuvieron mejores resultados en los conjuntos de datos con etiquetas *confiables*."
      ]
    },
    {
      "cell_type": "markdown",
      "metadata": {
        "id": "H6lxmJeEnsRV"
      },
      "source": [
        "**Sección 5**"
      ]
    },
    {
      "cell_type": "code",
      "metadata": {
        "colab": {
          "base_uri": "https://localhost:8080/",
          "height": 143
        },
        "id": "CuBCbR7dD2F0",
        "outputId": "99d72fc7-f795-456d-f324-7dfba1a089a3"
      },
      "source": [
        "data = []\n",
        "for name, model in models.items():\n",
        "  loss, accuracy = model.evaluate(padded_sentences_test, encoded_labels_test, verbose=0)\n",
        "  data.append({'Model Name': name, 'Test Loss': loss, 'Test Accuracy': accuracy})\n",
        "\n",
        "df = pd.DataFrame(data)\n",
        "\n",
        "df"
      ],
      "execution_count": 18,
      "outputs": [
        {
          "output_type": "execute_result",
          "data": {
            "text/html": [
              "<div>\n",
              "<style scoped>\n",
              "    .dataframe tbody tr th:only-of-type {\n",
              "        vertical-align: middle;\n",
              "    }\n",
              "\n",
              "    .dataframe tbody tr th {\n",
              "        vertical-align: top;\n",
              "    }\n",
              "\n",
              "    .dataframe thead th {\n",
              "        text-align: right;\n",
              "    }\n",
              "</style>\n",
              "<table border=\"1\" class=\"dataframe\">\n",
              "  <thead>\n",
              "    <tr style=\"text-align: right;\">\n",
              "      <th></th>\n",
              "      <th>Model Name</th>\n",
              "      <th>Test Loss</th>\n",
              "      <th>Test Accuracy</th>\n",
              "    </tr>\n",
              "  </thead>\n",
              "  <tbody>\n",
              "    <tr>\n",
              "      <th>0</th>\n",
              "      <td>Neural_Network_Baseline</td>\n",
              "      <td>2.465872</td>\n",
              "      <td>0.675111</td>\n",
              "    </tr>\n",
              "    <tr>\n",
              "      <th>1</th>\n",
              "      <td>Neural_Network_Dropout</td>\n",
              "      <td>3.040564</td>\n",
              "      <td>0.780065</td>\n",
              "    </tr>\n",
              "    <tr>\n",
              "      <th>2</th>\n",
              "      <td>Neural_Network_Batch</td>\n",
              "      <td>0.095475</td>\n",
              "      <td>0.984809</td>\n",
              "    </tr>\n",
              "  </tbody>\n",
              "</table>\n",
              "</div>"
            ],
            "text/plain": [
              "                Model Name  Test Loss  Test Accuracy\n",
              "0  Neural_Network_Baseline   2.465872       0.675111\n",
              "1   Neural_Network_Dropout   3.040564       0.780065\n",
              "2     Neural_Network_Batch   0.095475       0.984809"
            ]
          },
          "metadata": {},
          "execution_count": 18
        }
      ]
    },
    {
      "cell_type": "code",
      "metadata": {
        "id": "ic1MzffAGjUq"
      },
      "source": [
        "df.to_csv('Checkpoint/model_results.csv', header=True, index=False)"
      ],
      "execution_count": 19,
      "outputs": []
    },
    {
      "cell_type": "markdown",
      "metadata": {
        "id": "bwxlTvXmHJ3_"
      },
      "source": [
        "Con estos últimos resultados, somos capaces de concluir que el modelo `Batch` obtuvo el mejor desempeño en el conjunto de evaluación.\n",
        "\n",
        "Por otra parte, parece que la red neuronal `Dropout` no resultó ser tan buena generalizando en conjuntos de datos nuevos."
      ]
    },
    {
      "cell_type": "markdown",
      "metadata": {
        "id": "swO9QVPLnyJs"
      },
      "source": [
        "**Sección 6**\n",
        "\n",
        "El modelo elegido es `Batch`."
      ]
    },
    {
      "cell_type": "code",
      "metadata": {
        "id": "QFPcIUNDIVo4"
      },
      "source": [
        "chosen_model = models[m3.name]"
      ],
      "execution_count": 20,
      "outputs": []
    },
    {
      "cell_type": "code",
      "metadata": {
        "colab": {
          "base_uri": "https://localhost:8080/"
        },
        "id": "gZah_D36IM_Y",
        "outputId": "85cd585c-a645-47a2-f87b-87f8d10d6800"
      },
      "source": [
        "from sklearn.metrics import classification_report\n",
        "\n",
        "probabilities = chosen_model.predict(padded_sentences_test, verbose=0)\n",
        "predictions = np.argmax(probabilities, axis=-1)\n",
        "\n",
        "print(classification_report(encoded_labels_test, predictions, target_names=classes))"
      ],
      "execution_count": 21,
      "outputs": [
        {
          "output_type": "stream",
          "name": "stdout",
          "text": [
            "                    precision    recall  f1-score   support\n",
            "\n",
            "    BABY_CAR_SEATS       0.96      0.98      0.97      6709\n",
            "    BABY_STROLLERS       0.97      0.97      0.97      6219\n",
            "     COFFEE_MAKERS       1.00      0.99      0.99      6968\n",
            "   ELECTRIC_DRILLS       0.99      0.99      0.99      6304\n",
            "     HAIR_CLIPPERS       0.98      0.99      0.98      6421\n",
            "     KITCHEN_SINKS       1.00      0.99      0.99      6242\n",
            "        MATTRESSES       1.00      0.99      0.99      6546\n",
            "      MEMORY_CARDS       0.99      0.98      0.99      6139\n",
            "MOTORCYCLE_JACKETS       1.00      0.99      0.99      6500\n",
            " MUSICAL_KEYBOARDS       0.99      0.99      0.99      6671\n",
            "             PANTS       0.97      0.98      0.97      7225\n",
            "     PUREBRED_DOGS       0.99      0.98      0.98      6606\n",
            "            RANGES       0.98      0.99      0.99      6553\n",
            "     REFRIGERATORS       0.99      0.99      0.99      6469\n",
            "     ROLLER_SKATES       0.99      0.99      0.99      6329\n",
            "   SEWING_MACHINES       0.98      0.98      0.98      6182\n",
            "            SHORTS       0.97      0.98      0.97      6314\n",
            "         SUITCASES       0.99      0.99      0.99      6394\n",
            "       WALL_CLOCKS       0.99      0.98      0.99      6242\n",
            "             WINES       0.97      0.99      0.98      6319\n",
            "\n",
            "          accuracy                           0.98    129352\n",
            "         macro avg       0.98      0.98      0.98    129352\n",
            "      weighted avg       0.98      0.98      0.98    129352\n",
            "\n"
          ]
        }
      ]
    },
    {
      "cell_type": "code",
      "metadata": {
        "id": "lhFIGOUcfR6x"
      },
      "source": [
        "test_title = df_test.title\n",
        "test_prediction = le.inverse_transform(predictions)\n",
        "\n",
        "submission = pd.DataFrame(list(zip(test_title, test_prediction)), columns=['title', 'category'])\n",
        "submission.to_csv('DataSet/dataset_submission.csv', header=True, index=False)"
      ],
      "execution_count": 22,
      "outputs": []
    },
    {
      "cell_type": "markdown",
      "metadata": {
        "id": "RyzMDCHVuKoK"
      },
      "source": [
        "## 3. Conclusiones"
      ]
    },
    {
      "cell_type": "markdown",
      "metadata": {
        "id": "U-1aFLL3LsN1"
      },
      "source": [
        "El análisis y la reflexión sobre los resultados obtenidos se fue realizando a lo largo del *notebook*.\n",
        "De todas maneras, podríamos listar algunas conclusiones interesantes sobre todo el trabajo hecho.\n",
        "\n",
        "- El modelo `Baseline`, a pesar de ser básico y cuya arquitectura fue definida sin ningún conocimiento, obtiene resultados satisfactorios. Claramente no es la mejor red neuronal, pero es un buen elemento comparativo (al menos cuando no se sobreentrena).\n",
        "\n",
        "- El modelo `Dropout` aparentaba ser el ideal, al obtener los mejores resultados durante la validación cruzada. Quizás el entrenamiento fue demasiado largo, lo que provoco un *overfitting* y la consecuente pérdida de generalidad.\n",
        "\n",
        "- El modelo `Batch` fue el más consistento a lo largo de todo el trabajo, y obtuvo resultados excelentes. Probablemente sea posible continuar su estudio en una futura etapa de *fine tuning* para intentar mejorar su rendimiento."
      ]
    }
  ]
}