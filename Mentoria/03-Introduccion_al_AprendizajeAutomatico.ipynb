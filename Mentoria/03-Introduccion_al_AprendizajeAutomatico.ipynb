{
  "nbformat": 4,
  "nbformat_minor": 0,
  "metadata": {
    "kernelspec": {
      "display_name": "Python 3",
      "language": "python",
      "name": "python3"
    },
    "language_info": {
      "codemirror_mode": {
        "name": "ipython",
        "version": 3
      },
      "file_extension": ".py",
      "mimetype": "text/x-python",
      "name": "python",
      "nbconvert_exporter": "python",
      "pygments_lexer": "ipython3",
      "version": "3.7.6"
    },
    "colab": {
      "name": "03-Introduccion_al_AprendizajeAutomatico.ipynb",
      "provenance": [],
      "collapsed_sections": []
    }
  },
  "cells": [
    {
      "cell_type": "markdown",
      "metadata": {
        "id": "9bUixTPTuKn7"
      },
      "source": [
        "# DiploDatos 2021\n",
        "\n",
        "\n",
        "### Categorización de publicaciones de productos realizadas en Mercado Libre"
      ]
    },
    {
      "cell_type": "markdown",
      "metadata": {
        "id": "TGQlHEaluKoA"
      },
      "source": [
        "### 03 - Introducción al Aprendizaje Automático"
      ]
    },
    {
      "cell_type": "markdown",
      "metadata": {
        "id": "rtGsoruZuKoA"
      },
      "source": [
        "#### Condiciones generales que aplican a todos los prácticos:\n",
        "   - Las notebooks tienen que ser 100% reproducibles, es decir al ejecutar las celdas tal cuál como se entrega la notebook se deben obtener los mismos resultados sin errores.\n",
        "   - Código legible, haciendo buen uso de las celdas de la notebook y en lo posible seguir estándares de código para *Python* (https://www.python.org/dev/peps/pep-0008/).\n",
        "   - Utilizar celdas tipo *Markdown* para ir guiando el análisis.\n",
        "   - Limpiar el output de las celdas antes de entregar el notebook (ir a `Kernel` --> `Restart Kernel and Clear All Ouputs`).\n",
        "   - Incluir conclusiones del análisis que se hizo en la sección \"Conclusiones\". Tratar de aportar valor en esta sección, ser creativo."
      ]
    },
    {
      "cell_type": "markdown",
      "metadata": {
        "id": "6ml5amGIuKoB"
      },
      "source": [
        "## 1. Consignas\n",
        "\n",
        "**Opcional**\n",
        "\n",
        "Entregar la solución en scripts de *Python*. Se lo puede separar al proyecto en `data.py`, `models.py`, `metrics.py`, `train.py`, etc."
      ]
    },
    {
      "cell_type": "markdown",
      "metadata": {
        "id": "B2lfiaTtuKoC"
      },
      "source": [
        "#### Sección 0: División en *train set* y *test set*\n",
        "\n",
        "- Dividir en entrenamiento (80%) y test (20%)."
      ]
    },
    {
      "cell_type": "markdown",
      "metadata": {
        "id": "vnAQOdYLuKoD"
      },
      "source": [
        "#### Sección 1:\n",
        "\n",
        "Tomamos lo generado en el TP anterior. Por lo tanto, partir de lo ya hecho para tener:\n",
        "\n",
        "- *Sequences*\n",
        "\n",
        "- *Labels*\n",
        "\n",
        "- Capa de *Embedding*\n",
        "\n",
        "(Tener en cuenta que la *tokenización* se hace por separado en los conjuntos de entrenamiento y test, para evitar *leakage* de datos)."
      ]
    },
    {
      "cell_type": "markdown",
      "metadata": {
        "id": "sD-FGtCkuKoD"
      },
      "source": [
        "#### Sección 2: División en *train set* y *validation set*\n",
        "\n",
        "- Dividir al conjunto de entrenamiento en entrenamiento y validación utilizando el método de *Stratified K-Folds* (https://scikit-learn.org/stable/modules/generated/sklearn.model_selection.StratifiedKFold.html#sklearn.model_selection.StratifiedKFold)"
      ]
    },
    {
      "cell_type": "markdown",
      "metadata": {
        "id": "C13uQpqtuKoF"
      },
      "source": [
        "#### Sección 3: Entrenamiento de un modelo\n",
        "\n",
        "- Realizar el entrenamiento de un modelo.\n",
        "\n",
        "- Se aconseja comenzar por una red neuronal *feed forward*, y/o capas del tipo *LSTM*.\n",
        "\n",
        "- La primera capa de la red será la *embedding_layer* que ya hayan definido y la última capa será una capa densa con `cantidad de neuronas == cantidad de clases` y función de activación *softmax*.\n",
        "\n",
        "- Entrenar modelos que utilicen tanto los embeddings pre-entrenados como los customs.\n",
        "\n",
        "- Experimentar utilizando *dropout* y *batch normalization*.\n",
        "\n",
        "- Utilizar *checkpoints* para guardar el modelo.\n",
        "\n",
        "- Utilizar como *loss* la *sparse_categorical_crossentropy*, y se recomienda utilizar *Adam* como *optimizer*."
      ]
    },
    {
      "cell_type": "markdown",
      "metadata": {
        "id": "VvbVOUmDuKoG"
      },
      "source": [
        "#### Sección 4: Evaluación del modelo\n",
        "\n",
        "- Graficar curvas de *loss* y *accuracy* para entrenamiento y validación (se puede hacer utilizando el *model history* de *Keras*, https://www.tensorflow.org/api_docs/python/tf/keras/callbacks/History).\n",
        "\n",
        "- Utilizar *balance accuracy* para medir la performance del modelo en validación y test, https://scikit-learn.org/stable/modules/generated/sklearn.metrics.balanced_accuracy_score.html.\n",
        "\n",
        "- Diferenciar el *score* según *label_quality*. Es decir, calcular el puntaje para el conjunto de validación y test separando según *reliable* y *unreliable*."
      ]
    },
    {
      "cell_type": "markdown",
      "metadata": {
        "id": "F1pAhoz4uKoH"
      },
      "source": [
        "#### Sección 5: Análisis de resultados\n",
        "\n",
        "- Realizar análisis de que modelo performó mejor, generar un `.csv` con los resultados en validación y test de cada modelo."
      ]
    },
    {
      "cell_type": "markdown",
      "metadata": {
        "id": "oTatwJt9uKoH"
      },
      "source": [
        "#### Sección 6: Exportado de predicciones\n",
        "\n",
        "- Generar un *dataframe* con las predicciones del conjunto de test del mejor modelo, y exportarlo a un `.csv`."
      ]
    },
    {
      "cell_type": "markdown",
      "metadata": {
        "id": "O2GpR_l-uKoI"
      },
      "source": [
        "## 2. Código y análisis"
      ]
    },
    {
      "cell_type": "markdown",
      "metadata": {
        "id": "m_dSUVPMy0cx"
      },
      "source": [
        "Instalaciones necesarias"
      ]
    },
    {
      "cell_type": "code",
      "metadata": {
        "colab": {
          "base_uri": "https://localhost:8080/"
        },
        "id": "9k57vA-byxbw",
        "outputId": "9cc43cc1-47dc-4041-c065-1eedbbd2f616"
      },
      "source": [
        "!pip install Unidecode"
      ],
      "execution_count": 1,
      "outputs": [
        {
          "output_type": "stream",
          "text": [
            "Requirement already satisfied: Unidecode in /usr/local/lib/python3.7/dist-packages (1.2.0)\n"
          ],
          "name": "stdout"
        }
      ]
    },
    {
      "cell_type": "markdown",
      "metadata": {
        "id": "Cb3XVRxtuKoI"
      },
      "source": [
        "Importaciones necesarias"
      ]
    },
    {
      "cell_type": "code",
      "metadata": {
        "id": "WXwMZ1CcuKoJ"
      },
      "source": [
        "import pandas as pd\n",
        "import numpy as np"
      ],
      "execution_count": 2,
      "outputs": []
    },
    {
      "cell_type": "markdown",
      "metadata": {
        "id": "cXaKY_WnuKoK"
      },
      "source": [
        "Lectura de dataset reducido"
      ]
    },
    {
      "cell_type": "code",
      "metadata": {
        "id": "dfHCvClVuKoK"
      },
      "source": [
        "df_dataset = pd.read_csv('DataSet/dataset.csv')"
      ],
      "execution_count": 3,
      "outputs": []
    },
    {
      "cell_type": "markdown",
      "metadata": {
        "id": "JPYfoDiXzAvQ"
      },
      "source": [
        "Estudiamos el dataset brevemente antes de comenzar a operar sobre el mismo."
      ]
    },
    {
      "cell_type": "code",
      "metadata": {
        "colab": {
          "base_uri": "https://localhost:8080/",
          "height": 173
        },
        "id": "qCVfwFZvuKoK",
        "outputId": "209da58c-849e-4183-ba0b-468b321d5170"
      },
      "source": [
        "df_dataset.describe()"
      ],
      "execution_count": 4,
      "outputs": [
        {
          "output_type": "execute_result",
          "data": {
            "text/html": [
              "<div>\n",
              "<style scoped>\n",
              "    .dataframe tbody tr th:only-of-type {\n",
              "        vertical-align: middle;\n",
              "    }\n",
              "\n",
              "    .dataframe tbody tr th {\n",
              "        vertical-align: top;\n",
              "    }\n",
              "\n",
              "    .dataframe thead th {\n",
              "        text-align: right;\n",
              "    }\n",
              "</style>\n",
              "<table border=\"1\" class=\"dataframe\">\n",
              "  <thead>\n",
              "    <tr style=\"text-align: right;\">\n",
              "      <th></th>\n",
              "      <th>title</th>\n",
              "      <th>label_quality</th>\n",
              "      <th>language</th>\n",
              "      <th>category</th>\n",
              "    </tr>\n",
              "  </thead>\n",
              "  <tbody>\n",
              "    <tr>\n",
              "      <th>count</th>\n",
              "      <td>646760</td>\n",
              "      <td>646760</td>\n",
              "      <td>646760</td>\n",
              "      <td>646760</td>\n",
              "    </tr>\n",
              "    <tr>\n",
              "      <th>unique</th>\n",
              "      <td>646019</td>\n",
              "      <td>2</td>\n",
              "      <td>2</td>\n",
              "      <td>20</td>\n",
              "    </tr>\n",
              "    <tr>\n",
              "      <th>top</th>\n",
              "      <td>Teclado Casio Ctk4200</td>\n",
              "      <td>unreliable</td>\n",
              "      <td>portuguese</td>\n",
              "      <td>PANTS</td>\n",
              "    </tr>\n",
              "    <tr>\n",
              "      <th>freq</th>\n",
              "      <td>2</td>\n",
              "      <td>551878</td>\n",
              "      <td>328992</td>\n",
              "      <td>35973</td>\n",
              "    </tr>\n",
              "  </tbody>\n",
              "</table>\n",
              "</div>"
            ],
            "text/plain": [
              "                        title label_quality    language category\n",
              "count                  646760        646760      646760   646760\n",
              "unique                 646019             2           2       20\n",
              "top     Teclado Casio Ctk4200    unreliable  portuguese    PANTS\n",
              "freq                        2        551878      328992    35973"
            ]
          },
          "metadata": {},
          "execution_count": 4
        }
      ]
    },
    {
      "cell_type": "code",
      "metadata": {
        "colab": {
          "base_uri": "https://localhost:8080/"
        },
        "id": "3aCtBk7mzLpd",
        "outputId": "1d92a07c-f28b-4df6-f9b3-c4c0458c44d0"
      },
      "source": [
        "classes = np.sort(df_dataset.category.unique())\n",
        "\n",
        "print(f'Dimensiones: {df_dataset.shape}')\n",
        "print('----------')\n",
        "print(f'Variables: {list(df_dataset.columns)}')\n",
        "print('----------')\n",
        "print(f'Categorías: {list(classes)}')"
      ],
      "execution_count": 5,
      "outputs": [
        {
          "output_type": "stream",
          "text": [
            "Dimensiones: (646760, 4)\n",
            "----------\n",
            "Variables: ['title', 'label_quality', 'language', 'category']\n",
            "----------\n",
            "Categorías: ['BABY_CAR_SEATS', 'BABY_STROLLERS', 'COFFEE_MAKERS', 'ELECTRIC_DRILLS', 'HAIR_CLIPPERS', 'KITCHEN_SINKS', 'MATTRESSES', 'MEMORY_CARDS', 'MOTORCYCLE_JACKETS', 'MUSICAL_KEYBOARDS', 'PANTS', 'PUREBRED_DOGS', 'RANGES', 'REFRIGERATORS', 'ROLLER_SKATES', 'SEWING_MACHINES', 'SHORTS', 'SUITCASES', 'WALL_CLOCKS', 'WINES']\n"
          ],
          "name": "stdout"
        }
      ]
    },
    {
      "cell_type": "markdown",
      "metadata": {
        "id": "bJfJJa1T8mwx"
      },
      "source": [
        "**Sección 0**"
      ]
    },
    {
      "cell_type": "code",
      "metadata": {
        "id": "qGl8GfcpzlFz"
      },
      "source": [
        "from utils import cleaning\n",
        "\n",
        "df_dataset['clean_title'] = df_dataset.title.apply(cleaning)"
      ],
      "execution_count": 6,
      "outputs": []
    },
    {
      "cell_type": "code",
      "metadata": {
        "colab": {
          "base_uri": "https://localhost:8080/"
        },
        "id": "27llCyQw0dZa",
        "outputId": "961ba104-9225-41ab-d191-e3ca35b0c4da"
      },
      "source": [
        "from sklearn.model_selection import train_test_split\n",
        "\n",
        "df_train, df_test = train_test_split(df_dataset, train_size=0.8, test_size=0.2, random_state=123)\n",
        "\n",
        "print(f'Dimensiones Entrenamiento: {df_train.shape}')\n",
        "print(f'Dimensiones Evaluación: {df_test.shape}')"
      ],
      "execution_count": 7,
      "outputs": [
        {
          "output_type": "stream",
          "text": [
            "Dimensiones Entrenamiento: (517408, 5)\n",
            "Dimensiones Evaluación: (129352, 5)\n"
          ],
          "name": "stdout"
        }
      ]
    },
    {
      "cell_type": "code",
      "metadata": {
        "id": "q_mHKOG01bas"
      },
      "source": [
        "# Datos de Entrenamiento\n",
        "X_train = df_train.clean_title.values\n",
        "y_train = df_train.category.values\n",
        "# Datos de Test\n",
        "X_test = df_test.clean_title.values\n",
        "y_test = df_test.category.values"
      ],
      "execution_count": 8,
      "outputs": []
    },
    {
      "cell_type": "markdown",
      "metadata": {
        "id": "Q9wIZRFc9hJv"
      },
      "source": [
        "**Sección 1**"
      ]
    },
    {
      "cell_type": "code",
      "metadata": {
        "id": "kxTBvpMw2VU6"
      },
      "source": [
        "from keras.preprocessing.text import Tokenizer\n",
        "from keras.preprocessing.sequence import pad_sequences\n",
        "\n",
        "word_tokenizer = Tokenizer()\n",
        "# Aprendemos el Tokenizer en base a los datos de entrenamiento.\n",
        "word_tokenizer.fit_on_texts(X_train)\n",
        "# Longitud del Vocabulario en base a los datos de entrenamiento.\n",
        "vocab_length = len(word_tokenizer.word_index) + 1\n",
        "\n",
        "embedded_sentences_train = word_tokenizer.texts_to_sequences(X_train)\n",
        "embedded_sentences_test = word_tokenizer.texts_to_sequences(X_test)\n",
        "\n",
        "padded_sentences_train = pad_sequences(embedded_sentences_train, padding='post')\n",
        "# Longitud de Sentencias en base a los datos de entrenamiento.\n",
        "ammount_sentences, sentences_length = padded_sentences_train.shape\n",
        "\n",
        "padded_sentences_test = pad_sequences(embedded_sentences_test, padding='post', maxlen=sentences_length)"
      ],
      "execution_count": 9,
      "outputs": []
    },
    {
      "cell_type": "code",
      "metadata": {
        "id": "0ls4tMQO47Jk"
      },
      "source": [
        "from sklearn.preprocessing import LabelEncoder\n",
        "\n",
        "le = LabelEncoder()\n",
        "le.fit(classes)\n",
        "\n",
        "encoded_labels_train = le.transform(y_train)\n",
        "encoded_labels_test = le.transform(y_test)"
      ],
      "execution_count": 10,
      "outputs": []
    },
    {
      "cell_type": "code",
      "metadata": {
        "id": "n6svCMJn6IOS"
      },
      "source": [
        "from keras.layers.embeddings import Embedding\n",
        "\n",
        "dense_vector_size = 30\n",
        "embedding_layer = Embedding(vocab_length, dense_vector_size, input_length=sentences_length)"
      ],
      "execution_count": 11,
      "outputs": []
    },
    {
      "cell_type": "markdown",
      "metadata": {
        "id": "MOt9o5TpHKgN"
      },
      "source": [
        "**Observación**\n",
        "\n",
        "Solo trabajaremos con *custom embeddings* por dificultades encontradas al adaptar el modelo a los *word vectors* preentrenados de **fastText**.\n",
        "Una tarea que quedará pendiente, será replantear el uso de esta herramienta."
      ]
    },
    {
      "cell_type": "markdown",
      "metadata": {
        "id": "dOiVA9mrCOqW"
      },
      "source": [
        "**Sección 2**"
      ]
    },
    {
      "cell_type": "code",
      "metadata": {
        "id": "4rxSW-3WCNwN"
      },
      "source": [
        "from sklearn.model_selection import StratifiedKFold\n",
        "\n",
        "splits = 3\n",
        "kf = StratifiedKFold(splits)"
      ],
      "execution_count": 12,
      "outputs": []
    },
    {
      "cell_type": "code",
      "metadata": {
        "colab": {
          "base_uri": "https://localhost:8080/"
        },
        "id": "iP2WapYUZk6c",
        "outputId": "5d958294-5775-4a6c-ab77-9cca9e349c0a"
      },
      "source": [
        "from cross_validation import cross_training\n",
        "from models import NN_Baseline_Model, NN_Dropout_Model, NN_Batch_Model\n",
        "\n",
        "m1 = NN_Baseline_Model(embedding_layer, classes)\n",
        "m2 = NN_Dropout_Model(embedding_layer, classes)\n",
        "m3 = NN_Batch_Model(embedding_layer, classes)\n",
        "\n",
        "models = [\n",
        "          {'name': m1.name, 'model': m1.model},\n",
        "          {'name': m2.name, 'model': m2.model},\n",
        "          {'name': m3.name, 'model': m3.model},\n",
        "          ]\n",
        "\n",
        "for dict_model in models:\n",
        "  mean_loss, mean_accuracy = cross_training(dict_model['model'],\n",
        "                                            kf.split(X_train, y_train),\n",
        "                                            padded_sentences_train,\n",
        "                                            encoded_labels_train)\n",
        "  \n",
        "  print(f'{dict_model[\"name\"]}:')\n",
        "  print(f'\\tMean Loss {mean_loss}')\n",
        "  print(f'\\tMean Accuracy {mean_accuracy}')"
      ],
      "execution_count": 14,
      "outputs": [
        {
          "output_type": "stream",
          "text": [
            "10780/10780 [==============================] - 288s 27ms/step - loss: 0.2986 - accuracy: 0.9168\n",
            "10780/10780 [==============================] - 293s 27ms/step - loss: 0.0570 - accuracy: 0.9852\n",
            "10780/10780 [==============================] - 291s 27ms/step - loss: 0.0420 - accuracy: 0.9891\n",
            "Neural Network Baseline:\n",
            "\tMean Loss 0.05127170433600744\n",
            "\tMean Accuracy 0.9866527120272318\n",
            "10780/10780 [==============================] - 314s 29ms/step - loss: 0.0615 - accuracy: 0.9855\n",
            "10780/10780 [==============================] - 307s 29ms/step - loss: 0.0342 - accuracy: 0.9918\n",
            "10780/10780 [==============================] - 311s 29ms/step - loss: 0.0285 - accuracy: 0.9933\n",
            "Neural Network Dropout:\n",
            "\tMean Loss 0.026133301357428234\n",
            "\tMean Accuracy 0.9937302867571512\n",
            "10780/10780 [==============================] - 310s 29ms/step - loss: 0.0497 - accuracy: 0.9882\n",
            "10780/10780 [==============================] - 306s 28ms/step - loss: 0.0266 - accuracy: 0.9932\n",
            "10780/10780 [==============================] - 313s 29ms/step - loss: 0.0209 - accuracy: 0.9947\n",
            "Neural Network Batch:\n",
            "\tMean Loss 0.0245552696287632\n",
            "\tMean Accuracy 0.9936549067497253\n"
          ],
          "name": "stdout"
        }
      ]
    },
    {
      "cell_type": "markdown",
      "metadata": {
        "id": "e03MyH46OO6K"
      },
      "source": [
        "**Sección 3**"
      ]
    },
    {
      "cell_type": "code",
      "metadata": {
        "id": "hzOoRb0FOEAf"
      },
      "source": [
        "history = model.fit(padded_sentences_train, encoded_labels_train, batch_size=128, epochs=5, verbose=1)"
      ],
      "execution_count": null,
      "outputs": []
    },
    {
      "cell_type": "code",
      "metadata": {
        "id": "8OBtUjEhToPr"
      },
      "source": [
        "from keras.models import Sequential\n",
        "from keras.layers import Dense, Flatten\n",
        "\n",
        "model = Sequential()\n",
        "\n",
        "# TODO: Definición arbitraria del modelo (pero parece funcionar bien!).\n",
        "model.add(embedding_layer)\n",
        "model.add(Dense(256, activation='sigmoid'))\n",
        "model.add(Dense(128, activation='sigmoid'))\n",
        "model.add(Flatten())\n",
        "model.add(Dense(len(classes), activation='softmax'))"
      ],
      "execution_count": null,
      "outputs": []
    },
    {
      "cell_type": "code",
      "metadata": {
        "colab": {
          "base_uri": "https://localhost:8080/"
        },
        "id": "Mhmx9uSlVBRQ",
        "outputId": "087189c2-ba3b-4471-9ce4-985c1b8d9138"
      },
      "source": [
        "model.compile(optimizer='adam', loss='sparse_categorical_crossentropy', metrics=['accuracy'])\n",
        "\n",
        "model.summary()"
      ],
      "execution_count": null,
      "outputs": [
        {
          "output_type": "stream",
          "text": [
            "Model: \"sequential\"\n",
            "_________________________________________________________________\n",
            "Layer (type)                 Output Shape              Param #   \n",
            "=================================================================\n",
            "embedding (Embedding)        (None, 22, 30)            2594550   \n",
            "_________________________________________________________________\n",
            "dense (Dense)                (None, 22, 256)           7936      \n",
            "_________________________________________________________________\n",
            "dense_1 (Dense)              (None, 22, 128)           32896     \n",
            "_________________________________________________________________\n",
            "flatten (Flatten)            (None, 2816)              0         \n",
            "_________________________________________________________________\n",
            "dense_2 (Dense)              (None, 20)                56340     \n",
            "=================================================================\n",
            "Total params: 2,691,722\n",
            "Trainable params: 2,691,722\n",
            "Non-trainable params: 0\n",
            "_________________________________________________________________\n"
          ],
          "name": "stdout"
        }
      ]
    },
    {
      "cell_type": "code",
      "metadata": {
        "colab": {
          "base_uri": "https://localhost:8080/"
        },
        "id": "KCN4iwJsWT4P",
        "outputId": "a9af82cb-8b25-4571-be14-73d0ca8b1763"
      },
      "source": [
        "# Ya que este proceso puede demorar, realizaremos un entrenamiento breve\n",
        "history = model.fit(padded_sentences_train, encoded_labels_train, batch_size=128, epochs=5, verbose=1)"
      ],
      "execution_count": null,
      "outputs": [
        {
          "output_type": "stream",
          "text": [
            "Epoch 1/5\n",
            "4043/4043 [==============================] - 180s 41ms/step - loss: 0.9770 - accuracy: 0.7178\n",
            "Epoch 2/5\n",
            "4043/4043 [==============================] - 169s 42ms/step - loss: 0.0441 - accuracy: 0.9890\n",
            "Epoch 3/5\n",
            "4043/4043 [==============================] - 170s 42ms/step - loss: 0.0235 - accuracy: 0.9942\n",
            "Epoch 4/5\n",
            "4043/4043 [==============================] - 167s 41ms/step - loss: 0.0146 - accuracy: 0.9963\n",
            "Epoch 5/5\n",
            "4043/4043 [==============================] - 171s 42ms/step - loss: 0.0109 - accuracy: 0.9973\n"
          ],
          "name": "stdout"
        }
      ]
    },
    {
      "cell_type": "markdown",
      "metadata": {
        "id": "tCLVX5AXn5iV"
      },
      "source": [
        "**Sección 4**"
      ]
    },
    {
      "cell_type": "code",
      "metadata": {
        "colab": {
          "base_uri": "https://localhost:8080/",
          "height": 295
        },
        "id": "qwJpekLLaakX",
        "outputId": "d2f5ecba-ed8d-41ce-ec36-3f66ff6f1f8c"
      },
      "source": [
        "from matplotlib import pyplot as plt\n",
        "\n",
        "plt.title('model accuracy')\n",
        "plt.plot(history.history['accuracy'])\n",
        "\n",
        "plt.xlabel('epoch')\n",
        "plt.ylabel('accuracy')\n",
        "plt.legend(['train'], loc='upper left')\n",
        "plt.show()"
      ],
      "execution_count": null,
      "outputs": [
        {
          "output_type": "display_data",
          "data": {
            "image/png": "[encoded data removed]",
            "text/plain": [
              "<Figure size 432x288 with 1 Axes>"
            ]
          },
          "metadata": {
            "tags": [],
            "needs_background": "light"
          }
        }
      ]
    },
    {
      "cell_type": "code",
      "metadata": {
        "colab": {
          "base_uri": "https://localhost:8080/",
          "height": 295
        },
        "id": "N8pdsofbcf9i",
        "outputId": "1d5245c4-56f5-4733-a54d-d5564f3dd229"
      },
      "source": [
        "plt.title('model loss')\n",
        "plt.plot(history.history['loss'])\n",
        "\n",
        "plt.xlabel('epoch')\n",
        "plt.ylabel('loss')\n",
        "plt.legend(['train'], loc='upper left')\n",
        "plt.show()"
      ],
      "execution_count": null,
      "outputs": [
        {
          "output_type": "display_data",
          "data": {
            "image/png": "[encoded data removed]",
            "text/plain": [
              "<Figure size 432x288 with 1 Axes>"
            ]
          },
          "metadata": {
            "tags": [],
            "needs_background": "light"
          }
        }
      ]
    },
    {
      "cell_type": "code",
      "metadata": {
        "colab": {
          "base_uri": "https://localhost:8080/"
        },
        "id": "hNYSCrPkYlZj",
        "outputId": "85252369-47d3-4f70-d3e8-d7bcfcc0c5ad"
      },
      "source": [
        "loss, accuracy = model.evaluate(padded_sentences_test, encoded_labels_test, batch_size=128, verbose=0)\n",
        "\n",
        "print(f'Accuracy: {accuracy}')"
      ],
      "execution_count": null,
      "outputs": [
        {
          "output_type": "stream",
          "text": [
            "Accuracy: 0.9861231446266174\n"
          ],
          "name": "stdout"
        }
      ]
    },
    {
      "cell_type": "code",
      "metadata": {
        "colab": {
          "base_uri": "https://localhost:8080/"
        },
        "id": "F0LMpEL-dduj",
        "outputId": "e2c813c3-75af-4151-9d00-1d44d76567d9"
      },
      "source": [
        "from sklearn.metrics import balanced_accuracy_score\n",
        "\n",
        "probabilities = model.predict(padded_sentences_test, verbose=0)\n",
        "predictions = np.argmax(probabilities, axis=-1)\n",
        "\n",
        "print(f'Balanced Accuracy: {balanced_accuracy_score(encoded_labels_test, predictions)}')"
      ],
      "execution_count": null,
      "outputs": [
        {
          "output_type": "stream",
          "text": [
            "Balanced Accuracy: 0.9860980250073513\n"
          ],
          "name": "stdout"
        }
      ]
    },
    {
      "cell_type": "code",
      "metadata": {
        "colab": {
          "base_uri": "https://localhost:8080/"
        },
        "id": "iEKdzTHqlesS",
        "outputId": "e9d29246-9f31-49d6-fe98-4984d0bb021e"
      },
      "source": [
        "from sklearn.metrics import classification_report\n",
        "\n",
        "print(classification_report(encoded_labels_test, predictions, target_names=classes))"
      ],
      "execution_count": null,
      "outputs": [
        {
          "output_type": "stream",
          "text": [
            "                    precision    recall  f1-score   support\n",
            "\n",
            "    BABY_CAR_SEATS       0.98      0.97      0.98      6709\n",
            "    BABY_STROLLERS       0.97      0.98      0.97      6219\n",
            "     COFFEE_MAKERS       0.99      0.99      0.99      6968\n",
            "   ELECTRIC_DRILLS       0.99      0.99      0.99      6304\n",
            "     HAIR_CLIPPERS       0.98      0.99      0.98      6421\n",
            "     KITCHEN_SINKS       1.00      0.99      0.99      6242\n",
            "        MATTRESSES       0.99      0.99      0.99      6546\n",
            "      MEMORY_CARDS       0.99      0.98      0.99      6139\n",
            "MOTORCYCLE_JACKETS       0.99      0.99      0.99      6500\n",
            " MUSICAL_KEYBOARDS       0.99      0.99      0.99      6671\n",
            "             PANTS       0.97      0.98      0.98      7225\n",
            "     PUREBRED_DOGS       0.97      0.99      0.98      6606\n",
            "            RANGES       0.99      0.99      0.99      6553\n",
            "     REFRIGERATORS       0.99      0.99      0.99      6469\n",
            "     ROLLER_SKATES       1.00      0.99      0.99      6329\n",
            "   SEWING_MACHINES       0.98      0.98      0.98      6182\n",
            "            SHORTS       0.98      0.97      0.98      6314\n",
            "         SUITCASES       1.00      0.99      0.99      6394\n",
            "       WALL_CLOCKS       0.99      0.99      0.99      6242\n",
            "             WINES       0.99      0.99      0.99      6319\n",
            "\n",
            "          accuracy                           0.99    129352\n",
            "         macro avg       0.99      0.99      0.99    129352\n",
            "      weighted avg       0.99      0.99      0.99    129352\n",
            "\n"
          ],
          "name": "stdout"
        }
      ]
    },
    {
      "cell_type": "markdown",
      "metadata": {
        "id": "H6lxmJeEnsRV"
      },
      "source": [
        "**Sección 5**"
      ]
    },
    {
      "cell_type": "code",
      "metadata": {
        "id": "OXgtWiOXnw_h"
      },
      "source": [
        "# TO DO"
      ],
      "execution_count": null,
      "outputs": []
    },
    {
      "cell_type": "markdown",
      "metadata": {
        "id": "swO9QVPLnyJs"
      },
      "source": [
        "**Sección 6**"
      ]
    },
    {
      "cell_type": "code",
      "metadata": {
        "id": "lhFIGOUcfR6x"
      },
      "source": [
        "test_title = df_test.title\n",
        "test_prediction = le.inverse_transform(predictions)\n",
        "\n",
        "submission = pd.DataFrame(list(zip(test_title, test_prediction)), columns=['title', 'category'])\n",
        "submission.to_csv('DataSet/dataset_submission.csv', header=True, index=False)"
      ],
      "execution_count": null,
      "outputs": []
    },
    {
      "cell_type": "markdown",
      "metadata": {
        "id": "RyzMDCHVuKoK"
      },
      "source": [
        "## 3. Conclusiones"
      ]
    },
    {
      "cell_type": "code",
      "metadata": {
        "id": "PyxpfRsTuKoL"
      },
      "source": [
        "# TO DO"
      ],
      "execution_count": null,
      "outputs": []
    }
  ]
}