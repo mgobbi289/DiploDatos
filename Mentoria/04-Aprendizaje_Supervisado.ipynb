{
  "nbformat": 4,
  "nbformat_minor": 0,
  "metadata": {
    "kernelspec": {
      "display_name": "Python 3",
      "language": "python",
      "name": "python3"
    },
    "language_info": {
      "codemirror_mode": {
        "name": "ipython",
        "version": 3
      },
      "file_extension": ".py",
      "mimetype": "text/x-python",
      "name": "python",
      "nbconvert_exporter": "python",
      "pygments_lexer": "ipython3",
      "version": "3.8.8"
    },
    "colab": {
      "name": "04-Aprendizaje_Supervisado.ipynb",
      "provenance": [],
      "collapsed_sections": []
    },
    "accelerator": "GPU"
  },
  "cells": [
    {
      "cell_type": "markdown",
      "metadata": {
        "id": "PgSqGWHZAEqC"
      },
      "source": [
        "# DiploDatos 2021\n",
        "\n",
        "\n",
        "### Categorización de publicaciones de productos realizadas en Mercado Libre"
      ]
    },
    {
      "cell_type": "markdown",
      "metadata": {
        "id": "v1Oyz-0hAEqH"
      },
      "source": [
        "### 04 - Aprendizaje Supervisado"
      ]
    },
    {
      "cell_type": "markdown",
      "metadata": {
        "id": "bkKoyYKpAEqI"
      },
      "source": [
        "#### Condiciones generales que aplican a todos los prácticos:\n",
        "\n",
        "- Las notebooks tienen que ser 100% reproducibles, es decir al ejecutar las celdas tal cuál como se entrega la notebook se deben obtener los mismos resultados sin errores.\n",
        "- Código legible, haciendo buen uso de las celdas de la notebook y en lo posible seguir estándares de código para *Python* (https://www.python.org/dev/peps/pep-0008/).\n",
        "- Utilizar celdas tipo *Markdown* para ir guiando el análisis.\n",
        "- Limpiar el output de las celdas antes de entregar el notebook (ir a `Kernel` --> `Restart Kernel and Clear All Ouputs`).\n",
        "- Incluir conclusiones del análisis que se hizo en la sección \"Conclusiones\". Tratar de aportar valor en esta sección, ser creativo."
      ]
    },
    {
      "cell_type": "markdown",
      "metadata": {
        "id": "2vSTpePmAEqJ"
      },
      "source": [
        "## 1. Consignas"
      ]
    },
    {
      "cell_type": "markdown",
      "metadata": {
        "id": "YaX6JcZkAEqJ"
      },
      "source": [
        "El objetivo de este **TP** es iterar sobre el modelado, experimentando con distintas técnicas, y utilizar el *pipeline* de datos que se realizó en el **TP** pasado."
      ]
    },
    {
      "cell_type": "markdown",
      "metadata": {
        "id": "y2iYBB4_AEqJ"
      },
      "source": [
        "#### Sección 1: Modelado\n",
        "\n",
        "- Implementar redes del tipo *feed foward* y *LSTM*."
      ]
    },
    {
      "cell_type": "markdown",
      "metadata": {
        "id": "hml1zFuPAEqK"
      },
      "source": [
        "#### Sección 2: Regularización\n",
        "\n",
        "El objetivo de este bloque es experimentar con distintos métodos de regularización.\n",
        "A continuación se deja una lista de distinas técnicas.\n",
        "Investigar de qué se trata cada una e implementarlas.\n",
        "Tener en cuenta que no es necesario implementar todo lo que se propone.\n",
        "\n",
        "- Experimentar con distintos tamaños de modelo. Sacar / agregar capas como así también neuronas.\n",
        "\n",
        "- Utilizar distinos valores de *batch size*.\n",
        "\n",
        "- Experimentar utilizando *dropout* y *batch normalization*. (**HECHO** en **TP** pasado)\n",
        "\n",
        "- Experimentar con distintos valores para el *learning rate*.\n",
        "\n",
        "- Experimentar con técnicas de *weight decay* y *early stopping*."
      ]
    },
    {
      "cell_type": "markdown",
      "metadata": {
        "id": "keX5Y1XkAEqK"
      },
      "source": [
        "#### Sección 3: Ajuste de Hiperparámetros\n",
        "\n",
        "Este bloque es **opcional**, ya que puede ser complejo hacer la implementación en redes neuronales.\n",
        "\n",
        "- Investigar, y en lo posible implemementar, alguna técnica de búsqueda de hiperparámetros como *Grid Search* o *Random Search*."
      ]
    },
    {
      "cell_type": "markdown",
      "metadata": {
        "id": "pDWL3qRsAEqM"
      },
      "source": [
        "#### Sección 4: Documentación de Resultados\n",
        "\n",
        "- Dejar documentado de algún lado (puede ser en un documento de texto aparte) los resultados de toda la experimentación de este **TP**. Es importante que queden claros los resultados de las métricas de cada modelo, cual de todos los modelos entrenados fue el superador, y una breve descripción del mismo."
      ]
    },
    {
      "cell_type": "markdown",
      "metadata": {
        "id": "Fa6doNkzAEqN"
      },
      "source": [
        "## 2. Código y análisis"
      ]
    },
    {
      "cell_type": "markdown",
      "metadata": {
        "id": "7pG5OB1VAEqN"
      },
      "source": [
        "Instalaciones necesarias."
      ]
    },
    {
      "cell_type": "code",
      "metadata": {
        "colab": {
          "base_uri": "https://localhost:8080/"
        },
        "id": "I7iaVddFAEqO",
        "outputId": "176123e4-b4be-4610-9e8b-1871c17afb73"
      },
      "source": [
        "!pip install Unidecode\n",
        "!pip install keras-tuner"
      ],
      "execution_count": 1,
      "outputs": [
        {
          "output_type": "stream",
          "name": "stdout",
          "text": [
            "Requirement already satisfied: Unidecode in /usr/local/lib/python3.7/dist-packages (1.3.2)\n",
            "Requirement already satisfied: keras-tuner in /usr/local/lib/python3.7/dist-packages (1.0.4)\n",
            "Requirement already satisfied: tensorboard in /usr/local/lib/python3.7/dist-packages (from keras-tuner) (2.6.0)\n",
            "Requirement already satisfied: scipy in /usr/local/lib/python3.7/dist-packages (from keras-tuner) (1.4.1)\n",
            "Requirement already satisfied: packaging in /usr/local/lib/python3.7/dist-packages (from keras-tuner) (21.0)\n",
            "Requirement already satisfied: numpy in /usr/local/lib/python3.7/dist-packages (from keras-tuner) (1.19.5)\n",
            "Requirement already satisfied: kt-legacy in /usr/local/lib/python3.7/dist-packages (from keras-tuner) (1.0.4)\n",
            "Requirement already satisfied: requests in /usr/local/lib/python3.7/dist-packages (from keras-tuner) (2.23.0)\n",
            "Requirement already satisfied: ipython in /usr/local/lib/python3.7/dist-packages (from keras-tuner) (5.5.0)\n",
            "Requirement already satisfied: pexpect in /usr/local/lib/python3.7/dist-packages (from ipython->keras-tuner) (4.8.0)\n",
            "Requirement already satisfied: setuptools>=18.5 in /usr/local/lib/python3.7/dist-packages (from ipython->keras-tuner) (57.4.0)\n",
            "Requirement already satisfied: simplegeneric>0.8 in /usr/local/lib/python3.7/dist-packages (from ipython->keras-tuner) (0.8.1)\n",
            "Requirement already satisfied: traitlets>=4.2 in /usr/local/lib/python3.7/dist-packages (from ipython->keras-tuner) (5.1.0)\n",
            "Requirement already satisfied: pickleshare in /usr/local/lib/python3.7/dist-packages (from ipython->keras-tuner) (0.7.5)\n",
            "Requirement already satisfied: pygments in /usr/local/lib/python3.7/dist-packages (from ipython->keras-tuner) (2.6.1)\n",
            "Requirement already satisfied: prompt-toolkit<2.0.0,>=1.0.4 in /usr/local/lib/python3.7/dist-packages (from ipython->keras-tuner) (1.0.18)\n",
            "Requirement already satisfied: decorator in /usr/local/lib/python3.7/dist-packages (from ipython->keras-tuner) (4.4.2)\n",
            "Requirement already satisfied: wcwidth in /usr/local/lib/python3.7/dist-packages (from prompt-toolkit<2.0.0,>=1.0.4->ipython->keras-tuner) (0.2.5)\n",
            "Requirement already satisfied: six>=1.9.0 in /usr/local/lib/python3.7/dist-packages (from prompt-toolkit<2.0.0,>=1.0.4->ipython->keras-tuner) (1.15.0)\n",
            "Requirement already satisfied: pyparsing>=2.0.2 in /usr/local/lib/python3.7/dist-packages (from packaging->keras-tuner) (2.4.7)\n",
            "Requirement already satisfied: ptyprocess>=0.5 in /usr/local/lib/python3.7/dist-packages (from pexpect->ipython->keras-tuner) (0.7.0)\n",
            "Requirement already satisfied: urllib3!=1.25.0,!=1.25.1,<1.26,>=1.21.1 in /usr/local/lib/python3.7/dist-packages (from requests->keras-tuner) (1.24.3)\n",
            "Requirement already satisfied: idna<3,>=2.5 in /usr/local/lib/python3.7/dist-packages (from requests->keras-tuner) (2.10)\n",
            "Requirement already satisfied: chardet<4,>=3.0.2 in /usr/local/lib/python3.7/dist-packages (from requests->keras-tuner) (3.0.4)\n",
            "Requirement already satisfied: certifi>=2017.4.17 in /usr/local/lib/python3.7/dist-packages (from requests->keras-tuner) (2021.5.30)\n",
            "Requirement already satisfied: google-auth-oauthlib<0.5,>=0.4.1 in /usr/local/lib/python3.7/dist-packages (from tensorboard->keras-tuner) (0.4.6)\n",
            "Requirement already satisfied: werkzeug>=0.11.15 in /usr/local/lib/python3.7/dist-packages (from tensorboard->keras-tuner) (1.0.1)\n",
            "Requirement already satisfied: grpcio>=1.24.3 in /usr/local/lib/python3.7/dist-packages (from tensorboard->keras-tuner) (1.40.0)\n",
            "Requirement already satisfied: tensorboard-plugin-wit>=1.6.0 in /usr/local/lib/python3.7/dist-packages (from tensorboard->keras-tuner) (1.8.0)\n",
            "Requirement already satisfied: protobuf>=3.6.0 in /usr/local/lib/python3.7/dist-packages (from tensorboard->keras-tuner) (3.17.3)\n",
            "Requirement already satisfied: absl-py>=0.4 in /usr/local/lib/python3.7/dist-packages (from tensorboard->keras-tuner) (0.12.0)\n",
            "Requirement already satisfied: wheel>=0.26 in /usr/local/lib/python3.7/dist-packages (from tensorboard->keras-tuner) (0.37.0)\n",
            "Requirement already satisfied: tensorboard-data-server<0.7.0,>=0.6.0 in /usr/local/lib/python3.7/dist-packages (from tensorboard->keras-tuner) (0.6.1)\n",
            "Requirement already satisfied: markdown>=2.6.8 in /usr/local/lib/python3.7/dist-packages (from tensorboard->keras-tuner) (3.3.4)\n",
            "Requirement already satisfied: google-auth<2,>=1.6.3 in /usr/local/lib/python3.7/dist-packages (from tensorboard->keras-tuner) (1.35.0)\n",
            "Requirement already satisfied: pyasn1-modules>=0.2.1 in /usr/local/lib/python3.7/dist-packages (from google-auth<2,>=1.6.3->tensorboard->keras-tuner) (0.2.8)\n",
            "Requirement already satisfied: rsa<5,>=3.1.4 in /usr/local/lib/python3.7/dist-packages (from google-auth<2,>=1.6.3->tensorboard->keras-tuner) (4.7.2)\n",
            "Requirement already satisfied: cachetools<5.0,>=2.0.0 in /usr/local/lib/python3.7/dist-packages (from google-auth<2,>=1.6.3->tensorboard->keras-tuner) (4.2.2)\n",
            "Requirement already satisfied: requests-oauthlib>=0.7.0 in /usr/local/lib/python3.7/dist-packages (from google-auth-oauthlib<0.5,>=0.4.1->tensorboard->keras-tuner) (1.3.0)\n",
            "Requirement already satisfied: importlib-metadata in /usr/local/lib/python3.7/dist-packages (from markdown>=2.6.8->tensorboard->keras-tuner) (4.8.1)\n",
            "Requirement already satisfied: pyasn1<0.5.0,>=0.4.6 in /usr/local/lib/python3.7/dist-packages (from pyasn1-modules>=0.2.1->google-auth<2,>=1.6.3->tensorboard->keras-tuner) (0.4.8)\n",
            "Requirement already satisfied: oauthlib>=3.0.0 in /usr/local/lib/python3.7/dist-packages (from requests-oauthlib>=0.7.0->google-auth-oauthlib<0.5,>=0.4.1->tensorboard->keras-tuner) (3.1.1)\n",
            "Requirement already satisfied: typing-extensions>=3.6.4 in /usr/local/lib/python3.7/dist-packages (from importlib-metadata->markdown>=2.6.8->tensorboard->keras-tuner) (3.7.4.3)\n",
            "Requirement already satisfied: zipp>=0.5 in /usr/local/lib/python3.7/dist-packages (from importlib-metadata->markdown>=2.6.8->tensorboard->keras-tuner) (3.5.0)\n"
          ]
        }
      ]
    },
    {
      "cell_type": "markdown",
      "metadata": {
        "id": "MMqPQcJdAEqQ"
      },
      "source": [
        "Importaciones necesarias"
      ]
    },
    {
      "cell_type": "code",
      "metadata": {
        "id": "cP11oV96AEqQ"
      },
      "source": [
        "import pandas as pd\n",
        "import numpy as np"
      ],
      "execution_count": 2,
      "outputs": []
    },
    {
      "cell_type": "markdown",
      "metadata": {
        "id": "7dBcEhsjAEqQ"
      },
      "source": [
        "Lectura de dataset reducido"
      ]
    },
    {
      "cell_type": "code",
      "metadata": {
        "id": "v24-T-NwAEqQ"
      },
      "source": [
        "df_dataset = pd.read_csv('DataSet/dataset.csv')"
      ],
      "execution_count": 3,
      "outputs": []
    },
    {
      "cell_type": "markdown",
      "metadata": {
        "id": "FZJYBCShAEqQ"
      },
      "source": [
        "Estudiamos el dataset brevemente antes de comenzar a operar sobre el mismo."
      ]
    },
    {
      "cell_type": "code",
      "metadata": {
        "colab": {
          "base_uri": "https://localhost:8080/",
          "height": 175
        },
        "id": "MIGFWRfkAEqR",
        "outputId": "a2a66dd7-54f4-4192-bbdf-c44e9e566d50"
      },
      "source": [
        "df_dataset.describe()"
      ],
      "execution_count": 4,
      "outputs": [
        {
          "output_type": "execute_result",
          "data": {
            "text/html": [
              "<div>\n",
              "<style scoped>\n",
              "    .dataframe tbody tr th:only-of-type {\n",
              "        vertical-align: middle;\n",
              "    }\n",
              "\n",
              "    .dataframe tbody tr th {\n",
              "        vertical-align: top;\n",
              "    }\n",
              "\n",
              "    .dataframe thead th {\n",
              "        text-align: right;\n",
              "    }\n",
              "</style>\n",
              "<table border=\"1\" class=\"dataframe\">\n",
              "  <thead>\n",
              "    <tr style=\"text-align: right;\">\n",
              "      <th></th>\n",
              "      <th>title</th>\n",
              "      <th>label_quality</th>\n",
              "      <th>language</th>\n",
              "      <th>category</th>\n",
              "    </tr>\n",
              "  </thead>\n",
              "  <tbody>\n",
              "    <tr>\n",
              "      <th>count</th>\n",
              "      <td>646760</td>\n",
              "      <td>646760</td>\n",
              "      <td>646760</td>\n",
              "      <td>646760</td>\n",
              "    </tr>\n",
              "    <tr>\n",
              "      <th>unique</th>\n",
              "      <td>646019</td>\n",
              "      <td>2</td>\n",
              "      <td>2</td>\n",
              "      <td>20</td>\n",
              "    </tr>\n",
              "    <tr>\n",
              "      <th>top</th>\n",
              "      <td>Korg Kronos X 73</td>\n",
              "      <td>unreliable</td>\n",
              "      <td>portuguese</td>\n",
              "      <td>PANTS</td>\n",
              "    </tr>\n",
              "    <tr>\n",
              "      <th>freq</th>\n",
              "      <td>2</td>\n",
              "      <td>551878</td>\n",
              "      <td>328992</td>\n",
              "      <td>35973</td>\n",
              "    </tr>\n",
              "  </tbody>\n",
              "</table>\n",
              "</div>"
            ],
            "text/plain": [
              "                   title label_quality    language category\n",
              "count             646760        646760      646760   646760\n",
              "unique            646019             2           2       20\n",
              "top     Korg Kronos X 73    unreliable  portuguese    PANTS\n",
              "freq                   2        551878      328992    35973"
            ]
          },
          "metadata": {},
          "execution_count": 4
        }
      ]
    },
    {
      "cell_type": "code",
      "metadata": {
        "colab": {
          "base_uri": "https://localhost:8080/"
        },
        "id": "z6HZkChSAEqR",
        "outputId": "f46c7bc1-e37e-49e0-80a4-3ec337639599"
      },
      "source": [
        "classes = np.sort(df_dataset.category.unique())\n",
        "\n",
        "print(f'Dimensiones: {df_dataset.shape}')\n",
        "print('----------')\n",
        "print(f'Variables: {list(df_dataset.columns)}')\n",
        "print('----------')\n",
        "print(f'Categorías: {list(classes)}')"
      ],
      "execution_count": 5,
      "outputs": [
        {
          "output_type": "stream",
          "name": "stdout",
          "text": [
            "Dimensiones: (646760, 4)\n",
            "----------\n",
            "Variables: ['title', 'label_quality', 'language', 'category']\n",
            "----------\n",
            "Categorías: ['BABY_CAR_SEATS', 'BABY_STROLLERS', 'COFFEE_MAKERS', 'ELECTRIC_DRILLS', 'HAIR_CLIPPERS', 'KITCHEN_SINKS', 'MATTRESSES', 'MEMORY_CARDS', 'MOTORCYCLE_JACKETS', 'MUSICAL_KEYBOARDS', 'PANTS', 'PUREBRED_DOGS', 'RANGES', 'REFRIGERATORS', 'ROLLER_SKATES', 'SEWING_MACHINES', 'SHORTS', 'SUITCASES', 'WALL_CLOCKS', 'WINES']\n"
          ]
        }
      ]
    },
    {
      "cell_type": "markdown",
      "metadata": {
        "id": "8G7lOsVAAEqS"
      },
      "source": [
        "**Sección 0**\n",
        "Preparando el conjunto de datos."
      ]
    },
    {
      "cell_type": "code",
      "metadata": {
        "id": "KdF2XlQTAEqS"
      },
      "source": [
        "from scripts.utils import cleaning\n",
        "\n",
        "df_dataset['clean_title'] = df_dataset.title.apply(cleaning)"
      ],
      "execution_count": 6,
      "outputs": []
    },
    {
      "cell_type": "code",
      "metadata": {
        "colab": {
          "base_uri": "https://localhost:8080/"
        },
        "id": "ErdoVmybAEqS",
        "outputId": "aaf0da1d-0228-4620-f0c1-ee4b1742ed3b"
      },
      "source": [
        "from sklearn.model_selection import train_test_split\n",
        "\n",
        "df_train, df_test = train_test_split(df_dataset, train_size=0.8, test_size=0.2, random_state=123)\n",
        "\n",
        "print(f'Dimensiones Entrenamiento: {df_train.shape}')\n",
        "print(f'Dimensiones Evaluación: {df_test.shape}')"
      ],
      "execution_count": 7,
      "outputs": [
        {
          "output_type": "stream",
          "name": "stdout",
          "text": [
            "Dimensiones Entrenamiento: (517408, 5)\n",
            "Dimensiones Evaluación: (129352, 5)\n"
          ]
        }
      ]
    },
    {
      "cell_type": "code",
      "metadata": {
        "id": "G6gK-G-JAEqT"
      },
      "source": [
        "# Datos de Entrenamiento\n",
        "X_train = df_train.clean_title.values\n",
        "y_train = df_train.category.values\n",
        "# Datos de Test\n",
        "X_test = df_test.clean_title.values\n",
        "y_test = df_test.category.values"
      ],
      "execution_count": 8,
      "outputs": []
    },
    {
      "cell_type": "markdown",
      "metadata": {
        "id": "Dfhpd5beKgH-"
      },
      "source": [
        "**Sección 0**\n",
        "Procesando el conjunto de datos."
      ]
    },
    {
      "cell_type": "code",
      "metadata": {
        "id": "kX8RtLA9AEqT"
      },
      "source": [
        "from keras.preprocessing.text import Tokenizer\n",
        "from keras.preprocessing.sequence import pad_sequences\n",
        "\n",
        "word_tokenizer = Tokenizer()\n",
        "# Aprendemos el Tokenizer en base a los datos de entrenamiento.\n",
        "word_tokenizer.fit_on_texts(X_train)\n",
        "# Longitud del Vocabulario en base a los datos de entrenamiento.\n",
        "vocab_length = len(word_tokenizer.word_index) + 1\n",
        "\n",
        "embedded_sentences_train = word_tokenizer.texts_to_sequences(X_train)\n",
        "embedded_sentences_test = word_tokenizer.texts_to_sequences(X_test)\n",
        "\n",
        "padded_sentences_train = pad_sequences(embedded_sentences_train, padding='post')\n",
        "# Longitud de Sentencias en base a los datos de entrenamiento.\n",
        "ammount_sentences, sentences_length = padded_sentences_train.shape\n",
        "\n",
        "padded_sentences_test = pad_sequences(embedded_sentences_test, padding='post', maxlen=sentences_length)"
      ],
      "execution_count": 9,
      "outputs": []
    },
    {
      "cell_type": "code",
      "metadata": {
        "id": "942_v7dBAEqU"
      },
      "source": [
        "from sklearn.preprocessing import LabelEncoder\n",
        "\n",
        "le = LabelEncoder()\n",
        "le.fit(classes)\n",
        "\n",
        "encoded_labels_train = le.transform(y_train)\n",
        "encoded_labels_test = le.transform(y_test)"
      ],
      "execution_count": 10,
      "outputs": []
    },
    {
      "cell_type": "code",
      "metadata": {
        "id": "vUOcbSauAEqU"
      },
      "source": [
        "from keras.layers.embeddings import Embedding\n",
        "\n",
        "dense_vector_size = 30\n",
        "embedding_layer = Embedding(vocab_length, dense_vector_size, input_length=sentences_length)"
      ],
      "execution_count": 11,
      "outputs": []
    },
    {
      "cell_type": "markdown",
      "metadata": {
        "id": "F2jQUELeAEqU"
      },
      "source": [
        "**Observación**\n",
        "\n",
        "Solo trabajaremos con *custom embeddings* por dificultades encontradas al adaptar el modelo a los *word vectors* preentrenados de **fastText**.\n",
        "Una tarea que quedará pendiente, será replantear el uso de esta herramienta."
      ]
    },
    {
      "cell_type": "markdown",
      "metadata": {
        "id": "eCDLZ1rVAEqU"
      },
      "source": [
        "**Sección 1**\n",
        "Modelado"
      ]
    },
    {
      "cell_type": "code",
      "metadata": {
        "id": "N_DS-sVlAEqU"
      },
      "source": [
        "from scripts.models import NN_Baseline, NN_LSTM, NN_Baseline_Regularized, NN_LSTM_Regularized\n",
        "\n",
        "m1 = NN_Baseline(embedding_layer, classes)\n",
        "m2 = NN_LSTM(embedding_layer, classes)\n",
        "m3 = NN_Baseline_Regularized(embedding_layer, classes)\n",
        "m4 = NN_LSTM_Regularized(embedding_layer, classes)\n",
        "\n",
        "models = {}\n",
        "stops = {}\n",
        "# Compilamos nuestros modelos.\n",
        "for m in [m1, m2, m3, m4]:\n",
        "  m.model_compile()\n",
        "  # Almacenamos el modelo correspondiente.\n",
        "  models[m.name] = m.model\n",
        "  # Almacenamos la opción de Early Stopping.\n",
        "  stops[m.name] = m.model_allow_stop()"
      ],
      "execution_count": 12,
      "outputs": []
    },
    {
      "cell_type": "markdown",
      "metadata": {
        "id": "wdbTubeaAEqV"
      },
      "source": [
        "Se trabajará con cuatro modelos diferentes.\n",
        "\n",
        "- `Baseline` Consiste simplemente de capas densas, con función de activación sigmoide.\n",
        "- `Baseline Regularized` Se aplican técnicas de regularización sobre el modelo original. Utilizamos *weight decay* sobre las capas densas, y se permite *early stopping* en su entrenamiento.\n",
        "- `LSTM` Consiste de capas densas, con función de activación sigmoide, junto con una capa *lstm*.\n",
        "- `LSTM Regularized` Se aplican técnicas de regularización sobre el modelo original. Utilizamos *weight decay* sobre las capas densas y la capa *lstm*, y se permite *early stopping* en su entrenamiento."
      ]
    },
    {
      "cell_type": "markdown",
      "metadata": {
        "id": "kUuWa-3IAEqV"
      },
      "source": [
        "**Sección 2**\n",
        "Regularización\n",
        "\n",
        "En base a la lista de técnicas que tenemos disponible, realizamos una breve investigación de cada una antes de comenzar con su implementación.\n",
        "A continuación mencionamos algunas de sus características relevantes.\n",
        "\n",
        "- **Experimentar con los tamaños del modelo**\n",
        "\n",
        "La idea es modificar la arquitectura de la red.\n",
        "Nuestro modelo `Baseline`, por dar un ejemplo, tiene **2** capas ocultas densas, con **256** y **128** neuronas respectivamente.\n",
        "Es una arquitectura definida totalmente de manera arbitraria, y sin ningún fundamento para respaldarla.\n",
        "Durante la experimentación podríamos modificar la cantidad de capas ocultas y/o la cantidad de neuronas en cada una.\n",
        "Quizás reduciendo alguna de estas cantidades podríamos regularizar el aprendizaje y evitar el *overfitting* observado en el **TP** anterior.\n",
        "\n",
        "- **Distinos valores de *batch size***\n",
        "\n",
        "El *batch size* determina la cantidad de muestras que serán propagadas por la red (en una iteración de *forward pass* y *backward pass*).\n",
        "Utilizar un tamaño **pequeño** reduce el uso de memoria, y generalmente acelera el entrenamiento al actualizar los pesos luego de cada propagación.\n",
        "Utilizar un tamaño **grande** mejora la precisión de la estimación del gradiente, al observar una mayor cantidad de datos de entrenamiento se puede realizar una actualización más certera de los pesos de la red.\n",
        "\n",
        "- **Utilizar *dropout* y *batch normalization***\n",
        "\n",
        "**Dropout** es una técnica donde ciertas neuronas seleccionadas aleatoriamente son ignoradas durante el entrenamiento.\n",
        "Lo cual significa que no contribuirán en la activación de neuronas durante el *forward pass*, y no se le aplicará ninguna actualización de pesos durante el *backward pass*.\n",
        "El objetivo es que la red sea menos sensible a los pesos específicos de las neuronas, y que sea capaz de generalizar mejor.\n",
        "\n",
        "**Batch Normalization** es una capa para normalizar la muestra que recibe.\n",
        "Aplica una transformación que mantiene la *media* cercana a **0**, y su *desviación estándar* cercana a **1**.\n",
        "El objetivo es evitar que ciertas características de los datos dominen el entrenamiento de la red neuronal por sobre las demás.\n",
        "\n",
        "- **Distintos valores de *learning rate***\n",
        "\n",
        "Una red neuronal es entrenada utilizando el algoritmo de optimización **Descenso de Gradiente Estocástico** (*SGD*).\n",
        "El *learning rate* es el hiperparámetro que controla cuanto cambiará el modelo en respuesta al error estimado cada vez que los pesos de la red son actualizados.\n",
        "Una tasa de aprendizaje **pequeña** podría resultar en un entrenamiento largo, el cual puede no converger.\n",
        "Una tasa de aprendizaje **grande** podría aprender un conjunto de pesos subóptimos, con un entrenamiento inestable.\n",
        "\n",
        "- **Utilizar *weight decay* y *early stopping***\n",
        "\n",
        "**Weight Decay** es una técnica de regularización utilizada en redes neuronales.\n",
        "La idea consiste en agregar un término a la pérdida, el cual sea proporcional a la magnitud de los pesos de la red.\n",
        "De esta manera, durante el proceso de entrenamiento, se intentaría decrementar el valor de los pesos.\n",
        "\n",
        "**Early Stopping** es un método que permite detener el entrenamiento una vez que la red neuronal deja de mejorar su rendimiento.\n",
        "El problema que se intenta solucionar es la elección del número de épocas de entrenamiento.\n",
        "Una cantidad de *epochs* demasiado **grande** puede producir *overfitting*.\n",
        "Una cantidad de *epochs* demasiado **pequeña** puede producir *underfitting*."
      ]
    },
    {
      "cell_type": "code",
      "metadata": {
        "colab": {
          "base_uri": "https://localhost:8080/"
        },
        "id": "ZgZxp-hVAEqV",
        "outputId": "00b5523b-e45e-42ea-dfe1-62d604f661f3"
      },
      "source": [
        "from scripts.train import train\n",
        "\n",
        "training = {}\n",
        "for name, model in models.items():\n",
        "  print(f'{name}:')\n",
        "  history = train(name, model, padded_sentences_train, encoded_labels_train, allow_stop=stops[name])\n",
        "  training[name] = history"
      ],
      "execution_count": 13,
      "outputs": [
        {
          "output_type": "stream",
          "name": "stdout",
          "text": [
            "NN_Baseline:\n",
            "Epoch 1/10\n",
            "12936/12936 [==============================] - 120s 9ms/step - loss: 0.2471 - accuracy: 0.9308 - val_loss: 0.0631 - val_accuracy: 0.9841\n",
            "Epoch 2/10\n",
            "12936/12936 [==============================] - 116s 9ms/step - loss: 0.0447 - accuracy: 0.9883 - val_loss: 0.0613 - val_accuracy: 0.9850\n",
            "Epoch 3/10\n",
            "12936/12936 [==============================] - 116s 9ms/step - loss: 0.0285 - accuracy: 0.9925 - val_loss: 0.0611 - val_accuracy: 0.9862\n",
            "Epoch 4/10\n",
            "12936/12936 [==============================] - 116s 9ms/step - loss: 0.0206 - accuracy: 0.9948 - val_loss: 0.0650 - val_accuracy: 0.9860\n",
            "Epoch 5/10\n",
            "12936/12936 [==============================] - 115s 9ms/step - loss: 0.0161 - accuracy: 0.9958 - val_loss: 0.0705 - val_accuracy: 0.9857\n",
            "Epoch 6/10\n",
            "12936/12936 [==============================] - 115s 9ms/step - loss: 0.0137 - accuracy: 0.9964 - val_loss: 0.0746 - val_accuracy: 0.9859\n",
            "Epoch 7/10\n",
            "12936/12936 [==============================] - 116s 9ms/step - loss: 0.0116 - accuracy: 0.9970 - val_loss: 0.0789 - val_accuracy: 0.9851\n",
            "Epoch 8/10\n",
            "12936/12936 [==============================] - 116s 9ms/step - loss: 0.0105 - accuracy: 0.9972 - val_loss: 0.0802 - val_accuracy: 0.9853\n",
            "Epoch 9/10\n",
            "12936/12936 [==============================] - 116s 9ms/step - loss: 0.0097 - accuracy: 0.9974 - val_loss: 0.0868 - val_accuracy: 0.9850\n",
            "Epoch 10/10\n",
            "12936/12936 [==============================] - 116s 9ms/step - loss: 0.0089 - accuracy: 0.9976 - val_loss: 0.0889 - val_accuracy: 0.9852\n",
            "NN_LSTM:\n",
            "Epoch 1/10\n",
            "12936/12936 [==============================] - 166s 12ms/step - loss: 0.2164 - accuracy: 0.9297 - val_loss: 0.0719 - val_accuracy: 0.9840\n",
            "Epoch 2/10\n",
            "12936/12936 [==============================] - 161s 12ms/step - loss: 0.0271 - accuracy: 0.9935 - val_loss: 0.0724 - val_accuracy: 0.9847\n",
            "Epoch 3/10\n",
            "12936/12936 [==============================] - 170s 13ms/step - loss: 0.0180 - accuracy: 0.9956 - val_loss: 0.0713 - val_accuracy: 0.9868\n",
            "Epoch 4/10\n",
            "12936/12936 [==============================] - 161s 12ms/step - loss: 0.0139 - accuracy: 0.9966 - val_loss: 0.0698 - val_accuracy: 0.9865\n",
            "Epoch 5/10\n",
            "12936/12936 [==============================] - 161s 12ms/step - loss: 0.0116 - accuracy: 0.9971 - val_loss: 0.0799 - val_accuracy: 0.9869\n",
            "Epoch 6/10\n",
            "12936/12936 [==============================] - 162s 12ms/step - loss: 0.0100 - accuracy: 0.9975 - val_loss: 0.0860 - val_accuracy: 0.9863\n",
            "Epoch 7/10\n",
            "12936/12936 [==============================] - 160s 12ms/step - loss: 0.0090 - accuracy: 0.9978 - val_loss: 0.0891 - val_accuracy: 0.9867\n",
            "Epoch 8/10\n",
            "12936/12936 [==============================] - 161s 12ms/step - loss: 0.0080 - accuracy: 0.9980 - val_loss: 0.0946 - val_accuracy: 0.9861\n",
            "Epoch 9/10\n",
            "12936/12936 [==============================] - 161s 12ms/step - loss: 0.0073 - accuracy: 0.9981 - val_loss: 0.1069 - val_accuracy: 0.9850\n",
            "Epoch 10/10\n",
            "12936/12936 [==============================] - 161s 12ms/step - loss: 0.0067 - accuracy: 0.9983 - val_loss: 0.1089 - val_accuracy: 0.9851\n",
            "NN_Baseline_Regularized:\n",
            "Epoch 1/10\n",
            "12936/12936 [==============================] - 122s 9ms/step - loss: 0.1581 - accuracy: 0.9716 - val_loss: 0.1122 - val_accuracy: 0.9816\n",
            "Epoch 2/10\n",
            "12936/12936 [==============================] - 120s 9ms/step - loss: 0.0561 - accuracy: 0.9931 - val_loss: 0.0821 - val_accuracy: 0.9858\n",
            "Epoch 3/10\n",
            "12936/12936 [==============================] - 120s 9ms/step - loss: 0.0461 - accuracy: 0.9942 - val_loss: 0.0776 - val_accuracy: 0.9865\n",
            "Epoch 4/10\n",
            "12936/12936 [==============================] - 120s 9ms/step - loss: 0.0405 - accuracy: 0.9949 - val_loss: 0.0791 - val_accuracy: 0.9857\n",
            "Restoring model weights from the end of the best epoch.\n",
            "Epoch 00004: early stopping\n",
            "NN_LSTM_Regularized:\n",
            "Epoch 1/10\n",
            "12936/12936 [==============================] - 168s 13ms/step - loss: 0.1571 - accuracy: 0.9683 - val_loss: 0.0994 - val_accuracy: 0.9866\n",
            "Epoch 2/10\n",
            "12936/12936 [==============================] - 165s 13ms/step - loss: 0.0429 - accuracy: 0.9956 - val_loss: 0.0933 - val_accuracy: 0.9869\n",
            "Epoch 3/10\n",
            "12936/12936 [==============================] - 174s 13ms/step - loss: 0.0365 - accuracy: 0.9962 - val_loss: 0.1081 - val_accuracy: 0.9857\n",
            "Restoring model weights from the end of the best epoch.\n",
            "Epoch 00003: early stopping\n"
          ]
        }
      ]
    },
    {
      "cell_type": "markdown",
      "metadata": {
        "id": "3gvgRfBIQ-SZ"
      },
      "source": [
        "Con esto ya hemos entrenado nuestros cuatro modelos, tanto los originales (`Baseline` y `LSTM`) como sus versiones regularizadas (`Baseline Regularized` y `LSTM Regularized`).\n",
        "\n",
        "Notar que solo estamos experimentando con *weight decay* y *early stopping* como técnicas de regularización."
      ]
    },
    {
      "cell_type": "code",
      "metadata": {
        "colab": {
          "base_uri": "https://localhost:8080/",
          "height": 1000
        },
        "id": "JnuUYoycAEqW",
        "outputId": "87baacb2-fb97-4324-b0b1-5727e0d08f53"
      },
      "source": [
        "from scripts.metrics import plot_accuracy_and_loss\n",
        "\n",
        "for name, train in training.items():\n",
        "  plot_accuracy_and_loss(name, train)"
      ],
      "execution_count": 14,
      "outputs": [
        {
          "output_type": "display_data",
          "data": {
            "image/png": "[encoded data removed]",
            "text/plain": [
              "<Figure size 864x432 with 2 Axes>"
            ]
          },
          "metadata": {
            "needs_background": "light"
          }
        },
        {
          "output_type": "display_data",
          "data": {
            "image/png": "[encoded data removed]",
            "text/plain": [
              "<Figure size 864x432 with 2 Axes>"
            ]
          },
          "metadata": {
            "needs_background": "light"
          }
        },
        {
          "output_type": "display_data",
          "data": {
            "image/png": "[encoded data removed]",
            "text/plain": [
              "<Figure size 864x432 with 2 Axes>"
            ]
          },
          "metadata": {
            "needs_background": "light"
          }
        },
        {
          "output_type": "display_data",
          "data": {
            "image/png": "[encoded data removed]",
            "text/plain": [
              "<Figure size 864x432 with 2 Axes>"
            ]
          },
          "metadata": {
            "needs_background": "light"
          }
        }
      ]
    },
    {
      "cell_type": "markdown",
      "metadata": {
        "id": "enTjXM8lcDZl"
      },
      "source": [
        "Es posible observar en las gráficas que los modelos originales empiezan a experimentar *overfitting* de forma bastante prematura en su entrenamiento.\n",
        "Incluso pareciera que su función de pérdida fuese creciente (cuando idealmente quisiéramos que fuera decreciente).\n",
        "\n",
        "En cambio, para los modelos regularizados, se observa que su entrenamiento es bastante breve.\n",
        "Tan pronto hay indicios de *overfitting*, se finaliza el entrenamiento y se retornan los pesos del modelo a la mejor configuración encontrada."
      ]
    },
    {
      "cell_type": "code",
      "metadata": {
        "colab": {
          "base_uri": "https://localhost:8080/"
        },
        "id": "WagDTu3QAEqW",
        "outputId": "f51b4d48-98cb-4b78-b1af-85bed478ba1f"
      },
      "source": [
        "from scripts.metrics import show_balanced_accuracy\n",
        "\n",
        "for name, model in models.items():\n",
        "  show_balanced_accuracy(name, model, padded_sentences_test, encoded_labels_test, df_test)"
      ],
      "execution_count": 15,
      "outputs": [
        {
          "output_type": "stream",
          "name": "stdout",
          "text": [
            "NN_Baseline\n",
            "Balanced Accuracy (General): 0.868309063693738\n",
            "Balanced Accuracy (Reliable): 0.8653958049846823\n",
            "Balanced Accuracy (Unreliable): 0.8686115515697246\n",
            "NN_LSTM\n",
            "Balanced Accuracy (General): 0.9836447196855701\n",
            "Balanced Accuracy (Reliable): 0.9917904438397839\n",
            "Balanced Accuracy (Unreliable): 0.9821935175409504\n",
            "NN_Baseline_Regularized\n",
            "Balanced Accuracy (General): 0.986818614208075\n",
            "Balanced Accuracy (Reliable): 0.9937570141331481\n",
            "Balanced Accuracy (Unreliable): 0.985600475550951\n",
            "NN_LSTM_Regularized\n",
            "Balanced Accuracy (General): 0.9871401527286825\n",
            "Balanced Accuracy (Reliable): 0.994456788690079\n",
            "Balanced Accuracy (Unreliable): 0.9858739272250835\n"
          ]
        }
      ]
    },
    {
      "cell_type": "markdown",
      "metadata": {
        "id": "eB-TfAnmhFh-"
      },
      "source": [
        "Notar que los modelos regularizados superan en todas las métricas (al estudiar la *balanced accuracy*) a los modelos originales en los que están basados.\n",
        "Probablemente sea causa de haber conservado la mejor configuración encontrada durante el entrenamiento de sus pesos.\n",
        "\n",
        "A simple vista, el mejor modelo es `LSTM Regularized`."
      ]
    },
    {
      "cell_type": "code",
      "metadata": {
        "colab": {
          "base_uri": "https://localhost:8080/",
          "height": 175
        },
        "id": "ewfoA6G0AEqW",
        "outputId": "cacf399e-fca6-47fa-b0a2-f9a7837a27f1"
      },
      "source": [
        "data = []\n",
        "for name, model in models.items():\n",
        "  loss, accuracy = model.evaluate(padded_sentences_test, encoded_labels_test, verbose=0)\n",
        "  data.append({'Model Name': name, 'Test Loss': loss, 'Test Accuracy': accuracy})\n",
        "\n",
        "df = pd.DataFrame(data)\n",
        "\n",
        "df"
      ],
      "execution_count": 16,
      "outputs": [
        {
          "output_type": "execute_result",
          "data": {
            "text/html": [
              "<div>\n",
              "<style scoped>\n",
              "    .dataframe tbody tr th:only-of-type {\n",
              "        vertical-align: middle;\n",
              "    }\n",
              "\n",
              "    .dataframe tbody tr th {\n",
              "        vertical-align: top;\n",
              "    }\n",
              "\n",
              "    .dataframe thead th {\n",
              "        text-align: right;\n",
              "    }\n",
              "</style>\n",
              "<table border=\"1\" class=\"dataframe\">\n",
              "  <thead>\n",
              "    <tr style=\"text-align: right;\">\n",
              "      <th></th>\n",
              "      <th>Model Name</th>\n",
              "      <th>Test Loss</th>\n",
              "      <th>Test Accuracy</th>\n",
              "    </tr>\n",
              "  </thead>\n",
              "  <tbody>\n",
              "    <tr>\n",
              "      <th>0</th>\n",
              "      <td>NN_Baseline</td>\n",
              "      <td>0.848265</td>\n",
              "      <td>0.867926</td>\n",
              "    </tr>\n",
              "    <tr>\n",
              "      <th>1</th>\n",
              "      <td>NN_LSTM</td>\n",
              "      <td>0.117211</td>\n",
              "      <td>0.983518</td>\n",
              "    </tr>\n",
              "    <tr>\n",
              "      <th>2</th>\n",
              "      <td>NN_Baseline_Regularized</td>\n",
              "      <td>0.079272</td>\n",
              "      <td>0.986788</td>\n",
              "    </tr>\n",
              "    <tr>\n",
              "      <th>3</th>\n",
              "      <td>NN_LSTM_Regularized</td>\n",
              "      <td>0.092656</td>\n",
              "      <td>0.987128</td>\n",
              "    </tr>\n",
              "  </tbody>\n",
              "</table>\n",
              "</div>"
            ],
            "text/plain": [
              "                Model Name  Test Loss  Test Accuracy\n",
              "0              NN_Baseline   0.848265       0.867926\n",
              "1                  NN_LSTM   0.117211       0.983518\n",
              "2  NN_Baseline_Regularized   0.079272       0.986788\n",
              "3      NN_LSTM_Regularized   0.092656       0.987128"
            ]
          },
          "metadata": {},
          "execution_count": 16
        }
      ]
    },
    {
      "cell_type": "markdown",
      "metadata": {
        "id": "vCcWfN-0ixGl"
      },
      "source": [
        "Y una vez más, se observa que los modelos regularizados superan a los modelos originales."
      ]
    },
    {
      "cell_type": "markdown",
      "metadata": {
        "id": "eXQ0WbLaAEqX"
      },
      "source": [
        "**Sección 3**\n",
        "Ajuste de Hiperparámetros\n",
        "\n",
        "En esta sección utilizaremos la librería `keras_tuner`, la cual nos ayudará a buscar los parámetros óptimos para nuestra red neuronal.\n",
        "Construiremos un modelo con algunos elementos no definidos y será tarea del ajustador encontrar un conjunto de parámetros que maximicen la capacidad predictiva del mismo.\n",
        "\n",
        "Notar que estaremos experimentando con la arquitectura de la red neuronal, y su respectiva tasa de aprendizaje."
      ]
    },
    {
      "cell_type": "code",
      "metadata": {
        "id": "5wVdGcBVrrxs"
      },
      "source": [
        "from keras_tuner.tuners import RandomSearch\n",
        "\n",
        "from keras.models import Sequential\n",
        "from keras.layers import Dense, LSTM, Flatten\n",
        "from keras.callbacks import EarlyStopping\n",
        "\n",
        "from tensorflow.keras.optimizers import Adam"
      ],
      "execution_count": 17,
      "outputs": []
    },
    {
      "cell_type": "code",
      "metadata": {
        "id": "l_6QITXGrhLC"
      },
      "source": [
        "def NN_Builder(HP):\n",
        "  \"\"\"\n",
        "  Definición de NN para la búsqueda de hiperparámetros.\n",
        "  Intentamos encontrar...\n",
        "  - #Neuronas en la Capa de LSTM\n",
        "  - #Capas Densas\n",
        "  - #Neuronas en cada Capa Densa\n",
        "  - Activación de cada Capa Densa\n",
        "  - Tasa de Aprendizaje\n",
        "  \"\"\"\n",
        "  model = Sequential()\n",
        "  # Entrada del Modelo\n",
        "  model.add(embedding_layer)\n",
        "  # Neuronas en Capa LSTM\n",
        "  LSTM_units = HP.Int('LSTM_units', min_value=32, max_value=128, step=32)\n",
        "  model.add(LSTM(LSTM_units))\n",
        "  # Capas Densas\n",
        "  Dense_layers = HP.Int('Dense_layers', min_value=1, max_value=5)\n",
        "  for i in range(1, Dense_layers + 1):\n",
        "    # Neuronas en Capa Densa\n",
        "    Dense_units = HP.Int(f'Dense_units_{str(i)}', min_value=32, max_value=512, step=32)\n",
        "    # Activación en Capa Densa\n",
        "    Dense_activation = HP.Choice(f'Dense_activation_{str(i)}', ['sigmoid', 'relu'])\n",
        "    model.add(Dense(Dense_units, activation=Dense_activation))\n",
        "  # Salida del Modelo\n",
        "  model.add(Flatten())\n",
        "  model.add(Dense(len(classes), activation='softmax'))\n",
        "  # Learning Rate\n",
        "  Model_lr = HP.Choice('Model_lr', [1e-1, 1e-2, 1e-3, 1e-4, 1e-5])\n",
        "  # Compilamos el modelo definido\n",
        "  model.compile(optimizer=Adam(Model_lr), loss='sparse_categorical_crossentropy', metrics=['accuracy'])\n",
        "\n",
        "  return model"
      ],
      "execution_count": 18,
      "outputs": []
    },
    {
      "cell_type": "markdown",
      "metadata": {
        "id": "HnTqKWiYY1vK"
      },
      "source": [
        "Ahora es necesario definir el espacio de búsqueda para nuestro ajustador.\n",
        "Utilizaremos `RandomSearch` ya que el espacio es demasiado grande, y no contamos con el tiempo suficiente para realizar una búsqueda exhaustiva."
      ]
    },
    {
      "cell_type": "code",
      "metadata": {
        "id": "ALPZB4g_z5yp",
        "colab": {
          "base_uri": "https://localhost:8080/"
        },
        "outputId": "61f2b384-6068-4156-e868-7ea2f250a957"
      },
      "source": [
        "tuner = RandomSearch(NN_Builder,\n",
        "                     objective='val_accuracy',\n",
        "                     max_trials=50,\n",
        "                     seed=123,\n",
        "                     directory='MeLi_NeuralNetwork',\n",
        "                     project_name='RandomSearch')\n",
        "\n",
        "tuner.search_space_summary()"
      ],
      "execution_count": 19,
      "outputs": [
        {
          "output_type": "stream",
          "name": "stdout",
          "text": [
            "Search space summary\n",
            "Default search space size: 5\n",
            "LSTM_units (Int)\n",
            "{'default': None, 'conditions': [], 'min_value': 32, 'max_value': 128, 'step': 32, 'sampling': None}\n",
            "Dense_layers (Int)\n",
            "{'default': None, 'conditions': [], 'min_value': 1, 'max_value': 5, 'step': 1, 'sampling': None}\n",
            "Dense_units_1 (Int)\n",
            "{'default': None, 'conditions': [], 'min_value': 32, 'max_value': 512, 'step': 32, 'sampling': None}\n",
            "Dense_activation_1 (Choice)\n",
            "{'default': 'sigmoid', 'conditions': [], 'values': ['sigmoid', 'relu'], 'ordered': False}\n",
            "Model_lr (Choice)\n",
            "{'default': 0.1, 'conditions': [], 'values': [0.1, 0.01, 0.001, 0.0001, 1e-05], 'ordered': True}\n"
          ]
        }
      ]
    },
    {
      "cell_type": "markdown",
      "metadata": {
        "id": "7MtBFwk2jtrC"
      },
      "source": [
        "A simple vista, pareciera que el espacio de búsqueda posee cinco dimensiones.\n",
        "Hay que tener en cuenta que en realidad es mucho mayor, ya que por cada `Dense_layer` habrá otra elección de `Dense_units_i` y `Dense_activation_i`.\n",
        "\n",
        "Vamos a realizar **50** intentos."
      ]
    },
    {
      "cell_type": "code",
      "metadata": {
        "colab": {
          "base_uri": "https://localhost:8080/"
        },
        "id": "CC59_Yvd7lUZ",
        "outputId": "90333634-f27c-4cfc-a6b0-5a4cacf8a0ed"
      },
      "source": [
        "tuner.search(padded_sentences_train,\n",
        "             encoded_labels_train,\n",
        "             validation_split=0.2,\n",
        "             epochs=1)"
      ],
      "execution_count": 20,
      "outputs": [
        {
          "output_type": "stream",
          "name": "stdout",
          "text": [
            "Trial 50 Complete [00h 03m 24s]\n",
            "val_accuracy: 0.9840745329856873\n",
            "\n",
            "Best val_accuracy So Far: 0.9874277710914612\n",
            "Total elapsed time: 02h 32m 15s\n",
            "INFO:tensorflow:Oracle triggered exit\n"
          ]
        }
      ]
    },
    {
      "cell_type": "markdown",
      "metadata": {
        "id": "E1Ssqrkwmnrh"
      },
      "source": [
        "**Sección 3**\n",
        "Resultados de la Búsqueda"
      ]
    },
    {
      "cell_type": "code",
      "metadata": {
        "colab": {
          "base_uri": "https://localhost:8080/"
        },
        "id": "QPG2ggx1dCcA",
        "outputId": "7db3c1a1-7c19-45f8-fe85-17f8ca9f74cd"
      },
      "source": [
        "# Obtenemos los mejores hiperparámetros encontrados durante la búsqueda.\n",
        "best_hyperparameters = tuner.get_best_hyperparameters()[0]\n",
        "\n",
        "LSTM_units = best_hyperparameters.get('LSTM_units')\n",
        "print(f'#Neuronas LSTM: {LSTM_units}')\n",
        "\n",
        "Dense_layers = best_hyperparameters.get('Dense_layers')\n",
        "print(f'#Capas Densas: {Dense_layers}')\n",
        "\n",
        "for i in range(1, Dense_layers + 1):\n",
        "  units = best_hyperparameters.get(f'Dense_units_{i}')\n",
        "  activation = best_hyperparameters.get(f'Dense_activation_{i}')\n",
        "  print(f'\\t{i} | #Neuronas: {units} | Activación: {activation}')\n",
        "\n",
        "Model_lr = best_hyperparameters.get('Model_lr')\n",
        "print(f'Tasa de Aprendizaje: {Model_lr}')"
      ],
      "execution_count": 21,
      "outputs": [
        {
          "output_type": "stream",
          "name": "stdout",
          "text": [
            "#Neuronas LSTM: 64\n",
            "#Capas Densas: 1\n",
            "\t1 | #Neuronas: 128 | Activación: relu\n",
            "Tasa de Aprendizaje: 0.001\n"
          ]
        }
      ]
    },
    {
      "cell_type": "markdown",
      "metadata": {
        "id": "4kM_1y9R-rIe"
      },
      "source": [
        "Parece que el mejor modelo encontrado es mucho más simple en comparación a los que estuvimos entrenando."
      ]
    },
    {
      "cell_type": "code",
      "metadata": {
        "colab": {
          "base_uri": "https://localhost:8080/"
        },
        "id": "-TaPdPcYee8A",
        "outputId": "e0992528-9cc6-433d-8e17-caecfb30884e"
      },
      "source": [
        "# Construyo el modelo con los mejores parámetros encontrados durante la búsqueda.\n",
        "best_model = tuner.hypermodel.build(best_hyperparameters)\n",
        "name = 'NN_Builder'\n",
        "\n",
        "# Definimos un Early Stopping ya que parecen producir buenos resultados.\n",
        "early_stop = EarlyStopping(monitor='val_accuracy',\n",
        "                           mode='max',\n",
        "                           restore_best_weights=True,\n",
        "                           patience=1,\n",
        "                           verbose=1)\n",
        "\n",
        "# Realizamos un entrenamiento completo de nuestro mejor modelo encontrado.\n",
        "print(f'{name}:')\n",
        "history = best_model.fit(padded_sentences_train,\n",
        "                         encoded_labels_train,\n",
        "                         validation_split=0.2,\n",
        "                         callbacks=[early_stop],\n",
        "                         epochs=10,\n",
        "                         verbose=1)"
      ],
      "execution_count": 22,
      "outputs": [
        {
          "output_type": "stream",
          "name": "stdout",
          "text": [
            "NN_Builder:\n",
            "Epoch 1/10\n",
            "12936/12936 [==============================] - 154s 12ms/step - loss: 0.0413 - accuracy: 0.9895 - val_loss: 0.0634 - val_accuracy: 0.9874\n",
            "Epoch 2/10\n",
            "12936/12936 [==============================] - 152s 12ms/step - loss: 0.0142 - accuracy: 0.9965 - val_loss: 0.0671 - val_accuracy: 0.9873\n",
            "Restoring model weights from the end of the best epoch.\n",
            "Epoch 00002: early stopping\n"
          ]
        }
      ]
    },
    {
      "cell_type": "markdown",
      "metadata": {
        "id": "2tNcJJcVm8Cm"
      },
      "source": [
        "Con el mejor modelo encontrado ya entrenado completamente, es hora de estudiar su desempeño a la hora de predecir."
      ]
    },
    {
      "cell_type": "code",
      "metadata": {
        "colab": {
          "base_uri": "https://localhost:8080/",
          "height": 441
        },
        "id": "jA9Y3JyvtsuX",
        "outputId": "234add55-0fb7-4911-95e4-ed64b42b9b53"
      },
      "source": [
        "plot_accuracy_and_loss(name, history)"
      ],
      "execution_count": 23,
      "outputs": [
        {
          "output_type": "display_data",
          "data": {
            "image/png": "[encoded data removed]",
            "text/plain": [
              "<Figure size 864x432 with 2 Axes>"
            ]
          },
          "metadata": {
            "needs_background": "light"
          }
        }
      ]
    },
    {
      "cell_type": "markdown",
      "metadata": {
        "id": "q8tygvB6ASEu"
      },
      "source": [
        "Claramente la gráfica no nos dice mucho, ya que la red neuronal solo entrenó por un par de *epochs*."
      ]
    },
    {
      "cell_type": "code",
      "metadata": {
        "colab": {
          "base_uri": "https://localhost:8080/"
        },
        "id": "-EPwJ-YtoCLL",
        "outputId": "b17d454f-247c-48dd-8213-1ddef885c69a"
      },
      "source": [
        "show_balanced_accuracy(name, best_model, padded_sentences_test, encoded_labels_test, df_test)"
      ],
      "execution_count": 24,
      "outputs": [
        {
          "output_type": "stream",
          "name": "stdout",
          "text": [
            "NN_Builder\n",
            "Balanced Accuracy (General): 0.9872260182920065\n",
            "Balanced Accuracy (Reliable): 0.994185890947449\n",
            "Balanced Accuracy (Unreliable): 0.986055546373333\n"
          ]
        }
      ]
    },
    {
      "cell_type": "markdown",
      "metadata": {
        "id": "f7od9xKRAEqX"
      },
      "source": [
        "**Sección 4**\n",
        "Documentación de Resultados"
      ]
    },
    {
      "cell_type": "code",
      "metadata": {
        "colab": {
          "base_uri": "https://localhost:8080/",
          "height": 206
        },
        "id": "lc4Ttds9tZBT",
        "outputId": "820e7a76-198d-428e-a0aa-867c9f8d5aa3"
      },
      "source": [
        "loss, accuracy = best_model.evaluate(padded_sentences_test, encoded_labels_test, verbose=0)\n",
        "\n",
        "data = {'Model Name': name, 'Test Loss': loss, 'Test Accuracy': accuracy}\n",
        "\n",
        "df = df.append(data, ignore_index=True)\n",
        "\n",
        "df"
      ],
      "execution_count": 25,
      "outputs": [
        {
          "output_type": "execute_result",
          "data": {
            "text/html": [
              "<div>\n",
              "<style scoped>\n",
              "    .dataframe tbody tr th:only-of-type {\n",
              "        vertical-align: middle;\n",
              "    }\n",
              "\n",
              "    .dataframe tbody tr th {\n",
              "        vertical-align: top;\n",
              "    }\n",
              "\n",
              "    .dataframe thead th {\n",
              "        text-align: right;\n",
              "    }\n",
              "</style>\n",
              "<table border=\"1\" class=\"dataframe\">\n",
              "  <thead>\n",
              "    <tr style=\"text-align: right;\">\n",
              "      <th></th>\n",
              "      <th>Model Name</th>\n",
              "      <th>Test Loss</th>\n",
              "      <th>Test Accuracy</th>\n",
              "    </tr>\n",
              "  </thead>\n",
              "  <tbody>\n",
              "    <tr>\n",
              "      <th>0</th>\n",
              "      <td>NN_Baseline</td>\n",
              "      <td>0.848265</td>\n",
              "      <td>0.867926</td>\n",
              "    </tr>\n",
              "    <tr>\n",
              "      <th>1</th>\n",
              "      <td>NN_LSTM</td>\n",
              "      <td>0.117211</td>\n",
              "      <td>0.983518</td>\n",
              "    </tr>\n",
              "    <tr>\n",
              "      <th>2</th>\n",
              "      <td>NN_Baseline_Regularized</td>\n",
              "      <td>0.079272</td>\n",
              "      <td>0.986788</td>\n",
              "    </tr>\n",
              "    <tr>\n",
              "      <th>3</th>\n",
              "      <td>NN_LSTM_Regularized</td>\n",
              "      <td>0.092656</td>\n",
              "      <td>0.987128</td>\n",
              "    </tr>\n",
              "    <tr>\n",
              "      <th>4</th>\n",
              "      <td>NN_Builder</td>\n",
              "      <td>0.062401</td>\n",
              "      <td>0.987151</td>\n",
              "    </tr>\n",
              "  </tbody>\n",
              "</table>\n",
              "</div>"
            ],
            "text/plain": [
              "                Model Name  Test Loss  Test Accuracy\n",
              "0              NN_Baseline   0.848265       0.867926\n",
              "1                  NN_LSTM   0.117211       0.983518\n",
              "2  NN_Baseline_Regularized   0.079272       0.986788\n",
              "3      NN_LSTM_Regularized   0.092656       0.987128\n",
              "4               NN_Builder   0.062401       0.987151"
            ]
          },
          "metadata": {},
          "execution_count": 25
        }
      ]
    },
    {
      "cell_type": "code",
      "metadata": {
        "id": "il8ZH9o9AEqW"
      },
      "source": [
        "df.to_csv('Checkpoint/regularization_results.csv', header=True, index=False)"
      ],
      "execution_count": 26,
      "outputs": []
    },
    {
      "cell_type": "markdown",
      "metadata": {
        "id": "hXfq29BMoXNc"
      },
      "source": [
        "Finalizando, nuesto modelo elegido es `Builder`.\n",
        "Por un margen pequeño resultó ser la red neuronal con mejores resultados durante la experimentación.\n",
        "Incluso se podría decir que es el modelo más simple utilizado durante el laboratorio."
      ]
    },
    {
      "cell_type": "code",
      "metadata": {
        "id": "9E-cm9JMAEqW"
      },
      "source": [
        "chosen_model = best_model"
      ],
      "execution_count": 27,
      "outputs": []
    },
    {
      "cell_type": "code",
      "metadata": {
        "colab": {
          "base_uri": "https://localhost:8080/"
        },
        "id": "8aF8oJGXAEqX",
        "outputId": "150200d1-9d04-4191-f5f8-e3cd21eab90f"
      },
      "source": [
        "from sklearn.metrics import classification_report\n",
        "\n",
        "probabilities = chosen_model.predict(padded_sentences_test, verbose=0)\n",
        "predictions = np.argmax(probabilities, axis=-1)\n",
        "\n",
        "print(classification_report(encoded_labels_test, predictions, target_names=classes))"
      ],
      "execution_count": 28,
      "outputs": [
        {
          "output_type": "stream",
          "name": "stdout",
          "text": [
            "                    precision    recall  f1-score   support\n",
            "\n",
            "    BABY_CAR_SEATS       0.98      0.98      0.98      6709\n",
            "    BABY_STROLLERS       0.97      0.98      0.98      6219\n",
            "     COFFEE_MAKERS       0.99      0.99      0.99      6968\n",
            "   ELECTRIC_DRILLS       1.00      0.99      0.99      6304\n",
            "     HAIR_CLIPPERS       0.99      0.99      0.99      6421\n",
            "     KITCHEN_SINKS       0.99      0.99      0.99      6242\n",
            "        MATTRESSES       0.99      0.99      0.99      6546\n",
            "      MEMORY_CARDS       0.99      0.98      0.99      6139\n",
            "MOTORCYCLE_JACKETS       1.00      0.99      0.99      6500\n",
            " MUSICAL_KEYBOARDS       0.99      0.99      0.99      6671\n",
            "             PANTS       0.99      0.97      0.98      7225\n",
            "     PUREBRED_DOGS       0.97      0.99      0.98      6606\n",
            "            RANGES       0.99      0.99      0.99      6553\n",
            "     REFRIGERATORS       0.99      0.99      0.99      6469\n",
            "     ROLLER_SKATES       0.98      0.99      0.99      6329\n",
            "   SEWING_MACHINES       0.99      0.99      0.99      6182\n",
            "            SHORTS       0.97      0.98      0.98      6314\n",
            "         SUITCASES       1.00      0.99      0.99      6394\n",
            "       WALL_CLOCKS       0.99      0.99      0.99      6242\n",
            "             WINES       0.99      0.99      0.99      6319\n",
            "\n",
            "          accuracy                           0.99    129352\n",
            "         macro avg       0.99      0.99      0.99    129352\n",
            "      weighted avg       0.99      0.99      0.99    129352\n",
            "\n"
          ]
        }
      ]
    },
    {
      "cell_type": "code",
      "metadata": {
        "id": "AOSpfNyBAEqX"
      },
      "source": [
        "test_title = df_test.title\n",
        "test_prediction = le.inverse_transform(predictions)\n",
        "\n",
        "submission = pd.DataFrame(list(zip(test_title, test_prediction)), columns=['title', 'category'])\n",
        "submission.to_csv('DataSet/regularization_submission.csv', header=True, index=False)"
      ],
      "execution_count": 29,
      "outputs": []
    },
    {
      "cell_type": "markdown",
      "metadata": {
        "id": "We8BUxERAEqY"
      },
      "source": [
        "## 3. Conclusiones"
      ]
    },
    {
      "cell_type": "markdown",
      "metadata": {
        "id": "U2qn4ki8E9Xu"
      },
      "source": [
        "A lo largo del notebook se han realizado comentarios sobre los resultados obtenidos.\n",
        "Por lo cual no hay demasiado para agregar en esta parte del reporte.\n",
        "De todas formas podríamos listar algunos trabajos futuros para complementar el estudio realizado.\n",
        "\n",
        "- No hemos experimentado modificando el `batch_size`. Quizás otro factor determinante en la capacidad de predicción de un modelo sea este hiperparámetro. Deberíamos estudiar como varía el desempeño en base al tamaño del lote empleado durante el entrenamiento de la red neuronal.\n",
        "\n",
        "- Utilizar *early stopping* sirvió para obtener resultados excelentes. Un aspecto que no se estudió debidamente fue aumentar la paciencia en el entrenamiento, lo cual extendería el entrenamiento de la red neuronal pero aumentaría la posibilidad de hallar un mínimo local mejor al encontrado.\n",
        "\n",
        "- Sería posible expandir el espacio de búsqueda del ajustador agregando otros factores variables a la arquitectura de la red, como también de sus hiperparámetros. No se consideraron capas `Dropout` ni `BatchNormalization`, y tampoco se intentó agregar términos de regularización `l2`."
      ]
    }
  ]
}