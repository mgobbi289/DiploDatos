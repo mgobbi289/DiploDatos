{
  "nbformat": 4,
  "nbformat_minor": 0,
  "metadata": {
    "kernelspec": {
      "display_name": "Python 3",
      "language": "python",
      "name": "python3"
    },
    "language_info": {
      "codemirror_mode": {
        "name": "ipython",
        "version": 3
      },
      "file_extension": ".py",
      "mimetype": "text/x-python",
      "name": "python",
      "nbconvert_exporter": "python",
      "pygments_lexer": "ipython3",
      "version": "3.8.5"
    },
    "colab": {
      "name": "00-Reduccion_del_dataset.ipynb",
      "provenance": []
    }
  },
  "cells": [
    {
      "cell_type": "markdown",
      "metadata": {
        "id": "9JJxg_XoVDgu"
      },
      "source": [
        "# DiploDatos 2021\n",
        "\n",
        "\n",
        "### Categorización de publicaciones de productos realizadas en Mercado Libre"
      ]
    },
    {
      "cell_type": "markdown",
      "metadata": {
        "id": "YxRwqpg4VDg0"
      },
      "source": [
        "### 00 - Reducción del tamaño del dataset"
      ]
    },
    {
      "cell_type": "markdown",
      "metadata": {
        "id": "hkeWUb_uVDg3"
      },
      "source": [
        "#### Motivación\n",
        "\n",
        "El dataset original propuesto en la página del challenge contiene 1588 categorías y 20 millones de publicaciones. Debido a que el gran tamaño del dataset puede ser un empedimiento para trabajarlo, en esta notebook se realiza la reducción del dataset donde nos quedamos con 20 categorías y un total de 646,760 publicaciones."
      ]
    },
    {
      "cell_type": "markdown",
      "metadata": {
        "id": "Oy0pvv43VDg7"
      },
      "source": [
        "## 1. Código"
      ]
    },
    {
      "cell_type": "markdown",
      "metadata": {
        "id": "jzGJTHHXVDg9"
      },
      "source": [
        "Importaciones necesarias"
      ]
    },
    {
      "cell_type": "code",
      "metadata": {
        "id": "aJ1mct5GVDg-"
      },
      "source": [
        "import pandas as pd"
      ],
      "execution_count": null,
      "outputs": []
    },
    {
      "cell_type": "markdown",
      "metadata": {
        "id": "H2OJMarCVDg_"
      },
      "source": [
        "Lectura del dataset original. Para descargar archivo `train.csv` ir a: https://ml-challenge.mercadolibre.com/2019/downloads"
      ]
    },
    {
      "cell_type": "code",
      "metadata": {
        "id": "vEDGabfeVDhA"
      },
      "source": [
        "df_dataset = pd.read_csv('DataSet/train.csv')"
      ],
      "execution_count": null,
      "outputs": []
    },
    {
      "cell_type": "markdown",
      "metadata": {
        "id": "QWdj9pKfVDhB"
      },
      "source": [
        "Agrupamos y creamos un dataframe que contenga el recuento de las categorías"
      ]
    },
    {
      "cell_type": "code",
      "metadata": {
        "id": "GevIDUVsVDhD"
      },
      "source": [
        "df_categories = (\n",
        "    pd.DataFrame(df_dataset.category.value_counts())\n",
        "      .reset_index(drop=False)\n",
        "      .rename(columns={'index': 'Category', 'category': 'Amount'})\n",
        ")"
      ],
      "execution_count": null,
      "outputs": []
    },
    {
      "cell_type": "markdown",
      "metadata": {
        "id": "1o5anQYgVDhE"
      },
      "source": [
        "Filtramos el dataframe de categorías para quedarnos con las categorías que tengan mas de 30000 publicaciones"
      ]
    },
    {
      "cell_type": "code",
      "metadata": {
        "id": "6vT80D-SVDhG"
      },
      "source": [
        "df_top_categories = df_categories.query('Amount > 30000')"
      ],
      "execution_count": null,
      "outputs": []
    },
    {
      "cell_type": "markdown",
      "metadata": {
        "id": "NegBDWrzVDhI"
      },
      "source": [
        "Filtramos el dataframe original para quedarnos con las categorías que tengan mas de 30000 publicaciones"
      ]
    },
    {
      "cell_type": "code",
      "metadata": {
        "id": "Q761QaU6VDhJ"
      },
      "source": [
        "categories_of_interest = df_top_categories.Category.values.tolist()"
      ],
      "execution_count": null,
      "outputs": []
    },
    {
      "cell_type": "code",
      "metadata": {
        "id": "eMhx78L6VDhL"
      },
      "source": [
        "df_dataset_reduced = df_dataset.query('category == @categories_of_interest')"
      ],
      "execution_count": null,
      "outputs": []
    },
    {
      "cell_type": "markdown",
      "metadata": {
        "id": "3cvREgxFVDhN"
      },
      "source": [
        "Exportamos dataframe reducido a CSV"
      ]
    },
    {
      "cell_type": "code",
      "metadata": {
        "id": "fivjP0p0VDhN"
      },
      "source": [
        "df_dataset_reduced.to_csv('DataSet/dataset.csv', index=False)"
      ],
      "execution_count": null,
      "outputs": []
    }
  ]
}