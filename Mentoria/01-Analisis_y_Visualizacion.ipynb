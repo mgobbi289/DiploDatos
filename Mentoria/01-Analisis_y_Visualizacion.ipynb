{
 "cells": [
  {
   "cell_type": "markdown",
   "metadata": {},
   "source": [
    "# DiploDatos 2021\n",
    "\n",
    "\n",
    "### Categorización de publicaciones de productos realizadas en Mercado Libre"
   ]
  },
  {
   "cell_type": "markdown",
   "metadata": {},
   "source": [
    "### 01 - Análisis y Visualización"
   ]
  },
  {
   "cell_type": "markdown",
   "metadata": {},
   "source": [
    "#### Condiciones generales que aplican a todos los prácticos:\n",
    "   - Las notebooks tienen que ser 100% reproducibles, es decir al ejecutar las celdas tal cuál como se entrega la notebook se deben obtener los mismos resultados sin errores.\n",
    "   - Código legible, haciendo buen uso de las celdas de la notebook y en lo posible seguir estándares de código para *Python* (https://www.python.org/dev/peps/pep-0008/).\n",
    "   - Utilizar celdas tipo *Markdown* para ir guiando el análisis.\n",
    "   - Limpiar el output de las celdas antes de entregar el notebook (ir a *Kernel* **-->** *Restart Kernel and Clear All Ouputs*).\n",
    "   - Incluir conclusiones del análisis que se hizo en la sección \"Conclusiones\". Tratar de aportar valor en esta sección, ser creativo."
   ]
  },
  {
   "cell_type": "markdown",
   "metadata": {},
   "source": [
    "## 1. Consignas"
   ]
  },
  {
   "cell_type": "markdown",
   "metadata": {},
   "source": [
    "#### Sección A:  Estadísticas básicas & Visualizaciones\n",
    "\n",
    "Por cada uno de los siguientes puntos realizar un análisis para poder responder el enunciado/pregunta y generar alguna gráfica para visualizar los resultados:\n",
    "\n",
    "1. ¿Cuántas publicaciones de items hay dentro de cada categoría?\n",
    "2. Proporción de publicaciones en español y portugués dentro de cada categoría.\n",
    "3. Proporción de label quality dentro de cada categoría.\n",
    "4. Relación entre el label quality y el idioma."
   ]
  },
  {
   "cell_type": "markdown",
   "metadata": {},
   "source": [
    "#### Sección B: Estadísticas de las publicaciones & Visualizaciones\n",
    "\n",
    "Por cada uno de los siguientes puntos realizar un análisis para poder responder el enunciado/pregunta y generar alguna gráfica para visualizar los resultados:\n",
    "\n",
    "1. Cantidad promedio de palabras del título de la publicacion por categoría.\n",
    "2. Análisis general de *stopwords*, números, caracteres especiales, etc.. Puede ser un recuento promedio por publicación, no es necesario realizar una gráfica en este punto.\n",
    "3. Palabras más frecuentes dentro de cada categoría (sin incluir *stopwords*, números, caracteres especiales, etc.).\n",
    "\n",
    "Tener en cuenta librerías como *NLTK* y *spaCy* para el procesamiento de texto."
   ]
  },
  {
   "cell_type": "markdown",
   "metadata": {},
   "source": [
    "## 2. Código y Análisis"
   ]
  },
  {
   "cell_type": "markdown",
   "metadata": {},
   "source": [
    "Importaciones necesarias"
   ]
  },
  {
   "cell_type": "code",
   "execution_count": 1,
   "metadata": {},
   "outputs": [
    {
     "data": {
      "text/plain": [
       "'4.14.3'"
      ]
     },
     "execution_count": 1,
     "metadata": {},
     "output_type": "execute_result"
    }
   ],
   "source": [
    "import pandas as pd\n",
    "import seaborn as sns\n",
    "import numpy as np\n",
    "import plotly\n",
    "import plotly.express as px\n",
    "\n",
    "# Make sure it's 4.14.3\n",
    "plotly.__version__"
   ]
  },
  {
   "cell_type": "markdown",
   "metadata": {},
   "source": [
    "Lectura de dataset reducido"
   ]
  },
  {
   "cell_type": "code",
   "execution_count": 2,
   "metadata": {},
   "outputs": [],
   "source": [
    "df_dataset = pd.read_csv('DataSet/dataset.csv')"
   ]
  },
  {
   "cell_type": "markdown",
   "metadata": {},
   "source": [
    "Estudiamos el dataset brevemente antes de comenzar a operar sobre el mismo"
   ]
  },
  {
   "cell_type": "code",
   "execution_count": 3,
   "metadata": {},
   "outputs": [
    {
     "data": {
      "text/html": [
       "<div>\n",
       "<style scoped>\n",
       "    .dataframe tbody tr th:only-of-type {\n",
       "        vertical-align: middle;\n",
       "    }\n",
       "\n",
       "    .dataframe tbody tr th {\n",
       "        vertical-align: top;\n",
       "    }\n",
       "\n",
       "    .dataframe thead th {\n",
       "        text-align: right;\n",
       "    }\n",
       "</style>\n",
       "<table border=\"1\" class=\"dataframe\">\n",
       "  <thead>\n",
       "    <tr style=\"text-align: right;\">\n",
       "      <th></th>\n",
       "      <th>title</th>\n",
       "      <th>label_quality</th>\n",
       "      <th>language</th>\n",
       "      <th>category</th>\n",
       "    </tr>\n",
       "  </thead>\n",
       "  <tbody>\n",
       "    <tr>\n",
       "      <th>count</th>\n",
       "      <td>646760</td>\n",
       "      <td>646760</td>\n",
       "      <td>646760</td>\n",
       "      <td>646760</td>\n",
       "    </tr>\n",
       "    <tr>\n",
       "      <th>unique</th>\n",
       "      <td>646019</td>\n",
       "      <td>2</td>\n",
       "      <td>2</td>\n",
       "      <td>20</td>\n",
       "    </tr>\n",
       "    <tr>\n",
       "      <th>top</th>\n",
       "      <td>Teclado Sintetizador Korg X5d</td>\n",
       "      <td>unreliable</td>\n",
       "      <td>portuguese</td>\n",
       "      <td>PANTS</td>\n",
       "    </tr>\n",
       "    <tr>\n",
       "      <th>freq</th>\n",
       "      <td>2</td>\n",
       "      <td>551878</td>\n",
       "      <td>328992</td>\n",
       "      <td>35973</td>\n",
       "    </tr>\n",
       "  </tbody>\n",
       "</table>\n",
       "</div>"
      ],
      "text/plain": [
       "                                title label_quality    language category\n",
       "count                          646760        646760      646760   646760\n",
       "unique                         646019             2           2       20\n",
       "top     Teclado Sintetizador Korg X5d    unreliable  portuguese    PANTS\n",
       "freq                                2        551878      328992    35973"
      ]
     },
     "execution_count": 3,
     "metadata": {},
     "output_type": "execute_result"
    }
   ],
   "source": [
    "df_dataset.describe()"
   ]
  },
  {
   "cell_type": "code",
   "execution_count": 4,
   "metadata": {},
   "outputs": [
    {
     "name": "stdout",
     "output_type": "stream",
     "text": [
      "Dimensiones: (646760, 4)\n"
     ]
    }
   ],
   "source": [
    "print(f'Dimensiones: {df_dataset.shape}')"
   ]
  },
  {
   "cell_type": "code",
   "execution_count": 5,
   "metadata": {},
   "outputs": [
    {
     "name": "stdout",
     "output_type": "stream",
     "text": [
      "Variables: ['title', 'label_quality', 'language', 'category']\n"
     ]
    }
   ],
   "source": [
    "print(f'Variables: {list(df_dataset.columns)}')"
   ]
  },
  {
   "cell_type": "code",
   "execution_count": 6,
   "metadata": {},
   "outputs": [
    {
     "name": "stdout",
     "output_type": "stream",
     "text": [
      "Etiquetas: ['unreliable', 'reliable']\n"
     ]
    }
   ],
   "source": [
    "print(f'Etiquetas: {list(df_dataset.label_quality.unique())}')"
   ]
  },
  {
   "cell_type": "code",
   "execution_count": 7,
   "metadata": {},
   "outputs": [
    {
     "name": "stdout",
     "output_type": "stream",
     "text": [
      "Lenguajes: ['portuguese', 'spanish']\n"
     ]
    }
   ],
   "source": [
    "print(f'Lenguajes: {list(df_dataset.language.unique())}')"
   ]
  },
  {
   "cell_type": "code",
   "execution_count": 8,
   "metadata": {},
   "outputs": [
    {
     "name": "stdout",
     "output_type": "stream",
     "text": [
      "Categorías: ['SEWING_MACHINES', 'MUSICAL_KEYBOARDS', 'REFRIGERATORS', 'BABY_CAR_SEATS', 'WALL_CLOCKS', 'BABY_STROLLERS', 'SHORTS', 'SUITCASES', 'PUREBRED_DOGS', 'ROLLER_SKATES', 'COFFEE_MAKERS', 'WINES', 'MATTRESSES', 'PANTS', 'MEMORY_CARDS', 'ELECTRIC_DRILLS', 'MOTORCYCLE_JACKETS', 'HAIR_CLIPPERS', 'RANGES', 'KITCHEN_SINKS']\n"
     ]
    }
   ],
   "source": [
    "print(f'Categorías: {list(df_dataset.category.unique())}')"
   ]
  },
  {
   "cell_type": "markdown",
   "metadata": {},
   "source": [
    "Tenemos 646760 productos en nuestro dataframe, con las variables\n",
    "- `title` la mayoría de los títulos son únicos\n",
    "- `label_quality` solo se separan en *unreliable* y *reliable*\n",
    "- `language` solo se separan en *portuguese* y *spanish*\n",
    "- `category` hay un total de veinte categorías diferentes"
   ]
  },
  {
   "cell_type": "markdown",
   "metadata": {},
   "source": [
    "## Sección A"
   ]
  },
  {
   "cell_type": "markdown",
   "metadata": {},
   "source": [
    "#### 1 - Contamos la cantidad de publicaciones por categoría."
   ]
  },
  {
   "cell_type": "code",
   "execution_count": 9,
   "metadata": {},
   "outputs": [
    {
     "data": {
      "text/html": [
       "<div>\n",
       "<style scoped>\n",
       "    .dataframe tbody tr th:only-of-type {\n",
       "        vertical-align: middle;\n",
       "    }\n",
       "\n",
       "    .dataframe tbody tr th {\n",
       "        vertical-align: top;\n",
       "    }\n",
       "\n",
       "    .dataframe thead th {\n",
       "        text-align: right;\n",
       "    }\n",
       "</style>\n",
       "<table border=\"1\" class=\"dataframe\">\n",
       "  <thead>\n",
       "    <tr style=\"text-align: right;\">\n",
       "      <th></th>\n",
       "      <th>category</th>\n",
       "      <th>count</th>\n",
       "    </tr>\n",
       "  </thead>\n",
       "  <tbody>\n",
       "    <tr>\n",
       "      <th>0</th>\n",
       "      <td>PANTS</td>\n",
       "      <td>35973</td>\n",
       "    </tr>\n",
       "    <tr>\n",
       "      <th>1</th>\n",
       "      <td>COFFEE_MAKERS</td>\n",
       "      <td>35104</td>\n",
       "    </tr>\n",
       "    <tr>\n",
       "      <th>2</th>\n",
       "      <td>BABY_CAR_SEATS</td>\n",
       "      <td>34163</td>\n",
       "    </tr>\n",
       "    <tr>\n",
       "      <th>3</th>\n",
       "      <td>MUSICAL_KEYBOARDS</td>\n",
       "      <td>33222</td>\n",
       "    </tr>\n",
       "    <tr>\n",
       "      <th>4</th>\n",
       "      <td>MATTRESSES</td>\n",
       "      <td>32967</td>\n",
       "    </tr>\n",
       "    <tr>\n",
       "      <th>5</th>\n",
       "      <td>PUREBRED_DOGS</td>\n",
       "      <td>32928</td>\n",
       "    </tr>\n",
       "    <tr>\n",
       "      <th>6</th>\n",
       "      <td>RANGES</td>\n",
       "      <td>32645</td>\n",
       "    </tr>\n",
       "    <tr>\n",
       "      <th>7</th>\n",
       "      <td>REFRIGERATORS</td>\n",
       "      <td>32635</td>\n",
       "    </tr>\n",
       "    <tr>\n",
       "      <th>8</th>\n",
       "      <td>MOTORCYCLE_JACKETS</td>\n",
       "      <td>32615</td>\n",
       "    </tr>\n",
       "    <tr>\n",
       "      <th>9</th>\n",
       "      <td>HAIR_CLIPPERS</td>\n",
       "      <td>32372</td>\n",
       "    </tr>\n",
       "    <tr>\n",
       "      <th>10</th>\n",
       "      <td>SHORTS</td>\n",
       "      <td>31685</td>\n",
       "    </tr>\n",
       "    <tr>\n",
       "      <th>11</th>\n",
       "      <td>SUITCASES</td>\n",
       "      <td>31580</td>\n",
       "    </tr>\n",
       "    <tr>\n",
       "      <th>12</th>\n",
       "      <td>MEMORY_CARDS</td>\n",
       "      <td>31564</td>\n",
       "    </tr>\n",
       "    <tr>\n",
       "      <th>13</th>\n",
       "      <td>WINES</td>\n",
       "      <td>31399</td>\n",
       "    </tr>\n",
       "    <tr>\n",
       "      <th>14</th>\n",
       "      <td>ROLLER_SKATES</td>\n",
       "      <td>31371</td>\n",
       "    </tr>\n",
       "    <tr>\n",
       "      <th>15</th>\n",
       "      <td>BABY_STROLLERS</td>\n",
       "      <td>31353</td>\n",
       "    </tr>\n",
       "    <tr>\n",
       "      <th>16</th>\n",
       "      <td>SEWING_MACHINES</td>\n",
       "      <td>31129</td>\n",
       "    </tr>\n",
       "    <tr>\n",
       "      <th>17</th>\n",
       "      <td>ELECTRIC_DRILLS</td>\n",
       "      <td>30820</td>\n",
       "    </tr>\n",
       "    <tr>\n",
       "      <th>18</th>\n",
       "      <td>KITCHEN_SINKS</td>\n",
       "      <td>30635</td>\n",
       "    </tr>\n",
       "    <tr>\n",
       "      <th>19</th>\n",
       "      <td>WALL_CLOCKS</td>\n",
       "      <td>30600</td>\n",
       "    </tr>\n",
       "  </tbody>\n",
       "</table>\n",
       "</div>"
      ],
      "text/plain": [
       "              category  count\n",
       "0                PANTS  35973\n",
       "1        COFFEE_MAKERS  35104\n",
       "2       BABY_CAR_SEATS  34163\n",
       "3    MUSICAL_KEYBOARDS  33222\n",
       "4           MATTRESSES  32967\n",
       "5        PUREBRED_DOGS  32928\n",
       "6               RANGES  32645\n",
       "7        REFRIGERATORS  32635\n",
       "8   MOTORCYCLE_JACKETS  32615\n",
       "9        HAIR_CLIPPERS  32372\n",
       "10              SHORTS  31685\n",
       "11           SUITCASES  31580\n",
       "12        MEMORY_CARDS  31564\n",
       "13               WINES  31399\n",
       "14       ROLLER_SKATES  31371\n",
       "15      BABY_STROLLERS  31353\n",
       "16     SEWING_MACHINES  31129\n",
       "17     ELECTRIC_DRILLS  30820\n",
       "18       KITCHEN_SINKS  30635\n",
       "19         WALL_CLOCKS  30600"
      ]
     },
     "execution_count": 9,
     "metadata": {},
     "output_type": "execute_result"
    }
   ],
   "source": [
    "category_count = df_dataset.category\\\n",
    "    .value_counts()\\\n",
    "    .reset_index()\\\n",
    "    .rename(columns={'index': 'category', 'category': 'count'})\n",
    "\n",
    "category_count"
   ]
  },
  {
   "cell_type": "code",
   "execution_count": 10,
   "metadata": {},
   "outputs": [
    {
     "data": {
      "image/png": "[encoded data removed]",
      "text/plain": [
       "<Figure size 360x360 with 1 Axes>"
      ]
     },
     "metadata": {
      "needs_background": "light"
     },
     "output_type": "display_data"
    }
   ],
   "source": [
    "# Cantidad de publicaciones por categoría\n",
    "sns.catplot(x='count', y='category', data=category_count, kind='bar');"
   ]
  },
  {
   "cell_type": "markdown",
   "metadata": {},
   "source": [
    "**Conclusión**\n",
    "\n",
    "- La categoría `PANTS` es la más común (35973 publicaciones).\n",
    "- La categoría `WALL_CLOCKS` es la menos común (30600 publicaciones).\n",
    "\n",
    "Podíamos decir que las categorías están bastante balancedas, teniendo en cuenta que la mayor diferencia entre la cantidad de publicaciones por categoría es cercana a 5000.\n",
    "Obviamente, esto es consecuencia de haber tomar las 20 categorías más repetidas en el dataset original de **ML**."
   ]
  },
  {
   "cell_type": "markdown",
   "metadata": {},
   "source": [
    "#### 2 - Proporción de publicaciones en español y portugués dentro de cada categoría."
   ]
  },
  {
   "cell_type": "code",
   "execution_count": 11,
   "metadata": {},
   "outputs": [
    {
     "data": {
      "image/png": "[encoded data removed]",
      "text/plain": [
       "<Figure size 452.875x360 with 1 Axes>"
      ]
     },
     "metadata": {
      "needs_background": "light"
     },
     "output_type": "display_data"
    }
   ],
   "source": [
    "# Tomamos las columnas relevantes\n",
    "relevant_cols = ['category', 'language']\n",
    "\n",
    "# Agregamos según el lenguaje\n",
    "category_language_count = df_dataset\\\n",
    "    .groupby(relevant_cols)\\\n",
    "    .agg(language_count=('language', 'count'))\\\n",
    "    .reset_index()\n",
    "\n",
    "# Cantidad de publicaciones en español y en portugués dentro de cada categoría\n",
    "sns.catplot(x='language_count',\n",
    "            y='category',\n",
    "            hue ='language',\n",
    "            data=category_language_count,\n",
    "            kind='bar');"
   ]
  },
  {
   "cell_type": "code",
   "execution_count": 12,
   "metadata": {},
   "outputs": [
    {
     "data": {
      "text/html": [
       "<div>\n",
       "<style scoped>\n",
       "    .dataframe tbody tr th:only-of-type {\n",
       "        vertical-align: middle;\n",
       "    }\n",
       "\n",
       "    .dataframe tbody tr th {\n",
       "        vertical-align: top;\n",
       "    }\n",
       "\n",
       "    .dataframe thead th {\n",
       "        text-align: right;\n",
       "    }\n",
       "</style>\n",
       "<table border=\"1\" class=\"dataframe\">\n",
       "  <thead>\n",
       "    <tr style=\"text-align: right;\">\n",
       "      <th>language</th>\n",
       "      <th>portuguese</th>\n",
       "      <th>spanish</th>\n",
       "    </tr>\n",
       "    <tr>\n",
       "      <th>category</th>\n",
       "      <th></th>\n",
       "      <th></th>\n",
       "    </tr>\n",
       "  </thead>\n",
       "  <tbody>\n",
       "    <tr>\n",
       "      <th>BABY_CAR_SEATS</th>\n",
       "      <td>0.476832</td>\n",
       "      <td>0.523168</td>\n",
       "    </tr>\n",
       "    <tr>\n",
       "      <th>BABY_STROLLERS</th>\n",
       "      <td>0.518100</td>\n",
       "      <td>0.481900</td>\n",
       "    </tr>\n",
       "    <tr>\n",
       "      <th>COFFEE_MAKERS</th>\n",
       "      <td>0.501567</td>\n",
       "      <td>0.498433</td>\n",
       "    </tr>\n",
       "    <tr>\n",
       "      <th>ELECTRIC_DRILLS</th>\n",
       "      <td>0.488125</td>\n",
       "      <td>0.511875</td>\n",
       "    </tr>\n",
       "    <tr>\n",
       "      <th>HAIR_CLIPPERS</th>\n",
       "      <td>0.508897</td>\n",
       "      <td>0.491103</td>\n",
       "    </tr>\n",
       "    <tr>\n",
       "      <th>KITCHEN_SINKS</th>\n",
       "      <td>0.482912</td>\n",
       "      <td>0.517088</td>\n",
       "    </tr>\n",
       "    <tr>\n",
       "      <th>MATTRESSES</th>\n",
       "      <td>0.525071</td>\n",
       "      <td>0.474929</td>\n",
       "    </tr>\n",
       "    <tr>\n",
       "      <th>MEMORY_CARDS</th>\n",
       "      <td>0.578412</td>\n",
       "      <td>0.421588</td>\n",
       "    </tr>\n",
       "    <tr>\n",
       "      <th>MOTORCYCLE_JACKETS</th>\n",
       "      <td>0.523655</td>\n",
       "      <td>0.476345</td>\n",
       "    </tr>\n",
       "    <tr>\n",
       "      <th>MUSICAL_KEYBOARDS</th>\n",
       "      <td>0.471224</td>\n",
       "      <td>0.528776</td>\n",
       "    </tr>\n",
       "    <tr>\n",
       "      <th>PANTS</th>\n",
       "      <td>0.519529</td>\n",
       "      <td>0.480471</td>\n",
       "    </tr>\n",
       "    <tr>\n",
       "      <th>PUREBRED_DOGS</th>\n",
       "      <td>0.543884</td>\n",
       "      <td>0.456116</td>\n",
       "    </tr>\n",
       "    <tr>\n",
       "      <th>RANGES</th>\n",
       "      <td>0.463777</td>\n",
       "      <td>0.536223</td>\n",
       "    </tr>\n",
       "    <tr>\n",
       "      <th>REFRIGERATORS</th>\n",
       "      <td>0.451969</td>\n",
       "      <td>0.548031</td>\n",
       "    </tr>\n",
       "    <tr>\n",
       "      <th>ROLLER_SKATES</th>\n",
       "      <td>0.555449</td>\n",
       "      <td>0.444551</td>\n",
       "    </tr>\n",
       "    <tr>\n",
       "      <th>SEWING_MACHINES</th>\n",
       "      <td>0.462431</td>\n",
       "      <td>0.537569</td>\n",
       "    </tr>\n",
       "    <tr>\n",
       "      <th>SHORTS</th>\n",
       "      <td>0.506580</td>\n",
       "      <td>0.493420</td>\n",
       "    </tr>\n",
       "    <tr>\n",
       "      <th>SUITCASES</th>\n",
       "      <td>0.549652</td>\n",
       "      <td>0.450348</td>\n",
       "    </tr>\n",
       "    <tr>\n",
       "      <th>WALL_CLOCKS</th>\n",
       "      <td>0.566503</td>\n",
       "      <td>0.433497</td>\n",
       "    </tr>\n",
       "    <tr>\n",
       "      <th>WINES</th>\n",
       "      <td>0.483646</td>\n",
       "      <td>0.516354</td>\n",
       "    </tr>\n",
       "    <tr>\n",
       "      <th>All</th>\n",
       "      <td>0.508677</td>\n",
       "      <td>0.491323</td>\n",
       "    </tr>\n",
       "  </tbody>\n",
       "</table>\n",
       "</div>"
      ],
      "text/plain": [
       "language            portuguese   spanish\n",
       "category                                \n",
       "BABY_CAR_SEATS        0.476832  0.523168\n",
       "BABY_STROLLERS        0.518100  0.481900\n",
       "COFFEE_MAKERS         0.501567  0.498433\n",
       "ELECTRIC_DRILLS       0.488125  0.511875\n",
       "HAIR_CLIPPERS         0.508897  0.491103\n",
       "KITCHEN_SINKS         0.482912  0.517088\n",
       "MATTRESSES            0.525071  0.474929\n",
       "MEMORY_CARDS          0.578412  0.421588\n",
       "MOTORCYCLE_JACKETS    0.523655  0.476345\n",
       "MUSICAL_KEYBOARDS     0.471224  0.528776\n",
       "PANTS                 0.519529  0.480471\n",
       "PUREBRED_DOGS         0.543884  0.456116\n",
       "RANGES                0.463777  0.536223\n",
       "REFRIGERATORS         0.451969  0.548031\n",
       "ROLLER_SKATES         0.555449  0.444551\n",
       "SEWING_MACHINES       0.462431  0.537569\n",
       "SHORTS                0.506580  0.493420\n",
       "SUITCASES             0.549652  0.450348\n",
       "WALL_CLOCKS           0.566503  0.433497\n",
       "WINES                 0.483646  0.516354\n",
       "All                   0.508677  0.491323"
      ]
     },
     "execution_count": 12,
     "metadata": {},
     "output_type": "execute_result"
    }
   ],
   "source": [
    "# Normalizar nos permite obtener la proporción (en lugar de la cantidad)\n",
    "category_language_count = pd.crosstab(index=df_dataset['category'],\n",
    "                                      columns=df_dataset['language'],\n",
    "                                      normalize='index',\n",
    "                                      margins=True)\n",
    "\n",
    "category_language_count"
   ]
  },
  {
   "cell_type": "code",
   "execution_count": 13,
   "metadata": {},
   "outputs": [
    {
     "data": {
      "image/png": "[encoded data removed]",
      "text/plain": [
       "<Figure size 1008x576 with 1 Axes>"
      ]
     },
     "metadata": {
      "needs_background": "light"
     },
     "output_type": "display_data"
    }
   ],
   "source": [
    "# Visualizamos la proporción de publicaciones en cada idioma, por categoría\n",
    "category_language_count.plot.barh(stacked=True,\n",
    "                                  figsize=(14, 8),\n",
    "                                  title='Proporción de lenguajes por categoría');"
   ]
  },
  {
   "cell_type": "markdown",
   "metadata": {},
   "source": [
    "**Conclusión**\n",
    "\n",
    "- La cantidad de publicaciones en cada idioma es similar.\n",
    "    - Portugués **50.9%**\n",
    "    - Español **49.1%**\n",
    "\n",
    "- Hay **12** categorías con mayor cantidad de publicaciones en portugués.\n",
    "  Por lo tanto, hay **8** categorías con mayor cantidad de publicaciones en español.\n",
    "\n",
    "- La categoría con mayor proporción de portugués es `MEMORY_CARDS` con **57.8%**.\n",
    "- La categoría con mayor proporción de español es `REFRIGERATORS` con **54.8%**."
   ]
  },
  {
   "cell_type": "markdown",
   "metadata": {},
   "source": [
    "#### 3 - Proporción de etiquetas dentro de cada categoría."
   ]
  },
  {
   "cell_type": "code",
   "execution_count": 14,
   "metadata": {},
   "outputs": [
    {
     "data": {
      "image/png": "[encoded data removed]",
      "text/plain": [
       "<Figure size 445.875x360 with 1 Axes>"
      ]
     },
     "metadata": {
      "needs_background": "light"
     },
     "output_type": "display_data"
    }
   ],
   "source": [
    "# Tomamos las columnas relevantes\n",
    "relevant_cols = ['category', 'label_quality']\n",
    "\n",
    "# Agregamos según la etiqueta\n",
    "category_quality_count = df_dataset\\\n",
    "    .groupby(relevant_cols)\\\n",
    "    .agg(quality_count=('label_quality', 'count'))\\\n",
    "    .reset_index()\n",
    "\n",
    "# Cantidad de etiquetas dentro de cada categoría\n",
    "sns.catplot(x='quality_count',\n",
    "            y='category',\n",
    "            hue ='label_quality',\n",
    "            data=category_quality_count,\n",
    "            kind='bar');"
   ]
  },
  {
   "cell_type": "code",
   "execution_count": 15,
   "metadata": {},
   "outputs": [
    {
     "data": {
      "text/html": [
       "<div>\n",
       "<style scoped>\n",
       "    .dataframe tbody tr th:only-of-type {\n",
       "        vertical-align: middle;\n",
       "    }\n",
       "\n",
       "    .dataframe tbody tr th {\n",
       "        vertical-align: top;\n",
       "    }\n",
       "\n",
       "    .dataframe thead th {\n",
       "        text-align: right;\n",
       "    }\n",
       "</style>\n",
       "<table border=\"1\" class=\"dataframe\">\n",
       "  <thead>\n",
       "    <tr style=\"text-align: right;\">\n",
       "      <th>label_quality</th>\n",
       "      <th>reliable</th>\n",
       "      <th>unreliable</th>\n",
       "    </tr>\n",
       "    <tr>\n",
       "      <th>category</th>\n",
       "      <th></th>\n",
       "      <th></th>\n",
       "    </tr>\n",
       "  </thead>\n",
       "  <tbody>\n",
       "    <tr>\n",
       "      <th>BABY_CAR_SEATS</th>\n",
       "      <td>0.165208</td>\n",
       "      <td>0.834792</td>\n",
       "    </tr>\n",
       "    <tr>\n",
       "      <th>BABY_STROLLERS</th>\n",
       "      <td>0.181960</td>\n",
       "      <td>0.818040</td>\n",
       "    </tr>\n",
       "    <tr>\n",
       "      <th>COFFEE_MAKERS</th>\n",
       "      <td>0.155737</td>\n",
       "      <td>0.844263</td>\n",
       "    </tr>\n",
       "    <tr>\n",
       "      <th>ELECTRIC_DRILLS</th>\n",
       "      <td>0.099319</td>\n",
       "      <td>0.900681</td>\n",
       "    </tr>\n",
       "    <tr>\n",
       "      <th>HAIR_CLIPPERS</th>\n",
       "      <td>0.149296</td>\n",
       "      <td>0.850704</td>\n",
       "    </tr>\n",
       "    <tr>\n",
       "      <th>KITCHEN_SINKS</th>\n",
       "      <td>0.073674</td>\n",
       "      <td>0.926326</td>\n",
       "    </tr>\n",
       "    <tr>\n",
       "      <th>MATTRESSES</th>\n",
       "      <td>0.168411</td>\n",
       "      <td>0.831589</td>\n",
       "    </tr>\n",
       "    <tr>\n",
       "      <th>MEMORY_CARDS</th>\n",
       "      <td>0.165663</td>\n",
       "      <td>0.834337</td>\n",
       "    </tr>\n",
       "    <tr>\n",
       "      <th>MOTORCYCLE_JACKETS</th>\n",
       "      <td>0.131320</td>\n",
       "      <td>0.868680</td>\n",
       "    </tr>\n",
       "    <tr>\n",
       "      <th>MUSICAL_KEYBOARDS</th>\n",
       "      <td>0.155319</td>\n",
       "      <td>0.844681</td>\n",
       "    </tr>\n",
       "    <tr>\n",
       "      <th>PANTS</th>\n",
       "      <td>0.222945</td>\n",
       "      <td>0.777055</td>\n",
       "    </tr>\n",
       "    <tr>\n",
       "      <th>PUREBRED_DOGS</th>\n",
       "      <td>0.220542</td>\n",
       "      <td>0.779458</td>\n",
       "    </tr>\n",
       "    <tr>\n",
       "      <th>RANGES</th>\n",
       "      <td>0.148415</td>\n",
       "      <td>0.851585</td>\n",
       "    </tr>\n",
       "    <tr>\n",
       "      <th>REFRIGERATORS</th>\n",
       "      <td>0.179378</td>\n",
       "      <td>0.820622</td>\n",
       "    </tr>\n",
       "    <tr>\n",
       "      <th>ROLLER_SKATES</th>\n",
       "      <td>0.183577</td>\n",
       "      <td>0.816423</td>\n",
       "    </tr>\n",
       "    <tr>\n",
       "      <th>SEWING_MACHINES</th>\n",
       "      <td>0.113495</td>\n",
       "      <td>0.886505</td>\n",
       "    </tr>\n",
       "    <tr>\n",
       "      <th>SHORTS</th>\n",
       "      <td>0.109831</td>\n",
       "      <td>0.890169</td>\n",
       "    </tr>\n",
       "    <tr>\n",
       "      <th>SUITCASES</th>\n",
       "      <td>0.163806</td>\n",
       "      <td>0.836194</td>\n",
       "    </tr>\n",
       "    <tr>\n",
       "      <th>WALL_CLOCKS</th>\n",
       "      <td>0.093268</td>\n",
       "      <td>0.906732</td>\n",
       "    </tr>\n",
       "    <tr>\n",
       "      <th>WINES</th>\n",
       "      <td>0.029014</td>\n",
       "      <td>0.970986</td>\n",
       "    </tr>\n",
       "    <tr>\n",
       "      <th>All</th>\n",
       "      <td>0.146704</td>\n",
       "      <td>0.853296</td>\n",
       "    </tr>\n",
       "  </tbody>\n",
       "</table>\n",
       "</div>"
      ],
      "text/plain": [
       "label_quality       reliable  unreliable\n",
       "category                                \n",
       "BABY_CAR_SEATS      0.165208    0.834792\n",
       "BABY_STROLLERS      0.181960    0.818040\n",
       "COFFEE_MAKERS       0.155737    0.844263\n",
       "ELECTRIC_DRILLS     0.099319    0.900681\n",
       "HAIR_CLIPPERS       0.149296    0.850704\n",
       "KITCHEN_SINKS       0.073674    0.926326\n",
       "MATTRESSES          0.168411    0.831589\n",
       "MEMORY_CARDS        0.165663    0.834337\n",
       "MOTORCYCLE_JACKETS  0.131320    0.868680\n",
       "MUSICAL_KEYBOARDS   0.155319    0.844681\n",
       "PANTS               0.222945    0.777055\n",
       "PUREBRED_DOGS       0.220542    0.779458\n",
       "RANGES              0.148415    0.851585\n",
       "REFRIGERATORS       0.179378    0.820622\n",
       "ROLLER_SKATES       0.183577    0.816423\n",
       "SEWING_MACHINES     0.113495    0.886505\n",
       "SHORTS              0.109831    0.890169\n",
       "SUITCASES           0.163806    0.836194\n",
       "WALL_CLOCKS         0.093268    0.906732\n",
       "WINES               0.029014    0.970986\n",
       "All                 0.146704    0.853296"
      ]
     },
     "execution_count": 15,
     "metadata": {},
     "output_type": "execute_result"
    }
   ],
   "source": [
    "# Normalizar nos permite obtener la proporción (en lugar de la cantidad)\n",
    "category_quality_count = pd.crosstab(index=df_dataset['category'],\n",
    "                                     columns=df_dataset['label_quality'],\n",
    "                                     normalize='index',\n",
    "                                     margins=True)\n",
    "\n",
    "category_quality_count"
   ]
  },
  {
   "cell_type": "code",
   "execution_count": 16,
   "metadata": {},
   "outputs": [
    {
     "data": {
      "image/png": "[encoded data removed]",
      "text/plain": [
       "<Figure size 1008x576 with 1 Axes>"
      ]
     },
     "metadata": {
      "needs_background": "light"
     },
     "output_type": "display_data"
    }
   ],
   "source": [
    "# Visualizamos la proporción de etiquetas, por categoría\n",
    "category_quality_count.plot.barh(stacked=True,\n",
    "                                 figsize=(14, 8),\n",
    "                                 title='Proporción de etiquetas por categoría');"
   ]
  },
  {
   "cell_type": "markdown",
   "metadata": {},
   "source": [
    "**Conclusión**\n",
    "\n",
    "- La cantidad de publicaciones con cada etiqueta es notoriamente diferente.\n",
    "    - Confiable **14.7%**\n",
    "    - No Confiable **85.3%**\n",
    "\n",
    "- Ninguna categoría tiene una mayor cantidad de publicaciones verificadas, que no verificadas.\n",
    "\n",
    "- La categoría con mayor proporción de publicaciones verificadas es `PANTS` con **22.3%**.\n",
    "- La categoría con mayor proporción de publicaciones no verificadas es `WINES` con **97.1%**."
   ]
  },
  {
   "cell_type": "markdown",
   "metadata": {},
   "source": [
    "#### 4 - Relación entre la etiqueta y el lenguaje."
   ]
  },
  {
   "cell_type": "code",
   "execution_count": 17,
   "metadata": {},
   "outputs": [
    {
     "data": {
      "image/png": "[encoded data removed]",
      "text/plain": [
       "<Figure size 805.875x360 with 2 Axes>"
      ]
     },
     "metadata": {
      "needs_background": "light"
     },
     "output_type": "display_data"
    }
   ],
   "source": [
    "# Tomamos las columnas relevantes\n",
    "relevant_cols = ['category', 'language', 'label_quality']\n",
    "\n",
    "# Agregamos según la categoría\n",
    "category_language_quality_count = df_dataset\\\n",
    "    .groupby(relevant_cols)\\\n",
    "    .agg(language_quality_count=('category', 'count'))\\\n",
    "    .reset_index()\n",
    "\n",
    "# Cantidad de lenguajes / etiquetas dentro de cada categoría\n",
    "sns.catplot(x='language_quality_count',\n",
    "            y='category',\n",
    "            hue='label_quality',\n",
    "            col='language',\n",
    "            data=category_language_quality_count,\n",
    "            kind='bar');"
   ]
  },
  {
   "cell_type": "code",
   "execution_count": 18,
   "metadata": {},
   "outputs": [
    {
     "data": {
      "text/html": [
       "<div>\n",
       "<style scoped>\n",
       "    .dataframe tbody tr th:only-of-type {\n",
       "        vertical-align: middle;\n",
       "    }\n",
       "\n",
       "    .dataframe tbody tr th {\n",
       "        vertical-align: top;\n",
       "    }\n",
       "\n",
       "    .dataframe thead th {\n",
       "        text-align: right;\n",
       "    }\n",
       "</style>\n",
       "<table border=\"1\" class=\"dataframe\">\n",
       "  <thead>\n",
       "    <tr style=\"text-align: right;\">\n",
       "      <th>label_quality</th>\n",
       "      <th>reliable</th>\n",
       "      <th>unreliable</th>\n",
       "      <th>All</th>\n",
       "    </tr>\n",
       "    <tr>\n",
       "      <th>language</th>\n",
       "      <th></th>\n",
       "      <th></th>\n",
       "      <th></th>\n",
       "    </tr>\n",
       "  </thead>\n",
       "  <tbody>\n",
       "    <tr>\n",
       "      <th>portuguese</th>\n",
       "      <td>0.078111</td>\n",
       "      <td>0.430566</td>\n",
       "      <td>0.508677</td>\n",
       "    </tr>\n",
       "    <tr>\n",
       "      <th>spanish</th>\n",
       "      <td>0.068593</td>\n",
       "      <td>0.422730</td>\n",
       "      <td>0.491323</td>\n",
       "    </tr>\n",
       "    <tr>\n",
       "      <th>All</th>\n",
       "      <td>0.146704</td>\n",
       "      <td>0.853296</td>\n",
       "      <td>1.000000</td>\n",
       "    </tr>\n",
       "  </tbody>\n",
       "</table>\n",
       "</div>"
      ],
      "text/plain": [
       "label_quality  reliable  unreliable       All\n",
       "language                                     \n",
       "portuguese     0.078111    0.430566  0.508677\n",
       "spanish        0.068593    0.422730  0.491323\n",
       "All            0.146704    0.853296  1.000000"
      ]
     },
     "execution_count": 18,
     "metadata": {},
     "output_type": "execute_result"
    }
   ],
   "source": [
    "# Normalizar nos permite obtener la proporción (en lugar de la cantidad)\n",
    "language_quality_count = pd.crosstab(index=df_dataset['language'],\n",
    "                                     columns=df_dataset['label_quality'],\n",
    "                                     normalize=True,\n",
    "                                     margins=True)\n",
    "\n",
    "language_quality_count"
   ]
  },
  {
   "cell_type": "code",
   "execution_count": 19,
   "metadata": {},
   "outputs": [
    {
     "data": {
      "image/png": "[encoded data removed]",
      "text/plain": [
       "<Figure size 1008x576 with 1 Axes>"
      ]
     },
     "metadata": {
      "needs_background": "light"
     },
     "output_type": "display_data"
    }
   ],
   "source": [
    "# Visualizamos la proporción de etiquetas y de lenguajes\n",
    "df_aux = language_quality_count.drop(index='All').drop(columns='All')\n",
    "\n",
    "df_aux.plot.barh(stacked=True,\n",
    "                 figsize=(14, 8),\n",
    "                 title='Proporción de etiquetas y de lenguajes');"
   ]
  },
  {
   "cell_type": "markdown",
   "metadata": {},
   "source": [
    "**Conclusión**\n",
    "\n",
    "Si se toma un publicación cualquiera del dataset, lo más probable es obtener una publicación en portugués no verificada (**43.1%**), mientras que lo menos probable es obtener una publicación en español verificada (**6.9%**)."
   ]
  },
  {
   "cell_type": "markdown",
   "metadata": {},
   "source": [
    "## Sección B"
   ]
  },
  {
   "cell_type": "markdown",
   "metadata": {},
   "source": [
    "#### 1 - Cantidad promedio de palabras en el título de la publicación por categoría."
   ]
  },
  {
   "cell_type": "code",
   "execution_count": 25,
   "metadata": {},
   "outputs": [],
   "source": [
    "df_dataset\n",
    "df_dataset2 = df_dataset.copy()"
   ]
  },
  {
   "cell_type": "code",
   "execution_count": 26,
   "metadata": {},
   "outputs": [],
   "source": [
    "# Calculo cantidad de palabras de cada título, y lo agrego a la columna countWord\n",
    "f = lambda df_dataset2: len(df_dataset2['title'].split())\n",
    "df_dataset2['countWord'] = df_dataset2.apply(f, axis=1)"
   ]
  },
  {
   "cell_type": "code",
   "execution_count": 27,
   "metadata": {},
   "outputs": [
    {
     "data": {
      "text/html": [
       "<div>\n",
       "<style scoped>\n",
       "    .dataframe tbody tr th:only-of-type {\n",
       "        vertical-align: middle;\n",
       "    }\n",
       "\n",
       "    .dataframe tbody tr th {\n",
       "        vertical-align: top;\n",
       "    }\n",
       "\n",
       "    .dataframe thead th {\n",
       "        text-align: right;\n",
       "    }\n",
       "</style>\n",
       "<table border=\"1\" class=\"dataframe\">\n",
       "  <thead>\n",
       "    <tr style=\"text-align: right;\">\n",
       "      <th></th>\n",
       "      <th>category</th>\n",
       "      <th>countWord</th>\n",
       "    </tr>\n",
       "  </thead>\n",
       "  <tbody>\n",
       "    <tr>\n",
       "      <th>0</th>\n",
       "      <td>BABY_CAR_SEATS</td>\n",
       "      <td>7.879694</td>\n",
       "    </tr>\n",
       "    <tr>\n",
       "      <th>1</th>\n",
       "      <td>BABY_STROLLERS</td>\n",
       "      <td>7.251651</td>\n",
       "    </tr>\n",
       "    <tr>\n",
       "      <th>2</th>\n",
       "      <td>COFFEE_MAKERS</td>\n",
       "      <td>7.231284</td>\n",
       "    </tr>\n",
       "    <tr>\n",
       "      <th>3</th>\n",
       "      <td>ELECTRIC_DRILLS</td>\n",
       "      <td>8.143543</td>\n",
       "    </tr>\n",
       "    <tr>\n",
       "      <th>4</th>\n",
       "      <td>HAIR_CLIPPERS</td>\n",
       "      <td>8.017144</td>\n",
       "    </tr>\n",
       "    <tr>\n",
       "      <th>5</th>\n",
       "      <td>KITCHEN_SINKS</td>\n",
       "      <td>8.778619</td>\n",
       "    </tr>\n",
       "    <tr>\n",
       "      <th>6</th>\n",
       "      <td>MATTRESSES</td>\n",
       "      <td>7.944611</td>\n",
       "    </tr>\n",
       "    <tr>\n",
       "      <th>7</th>\n",
       "      <td>MEMORY_CARDS</td>\n",
       "      <td>9.218318</td>\n",
       "    </tr>\n",
       "    <tr>\n",
       "      <th>8</th>\n",
       "      <td>MOTORCYCLE_JACKETS</td>\n",
       "      <td>7.395156</td>\n",
       "    </tr>\n",
       "    <tr>\n",
       "      <th>9</th>\n",
       "      <td>MUSICAL_KEYBOARDS</td>\n",
       "      <td>6.869213</td>\n",
       "    </tr>\n",
       "    <tr>\n",
       "      <th>10</th>\n",
       "      <td>PANTS</td>\n",
       "      <td>7.024546</td>\n",
       "    </tr>\n",
       "    <tr>\n",
       "      <th>11</th>\n",
       "      <td>PUREBRED_DOGS</td>\n",
       "      <td>5.543610</td>\n",
       "    </tr>\n",
       "    <tr>\n",
       "      <th>12</th>\n",
       "      <td>RANGES</td>\n",
       "      <td>7.878726</td>\n",
       "    </tr>\n",
       "    <tr>\n",
       "      <th>13</th>\n",
       "      <td>REFRIGERATORS</td>\n",
       "      <td>6.527103</td>\n",
       "    </tr>\n",
       "    <tr>\n",
       "      <th>14</th>\n",
       "      <td>ROLLER_SKATES</td>\n",
       "      <td>7.568837</td>\n",
       "    </tr>\n",
       "    <tr>\n",
       "      <th>15</th>\n",
       "      <td>SEWING_MACHINES</td>\n",
       "      <td>7.019050</td>\n",
       "    </tr>\n",
       "    <tr>\n",
       "      <th>16</th>\n",
       "      <td>SHORTS</td>\n",
       "      <td>7.025217</td>\n",
       "    </tr>\n",
       "    <tr>\n",
       "      <th>17</th>\n",
       "      <td>SUITCASES</td>\n",
       "      <td>8.226282</td>\n",
       "    </tr>\n",
       "    <tr>\n",
       "      <th>18</th>\n",
       "      <td>WALL_CLOCKS</td>\n",
       "      <td>7.878007</td>\n",
       "    </tr>\n",
       "    <tr>\n",
       "      <th>19</th>\n",
       "      <td>WINES</td>\n",
       "      <td>7.320902</td>\n",
       "    </tr>\n",
       "  </tbody>\n",
       "</table>\n",
       "</div>"
      ],
      "text/plain": [
       "              category  countWord\n",
       "0       BABY_CAR_SEATS   7.879694\n",
       "1       BABY_STROLLERS   7.251651\n",
       "2        COFFEE_MAKERS   7.231284\n",
       "3      ELECTRIC_DRILLS   8.143543\n",
       "4        HAIR_CLIPPERS   8.017144\n",
       "5        KITCHEN_SINKS   8.778619\n",
       "6           MATTRESSES   7.944611\n",
       "7         MEMORY_CARDS   9.218318\n",
       "8   MOTORCYCLE_JACKETS   7.395156\n",
       "9    MUSICAL_KEYBOARDS   6.869213\n",
       "10               PANTS   7.024546\n",
       "11       PUREBRED_DOGS   5.543610\n",
       "12              RANGES   7.878726\n",
       "13       REFRIGERATORS   6.527103\n",
       "14       ROLLER_SKATES   7.568837\n",
       "15     SEWING_MACHINES   7.019050\n",
       "16              SHORTS   7.025217\n",
       "17           SUITCASES   8.226282\n",
       "18         WALL_CLOCKS   7.878007\n",
       "19               WINES   7.320902"
      ]
     },
     "execution_count": 27,
     "metadata": {},
     "output_type": "execute_result"
    }
   ],
   "source": [
    "count_percent_word_category = df_dataset2.groupby('category', as_index=False).mean()\n",
    "count_percent_word_category"
   ]
  },
  {
   "cell_type": "code",
   "execution_count": 28,
   "metadata": {},
   "outputs": [
    {
     "data": {
      "image/png": "[encoded data removed]",
      "text/plain": [
       "<Figure size 360x360 with 1 Axes>"
      ]
     },
     "metadata": {
      "needs_background": "light"
     },
     "output_type": "display_data"
    }
   ],
   "source": [
    "# Mostramos en catplot el promedio de cantidad de palabras por categoría\n",
    "sns.catplot(x='countWord', y='category', data=count_percent_word_category, kind='bar');"
   ]
  },
  {
   "cell_type": "markdown",
   "metadata": {},
   "source": [
    "#### 2 - Análisis general de stopwords, números, caracteres especiales, etc."
   ]
  },
  {
   "cell_type": "markdown",
   "metadata": {},
   "source": [
    "#### 3 - Palabras más frecuentes dentro de cada categoría."
   ]
  },
  {
   "cell_type": "markdown",
   "metadata": {},
   "source": [
    "# Borrador: Usando NLTK"
   ]
  },
  {
   "cell_type": "code",
   "execution_count": 29,
   "metadata": {},
   "outputs": [
    {
     "name": "stdout",
     "output_type": "stream",
     "text": [
      "showing info https://raw.githubusercontent.com/nltk/nltk_data/gh-pages/index.xml\n"
     ]
    },
    {
     "data": {
      "text/plain": [
       "True"
      ]
     },
     "execution_count": 29,
     "metadata": {},
     "output_type": "execute_result"
    }
   ],
   "source": [
    "import nltk\n",
    "\n",
    "nltk.download()"
   ]
  },
  {
   "cell_type": "code",
   "execution_count": 30,
   "metadata": {},
   "outputs": [],
   "source": [
    "from nltk.tokenize import word_tokenize\n",
    "\n",
    "# Copiamos el dataset original\n",
    "df_nlp = df_dataset.copy()"
   ]
  },
  {
   "cell_type": "code",
   "execution_count": 31,
   "metadata": {},
   "outputs": [],
   "source": [
    "def tokenizer(row):\n",
    "    \"\"\"\n",
    "    Por cada título de publicación, aplicamos el tokenizer.\n",
    "    \"\"\"\n",
    "    return set(word_tokenize(row.title))"
   ]
  },
  {
   "cell_type": "code",
   "execution_count": 32,
   "metadata": {},
   "outputs": [],
   "source": [
    "# Queremos algo manejable para probar...\n",
    "aux = df_nlp.sample(5000)"
   ]
  },
  {
   "cell_type": "code",
   "execution_count": 33,
   "metadata": {},
   "outputs": [
    {
     "data": {
      "text/html": [
       "<div>\n",
       "<style scoped>\n",
       "    .dataframe tbody tr th:only-of-type {\n",
       "        vertical-align: middle;\n",
       "    }\n",
       "\n",
       "    .dataframe tbody tr th {\n",
       "        vertical-align: top;\n",
       "    }\n",
       "\n",
       "    .dataframe thead th {\n",
       "        text-align: right;\n",
       "    }\n",
       "</style>\n",
       "<table border=\"1\" class=\"dataframe\">\n",
       "  <thead>\n",
       "    <tr style=\"text-align: right;\">\n",
       "      <th></th>\n",
       "      <th>title</th>\n",
       "      <th>label_quality</th>\n",
       "      <th>language</th>\n",
       "      <th>category</th>\n",
       "      <th>tokens</th>\n",
       "    </tr>\n",
       "  </thead>\n",
       "  <tbody>\n",
       "    <tr>\n",
       "      <th>155538</th>\n",
       "      <td>Dada 1  2  3  De Finca Las Moras</td>\n",
       "      <td>unreliable</td>\n",
       "      <td>spanish</td>\n",
       "      <td>WINES</td>\n",
       "      <td>{1, Finca, 2, Moras, De, Dada, Las, 3}</td>\n",
       "    </tr>\n",
       "    <tr>\n",
       "      <th>168170</th>\n",
       "      <td>Calça Jeans King Farm Masculina Tradicional Gr...</td>\n",
       "      <td>unreliable</td>\n",
       "      <td>portuguese</td>\n",
       "      <td>PANTS</td>\n",
       "      <td>{Farm, Calça, Masculina, Green, Tradicional, J...</td>\n",
       "    </tr>\n",
       "    <tr>\n",
       "      <th>374256</th>\n",
       "      <td>Bermuda Cc Grisino</td>\n",
       "      <td>unreliable</td>\n",
       "      <td>spanish</td>\n",
       "      <td>SHORTS</td>\n",
       "      <td>{Bermuda, Grisino, Cc}</td>\n",
       "    </tr>\n",
       "    <tr>\n",
       "      <th>257321</th>\n",
       "      <td>Mala De Viagem - Grande Com Rodinhas / Batiki</td>\n",
       "      <td>unreliable</td>\n",
       "      <td>portuguese</td>\n",
       "      <td>SUITCASES</td>\n",
       "      <td>{Batiki, Mala, Grande, -, Viagem, De, Com, Rod...</td>\n",
       "    </tr>\n",
       "    <tr>\n",
       "      <th>120500</th>\n",
       "      <td>Cuba De Sobrepor Quadrada 93931602 Inox Válvul...</td>\n",
       "      <td>unreliable</td>\n",
       "      <td>portuguese</td>\n",
       "      <td>KITCHEN_SINKS</td>\n",
       "      <td>{Quadrada, Válvula, Tramontina, Cuba, Inox, So...</td>\n",
       "    </tr>\n",
       "  </tbody>\n",
       "</table>\n",
       "</div>"
      ],
      "text/plain": [
       "                                                    title label_quality  \\\n",
       "155538                   Dada 1  2  3  De Finca Las Moras    unreliable   \n",
       "168170  Calça Jeans King Farm Masculina Tradicional Gr...    unreliable   \n",
       "374256                                 Bermuda Cc Grisino    unreliable   \n",
       "257321      Mala De Viagem - Grande Com Rodinhas / Batiki    unreliable   \n",
       "120500  Cuba De Sobrepor Quadrada 93931602 Inox Válvul...    unreliable   \n",
       "\n",
       "          language       category  \\\n",
       "155538     spanish          WINES   \n",
       "168170  portuguese          PANTS   \n",
       "374256     spanish         SHORTS   \n",
       "257321  portuguese      SUITCASES   \n",
       "120500  portuguese  KITCHEN_SINKS   \n",
       "\n",
       "                                                   tokens  \n",
       "155538             {1, Finca, 2, Moras, De, Dada, Las, 3}  \n",
       "168170  {Farm, Calça, Masculina, Green, Tradicional, J...  \n",
       "374256                             {Bermuda, Grisino, Cc}  \n",
       "257321  {Batiki, Mala, Grande, -, Viagem, De, Com, Rod...  \n",
       "120500  {Quadrada, Válvula, Tramontina, Cuba, Inox, So...  "
      ]
     },
     "execution_count": 33,
     "metadata": {},
     "output_type": "execute_result"
    }
   ],
   "source": [
    "top_N = 5\n",
    "\n",
    "aux['tokens'] = aux.apply(tokenizer, axis=1)\n",
    "\n",
    "aux.sample(5)"
   ]
  },
  {
   "cell_type": "code",
   "execution_count": 34,
   "metadata": {},
   "outputs": [
    {
     "name": "stdout",
     "output_type": "stream",
     "text": [
      "<FreqDist with 8904 samples and 38900 outcomes>\n"
     ]
    },
    {
     "data": {
      "text/html": [
       "<div>\n",
       "<style scoped>\n",
       "    .dataframe tbody tr th:only-of-type {\n",
       "        vertical-align: middle;\n",
       "    }\n",
       "\n",
       "    .dataframe tbody tr th {\n",
       "        vertical-align: top;\n",
       "    }\n",
       "\n",
       "    .dataframe thead th {\n",
       "        text-align: right;\n",
       "    }\n",
       "</style>\n",
       "<table border=\"1\" class=\"dataframe\">\n",
       "  <thead>\n",
       "    <tr style=\"text-align: right;\">\n",
       "      <th></th>\n",
       "      <th>Word</th>\n",
       "      <th>Freq</th>\n",
       "    </tr>\n",
       "  </thead>\n",
       "  <tbody>\n",
       "    <tr>\n",
       "      <th>0</th>\n",
       "      <td>de</td>\n",
       "      <td>1312</td>\n",
       "    </tr>\n",
       "    <tr>\n",
       "      <th>1</th>\n",
       "      <td>-</td>\n",
       "      <td>657</td>\n",
       "    </tr>\n",
       "    <tr>\n",
       "      <th>2</th>\n",
       "      <td>!</td>\n",
       "      <td>371</td>\n",
       "    </tr>\n",
       "    <tr>\n",
       "      <th>3</th>\n",
       "      <td>+</td>\n",
       "      <td>331</td>\n",
       "    </tr>\n",
       "    <tr>\n",
       "      <th>4</th>\n",
       "      <td>,</td>\n",
       "      <td>265</td>\n",
       "    </tr>\n",
       "  </tbody>\n",
       "</table>\n",
       "</div>"
      ],
      "text/plain": [
       "  Word  Freq\n",
       "0   de  1312\n",
       "1    -   657\n",
       "2    !   371\n",
       "3    +   331\n",
       "4    ,   265"
      ]
     },
     "execution_count": 34,
     "metadata": {},
     "output_type": "execute_result"
    }
   ],
   "source": [
    "# Convierte todos los títulos de las publicaciones en un solo texto.\n",
    "doc = aux.title.str.lower().str.cat(sep=' ')\n",
    "\n",
    "words = nltk.tokenize.word_tokenize(doc)\n",
    "word_dist = nltk.FreqDist(words)\n",
    "print (word_dist)\n",
    "\n",
    "rslt = pd.DataFrame(word_dist.most_common(top_N), columns=['Word', 'Freq'])\n",
    "\n",
    "# Hay demasiadas stop words...\n",
    "rslt"
   ]
  },
  {
   "cell_type": "code",
   "execution_count": 35,
   "metadata": {},
   "outputs": [
    {
     "data": {
      "image/png": "[encoded data removed]",
      "text/plain": [
       "<Figure size 360x360 with 1 Axes>"
      ]
     },
     "metadata": {
      "needs_background": "light"
     },
     "output_type": "display_data"
    }
   ],
   "source": [
    "sns.catplot(x='Word', y='Freq', data=rslt.sort_values('Freq'), kind='bar');"
   ]
  },
  {
   "cell_type": "markdown",
   "metadata": {},
   "source": [
    "# Borrador: Usando Spacy"
   ]
  },
  {
   "cell_type": "code",
   "execution_count": 36,
   "metadata": {},
   "outputs": [],
   "source": [
    "# Copiamos el dataset original\n",
    "df_nlp = df_dataset.copy()"
   ]
  },
  {
   "cell_type": "code",
   "execution_count": 37,
   "metadata": {},
   "outputs": [],
   "source": [
    "import spacy\n",
    "\n",
    "\"\"\"\n",
    "TODO: Quizás una optimización posible sería cargar solamente los\n",
    "componentes que vamos a utilizar, es decir, el tokenizer y el tagger\n",
    "\"\"\"\n",
    "\n",
    "# Modelo para procesar Español\n",
    "nlp_es = spacy.load('es')\n",
    "# Modelo para procesar Portugués\n",
    "nlp_pt = spacy.load('pt')"
   ]
  },
  {
   "cell_type": "code",
   "execution_count": 38,
   "metadata": {},
   "outputs": [],
   "source": [
    "nlp_lang = {'spanish': nlp_es, 'portuguese': nlp_pt}\n",
    "\n",
    "def tokenizer(row):\n",
    "    \"\"\"\n",
    "    Dada una fila del dataset, aplica el procesamiento al título:\n",
    "    - Tokenizer: separa en tokens\n",
    "    - Tagger: agrega información sintáctica/semántica\n",
    "    Es importante procesar de acuerdo al lenguaje de la publicación.\n",
    "    \"\"\"\n",
    "    nlp = nlp_lang[row.language]\n",
    "    # Por cuestiones de eficiencia, solo aplicamos estas etapas.\n",
    "    return nlp.tagger(nlp.tokenizer(row.title))"
   ]
  },
  {
   "cell_type": "code",
   "execution_count": 39,
   "metadata": {},
   "outputs": [],
   "source": [
    "# Queremos algo manejable para probar...\n",
    "aux = df_nlp.sample(5000)"
   ]
  },
  {
   "cell_type": "code",
   "execution_count": 40,
   "metadata": {},
   "outputs": [
    {
     "data": {
      "text/html": [
       "<div>\n",
       "<style scoped>\n",
       "    .dataframe tbody tr th:only-of-type {\n",
       "        vertical-align: middle;\n",
       "    }\n",
       "\n",
       "    .dataframe tbody tr th {\n",
       "        vertical-align: top;\n",
       "    }\n",
       "\n",
       "    .dataframe thead th {\n",
       "        text-align: right;\n",
       "    }\n",
       "</style>\n",
       "<table border=\"1\" class=\"dataframe\">\n",
       "  <thead>\n",
       "    <tr style=\"text-align: right;\">\n",
       "      <th></th>\n",
       "      <th>title</th>\n",
       "      <th>label_quality</th>\n",
       "      <th>language</th>\n",
       "      <th>category</th>\n",
       "      <th>tokens</th>\n",
       "    </tr>\n",
       "  </thead>\n",
       "  <tbody>\n",
       "    <tr>\n",
       "      <th>355040</th>\n",
       "      <td>Set De 2 Valijas Chica Y Grande, Marca Owen, C...</td>\n",
       "      <td>unreliable</td>\n",
       "      <td>spanish</td>\n",
       "      <td>SUITCASES</td>\n",
       "      <td>(Set, De, 2, Valijas, Chica, Y, Grande, ,, Mar...</td>\n",
       "    </tr>\n",
       "    <tr>\n",
       "      <th>190974</th>\n",
       "      <td>Pantalón Elastizado Calza Gruesa Tiro Alto Bri...</td>\n",
       "      <td>unreliable</td>\n",
       "      <td>spanish</td>\n",
       "      <td>PANTS</td>\n",
       "      <td>(Pantalón, Elastizado, Calza, Gruesa, Tiro, Al...</td>\n",
       "    </tr>\n",
       "    <tr>\n",
       "      <th>115881</th>\n",
       "      <td>Korg M1 - Miralo...!! N0 Roland Xps10 Spdsx Kr...</td>\n",
       "      <td>reliable</td>\n",
       "      <td>spanish</td>\n",
       "      <td>MUSICAL_KEYBOARDS</td>\n",
       "      <td>(Korg, M1, -, Miralo, ..., !, !, N0, Roland, X...</td>\n",
       "    </tr>\n",
       "    <tr>\n",
       "      <th>37996</th>\n",
       "      <td>Caniches Blanco -semi Apricot  -nac 14/06/18</td>\n",
       "      <td>reliable</td>\n",
       "      <td>spanish</td>\n",
       "      <td>PUREBRED_DOGS</td>\n",
       "      <td>(Caniches, Blanco, -semi, Apricot,  , -nac, 14...</td>\n",
       "    </tr>\n",
       "    <tr>\n",
       "      <th>358529</th>\n",
       "      <td>Cortapelo Remington Hc1095 12 Piezas Lh Cuotas</td>\n",
       "      <td>unreliable</td>\n",
       "      <td>spanish</td>\n",
       "      <td>HAIR_CLIPPERS</td>\n",
       "      <td>(Cortapelo, Remington, Hc1095, 12, Piezas, Lh,...</td>\n",
       "    </tr>\n",
       "  </tbody>\n",
       "</table>\n",
       "</div>"
      ],
      "text/plain": [
       "                                                    title label_quality  \\\n",
       "355040  Set De 2 Valijas Chica Y Grande, Marca Owen, C...    unreliable   \n",
       "190974  Pantalón Elastizado Calza Gruesa Tiro Alto Bri...    unreliable   \n",
       "115881  Korg M1 - Miralo...!! N0 Roland Xps10 Spdsx Kr...      reliable   \n",
       "37996        Caniches Blanco -semi Apricot  -nac 14/06/18      reliable   \n",
       "358529     Cortapelo Remington Hc1095 12 Piezas Lh Cuotas    unreliable   \n",
       "\n",
       "       language           category  \\\n",
       "355040  spanish          SUITCASES   \n",
       "190974  spanish              PANTS   \n",
       "115881  spanish  MUSICAL_KEYBOARDS   \n",
       "37996   spanish      PUREBRED_DOGS   \n",
       "358529  spanish      HAIR_CLIPPERS   \n",
       "\n",
       "                                                   tokens  \n",
       "355040  (Set, De, 2, Valijas, Chica, Y, Grande, ,, Mar...  \n",
       "190974  (Pantalón, Elastizado, Calza, Gruesa, Tiro, Al...  \n",
       "115881  (Korg, M1, -, Miralo, ..., !, !, N0, Roland, X...  \n",
       "37996   (Caniches, Blanco, -semi, Apricot,  , -nac, 14...  \n",
       "358529  (Cortapelo, Remington, Hc1095, 12, Piezas, Lh,...  "
      ]
     },
     "execution_count": 40,
     "metadata": {},
     "output_type": "execute_result"
    }
   ],
   "source": [
    "aux['tokens'] = aux.apply(tokenizer, axis=1)\n",
    "\n",
    "aux.sample(5)"
   ]
  },
  {
   "cell_type": "code",
   "execution_count": 41,
   "metadata": {},
   "outputs": [
    {
     "data": {
      "text/html": [
       "<div>\n",
       "<style scoped>\n",
       "    .dataframe tbody tr th:only-of-type {\n",
       "        vertical-align: middle;\n",
       "    }\n",
       "\n",
       "    .dataframe tbody tr th {\n",
       "        vertical-align: top;\n",
       "    }\n",
       "\n",
       "    .dataframe thead th {\n",
       "        text-align: right;\n",
       "    }\n",
       "</style>\n",
       "<table border=\"1\" class=\"dataframe\">\n",
       "  <thead>\n",
       "    <tr style=\"text-align: right;\">\n",
       "      <th></th>\n",
       "      <th>title</th>\n",
       "      <th>label_quality</th>\n",
       "      <th>language</th>\n",
       "      <th>category</th>\n",
       "      <th>tokens</th>\n",
       "      <th>ammount_tokens</th>\n",
       "    </tr>\n",
       "  </thead>\n",
       "  <tbody>\n",
       "    <tr>\n",
       "      <th>127320</th>\n",
       "      <td>Piattelli Arlene Serie Blend - Cafayate Salta ...</td>\n",
       "      <td>unreliable</td>\n",
       "      <td>spanish</td>\n",
       "      <td>WINES</td>\n",
       "      <td>(Piattelli, Arlene, Serie, Blend, -, Cafayate,...</td>\n",
       "      <td>9</td>\n",
       "    </tr>\n",
       "    <tr>\n",
       "      <th>82778</th>\n",
       "      <td>Cafeteira Expresso Italiana 4 Cafés Xícaras Aç...</td>\n",
       "      <td>unreliable</td>\n",
       "      <td>portuguese</td>\n",
       "      <td>COFFEE_MAKERS</td>\n",
       "      <td>(Cafeteira, Expresso, Italiana, 4, Cafés, Xíca...</td>\n",
       "      <td>8</td>\n",
       "    </tr>\n",
       "    <tr>\n",
       "      <th>303114</th>\n",
       "      <td>Filhote Pug Abricot Mini</td>\n",
       "      <td>unreliable</td>\n",
       "      <td>portuguese</td>\n",
       "      <td>PUREBRED_DOGS</td>\n",
       "      <td>(Filhote, Pug, Abricot, Mini)</td>\n",
       "      <td>4</td>\n",
       "    </tr>\n",
       "    <tr>\n",
       "      <th>540255</th>\n",
       "      <td>Bacha Cocina Johnson Luxor Si85 + 4 Acc Y Grif...</td>\n",
       "      <td>unreliable</td>\n",
       "      <td>spanish</td>\n",
       "      <td>KITCHEN_SINKS</td>\n",
       "      <td>(Bacha, Cocina, Johnson, Luxor, Si85, +, 4, Ac...</td>\n",
       "      <td>11</td>\n",
       "    </tr>\n",
       "    <tr>\n",
       "      <th>639585</th>\n",
       "      <td>Cadeira Para Auto Graco Maxi-15 A 36 Kg. Novis...</td>\n",
       "      <td>unreliable</td>\n",
       "      <td>portuguese</td>\n",
       "      <td>BABY_CAR_SEATS</td>\n",
       "      <td>(Cadeira, Para, Auto, Graco, Maxi-15, A, 36, K...</td>\n",
       "      <td>11</td>\n",
       "    </tr>\n",
       "  </tbody>\n",
       "</table>\n",
       "</div>"
      ],
      "text/plain": [
       "                                                    title label_quality  \\\n",
       "127320  Piattelli Arlene Serie Blend - Cafayate Salta ...    unreliable   \n",
       "82778   Cafeteira Expresso Italiana 4 Cafés Xícaras Aç...    unreliable   \n",
       "303114                           Filhote Pug Abricot Mini    unreliable   \n",
       "540255  Bacha Cocina Johnson Luxor Si85 + 4 Acc Y Grif...    unreliable   \n",
       "639585  Cadeira Para Auto Graco Maxi-15 A 36 Kg. Novis...    unreliable   \n",
       "\n",
       "          language        category  \\\n",
       "127320     spanish           WINES   \n",
       "82778   portuguese   COFFEE_MAKERS   \n",
       "303114  portuguese   PUREBRED_DOGS   \n",
       "540255     spanish   KITCHEN_SINKS   \n",
       "639585  portuguese  BABY_CAR_SEATS   \n",
       "\n",
       "                                                   tokens  ammount_tokens  \n",
       "127320  (Piattelli, Arlene, Serie, Blend, -, Cafayate,...               9  \n",
       "82778   (Cafeteira, Expresso, Italiana, 4, Cafés, Xíca...               8  \n",
       "303114                      (Filhote, Pug, Abricot, Mini)               4  \n",
       "540255  (Bacha, Cocina, Johnson, Luxor, Si85, +, 4, Ac...              11  \n",
       "639585  (Cadeira, Para, Auto, Graco, Maxi-15, A, 36, K...              11  "
      ]
     },
     "execution_count": 41,
     "metadata": {},
     "output_type": "execute_result"
    }
   ],
   "source": [
    "# Ejercicio 1: Contar la cantidad de tokens.\n",
    "aux_ammount_tokens = aux.copy()\n",
    "\n",
    "aux_ammount_tokens['ammount_tokens'] = aux_ammount_tokens.tokens.apply(lambda tokens: len(tokens))\n",
    "\n",
    "aux_ammount_tokens.sample(5)"
   ]
  },
  {
   "cell_type": "code",
   "execution_count": 42,
   "metadata": {},
   "outputs": [
    {
     "data": {
      "text/html": [
       "<div>\n",
       "<style scoped>\n",
       "    .dataframe tbody tr th:only-of-type {\n",
       "        vertical-align: middle;\n",
       "    }\n",
       "\n",
       "    .dataframe tbody tr th {\n",
       "        vertical-align: top;\n",
       "    }\n",
       "\n",
       "    .dataframe thead th {\n",
       "        text-align: right;\n",
       "    }\n",
       "</style>\n",
       "<table border=\"1\" class=\"dataframe\">\n",
       "  <thead>\n",
       "    <tr style=\"text-align: right;\">\n",
       "      <th></th>\n",
       "      <th>category</th>\n",
       "      <th>ammount_tokens_mean</th>\n",
       "    </tr>\n",
       "  </thead>\n",
       "  <tbody>\n",
       "    <tr>\n",
       "      <th>0</th>\n",
       "      <td>BABY_CAR_SEATS</td>\n",
       "      <td>8.427509</td>\n",
       "    </tr>\n",
       "    <tr>\n",
       "      <th>1</th>\n",
       "      <td>BABY_STROLLERS</td>\n",
       "      <td>7.574297</td>\n",
       "    </tr>\n",
       "    <tr>\n",
       "      <th>2</th>\n",
       "      <td>COFFEE_MAKERS</td>\n",
       "      <td>7.426160</td>\n",
       "    </tr>\n",
       "    <tr>\n",
       "      <th>3</th>\n",
       "      <td>ELECTRIC_DRILLS</td>\n",
       "      <td>8.746032</td>\n",
       "    </tr>\n",
       "    <tr>\n",
       "      <th>4</th>\n",
       "      <td>HAIR_CLIPPERS</td>\n",
       "      <td>8.470356</td>\n",
       "    </tr>\n",
       "    <tr>\n",
       "      <th>5</th>\n",
       "      <td>KITCHEN_SINKS</td>\n",
       "      <td>9.327354</td>\n",
       "    </tr>\n",
       "    <tr>\n",
       "      <th>6</th>\n",
       "      <td>MATTRESSES</td>\n",
       "      <td>8.708502</td>\n",
       "    </tr>\n",
       "    <tr>\n",
       "      <th>7</th>\n",
       "      <td>MEMORY_CARDS</td>\n",
       "      <td>10.899281</td>\n",
       "    </tr>\n",
       "    <tr>\n",
       "      <th>8</th>\n",
       "      <td>MOTORCYCLE_JACKETS</td>\n",
       "      <td>7.821970</td>\n",
       "    </tr>\n",
       "    <tr>\n",
       "      <th>9</th>\n",
       "      <td>MUSICAL_KEYBOARDS</td>\n",
       "      <td>7.529412</td>\n",
       "    </tr>\n",
       "    <tr>\n",
       "      <th>10</th>\n",
       "      <td>PANTS</td>\n",
       "      <td>7.175097</td>\n",
       "    </tr>\n",
       "    <tr>\n",
       "      <th>11</th>\n",
       "      <td>PUREBRED_DOGS</td>\n",
       "      <td>6.176471</td>\n",
       "    </tr>\n",
       "    <tr>\n",
       "      <th>12</th>\n",
       "      <td>RANGES</td>\n",
       "      <td>8.619048</td>\n",
       "    </tr>\n",
       "    <tr>\n",
       "      <th>13</th>\n",
       "      <td>REFRIGERATORS</td>\n",
       "      <td>6.656126</td>\n",
       "    </tr>\n",
       "    <tr>\n",
       "      <th>14</th>\n",
       "      <td>ROLLER_SKATES</td>\n",
       "      <td>8.029289</td>\n",
       "    </tr>\n",
       "    <tr>\n",
       "      <th>15</th>\n",
       "      <td>SEWING_MACHINES</td>\n",
       "      <td>7.172414</td>\n",
       "    </tr>\n",
       "    <tr>\n",
       "      <th>16</th>\n",
       "      <td>SHORTS</td>\n",
       "      <td>7.360169</td>\n",
       "    </tr>\n",
       "    <tr>\n",
       "      <th>17</th>\n",
       "      <td>SUITCASES</td>\n",
       "      <td>8.995575</td>\n",
       "    </tr>\n",
       "    <tr>\n",
       "      <th>18</th>\n",
       "      <td>WALL_CLOCKS</td>\n",
       "      <td>8.404545</td>\n",
       "    </tr>\n",
       "    <tr>\n",
       "      <th>19</th>\n",
       "      <td>WINES</td>\n",
       "      <td>7.827869</td>\n",
       "    </tr>\n",
       "  </tbody>\n",
       "</table>\n",
       "</div>"
      ],
      "text/plain": [
       "              category  ammount_tokens_mean\n",
       "0       BABY_CAR_SEATS             8.427509\n",
       "1       BABY_STROLLERS             7.574297\n",
       "2        COFFEE_MAKERS             7.426160\n",
       "3      ELECTRIC_DRILLS             8.746032\n",
       "4        HAIR_CLIPPERS             8.470356\n",
       "5        KITCHEN_SINKS             9.327354\n",
       "6           MATTRESSES             8.708502\n",
       "7         MEMORY_CARDS            10.899281\n",
       "8   MOTORCYCLE_JACKETS             7.821970\n",
       "9    MUSICAL_KEYBOARDS             7.529412\n",
       "10               PANTS             7.175097\n",
       "11       PUREBRED_DOGS             6.176471\n",
       "12              RANGES             8.619048\n",
       "13       REFRIGERATORS             6.656126\n",
       "14       ROLLER_SKATES             8.029289\n",
       "15     SEWING_MACHINES             7.172414\n",
       "16              SHORTS             7.360169\n",
       "17           SUITCASES             8.995575\n",
       "18         WALL_CLOCKS             8.404545\n",
       "19               WINES             7.827869"
      ]
     },
     "execution_count": 42,
     "metadata": {},
     "output_type": "execute_result"
    }
   ],
   "source": [
    "relevant_cols = ['category', 'ammount_tokens']\n",
    "\n",
    "aux_ammount_tokens = aux_ammount_tokens[relevant_cols].groupby('category')\\\n",
    "    .agg(ammount_tokens_mean=('ammount_tokens', 'mean'))\\\n",
    "    .reset_index()\n",
    "\n",
    "aux_ammount_tokens"
   ]
  },
  {
   "cell_type": "code",
   "execution_count": 43,
   "metadata": {},
   "outputs": [
    {
     "data": {
      "image/png": "[encoded data removed]",
      "text/plain": [
       "<Figure size 360x360 with 1 Axes>"
      ]
     },
     "metadata": {
      "needs_background": "light"
     },
     "output_type": "display_data"
    }
   ],
   "source": [
    "# Mostramos en catplot el promedio de cantidad de tokens por categoría\n",
    "sns.catplot(x='ammount_tokens_mean', y='category', data=aux_ammount_tokens, kind='bar');"
   ]
  },
  {
   "cell_type": "code",
   "execution_count": 44,
   "metadata": {},
   "outputs": [
    {
     "data": {
      "text/html": [
       "<div>\n",
       "<style scoped>\n",
       "    .dataframe tbody tr th:only-of-type {\n",
       "        vertical-align: middle;\n",
       "    }\n",
       "\n",
       "    .dataframe tbody tr th {\n",
       "        vertical-align: top;\n",
       "    }\n",
       "\n",
       "    .dataframe thead th {\n",
       "        text-align: right;\n",
       "    }\n",
       "</style>\n",
       "<table border=\"1\" class=\"dataframe\">\n",
       "  <thead>\n",
       "    <tr style=\"text-align: right;\">\n",
       "      <th></th>\n",
       "      <th>title</th>\n",
       "      <th>label_quality</th>\n",
       "      <th>language</th>\n",
       "      <th>category</th>\n",
       "      <th>tokens</th>\n",
       "      <th>ammount_stop_words</th>\n",
       "    </tr>\n",
       "  </thead>\n",
       "  <tbody>\n",
       "    <tr>\n",
       "      <th>335618</th>\n",
       "      <td>Patins 4 Rodas Clássico Branco Rosa Menina Rol...</td>\n",
       "      <td>unreliable</td>\n",
       "      <td>portuguese</td>\n",
       "      <td>ROLLER_SKATES</td>\n",
       "      <td>(Patins, 4, Rodas, Clássico, Branco, Rosa, Men...</td>\n",
       "      <td>0</td>\n",
       "    </tr>\n",
       "    <tr>\n",
       "      <th>469638</th>\n",
       "      <td>Coche Quinny Buzz. Color Rojo, 1 Año De Uso.</td>\n",
       "      <td>unreliable</td>\n",
       "      <td>spanish</td>\n",
       "      <td>BABY_STROLLERS</td>\n",
       "      <td>(Coche, Quinny, Buzz, ., Color, Rojo, ,, 1, Añ...</td>\n",
       "      <td>2</td>\n",
       "    </tr>\n",
       "    <tr>\n",
       "      <th>32500</th>\n",
       "      <td>Cocina Bigas Cg956i 56cm 4 Hornallas Grill Ge ...</td>\n",
       "      <td>unreliable</td>\n",
       "      <td>spanish</td>\n",
       "      <td>RANGES</td>\n",
       "      <td>(Cocina, Bigas, Cg956i, 56, cm, 4, Hornallas, ...</td>\n",
       "      <td>0</td>\n",
       "    </tr>\n",
       "    <tr>\n",
       "      <th>45791</th>\n",
       "      <td>Cafeteira Italiana 6 Xícaras 300ml C/válvula S...</td>\n",
       "      <td>unreliable</td>\n",
       "      <td>portuguese</td>\n",
       "      <td>COFFEE_MAKERS</td>\n",
       "      <td>(Cafeteira, Italiana, 6, Xícaras, 300ml, C, /,...</td>\n",
       "      <td>0</td>\n",
       "    </tr>\n",
       "    <tr>\n",
       "      <th>549152</th>\n",
       "      <td>Yamaha Psr S650 Psrs650 Workstation 61 Tecla S...</td>\n",
       "      <td>unreliable</td>\n",
       "      <td>spanish</td>\n",
       "      <td>MUSICAL_KEYBOARDS</td>\n",
       "      <td>(Yamaha, Psr, S650, Psrs650, Workstation, 61, ...</td>\n",
       "      <td>0</td>\n",
       "    </tr>\n",
       "  </tbody>\n",
       "</table>\n",
       "</div>"
      ],
      "text/plain": [
       "                                                    title label_quality  \\\n",
       "335618  Patins 4 Rodas Clássico Branco Rosa Menina Rol...    unreliable   \n",
       "469638       Coche Quinny Buzz. Color Rojo, 1 Año De Uso.    unreliable   \n",
       "32500   Cocina Bigas Cg956i 56cm 4 Hornallas Grill Ge ...    unreliable   \n",
       "45791   Cafeteira Italiana 6 Xícaras 300ml C/válvula S...    unreliable   \n",
       "549152  Yamaha Psr S650 Psrs650 Workstation 61 Tecla S...    unreliable   \n",
       "\n",
       "          language           category  \\\n",
       "335618  portuguese      ROLLER_SKATES   \n",
       "469638     spanish     BABY_STROLLERS   \n",
       "32500      spanish             RANGES   \n",
       "45791   portuguese      COFFEE_MAKERS   \n",
       "549152     spanish  MUSICAL_KEYBOARDS   \n",
       "\n",
       "                                                   tokens  ammount_stop_words  \n",
       "335618  (Patins, 4, Rodas, Clássico, Branco, Rosa, Men...                   0  \n",
       "469638  (Coche, Quinny, Buzz, ., Color, Rojo, ,, 1, Añ...                   2  \n",
       "32500   (Cocina, Bigas, Cg956i, 56, cm, 4, Hornallas, ...                   0  \n",
       "45791   (Cafeteira, Italiana, 6, Xícaras, 300ml, C, /,...                   0  \n",
       "549152  (Yamaha, Psr, S650, Psrs650, Workstation, 61, ...                   0  "
      ]
     },
     "execution_count": 44,
     "metadata": {},
     "output_type": "execute_result"
    }
   ],
   "source": [
    "# Ejercicio 2: Contar la cantidad de stop words.\n",
    "aux_ammount_stop_words = aux.copy()\n",
    "\n",
    "count_stop_words = lambda tokens: sum(map(lambda t: t.is_stop, tokens))\n",
    "\n",
    "aux_ammount_stop_words['ammount_stop_words'] = aux_ammount_stop_words.tokens.apply(count_stop_words)\n",
    "\n",
    "aux_ammount_stop_words.sample(5)"
   ]
  },
  {
   "cell_type": "code",
   "execution_count": 45,
   "metadata": {},
   "outputs": [
    {
     "data": {
      "text/html": [
       "<div>\n",
       "<style scoped>\n",
       "    .dataframe tbody tr th:only-of-type {\n",
       "        vertical-align: middle;\n",
       "    }\n",
       "\n",
       "    .dataframe tbody tr th {\n",
       "        vertical-align: top;\n",
       "    }\n",
       "\n",
       "    .dataframe thead th {\n",
       "        text-align: right;\n",
       "    }\n",
       "</style>\n",
       "<table border=\"1\" class=\"dataframe\">\n",
       "  <thead>\n",
       "    <tr style=\"text-align: right;\">\n",
       "      <th></th>\n",
       "      <th>category</th>\n",
       "      <th>ammount_stop_words_mean</th>\n",
       "    </tr>\n",
       "  </thead>\n",
       "  <tbody>\n",
       "    <tr>\n",
       "      <th>0</th>\n",
       "      <td>BABY_CAR_SEATS</td>\n",
       "      <td>0.985130</td>\n",
       "    </tr>\n",
       "    <tr>\n",
       "      <th>1</th>\n",
       "      <td>BABY_STROLLERS</td>\n",
       "      <td>0.843373</td>\n",
       "    </tr>\n",
       "    <tr>\n",
       "      <th>2</th>\n",
       "      <td>COFFEE_MAKERS</td>\n",
       "      <td>0.561181</td>\n",
       "    </tr>\n",
       "    <tr>\n",
       "      <th>3</th>\n",
       "      <td>ELECTRIC_DRILLS</td>\n",
       "      <td>0.595238</td>\n",
       "    </tr>\n",
       "    <tr>\n",
       "      <th>4</th>\n",
       "      <td>HAIR_CLIPPERS</td>\n",
       "      <td>1.003953</td>\n",
       "    </tr>\n",
       "    <tr>\n",
       "      <th>5</th>\n",
       "      <td>KITCHEN_SINKS</td>\n",
       "      <td>0.713004</td>\n",
       "    </tr>\n",
       "    <tr>\n",
       "      <th>6</th>\n",
       "      <td>MATTRESSES</td>\n",
       "      <td>0.445344</td>\n",
       "    </tr>\n",
       "    <tr>\n",
       "      <th>7</th>\n",
       "      <td>MEMORY_CARDS</td>\n",
       "      <td>0.503597</td>\n",
       "    </tr>\n",
       "    <tr>\n",
       "      <th>8</th>\n",
       "      <td>MOTORCYCLE_JACKETS</td>\n",
       "      <td>0.295455</td>\n",
       "    </tr>\n",
       "    <tr>\n",
       "      <th>9</th>\n",
       "      <td>MUSICAL_KEYBOARDS</td>\n",
       "      <td>0.431373</td>\n",
       "    </tr>\n",
       "    <tr>\n",
       "      <th>10</th>\n",
       "      <td>PANTS</td>\n",
       "      <td>0.439689</td>\n",
       "    </tr>\n",
       "    <tr>\n",
       "      <th>11</th>\n",
       "      <td>PUREBRED_DOGS</td>\n",
       "      <td>0.761029</td>\n",
       "    </tr>\n",
       "    <tr>\n",
       "      <th>12</th>\n",
       "      <td>RANGES</td>\n",
       "      <td>0.486395</td>\n",
       "    </tr>\n",
       "    <tr>\n",
       "      <th>13</th>\n",
       "      <td>REFRIGERATORS</td>\n",
       "      <td>0.565217</td>\n",
       "    </tr>\n",
       "    <tr>\n",
       "      <th>14</th>\n",
       "      <td>ROLLER_SKATES</td>\n",
       "      <td>0.472803</td>\n",
       "    </tr>\n",
       "    <tr>\n",
       "      <th>15</th>\n",
       "      <td>SEWING_MACHINES</td>\n",
       "      <td>0.969828</td>\n",
       "    </tr>\n",
       "    <tr>\n",
       "      <th>16</th>\n",
       "      <td>SHORTS</td>\n",
       "      <td>0.495763</td>\n",
       "    </tr>\n",
       "    <tr>\n",
       "      <th>17</th>\n",
       "      <td>SUITCASES</td>\n",
       "      <td>0.977876</td>\n",
       "    </tr>\n",
       "    <tr>\n",
       "      <th>18</th>\n",
       "      <td>WALL_CLOCKS</td>\n",
       "      <td>1.231818</td>\n",
       "    </tr>\n",
       "    <tr>\n",
       "      <th>19</th>\n",
       "      <td>WINES</td>\n",
       "      <td>0.442623</td>\n",
       "    </tr>\n",
       "  </tbody>\n",
       "</table>\n",
       "</div>"
      ],
      "text/plain": [
       "              category  ammount_stop_words_mean\n",
       "0       BABY_CAR_SEATS                 0.985130\n",
       "1       BABY_STROLLERS                 0.843373\n",
       "2        COFFEE_MAKERS                 0.561181\n",
       "3      ELECTRIC_DRILLS                 0.595238\n",
       "4        HAIR_CLIPPERS                 1.003953\n",
       "5        KITCHEN_SINKS                 0.713004\n",
       "6           MATTRESSES                 0.445344\n",
       "7         MEMORY_CARDS                 0.503597\n",
       "8   MOTORCYCLE_JACKETS                 0.295455\n",
       "9    MUSICAL_KEYBOARDS                 0.431373\n",
       "10               PANTS                 0.439689\n",
       "11       PUREBRED_DOGS                 0.761029\n",
       "12              RANGES                 0.486395\n",
       "13       REFRIGERATORS                 0.565217\n",
       "14       ROLLER_SKATES                 0.472803\n",
       "15     SEWING_MACHINES                 0.969828\n",
       "16              SHORTS                 0.495763\n",
       "17           SUITCASES                 0.977876\n",
       "18         WALL_CLOCKS                 1.231818\n",
       "19               WINES                 0.442623"
      ]
     },
     "execution_count": 45,
     "metadata": {},
     "output_type": "execute_result"
    }
   ],
   "source": [
    "relevant_cols = ['category', 'ammount_stop_words']\n",
    "\n",
    "aux_ammount_stop_words = aux_ammount_stop_words[relevant_cols].groupby('category')\\\n",
    "    .agg(ammount_stop_words_mean=('ammount_stop_words', 'mean'))\\\n",
    "    .reset_index()\n",
    "\n",
    "aux_ammount_stop_words"
   ]
  },
  {
   "cell_type": "code",
   "execution_count": 46,
   "metadata": {},
   "outputs": [
    {
     "data": {
      "image/png": "[encoded data removed]",
      "text/plain": [
       "<Figure size 360x360 with 1 Axes>"
      ]
     },
     "metadata": {
      "needs_background": "light"
     },
     "output_type": "display_data"
    }
   ],
   "source": [
    "# Mostramos en catplot el promedio de cantidad de stop words por categoría\n",
    "sns.catplot(x='ammount_stop_words_mean', y='category', data=aux_ammount_stop_words, kind='bar');"
   ]
  },
  {
   "cell_type": "code",
   "execution_count": 47,
   "metadata": {},
   "outputs": [
    {
     "data": {
      "text/html": [
       "<div>\n",
       "<style scoped>\n",
       "    .dataframe tbody tr th:only-of-type {\n",
       "        vertical-align: middle;\n",
       "    }\n",
       "\n",
       "    .dataframe tbody tr th {\n",
       "        vertical-align: top;\n",
       "    }\n",
       "\n",
       "    .dataframe thead th {\n",
       "        text-align: right;\n",
       "    }\n",
       "</style>\n",
       "<table border=\"1\" class=\"dataframe\">\n",
       "  <thead>\n",
       "    <tr style=\"text-align: right;\">\n",
       "      <th></th>\n",
       "      <th>title</th>\n",
       "      <th>label_quality</th>\n",
       "      <th>language</th>\n",
       "      <th>category</th>\n",
       "      <th>tokens</th>\n",
       "      <th>ammount_words</th>\n",
       "    </tr>\n",
       "  </thead>\n",
       "  <tbody>\n",
       "    <tr>\n",
       "      <th>149019</th>\n",
       "      <td>Prancha Para Carrinho Britax - Suporte Para Ma...</td>\n",
       "      <td>unreliable</td>\n",
       "      <td>portuguese</td>\n",
       "      <td>BABY_STROLLERS</td>\n",
       "      <td>(Prancha, Para, Carrinho, Britax, -, Suporte, ...</td>\n",
       "      <td>{'Prancha': 1, 'Carrinho': 1, 'Britax': 1, '-'...</td>\n",
       "    </tr>\n",
       "    <tr>\n",
       "      <th>228543</th>\n",
       "      <td>Estelar Malbec De Bodega Domiciano</td>\n",
       "      <td>unreliable</td>\n",
       "      <td>spanish</td>\n",
       "      <td>WINES</td>\n",
       "      <td>(Estelar, Malbec, De, Bodega, Domiciano)</td>\n",
       "      <td>{'Estelar': 1, 'Malbec': 1, 'Bodega': 1, 'Domi...</td>\n",
       "    </tr>\n",
       "    <tr>\n",
       "      <th>535293</th>\n",
       "      <td>Trimmer Eléctrico Con Luz Led L959 Looking Goo...</td>\n",
       "      <td>unreliable</td>\n",
       "      <td>spanish</td>\n",
       "      <td>HAIR_CLIPPERS</td>\n",
       "      <td>(Trimmer, Eléctrico, Con, Luz, Led, L959, Look...</td>\n",
       "      <td>{'Trimmer': 1, 'Eléctrico': 1, 'Luz': 1, 'Led'...</td>\n",
       "    </tr>\n",
       "    <tr>\n",
       "      <th>212381</th>\n",
       "      <td>Cachorros Salchichas,preciosos</td>\n",
       "      <td>reliable</td>\n",
       "      <td>spanish</td>\n",
       "      <td>PUREBRED_DOGS</td>\n",
       "      <td>(Cachorros, Salchichas, ,, preciosos)</td>\n",
       "      <td>{'Cachorros': 1, 'Salchichas': 1, ',': 1, 'pre...</td>\n",
       "    </tr>\n",
       "    <tr>\n",
       "      <th>551350</th>\n",
       "      <td>Fogão De Piso Electrolux 4 Queimadores Inox Bi...</td>\n",
       "      <td>unreliable</td>\n",
       "      <td>portuguese</td>\n",
       "      <td>RANGES</td>\n",
       "      <td>(Fogão, De, Piso, Electrolux, 4, Queimadores, ...</td>\n",
       "      <td>{'Fogão': 1, 'Piso': 1, 'Electrolux': 1, '4': ...</td>\n",
       "    </tr>\n",
       "  </tbody>\n",
       "</table>\n",
       "</div>"
      ],
      "text/plain": [
       "                                                    title label_quality  \\\n",
       "149019  Prancha Para Carrinho Britax - Suporte Para Ma...    unreliable   \n",
       "228543                 Estelar Malbec De Bodega Domiciano    unreliable   \n",
       "535293  Trimmer Eléctrico Con Luz Led L959 Looking Goo...    unreliable   \n",
       "212381                     Cachorros Salchichas,preciosos      reliable   \n",
       "551350  Fogão De Piso Electrolux 4 Queimadores Inox Bi...    unreliable   \n",
       "\n",
       "          language        category  \\\n",
       "149019  portuguese  BABY_STROLLERS   \n",
       "228543     spanish           WINES   \n",
       "535293     spanish   HAIR_CLIPPERS   \n",
       "212381     spanish   PUREBRED_DOGS   \n",
       "551350  portuguese          RANGES   \n",
       "\n",
       "                                                   tokens  \\\n",
       "149019  (Prancha, Para, Carrinho, Britax, -, Suporte, ...   \n",
       "228543           (Estelar, Malbec, De, Bodega, Domiciano)   \n",
       "535293  (Trimmer, Eléctrico, Con, Luz, Led, L959, Look...   \n",
       "212381              (Cachorros, Salchichas, ,, preciosos)   \n",
       "551350  (Fogão, De, Piso, Electrolux, 4, Queimadores, ...   \n",
       "\n",
       "                                            ammount_words  \n",
       "149019  {'Prancha': 1, 'Carrinho': 1, 'Britax': 1, '-'...  \n",
       "228543  {'Estelar': 1, 'Malbec': 1, 'Bodega': 1, 'Domi...  \n",
       "535293  {'Trimmer': 1, 'Eléctrico': 1, 'Luz': 1, 'Led'...  \n",
       "212381  {'Cachorros': 1, 'Salchichas': 1, ',': 1, 'pre...  \n",
       "551350  {'Fogão': 1, 'Piso': 1, 'Electrolux': 1, '4': ...  "
      ]
     },
     "execution_count": 47,
     "metadata": {},
     "output_type": "execute_result"
    }
   ],
   "source": [
    "# Ejercicio 3: Encontrar las palabras más repetidas.\n",
    "from collections import Counter\n",
    "\n",
    "aux_ammount_words = aux.copy()\n",
    "\n",
    "count_words = lambda tokens: Counter([t.text for t in tokens if not t.is_stop])\n",
    "\n",
    "aux_ammount_words['ammount_words'] = aux_ammount_words.tokens.apply(count_words)\n",
    "\n",
    "aux_ammount_words.sample(5)"
   ]
  },
  {
   "cell_type": "code",
   "execution_count": 48,
   "metadata": {},
   "outputs": [],
   "source": [
    "def agg_counter_sum(series):\n",
    "    \"\"\"\n",
    "    Cada publicación tendrá un conteo de las palabras utilizadas en su título.\n",
    "    Agrupando por categoría, sumamos los contadores de cada publicación.\n",
    "    \"\"\"\n",
    "    return sum(series, Counter())"
   ]
  },
  {
   "cell_type": "code",
   "execution_count": 49,
   "metadata": {},
   "outputs": [
    {
     "data": {
      "text/html": [
       "<div>\n",
       "<style scoped>\n",
       "    .dataframe tbody tr th:only-of-type {\n",
       "        vertical-align: middle;\n",
       "    }\n",
       "\n",
       "    .dataframe tbody tr th {\n",
       "        vertical-align: top;\n",
       "    }\n",
       "\n",
       "    .dataframe thead th {\n",
       "        text-align: right;\n",
       "    }\n",
       "</style>\n",
       "<table border=\"1\" class=\"dataframe\">\n",
       "  <thead>\n",
       "    <tr style=\"text-align: right;\">\n",
       "      <th></th>\n",
       "      <th>category</th>\n",
       "      <th>ammount_words_counter</th>\n",
       "    </tr>\n",
       "  </thead>\n",
       "  <tbody>\n",
       "    <tr>\n",
       "      <th>0</th>\n",
       "      <td>BABY_CAR_SEATS</td>\n",
       "      <td>{'Bebê': 36, 'Conforto': 36, 'Galzerano': 6, '...</td>\n",
       "    </tr>\n",
       "    <tr>\n",
       "      <th>1</th>\n",
       "      <td>BABY_STROLLERS</td>\n",
       "      <td>{'Carrinho': 116, 'Kiddo': 12, 'Iii': 1, 'Maly...</td>\n",
       "    </tr>\n",
       "    <tr>\n",
       "      <th>2</th>\n",
       "      <td>COFFEE_MAKERS</td>\n",
       "      <td>{'Cafetera': 109, 'Italiana': 20, 'Gat': 1, 'L...</td>\n",
       "    </tr>\n",
       "    <tr>\n",
       "      <th>3</th>\n",
       "      <td>ELECTRIC_DRILLS</td>\n",
       "      <td>{'Rotor': 1, 'Taladro': 111, 'Black&amp;decker': 1...</td>\n",
       "    </tr>\n",
       "    <tr>\n",
       "      <th>4</th>\n",
       "      <td>HAIR_CLIPPERS</td>\n",
       "      <td>{'Máquina': 37, 'Profissional': 21, 'Cortar': ...</td>\n",
       "    </tr>\n",
       "    <tr>\n",
       "      <th>5</th>\n",
       "      <td>KITCHEN_SINKS</td>\n",
       "      <td>{'Rejilla': 1, 'Desagote': 1, 'Acero': 36, 'An...</td>\n",
       "    </tr>\n",
       "    <tr>\n",
       "      <th>6</th>\n",
       "      <td>MATTRESSES</td>\n",
       "      <td>{'Colchão': 115, 'Ortopédico': 3, 'Solteiro': ...</td>\n",
       "    </tr>\n",
       "    <tr>\n",
       "      <th>7</th>\n",
       "      <td>MEMORY_CARDS</td>\n",
       "      <td>{'Cartao': 12, 'Sony': 9, 'Sdxc': 27, 'Filmage...</td>\n",
       "    </tr>\n",
       "    <tr>\n",
       "      <th>8</th>\n",
       "      <td>MOTORCYCLE_JACKETS</td>\n",
       "      <td>{'Jaqueta': 144, 'Forza': 4, 'City': 4, 'Rider...</td>\n",
       "    </tr>\n",
       "    <tr>\n",
       "      <th>9</th>\n",
       "      <td>MUSICAL_KEYBOARDS</td>\n",
       "      <td>{'Kit': 4, 'Teclado': 173, 'Arranjador': 18, '...</td>\n",
       "    </tr>\n",
       "    <tr>\n",
       "      <th>10</th>\n",
       "      <td>PANTS</td>\n",
       "      <td>{'Calça': 107, 'Jeans': 70, 'Dardak': 1, 'Ciga...</td>\n",
       "    </tr>\n",
       "    <tr>\n",
       "      <th>11</th>\n",
       "      <td>PUREBRED_DOGS</td>\n",
       "      <td>{'Perro': 2, 'Caniche': 8, 'Dientes': 1, 'Shih...</td>\n",
       "    </tr>\n",
       "    <tr>\n",
       "      <th>12</th>\n",
       "      <td>RANGES</td>\n",
       "      <td>{'Cocina': 154, 'Escorial': 7, 'Palace': 5, 'B...</td>\n",
       "    </tr>\n",
       "    <tr>\n",
       "      <th>13</th>\n",
       "      <td>REFRIGERATORS</td>\n",
       "      <td>{'Heladera': 128, 'Briket': 2, 'Bk2fpl': 1, '3...</td>\n",
       "    </tr>\n",
       "    <tr>\n",
       "      <th>14</th>\n",
       "      <td>ROLLER_SKATES</td>\n",
       "      <td>{'Puppy': 1, 'Dog': 1, 'Pals': 1, 'Rollers': 5...</td>\n",
       "    </tr>\n",
       "    <tr>\n",
       "      <th>15</th>\n",
       "      <td>SEWING_MACHINES</td>\n",
       "      <td>{'Singer': 49, '2282c': 2, 'Maquina': 88, 'Cos...</td>\n",
       "    </tr>\n",
       "    <tr>\n",
       "      <th>16</th>\n",
       "      <td>SHORTS</td>\n",
       "      <td>{'Kit': 45, '20': 5, 'Bermuda': 80, 'Shorts': ...</td>\n",
       "    </tr>\n",
       "    <tr>\n",
       "      <th>17</th>\n",
       "      <td>SUITCASES</td>\n",
       "      <td>{'Valija': 69, 'Kangol': 1, '1': 4, 'Ultraligh...</td>\n",
       "    </tr>\n",
       "    <tr>\n",
       "      <th>18</th>\n",
       "      <td>WALL_CLOCKS</td>\n",
       "      <td>{'Mode': 1, 'Home': 2, '24-inch': 1, 'Metal': ...</td>\n",
       "    </tr>\n",
       "    <tr>\n",
       "      <th>19</th>\n",
       "      <td>WINES</td>\n",
       "      <td>{'Winerybox': 1, 'Regalar': 1, '!': 19, 'Vinho...</td>\n",
       "    </tr>\n",
       "  </tbody>\n",
       "</table>\n",
       "</div>"
      ],
      "text/plain": [
       "              category                              ammount_words_counter\n",
       "0       BABY_CAR_SEATS  {'Bebê': 36, 'Conforto': 36, 'Galzerano': 6, '...\n",
       "1       BABY_STROLLERS  {'Carrinho': 116, 'Kiddo': 12, 'Iii': 1, 'Maly...\n",
       "2        COFFEE_MAKERS  {'Cafetera': 109, 'Italiana': 20, 'Gat': 1, 'L...\n",
       "3      ELECTRIC_DRILLS  {'Rotor': 1, 'Taladro': 111, 'Black&decker': 1...\n",
       "4        HAIR_CLIPPERS  {'Máquina': 37, 'Profissional': 21, 'Cortar': ...\n",
       "5        KITCHEN_SINKS  {'Rejilla': 1, 'Desagote': 1, 'Acero': 36, 'An...\n",
       "6           MATTRESSES  {'Colchão': 115, 'Ortopédico': 3, 'Solteiro': ...\n",
       "7         MEMORY_CARDS  {'Cartao': 12, 'Sony': 9, 'Sdxc': 27, 'Filmage...\n",
       "8   MOTORCYCLE_JACKETS  {'Jaqueta': 144, 'Forza': 4, 'City': 4, 'Rider...\n",
       "9    MUSICAL_KEYBOARDS  {'Kit': 4, 'Teclado': 173, 'Arranjador': 18, '...\n",
       "10               PANTS  {'Calça': 107, 'Jeans': 70, 'Dardak': 1, 'Ciga...\n",
       "11       PUREBRED_DOGS  {'Perro': 2, 'Caniche': 8, 'Dientes': 1, 'Shih...\n",
       "12              RANGES  {'Cocina': 154, 'Escorial': 7, 'Palace': 5, 'B...\n",
       "13       REFRIGERATORS  {'Heladera': 128, 'Briket': 2, 'Bk2fpl': 1, '3...\n",
       "14       ROLLER_SKATES  {'Puppy': 1, 'Dog': 1, 'Pals': 1, 'Rollers': 5...\n",
       "15     SEWING_MACHINES  {'Singer': 49, '2282c': 2, 'Maquina': 88, 'Cos...\n",
       "16              SHORTS  {'Kit': 45, '20': 5, 'Bermuda': 80, 'Shorts': ...\n",
       "17           SUITCASES  {'Valija': 69, 'Kangol': 1, '1': 4, 'Ultraligh...\n",
       "18         WALL_CLOCKS  {'Mode': 1, 'Home': 2, '24-inch': 1, 'Metal': ...\n",
       "19               WINES  {'Winerybox': 1, 'Regalar': 1, '!': 19, 'Vinho..."
      ]
     },
     "execution_count": 49,
     "metadata": {},
     "output_type": "execute_result"
    }
   ],
   "source": [
    "relevant_cols = ['category', 'ammount_words']\n",
    "\n",
    "aux_ammount_words = aux_ammount_words[relevant_cols].groupby('category')\\\n",
    "    .agg(ammount_words_counter=('ammount_words', agg_counter_sum))\\\n",
    "    .reset_index()\n",
    "\n",
    "aux_ammount_words"
   ]
  },
  {
   "cell_type": "code",
   "execution_count": 50,
   "metadata": {},
   "outputs": [
    {
     "data": {
      "text/html": [
       "<div>\n",
       "<style scoped>\n",
       "    .dataframe tbody tr th:only-of-type {\n",
       "        vertical-align: middle;\n",
       "    }\n",
       "\n",
       "    .dataframe tbody tr th {\n",
       "        vertical-align: top;\n",
       "    }\n",
       "\n",
       "    .dataframe thead th {\n",
       "        text-align: right;\n",
       "    }\n",
       "</style>\n",
       "<table border=\"1\" class=\"dataframe\">\n",
       "  <thead>\n",
       "    <tr style=\"text-align: right;\">\n",
       "      <th></th>\n",
       "      <th>category</th>\n",
       "      <th>ammount_words_counter</th>\n",
       "    </tr>\n",
       "  </thead>\n",
       "  <tbody>\n",
       "    <tr>\n",
       "      <th>0</th>\n",
       "      <td>BABY_CAR_SEATS</td>\n",
       "      <td>[(Auto, 100), (Butaca, 82), (-, 69)]</td>\n",
       "    </tr>\n",
       "    <tr>\n",
       "      <th>1</th>\n",
       "      <td>BABY_STROLLERS</td>\n",
       "      <td>[(Carrinho, 116), (Bebê, 75), (Cochecito, 52)]</td>\n",
       "    </tr>\n",
       "    <tr>\n",
       "      <th>2</th>\n",
       "      <td>COFFEE_MAKERS</td>\n",
       "      <td>[(Cafetera, 109), (Cafeteira, 84), (-, 36)]</td>\n",
       "    </tr>\n",
       "    <tr>\n",
       "      <th>3</th>\n",
       "      <td>ELECTRIC_DRILLS</td>\n",
       "      <td>[(Furadeira, 128), (Taladro, 111), (Impacto, 1...</td>\n",
       "    </tr>\n",
       "    <tr>\n",
       "      <th>4</th>\n",
       "      <td>HAIR_CLIPPERS</td>\n",
       "      <td>[(Maquina, 71), (Wahl, 69), (Cabelo, 60)]</td>\n",
       "    </tr>\n",
       "    <tr>\n",
       "      <th>5</th>\n",
       "      <td>KITCHEN_SINKS</td>\n",
       "      <td>[(Bacha, 101), (Johnson, 91), (Cocina, 87)]</td>\n",
       "    </tr>\n",
       "    <tr>\n",
       "      <th>6</th>\n",
       "      <td>MATTRESSES</td>\n",
       "      <td>[(Colchão, 115), (Colchon, 74), (Colchón, 50)]</td>\n",
       "    </tr>\n",
       "    <tr>\n",
       "      <th>7</th>\n",
       "      <td>MEMORY_CARDS</td>\n",
       "      <td>[(gb, 216), (Sd, 151), (Micro, 150)]</td>\n",
       "    </tr>\n",
       "    <tr>\n",
       "      <th>8</th>\n",
       "      <td>MOTORCYCLE_JACKETS</td>\n",
       "      <td>[(Jaqueta, 144), (Campera, 105), (Moto, 61)]</td>\n",
       "    </tr>\n",
       "    <tr>\n",
       "      <th>9</th>\n",
       "      <td>MUSICAL_KEYBOARDS</td>\n",
       "      <td>[(Teclado, 173), (Casio, 79), (Yamaha, 61)]</td>\n",
       "    </tr>\n",
       "    <tr>\n",
       "      <th>10</th>\n",
       "      <td>PANTS</td>\n",
       "      <td>[(Calça, 107), (Jeans, 70), (Jean, 44)]</td>\n",
       "    </tr>\n",
       "    <tr>\n",
       "      <th>11</th>\n",
       "      <td>PUREBRED_DOGS</td>\n",
       "      <td>[(Filhotes, 50), (!, 46), (Macho, 32)]</td>\n",
       "    </tr>\n",
       "    <tr>\n",
       "      <th>12</th>\n",
       "      <td>RANGES</td>\n",
       "      <td>[(Cocina, 154), (Fogão, 127), (Bocas, 109)]</td>\n",
       "    </tr>\n",
       "    <tr>\n",
       "      <th>13</th>\n",
       "      <td>REFRIGERATORS</td>\n",
       "      <td>[(Heladera, 128), (Geladeira, 56), (Frost, 46)]</td>\n",
       "    </tr>\n",
       "    <tr>\n",
       "      <th>14</th>\n",
       "      <td>ROLLER_SKATES</td>\n",
       "      <td>[(Patins, 123), (Rollers, 53), (Roller, 51)]</td>\n",
       "    </tr>\n",
       "    <tr>\n",
       "      <th>15</th>\n",
       "      <td>SEWING_MACHINES</td>\n",
       "      <td>[(Maquina, 88), (Coser, 70), (Máquina, 64)]</td>\n",
       "    </tr>\n",
       "    <tr>\n",
       "      <th>16</th>\n",
       "      <td>SHORTS</td>\n",
       "      <td>[(Short, 95), (Bermuda, 80), (Kit, 45)]</td>\n",
       "    </tr>\n",
       "    <tr>\n",
       "      <th>17</th>\n",
       "      <td>SUITCASES</td>\n",
       "      <td>[(Mala, 101), (Viagem, 77), (Valija, 69)]</td>\n",
       "    </tr>\n",
       "    <tr>\n",
       "      <th>18</th>\n",
       "      <td>WALL_CLOCKS</td>\n",
       "      <td>[(Reloj, 99), (Relógio, 83), (Parede, 82)]</td>\n",
       "    </tr>\n",
       "    <tr>\n",
       "      <th>19</th>\n",
       "      <td>WINES</td>\n",
       "      <td>[(Vinho, 93), (Malbec, 73), (-, 64)]</td>\n",
       "    </tr>\n",
       "  </tbody>\n",
       "</table>\n",
       "</div>"
      ],
      "text/plain": [
       "              category                              ammount_words_counter\n",
       "0       BABY_CAR_SEATS               [(Auto, 100), (Butaca, 82), (-, 69)]\n",
       "1       BABY_STROLLERS     [(Carrinho, 116), (Bebê, 75), (Cochecito, 52)]\n",
       "2        COFFEE_MAKERS        [(Cafetera, 109), (Cafeteira, 84), (-, 36)]\n",
       "3      ELECTRIC_DRILLS  [(Furadeira, 128), (Taladro, 111), (Impacto, 1...\n",
       "4        HAIR_CLIPPERS          [(Maquina, 71), (Wahl, 69), (Cabelo, 60)]\n",
       "5        KITCHEN_SINKS        [(Bacha, 101), (Johnson, 91), (Cocina, 87)]\n",
       "6           MATTRESSES     [(Colchão, 115), (Colchon, 74), (Colchón, 50)]\n",
       "7         MEMORY_CARDS               [(gb, 216), (Sd, 151), (Micro, 150)]\n",
       "8   MOTORCYCLE_JACKETS       [(Jaqueta, 144), (Campera, 105), (Moto, 61)]\n",
       "9    MUSICAL_KEYBOARDS        [(Teclado, 173), (Casio, 79), (Yamaha, 61)]\n",
       "10               PANTS            [(Calça, 107), (Jeans, 70), (Jean, 44)]\n",
       "11       PUREBRED_DOGS             [(Filhotes, 50), (!, 46), (Macho, 32)]\n",
       "12              RANGES        [(Cocina, 154), (Fogão, 127), (Bocas, 109)]\n",
       "13       REFRIGERATORS    [(Heladera, 128), (Geladeira, 56), (Frost, 46)]\n",
       "14       ROLLER_SKATES       [(Patins, 123), (Rollers, 53), (Roller, 51)]\n",
       "15     SEWING_MACHINES        [(Maquina, 88), (Coser, 70), (Máquina, 64)]\n",
       "16              SHORTS            [(Short, 95), (Bermuda, 80), (Kit, 45)]\n",
       "17           SUITCASES          [(Mala, 101), (Viagem, 77), (Valija, 69)]\n",
       "18         WALL_CLOCKS         [(Reloj, 99), (Relógio, 83), (Parede, 82)]\n",
       "19               WINES               [(Vinho, 93), (Malbec, 73), (-, 64)]"
      ]
     },
     "execution_count": 50,
     "metadata": {},
     "output_type": "execute_result"
    }
   ],
   "source": [
    "# Nos quedamos con las 'top_words' de cada categoría.\n",
    "top_words = 3\n",
    "\n",
    "top_words_df = aux_ammount_words.copy()\n",
    "\n",
    "top_words_df['ammount_words_counter'] = top_words_df['ammount_words_counter']\\\n",
    "                                        .apply(lambda x: x.most_common(top_words))\n",
    "\n",
    "top_words_df"
   ]
  },
  {
   "cell_type": "markdown",
   "metadata": {},
   "source": [
    "Claramente no alcanza con filtrar las *stop words*, también debemos eliminar la puntuación, los símbolos, los números, y los espacios."
   ]
  },
  {
   "cell_type": "code",
   "execution_count": 51,
   "metadata": {},
   "outputs": [],
   "source": [
    "# Para un gráfico de barras, deberíamos acomodar nuestro df\n",
    "list_df = []\n",
    "for index, row in top_words_df.iterrows():\n",
    "    for word, count in row.ammount_words_counter:\n",
    "        list_df.append((row.category, word, count))\n",
    "\n",
    "plot_df = pd.DataFrame(list_df, columns=['category', 'word', 'count'])"
   ]
  },
  {
   "cell_type": "code",
   "execution_count": 52,
   "metadata": {},
   "outputs": [
    {
     "data": {
      "image/png": "[encoded data removed]",
      "text/plain": [
       "<Figure size 1080x360 with 1 Axes>"
      ]
     },
     "metadata": {
      "needs_background": "light"
     },
     "output_type": "display_data"
    }
   ],
   "source": [
    "import matplotlib.pyplot as plt\n",
    "\n",
    "plt.figure(figsize=(15, 5))\n",
    "\n",
    "\"\"\"\n",
    "TODO: Quizás ploty sea un mejor visualizador...\n",
    "\"\"\"\n",
    "sns.barplot(x='word', y='count', hue='category', data=plot_df);"
   ]
  },
  {
   "cell_type": "markdown",
   "metadata": {},
   "source": [
    "# ---------- Borrador ----------"
   ]
  },
  {
   "cell_type": "code",
   "execution_count": 53,
   "metadata": {},
   "outputs": [
    {
     "name": "stdout",
     "output_type": "stream",
     "text": [
      "¿Es un sustantivo? False\n",
      "Texto Valija, Infinitivo Valija, POS PROPN, Explicación proper noun, ¿Es Stop Word? False\n",
      "¿Es un sustantivo? False\n",
      "Texto Kangol, Infinitivo Kangol, POS PROPN, Explicación proper noun, ¿Es Stop Word? False\n",
      "¿Es un sustantivo? False\n",
      "Texto 1, Infinitivo 1, POS NUM, Explicación numeral, ¿Es Stop Word? False\n",
      "¿Es un sustantivo? False\n",
      "Texto Solo, Infinitivo Solo, POS PROPN, Explicación proper noun, ¿Es Stop Word? True\n",
      "¿Es un sustantivo? False\n",
      "Texto Uso, Infinitivo Uso, POS PROPN, Explicación proper noun, ¿Es Stop Word? True\n",
      "¿Es un sustantivo? False\n",
      "Texto Ultralight, Infinitivo Ultralight, POS PROPN, Explicación proper noun, ¿Es Stop Word? False\n"
     ]
    }
   ],
   "source": [
    "\"\"\"\n",
    "TODO: En realidad quisiéramos contar las siguientes POS\n",
    "- ENUM: Números y todo lo que sirva para enumerar\n",
    "- PUNCT: Puntuaciones y lo relacionado\n",
    "- SYM: Símbolos y caracteres no relacionados al alfabeto\n",
    "- SPACE: Espacios y lo demás\n",
    "\"\"\"\n",
    "\n",
    "# Tomamos un título de una publicación cualquiera\n",
    "ejemplo = aux.iloc[0]['tokens']\n",
    "\n",
    "for t in ejemplo:\n",
    "    print(f'¿Es un sustantivo? {t.pos_ == \"NOUN\"}')\n",
    "    print(f'Texto {t.text}, Infinitivo {t.lemma_}, POS {t.pos_}, Explicación {spacy.explain(t.pos_)}, ¿Es Stop Word? {t.is_stop}')"
   ]
  },
  {
   "cell_type": "markdown",
   "metadata": {},
   "source": [
    "**STOPWORD**\n",
    "\n",
    "In computing, **stop words** are words which are filtered out before or after *processing of natural language* data (text).\n",
    "Though **stop words** usually refers to the most common words in a language, there is no single universal list of stop words used by all natural language processing tools, and indeed not all tools even use such a list."
   ]
  },
  {
   "cell_type": "markdown",
   "metadata": {},
   "source": [
    "Necesitamos modelos para cada uno de los lenguajes.\n",
    "\n",
    "**Portugués**\n",
    "- `pt_core_news_sm`\n",
    "\n",
    "**Español**\n",
    "- `es_core_news_sm`"
   ]
  },
  {
   "cell_type": "code",
   "execution_count": 54,
   "metadata": {},
   "outputs": [
    {
     "name": "stdout",
     "output_type": "stream",
     "text": [
      "[('Esto', 'PRON'), ('es', 'AUX'), ('una', 'DET'), ('frase', 'NOUN'), ('.', 'PUNCT')]\n"
     ]
    }
   ],
   "source": [
    "import spacy\n",
    "\n",
    "nlp_es = spacy.load('es')\n",
    "\n",
    "doc = nlp_es('Esto es una frase.')\n",
    "\n",
    "print([(w.text, w.pos_) for w in doc])"
   ]
  },
  {
   "cell_type": "code",
   "execution_count": 55,
   "metadata": {},
   "outputs": [
    {
     "data": {
      "text/html": [
       "<div>\n",
       "<style scoped>\n",
       "    .dataframe tbody tr th:only-of-type {\n",
       "        vertical-align: middle;\n",
       "    }\n",
       "\n",
       "    .dataframe tbody tr th {\n",
       "        vertical-align: top;\n",
       "    }\n",
       "\n",
       "    .dataframe thead th {\n",
       "        text-align: right;\n",
       "    }\n",
       "</style>\n",
       "<table border=\"1\" class=\"dataframe\">\n",
       "  <thead>\n",
       "    <tr style=\"text-align: right;\">\n",
       "      <th></th>\n",
       "      <th>text</th>\n",
       "      <th>lemma</th>\n",
       "      <th>POS</th>\n",
       "      <th>explain</th>\n",
       "      <th>stopword</th>\n",
       "    </tr>\n",
       "  </thead>\n",
       "  <tbody>\n",
       "    <tr>\n",
       "      <th>0</th>\n",
       "      <td>Esto</td>\n",
       "      <td>Esto</td>\n",
       "      <td>PRON</td>\n",
       "      <td>pronoun</td>\n",
       "      <td>True</td>\n",
       "    </tr>\n",
       "    <tr>\n",
       "      <th>1</th>\n",
       "      <td>es</td>\n",
       "      <td>ser</td>\n",
       "      <td>AUX</td>\n",
       "      <td>auxiliary</td>\n",
       "      <td>True</td>\n",
       "    </tr>\n",
       "    <tr>\n",
       "      <th>2</th>\n",
       "      <td>una</td>\n",
       "      <td>uno</td>\n",
       "      <td>DET</td>\n",
       "      <td>determiner</td>\n",
       "      <td>True</td>\n",
       "    </tr>\n",
       "    <tr>\n",
       "      <th>3</th>\n",
       "      <td>frase</td>\n",
       "      <td>frase</td>\n",
       "      <td>NOUN</td>\n",
       "      <td>noun</td>\n",
       "      <td>False</td>\n",
       "    </tr>\n",
       "    <tr>\n",
       "      <th>4</th>\n",
       "      <td>.</td>\n",
       "      <td>.</td>\n",
       "      <td>PUNCT</td>\n",
       "      <td>punctuation</td>\n",
       "      <td>False</td>\n",
       "    </tr>\n",
       "  </tbody>\n",
       "</table>\n",
       "</div>"
      ],
      "text/plain": [
       "    text  lemma    POS      explain  stopword\n",
       "0   Esto   Esto   PRON      pronoun      True\n",
       "1     es    ser    AUX    auxiliary      True\n",
       "2    una    uno    DET   determiner      True\n",
       "3  frase  frase   NOUN         noun     False\n",
       "4      .      .  PUNCT  punctuation     False"
      ]
     },
     "execution_count": 55,
     "metadata": {},
     "output_type": "execute_result"
    }
   ],
   "source": [
    "cols = ('text', 'lemma', 'POS', 'explain', 'stopword')\n",
    "rows = []\n",
    "\n",
    "for t in doc:\n",
    "    row = [t.text, t.lemma_, t.pos_, spacy.explain(t.pos_), t.is_stop]\n",
    "    rows.append(row)\n",
    "\n",
    "pd.DataFrame(rows, columns=cols)"
   ]
  },
  {
   "cell_type": "code",
   "execution_count": 56,
   "metadata": {},
   "outputs": [
    {
     "data": {
      "text/html": [
       "<span class=\"tex2jax_ignore\"><svg xmlns=\"http://www.w3.org/2000/svg\" xmlns:xlink=\"http://www.w3.org/1999/xlink\" xml:lang=\"es\" id=\"4d2093e452854ebb83c51faeb8dc8f2f-0\" class=\"displacy\" width=\"750\" height=\"399.5\" direction=\"ltr\" style=\"max-width: none; height: 399.5px; color: #000000; background: #ffffff; font-family: Arial; direction: ltr\">\n",
       "<text class=\"displacy-token\" fill=\"currentColor\" text-anchor=\"middle\" y=\"309.5\">\n",
       "    <tspan class=\"displacy-word\" fill=\"currentColor\" x=\"50\">Esto</tspan>\n",
       "    <tspan class=\"displacy-tag\" dy=\"2em\" fill=\"currentColor\" x=\"50\">PRON</tspan>\n",
       "</text>\n",
       "\n",
       "<text class=\"displacy-token\" fill=\"currentColor\" text-anchor=\"middle\" y=\"309.5\">\n",
       "    <tspan class=\"displacy-word\" fill=\"currentColor\" x=\"225\">es</tspan>\n",
       "    <tspan class=\"displacy-tag\" dy=\"2em\" fill=\"currentColor\" x=\"225\">AUX</tspan>\n",
       "</text>\n",
       "\n",
       "<text class=\"displacy-token\" fill=\"currentColor\" text-anchor=\"middle\" y=\"309.5\">\n",
       "    <tspan class=\"displacy-word\" fill=\"currentColor\" x=\"400\">una</tspan>\n",
       "    <tspan class=\"displacy-tag\" dy=\"2em\" fill=\"currentColor\" x=\"400\">DET</tspan>\n",
       "</text>\n",
       "\n",
       "<text class=\"displacy-token\" fill=\"currentColor\" text-anchor=\"middle\" y=\"309.5\">\n",
       "    <tspan class=\"displacy-word\" fill=\"currentColor\" x=\"575\">frase.</tspan>\n",
       "    <tspan class=\"displacy-tag\" dy=\"2em\" fill=\"currentColor\" x=\"575\">NOUN</tspan>\n",
       "</text>\n",
       "\n",
       "<g class=\"displacy-arrow\">\n",
       "    <path class=\"displacy-arc\" id=\"arrow-4d2093e452854ebb83c51faeb8dc8f2f-0-0\" stroke-width=\"2px\" d=\"M70,264.5 C70,2.0 575.0,2.0 575.0,264.5\" fill=\"none\" stroke=\"currentColor\"/>\n",
       "    <text dy=\"1.25em\" style=\"font-size: 0.8em; letter-spacing: 1px\">\n",
       "        <textPath xlink:href=\"#arrow-4d2093e452854ebb83c51faeb8dc8f2f-0-0\" class=\"displacy-label\" startOffset=\"50%\" side=\"left\" fill=\"currentColor\" text-anchor=\"middle\">nsubj</textPath>\n",
       "    </text>\n",
       "    <path class=\"displacy-arrowhead\" d=\"M70,266.5 L62,254.5 78,254.5\" fill=\"currentColor\"/>\n",
       "</g>\n",
       "\n",
       "<g class=\"displacy-arrow\">\n",
       "    <path class=\"displacy-arc\" id=\"arrow-4d2093e452854ebb83c51faeb8dc8f2f-0-1\" stroke-width=\"2px\" d=\"M245,264.5 C245,89.5 570.0,89.5 570.0,264.5\" fill=\"none\" stroke=\"currentColor\"/>\n",
       "    <text dy=\"1.25em\" style=\"font-size: 0.8em; letter-spacing: 1px\">\n",
       "        <textPath xlink:href=\"#arrow-4d2093e452854ebb83c51faeb8dc8f2f-0-1\" class=\"displacy-label\" startOffset=\"50%\" side=\"left\" fill=\"currentColor\" text-anchor=\"middle\">cop</textPath>\n",
       "    </text>\n",
       "    <path class=\"displacy-arrowhead\" d=\"M245,266.5 L237,254.5 253,254.5\" fill=\"currentColor\"/>\n",
       "</g>\n",
       "\n",
       "<g class=\"displacy-arrow\">\n",
       "    <path class=\"displacy-arc\" id=\"arrow-4d2093e452854ebb83c51faeb8dc8f2f-0-2\" stroke-width=\"2px\" d=\"M420,264.5 C420,177.0 565.0,177.0 565.0,264.5\" fill=\"none\" stroke=\"currentColor\"/>\n",
       "    <text dy=\"1.25em\" style=\"font-size: 0.8em; letter-spacing: 1px\">\n",
       "        <textPath xlink:href=\"#arrow-4d2093e452854ebb83c51faeb8dc8f2f-0-2\" class=\"displacy-label\" startOffset=\"50%\" side=\"left\" fill=\"currentColor\" text-anchor=\"middle\">det</textPath>\n",
       "    </text>\n",
       "    <path class=\"displacy-arrowhead\" d=\"M420,266.5 L412,254.5 428,254.5\" fill=\"currentColor\"/>\n",
       "</g>\n",
       "</svg></span>"
      ],
      "text/plain": [
       "<IPython.core.display.HTML object>"
      ]
     },
     "metadata": {},
     "output_type": "display_data"
    }
   ],
   "source": [
    "from spacy import displacy\n",
    "\n",
    "displacy.render(doc, style='dep')"
   ]
  },
  {
   "cell_type": "code",
   "execution_count": 57,
   "metadata": {},
   "outputs": [
    {
     "name": "stdout",
     "output_type": "stream",
     "text": [
      "Cantidad SW para Español: 551\n"
     ]
    }
   ],
   "source": [
    "# Stop Words para Español\n",
    "from spacy.lang.es.stop_words import STOP_WORDS\n",
    "\n",
    "print(f'Cantidad SW para Español: {len(STOP_WORDS)}')"
   ]
  },
  {
   "cell_type": "code",
   "execution_count": 58,
   "metadata": {},
   "outputs": [
    {
     "name": "stdout",
     "output_type": "stream",
     "text": [
      "[('Esta', 'PRON'), ('é', 'AUX'), ('uma', 'DET'), ('frase', 'NOUN'), ('.', 'PUNCT')]\n"
     ]
    }
   ],
   "source": [
    "import spacy\n",
    "\n",
    "nlp_pt = spacy.load('pt')\n",
    "\n",
    "doc = nlp_pt('Esta é uma frase.')\n",
    "\n",
    "print([(w.text, w.pos_) for w in doc])"
   ]
  },
  {
   "cell_type": "markdown",
   "metadata": {},
   "source": [
    "## 3. Conclusiones"
   ]
  },
  {
   "cell_type": "code",
   "execution_count": 59,
   "metadata": {},
   "outputs": [],
   "source": [
    "# TO DO"
   ]
  }
 ],
 "metadata": {
  "kernelspec": {
   "display_name": "Python 3",
   "language": "python",
   "name": "python3"
  },
  "language_info": {
   "codemirror_mode": {
    "name": "ipython",
    "version": 3
   },
   "file_extension": ".py",
   "mimetype": "text/x-python",
   "name": "python",
   "nbconvert_exporter": "python",
   "pygments_lexer": "ipython3",
   "version": "3.9.4"
  }
 },
 "nbformat": 4,
 "nbformat_minor": 4
}
