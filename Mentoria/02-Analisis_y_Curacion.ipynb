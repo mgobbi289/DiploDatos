{
 "cells": [
  {
   "cell_type": "markdown",
   "metadata": {},
   "source": [
    "# DiploDatos 2021\n",
    "\n",
    "\n",
    "### Categorización de publicaciones de productos realizadas en Mercado Libre"
   ]
  },
  {
   "cell_type": "markdown",
   "metadata": {},
   "source": [
    "### 02 - Análisis y Curación"
   ]
  },
  {
   "cell_type": "markdown",
   "metadata": {},
   "source": [
    "#### Condiciones generales que aplican a todos los prácticos:\n",
    "   - Las notebooks tienen que ser 100% reproducibles, es decir al ejecutar las celdas tal cuál como se entrega la notebook se deben obtener los mismos resultados sin errores.\n",
    "   - Código legible, haciendo buen uso de las celdas de la notebook y en lo posible seguir estándares de código para *Python* (https://www.python.org/dev/peps/pep-0008/).\n",
    "   - Utilizar celdas tipo *Markdown* para ir guiando el análisis.\n",
    "   - Limpiar el output de las celdas antes de entregar el notebook (ir a *Kernel* --> *Restart Kernel and Clear All Ouputs*).\n",
    "   - Incluir conclusiones del análisis que se hizo en la sección \"Conclusiones\". Tratar de aportar valor en esta sección, ser creativo."
   ]
  },
  {
   "cell_type": "markdown",
   "metadata": {},
   "source": [
    "## 1. Consignas"
   ]
  },
  {
   "cell_type": "markdown",
   "metadata": {},
   "source": [
    "#### Sección A:  Limpieza de texto / Preprocessing\n",
    "\n",
    "Tener en cuenta lo siguiente: \n",
    "\n",
    "1. *Unidecode*\n",
    "\n",
    "2. Pasar a minúsculas\n",
    "\n",
    "3. Limpiar números\n",
    "\n",
    "4. Limpiar símbolos **(** ' ! ¡ \" @ % & * , . : ; < = > ? @ \\ ^ _ { | } ~ \\t \\n [ ] ` $ **)**\n",
    "\n",
    "5. Limpiar caracteres que suelen usarse como espacios **(** ' + ( ) - \\ **)**\n",
    "\n",
    "6. Reemplazar contracciones, por ejemplo, **c/u** por *cada uno*, **c/** por *con*, **p/** por *para*.\n",
    "\n",
    "7. Etc."
   ]
  },
  {
   "cell_type": "markdown",
   "metadata": {},
   "source": [
    "#### Sección B: Tokenización & Secuencias"
   ]
  },
  {
   "cell_type": "markdown",
   "metadata": {},
   "source": [
    "1. Utilizar métodos `fit_on_texts()`, `texts_to_sequences()`, y `pad_sequences()`:\n",
    "\n",
    "- https://keras.io/api/preprocessing/text/#tokenizer-class\n",
    "\n",
    "- https://www.tensorflow.org/api_docs/python/tf/keras/preprocessing/sequence/pad_sequences"
   ]
  },
  {
   "cell_type": "markdown",
   "metadata": {},
   "source": [
    "#### Sección C: Label Encoding"
   ]
  },
  {
   "cell_type": "markdown",
   "metadata": {},
   "source": [
    "1. Utilizar método `LabelEncoder()` de *sklearn*:\n",
    "\n",
    "- https://scikit-learn.org/stable/modules/generated/sklearn.preprocessing.LabelEncoder.html"
   ]
  },
  {
   "cell_type": "markdown",
   "metadata": {},
   "source": [
    "#### Sección D: Word Embeddings\n",
    "\n",
    "Generar los *word embeddings* correspondientes, de las siguientes dos formas:\n",
    "\n",
    "1. *Custom Word Embeddings*\n",
    "2. *Loading Pretrained Word Embeddings* (**opcional**)\n",
    "\n",
    "En ambos puntos el objetivos final es llegar a crear la *embedding layer* de *keras*:\n",
    "\n",
    "- https://keras.io/api/layers/core_layers/embedding/"
   ]
  },
  {
   "cell_type": "markdown",
   "metadata": {},
   "source": [
    "## 2. Código y análisis"
   ]
  },
  {
   "cell_type": "markdown",
   "metadata": {},
   "source": [
    "Imports necesarios"
   ]
  },
  {
   "cell_type": "code",
   "execution_count": 1,
   "metadata": {},
   "outputs": [
    {
     "name": "stderr",
     "output_type": "stream",
     "text": [
      "[nltk_data] Downloading package punkt to /home/mgobbi289/nltk_data...\n",
      "[nltk_data]   Package punkt is already up-to-date!\n",
      "[nltk_data] Downloading package stopwords to\n",
      "[nltk_data]     /home/mgobbi289/nltk_data...\n",
      "[nltk_data]   Package stopwords is already up-to-date!\n"
     ]
    },
    {
     "data": {
      "text/plain": [
       "True"
      ]
     },
     "execution_count": 1,
     "metadata": {},
     "output_type": "execute_result"
    }
   ],
   "source": [
    "import pandas as pd\n",
    "import nltk\n",
    "import re\n",
    "from unidecode import unidecode\n",
    "\n",
    "# Esto sirve para configurar NLTK. La primera vez puede tardar un poco...\n",
    "nltk.download('punkt')\n",
    "nltk.download('stopwords')"
   ]
  },
  {
   "cell_type": "markdown",
   "metadata": {},
   "source": [
    "Lectura de dataset reducido"
   ]
  },
  {
   "cell_type": "code",
   "execution_count": 2,
   "metadata": {},
   "outputs": [],
   "source": [
    "df_dataset = pd.read_csv('DataSet/dataset.csv')"
   ]
  },
  {
   "cell_type": "markdown",
   "metadata": {},
   "source": [
    "Estudiamos el dataset brevemente antes de comenzar a operar sobre el mismo"
   ]
  },
  {
   "cell_type": "code",
   "execution_count": 3,
   "metadata": {},
   "outputs": [
    {
     "data": {
      "text/html": [
       "<div>\n",
       "<style scoped>\n",
       "    .dataframe tbody tr th:only-of-type {\n",
       "        vertical-align: middle;\n",
       "    }\n",
       "\n",
       "    .dataframe tbody tr th {\n",
       "        vertical-align: top;\n",
       "    }\n",
       "\n",
       "    .dataframe thead th {\n",
       "        text-align: right;\n",
       "    }\n",
       "</style>\n",
       "<table border=\"1\" class=\"dataframe\">\n",
       "  <thead>\n",
       "    <tr style=\"text-align: right;\">\n",
       "      <th></th>\n",
       "      <th>title</th>\n",
       "      <th>label_quality</th>\n",
       "      <th>language</th>\n",
       "      <th>category</th>\n",
       "    </tr>\n",
       "  </thead>\n",
       "  <tbody>\n",
       "    <tr>\n",
       "      <th>count</th>\n",
       "      <td>646760</td>\n",
       "      <td>646760</td>\n",
       "      <td>646760</td>\n",
       "      <td>646760</td>\n",
       "    </tr>\n",
       "    <tr>\n",
       "      <th>unique</th>\n",
       "      <td>646019</td>\n",
       "      <td>2</td>\n",
       "      <td>2</td>\n",
       "      <td>20</td>\n",
       "    </tr>\n",
       "    <tr>\n",
       "      <th>top</th>\n",
       "      <td>Teclado Casio Ctk4200</td>\n",
       "      <td>unreliable</td>\n",
       "      <td>portuguese</td>\n",
       "      <td>PANTS</td>\n",
       "    </tr>\n",
       "    <tr>\n",
       "      <th>freq</th>\n",
       "      <td>2</td>\n",
       "      <td>551878</td>\n",
       "      <td>328992</td>\n",
       "      <td>35973</td>\n",
       "    </tr>\n",
       "  </tbody>\n",
       "</table>\n",
       "</div>"
      ],
      "text/plain": [
       "                        title label_quality    language category\n",
       "count                  646760        646760      646760   646760\n",
       "unique                 646019             2           2       20\n",
       "top     Teclado Casio Ctk4200    unreliable  portuguese    PANTS\n",
       "freq                        2        551878      328992    35973"
      ]
     },
     "execution_count": 3,
     "metadata": {},
     "output_type": "execute_result"
    }
   ],
   "source": [
    "df_dataset.describe()"
   ]
  },
  {
   "cell_type": "code",
   "execution_count": 4,
   "metadata": {},
   "outputs": [
    {
     "name": "stdout",
     "output_type": "stream",
     "text": [
      "Dimensiones: (646760, 4)\n"
     ]
    }
   ],
   "source": [
    "print(f'Dimensiones: {df_dataset.shape}')"
   ]
  },
  {
   "cell_type": "code",
   "execution_count": 5,
   "metadata": {},
   "outputs": [
    {
     "name": "stdout",
     "output_type": "stream",
     "text": [
      "Variables: ['title', 'label_quality', 'language', 'category']\n"
     ]
    }
   ],
   "source": [
    "print(f'Variables: {list(df_dataset.columns)}')"
   ]
  },
  {
   "cell_type": "markdown",
   "metadata": {},
   "source": [
    "**Unidecode**\n",
    "\n",
    "Principalmente, se eliminan los tildes (en ambos idiomas)."
   ]
  },
  {
   "cell_type": "code",
   "execution_count": 6,
   "metadata": {},
   "outputs": [
    {
     "data": {
      "text/html": [
       "<div>\n",
       "<style scoped>\n",
       "    .dataframe tbody tr th:only-of-type {\n",
       "        vertical-align: middle;\n",
       "    }\n",
       "\n",
       "    .dataframe tbody tr th {\n",
       "        vertical-align: top;\n",
       "    }\n",
       "\n",
       "    .dataframe thead th {\n",
       "        text-align: right;\n",
       "    }\n",
       "</style>\n",
       "<table border=\"1\" class=\"dataframe\">\n",
       "  <thead>\n",
       "    <tr style=\"text-align: right;\">\n",
       "      <th></th>\n",
       "      <th>title</th>\n",
       "      <th>label_quality</th>\n",
       "      <th>language</th>\n",
       "      <th>category</th>\n",
       "    </tr>\n",
       "  </thead>\n",
       "  <tbody>\n",
       "    <tr>\n",
       "      <th>181848</th>\n",
       "      <td>Fogão A Gás 4 Bocas Industrial  Innal Alta Pre...</td>\n",
       "      <td>reliable</td>\n",
       "      <td>portuguese</td>\n",
       "      <td>RANGES</td>\n",
       "    </tr>\n",
       "    <tr>\n",
       "      <th>478587</th>\n",
       "      <td>Heladera  Saccol  Mod. Hsa32 320 Litros</td>\n",
       "      <td>unreliable</td>\n",
       "      <td>spanish</td>\n",
       "      <td>REFRIGERATORS</td>\n",
       "    </tr>\n",
       "    <tr>\n",
       "      <th>606516</th>\n",
       "      <td>Fogão Com Porta Full Glass E Timer E Relógio D...</td>\n",
       "      <td>unreliable</td>\n",
       "      <td>portuguese</td>\n",
       "      <td>RANGES</td>\n",
       "    </tr>\n",
       "    <tr>\n",
       "      <th>534521</th>\n",
       "      <td>The Beatles 09 - Relógio Disco De Vinil Decora...</td>\n",
       "      <td>unreliable</td>\n",
       "      <td>portuguese</td>\n",
       "      <td>WALL_CLOCKS</td>\n",
       "    </tr>\n",
       "    <tr>\n",
       "      <th>450844</th>\n",
       "      <td>Relógio De Parede Carrilhão Herweg Ref: 5352-084</td>\n",
       "      <td>reliable</td>\n",
       "      <td>portuguese</td>\n",
       "      <td>WALL_CLOCKS</td>\n",
       "    </tr>\n",
       "    <tr>\n",
       "      <th>352207</th>\n",
       "      <td>Aparadora Acabamento Maquina 100% Original Pan...</td>\n",
       "      <td>reliable</td>\n",
       "      <td>portuguese</td>\n",
       "      <td>HAIR_CLIPPERS</td>\n",
       "    </tr>\n",
       "    <tr>\n",
       "      <th>320466</th>\n",
       "      <td>Filhote Spitz Alemão Laranja Com Pedigree Cbkc</td>\n",
       "      <td>unreliable</td>\n",
       "      <td>portuguese</td>\n",
       "      <td>PUREBRED_DOGS</td>\n",
       "    </tr>\n",
       "    <tr>\n",
       "      <th>517042</th>\n",
       "      <td>Heladera Siam Hsi-rt60 Roja 420 Litros Retro C...</td>\n",
       "      <td>unreliable</td>\n",
       "      <td>spanish</td>\n",
       "      <td>REFRIGERATORS</td>\n",
       "    </tr>\n",
       "    <tr>\n",
       "      <th>519168</th>\n",
       "      <td>Teclado Korg Pa 600 Novíssimo Sem Detalhes</td>\n",
       "      <td>reliable</td>\n",
       "      <td>portuguese</td>\n",
       "      <td>MUSICAL_KEYBOARDS</td>\n",
       "    </tr>\n",
       "    <tr>\n",
       "      <th>407836</th>\n",
       "      <td>Mala Berlim, Azul Marinho, M - Hg703m - Le Pos...</td>\n",
       "      <td>unreliable</td>\n",
       "      <td>portuguese</td>\n",
       "      <td>SUITCASES</td>\n",
       "    </tr>\n",
       "  </tbody>\n",
       "</table>\n",
       "</div>"
      ],
      "text/plain": [
       "                                                    title label_quality  \\\n",
       "181848  Fogão A Gás 4 Bocas Industrial  Innal Alta Pre...      reliable   \n",
       "478587            Heladera  Saccol  Mod. Hsa32 320 Litros    unreliable   \n",
       "606516  Fogão Com Porta Full Glass E Timer E Relógio D...    unreliable   \n",
       "534521  The Beatles 09 - Relógio Disco De Vinil Decora...    unreliable   \n",
       "450844   Relógio De Parede Carrilhão Herweg Ref: 5352-084      reliable   \n",
       "352207  Aparadora Acabamento Maquina 100% Original Pan...      reliable   \n",
       "320466    Filhote Spitz Alemão Laranja Com Pedigree Cbkc     unreliable   \n",
       "517042  Heladera Siam Hsi-rt60 Roja 420 Litros Retro C...    unreliable   \n",
       "519168         Teclado Korg Pa 600 Novíssimo Sem Detalhes      reliable   \n",
       "407836  Mala Berlim, Azul Marinho, M - Hg703m - Le Pos...    unreliable   \n",
       "\n",
       "          language           category  \n",
       "181848  portuguese             RANGES  \n",
       "478587     spanish      REFRIGERATORS  \n",
       "606516  portuguese             RANGES  \n",
       "534521  portuguese        WALL_CLOCKS  \n",
       "450844  portuguese        WALL_CLOCKS  \n",
       "352207  portuguese      HAIR_CLIPPERS  \n",
       "320466  portuguese      PUREBRED_DOGS  \n",
       "517042     spanish      REFRIGERATORS  \n",
       "519168  portuguese  MUSICAL_KEYBOARDS  \n",
       "407836  portuguese          SUITCASES  "
      ]
     },
     "execution_count": 6,
     "metadata": {},
     "output_type": "execute_result"
    }
   ],
   "source": [
    "df_dataset.sample(10, random_state=123)"
   ]
  },
  {
   "cell_type": "code",
   "execution_count": 7,
   "metadata": {},
   "outputs": [],
   "source": [
    "df_dataset['clean_title'] = df_dataset.title.apply(unidecode)"
   ]
  },
  {
   "cell_type": "code",
   "execution_count": 8,
   "metadata": {},
   "outputs": [
    {
     "data": {
      "text/html": [
       "<div>\n",
       "<style scoped>\n",
       "    .dataframe tbody tr th:only-of-type {\n",
       "        vertical-align: middle;\n",
       "    }\n",
       "\n",
       "    .dataframe tbody tr th {\n",
       "        vertical-align: top;\n",
       "    }\n",
       "\n",
       "    .dataframe thead th {\n",
       "        text-align: right;\n",
       "    }\n",
       "</style>\n",
       "<table border=\"1\" class=\"dataframe\">\n",
       "  <thead>\n",
       "    <tr style=\"text-align: right;\">\n",
       "      <th></th>\n",
       "      <th>title</th>\n",
       "      <th>label_quality</th>\n",
       "      <th>language</th>\n",
       "      <th>category</th>\n",
       "      <th>clean_title</th>\n",
       "    </tr>\n",
       "  </thead>\n",
       "  <tbody>\n",
       "    <tr>\n",
       "      <th>181848</th>\n",
       "      <td>Fogão A Gás 4 Bocas Industrial  Innal Alta Pre...</td>\n",
       "      <td>reliable</td>\n",
       "      <td>portuguese</td>\n",
       "      <td>RANGES</td>\n",
       "      <td>Fogao A Gas 4 Bocas Industrial  Innal Alta Pre...</td>\n",
       "    </tr>\n",
       "    <tr>\n",
       "      <th>478587</th>\n",
       "      <td>Heladera  Saccol  Mod. Hsa32 320 Litros</td>\n",
       "      <td>unreliable</td>\n",
       "      <td>spanish</td>\n",
       "      <td>REFRIGERATORS</td>\n",
       "      <td>Heladera  Saccol  Mod. Hsa32 320 Litros</td>\n",
       "    </tr>\n",
       "    <tr>\n",
       "      <th>606516</th>\n",
       "      <td>Fogão Com Porta Full Glass E Timer E Relógio D...</td>\n",
       "      <td>unreliable</td>\n",
       "      <td>portuguese</td>\n",
       "      <td>RANGES</td>\n",
       "      <td>Fogao Com Porta Full Glass E Timer E Relogio D...</td>\n",
       "    </tr>\n",
       "    <tr>\n",
       "      <th>534521</th>\n",
       "      <td>The Beatles 09 - Relógio Disco De Vinil Decora...</td>\n",
       "      <td>unreliable</td>\n",
       "      <td>portuguese</td>\n",
       "      <td>WALL_CLOCKS</td>\n",
       "      <td>The Beatles 09 - Relogio Disco De Vinil Decora...</td>\n",
       "    </tr>\n",
       "    <tr>\n",
       "      <th>450844</th>\n",
       "      <td>Relógio De Parede Carrilhão Herweg Ref: 5352-084</td>\n",
       "      <td>reliable</td>\n",
       "      <td>portuguese</td>\n",
       "      <td>WALL_CLOCKS</td>\n",
       "      <td>Relogio De Parede Carrilhao Herweg Ref: 5352-084</td>\n",
       "    </tr>\n",
       "    <tr>\n",
       "      <th>352207</th>\n",
       "      <td>Aparadora Acabamento Maquina 100% Original Pan...</td>\n",
       "      <td>reliable</td>\n",
       "      <td>portuguese</td>\n",
       "      <td>HAIR_CLIPPERS</td>\n",
       "      <td>Aparadora Acabamento Maquina 100% Original Pan...</td>\n",
       "    </tr>\n",
       "    <tr>\n",
       "      <th>320466</th>\n",
       "      <td>Filhote Spitz Alemão Laranja Com Pedigree Cbkc</td>\n",
       "      <td>unreliable</td>\n",
       "      <td>portuguese</td>\n",
       "      <td>PUREBRED_DOGS</td>\n",
       "      <td>Filhote Spitz Alemao Laranja Com Pedigree Cbkc</td>\n",
       "    </tr>\n",
       "    <tr>\n",
       "      <th>517042</th>\n",
       "      <td>Heladera Siam Hsi-rt60 Roja 420 Litros Retro C...</td>\n",
       "      <td>unreliable</td>\n",
       "      <td>spanish</td>\n",
       "      <td>REFRIGERATORS</td>\n",
       "      <td>Heladera Siam Hsi-rt60 Roja 420 Litros Retro C...</td>\n",
       "    </tr>\n",
       "    <tr>\n",
       "      <th>519168</th>\n",
       "      <td>Teclado Korg Pa 600 Novíssimo Sem Detalhes</td>\n",
       "      <td>reliable</td>\n",
       "      <td>portuguese</td>\n",
       "      <td>MUSICAL_KEYBOARDS</td>\n",
       "      <td>Teclado Korg Pa 600 Novissimo Sem Detalhes</td>\n",
       "    </tr>\n",
       "    <tr>\n",
       "      <th>407836</th>\n",
       "      <td>Mala Berlim, Azul Marinho, M - Hg703m - Le Pos...</td>\n",
       "      <td>unreliable</td>\n",
       "      <td>portuguese</td>\n",
       "      <td>SUITCASES</td>\n",
       "      <td>Mala Berlim, Azul Marinho, M - Hg703m - Le Pos...</td>\n",
       "    </tr>\n",
       "  </tbody>\n",
       "</table>\n",
       "</div>"
      ],
      "text/plain": [
       "                                                    title label_quality  \\\n",
       "181848  Fogão A Gás 4 Bocas Industrial  Innal Alta Pre...      reliable   \n",
       "478587            Heladera  Saccol  Mod. Hsa32 320 Litros    unreliable   \n",
       "606516  Fogão Com Porta Full Glass E Timer E Relógio D...    unreliable   \n",
       "534521  The Beatles 09 - Relógio Disco De Vinil Decora...    unreliable   \n",
       "450844   Relógio De Parede Carrilhão Herweg Ref: 5352-084      reliable   \n",
       "352207  Aparadora Acabamento Maquina 100% Original Pan...      reliable   \n",
       "320466    Filhote Spitz Alemão Laranja Com Pedigree Cbkc     unreliable   \n",
       "517042  Heladera Siam Hsi-rt60 Roja 420 Litros Retro C...    unreliable   \n",
       "519168         Teclado Korg Pa 600 Novíssimo Sem Detalhes      reliable   \n",
       "407836  Mala Berlim, Azul Marinho, M - Hg703m - Le Pos...    unreliable   \n",
       "\n",
       "          language           category  \\\n",
       "181848  portuguese             RANGES   \n",
       "478587     spanish      REFRIGERATORS   \n",
       "606516  portuguese             RANGES   \n",
       "534521  portuguese        WALL_CLOCKS   \n",
       "450844  portuguese        WALL_CLOCKS   \n",
       "352207  portuguese      HAIR_CLIPPERS   \n",
       "320466  portuguese      PUREBRED_DOGS   \n",
       "517042     spanish      REFRIGERATORS   \n",
       "519168  portuguese  MUSICAL_KEYBOARDS   \n",
       "407836  portuguese          SUITCASES   \n",
       "\n",
       "                                              clean_title  \n",
       "181848  Fogao A Gas 4 Bocas Industrial  Innal Alta Pre...  \n",
       "478587            Heladera  Saccol  Mod. Hsa32 320 Litros  \n",
       "606516  Fogao Com Porta Full Glass E Timer E Relogio D...  \n",
       "534521  The Beatles 09 - Relogio Disco De Vinil Decora...  \n",
       "450844   Relogio De Parede Carrilhao Herweg Ref: 5352-084  \n",
       "352207  Aparadora Acabamento Maquina 100% Original Pan...  \n",
       "320466    Filhote Spitz Alemao Laranja Com Pedigree Cbkc   \n",
       "517042  Heladera Siam Hsi-rt60 Roja 420 Litros Retro C...  \n",
       "519168         Teclado Korg Pa 600 Novissimo Sem Detalhes  \n",
       "407836  Mala Berlim, Azul Marinho, M - Hg703m - Le Pos...  "
      ]
     },
     "execution_count": 8,
     "metadata": {},
     "output_type": "execute_result"
    }
   ],
   "source": [
    "df_dataset.sample(10, random_state=123)"
   ]
  },
  {
   "cell_type": "markdown",
   "metadata": {},
   "source": [
    "**Limpieza**"
   ]
  },
  {
   "cell_type": "code",
   "execution_count": null,
   "metadata": {},
   "outputs": [],
   "source": [
    "# Recorremos todos los titulos y le vamos aplicando la Normalizacion y luega el Stemming a cada uno\n",
    "title_list=[]\n",
    "for title in df_dataset.title:\n",
    "    # Vamos a reemplzar los caracteres que no sean leras por espacios\n",
    "    title=re.sub(\"[^a-zA-Z]\",\" \",str(title))\n",
    "    # Pasamos todo a minúsculas\n",
    "    title=title.lower()\n",
    "    # Tokenizamos para separar las palabras del titular\n",
    "    title = nltk.word_tokenize(title)\n",
    "    # Eliminamos las palabras de menos de 3 letras\n",
    "    #title = [palabra for palabra in titular if len(palabra)>3]\n",
    "\n",
    "    # Sacamos las Stopwords\n",
    "    # title = [COMPLETAR for COMPLETAR in COMPLETAR if not COMPLETAR in COMPLETAR]\n",
    "     #title = word for word in title if not word in all_stopwords\n",
    "    ## Hasta acá Normalizamos, ahora a stemmizar\n",
    "\n",
    "    # Aplicamos la funcion para buscar la raiz de las palabras\n",
    "     #title = [stemmer.stem(COMPLETAR) for COMPLETAR in COMPLETAR]\n",
    "    # Por ultimo volvemos a unir el titular\n",
    "     #title = \" \".join(titular)\n",
    "\n",
    "    # Vamos armando una lista con todos los titulares\n",
    "    title_list.append(title)"
   ]
  },
  {
   "cell_type": "code",
   "execution_count": null,
   "metadata": {},
   "outputs": [],
   "source": [
    "title_list"
   ]
  },
  {
   "cell_type": "markdown",
   "metadata": {},
   "source": [
    "## 3. Conclusiones"
   ]
  },
  {
   "cell_type": "code",
   "execution_count": null,
   "metadata": {},
   "outputs": [],
   "source": [
    "# TO DO"
   ]
  },
  {
   "cell_type": "markdown",
   "metadata": {},
   "source": [
    "#### Material de ayuda para el desarrollo de este práctico:\n",
    "\n",
    "1. Implementación en *keras* de *word embeddings*: https://stackabuse.com/python-for-nlp-word-embeddings-for-deep-learning-in-keras\n",
    "2. Como utilizar *pre-trained word embeddings* en *keras*: https://keras.io/examples/nlp/pretrained_word_embeddings/\n",
    "3. *Word Embeddings*: https://jalammar.github.io/illustrated-word2vec/\n",
    "3. Curso de **procesamiento del lenguaje natural** con *keras*: https://www.coursera.org/learn/natural-language-processing-tensorflow/home/welcome"
   ]
  }
 ],
 "metadata": {
  "kernelspec": {
   "display_name": "Python 3",
   "language": "python",
   "name": "python3"
  },
  "language_info": {
   "codemirror_mode": {
    "name": "ipython",
    "version": 3
   },
   "file_extension": ".py",
   "mimetype": "text/x-python",
   "name": "python",
   "nbconvert_exporter": "python",
   "pygments_lexer": "ipython3",
   "version": "3.9.4"
  }
 },
 "nbformat": 4,
 "nbformat_minor": 4
}
