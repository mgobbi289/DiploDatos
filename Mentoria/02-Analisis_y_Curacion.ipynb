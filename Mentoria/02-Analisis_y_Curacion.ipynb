{
 "cells": [
  {
   "cell_type": "markdown",
   "metadata": {},
   "source": [
    "# DiploDatos 2021\n",
    "\n",
    "\n",
    "### Categorización de publicaciones de productos realizadas en Mercado Libre"
   ]
  },
  {
   "cell_type": "markdown",
   "metadata": {},
   "source": [
    "### 02 - Análisis y Curación"
   ]
  },
  {
   "cell_type": "markdown",
   "metadata": {},
   "source": [
    "#### Condiciones generales que aplican a todos los prácticos:\n",
    "   - Las notebooks tienen que ser 100% reproducibles, es decir al ejecutar las celdas tal cuál como se entrega la notebook se deben obtener los mismos resultados sin errores.\n",
    "   - Código legible, haciendo buen uso de las celdas de la notebook y en lo posible seguir estándares de código para *Python* (https://www.python.org/dev/peps/pep-0008/).\n",
    "   - Utilizar celdas tipo *Markdown* para ir guiando el análisis.\n",
    "   - Limpiar el output de las celdas antes de entregar el notebook (ir a *Kernel* --> *Restart Kernel and Clear All Ouputs*).\n",
    "   - Incluir conclusiones del análisis que se hizo en la sección \"Conclusiones\". Tratar de aportar valor en esta sección, ser creativo."
   ]
  },
  {
   "cell_type": "markdown",
   "metadata": {},
   "source": [
    "## 1. Consignas"
   ]
  },
  {
   "cell_type": "markdown",
   "metadata": {},
   "source": [
    "#### Sección A:  Limpieza de texto / Preprocessing\n",
    "\n",
    "Tener en cuenta lo siguiente: \n",
    "\n",
    "1. *Unidecode*\n",
    "\n",
    "2. Pasar a minúsculas\n",
    "\n",
    "3. Limpiar números\n",
    "\n",
    "4. Limpiar símbolos **(** ' ! ¡ \" @ % & * , . : ; < = > ? @ \\ ^ _ { | } ~ \\t \\n [ ] ` $ **)**\n",
    "\n",
    "5. Limpiar caracteres que suelen usarse como espacios **(** ' + ( ) - \\ **)**\n",
    "\n",
    "6. Reemplazar contracciones, por ejemplo, **c/u** por *cada uno*, **c/** por *con*, **p/** por *para*.\n",
    "\n",
    "7. Etc."
   ]
  },
  {
   "cell_type": "markdown",
   "metadata": {},
   "source": [
    "#### Sección B: Tokenización & Secuencias"
   ]
  },
  {
   "cell_type": "markdown",
   "metadata": {},
   "source": [
    "1. Utilizar métodos `fit_on_texts()`, `texts_to_sequences()`, y `pad_sequences()`:\n",
    "\n",
    "- https://keras.io/api/preprocessing/text/#tokenizer-class\n",
    "\n",
    "- https://www.tensorflow.org/api_docs/python/tf/keras/preprocessing/sequence/pad_sequences"
   ]
  },
  {
   "cell_type": "markdown",
   "metadata": {},
   "source": [
    "#### Sección C: Label Encoding"
   ]
  },
  {
   "cell_type": "markdown",
   "metadata": {},
   "source": [
    "1. Utilizar método `LabelEncoder()` de *sklearn*:\n",
    "\n",
    "- https://scikit-learn.org/stable/modules/generated/sklearn.preprocessing.LabelEncoder.html"
   ]
  },
  {
   "cell_type": "markdown",
   "metadata": {},
   "source": [
    "#### Sección D: Word Embeddings\n",
    "\n",
    "Generar los *word embeddings* correspondientes, de las siguientes dos formas:\n",
    "\n",
    "1. *Custom Word Embeddings*\n",
    "2. *Loading Pretrained Word Embeddings* (**opcional**)\n",
    "\n",
    "En ambos puntos el objetivos final es llegar a crear la *embedding layer* de *keras*:\n",
    "\n",
    "- https://keras.io/api/layers/core_layers/embedding/"
   ]
  },
  {
   "cell_type": "markdown",
   "metadata": {},
   "source": [
    "## 2. Código y análisis"
   ]
  },
  {
   "cell_type": "markdown",
   "metadata": {},
   "source": [
    "Imports necesarios"
   ]
  },
  {
   "cell_type": "code",
   "execution_count": 1,
   "metadata": {},
   "outputs": [
    {
     "name": "stderr",
     "output_type": "stream",
     "text": [
      "[nltk_data] Downloading package punkt to /home/mgobbi289/nltk_data...\n",
      "[nltk_data]   Package punkt is already up-to-date!\n",
      "[nltk_data] Downloading package stopwords to\n",
      "[nltk_data]     /home/mgobbi289/nltk_data...\n",
      "[nltk_data]   Package stopwords is already up-to-date!\n"
     ]
    },
    {
     "data": {
      "text/plain": [
       "True"
      ]
     },
     "execution_count": 1,
     "metadata": {},
     "output_type": "execute_result"
    }
   ],
   "source": [
    "import pandas as pd\n",
    "import nltk\n",
    "import re\n",
    "from unidecode import unidecode\n",
    "\n",
    "# Esto sirve para configurar NLTK. La primera vez puede tardar un poco...\n",
    "nltk.download('punkt')\n",
    "nltk.download('stopwords')"
   ]
  },
  {
   "cell_type": "markdown",
   "metadata": {},
   "source": [
    "Lectura de dataset reducido"
   ]
  },
  {
   "cell_type": "code",
   "execution_count": 2,
   "metadata": {},
   "outputs": [],
   "source": [
    "df_dataset = pd.read_csv('DataSet/dataset.csv')"
   ]
  },
  {
   "cell_type": "markdown",
   "metadata": {},
   "source": [
    "Estudiamos el dataset brevemente antes de comenzar a operar sobre el mismo"
   ]
  },
  {
   "cell_type": "code",
   "execution_count": 3,
   "metadata": {},
   "outputs": [
    {
     "data": {
      "text/html": [
       "<div>\n",
       "<style scoped>\n",
       "    .dataframe tbody tr th:only-of-type {\n",
       "        vertical-align: middle;\n",
       "    }\n",
       "\n",
       "    .dataframe tbody tr th {\n",
       "        vertical-align: top;\n",
       "    }\n",
       "\n",
       "    .dataframe thead th {\n",
       "        text-align: right;\n",
       "    }\n",
       "</style>\n",
       "<table border=\"1\" class=\"dataframe\">\n",
       "  <thead>\n",
       "    <tr style=\"text-align: right;\">\n",
       "      <th></th>\n",
       "      <th>title</th>\n",
       "      <th>label_quality</th>\n",
       "      <th>language</th>\n",
       "      <th>category</th>\n",
       "    </tr>\n",
       "  </thead>\n",
       "  <tbody>\n",
       "    <tr>\n",
       "      <th>count</th>\n",
       "      <td>646760</td>\n",
       "      <td>646760</td>\n",
       "      <td>646760</td>\n",
       "      <td>646760</td>\n",
       "    </tr>\n",
       "    <tr>\n",
       "      <th>unique</th>\n",
       "      <td>646019</td>\n",
       "      <td>2</td>\n",
       "      <td>2</td>\n",
       "      <td>20</td>\n",
       "    </tr>\n",
       "    <tr>\n",
       "      <th>top</th>\n",
       "      <td>Moog Subsequent 37</td>\n",
       "      <td>unreliable</td>\n",
       "      <td>portuguese</td>\n",
       "      <td>PANTS</td>\n",
       "    </tr>\n",
       "    <tr>\n",
       "      <th>freq</th>\n",
       "      <td>2</td>\n",
       "      <td>551878</td>\n",
       "      <td>328992</td>\n",
       "      <td>35973</td>\n",
       "    </tr>\n",
       "  </tbody>\n",
       "</table>\n",
       "</div>"
      ],
      "text/plain": [
       "                     title label_quality    language category\n",
       "count               646760        646760      646760   646760\n",
       "unique              646019             2           2       20\n",
       "top     Moog Subsequent 37    unreliable  portuguese    PANTS\n",
       "freq                     2        551878      328992    35973"
      ]
     },
     "execution_count": 3,
     "metadata": {},
     "output_type": "execute_result"
    }
   ],
   "source": [
    "df_dataset.describe()"
   ]
  },
  {
   "cell_type": "code",
   "execution_count": 4,
   "metadata": {},
   "outputs": [
    {
     "name": "stdout",
     "output_type": "stream",
     "text": [
      "Dimensiones: (646760, 4)\n"
     ]
    }
   ],
   "source": [
    "print(f'Dimensiones: {df_dataset.shape}')"
   ]
  },
  {
   "cell_type": "code",
   "execution_count": 5,
   "metadata": {},
   "outputs": [
    {
     "name": "stdout",
     "output_type": "stream",
     "text": [
      "Variables: ['title', 'label_quality', 'language', 'category']\n"
     ]
    }
   ],
   "source": [
    "print(f'Variables: {list(df_dataset.columns)}')"
   ]
  },
  {
   "cell_type": "markdown",
   "metadata": {},
   "source": [
    "## Sección A"
   ]
  },
  {
   "cell_type": "code",
   "execution_count": 6,
   "metadata": {},
   "outputs": [
    {
     "data": {
      "text/html": [
       "<div>\n",
       "<style scoped>\n",
       "    .dataframe tbody tr th:only-of-type {\n",
       "        vertical-align: middle;\n",
       "    }\n",
       "\n",
       "    .dataframe tbody tr th {\n",
       "        vertical-align: top;\n",
       "    }\n",
       "\n",
       "    .dataframe thead th {\n",
       "        text-align: right;\n",
       "    }\n",
       "</style>\n",
       "<table border=\"1\" class=\"dataframe\">\n",
       "  <thead>\n",
       "    <tr style=\"text-align: right;\">\n",
       "      <th></th>\n",
       "      <th>title</th>\n",
       "      <th>label_quality</th>\n",
       "      <th>language</th>\n",
       "      <th>category</th>\n",
       "    </tr>\n",
       "  </thead>\n",
       "  <tbody>\n",
       "    <tr>\n",
       "      <th>181848</th>\n",
       "      <td>Fogão A Gás 4 Bocas Industrial  Innal Alta Pre...</td>\n",
       "      <td>reliable</td>\n",
       "      <td>portuguese</td>\n",
       "      <td>RANGES</td>\n",
       "    </tr>\n",
       "    <tr>\n",
       "      <th>478587</th>\n",
       "      <td>Heladera  Saccol  Mod. Hsa32 320 Litros</td>\n",
       "      <td>unreliable</td>\n",
       "      <td>spanish</td>\n",
       "      <td>REFRIGERATORS</td>\n",
       "    </tr>\n",
       "    <tr>\n",
       "      <th>606516</th>\n",
       "      <td>Fogão Com Porta Full Glass E Timer E Relógio D...</td>\n",
       "      <td>unreliable</td>\n",
       "      <td>portuguese</td>\n",
       "      <td>RANGES</td>\n",
       "    </tr>\n",
       "    <tr>\n",
       "      <th>534521</th>\n",
       "      <td>The Beatles 09 - Relógio Disco De Vinil Decora...</td>\n",
       "      <td>unreliable</td>\n",
       "      <td>portuguese</td>\n",
       "      <td>WALL_CLOCKS</td>\n",
       "    </tr>\n",
       "    <tr>\n",
       "      <th>450844</th>\n",
       "      <td>Relógio De Parede Carrilhão Herweg Ref: 5352-084</td>\n",
       "      <td>reliable</td>\n",
       "      <td>portuguese</td>\n",
       "      <td>WALL_CLOCKS</td>\n",
       "    </tr>\n",
       "    <tr>\n",
       "      <th>352207</th>\n",
       "      <td>Aparadora Acabamento Maquina 100% Original Pan...</td>\n",
       "      <td>reliable</td>\n",
       "      <td>portuguese</td>\n",
       "      <td>HAIR_CLIPPERS</td>\n",
       "    </tr>\n",
       "    <tr>\n",
       "      <th>320466</th>\n",
       "      <td>Filhote Spitz Alemão Laranja Com Pedigree Cbkc</td>\n",
       "      <td>unreliable</td>\n",
       "      <td>portuguese</td>\n",
       "      <td>PUREBRED_DOGS</td>\n",
       "    </tr>\n",
       "    <tr>\n",
       "      <th>517042</th>\n",
       "      <td>Heladera Siam Hsi-rt60 Roja 420 Litros Retro C...</td>\n",
       "      <td>unreliable</td>\n",
       "      <td>spanish</td>\n",
       "      <td>REFRIGERATORS</td>\n",
       "    </tr>\n",
       "    <tr>\n",
       "      <th>519168</th>\n",
       "      <td>Teclado Korg Pa 600 Novíssimo Sem Detalhes</td>\n",
       "      <td>reliable</td>\n",
       "      <td>portuguese</td>\n",
       "      <td>MUSICAL_KEYBOARDS</td>\n",
       "    </tr>\n",
       "    <tr>\n",
       "      <th>407836</th>\n",
       "      <td>Mala Berlim, Azul Marinho, M - Hg703m - Le Pos...</td>\n",
       "      <td>unreliable</td>\n",
       "      <td>portuguese</td>\n",
       "      <td>SUITCASES</td>\n",
       "    </tr>\n",
       "  </tbody>\n",
       "</table>\n",
       "</div>"
      ],
      "text/plain": [
       "                                                    title label_quality  \\\n",
       "181848  Fogão A Gás 4 Bocas Industrial  Innal Alta Pre...      reliable   \n",
       "478587            Heladera  Saccol  Mod. Hsa32 320 Litros    unreliable   \n",
       "606516  Fogão Com Porta Full Glass E Timer E Relógio D...    unreliable   \n",
       "534521  The Beatles 09 - Relógio Disco De Vinil Decora...    unreliable   \n",
       "450844   Relógio De Parede Carrilhão Herweg Ref: 5352-084      reliable   \n",
       "352207  Aparadora Acabamento Maquina 100% Original Pan...      reliable   \n",
       "320466    Filhote Spitz Alemão Laranja Com Pedigree Cbkc     unreliable   \n",
       "517042  Heladera Siam Hsi-rt60 Roja 420 Litros Retro C...    unreliable   \n",
       "519168         Teclado Korg Pa 600 Novíssimo Sem Detalhes      reliable   \n",
       "407836  Mala Berlim, Azul Marinho, M - Hg703m - Le Pos...    unreliable   \n",
       "\n",
       "          language           category  \n",
       "181848  portuguese             RANGES  \n",
       "478587     spanish      REFRIGERATORS  \n",
       "606516  portuguese             RANGES  \n",
       "534521  portuguese        WALL_CLOCKS  \n",
       "450844  portuguese        WALL_CLOCKS  \n",
       "352207  portuguese      HAIR_CLIPPERS  \n",
       "320466  portuguese      PUREBRED_DOGS  \n",
       "517042     spanish      REFRIGERATORS  \n",
       "519168  portuguese  MUSICAL_KEYBOARDS  \n",
       "407836  portuguese          SUITCASES  "
      ]
     },
     "execution_count": 6,
     "metadata": {},
     "output_type": "execute_result"
    }
   ],
   "source": [
    "df_dataset.sample(10, random_state=123)"
   ]
  },
  {
   "cell_type": "markdown",
   "metadata": {},
   "source": [
    "**Unidecode**\n",
    "\n",
    "Principalmente, se eliminan los tildes (en ambos idiomas)."
   ]
  },
  {
   "cell_type": "code",
   "execution_count": 7,
   "metadata": {},
   "outputs": [],
   "source": [
    "df_dataset['clean_title'] = df_dataset.title.apply(unidecode)"
   ]
  },
  {
   "cell_type": "markdown",
   "metadata": {},
   "source": [
    "**Minúsculas**\n",
    "\n",
    "Se pasa todo a minúscula (en ambos idiomas)."
   ]
  },
  {
   "cell_type": "code",
   "execution_count": 8,
   "metadata": {},
   "outputs": [],
   "source": [
    "df_dataset['clean_title'] = df_dataset.clean_title.apply(lambda x: x.lower())"
   ]
  },
  {
   "cell_type": "markdown",
   "metadata": {},
   "source": [
    "**Limpiar Números**\n",
    "\n",
    "Se borran todos los números."
   ]
  },
  {
   "cell_type": "code",
   "execution_count": 9,
   "metadata": {},
   "outputs": [],
   "source": [
    "df_dataset['clean_title'] = df_dataset.clean_title.apply(lambda x: re.sub(r'[0-9]+', '', x))"
   ]
  },
  {
   "cell_type": "markdown",
   "metadata": {},
   "source": [
    "**Contracciones**"
   ]
  },
  {
   "cell_type": "code",
   "execution_count": null,
   "metadata": {},
   "outputs": [],
   "source": [
    "## ACA DEBERIAMOS CAMBIAR LAS CONTRACCIONES NO ENCONTRE COMO TODAVIA ASI DESPUES SACAMOS TODOS LOS SIMBOLOS\n",
    "df_dataset['clean_title']"
   ]
  },
  {
   "cell_type": "markdown",
   "metadata": {},
   "source": [
    "**Limpiar Símbolos**\n",
    "\n",
    "Se borran todos los símbolos que no sean letras."
   ]
  },
  {
   "cell_type": "code",
   "execution_count": 10,
   "metadata": {},
   "outputs": [],
   "source": [
    "df_dataset['clean_title'] = df_dataset.clean_title.apply(lambda x: re.sub('[^a-zA-Z]', ' ', x))"
   ]
  },
  {
   "cell_type": "markdown",
   "metadata": {},
   "source": [
    "**Limpieza Definitiva**"
   ]
  },
  {
   "cell_type": "code",
   "execution_count": 11,
   "metadata": {},
   "outputs": [
    {
     "data": {
      "text/html": [
       "<div>\n",
       "<style scoped>\n",
       "    .dataframe tbody tr th:only-of-type {\n",
       "        vertical-align: middle;\n",
       "    }\n",
       "\n",
       "    .dataframe tbody tr th {\n",
       "        vertical-align: top;\n",
       "    }\n",
       "\n",
       "    .dataframe thead th {\n",
       "        text-align: right;\n",
       "    }\n",
       "</style>\n",
       "<table border=\"1\" class=\"dataframe\">\n",
       "  <thead>\n",
       "    <tr style=\"text-align: right;\">\n",
       "      <th></th>\n",
       "      <th>title</th>\n",
       "      <th>label_quality</th>\n",
       "      <th>language</th>\n",
       "      <th>category</th>\n",
       "      <th>clean_title</th>\n",
       "    </tr>\n",
       "  </thead>\n",
       "  <tbody>\n",
       "    <tr>\n",
       "      <th>181848</th>\n",
       "      <td>Fogão A Gás 4 Bocas Industrial  Innal Alta Pre...</td>\n",
       "      <td>reliable</td>\n",
       "      <td>portuguese</td>\n",
       "      <td>RANGES</td>\n",
       "      <td>fogao a gas  bocas industrial  innal alta pres...</td>\n",
       "    </tr>\n",
       "    <tr>\n",
       "      <th>478587</th>\n",
       "      <td>Heladera  Saccol  Mod. Hsa32 320 Litros</td>\n",
       "      <td>unreliable</td>\n",
       "      <td>spanish</td>\n",
       "      <td>REFRIGERATORS</td>\n",
       "      <td>heladera  saccol  mod  hsa  litros</td>\n",
       "    </tr>\n",
       "    <tr>\n",
       "      <th>606516</th>\n",
       "      <td>Fogão Com Porta Full Glass E Timer E Relógio D...</td>\n",
       "      <td>unreliable</td>\n",
       "      <td>portuguese</td>\n",
       "      <td>RANGES</td>\n",
       "      <td>fogao com porta full glass e timer e relogio d...</td>\n",
       "    </tr>\n",
       "    <tr>\n",
       "      <th>534521</th>\n",
       "      <td>The Beatles 09 - Relógio Disco De Vinil Decora...</td>\n",
       "      <td>unreliable</td>\n",
       "      <td>portuguese</td>\n",
       "      <td>WALL_CLOCKS</td>\n",
       "      <td>the beatles    relogio disco de vinil decoraca...</td>\n",
       "    </tr>\n",
       "    <tr>\n",
       "      <th>450844</th>\n",
       "      <td>Relógio De Parede Carrilhão Herweg Ref: 5352-084</td>\n",
       "      <td>reliable</td>\n",
       "      <td>portuguese</td>\n",
       "      <td>WALL_CLOCKS</td>\n",
       "      <td>relogio de parede carrilhao herweg ref</td>\n",
       "    </tr>\n",
       "    <tr>\n",
       "      <th>352207</th>\n",
       "      <td>Aparadora Acabamento Maquina 100% Original Pan...</td>\n",
       "      <td>reliable</td>\n",
       "      <td>portuguese</td>\n",
       "      <td>HAIR_CLIPPERS</td>\n",
       "      <td>aparadora acabamento maquina   original panaso...</td>\n",
       "    </tr>\n",
       "    <tr>\n",
       "      <th>320466</th>\n",
       "      <td>Filhote Spitz Alemão Laranja Com Pedigree Cbkc</td>\n",
       "      <td>unreliable</td>\n",
       "      <td>portuguese</td>\n",
       "      <td>PUREBRED_DOGS</td>\n",
       "      <td>filhote spitz alemao laranja com pedigree cbkc</td>\n",
       "    </tr>\n",
       "    <tr>\n",
       "      <th>517042</th>\n",
       "      <td>Heladera Siam Hsi-rt60 Roja 420 Litros Retro C...</td>\n",
       "      <td>unreliable</td>\n",
       "      <td>spanish</td>\n",
       "      <td>REFRIGERATORS</td>\n",
       "      <td>heladera siam hsi rt roja  litros retro combi</td>\n",
       "    </tr>\n",
       "    <tr>\n",
       "      <th>519168</th>\n",
       "      <td>Teclado Korg Pa 600 Novíssimo Sem Detalhes</td>\n",
       "      <td>reliable</td>\n",
       "      <td>portuguese</td>\n",
       "      <td>MUSICAL_KEYBOARDS</td>\n",
       "      <td>teclado korg pa  novissimo sem detalhes</td>\n",
       "    </tr>\n",
       "    <tr>\n",
       "      <th>407836</th>\n",
       "      <td>Mala Berlim, Azul Marinho, M - Hg703m - Le Pos...</td>\n",
       "      <td>unreliable</td>\n",
       "      <td>portuguese</td>\n",
       "      <td>SUITCASES</td>\n",
       "      <td>mala berlim  azul marinho  m   hgm   le postiche</td>\n",
       "    </tr>\n",
       "  </tbody>\n",
       "</table>\n",
       "</div>"
      ],
      "text/plain": [
       "                                                    title label_quality  \\\n",
       "181848  Fogão A Gás 4 Bocas Industrial  Innal Alta Pre...      reliable   \n",
       "478587            Heladera  Saccol  Mod. Hsa32 320 Litros    unreliable   \n",
       "606516  Fogão Com Porta Full Glass E Timer E Relógio D...    unreliable   \n",
       "534521  The Beatles 09 - Relógio Disco De Vinil Decora...    unreliable   \n",
       "450844   Relógio De Parede Carrilhão Herweg Ref: 5352-084      reliable   \n",
       "352207  Aparadora Acabamento Maquina 100% Original Pan...      reliable   \n",
       "320466    Filhote Spitz Alemão Laranja Com Pedigree Cbkc     unreliable   \n",
       "517042  Heladera Siam Hsi-rt60 Roja 420 Litros Retro C...    unreliable   \n",
       "519168         Teclado Korg Pa 600 Novíssimo Sem Detalhes      reliable   \n",
       "407836  Mala Berlim, Azul Marinho, M - Hg703m - Le Pos...    unreliable   \n",
       "\n",
       "          language           category  \\\n",
       "181848  portuguese             RANGES   \n",
       "478587     spanish      REFRIGERATORS   \n",
       "606516  portuguese             RANGES   \n",
       "534521  portuguese        WALL_CLOCKS   \n",
       "450844  portuguese        WALL_CLOCKS   \n",
       "352207  portuguese      HAIR_CLIPPERS   \n",
       "320466  portuguese      PUREBRED_DOGS   \n",
       "517042     spanish      REFRIGERATORS   \n",
       "519168  portuguese  MUSICAL_KEYBOARDS   \n",
       "407836  portuguese          SUITCASES   \n",
       "\n",
       "                                              clean_title  \n",
       "181848  fogao a gas  bocas industrial  innal alta pres...  \n",
       "478587                 heladera  saccol  mod  hsa  litros  \n",
       "606516  fogao com porta full glass e timer e relogio d...  \n",
       "534521  the beatles    relogio disco de vinil decoraca...  \n",
       "450844          relogio de parede carrilhao herweg ref     \n",
       "352207  aparadora acabamento maquina   original panaso...  \n",
       "320466    filhote spitz alemao laranja com pedigree cbkc   \n",
       "517042      heladera siam hsi rt roja  litros retro combi  \n",
       "519168            teclado korg pa  novissimo sem detalhes  \n",
       "407836   mala berlim  azul marinho  m   hgm   le postiche  "
      ]
     },
     "execution_count": 11,
     "metadata": {},
     "output_type": "execute_result"
    }
   ],
   "source": [
    "df_dataset.sample(10, random_state=123)"
   ]
  },
  {
   "cell_type": "markdown",
   "metadata": {},
   "source": [
    "## Sección B"
   ]
  },
  {
   "cell_type": "markdown",
   "metadata": {},
   "source": [
    "Simplemente estamos probando.\n",
    "Vamos a utilizar solo un fragmento de nuestro conjunto de datos."
   ]
  },
  {
   "cell_type": "code",
   "execution_count": 12,
   "metadata": {},
   "outputs": [
    {
     "data": {
      "text/html": [
       "<div>\n",
       "<style scoped>\n",
       "    .dataframe tbody tr th:only-of-type {\n",
       "        vertical-align: middle;\n",
       "    }\n",
       "\n",
       "    .dataframe tbody tr th {\n",
       "        vertical-align: top;\n",
       "    }\n",
       "\n",
       "    .dataframe thead th {\n",
       "        text-align: right;\n",
       "    }\n",
       "</style>\n",
       "<table border=\"1\" class=\"dataframe\">\n",
       "  <thead>\n",
       "    <tr style=\"text-align: right;\">\n",
       "      <th></th>\n",
       "      <th>clean_title</th>\n",
       "    </tr>\n",
       "  </thead>\n",
       "  <tbody>\n",
       "    <tr>\n",
       "      <th>257260</th>\n",
       "      <td>teclado arranjador yamaha psr  s</td>\n",
       "    </tr>\n",
       "    <tr>\n",
       "      <th>72138</th>\n",
       "      <td>aparador maquina de nariz e pelos em recarrega...</td>\n",
       "    </tr>\n",
       "    <tr>\n",
       "      <th>633621</th>\n",
       "      <td>kit  calcas ribana feminina  listra lateral</td>\n",
       "    </tr>\n",
       "  </tbody>\n",
       "</table>\n",
       "</div>"
      ],
      "text/plain": [
       "                                              clean_title\n",
       "257260                   teclado arranjador yamaha psr  s\n",
       "72138   aparador maquina de nariz e pelos em recarrega...\n",
       "633621       kit  calcas ribana feminina  listra lateral "
      ]
     },
     "execution_count": 12,
     "metadata": {},
     "output_type": "execute_result"
    }
   ],
   "source": [
    "from nltk.tokenize import word_tokenize\n",
    "from keras.preprocessing.text import one_hot\n",
    "from keras.preprocessing.sequence import pad_sequences\n",
    "\n",
    "relevant_cols = ['clean_title']\n",
    "\n",
    "# Solo estamos probando, entonces vamos a utilizar algo reducido...\n",
    "df = df_dataset.sample(10000, random_state=123)[relevant_cols]\n",
    "\n",
    "df.sample(3, random_state=123)"
   ]
  },
  {
   "cell_type": "markdown",
   "metadata": {},
   "source": [
    "Convertimos en un listado de *tokens*, cada uno de nuestros títulos."
   ]
  },
  {
   "cell_type": "code",
   "execution_count": 13,
   "metadata": {},
   "outputs": [
    {
     "data": {
      "text/html": [
       "<div>\n",
       "<style scoped>\n",
       "    .dataframe tbody tr th:only-of-type {\n",
       "        vertical-align: middle;\n",
       "    }\n",
       "\n",
       "    .dataframe tbody tr th {\n",
       "        vertical-align: top;\n",
       "    }\n",
       "\n",
       "    .dataframe thead th {\n",
       "        text-align: right;\n",
       "    }\n",
       "</style>\n",
       "<table border=\"1\" class=\"dataframe\">\n",
       "  <thead>\n",
       "    <tr style=\"text-align: right;\">\n",
       "      <th></th>\n",
       "      <th>clean_title</th>\n",
       "      <th>tokenized_title</th>\n",
       "    </tr>\n",
       "  </thead>\n",
       "  <tbody>\n",
       "    <tr>\n",
       "      <th>257260</th>\n",
       "      <td>teclado arranjador yamaha psr  s</td>\n",
       "      <td>[teclado, arranjador, yamaha, psr, s]</td>\n",
       "    </tr>\n",
       "    <tr>\n",
       "      <th>72138</th>\n",
       "      <td>aparador maquina de nariz e pelos em recarrega...</td>\n",
       "      <td>[aparador, maquina, de, nariz, e, pelos, em, r...</td>\n",
       "    </tr>\n",
       "    <tr>\n",
       "      <th>633621</th>\n",
       "      <td>kit  calcas ribana feminina  listra lateral</td>\n",
       "      <td>[kit, calcas, ribana, feminina, listra, lateral]</td>\n",
       "    </tr>\n",
       "  </tbody>\n",
       "</table>\n",
       "</div>"
      ],
      "text/plain": [
       "                                              clean_title  \\\n",
       "257260                   teclado arranjador yamaha psr  s   \n",
       "72138   aparador maquina de nariz e pelos em recarrega...   \n",
       "633621       kit  calcas ribana feminina  listra lateral    \n",
       "\n",
       "                                          tokenized_title  \n",
       "257260              [teclado, arranjador, yamaha, psr, s]  \n",
       "72138   [aparador, maquina, de, nariz, e, pelos, em, r...  \n",
       "633621   [kit, calcas, ribana, feminina, listra, lateral]  "
      ]
     },
     "execution_count": 13,
     "metadata": {},
     "output_type": "execute_result"
    }
   ],
   "source": [
    "df['tokenized_title'] = df.clean_title.apply(word_tokenize)\n",
    "\n",
    "df.sample(3, random_state=123)"
   ]
  },
  {
   "cell_type": "markdown",
   "metadata": {},
   "source": [
    "Contemos la cantidad de palabras únicas en nuestro conjunto de datos.\n",
    "Es importante saber esta información al momento de condificar nuestro títulos en vectores numéricos."
   ]
  },
  {
   "cell_type": "code",
   "execution_count": 14,
   "metadata": {},
   "outputs": [
    {
     "name": "stdout",
     "output_type": "stream",
     "text": [
      "Cantidad de tokens únicos 9848\n"
     ]
    }
   ],
   "source": [
    "all_words = []\n",
    "for title in df.tokenized_title:\n",
    "    all_words += title\n",
    "\n",
    "unique_words = set(all_words)\n",
    "\n",
    "print(f'Cantidad de tokens únicos {len(unique_words)}')"
   ]
  },
  {
   "cell_type": "code",
   "execution_count": 15,
   "metadata": {},
   "outputs": [],
   "source": [
    "# Claramente este valor deberá ser ajustado al probar con el dataset entero...\n",
    "vocab_length = 10000"
   ]
  },
  {
   "cell_type": "markdown",
   "metadata": {},
   "source": [
    "Contemos ahora la longitud de cada vector de tokens, necesitamos saber cual es el título más largo."
   ]
  },
  {
   "cell_type": "code",
   "execution_count": 16,
   "metadata": {},
   "outputs": [
    {
     "data": {
      "text/html": [
       "<div>\n",
       "<style scoped>\n",
       "    .dataframe tbody tr th:only-of-type {\n",
       "        vertical-align: middle;\n",
       "    }\n",
       "\n",
       "    .dataframe tbody tr th {\n",
       "        vertical-align: top;\n",
       "    }\n",
       "\n",
       "    .dataframe thead th {\n",
       "        text-align: right;\n",
       "    }\n",
       "</style>\n",
       "<table border=\"1\" class=\"dataframe\">\n",
       "  <thead>\n",
       "    <tr style=\"text-align: right;\">\n",
       "      <th></th>\n",
       "      <th>clean_title</th>\n",
       "      <th>tokenized_title</th>\n",
       "      <th>tokenized_title_lenght</th>\n",
       "    </tr>\n",
       "  </thead>\n",
       "  <tbody>\n",
       "    <tr>\n",
       "      <th>257260</th>\n",
       "      <td>teclado arranjador yamaha psr  s</td>\n",
       "      <td>[teclado, arranjador, yamaha, psr, s]</td>\n",
       "      <td>5</td>\n",
       "    </tr>\n",
       "    <tr>\n",
       "      <th>72138</th>\n",
       "      <td>aparador maquina de nariz e pelos em recarrega...</td>\n",
       "      <td>[aparador, maquina, de, nariz, e, pelos, em, r...</td>\n",
       "      <td>9</td>\n",
       "    </tr>\n",
       "    <tr>\n",
       "      <th>633621</th>\n",
       "      <td>kit  calcas ribana feminina  listra lateral</td>\n",
       "      <td>[kit, calcas, ribana, feminina, listra, lateral]</td>\n",
       "      <td>6</td>\n",
       "    </tr>\n",
       "  </tbody>\n",
       "</table>\n",
       "</div>"
      ],
      "text/plain": [
       "                                              clean_title  \\\n",
       "257260                   teclado arranjador yamaha psr  s   \n",
       "72138   aparador maquina de nariz e pelos em recarrega...   \n",
       "633621       kit  calcas ribana feminina  listra lateral    \n",
       "\n",
       "                                          tokenized_title  \\\n",
       "257260              [teclado, arranjador, yamaha, psr, s]   \n",
       "72138   [aparador, maquina, de, nariz, e, pelos, em, r...   \n",
       "633621   [kit, calcas, ribana, feminina, listra, lateral]   \n",
       "\n",
       "        tokenized_title_lenght  \n",
       "257260                       5  \n",
       "72138                        9  \n",
       "633621                       6  "
      ]
     },
     "execution_count": 16,
     "metadata": {},
     "output_type": "execute_result"
    }
   ],
   "source": [
    "df['tokenized_title_lenght'] = df.tokenized_title.apply(len)\n",
    "\n",
    "df.sample(3, random_state=123)"
   ]
  },
  {
   "cell_type": "code",
   "execution_count": 17,
   "metadata": {},
   "outputs": [
    {
     "data": {
      "text/html": [
       "<div>\n",
       "<style scoped>\n",
       "    .dataframe tbody tr th:only-of-type {\n",
       "        vertical-align: middle;\n",
       "    }\n",
       "\n",
       "    .dataframe tbody tr th {\n",
       "        vertical-align: top;\n",
       "    }\n",
       "\n",
       "    .dataframe thead th {\n",
       "        text-align: right;\n",
       "    }\n",
       "</style>\n",
       "<table border=\"1\" class=\"dataframe\">\n",
       "  <thead>\n",
       "    <tr style=\"text-align: right;\">\n",
       "      <th></th>\n",
       "      <th>clean_title</th>\n",
       "      <th>tokenized_title</th>\n",
       "      <th>tokenized_title_lenght</th>\n",
       "    </tr>\n",
       "  </thead>\n",
       "  <tbody>\n",
       "    <tr>\n",
       "      <th>520866</th>\n",
       "      <td>kit com  malas de bordo holly tamanho p e pp c...</td>\n",
       "      <td>[kit, com, malas, de, bordo, holly, tamanho, p...</td>\n",
       "      <td>21</td>\n",
       "    </tr>\n",
       "  </tbody>\n",
       "</table>\n",
       "</div>"
      ],
      "text/plain": [
       "                                              clean_title  \\\n",
       "520866  kit com  malas de bordo holly tamanho p e pp c...   \n",
       "\n",
       "                                          tokenized_title  \\\n",
       "520866  [kit, com, malas, de, bordo, holly, tamanho, p...   \n",
       "\n",
       "        tokenized_title_lenght  \n",
       "520866                      21  "
      ]
     },
     "execution_count": 17,
     "metadata": {},
     "output_type": "execute_result"
    }
   ],
   "source": [
    "max_index = df.tokenized_title_lenght.idxmax()\n",
    "\n",
    "df.loc[[max_index]]"
   ]
  },
  {
   "cell_type": "code",
   "execution_count": 18,
   "metadata": {},
   "outputs": [],
   "source": [
    "# Claramente este valor deberá ser ajustado al probar con el dataset entero...\n",
    "longest_token = 21"
   ]
  },
  {
   "cell_type": "markdown",
   "metadata": {},
   "source": [
    "Ahora convertimos nuestros títulos a vectores numéricos."
   ]
  },
  {
   "cell_type": "code",
   "execution_count": 19,
   "metadata": {},
   "outputs": [
    {
     "data": {
      "text/html": [
       "<div>\n",
       "<style scoped>\n",
       "    .dataframe tbody tr th:only-of-type {\n",
       "        vertical-align: middle;\n",
       "    }\n",
       "\n",
       "    .dataframe tbody tr th {\n",
       "        vertical-align: top;\n",
       "    }\n",
       "\n",
       "    .dataframe thead th {\n",
       "        text-align: right;\n",
       "    }\n",
       "</style>\n",
       "<table border=\"1\" class=\"dataframe\">\n",
       "  <thead>\n",
       "    <tr style=\"text-align: right;\">\n",
       "      <th></th>\n",
       "      <th>clean_title</th>\n",
       "      <th>tokenized_title</th>\n",
       "      <th>tokenized_title_lenght</th>\n",
       "      <th>numeric_title</th>\n",
       "    </tr>\n",
       "  </thead>\n",
       "  <tbody>\n",
       "    <tr>\n",
       "      <th>257260</th>\n",
       "      <td>teclado arranjador yamaha psr  s</td>\n",
       "      <td>[teclado, arranjador, yamaha, psr, s]</td>\n",
       "      <td>5</td>\n",
       "      <td>[4450, 9325, 2383, 4069, 5028]</td>\n",
       "    </tr>\n",
       "    <tr>\n",
       "      <th>72138</th>\n",
       "      <td>aparador maquina de nariz e pelos em recarrega...</td>\n",
       "      <td>[aparador, maquina, de, nariz, e, pelos, em, r...</td>\n",
       "      <td>9</td>\n",
       "      <td>[8986, 986, 8264, 2690, 5380, 542, 9096, 5707,...</td>\n",
       "    </tr>\n",
       "    <tr>\n",
       "      <th>633621</th>\n",
       "      <td>kit  calcas ribana feminina  listra lateral</td>\n",
       "      <td>[kit, calcas, ribana, feminina, listra, lateral]</td>\n",
       "      <td>6</td>\n",
       "      <td>[5197, 1195, 5079, 9575, 9710, 8189]</td>\n",
       "    </tr>\n",
       "  </tbody>\n",
       "</table>\n",
       "</div>"
      ],
      "text/plain": [
       "                                              clean_title  \\\n",
       "257260                   teclado arranjador yamaha psr  s   \n",
       "72138   aparador maquina de nariz e pelos em recarrega...   \n",
       "633621       kit  calcas ribana feminina  listra lateral    \n",
       "\n",
       "                                          tokenized_title  \\\n",
       "257260              [teclado, arranjador, yamaha, psr, s]   \n",
       "72138   [aparador, maquina, de, nariz, e, pelos, em, r...   \n",
       "633621   [kit, calcas, ribana, feminina, listra, lateral]   \n",
       "\n",
       "        tokenized_title_lenght  \\\n",
       "257260                       5   \n",
       "72138                        9   \n",
       "633621                       6   \n",
       "\n",
       "                                            numeric_title  \n",
       "257260                     [4450, 9325, 2383, 4069, 5028]  \n",
       "72138   [8986, 986, 8264, 2690, 5380, 542, 9096, 5707,...  \n",
       "633621               [5197, 1195, 5079, 9575, 9710, 8189]  "
      ]
     },
     "execution_count": 19,
     "metadata": {},
     "output_type": "execute_result"
    }
   ],
   "source": [
    "df['numeric_title'] = df.clean_title.apply(lambda x: one_hot(x, vocab_length))\n",
    "\n",
    "df.sample(3, random_state=123)"
   ]
  },
  {
   "cell_type": "markdown",
   "metadata": {},
   "source": [
    "Normalizamos todos los vectores a la misma longitud."
   ]
  },
  {
   "cell_type": "code",
   "execution_count": 20,
   "metadata": {},
   "outputs": [
    {
     "data": {
      "text/plain": [
       "(10000, 21)"
      ]
     },
     "execution_count": 20,
     "metadata": {},
     "output_type": "execute_result"
    }
   ],
   "source": [
    "padded_titles = pad_sequences(df.numeric_title.values, longest_token, padding='post')\n",
    "\n",
    "padded_titles.shape"
   ]
  },
  {
   "cell_type": "markdown",
   "metadata": {},
   "source": [
    "## 3. Conclusiones"
   ]
  },
  {
   "cell_type": "code",
   "execution_count": null,
   "metadata": {},
   "outputs": [],
   "source": [
    "# TO DO"
   ]
  },
  {
   "cell_type": "markdown",
   "metadata": {},
   "source": [
    "#### Material de ayuda para el desarrollo de este práctico:\n",
    "\n",
    "1. Implementación en *keras* de *word embeddings*: https://stackabuse.com/python-for-nlp-word-embeddings-for-deep-learning-in-keras\n",
    "2. Como utilizar *pre-trained word embeddings* en *keras*: https://keras.io/examples/nlp/pretrained_word_embeddings/\n",
    "3. *Word Embeddings*: https://jalammar.github.io/illustrated-word2vec/\n",
    "3. Curso de **procesamiento del lenguaje natural** con *keras*: https://www.coursera.org/learn/natural-language-processing-tensorflow/home/welcome"
   ]
  }
 ],
 "metadata": {
  "kernelspec": {
   "display_name": "Python 3",
   "language": "python",
   "name": "python3"
  },
  "language_info": {
   "codemirror_mode": {
    "name": "ipython",
    "version": 3
   },
   "file_extension": ".py",
   "mimetype": "text/x-python",
   "name": "python",
   "nbconvert_exporter": "python",
   "pygments_lexer": "ipython3",
   "version": "3.9.4"
  }
 },
 "nbformat": 4,
 "nbformat_minor": 4
}
