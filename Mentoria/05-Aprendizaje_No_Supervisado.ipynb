{
  "nbformat": 4,
  "nbformat_minor": 0,
  "metadata": {
    "colab": {
      "name": "05-Aprendizaje_No_Supervisado.ipynb",
      "provenance": [],
      "collapsed_sections": []
    },
    "kernelspec": {
      "display_name": "Python 3",
      "language": "python",
      "name": "python3"
    },
    "language_info": {
      "codemirror_mode": {
        "name": "ipython",
        "version": 3
      },
      "file_extension": ".py",
      "mimetype": "text/x-python",
      "name": "python",
      "nbconvert_exporter": "python",
      "pygments_lexer": "ipython3",
      "version": "3.8.8"
    }
  },
  "cells": [
    {
      "cell_type": "markdown",
      "metadata": {
        "id": "-pIlwDOVnKmF"
      },
      "source": [
        "# DiploDatos 2021\n",
        "\n",
        "### Categorización de publicaciones de productos realizadas en Mercado Libre"
      ]
    },
    {
      "cell_type": "markdown",
      "metadata": {
        "id": "-TW_h-_mnKmL"
      },
      "source": [
        "### 05 - Aprendizaje No Supervisado"
      ]
    },
    {
      "cell_type": "markdown",
      "metadata": {
        "id": "7U9Wovs8nKmM"
      },
      "source": [
        "#### Condiciones generales que aplican a todos los prácticos:\n",
        "\n",
        "- Las notebooks tienen que ser 100% reproducibles, es decir al ejecutar las celdas tal cuál como se entrega la notebook se deben obtener los mismos resultados sin errores.\n",
        "- Código legible, haciendo buen uso de las celdas de la notebook y en lo posible seguir estándares de código para *Python* (https://www.python.org/dev/peps/pep-0008/).\n",
        "- Utilizar celdas tipo *Markdown* para ir guiando el análisis.\n",
        "- Limpiar el output de las celdas antes de entregar el notebook (ir a `Kernel` --> `Restart Kernel and Clear All Ouputs`).\n",
        "- Incluir conclusiones del análisis que se hizo en la sección \"Conclusiones\". Tratar de aportar valor en esta sección, ser creativo."
      ]
    },
    {
      "cell_type": "markdown",
      "metadata": {
        "id": "0mighIqhnKmN"
      },
      "source": [
        "## 1. Consignas"
      ]
    },
    {
      "cell_type": "markdown",
      "metadata": {
        "id": "40U7GxaOnKmO"
      },
      "source": [
        "El objetivo de este **TP** es aplicar técnicas de aprendizaje *no* supervisado."
      ]
    },
    {
      "cell_type": "markdown",
      "metadata": {
        "id": "jTQhSte1nKmP"
      },
      "source": [
        "#### Sección 1: Modelado\n",
        "\n",
        "Implementar el algoritmo de aprendizaje no supervisado *K-means*:\n",
        "\n",
        "- Para la implementación de este punto no es necesario la categoría del título.\n",
        "- Utilizar los embeddings de los títulos.\n",
        "- Entrenar el modelo de *K-means*.\n",
        "- Para el entrenamiento tener en cuenta la siguiente sección."
      ]
    },
    {
      "cell_type": "markdown",
      "metadata": {
        "id": "j0Y12-49nKmQ"
      },
      "source": [
        "#### Sección 2: Encontrar el número óptimo de clusters\n",
        "\n",
        "Investigar e implementar alguno de los siguientes métodos para encontrar el número óptimo de clusters:\n",
        "\n",
        "- *Silhouette Method*\n",
        "- *Elbow Method* "
      ]
    },
    {
      "cell_type": "markdown",
      "metadata": {
        "id": "57_iFNpvnKmQ"
      },
      "source": [
        "#### Sección 3: Análisis y Visualización\n",
        "\n",
        "Responder las siguientes preguntas (puede ser por medio de una tabla o gráfico):\n",
        "\n",
        "- ¿Cuál es el **Top 10** de las categorías más presentes en cada cluster?\n",
        "\n",
        "- ¿De cada categoría, que  porcentaje de sus títulos pertenece a cada cluster?\n",
        "\n",
        "Para responder estas preguntas es necesario hacer el mapeo entre el título y el cluster al cual pertenece."
      ]
    },
    {
      "cell_type": "markdown",
      "metadata": {
        "id": "4EDPe1d8nKmR"
      },
      "source": [
        "## 2. Código y análisis"
      ]
    },
    {
      "cell_type": "markdown",
      "metadata": {
        "id": "62G15bkGnKmS"
      },
      "source": [
        "Instalaciones necesarias."
      ]
    },
    {
      "cell_type": "code",
      "metadata": {
        "colab": {
          "base_uri": "https://localhost:8080/"
        },
        "id": "9HX2YlEpnKmT",
        "outputId": "c0d129a1-2ee2-4893-b3fa-f3a121b96cb6"
      },
      "source": [
        "!pip install Unidecode"
      ],
      "execution_count": 1,
      "outputs": [
        {
          "output_type": "stream",
          "name": "stdout",
          "text": [
            "Requirement already satisfied: Unidecode in /usr/local/lib/python3.7/dist-packages (1.3.2)\n"
          ]
        }
      ]
    },
    {
      "cell_type": "markdown",
      "metadata": {
        "id": "vaIA3JMVnKmV"
      },
      "source": [
        "Importaciones necesarias."
      ]
    },
    {
      "cell_type": "code",
      "metadata": {
        "id": "-TPg0yZ_nKmV"
      },
      "source": [
        "import numpy as np\n",
        "import pandas as pd\n",
        "import matplotlib.pyplot as plt\n",
        "\n",
        "from sklearn.cluster import KMeans\n",
        "from sklearn.metrics import silhouette_samples, silhouette_score"
      ],
      "execution_count": 2,
      "outputs": []
    },
    {
      "cell_type": "markdown",
      "metadata": {
        "id": "UGnNsIqJnKmV"
      },
      "source": [
        "Lectura de dataset reducido."
      ]
    },
    {
      "cell_type": "code",
      "metadata": {
        "id": "Imu4iRuxnKmW"
      },
      "source": [
        "df_dataset = pd.read_csv('DataSet/dataset.csv')"
      ],
      "execution_count": 3,
      "outputs": []
    },
    {
      "cell_type": "markdown",
      "metadata": {
        "id": "nP0Uqf42nKmW"
      },
      "source": [
        "Estudiamos el dataset brevemente antes de comenzar a operar sobre el mismo."
      ]
    },
    {
      "cell_type": "code",
      "metadata": {
        "colab": {
          "base_uri": "https://localhost:8080/",
          "height": 175
        },
        "id": "kf2sK6blnKmW",
        "outputId": "9fb26595-f931-4e2c-f97c-f27d4605cfe6"
      },
      "source": [
        "df_dataset.describe()"
      ],
      "execution_count": 4,
      "outputs": [
        {
          "output_type": "execute_result",
          "data": {
            "text/html": [
              "<div>\n",
              "<style scoped>\n",
              "    .dataframe tbody tr th:only-of-type {\n",
              "        vertical-align: middle;\n",
              "    }\n",
              "\n",
              "    .dataframe tbody tr th {\n",
              "        vertical-align: top;\n",
              "    }\n",
              "\n",
              "    .dataframe thead th {\n",
              "        text-align: right;\n",
              "    }\n",
              "</style>\n",
              "<table border=\"1\" class=\"dataframe\">\n",
              "  <thead>\n",
              "    <tr style=\"text-align: right;\">\n",
              "      <th></th>\n",
              "      <th>title</th>\n",
              "      <th>label_quality</th>\n",
              "      <th>language</th>\n",
              "      <th>category</th>\n",
              "    </tr>\n",
              "  </thead>\n",
              "  <tbody>\n",
              "    <tr>\n",
              "      <th>count</th>\n",
              "      <td>646760</td>\n",
              "      <td>646760</td>\n",
              "      <td>646760</td>\n",
              "      <td>646760</td>\n",
              "    </tr>\n",
              "    <tr>\n",
              "      <th>unique</th>\n",
              "      <td>646019</td>\n",
              "      <td>2</td>\n",
              "      <td>2</td>\n",
              "      <td>20</td>\n",
              "    </tr>\n",
              "    <tr>\n",
              "      <th>top</th>\n",
              "      <td>Teclado Casio Ctk 601</td>\n",
              "      <td>unreliable</td>\n",
              "      <td>portuguese</td>\n",
              "      <td>PANTS</td>\n",
              "    </tr>\n",
              "    <tr>\n",
              "      <th>freq</th>\n",
              "      <td>2</td>\n",
              "      <td>551878</td>\n",
              "      <td>328992</td>\n",
              "      <td>35973</td>\n",
              "    </tr>\n",
              "  </tbody>\n",
              "</table>\n",
              "</div>"
            ],
            "text/plain": [
              "                        title label_quality    language category\n",
              "count                  646760        646760      646760   646760\n",
              "unique                 646019             2           2       20\n",
              "top     Teclado Casio Ctk 601    unreliable  portuguese    PANTS\n",
              "freq                        2        551878      328992    35973"
            ]
          },
          "metadata": {},
          "execution_count": 4
        }
      ]
    },
    {
      "cell_type": "code",
      "metadata": {
        "colab": {
          "base_uri": "https://localhost:8080/"
        },
        "id": "T5hg_G1ynKmX",
        "outputId": "bd41e3d6-06c6-4d89-ad1d-3a142ca8acee"
      },
      "source": [
        "classes = np.sort(df_dataset.category.unique())\n",
        "\n",
        "print(f'Dimensiones: {df_dataset.shape}')\n",
        "print('----------')\n",
        "print(f'Variables: {list(df_dataset.columns)}')\n",
        "print('----------')\n",
        "print(f'Categorías: {list(classes)}')"
      ],
      "execution_count": 5,
      "outputs": [
        {
          "output_type": "stream",
          "name": "stdout",
          "text": [
            "Dimensiones: (646760, 4)\n",
            "----------\n",
            "Variables: ['title', 'label_quality', 'language', 'category']\n",
            "----------\n",
            "Categorías: ['BABY_CAR_SEATS', 'BABY_STROLLERS', 'COFFEE_MAKERS', 'ELECTRIC_DRILLS', 'HAIR_CLIPPERS', 'KITCHEN_SINKS', 'MATTRESSES', 'MEMORY_CARDS', 'MOTORCYCLE_JACKETS', 'MUSICAL_KEYBOARDS', 'PANTS', 'PUREBRED_DOGS', 'RANGES', 'REFRIGERATORS', 'ROLLER_SKATES', 'SEWING_MACHINES', 'SHORTS', 'SUITCASES', 'WALL_CLOCKS', 'WINES']\n"
          ]
        }
      ]
    },
    {
      "cell_type": "markdown",
      "metadata": {
        "id": "8h4ZnqyfnKmX"
      },
      "source": [
        "**Sección 0**\n",
        "Preparando el conjunto de datos."
      ]
    },
    {
      "cell_type": "code",
      "metadata": {
        "colab": {
          "base_uri": "https://localhost:8080/",
          "height": 206
        },
        "id": "optn9RpnnKmY",
        "outputId": "13d0383d-1277-40f5-bbf3-1809d1d9f867"
      },
      "source": [
        "from scripts.utils import cleaning\n",
        "\n",
        "df_dataset['clean_title'] = df_dataset.title.apply(cleaning)\n",
        "\n",
        "df_dataset.head()"
      ],
      "execution_count": 6,
      "outputs": [
        {
          "output_type": "execute_result",
          "data": {
            "text/html": [
              "<div>\n",
              "<style scoped>\n",
              "    .dataframe tbody tr th:only-of-type {\n",
              "        vertical-align: middle;\n",
              "    }\n",
              "\n",
              "    .dataframe tbody tr th {\n",
              "        vertical-align: top;\n",
              "    }\n",
              "\n",
              "    .dataframe thead th {\n",
              "        text-align: right;\n",
              "    }\n",
              "</style>\n",
              "<table border=\"1\" class=\"dataframe\">\n",
              "  <thead>\n",
              "    <tr style=\"text-align: right;\">\n",
              "      <th></th>\n",
              "      <th>title</th>\n",
              "      <th>label_quality</th>\n",
              "      <th>language</th>\n",
              "      <th>category</th>\n",
              "      <th>clean_title</th>\n",
              "    </tr>\n",
              "  </thead>\n",
              "  <tbody>\n",
              "    <tr>\n",
              "      <th>0</th>\n",
              "      <td>Galoneira Semi Industrial</td>\n",
              "      <td>unreliable</td>\n",
              "      <td>portuguese</td>\n",
              "      <td>SEWING_MACHINES</td>\n",
              "      <td>galoneira semi industrial</td>\n",
              "    </tr>\n",
              "    <tr>\n",
              "      <th>1</th>\n",
              "      <td>Máquina De Coser Brother Industrial</td>\n",
              "      <td>unreliable</td>\n",
              "      <td>spanish</td>\n",
              "      <td>SEWING_MACHINES</td>\n",
              "      <td>maquina de coser brother industrial</td>\n",
              "    </tr>\n",
              "    <tr>\n",
              "      <th>2</th>\n",
              "      <td>Teclado Casio Wk-240 76 Teclas Profissional St...</td>\n",
              "      <td>unreliable</td>\n",
              "      <td>portuguese</td>\n",
              "      <td>MUSICAL_KEYBOARDS</td>\n",
              "      <td>teclado casio wk  teclas profissional standard</td>\n",
              "    </tr>\n",
              "    <tr>\n",
              "      <th>3</th>\n",
              "      <td>Heladera Gafa 380 Impecable Urgente</td>\n",
              "      <td>unreliable</td>\n",
              "      <td>spanish</td>\n",
              "      <td>REFRIGERATORS</td>\n",
              "      <td>heladera gafa  impecable urgente</td>\n",
              "    </tr>\n",
              "    <tr>\n",
              "      <th>4</th>\n",
              "      <td>Butaca  6 Cuotas Sin Interes!! Para Auto Bebes...</td>\n",
              "      <td>unreliable</td>\n",
              "      <td>spanish</td>\n",
              "      <td>BABY_CAR_SEATS</td>\n",
              "      <td>butaca   cuotas sin interes para auto bebesit ...</td>\n",
              "    </tr>\n",
              "  </tbody>\n",
              "</table>\n",
              "</div>"
            ],
            "text/plain": [
              "                                               title  ...                                        clean_title\n",
              "0                          Galoneira Semi Industrial  ...                          galoneira semi industrial\n",
              "1                Máquina De Coser Brother Industrial  ...                maquina de coser brother industrial\n",
              "2  Teclado Casio Wk-240 76 Teclas Profissional St...  ...     teclado casio wk  teclas profissional standard\n",
              "3                Heladera Gafa 380 Impecable Urgente  ...                   heladera gafa  impecable urgente\n",
              "4  Butaca  6 Cuotas Sin Interes!! Para Auto Bebes...  ...  butaca   cuotas sin interes para auto bebesit ...\n",
              "\n",
              "[5 rows x 5 columns]"
            ]
          },
          "metadata": {},
          "execution_count": 6
        }
      ]
    },
    {
      "cell_type": "code",
      "metadata": {
        "id": "PlvAjFZQpxCb"
      },
      "source": [
        "# Convertimos los títulos curados en listas de palabras.\n",
        "X = df_dataset.clean_title.apply(lambda ct: ct.split()).values"
      ],
      "execution_count": 7,
      "outputs": []
    },
    {
      "cell_type": "markdown",
      "metadata": {
        "id": "uTiC7ncRnKmY"
      },
      "source": [
        "**Sección 1**\n",
        "Modelado.\n",
        "\n",
        "Utilizaremos el [tutorial](https://dylancastillo.co/nlp-snippets-cluster-documents-using-word2vec/) de Dylan Castillo para el desarrollo del laboratorio."
      ]
    },
    {
      "cell_type": "markdown",
      "metadata": {
        "id": "bhbyni--TeMK"
      },
      "source": [
        "Se entrena un modelo de **Word2Vec** utilizando los títulos curados."
      ]
    },
    {
      "cell_type": "code",
      "metadata": {
        "id": "FVN5BvOluvYc"
      },
      "source": [
        "from gensim.models import Word2Vec\n",
        "\n",
        "model = Word2Vec(sentences=X, size=50, seed=123)"
      ],
      "execution_count": 8,
      "outputs": []
    },
    {
      "cell_type": "markdown",
      "metadata": {
        "id": "T4dxLOc9Uf56"
      },
      "source": [
        "Revisamos los resultados de *similaridad* de algunas palabras arbitrarias."
      ]
    },
    {
      "cell_type": "code",
      "metadata": {
        "colab": {
          "base_uri": "https://localhost:8080/"
        },
        "id": "zeLn-OnozgWE",
        "outputId": "b93a42d4-f2aa-4ef4-9bdb-77354edd1fce"
      },
      "source": [
        "model.wv.most_similar('teclado')"
      ],
      "execution_count": 9,
      "outputs": [
        {
          "output_type": "execute_result",
          "data": {
            "text/plain": [
              "[('tecl', 0.7662758827209473),\n",
              " ('teclados', 0.7640673518180847),\n",
              " ('ritmos', 0.7606066465377808),\n",
              " ('sample', 0.7311817407608032),\n",
              " ('oitavas', 0.7219606637954712),\n",
              " ('expertkeys', 0.7172209024429321),\n",
              " ('sinte', 0.71109539270401),\n",
              " ('timbres', 0.7081478238105774),\n",
              " ('piano', 0.7068670988082886),\n",
              " ('parateclado', 0.7066861391067505)]"
            ]
          },
          "metadata": {},
          "execution_count": 9
        }
      ]
    },
    {
      "cell_type": "code",
      "metadata": {
        "colab": {
          "base_uri": "https://localhost:8080/"
        },
        "id": "nv9acvRs4WnB",
        "outputId": "29fe3659-6783-42a2-e0d5-f1992cad5f21"
      },
      "source": [
        "model.wv.most_similar('maquina')"
      ],
      "execution_count": 10,
      "outputs": [
        {
          "output_type": "execute_result",
          "data": {
            "text/plain": [
              "[('maq', 0.786653459072113),\n",
              " ('maquinas', 0.7347556352615356),\n",
              " ('mquina', 0.6953234672546387),\n",
              " ('arremate', 0.6219831705093384),\n",
              " ('tesoura', 0.6127080917358398),\n",
              " ('maqyina', 0.6036962866783142),\n",
              " ('computarizado', 0.5783994197845459),\n",
              " ('calcador', 0.5651794075965881),\n",
              " ('makina', 0.562229335308075),\n",
              " ('pic', 0.5585757493972778)]"
            ]
          },
          "metadata": {},
          "execution_count": 10
        }
      ]
    },
    {
      "cell_type": "code",
      "metadata": {
        "colab": {
          "base_uri": "https://localhost:8080/"
        },
        "id": "oGjauCbQ4dhC",
        "outputId": "1fd932b9-f7f3-4f1a-f50a-7b6a6bd5b1a7"
      },
      "source": [
        "model.wv.most_similar('heladera')"
      ],
      "execution_count": 11,
      "outputs": [
        {
          "output_type": "execute_result",
          "data": {
            "text/plain": [
              "[('heladeras', 0.7966678738594055),\n",
              " ('heldera', 0.7692970037460327),\n",
              " ('heladerafreezer', 0.7561392188072205),\n",
              " ('confreezer', 0.7492932677268982),\n",
              " ('ciclica', 0.742434561252594),\n",
              " ('puertas', 0.7352095246315002),\n",
              " ('freezer', 0.7263229489326477),\n",
              " ('frezzer', 0.6879883408546448),\n",
              " ('congelador', 0.6824544668197632),\n",
              " ('plateada', 0.6807135939598083)]"
            ]
          },
          "metadata": {},
          "execution_count": 11
        }
      ]
    },
    {
      "cell_type": "markdown",
      "metadata": {
        "id": "JkJ3iiqJUx79"
      },
      "source": [
        "Se observan las primeras **10** palabras más similares a `teclado`, `maquina`, y `heladera`, en nuestro conjunto de datos.\n",
        "Los resultados son totalmente razonables. Encontramos la palabra base en plural (*maquinas*), con errores de ortografía (*mquina*), abreviaturas (*maq*), e incluso su traducción en otros idiomas (*maquininha*). Aparte de esto se distingen palabras similares que comúnmente las acompañan (*freezer* en `heladera`, o *ritmos* en `teclado`).\n",
        "\n",
        "Quizás esto también implica que la curación de nuestro conjunto de datos no es buena. Deberíamos encontrar palabras similares que suelen acompañar a la palabra base, y no derivados de esta que no nos aportan ninguna intuición sobre los datos."
      ]
    },
    {
      "cell_type": "markdown",
      "metadata": {
        "id": "OrBA1d-XYEFb"
      },
      "source": [
        "Obtenemos los *embeddings* de nuestros títulos de publicaciones curados."
      ]
    },
    {
      "cell_type": "code",
      "metadata": {
        "id": "J-zU7eTx7cbK"
      },
      "source": [
        "def vectorize(titles, model):\n",
        "  \"\"\"\n",
        "  Generate vectors for list of titles using a Word Embedding.\n",
        "\n",
        "  Args:\n",
        "    titles: List of Publication Titles.\n",
        "    model: Gensim's W2V Word Embedding.\n",
        "\n",
        "  Returns:\n",
        "    List of Publication Titles Vectors.\n",
        "  \"\"\"\n",
        "  features = []\n",
        "  zero_vector = np.zeros(model.vector_size)\n",
        "  # Recorremos la totalidad de títulos.\n",
        "  for title in titles:\n",
        "    vectors = []\n",
        "    # Recorremos la totalidad del título.\n",
        "    for token in title:\n",
        "      if token in model.wv:\n",
        "        # Agregamos el vector de la palabra a los vectores.\n",
        "        vectors.append(model.wv[token])\n",
        "    if vectors:\n",
        "      # Calculamos el promedio de los vectores.\n",
        "      vectors = np.asarray(vectors)\n",
        "      avg_vec = vectors.mean(axis=0)\n",
        "      features.append(avg_vec)\n",
        "    else:\n",
        "      features.append(zero_vector)\n",
        "  return features"
      ],
      "execution_count": 12,
      "outputs": []
    },
    {
      "cell_type": "code",
      "metadata": {
        "colab": {
          "base_uri": "https://localhost:8080/"
        },
        "id": "PThLbRwyYVYl",
        "outputId": "1f7305c5-5e4f-47fa-dabe-c34907eb6c99"
      },
      "source": [
        "vectorized_titles = vectorize(X, model)\n",
        "\n",
        "print(f'#Títulos Vectorizados: {len(vectorized_titles)}')\n",
        "\n",
        "i = 0\n",
        "print(f'Título Curado:\\n{X[i]}')\n",
        "print(f'Título Vectorizado:\\n{vectorized_titles[i]}')"
      ],
      "execution_count": 13,
      "outputs": [
        {
          "output_type": "stream",
          "name": "stdout",
          "text": [
            "#Títulos Vectorizados: 646760\n",
            "Título Curado:\n",
            "['galoneira', 'semi', 'industrial']\n",
            "Título Vectorizado:\n",
            "[ 0.3059006  -0.99268866 -1.0143918  -0.03996772 -1.2773666  -0.41785678\n",
            "  0.04299648 -0.24498916 -1.4337763   0.81968695  2.1441543  -0.7108107\n",
            "  1.6793538  -3.2701066  -1.9016962   1.9874297  -0.5584544  -1.2525789\n",
            "  1.0194362   0.27745262  1.6809279   1.4362494   0.17357166  1.6306762\n",
            " -0.38786614  0.27145413  0.34020242  0.80034167  3.4322398  -1.1172633\n",
            "  0.97126365 -0.27022532  1.7522289  -1.7605337   0.0200094  -1.6663834\n",
            " -0.22437064 -0.44523466 -1.1367579   1.1661216   0.90830594  2.790827\n",
            " -1.9152064  -0.9414945  -0.23970802  0.44912305 -1.4020821   0.6467108\n",
            " -0.68718624 -0.3814915 ]\n"
          ]
        }
      ]
    },
    {
      "cell_type": "markdown",
      "metadata": {
        "id": "N-rfqPp5bhYl"
      },
      "source": [
        "**Sección 2**\n",
        "*Elbow Method*\n",
        "\n",
        "Intentamos encontrar el número óptimo de clusters."
      ]
    },
    {
      "cell_type": "code",
      "metadata": {
        "colab": {
          "base_uri": "https://localhost:8080/",
          "height": 860
        },
        "id": "esMCmMHpZf40",
        "outputId": "92d17e76-f9e4-4c55-9ab8-953ac1bc998b"
      },
      "source": [
        "inf_bound = 1\n",
        "sup_bound = 20\n",
        "\n",
        "scores = []\n",
        "# Prueba para elegir el hiperparámetro 'n_clusters'.\n",
        "for i in range(inf_bound, sup_bound + 1):\n",
        "  kMeans = KMeans(n_clusters=i, random_state=123)\n",
        "  inertia = kMeans.fit(vectorized_titles).inertia_\n",
        "  scores.append(inertia)\n",
        "  print(f'#Clusters: {i} ---> Inertia: {inertia}')\n",
        "\n",
        "plt.figure(figsize=(12, 8))\n",
        "plt.plot(np.arange(inf_bound, sup_bound + 1), scores)\n",
        "plt.xlabel('#Clusters')\n",
        "plt.ylabel('Inertia')\n",
        "plt.title('Inertia of KMeans vs. #Clusters');"
      ],
      "execution_count": 14,
      "outputs": [
        {
          "output_type": "stream",
          "name": "stdout",
          "text": [
            "#Clusters: 1 ---> Inertia: 35050845.27228944\n",
            "#Clusters: 2 ---> Inertia: 31880090.667693984\n",
            "#Clusters: 3 ---> Inertia: 29999308.503660947\n",
            "#Clusters: 4 ---> Inertia: 28494843.40656859\n",
            "#Clusters: 5 ---> Inertia: 26921722.87121429\n",
            "#Clusters: 6 ---> Inertia: 25719800.431680933\n",
            "#Clusters: 7 ---> Inertia: 24473231.970289316\n",
            "#Clusters: 8 ---> Inertia: 23126778.703331992\n",
            "#Clusters: 9 ---> Inertia: 22119188.788476672\n",
            "#Clusters: 10 ---> Inertia: 20954735.08607701\n",
            "#Clusters: 11 ---> Inertia: 20462145.751365878\n",
            "#Clusters: 12 ---> Inertia: 19908859.559971448\n",
            "#Clusters: 13 ---> Inertia: 18975583.34044599\n",
            "#Clusters: 14 ---> Inertia: 18159391.49966747\n",
            "#Clusters: 15 ---> Inertia: 17701212.51188306\n",
            "#Clusters: 16 ---> Inertia: 17058092.596975155\n",
            "#Clusters: 17 ---> Inertia: 16634728.960781518\n",
            "#Clusters: 18 ---> Inertia: 16087271.389127063\n",
            "#Clusters: 19 ---> Inertia: 15499277.207310334\n",
            "#Clusters: 20 ---> Inertia: 15083310.950758912\n"
          ]
        },
        {
          "output_type": "display_data",
          "data": {
            "image/png": "[encoded data removed]",
            "text/plain": [
              "<Figure size 864x576 with 1 Axes>"
            ]
          },
          "metadata": {
            "needs_background": "light"
          }
        }
      ]
    },
    {
      "cell_type": "code",
      "metadata": {
        "id": "pgZ0IcMQh9e8"
      },
      "source": [
        "best_NCluster = 10"
      ],
      "execution_count": 15,
      "outputs": []
    },
    {
      "cell_type": "markdown",
      "metadata": {
        "id": "ekcw6UORdTlc"
      },
      "source": [
        "**Observación**\n",
        "\n",
        "En esta instancia aplicamos el *método del codo* sobre la **inercia** para tener una estimación de cual podría ser la cantidad de clusters óptima para nuestro problema.\n",
        "\n",
        "Se utiliza *1* como límite inferior, ya que es un valor trivial para realizar el agrupamiento, y *20* como límite superior, ya que es la cantidad de clases que existen en nuestro conjunto de datos.\n",
        "\n",
        "Al estudiar la gráfica no encontramos ningún *codo* pronunciado, por lo que no es posible definir una cantidad óptima de clusters con demasiada seguridad.\n",
        "Debido a esto, elegiremos **10** de manera arbitraria por ser un valor intermedio con respecto a la cantidad de categorías de productos en nuestro conjunto de datos.\n",
        "\n",
        "La **inercia** se la entiende como la suma de las distancias cuadradas de cada muestra al centro (calculado por **KMeans**) más cercano."
      ]
    },
    {
      "cell_type": "code",
      "metadata": {
        "id": "SJWsueNH-IzV"
      },
      "source": [
        "def KMeans_clusters(X, k, printSilhouette):\n",
        "  \"\"\"\n",
        "  Generate clusters and print Silhouette metrics using KMeans.\n",
        "\n",
        "  Args:\n",
        "    X: List of vectors.\n",
        "    k: Number of clusters.\n",
        "    printSilhouette: Print silhouette values per cluster.\n",
        "\n",
        "  Returns:\n",
        "    Trained clustering model and labels based on X.\n",
        "  \"\"\"\n",
        "  km = KMeans(n_clusters=k, random_state=123).fit(X)\n",
        "  print(f'For n_clusters = {k}')\n",
        "  print(f'Inertia: {km.inertia_}')\n",
        "  print(f'Silhouette Coefficient: {silhouette_score(X, km.labels_):0.2f}')\n",
        "  if printSilhouette:\n",
        "    sample_silhouette_values = silhouette_samples(X, km.labels_)\n",
        "    print(f'Silhouette Values...')\n",
        "    silhouette_values = []\n",
        "    for i in range(k):\n",
        "      cluster_silhouette_values = sample_silhouette_values[km.labels_ == i]\n",
        "      silhouette_values.append(\n",
        "          (\n",
        "           i,\n",
        "           cluster_silhouette_values.shape[0],\n",
        "           cluster_silhouette_values.mean(),\n",
        "           cluster_silhouette_values.min(),\n",
        "           cluster_silhouette_values.max(),\n",
        "           )\n",
        "          )\n",
        "    silhouette_values = sorted(\n",
        "        silhouette_values, key=lambda tup: tup[2], reverse=True\n",
        "        )\n",
        "    for s in silhouette_values:\n",
        "      print(f'>Cluster {s[0]}: Size:{s[1]} | Avg:{s[2]:.2f} | Min:{s[3]:.2f} | Max: {s[4]:.2f}')\n",
        "  return km, km.labels_"
      ],
      "execution_count": 16,
      "outputs": []
    },
    {
      "cell_type": "code",
      "metadata": {
        "colab": {
          "base_uri": "https://localhost:8080/"
        },
        "id": "WeSMHizv_zaW",
        "outputId": "40471cb5-dc3b-48bd-c9fb-318e4f4e9ad7"
      },
      "source": [
        "clustering, cluster_labels = KMeans_clusters(vectorized_titles, best_NCluster, True)"
      ],
      "execution_count": 17,
      "outputs": [
        {
          "output_type": "stream",
          "name": "stdout",
          "text": [
            "For n_clusters = 10\n",
            "Inertia: 20954735.08607701\n",
            "Silhouette Coefficient: 0.19\n",
            "Silhouette Values...\n",
            ">Cluster 2: Size:30075 | Avg:0.54 | Min:0.04 | Max: 0.66\n",
            ">Cluster 8: Size:30359 | Avg:0.35 | Min:-0.08 | Max: 0.50\n",
            ">Cluster 5: Size:32157 | Avg:0.31 | Min:-0.01 | Max: 0.44\n",
            ">Cluster 6: Size:63613 | Avg:0.23 | Min:-0.07 | Max: 0.38\n",
            ">Cluster 4: Size:87082 | Avg:0.16 | Min:-0.17 | Max: 0.31\n",
            ">Cluster 3: Size:96335 | Avg:0.16 | Min:-0.17 | Max: 0.29\n",
            ">Cluster 9: Size:76070 | Avg:0.16 | Min:-0.16 | Max: 0.31\n",
            ">Cluster 1: Size:58778 | Avg:0.15 | Min:-0.15 | Max: 0.30\n",
            ">Cluster 0: Size:65787 | Avg:0.14 | Min:-0.14 | Max: 0.30\n",
            ">Cluster 7: Size:106504 | Avg:0.12 | Min:-0.20 | Max: 0.27\n"
          ]
        }
      ]
    },
    {
      "cell_type": "markdown",
      "metadata": {
        "id": "WwL4iOnIBjA8"
      },
      "source": [
        "Al analizar el coeficiente de *silueta* para cada cluster observamos que el agrupamiento **2** obtiene el mejor promedio (además de ser el más pequeño), y que el agrupamiento **7** obtiene el peor promedio (además de ser el más grande).\n",
        "Quizás ambas condiciones estén correlacionadas."
      ]
    },
    {
      "cell_type": "code",
      "metadata": {
        "colab": {
          "base_uri": "https://localhost:8080/",
          "height": 206
        },
        "id": "7Hh4wZ1sWZCr",
        "outputId": "492f9c40-6964-465f-ed31-74fe45b5a14d"
      },
      "source": [
        "df_dataset['clusters'] = cluster_labels\n",
        "\n",
        "df_dataset.head()"
      ],
      "execution_count": 18,
      "outputs": [
        {
          "output_type": "execute_result",
          "data": {
            "text/html": [
              "<div>\n",
              "<style scoped>\n",
              "    .dataframe tbody tr th:only-of-type {\n",
              "        vertical-align: middle;\n",
              "    }\n",
              "\n",
              "    .dataframe tbody tr th {\n",
              "        vertical-align: top;\n",
              "    }\n",
              "\n",
              "    .dataframe thead th {\n",
              "        text-align: right;\n",
              "    }\n",
              "</style>\n",
              "<table border=\"1\" class=\"dataframe\">\n",
              "  <thead>\n",
              "    <tr style=\"text-align: right;\">\n",
              "      <th></th>\n",
              "      <th>title</th>\n",
              "      <th>label_quality</th>\n",
              "      <th>language</th>\n",
              "      <th>category</th>\n",
              "      <th>clean_title</th>\n",
              "      <th>clusters</th>\n",
              "    </tr>\n",
              "  </thead>\n",
              "  <tbody>\n",
              "    <tr>\n",
              "      <th>0</th>\n",
              "      <td>Galoneira Semi Industrial</td>\n",
              "      <td>unreliable</td>\n",
              "      <td>portuguese</td>\n",
              "      <td>SEWING_MACHINES</td>\n",
              "      <td>galoneira semi industrial</td>\n",
              "      <td>3</td>\n",
              "    </tr>\n",
              "    <tr>\n",
              "      <th>1</th>\n",
              "      <td>Máquina De Coser Brother Industrial</td>\n",
              "      <td>unreliable</td>\n",
              "      <td>spanish</td>\n",
              "      <td>SEWING_MACHINES</td>\n",
              "      <td>maquina de coser brother industrial</td>\n",
              "      <td>3</td>\n",
              "    </tr>\n",
              "    <tr>\n",
              "      <th>2</th>\n",
              "      <td>Teclado Casio Wk-240 76 Teclas Profissional St...</td>\n",
              "      <td>unreliable</td>\n",
              "      <td>portuguese</td>\n",
              "      <td>MUSICAL_KEYBOARDS</td>\n",
              "      <td>teclado casio wk  teclas profissional standard</td>\n",
              "      <td>8</td>\n",
              "    </tr>\n",
              "    <tr>\n",
              "      <th>3</th>\n",
              "      <td>Heladera Gafa 380 Impecable Urgente</td>\n",
              "      <td>unreliable</td>\n",
              "      <td>spanish</td>\n",
              "      <td>REFRIGERATORS</td>\n",
              "      <td>heladera gafa  impecable urgente</td>\n",
              "      <td>0</td>\n",
              "    </tr>\n",
              "    <tr>\n",
              "      <th>4</th>\n",
              "      <td>Butaca  6 Cuotas Sin Interes!! Para Auto Bebes...</td>\n",
              "      <td>unreliable</td>\n",
              "      <td>spanish</td>\n",
              "      <td>BABY_CAR_SEATS</td>\n",
              "      <td>butaca   cuotas sin interes para auto bebesit ...</td>\n",
              "      <td>6</td>\n",
              "    </tr>\n",
              "  </tbody>\n",
              "</table>\n",
              "</div>"
            ],
            "text/plain": [
              "                                               title  ... clusters\n",
              "0                          Galoneira Semi Industrial  ...        3\n",
              "1                Máquina De Coser Brother Industrial  ...        3\n",
              "2  Teclado Casio Wk-240 76 Teclas Profissional St...  ...        8\n",
              "3                Heladera Gafa 380 Impecable Urgente  ...        0\n",
              "4  Butaca  6 Cuotas Sin Interes!! Para Auto Bebes...  ...        6\n",
              "\n",
              "[5 rows x 6 columns]"
            ]
          },
          "metadata": {},
          "execution_count": 18
        }
      ]
    },
    {
      "cell_type": "code",
      "metadata": {
        "colab": {
          "base_uri": "https://localhost:8080/"
        },
        "id": "t9MXAF2_CLnt",
        "outputId": "0223db99-066b-4aa8-a3bf-e3794ed5d20c"
      },
      "source": [
        "print('Términos más representativos por c/cluster (en base a centros)...')\n",
        "\n",
        "for i in range(best_NCluster):\n",
        "  tokens_per_cluster = []\n",
        "  most_representative = model.wv.most_similar(positive=[clustering.cluster_centers_[i]], topn=5)\n",
        "  for t in most_representative:\n",
        "    tokens_per_cluster.append(t[0])\n",
        "  print(f'Cluster {i}: {\" | \".join(tokens_per_cluster)}')"
      ],
      "execution_count": 19,
      "outputs": [
        {
          "output_type": "stream",
          "name": "stdout",
          "text": [
            "Términos más representativos por c/cluster (en base a centros)...\n",
            "Cluster 0: mgas | cocinar | peltre | argsale | contapa\n",
            "Cluster 1: torneiras | ewt | esterilizador | bico | prateleiras\n",
            "Cluster 2: kodak | uhs | uhsi | android | sdhc\n",
            "Cluster 3: velocidades | whall | monofasica | fsb | qirui\n",
            "Cluster 4: caqui | ciganinha | colete | puidos | gg\n",
            "Cluster 5: visco | latex | bamboo | viscoelastico | europillow\n",
            "Cluster 6: cadeirao | parasol | carrier | akg | conbase\n",
            "Cluster 7: sagrada | superieur | barton | murrieta | burro\n",
            "Cluster 8: oitavas | ritmos | teclado | midi | expertkeys\n",
            "Cluster 9: fucsia | naranja | corazones | unisex | medium\n"
          ]
        }
      ]
    },
    {
      "cell_type": "markdown",
      "metadata": {
        "id": "i9vNcsKLCk-w"
      },
      "source": [
        "Si analizamos las palabras más representativas de cada cluster, obtenemos algunos resultados curiosos.\n",
        "Los clusters con mejor coeficiente de *silueta* promedio son **2**, **8**, y **5**.\n",
        "\n",
        "- En el cluster **2** destacan palabras que parecen pertenecer a `MEMORY_CARDS`.\n",
        "- En el cluster **8** destacan palabras que parecen pertenecer a `MUSICAL_KEYBOARDS`.\n",
        "- En el cluster **5** destacan palabras que parecen pertenecer a `MATTRESSES`."
      ]
    },
    {
      "cell_type": "code",
      "metadata": {
        "id": "YvADE1LSjgke"
      },
      "source": [
        "random_Cluster = 3"
      ],
      "execution_count": 20,
      "outputs": []
    },
    {
      "cell_type": "code",
      "metadata": {
        "colab": {
          "base_uri": "https://localhost:8080/"
        },
        "id": "AeB2PeoqCvn4",
        "outputId": "81e4d942-701a-4f82-c3f9-5c00270057a1"
      },
      "source": [
        "most_representative_titles = np.argsort(\n",
        "    np.linalg.norm(vectorized_titles - clustering.cluster_centers_[random_Cluster], axis=1)\n",
        "    )\n",
        "\n",
        "for t in most_representative_titles[:5]:\n",
        "    print(df_dataset.clean_title.values[t])\n",
        "    print('----------')"
      ],
      "execution_count": 21,
      "outputs": [
        {
          "output_type": "stream",
          "name": "stdout",
          "text": [
            " motores maquina costura ns v hz a rpm w \n",
            "----------\n",
            "maquina de corte  polegadas  watts   vts\n",
            "----------\n",
            "bobina motor braco de mover lamina maquina clip v w\n",
            "----------\n",
            "maquina de corte faca  pol copia servicemac\n",
            "----------\n",
            "motor maquina de costura fm  v  hz a w\n",
            "----------\n"
          ]
        }
      ]
    },
    {
      "cell_type": "markdown",
      "metadata": {
        "id": "r68OkmmWPnVb"
      },
      "source": [
        "Seleccionamos un cluster cualquiera, en este caso **3**, y analizamos los títulos de publicaciones más representativos para el agrupamiento.\n",
        "Recordar que el coeficiente de *silueta* promedio para el conjunto no fue bueno, por lo que los resultados pueden no ser demasiado coherentes.\n",
        "\n",
        "Al inspeccionar los títulos resulta evidente que estamos frente al cluster de las máquinas, todos los títulos encontrados hacen referencia a alguna de las siguientes categorías `SEWING_MACHINES`, `HAIR_CLIPPERS`, o `ELECTRIC_DRILLS`."
      ]
    },
    {
      "cell_type": "markdown",
      "metadata": {
        "id": "dqkrmaP1DB2l"
      },
      "source": [
        "**Sección 3**\n",
        "Visualización.\n",
        "\n",
        "Utilizaremos `crosstab` para responder a las preguntas planteadas."
      ]
    },
    {
      "cell_type": "code",
      "metadata": {
        "colab": {
          "base_uri": "https://localhost:8080/",
          "height": 739
        },
        "id": "JgHEooXInpI6",
        "outputId": "d32c4982-7b21-4160-9455-c779403b3fd1"
      },
      "source": [
        "# Cantidad de categorías por cada cluster.\n",
        "pd.crosstab(index=df_dataset['category'], columns=df_dataset['clusters'], margins=True)"
      ],
      "execution_count": 22,
      "outputs": [
        {
          "output_type": "execute_result",
          "data": {
            "text/html": [
              "<div>\n",
              "<style scoped>\n",
              "    .dataframe tbody tr th:only-of-type {\n",
              "        vertical-align: middle;\n",
              "    }\n",
              "\n",
              "    .dataframe tbody tr th {\n",
              "        vertical-align: top;\n",
              "    }\n",
              "\n",
              "    .dataframe thead th {\n",
              "        text-align: right;\n",
              "    }\n",
              "</style>\n",
              "<table border=\"1\" class=\"dataframe\">\n",
              "  <thead>\n",
              "    <tr style=\"text-align: right;\">\n",
              "      <th>clusters</th>\n",
              "      <th>0</th>\n",
              "      <th>1</th>\n",
              "      <th>2</th>\n",
              "      <th>3</th>\n",
              "      <th>4</th>\n",
              "      <th>5</th>\n",
              "      <th>6</th>\n",
              "      <th>7</th>\n",
              "      <th>8</th>\n",
              "      <th>9</th>\n",
              "      <th>All</th>\n",
              "    </tr>\n",
              "    <tr>\n",
              "      <th>category</th>\n",
              "      <th></th>\n",
              "      <th></th>\n",
              "      <th></th>\n",
              "      <th></th>\n",
              "      <th></th>\n",
              "      <th></th>\n",
              "      <th></th>\n",
              "      <th></th>\n",
              "      <th></th>\n",
              "      <th></th>\n",
              "      <th></th>\n",
              "    </tr>\n",
              "  </thead>\n",
              "  <tbody>\n",
              "    <tr>\n",
              "      <th>BABY_CAR_SEATS</th>\n",
              "      <td>7</td>\n",
              "      <td>12</td>\n",
              "      <td>2</td>\n",
              "      <td>26</td>\n",
              "      <td>198</td>\n",
              "      <td>1</td>\n",
              "      <td>33298</td>\n",
              "      <td>480</td>\n",
              "      <td>0</td>\n",
              "      <td>139</td>\n",
              "      <td>34163</td>\n",
              "    </tr>\n",
              "    <tr>\n",
              "      <th>BABY_STROLLERS</th>\n",
              "      <td>6</td>\n",
              "      <td>5</td>\n",
              "      <td>9</td>\n",
              "      <td>27</td>\n",
              "      <td>368</td>\n",
              "      <td>3</td>\n",
              "      <td>30092</td>\n",
              "      <td>507</td>\n",
              "      <td>1</td>\n",
              "      <td>335</td>\n",
              "      <td>31353</td>\n",
              "    </tr>\n",
              "    <tr>\n",
              "      <th>COFFEE_MAKERS</th>\n",
              "      <td>14997</td>\n",
              "      <td>14760</td>\n",
              "      <td>0</td>\n",
              "      <td>3557</td>\n",
              "      <td>30</td>\n",
              "      <td>0</td>\n",
              "      <td>11</td>\n",
              "      <td>1665</td>\n",
              "      <td>2</td>\n",
              "      <td>82</td>\n",
              "      <td>35104</td>\n",
              "    </tr>\n",
              "    <tr>\n",
              "      <th>ELECTRIC_DRILLS</th>\n",
              "      <td>56</td>\n",
              "      <td>93</td>\n",
              "      <td>1</td>\n",
              "      <td>30203</td>\n",
              "      <td>14</td>\n",
              "      <td>0</td>\n",
              "      <td>1</td>\n",
              "      <td>395</td>\n",
              "      <td>0</td>\n",
              "      <td>57</td>\n",
              "      <td>30820</td>\n",
              "    </tr>\n",
              "    <tr>\n",
              "      <th>HAIR_CLIPPERS</th>\n",
              "      <td>74</td>\n",
              "      <td>64</td>\n",
              "      <td>0</td>\n",
              "      <td>31278</td>\n",
              "      <td>90</td>\n",
              "      <td>0</td>\n",
              "      <td>9</td>\n",
              "      <td>815</td>\n",
              "      <td>1</td>\n",
              "      <td>41</td>\n",
              "      <td>32372</td>\n",
              "    </tr>\n",
              "    <tr>\n",
              "      <th>KITCHEN_SINKS</th>\n",
              "      <td>15646</td>\n",
              "      <td>14249</td>\n",
              "      <td>0</td>\n",
              "      <td>80</td>\n",
              "      <td>49</td>\n",
              "      <td>4</td>\n",
              "      <td>5</td>\n",
              "      <td>592</td>\n",
              "      <td>0</td>\n",
              "      <td>10</td>\n",
              "      <td>30635</td>\n",
              "    </tr>\n",
              "    <tr>\n",
              "      <th>MATTRESSES</th>\n",
              "      <td>4</td>\n",
              "      <td>4</td>\n",
              "      <td>0</td>\n",
              "      <td>6</td>\n",
              "      <td>83</td>\n",
              "      <td>32094</td>\n",
              "      <td>49</td>\n",
              "      <td>624</td>\n",
              "      <td>0</td>\n",
              "      <td>103</td>\n",
              "      <td>32967</td>\n",
              "    </tr>\n",
              "    <tr>\n",
              "      <th>MEMORY_CARDS</th>\n",
              "      <td>4</td>\n",
              "      <td>20</td>\n",
              "      <td>29983</td>\n",
              "      <td>201</td>\n",
              "      <td>65</td>\n",
              "      <td>0</td>\n",
              "      <td>8</td>\n",
              "      <td>1187</td>\n",
              "      <td>53</td>\n",
              "      <td>43</td>\n",
              "      <td>31564</td>\n",
              "    </tr>\n",
              "    <tr>\n",
              "      <th>MOTORCYCLE_JACKETS</th>\n",
              "      <td>2</td>\n",
              "      <td>0</td>\n",
              "      <td>0</td>\n",
              "      <td>65</td>\n",
              "      <td>16991</td>\n",
              "      <td>0</td>\n",
              "      <td>1</td>\n",
              "      <td>215</td>\n",
              "      <td>46</td>\n",
              "      <td>15295</td>\n",
              "      <td>32615</td>\n",
              "    </tr>\n",
              "    <tr>\n",
              "      <th>MUSICAL_KEYBOARDS</th>\n",
              "      <td>20</td>\n",
              "      <td>47</td>\n",
              "      <td>26</td>\n",
              "      <td>403</td>\n",
              "      <td>59</td>\n",
              "      <td>7</td>\n",
              "      <td>8</td>\n",
              "      <td>2247</td>\n",
              "      <td>30247</td>\n",
              "      <td>158</td>\n",
              "      <td>33222</td>\n",
              "    </tr>\n",
              "    <tr>\n",
              "      <th>PANTS</th>\n",
              "      <td>1</td>\n",
              "      <td>1</td>\n",
              "      <td>0</td>\n",
              "      <td>25</td>\n",
              "      <td>18539</td>\n",
              "      <td>1</td>\n",
              "      <td>37</td>\n",
              "      <td>685</td>\n",
              "      <td>2</td>\n",
              "      <td>16682</td>\n",
              "      <td>35973</td>\n",
              "    </tr>\n",
              "    <tr>\n",
              "      <th>PUREBRED_DOGS</th>\n",
              "      <td>49</td>\n",
              "      <td>2</td>\n",
              "      <td>35</td>\n",
              "      <td>71</td>\n",
              "      <td>120</td>\n",
              "      <td>32</td>\n",
              "      <td>21</td>\n",
              "      <td>32464</td>\n",
              "      <td>1</td>\n",
              "      <td>133</td>\n",
              "      <td>32928</td>\n",
              "    </tr>\n",
              "    <tr>\n",
              "      <th>RANGES</th>\n",
              "      <td>17134</td>\n",
              "      <td>14941</td>\n",
              "      <td>2</td>\n",
              "      <td>91</td>\n",
              "      <td>7</td>\n",
              "      <td>0</td>\n",
              "      <td>1</td>\n",
              "      <td>461</td>\n",
              "      <td>2</td>\n",
              "      <td>6</td>\n",
              "      <td>32645</td>\n",
              "    </tr>\n",
              "    <tr>\n",
              "      <th>REFRIGERATORS</th>\n",
              "      <td>17351</td>\n",
              "      <td>14236</td>\n",
              "      <td>12</td>\n",
              "      <td>127</td>\n",
              "      <td>35</td>\n",
              "      <td>2</td>\n",
              "      <td>10</td>\n",
              "      <td>811</td>\n",
              "      <td>1</td>\n",
              "      <td>50</td>\n",
              "      <td>32635</td>\n",
              "    </tr>\n",
              "    <tr>\n",
              "      <th>ROLLER_SKATES</th>\n",
              "      <td>5</td>\n",
              "      <td>4</td>\n",
              "      <td>3</td>\n",
              "      <td>121</td>\n",
              "      <td>17209</td>\n",
              "      <td>2</td>\n",
              "      <td>4</td>\n",
              "      <td>457</td>\n",
              "      <td>1</td>\n",
              "      <td>13565</td>\n",
              "      <td>31371</td>\n",
              "    </tr>\n",
              "    <tr>\n",
              "      <th>SEWING_MACHINES</th>\n",
              "      <td>233</td>\n",
              "      <td>52</td>\n",
              "      <td>0</td>\n",
              "      <td>29775</td>\n",
              "      <td>128</td>\n",
              "      <td>3</td>\n",
              "      <td>6</td>\n",
              "      <td>840</td>\n",
              "      <td>0</td>\n",
              "      <td>92</td>\n",
              "      <td>31129</td>\n",
              "    </tr>\n",
              "    <tr>\n",
              "      <th>SHORTS</th>\n",
              "      <td>0</td>\n",
              "      <td>1</td>\n",
              "      <td>0</td>\n",
              "      <td>15</td>\n",
              "      <td>15869</td>\n",
              "      <td>0</td>\n",
              "      <td>13</td>\n",
              "      <td>694</td>\n",
              "      <td>0</td>\n",
              "      <td>15093</td>\n",
              "      <td>31685</td>\n",
              "    </tr>\n",
              "    <tr>\n",
              "      <th>SUITCASES</th>\n",
              "      <td>2</td>\n",
              "      <td>3</td>\n",
              "      <td>0</td>\n",
              "      <td>65</td>\n",
              "      <td>17038</td>\n",
              "      <td>6</td>\n",
              "      <td>35</td>\n",
              "      <td>408</td>\n",
              "      <td>2</td>\n",
              "      <td>14021</td>\n",
              "      <td>31580</td>\n",
              "    </tr>\n",
              "    <tr>\n",
              "      <th>WALL_CLOCKS</th>\n",
              "      <td>187</td>\n",
              "      <td>273</td>\n",
              "      <td>0</td>\n",
              "      <td>160</td>\n",
              "      <td>145</td>\n",
              "      <td>0</td>\n",
              "      <td>2</td>\n",
              "      <td>29699</td>\n",
              "      <td>0</td>\n",
              "      <td>134</td>\n",
              "      <td>30600</td>\n",
              "    </tr>\n",
              "    <tr>\n",
              "      <th>WINES</th>\n",
              "      <td>9</td>\n",
              "      <td>11</td>\n",
              "      <td>2</td>\n",
              "      <td>39</td>\n",
              "      <td>45</td>\n",
              "      <td>2</td>\n",
              "      <td>2</td>\n",
              "      <td>31258</td>\n",
              "      <td>0</td>\n",
              "      <td>31</td>\n",
              "      <td>31399</td>\n",
              "    </tr>\n",
              "    <tr>\n",
              "      <th>All</th>\n",
              "      <td>65787</td>\n",
              "      <td>58778</td>\n",
              "      <td>30075</td>\n",
              "      <td>96335</td>\n",
              "      <td>87082</td>\n",
              "      <td>32157</td>\n",
              "      <td>63613</td>\n",
              "      <td>106504</td>\n",
              "      <td>30359</td>\n",
              "      <td>76070</td>\n",
              "      <td>646760</td>\n",
              "    </tr>\n",
              "  </tbody>\n",
              "</table>\n",
              "</div>"
            ],
            "text/plain": [
              "clusters                0      1      2      3  ...       7      8      9     All\n",
              "category                                        ...                              \n",
              "BABY_CAR_SEATS          7     12      2     26  ...     480      0    139   34163\n",
              "BABY_STROLLERS          6      5      9     27  ...     507      1    335   31353\n",
              "COFFEE_MAKERS       14997  14760      0   3557  ...    1665      2     82   35104\n",
              "ELECTRIC_DRILLS        56     93      1  30203  ...     395      0     57   30820\n",
              "HAIR_CLIPPERS          74     64      0  31278  ...     815      1     41   32372\n",
              "KITCHEN_SINKS       15646  14249      0     80  ...     592      0     10   30635\n",
              "MATTRESSES              4      4      0      6  ...     624      0    103   32967\n",
              "MEMORY_CARDS            4     20  29983    201  ...    1187     53     43   31564\n",
              "MOTORCYCLE_JACKETS      2      0      0     65  ...     215     46  15295   32615\n",
              "MUSICAL_KEYBOARDS      20     47     26    403  ...    2247  30247    158   33222\n",
              "PANTS                   1      1      0     25  ...     685      2  16682   35973\n",
              "PUREBRED_DOGS          49      2     35     71  ...   32464      1    133   32928\n",
              "RANGES              17134  14941      2     91  ...     461      2      6   32645\n",
              "REFRIGERATORS       17351  14236     12    127  ...     811      1     50   32635\n",
              "ROLLER_SKATES           5      4      3    121  ...     457      1  13565   31371\n",
              "SEWING_MACHINES       233     52      0  29775  ...     840      0     92   31129\n",
              "SHORTS                  0      1      0     15  ...     694      0  15093   31685\n",
              "SUITCASES               2      3      0     65  ...     408      2  14021   31580\n",
              "WALL_CLOCKS           187    273      0    160  ...   29699      0    134   30600\n",
              "WINES                   9     11      2     39  ...   31258      0     31   31399\n",
              "All                 65787  58778  30075  96335  ...  106504  30359  76070  646760\n",
              "\n",
              "[21 rows x 11 columns]"
            ]
          },
          "metadata": {},
          "execution_count": 22
        }
      ]
    },
    {
      "cell_type": "markdown",
      "metadata": {
        "id": "o8TmySQm488t"
      },
      "source": [
        "Resumiendo la tabla obtenida, podemos limitarnos al *podio* de categorías por cada cluster...\n",
        "\n",
        "| Podio  |  0  |  1  |  2  |  3  |  4  |  5  |  6  |  7  |  8  |  9  |\n",
        "| :-: | :-: | :-: | :-: | :-: | :-: | :-: | :-: | :-: | :-: | :-: |\n",
        "| 1º  | `REFRIGERATORS` | `RANGES`        | `MEMORY_CARDS` | `HAIR_CLIPPERS`   | `PANTS`              | `MATTRESSES` | `BABY_CAR_SEATS` | `PUREBRED_DOGS` | `MUSICAL_KEYBOARDS` | `PANTS`              |\n",
        "| 2º  | `RANGES`        | `COFFEE_MAKERS` | -------------- | `ELECTRIC_DRILLS` | `ROLLER_SKATES`      | ------------ | `BABY_STROLLERS` | `WINES`         | ------------------- | `MOTORCYCLE_JACKETS` |\n",
        "| 3º  | `KITCHEN_SINKS` | `KITCHEN_SINKS` | -------------- | `SEWING_MACHINES` | `SUITCASES`          | ------------ | ---------------- | `WALL_CLOCKS`   | ------------------- | `SHORTS`             |\n",
        "| 4º  | `COFFEE_MAKERS` | `REFRIGERATORS` | -------------- | ----------------- | `MOTORCYCLE_JACKETS` | ------------ | ---------------- | --------------- | ------------------- | `SUITCASES`          |\n",
        "| 5º  | --------------- | --------------- | -------------- | ----------------- | `SHORTS`             | ------------ | ---------------- | --------------- | ------------------- | `ROLLER_SKATES`      |\n",
        "\n",
        "Como solo nos queremos quedar con los resultados generales, vamos a ignorar las categorías con pocos representantes en cada cluster.\n",
        "De esta forma, solo listaremos en la tabla las clases más numerosas para cada agrupamiento."
      ]
    },
    {
      "cell_type": "code",
      "metadata": {
        "colab": {
          "base_uri": "https://localhost:8080/",
          "height": 739
        },
        "id": "svwJhYQ0l0BC",
        "outputId": "1fa6bfb6-3c71-4581-87f2-525bbe04068f"
      },
      "source": [
        "# Porcentajes de categorías por cada cluster.\n",
        "pd.crosstab(index=df_dataset['category'], columns=df_dataset['clusters'], normalize='index', margins=True)"
      ],
      "execution_count": 23,
      "outputs": [
        {
          "output_type": "execute_result",
          "data": {
            "text/html": [
              "<div>\n",
              "<style scoped>\n",
              "    .dataframe tbody tr th:only-of-type {\n",
              "        vertical-align: middle;\n",
              "    }\n",
              "\n",
              "    .dataframe tbody tr th {\n",
              "        vertical-align: top;\n",
              "    }\n",
              "\n",
              "    .dataframe thead th {\n",
              "        text-align: right;\n",
              "    }\n",
              "</style>\n",
              "<table border=\"1\" class=\"dataframe\">\n",
              "  <thead>\n",
              "    <tr style=\"text-align: right;\">\n",
              "      <th>clusters</th>\n",
              "      <th>0</th>\n",
              "      <th>1</th>\n",
              "      <th>2</th>\n",
              "      <th>3</th>\n",
              "      <th>4</th>\n",
              "      <th>5</th>\n",
              "      <th>6</th>\n",
              "      <th>7</th>\n",
              "      <th>8</th>\n",
              "      <th>9</th>\n",
              "    </tr>\n",
              "    <tr>\n",
              "      <th>category</th>\n",
              "      <th></th>\n",
              "      <th></th>\n",
              "      <th></th>\n",
              "      <th></th>\n",
              "      <th></th>\n",
              "      <th></th>\n",
              "      <th></th>\n",
              "      <th></th>\n",
              "      <th></th>\n",
              "      <th></th>\n",
              "    </tr>\n",
              "  </thead>\n",
              "  <tbody>\n",
              "    <tr>\n",
              "      <th>BABY_CAR_SEATS</th>\n",
              "      <td>0.000205</td>\n",
              "      <td>0.000351</td>\n",
              "      <td>0.000059</td>\n",
              "      <td>0.000761</td>\n",
              "      <td>0.005796</td>\n",
              "      <td>0.000029</td>\n",
              "      <td>0.974680</td>\n",
              "      <td>0.014050</td>\n",
              "      <td>0.000000</td>\n",
              "      <td>0.004069</td>\n",
              "    </tr>\n",
              "    <tr>\n",
              "      <th>BABY_STROLLERS</th>\n",
              "      <td>0.000191</td>\n",
              "      <td>0.000159</td>\n",
              "      <td>0.000287</td>\n",
              "      <td>0.000861</td>\n",
              "      <td>0.011737</td>\n",
              "      <td>0.000096</td>\n",
              "      <td>0.959781</td>\n",
              "      <td>0.016171</td>\n",
              "      <td>0.000032</td>\n",
              "      <td>0.010685</td>\n",
              "    </tr>\n",
              "    <tr>\n",
              "      <th>COFFEE_MAKERS</th>\n",
              "      <td>0.427216</td>\n",
              "      <td>0.420465</td>\n",
              "      <td>0.000000</td>\n",
              "      <td>0.101327</td>\n",
              "      <td>0.000855</td>\n",
              "      <td>0.000000</td>\n",
              "      <td>0.000313</td>\n",
              "      <td>0.047430</td>\n",
              "      <td>0.000057</td>\n",
              "      <td>0.002336</td>\n",
              "    </tr>\n",
              "    <tr>\n",
              "      <th>ELECTRIC_DRILLS</th>\n",
              "      <td>0.001817</td>\n",
              "      <td>0.003018</td>\n",
              "      <td>0.000032</td>\n",
              "      <td>0.979981</td>\n",
              "      <td>0.000454</td>\n",
              "      <td>0.000000</td>\n",
              "      <td>0.000032</td>\n",
              "      <td>0.012816</td>\n",
              "      <td>0.000000</td>\n",
              "      <td>0.001849</td>\n",
              "    </tr>\n",
              "    <tr>\n",
              "      <th>HAIR_CLIPPERS</th>\n",
              "      <td>0.002286</td>\n",
              "      <td>0.001977</td>\n",
              "      <td>0.000000</td>\n",
              "      <td>0.966205</td>\n",
              "      <td>0.002780</td>\n",
              "      <td>0.000000</td>\n",
              "      <td>0.000278</td>\n",
              "      <td>0.025176</td>\n",
              "      <td>0.000031</td>\n",
              "      <td>0.001267</td>\n",
              "    </tr>\n",
              "    <tr>\n",
              "      <th>KITCHEN_SINKS</th>\n",
              "      <td>0.510723</td>\n",
              "      <td>0.465122</td>\n",
              "      <td>0.000000</td>\n",
              "      <td>0.002611</td>\n",
              "      <td>0.001599</td>\n",
              "      <td>0.000131</td>\n",
              "      <td>0.000163</td>\n",
              "      <td>0.019324</td>\n",
              "      <td>0.000000</td>\n",
              "      <td>0.000326</td>\n",
              "    </tr>\n",
              "    <tr>\n",
              "      <th>MATTRESSES</th>\n",
              "      <td>0.000121</td>\n",
              "      <td>0.000121</td>\n",
              "      <td>0.000000</td>\n",
              "      <td>0.000182</td>\n",
              "      <td>0.002518</td>\n",
              "      <td>0.973519</td>\n",
              "      <td>0.001486</td>\n",
              "      <td>0.018928</td>\n",
              "      <td>0.000000</td>\n",
              "      <td>0.003124</td>\n",
              "    </tr>\n",
              "    <tr>\n",
              "      <th>MEMORY_CARDS</th>\n",
              "      <td>0.000127</td>\n",
              "      <td>0.000634</td>\n",
              "      <td>0.949911</td>\n",
              "      <td>0.006368</td>\n",
              "      <td>0.002059</td>\n",
              "      <td>0.000000</td>\n",
              "      <td>0.000253</td>\n",
              "      <td>0.037606</td>\n",
              "      <td>0.001679</td>\n",
              "      <td>0.001362</td>\n",
              "    </tr>\n",
              "    <tr>\n",
              "      <th>MOTORCYCLE_JACKETS</th>\n",
              "      <td>0.000061</td>\n",
              "      <td>0.000000</td>\n",
              "      <td>0.000000</td>\n",
              "      <td>0.001993</td>\n",
              "      <td>0.520957</td>\n",
              "      <td>0.000000</td>\n",
              "      <td>0.000031</td>\n",
              "      <td>0.006592</td>\n",
              "      <td>0.001410</td>\n",
              "      <td>0.468956</td>\n",
              "    </tr>\n",
              "    <tr>\n",
              "      <th>MUSICAL_KEYBOARDS</th>\n",
              "      <td>0.000602</td>\n",
              "      <td>0.001415</td>\n",
              "      <td>0.000783</td>\n",
              "      <td>0.012131</td>\n",
              "      <td>0.001776</td>\n",
              "      <td>0.000211</td>\n",
              "      <td>0.000241</td>\n",
              "      <td>0.067636</td>\n",
              "      <td>0.910451</td>\n",
              "      <td>0.004756</td>\n",
              "    </tr>\n",
              "    <tr>\n",
              "      <th>PANTS</th>\n",
              "      <td>0.000028</td>\n",
              "      <td>0.000028</td>\n",
              "      <td>0.000000</td>\n",
              "      <td>0.000695</td>\n",
              "      <td>0.515359</td>\n",
              "      <td>0.000028</td>\n",
              "      <td>0.001029</td>\n",
              "      <td>0.019042</td>\n",
              "      <td>0.000056</td>\n",
              "      <td>0.463737</td>\n",
              "    </tr>\n",
              "    <tr>\n",
              "      <th>PUREBRED_DOGS</th>\n",
              "      <td>0.001488</td>\n",
              "      <td>0.000061</td>\n",
              "      <td>0.001063</td>\n",
              "      <td>0.002156</td>\n",
              "      <td>0.003644</td>\n",
              "      <td>0.000972</td>\n",
              "      <td>0.000638</td>\n",
              "      <td>0.985909</td>\n",
              "      <td>0.000030</td>\n",
              "      <td>0.004039</td>\n",
              "    </tr>\n",
              "    <tr>\n",
              "      <th>RANGES</th>\n",
              "      <td>0.524858</td>\n",
              "      <td>0.457681</td>\n",
              "      <td>0.000061</td>\n",
              "      <td>0.002788</td>\n",
              "      <td>0.000214</td>\n",
              "      <td>0.000000</td>\n",
              "      <td>0.000031</td>\n",
              "      <td>0.014122</td>\n",
              "      <td>0.000061</td>\n",
              "      <td>0.000184</td>\n",
              "    </tr>\n",
              "    <tr>\n",
              "      <th>REFRIGERATORS</th>\n",
              "      <td>0.531668</td>\n",
              "      <td>0.436219</td>\n",
              "      <td>0.000368</td>\n",
              "      <td>0.003892</td>\n",
              "      <td>0.001072</td>\n",
              "      <td>0.000061</td>\n",
              "      <td>0.000306</td>\n",
              "      <td>0.024851</td>\n",
              "      <td>0.000031</td>\n",
              "      <td>0.001532</td>\n",
              "    </tr>\n",
              "    <tr>\n",
              "      <th>ROLLER_SKATES</th>\n",
              "      <td>0.000159</td>\n",
              "      <td>0.000128</td>\n",
              "      <td>0.000096</td>\n",
              "      <td>0.003857</td>\n",
              "      <td>0.548564</td>\n",
              "      <td>0.000064</td>\n",
              "      <td>0.000128</td>\n",
              "      <td>0.014568</td>\n",
              "      <td>0.000032</td>\n",
              "      <td>0.432406</td>\n",
              "    </tr>\n",
              "    <tr>\n",
              "      <th>SEWING_MACHINES</th>\n",
              "      <td>0.007485</td>\n",
              "      <td>0.001670</td>\n",
              "      <td>0.000000</td>\n",
              "      <td>0.956504</td>\n",
              "      <td>0.004112</td>\n",
              "      <td>0.000096</td>\n",
              "      <td>0.000193</td>\n",
              "      <td>0.026984</td>\n",
              "      <td>0.000000</td>\n",
              "      <td>0.002955</td>\n",
              "    </tr>\n",
              "    <tr>\n",
              "      <th>SHORTS</th>\n",
              "      <td>0.000000</td>\n",
              "      <td>0.000032</td>\n",
              "      <td>0.000000</td>\n",
              "      <td>0.000473</td>\n",
              "      <td>0.500836</td>\n",
              "      <td>0.000000</td>\n",
              "      <td>0.000410</td>\n",
              "      <td>0.021903</td>\n",
              "      <td>0.000000</td>\n",
              "      <td>0.476345</td>\n",
              "    </tr>\n",
              "    <tr>\n",
              "      <th>SUITCASES</th>\n",
              "      <td>0.000063</td>\n",
              "      <td>0.000095</td>\n",
              "      <td>0.000000</td>\n",
              "      <td>0.002058</td>\n",
              "      <td>0.539519</td>\n",
              "      <td>0.000190</td>\n",
              "      <td>0.001108</td>\n",
              "      <td>0.012920</td>\n",
              "      <td>0.000063</td>\n",
              "      <td>0.443984</td>\n",
              "    </tr>\n",
              "    <tr>\n",
              "      <th>WALL_CLOCKS</th>\n",
              "      <td>0.006111</td>\n",
              "      <td>0.008922</td>\n",
              "      <td>0.000000</td>\n",
              "      <td>0.005229</td>\n",
              "      <td>0.004739</td>\n",
              "      <td>0.000000</td>\n",
              "      <td>0.000065</td>\n",
              "      <td>0.970556</td>\n",
              "      <td>0.000000</td>\n",
              "      <td>0.004379</td>\n",
              "    </tr>\n",
              "    <tr>\n",
              "      <th>WINES</th>\n",
              "      <td>0.000287</td>\n",
              "      <td>0.000350</td>\n",
              "      <td>0.000064</td>\n",
              "      <td>0.001242</td>\n",
              "      <td>0.001433</td>\n",
              "      <td>0.000064</td>\n",
              "      <td>0.000064</td>\n",
              "      <td>0.995509</td>\n",
              "      <td>0.000000</td>\n",
              "      <td>0.000987</td>\n",
              "    </tr>\n",
              "    <tr>\n",
              "      <th>All</th>\n",
              "      <td>0.101718</td>\n",
              "      <td>0.090881</td>\n",
              "      <td>0.046501</td>\n",
              "      <td>0.148950</td>\n",
              "      <td>0.134643</td>\n",
              "      <td>0.049720</td>\n",
              "      <td>0.098356</td>\n",
              "      <td>0.164673</td>\n",
              "      <td>0.046940</td>\n",
              "      <td>0.117617</td>\n",
              "    </tr>\n",
              "  </tbody>\n",
              "</table>\n",
              "</div>"
            ],
            "text/plain": [
              "clusters                   0         1         2  ...         7         8         9\n",
              "category                                          ...                              \n",
              "BABY_CAR_SEATS      0.000205  0.000351  0.000059  ...  0.014050  0.000000  0.004069\n",
              "BABY_STROLLERS      0.000191  0.000159  0.000287  ...  0.016171  0.000032  0.010685\n",
              "COFFEE_MAKERS       0.427216  0.420465  0.000000  ...  0.047430  0.000057  0.002336\n",
              "ELECTRIC_DRILLS     0.001817  0.003018  0.000032  ...  0.012816  0.000000  0.001849\n",
              "HAIR_CLIPPERS       0.002286  0.001977  0.000000  ...  0.025176  0.000031  0.001267\n",
              "KITCHEN_SINKS       0.510723  0.465122  0.000000  ...  0.019324  0.000000  0.000326\n",
              "MATTRESSES          0.000121  0.000121  0.000000  ...  0.018928  0.000000  0.003124\n",
              "MEMORY_CARDS        0.000127  0.000634  0.949911  ...  0.037606  0.001679  0.001362\n",
              "MOTORCYCLE_JACKETS  0.000061  0.000000  0.000000  ...  0.006592  0.001410  0.468956\n",
              "MUSICAL_KEYBOARDS   0.000602  0.001415  0.000783  ...  0.067636  0.910451  0.004756\n",
              "PANTS               0.000028  0.000028  0.000000  ...  0.019042  0.000056  0.463737\n",
              "PUREBRED_DOGS       0.001488  0.000061  0.001063  ...  0.985909  0.000030  0.004039\n",
              "RANGES              0.524858  0.457681  0.000061  ...  0.014122  0.000061  0.000184\n",
              "REFRIGERATORS       0.531668  0.436219  0.000368  ...  0.024851  0.000031  0.001532\n",
              "ROLLER_SKATES       0.000159  0.000128  0.000096  ...  0.014568  0.000032  0.432406\n",
              "SEWING_MACHINES     0.007485  0.001670  0.000000  ...  0.026984  0.000000  0.002955\n",
              "SHORTS              0.000000  0.000032  0.000000  ...  0.021903  0.000000  0.476345\n",
              "SUITCASES           0.000063  0.000095  0.000000  ...  0.012920  0.000063  0.443984\n",
              "WALL_CLOCKS         0.006111  0.008922  0.000000  ...  0.970556  0.000000  0.004379\n",
              "WINES               0.000287  0.000350  0.000064  ...  0.995509  0.000000  0.000987\n",
              "All                 0.101718  0.090881  0.046501  ...  0.164673  0.046940  0.117617\n",
              "\n",
              "[21 rows x 10 columns]"
            ]
          },
          "metadata": {},
          "execution_count": 23
        }
      ]
    },
    {
      "cell_type": "markdown",
      "metadata": {
        "id": "PPAVZI9raLTf"
      },
      "source": [
        "En la tabla de porcentajes se reflejan resultados similares a los obtenidos en la tabla de cantidades.\n",
        "De todas formas intentaremos extraer algo de información.\n",
        "\n",
        "Se podrían separar a los agrupamientos encontrados en categorías; los agrupamientos **generales** y los agrupamientos **específicos**.\n",
        "\n",
        "- Un agrupamiento **general** es aquel que suele abarcar varias categorías, pero no tiende a ser completo (solo alcanza a tomar entre el 0.4 y el 0.5 de una clase). Comparten sus clases con otros clusters. Ejemplos de estos serían **0**, **1**, **4**, y **9**.\n",
        "\n",
        "- Un agrupamiento **específico** es aquel que suele comprender una única categoría casi en su totalidad (suelen superar el 0.9 de la clase). Cuando abarcan más de una clase no lo hacen de manera necesariamente coherente. Ejemplos de estos serían **2**, **3**, **5**, **6**, **7**, y **8**."
      ]
    },
    {
      "cell_type": "markdown",
      "metadata": {
        "id": "o3GGwhbqnKmZ"
      },
      "source": [
        "## 3. Conclusiones"
      ]
    },
    {
      "cell_type": "markdown",
      "metadata": {
        "id": "SGS2KqExdZJX"
      },
      "source": [
        "A lo largo del laboratorio se han realizado observaciones sobre los resultados obtenidos.\n",
        "Por lo que en esta parte del reporte no hay demasiado para adicionar al trabajo hecho.\n",
        "Quizás es importante notar que sería beneficioso, para nuestra comprensión del conjunto de datos, repetir el estudio planteado con una cantidad de agrupamientos diferente.\n",
        "Probablemente se consigan clusters totalmente diferentes, donde algunas podrían ser más coherentes a los hallados en el notebook."
      ]
    }
  ]
}